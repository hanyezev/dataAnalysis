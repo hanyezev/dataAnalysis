{
 "cells": [
  {
   "cell_type": "code",
   "execution_count": 4,
   "metadata": {
    "ExecuteTime": {
     "end_time": "2020-11-25T07:33:44.691433Z",
     "start_time": "2020-11-25T07:33:44.686431Z"
    }
   },
   "outputs": [],
   "source": [
    "import argparse\n",
    "import math\n",
    "import time\n",
    "\n",
    "import torch\n",
    "import torch.nn as nn\n",
    "import numpy as np;\n",
    "import importlib\n",
    "\n",
    "import torch\n",
    "import torch.nn as nn\n",
    "import torch.nn.functional as F\n",
    "import torch.optim as optim\n",
    "from torch.autograd import Variable"
   ]
  },
  {
   "cell_type": "code",
   "execution_count": 5,
   "metadata": {
    "ExecuteTime": {
     "end_time": "2020-11-25T07:34:03.690249Z",
     "start_time": "2020-11-25T07:34:03.676250Z"
    },
    "code_folding": [
     0
    ]
   },
   "outputs": [],
   "source": [
    "def evaluate(data, X, Y, model, evaluateL2, evaluateL1, batch_size):\n",
    "    model.eval();\n",
    "    total_loss = 0;\n",
    "    total_loss_l1 = 0;\n",
    "    n_samples = 0;\n",
    "    predict = None;\n",
    "    test = None;\n",
    "    \n",
    "    for X, Y in data.get_batches(X, Y, batch_size, False):\n",
    "        output = model(X);\n",
    "        if predict is None:\n",
    "            predict = output;\n",
    "            test = Y;\n",
    "        else:\n",
    "            predict = torch.cat((predict,output));\n",
    "            test = torch.cat((test, Y));\n",
    "        \n",
    "        scale = data.scale.expand(output.size(0), data.m)\n",
    "        total_loss += evaluateL2(output * scale, Y * scale).data[0]\n",
    "        total_loss_l1 += evaluateL1(output * scale, Y * scale).data[0]\n",
    "        n_samples += (output.size(0) * data.m);\n",
    "    rse = math.sqrt(total_loss / n_samples)/data.rse\n",
    "    rae = (total_loss_l1/n_samples)/data.rae\n",
    "    \n",
    "    predict = predict.data.cpu().numpy();\n",
    "    Ytest = test.data.cpu().numpy();\n",
    "    sigma_p = (predict).std(axis = 0);\n",
    "    sigma_g = (Ytest).std(axis = 0);\n",
    "    mean_p = predict.mean(axis = 0)\n",
    "    mean_g = Ytest.mean(axis = 0)\n",
    "    index = (sigma_g!=0);\n",
    "    correlation = ((predict - mean_p) * (Ytest - mean_g)).mean(axis = 0)/(sigma_p * sigma_g);\n",
    "    correlation = (correlation[index]).mean();\n",
    "    return rse, rae, correlation;"
   ]
  },
  {
   "cell_type": "code",
   "execution_count": 6,
   "metadata": {
    "ExecuteTime": {
     "end_time": "2020-11-25T07:34:14.461509Z",
     "start_time": "2020-11-25T07:34:14.453510Z"
    },
    "code_folding": [
     0
    ]
   },
   "outputs": [],
   "source": [
    "def train(data, X, Y, model, criterion, optim, batch_size):\n",
    "    model.train();\n",
    "    total_loss = 0;\n",
    "    n_samples = 0;\n",
    "    for X, Y in data.get_batches(X, Y, batch_size, True):\n",
    "        model.zero_grad();\n",
    "        output = model(X);\n",
    "        scale = data.scale.expand(output.size(0), data.m)\n",
    "        loss = criterion(output * scale, Y * scale);\n",
    "        loss.backward();\n",
    "        grad_norm = optim.step();\n",
    "        total_loss += loss.data[0];\n",
    "        n_samples += (output.size(0) * data.m);\n",
    "    return total_loss / n_samples"
   ]
  },
  {
   "cell_type": "code",
   "execution_count": null,
   "metadata": {},
   "outputs": [],
   "source": [
    "# parser = argparse.ArgumentParser(description='PyTorch Time series forecasting')\n",
    "# parser.add_argument('--data', type=str, required=True, help='location of the data file')\n",
    "data = r\"\"\n",
    "# parser.add_argument('--model', type=str, default='LSTNet',help='')\n",
    "model = \"LSTNet\"\n",
    "# parser.add_argument('--hidCNN', type=int, default=100, help='number of CNN hidden units')\n",
    "hidCNN = 100                  \n",
    "# parser.add_argument('--hidRNN', type=int, default=100, help='number of RNN hidden units')\n",
    "hidRNN =100\n",
    "# parser.add_argument('--window', type=int, default=24 * 7, help='window size')\n",
    "window = 24 * 7\n",
    "# parser.add_argument('--CNN_kernel', type=int, default=6,help='the kernel size of the CNN layers')\n",
    "CNN_kernel = 6\n",
    "# parser.add_argument('--highway_window', type=int, default=24,help='The window size of the highway component')\n",
    "highway_window = 24\n",
    "# parser.add_argument('--clip', type=float, default=10.,help='gradient clipping')\n",
    "clip = 10\n",
    "# parser.add_argument('--epochs', type=int, default=100,help='upper epoch limit')\n",
    "epochs = 100\n",
    "# parser.add_argument('--batch_size', type=int, default=128, metavar='N',help='batch size')\n",
    "batch_size = 128\n",
    "# parser.add_argument('--dropout', type=float, default=0.2,help='dropout applied to layers (0 = no dropout)')\n",
    "dropout = 0.2\n",
    "# parser.add_argument('--seed', type=int, default=54321,help='random seed')\n",
    "seed = 54321\n",
    "# parser.add_argument('--gpu', type=int, default=None)\n",
    "gpu =None\n",
    "# parser.add_argument('--log_interval', type=int, default=2000, metavar='N', help='report interval')\n",
    "log_interval = 2000\n",
    "# parser.add_argument('--save', type=str,  default='model/model.pt', help='path to save the final model')\n",
    "save = 'model/model.pt'\n",
    "# parser.add_argument('--cuda', type=str, default=True)\n",
    "cuda = True\n",
    "# parser.add_argument('--optim', type=str, default='adam')\n",
    "optim = adam\n",
    "# parser.add_argument('--lr', type=float, default=0.001)\n",
    "lr = 0.001\n",
    "# parser.add_argument('--horizon', type=int, default=12)\n",
    "horizon = 12\n",
    "# parser.add_argument('--skip', type=float, default=24)\n",
    "skip = 24\n",
    "# parser.add_argument('--hidSkip', type=int, default=5)\n",
    "hidSkip = 5\n",
    "# parser.add_argument('--L1Loss', type=bool, default=True)\n",
    "L1Loss = True\n",
    "# parser.add_argument('--normalize', type=int, default=2)\n",
    "normalize = 2\n",
    "# parser.add_argument('--output_fun', type=str, default='sigmoid')\n",
    "output_fun = sigmoid"
   ]
  }
 ],
 "metadata": {
  "kernelspec": {
   "display_name": "python38",
   "language": "python",
   "name": "env_py38"
  },
  "language_info": {
   "codemirror_mode": {
    "name": "ipython",
    "version": 3
   },
   "file_extension": ".py",
   "mimetype": "text/x-python",
   "name": "python",
   "nbconvert_exporter": "python",
   "pygments_lexer": "ipython3",
   "version": "3.8.2"
  },
  "toc": {
   "base_numbering": 1,
   "nav_menu": {},
   "number_sections": true,
   "sideBar": true,
   "skip_h1_title": false,
   "title_cell": "Table of Contents",
   "title_sidebar": "Contents",
   "toc_cell": false,
   "toc_position": {},
   "toc_section_display": true,
   "toc_window_display": false
  }
 },
 "nbformat": 4,
 "nbformat_minor": 4
}
