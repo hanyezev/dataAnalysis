{
 "cells": [
  {
   "cell_type": "code",
   "execution_count": 1,
   "metadata": {
    "ExecuteTime": {
     "end_time": "2020-12-26T09:10:15.402399Z",
     "start_time": "2020-12-26T09:10:15.400398Z"
    }
   },
   "outputs": [],
   "source": [
    "import re"
   ]
  },
  {
   "cell_type": "code",
   "execution_count": 14,
   "metadata": {
    "ExecuteTime": {
     "end_time": "2020-12-26T09:37:54.421409Z",
     "start_time": "2020-12-26T09:37:54.417303Z"
    }
   },
   "outputs": [],
   "source": [
    "# text = \"\\\\n\" \n",
    "# text = \"apple price $99 orange price $88\"\n",
    "# ret = re.search('.*(\\$\\d+).*(\\$\\d+)',text)\n",
    "# ret.group()\n",
    "# ret.group(1)\n",
    "# ret.groups()"
   ]
  },
  {
   "cell_type": "code",
   "execution_count": 18,
   "metadata": {
    "ExecuteTime": {
     "end_time": "2020-12-26T09:42:59.598401Z",
     "start_time": "2020-12-26T09:42:59.591400Z"
    }
   },
   "outputs": [
    {
     "data": {
      "text/plain": [
       "'20.50'"
      ]
     },
     "execution_count": 18,
     "metadata": {},
     "output_type": "execute_result"
    }
   ],
   "source": [
    "text = \"thr number is 20.50\"\n",
    "r = re.compile(r\"\"\"\n",
    "    \\d+ # 小数点前面的数字\n",
    "    \\.? # 小数点本身\n",
    "    \\d* # 小数点后面的数字\n",
    "\"\"\",re.VERBOSE)\n",
    "ret = re.search(r, text)\n",
    "ret.group()"
   ]
  },
  {
   "cell_type": "code",
   "execution_count": 3,
   "metadata": {
    "ExecuteTime": {
     "end_time": "2020-12-26T09:10:15.428400Z",
     "start_time": "2020-12-26T09:10:15.424402Z"
    }
   },
   "outputs": [],
   "source": [
    "text = \"ahello\""
   ]
  },
  {
   "cell_type": "code",
   "execution_count": 4,
   "metadata": {
    "ExecuteTime": {
     "end_time": "2020-12-26T09:10:15.438402Z",
     "start_time": "2020-12-26T09:10:15.430402Z"
    }
   },
   "outputs": [],
   "source": [
    "ret = re.match(\"he\",text)"
   ]
  },
  {
   "cell_type": "code",
   "execution_count": 5,
   "metadata": {
    "ExecuteTime": {
     "end_time": "2020-12-26T09:10:15.818430Z",
     "start_time": "2020-12-26T09:10:15.441403Z"
    }
   },
   "outputs": [
    {
     "ename": "AttributeError",
     "evalue": "'NoneType' object has no attribute 'group'",
     "output_type": "error",
     "traceback": [
      "\u001b[1;31m---------------------------------------------------------------------------\u001b[0m",
      "\u001b[1;31mAttributeError\u001b[0m                            Traceback (most recent call last)",
      "\u001b[1;32m<ipython-input-5-0c062bb84e23>\u001b[0m in \u001b[0;36m<module>\u001b[1;34m\u001b[0m\n\u001b[1;32m----> 1\u001b[1;33m \u001b[0mret\u001b[0m\u001b[1;33m.\u001b[0m\u001b[0mgroup\u001b[0m\u001b[1;33m(\u001b[0m\u001b[1;33m)\u001b[0m\u001b[1;33m\u001b[0m\u001b[1;33m\u001b[0m\u001b[0m\n\u001b[0m",
      "\u001b[1;31mAttributeError\u001b[0m: 'NoneType' object has no attribute 'group'"
     ]
    }
   ],
   "source": [
    "ret.group()"
   ]
  },
  {
   "cell_type": "code",
   "execution_count": null,
   "metadata": {},
   "outputs": [],
   "source": []
  }
 ],
 "metadata": {
  "kernelspec": {
   "display_name": "python38",
   "language": "python",
   "name": "env_py38"
  },
  "language_info": {
   "codemirror_mode": {
    "name": "ipython",
    "version": 3
   },
   "file_extension": ".py",
   "mimetype": "text/x-python",
   "name": "python",
   "nbconvert_exporter": "python",
   "pygments_lexer": "ipython3",
   "version": "3.8.2"
  },
  "toc": {
   "base_numbering": 1,
   "nav_menu": {},
   "number_sections": true,
   "sideBar": true,
   "skip_h1_title": false,
   "title_cell": "Table of Contents",
   "title_sidebar": "Contents",
   "toc_cell": false,
   "toc_position": {},
   "toc_section_display": true,
   "toc_window_display": false
  }
 },
 "nbformat": 4,
 "nbformat_minor": 4
}
