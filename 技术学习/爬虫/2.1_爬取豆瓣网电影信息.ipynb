{
 "cells": [
  {
   "cell_type": "code",
   "execution_count": 10,
   "metadata": {
    "ExecuteTime": {
     "end_time": "2020-12-20T08:21:28.601687Z",
     "start_time": "2020-12-20T08:21:28.597687Z"
    }
   },
   "outputs": [],
   "source": [
    "import requests\n",
    "from lxml import etree"
   ]
  },
  {
   "cell_type": "markdown",
   "metadata": {},
   "source": [
    "## 抓取页面"
   ]
  },
  {
   "cell_type": "code",
   "execution_count": 2,
   "metadata": {
    "ExecuteTime": {
     "end_time": "2020-12-20T08:16:59.771630Z",
     "start_time": "2020-12-20T08:16:58.900383Z"
    }
   },
   "outputs": [],
   "source": [
    "headers = {\n",
    "    'User-Agent':\"Mozilla/5.0 (Windows NT 10.0; Win64; x64) AppleWebKit/537.36 (KHTML, like Gecko) Chrome/87.0.4280.88 Safari/537.36\",\n",
    "    'Referer':\"https://movie.douban.com/\"\n",
    "}\n",
    "url = \"https://movie.douban.com/cinema/nowplaying/changsha/\"\n",
    "res = requests.get(url, headers=headers)"
   ]
  },
  {
   "cell_type": "code",
   "execution_count": 8,
   "metadata": {
    "ExecuteTime": {
     "end_time": "2020-12-20T08:20:42.379093Z",
     "start_time": "2020-12-20T08:20:42.376094Z"
    }
   },
   "outputs": [],
   "source": [
    "# print(res.text) # 返回一个解码后的字符串,str\n",
    "# print(res.content) # 返回原生字符串,bytes类型"
   ]
  },
  {
   "cell_type": "code",
   "execution_count": 9,
   "metadata": {
    "ExecuteTime": {
     "end_time": "2020-12-20T08:21:01.952089Z",
     "start_time": "2020-12-20T08:21:01.949090Z"
    }
   },
   "outputs": [],
   "source": [
    "text = res.text"
   ]
  },
  {
   "cell_type": "markdown",
   "metadata": {},
   "source": [
    "## 从抓取页面中提取数据"
   ]
  },
  {
   "cell_type": "code",
   "execution_count": 11,
   "metadata": {
    "ExecuteTime": {
     "end_time": "2020-12-20T08:21:43.863270Z",
     "start_time": "2020-12-20T08:21:43.848762Z"
    }
   },
   "outputs": [],
   "source": [
    "html = etree.HTML(text)"
   ]
  },
  {
   "cell_type": "code",
   "execution_count": 14,
   "metadata": {
    "ExecuteTime": {
     "end_time": "2020-12-20T08:27:08.581716Z",
     "start_time": "2020-12-20T08:27:08.576716Z"
    }
   },
   "outputs": [],
   "source": [
    "ul = html.xpath(\"//ul[@class='lists']\")[0]"
   ]
  },
  {
   "cell_type": "code",
   "execution_count": 18,
   "metadata": {
    "ExecuteTime": {
     "end_time": "2020-12-20T08:28:49.184487Z",
     "start_time": "2020-12-20T08:28:49.181486Z"
    }
   },
   "outputs": [],
   "source": [
    "# print(etree.tostring(ul,encoding=\"utf-8\").decode(\"utf-8\"))"
   ]
  },
  {
   "cell_type": "code",
   "execution_count": 27,
   "metadata": {
    "ExecuteTime": {
     "end_time": "2020-12-20T08:41:17.516479Z",
     "start_time": "2020-12-20T08:41:17.500956Z"
    }
   },
   "outputs": [],
   "source": [
    "lis = ul.xpath(\"./li\")\n",
    "movies = []\n",
    "for li in lis:\n",
    "    title = li.xpath(\"@data-title\")[0]\n",
    "    score = li.xpath(\"@data-score\")[0]\n",
    "    duration = li.xpath(\"@data-duration\")[0]\n",
    "    region = li.xpath(\"@data-region\")[0]\n",
    "    director = li.xpath(\"@data-director\")[0]\n",
    "    actors = li.xpath(\"@data-actors\")[0]\n",
    "    thumbnail = li.xpath(\".//img/@src\")[0]\n",
    "    movie = {\n",
    "        \"title\":title,\n",
    "        \"score\":score,\n",
    "        \"duration\":duration,\n",
    "        \"region\":region,\n",
    "        \"director\":director,\n",
    "        \"actors\":actors,\n",
    "        \"thumbnail\":thumbnail\n",
    "    }\n",
    "    movies.append(movie)"
   ]
  },
  {
   "cell_type": "code",
   "execution_count": 28,
   "metadata": {
    "ExecuteTime": {
     "end_time": "2020-12-20T08:41:22.437584Z",
     "start_time": "2020-12-20T08:41:22.424584Z"
    }
   },
   "outputs": [
    {
     "data": {
      "text/plain": [
       "[{'title': '神奇女侠1984',\n",
       "  'score': '6.7',\n",
       "  'duration': '151分钟',\n",
       "  'region': '美国 英国 西班牙',\n",
       "  'director': '派蒂·杰金斯',\n",
       "  'actors': '盖尔·加朵 / 克里斯·派恩 / 克里斯汀·韦格',\n",
       "  'thumbnail': 'https://img1.doubanio.com/view/photo/s_ratio_poster/public/p2626959989.jpg'},\n",
       " {'title': '紧急救援',\n",
       "  'score': '6.3',\n",
       "  'duration': '138分钟',\n",
       "  'region': '中国大陆 中国香港',\n",
       "  'director': '林超贤',\n",
       "  'actors': '彭于晏 / 王彦霖 / 辛芷蕾',\n",
       "  'thumbnail': 'https://img9.doubanio.com/view/photo/s_ratio_poster/public/p2627025706.jpg'},\n",
       " {'title': '棒！少年',\n",
       "  'score': '8.7',\n",
       "  'duration': '108分钟',\n",
       "  'region': '中国大陆',\n",
       "  'director': '许慧晶',\n",
       "  'actors': '马虎 / 梁正双 / 张锦新',\n",
       "  'thumbnail': 'https://img9.doubanio.com/view/photo/s_ratio_poster/public/p2627027305.jpg'},\n",
       " {'title': '沐浴之王',\n",
       "  'score': '6.5',\n",
       "  'duration': '103分钟',\n",
       "  'region': '中国大陆',\n",
       "  'director': '易小星',\n",
       "  'actors': '彭昱畅 / 乔杉 / 卜冠今',\n",
       "  'thumbnail': 'https://img2.doubanio.com/view/photo/s_ratio_poster/public/p2627788612.jpg'},\n",
       " {'title': '一秒钟',\n",
       "  'score': '7.8',\n",
       "  'duration': '104分钟',\n",
       "  'region': '中国大陆',\n",
       "  'director': '张艺谋',\n",
       "  'actors': '张译 / 刘浩存 / 范伟',\n",
       "  'thumbnail': 'https://img1.doubanio.com/view/photo/s_ratio_poster/public/p2628373757.jpg'},\n",
       " {'title': '疯狂原始人2',\n",
       "  'score': '8.1',\n",
       "  'duration': '95分钟',\n",
       "  'region': '美国',\n",
       "  'director': '乔尔·克劳福德',\n",
       "  'actors': '尼古拉斯·凯奇 / 艾玛·斯通 / 瑞恩·雷诺兹',\n",
       "  'thumbnail': 'https://img9.doubanio.com/view/photo/s_ratio_poster/public/p2624607255.jpg'},\n",
       " {'title': '猎杀T34',\n",
       "  'score': '7.5',\n",
       "  'duration': '126分钟(中国大陆)',\n",
       "  'region': '俄罗斯',\n",
       "  'director': '阿列克赛·西多洛夫',\n",
       "  'actors': '亚历山大·佩特罗夫 / 文森兹·凯弗 / 伊琳娜·斯达申鲍姆',\n",
       "  'thumbnail': 'https://img2.doubanio.com/view/photo/s_ratio_poster/public/p2627487532.jpg'},\n",
       " {'title': '隐形人',\n",
       "  'score': '7.2',\n",
       "  'duration': '124分钟',\n",
       "  'region': '加拿大 澳大利亚 美国',\n",
       "  'director': '雷·沃纳尔',\n",
       "  'actors': '伊丽莎白·莫斯 / 奥利弗·杰森-科恩 / 阿尔迪斯·霍吉',\n",
       "  'thumbnail': 'https://img9.doubanio.com/view/photo/s_ratio_poster/public/p2624945594.jpg'},\n",
       " {'title': '赤狐书生',\n",
       "  'score': '5.2',\n",
       "  'duration': '125分钟',\n",
       "  'region': '中国大陆',\n",
       "  'director': '宋灏霖 伊力奇',\n",
       "  'actors': '陈立农 / 李现 / 哈妮克孜',\n",
       "  'thumbnail': 'https://img1.doubanio.com/view/photo/s_ratio_poster/public/p2627575957.jpg'},\n",
       " {'title': '哆啦A梦：大雄的新恐龙',\n",
       "  'score': '7.5',\n",
       "  'duration': '110分钟',\n",
       "  'region': '日本',\n",
       "  'director': '今井一晓',\n",
       "  'actors': '水田山葵 / 大原惠美 / 嘉数由美',\n",
       "  'thumbnail': 'https://img9.doubanio.com/view/photo/s_ratio_poster/public/p2624375776.jpg'},\n",
       " {'title': '拆弹专家2',\n",
       "  'score': '0',\n",
       "  'duration': '121分钟',\n",
       "  'region': '中国香港',\n",
       "  'director': '邱礼涛',\n",
       "  'actors': '刘德华 / 刘青云 / 倪妮',\n",
       "  'thumbnail': 'https://img3.doubanio.com/view/photo/s_ratio_poster/public/p2621379901.jpg'},\n",
       " {'title': '如果声音不记得',\n",
       "  'score': '4.1',\n",
       "  'duration': '102分钟',\n",
       "  'region': '中国大陆',\n",
       "  'director': '落落',\n",
       "  'actors': '章若楠 / 孙晨竣 / 王彦霖',\n",
       "  'thumbnail': 'https://img2.doubanio.com/view/photo/s_ratio_poster/public/p2627432193.jpg'},\n",
       " {'title': '除暴',\n",
       "  'score': '6.5',\n",
       "  'duration': '95分钟',\n",
       "  'region': '中国香港 中国大陆',\n",
       "  'director': '刘浩良',\n",
       "  'actors': '王千源 / 吴彦祖 / 春夏',\n",
       "  'thumbnail': 'https://img1.doubanio.com/view/photo/s_ratio_poster/public/p2625777429.jpg'},\n",
       " {'title': '城市猎人',\n",
       "  'score': '7.0',\n",
       "  'duration': '89分钟(中国大陆)',\n",
       "  'region': '法国',\n",
       "  'director': '菲利普·拉肖',\n",
       "  'actors': '菲利普·拉肖 / 艾洛蒂·丰唐 / 塔雷克·布达里',\n",
       "  'thumbnail': 'https://img1.doubanio.com/view/photo/s_ratio_poster/public/p2626879808.jpg'},\n",
       " {'title': '奇妙王国之魔法奇缘',\n",
       "  'score': '0',\n",
       "  'duration': '80分钟',\n",
       "  'region': '中国大陆',\n",
       "  'director': '陈设',\n",
       "  'actors': '卢瑶 / 张洋 / 陈新玥',\n",
       "  'thumbnail': 'https://img3.doubanio.com/view/photo/s_ratio_poster/public/p2614907771.jpg'},\n",
       " {'title': '宝可梦：超梦的逆袭 进化',\n",
       "  'score': '6.4',\n",
       "  'duration': '97分钟(中国大陆)',\n",
       "  'region': '日本',\n",
       "  'director': '汤山邦彦 榊原幹典',\n",
       "  'actors': '松本梨香 / 大谷育江 / 市村正亲',\n",
       "  'thumbnail': 'https://img1.doubanio.com/view/photo/s_ratio_poster/public/p2625913008.jpg'},\n",
       " {'title': '日光之下',\n",
       "  'score': '6.6',\n",
       "  'duration': '104分钟',\n",
       "  'region': '中国大陆',\n",
       "  'director': '梁鸣',\n",
       "  'actors': '吕星辰 / 吴晓亮 / 王佳佳',\n",
       "  'thumbnail': 'https://img9.doubanio.com/view/photo/s_ratio_poster/public/p2625833086.jpg'},\n",
       " {'title': '闺蜜心窍',\n",
       "  'score': '0',\n",
       "  'duration': '88分钟',\n",
       "  'region': '中国大陆 韩国',\n",
       "  'director': '洪斗贤',\n",
       "  'actors': '金晨 / 姜潮 / 朱璇',\n",
       "  'thumbnail': 'https://img2.doubanio.com/view/photo/s_ratio_poster/public/p2623348372.jpg'},\n",
       " {'title': '少女佳禾',\n",
       "  'score': '5.9',\n",
       "  'duration': '100分钟',\n",
       "  'region': '中国大陆',\n",
       "  'director': '周笋',\n",
       "  'actors': '邓恩熙 / 李感 / 吴国华',\n",
       "  'thumbnail': 'https://img9.doubanio.com/view/photo/s_ratio_poster/public/p2627779454.jpg'},\n",
       " {'title': '汪汪队立大功之超能救援',\n",
       "  'score': '6.1',\n",
       "  'duration': '89分钟',\n",
       "  'region': '美国 加拿大',\n",
       "  'director': '安德鲁·斯特里梅迪斯',\n",
       "  'actors': '麦克斯·卡林内斯库 / 德文·科恩 / 德鲁·戴维斯',\n",
       "  'thumbnail': 'https://img3.doubanio.com/view/photo/s_ratio_poster/public/p2624458010.jpg'},\n",
       " {'title': '太空熊猫英雄诞生',\n",
       "  'score': '0',\n",
       "  'duration': '77分钟',\n",
       "  'region': '中国大陆',\n",
       "  'director': '李杨 陈磊',\n",
       "  'actors': '唐泽宗 / 郑方 / 王雪沁',\n",
       "  'thumbnail': 'https://img2.doubanio.com/view/photo/s_ratio_poster/public/p2628313662.jpg'},\n",
       " {'title': '半条棉被',\n",
       "  'score': '5.5',\n",
       "  'duration': '97分钟',\n",
       "  'region': '中国大陆',\n",
       "  'director': '孟奇',\n",
       "  'actors': '陶慧 / 童蕾',\n",
       "  'thumbnail': 'https://img1.doubanio.com/view/photo/s_ratio_poster/public/p2619202748.jpg'}]"
      ]
     },
     "execution_count": 28,
     "metadata": {},
     "output_type": "execute_result"
    }
   ],
   "source": [
    "movies"
   ]
  },
  {
   "cell_type": "code",
   "execution_count": null,
   "metadata": {},
   "outputs": [],
   "source": []
  }
 ],
 "metadata": {
  "kernelspec": {
   "display_name": "python38",
   "language": "python",
   "name": "env_py38"
  },
  "language_info": {
   "codemirror_mode": {
    "name": "ipython",
    "version": 3
   },
   "file_extension": ".py",
   "mimetype": "text/x-python",
   "name": "python",
   "nbconvert_exporter": "python",
   "pygments_lexer": "ipython3",
   "version": "3.8.2"
  },
  "toc": {
   "base_numbering": 1,
   "nav_menu": {},
   "number_sections": true,
   "sideBar": true,
   "skip_h1_title": false,
   "title_cell": "Table of Contents",
   "title_sidebar": "Contents",
   "toc_cell": false,
   "toc_position": {},
   "toc_section_display": true,
   "toc_window_display": true
  }
 },
 "nbformat": 4,
 "nbformat_minor": 4
}
