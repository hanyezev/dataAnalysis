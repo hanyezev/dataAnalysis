{
 "cells": [
  {
   "cell_type": "code",
   "execution_count": 12,
   "metadata": {
    "ExecuteTime": {
     "end_time": "2020-12-27T07:20:23.286040Z",
     "start_time": "2020-12-27T07:20:23.281966Z"
    }
   },
   "outputs": [],
   "source": [
    "import threading\n",
    "import time"
   ]
  },
  {
   "cell_type": "code",
   "execution_count": 13,
   "metadata": {
    "ExecuteTime": {
     "end_time": "2020-12-27T07:20:23.489782Z",
     "start_time": "2020-12-27T07:20:23.483777Z"
    }
   },
   "outputs": [],
   "source": [
    "def coding():\n",
    "    for x in range(3):\n",
    "        print(f\"正在写代码{x}\")\n",
    "        time.sleep(1)"
   ]
  },
  {
   "cell_type": "code",
   "execution_count": 14,
   "metadata": {
    "ExecuteTime": {
     "end_time": "2020-12-27T07:20:23.647700Z",
     "start_time": "2020-12-27T07:20:23.642699Z"
    }
   },
   "outputs": [],
   "source": [
    "def drawing():\n",
    "    for x in range(3):\n",
    "        print(f\"正在画画{x}\")\n",
    "        time.sleep(1)"
   ]
  },
  {
   "cell_type": "code",
   "execution_count": 15,
   "metadata": {
    "ExecuteTime": {
     "end_time": "2020-12-27T07:20:29.825394Z",
     "start_time": "2020-12-27T07:20:23.821743Z"
    }
   },
   "outputs": [
    {
     "name": "stdout",
     "output_type": "stream",
     "text": [
      "正在写代码0\n",
      "正在写代码1\n",
      "正在写代码2\n",
      "正在画画0\n",
      "正在画画1\n",
      "正在画画2\n"
     ]
    }
   ],
   "source": [
    "coding()\n",
    "drawing()"
   ]
  },
  {
   "cell_type": "code",
   "execution_count": 16,
   "metadata": {
    "ExecuteTime": {
     "end_time": "2020-12-27T07:20:29.833294Z",
     "start_time": "2020-12-27T07:20:29.827293Z"
    }
   },
   "outputs": [],
   "source": [
    "t1 = threading.Thread(target=coding)\n",
    "t2 = threading.Thread(target=drawing)"
   ]
  },
  {
   "cell_type": "code",
   "execution_count": 17,
   "metadata": {
    "ExecuteTime": {
     "end_time": "2020-12-27T07:20:29.860204Z",
     "start_time": "2020-12-27T07:20:29.839229Z"
    }
   },
   "outputs": [
    {
     "name": "stdout",
     "output_type": "stream",
     "text": [
      "正在写代码0正在画画0\n",
      "\n",
      "[<_MainThread(MainThread, started 10700)>, <Thread(Thread-4, started daemon 31936)>, <Heartbeat(Thread-5, started daemon 17888)>, <HistorySavingThread(IPythonHistorySavingThread, started 3020)>, <ParentPollerWindows(Thread-3, started daemon 5036)>, <Thread(Thread-10, started 19364)>, <Thread(Thread-11, started 17692)>]\n",
      "正在写代码1正在画画1\n",
      "\n",
      "正在画画2\n",
      "正在写代码2\n"
     ]
    }
   ],
   "source": [
    "t1.start()\n",
    "t2.start()\n",
    "print(threading.enumerate())"
   ]
  },
  {
   "cell_type": "code",
   "execution_count": 18,
   "metadata": {
    "ExecuteTime": {
     "end_time": "2020-12-27T07:25:09.236128Z",
     "start_time": "2020-12-27T07:25:09.232622Z"
    }
   },
   "outputs": [],
   "source": [
    "####################"
   ]
  },
  {
   "cell_type": "code",
   "execution_count": 20,
   "metadata": {
    "ExecuteTime": {
     "end_time": "2020-12-27T07:26:49.861521Z",
     "start_time": "2020-12-27T07:26:49.854518Z"
    }
   },
   "outputs": [],
   "source": [
    "class CodingThread(threading.Thread):\n",
    "    def run(self):\n",
    "        for x in range(3):\n",
    "            print(f\"正在写代码{x}\")\n",
    "            time.sleep(1)"
   ]
  },
  {
   "cell_type": "code",
   "execution_count": 21,
   "metadata": {
    "ExecuteTime": {
     "end_time": "2020-12-27T07:27:10.624888Z",
     "start_time": "2020-12-27T07:27:10.619885Z"
    }
   },
   "outputs": [],
   "source": [
    "class DrawingThread(threading.Thread):\n",
    "    def run(self):\n",
    "        for x in range(3):\n",
    "            print(f\"正在画图{x}\")\n",
    "            time.sleep(1)"
   ]
  },
  {
   "cell_type": "code",
   "execution_count": 23,
   "metadata": {
    "ExecuteTime": {
     "end_time": "2020-12-27T07:27:46.691373Z",
     "start_time": "2020-12-27T07:27:46.687338Z"
    }
   },
   "outputs": [],
   "source": [
    "t1 = CodingThread()\n",
    "t2 = DrawingThread()"
   ]
  },
  {
   "cell_type": "code",
   "execution_count": 24,
   "metadata": {
    "ExecuteTime": {
     "end_time": "2020-12-27T07:27:58.131351Z",
     "start_time": "2020-12-27T07:27:58.117741Z"
    }
   },
   "outputs": [
    {
     "name": "stdout",
     "output_type": "stream",
     "text": [
      "正在写代码0\n",
      "正在画图0\n",
      "正在写代码1\n",
      "正在画图1\n",
      "正在写代码2\n",
      "正在画图2\n"
     ]
    }
   ],
   "source": [
    "t1.start()\n",
    "t2.start()"
   ]
  },
  {
   "cell_type": "markdown",
   "metadata": {},
   "source": [
    "### 多线程共享全局变量的问题"
   ]
  },
  {
   "cell_type": "code",
   "execution_count": 32,
   "metadata": {
    "ExecuteTime": {
     "end_time": "2020-12-27T07:50:05.072673Z",
     "start_time": "2020-12-27T07:50:05.068676Z"
    }
   },
   "outputs": [],
   "source": [
    "import threading"
   ]
  },
  {
   "cell_type": "code",
   "execution_count": 33,
   "metadata": {
    "ExecuteTime": {
     "end_time": "2020-12-27T07:50:05.478877Z",
     "start_time": "2020-12-27T07:50:05.475876Z"
    }
   },
   "outputs": [],
   "source": [
    "VALUE = 0\n",
    "gLock = threading.Lock()"
   ]
  },
  {
   "cell_type": "code",
   "execution_count": 34,
   "metadata": {
    "ExecuteTime": {
     "end_time": "2020-12-27T07:50:05.950282Z",
     "start_time": "2020-12-27T07:50:05.945279Z"
    }
   },
   "outputs": [],
   "source": [
    "def add_value():\n",
    "    global VALUE\n",
    "    gLock.acquire()\n",
    "    for i in range(1000000):\n",
    "        VALUE += 1\n",
    "    gLock.release()\n",
    "    print(f\"Value:{VALUE}\")"
   ]
  },
  {
   "cell_type": "code",
   "execution_count": 35,
   "metadata": {
    "ExecuteTime": {
     "end_time": "2020-12-27T07:50:06.482267Z",
     "start_time": "2020-12-27T07:50:06.417996Z"
    }
   },
   "outputs": [
    {
     "name": "stdout",
     "output_type": "stream",
     "text": [
      "Value:1000000\n",
      "Value:2000000\n"
     ]
    }
   ],
   "source": [
    "for i in range(2):\n",
    "    t = threading.Thread(target=add_value)\n",
    "    t.start()"
   ]
  },
  {
   "cell_type": "markdown",
   "metadata": {},
   "source": [
    "### 生产者和消费者问题"
   ]
  },
  {
   "cell_type": "code",
   "execution_count": 88,
   "metadata": {
    "ExecuteTime": {
     "end_time": "2020-12-27T09:23:22.499566Z",
     "start_time": "2020-12-27T09:23:22.496566Z"
    }
   },
   "outputs": [
    {
     "name": "stdout",
     "output_type": "stream",
     "text": [
      "<Consumer(Thread-39, started 33132)>准备消费443元钱,剩余87元钱,余额不足.\n",
      "<Consumer(Thread-40, started 31064)>准备消费118元钱,剩余87元钱,余额不足.\n",
      "<Consumer(Thread-38, started 32316)>准备消费529元钱,剩余87元钱,余额不足.\n"
     ]
    }
   ],
   "source": [
    "import random\n",
    "import threading"
   ]
  },
  {
   "cell_type": "code",
   "execution_count": 89,
   "metadata": {
    "ExecuteTime": {
     "end_time": "2020-12-27T09:23:23.015295Z",
     "start_time": "2020-12-27T09:23:23.009294Z"
    }
   },
   "outputs": [
    {
     "name": "stdout",
     "output_type": "stream",
     "text": [
      "<Consumer(Thread-40, started 31064)>消费了745元钱,剩余255元钱\n",
      "<Consumer(Thread-39, started 33132)>准备消费797元钱,剩余255元钱,余额不足.\n",
      "<Consumer(Thread-38, started 32316)>准备消费779元钱,剩余255元钱,余额不足.\n",
      "<Consumer(Thread-40, started 31064)>准备消费763元钱,剩余255元钱,余额不足.\n",
      "<Consumer(Thread-39, started 33132)>消费了208元钱,剩余47元钱\n",
      "<Consumer(Thread-38, started 32316)>准备消费760元钱,剩余47元钱,余额不足.\n",
      "<Consumer(Thread-40, started 31064)>准备消费955元钱,剩余47元钱,余额不足.\n",
      "<Consumer(Thread-39, started 33132)>准备消费241元钱,剩余47元钱,余额不足.\n",
      "<Consumer(Thread-38, started 32316)>准备消费121元钱,剩余47元钱,余额不足.\n",
      "<Consumer(Thread-40, started 31064)>准备消费877元钱,剩余47元钱,余额不足.\n",
      "<Consumer(Thread-38, started 32316)>准备消费563元钱,剩余47元钱,余额不足.\n",
      "<Consumer(Thread-39, started 33132)>准备消费259元钱,剩余47元钱,余额不足.\n",
      "<Consumer(Thread-40, started 31064)>准备消费501元钱,剩余47元钱,余额不足.\n",
      "<Consumer(Thread-39, started 33132)>准备消费497元钱,剩余47元钱,余额不足.\n",
      "<Consumer(Thread-38, started 32316)>准备消费860元钱,剩余47元钱,余额不足.\n",
      "<Consumer(Thread-40, started 31064)>准备消费178元钱,剩余47元钱,余额不足.\n",
      "<Consumer(Thread-38, started 32316)>准备消费766元钱,剩余47元钱,余额不足.\n",
      "<Consumer(Thread-39, started 33132)>准备消费532元钱,剩余47元钱,余额不足.\n",
      "<Consumer(Thread-40, started 31064)>准备消费301元钱,剩余47元钱,余额不足.\n",
      "<Consumer(Thread-39, started 33132)>准备消费634元钱,剩余47元钱,余额不足.\n",
      "<Consumer(Thread-38, started 32316)>准备消费189元钱,剩余47元钱,余额不足.\n",
      "<Consumer(Thread-40, started 31064)>准备消费820元钱,剩余47元钱,余额不足.\n",
      "<Consumer(Thread-38, started 32316)>准备消费433元钱,剩余47元钱,余额不足.\n",
      "<Consumer(Thread-39, started 33132)>准备消费399元钱,剩余47元钱,余额不足.\n",
      "<Consumer(Thread-40, started 31064)>准备消费139元钱,剩余47元钱,余额不足.\n",
      "<Consumer(Thread-39, started 33132)>准备消费485元钱,剩余47元钱,余额不足.\n",
      "<Consumer(Thread-38, started 32316)>准备消费273元钱,剩余47元钱,余额不足.\n",
      "<Consumer(Thread-40, started 31064)>准备消费840元钱,剩余47元钱,余额不足.\n",
      "<Consumer(Thread-39, started 33132)>准备消费513元钱,剩余47元钱,余额不足.\n",
      "<Consumer(Thread-38, started 32316)>准备消费365元钱,剩余47元钱,余额不足.\n",
      "<Consumer(Thread-40, started 31064)>准备消费876元钱,剩余47元钱,余额不足.\n",
      "<Consumer(Thread-39, started 33132)>准备消费957元钱,剩余47元钱,余额不足.\n",
      "<Consumer(Thread-38, started 32316)>准备消费855元钱,剩余47元钱,余额不足.\n",
      "<Consumer(Thread-38, started 32316)>准备消费997元钱,剩余47元钱,余额不足.\n",
      "<Consumer(Thread-40, started 31064)>准备消费298元钱,剩余47元钱,余额不足.\n",
      "<Consumer(Thread-39, started 33132)>准备消费792元钱,剩余47元钱,余额不足.\n",
      "<Consumer(Thread-39, started 33132)>准备消费420元钱,剩余47元钱,余额不足.\n",
      "<Consumer(Thread-40, started 31064)>准备消费286元钱,剩余47元钱,余额不足.\n",
      "<Consumer(Thread-38, started 32316)>准备消费892元钱,剩余47元钱,余额不足.\n",
      "<Consumer(Thread-39, started 33132)>准备消费413元钱,剩余47元钱,余额不足.\n",
      "<Consumer(Thread-40, started 31064)>准备消费388元钱,剩余47元钱,余额不足.\n",
      "<Consumer(Thread-38, started 32316)>准备消费643元钱,剩余47元钱,余额不足.\n",
      "<Consumer(Thread-39, started 33132)>准备消费273元钱,剩余47元钱,余额不足.\n",
      "<Consumer(Thread-40, started 31064)>准备消费332元钱,剩余47元钱,余额不足.\n",
      "<Consumer(Thread-38, started 32316)>准备消费259元钱,剩余47元钱,余额不足.\n",
      "<Consumer(Thread-40, started 31064)>准备消费756元钱,剩余47元钱,余额不足.\n",
      "<Consumer(Thread-39, started 33132)>准备消费889元钱,剩余47元钱,余额不足.\n",
      "<Consumer(Thread-38, started 32316)>准备消费200元钱,剩余47元钱,余额不足.\n",
      "<Consumer(Thread-40, started 31064)>准备消费582元钱,剩余47元钱,余额不足.\n",
      "<Consumer(Thread-39, started 33132)>准备消费511元钱,剩余47元钱,余额不足.\n",
      "<Consumer(Thread-38, started 32316)>准备消费668元钱,剩余47元钱,余额不足.\n",
      "<Consumer(Thread-39, started 33132)>准备消费876元钱,剩余47元钱,余额不足.\n",
      "<Consumer(Thread-38, started 32316)>准备消费487元钱,剩余47元钱,余额不足.\n",
      "<Consumer(Thread-40, started 31064)>准备消费245元钱,剩余47元钱,余额不足.\n",
      "<Consumer(Thread-39, started 33132)>准备消费959元钱,剩余47元钱,余额不足.\n",
      "<Consumer(Thread-40, started 31064)>准备消费464元钱,剩余47元钱,余额不足.\n",
      "<Consumer(Thread-38, started 32316)>准备消费653元钱,剩余47元钱,余额不足.\n",
      "<Consumer(Thread-39, started 33132)>准备消费104元钱,剩余47元钱,余额不足.\n",
      "<Consumer(Thread-40, started 31064)>准备消费124元钱,剩余47元钱,余额不足.\n",
      "<Consumer(Thread-38, started 32316)>准备消费206元钱,剩余47元钱,余额不足.\n",
      "<Consumer(Thread-39, started 33132)>准备消费655元钱,剩余47元钱,余额不足.\n",
      "<Consumer(Thread-40, started 31064)>准备消费826元钱,剩余47元钱,余额不足.\n",
      "<Consumer(Thread-38, started 32316)>准备消费557元钱,剩余47元钱,余额不足.\n",
      "<Consumer(Thread-39, started 33132)>准备消费351元钱,剩余47元钱,余额不足.\n",
      "<Consumer(Thread-40, started 31064)>准备消费844元钱,剩余47元钱,余额不足.\n",
      "<Consumer(Thread-38, started 32316)>准备消费763元钱,剩余47元钱,余额不足.\n",
      "<Consumer(Thread-40, started 31064)>准备消费564元钱,剩余47元钱,余额不足.\n",
      "<Consumer(Thread-39, started 33132)>准备消费186元钱,剩余47元钱,余额不足.\n",
      "<Consumer(Thread-38, started 32316)>准备消费237元钱,剩余47元钱,余额不足.\n",
      "<Consumer(Thread-38, started 32316)>准备消费342元钱,剩余47元钱,余额不足.\n",
      "<Consumer(Thread-39, started 33132)>准备消费227元钱,剩余47元钱,余额不足.\n",
      "<Consumer(Thread-40, started 31064)>准备消费758元钱,剩余47元钱,余额不足.\n",
      "<Consumer(Thread-38, started 32316)>准备消费108元钱,剩余47元钱,余额不足.\n",
      "<Consumer(Thread-39, started 33132)>准备消费319元钱,剩余47元钱,余额不足.\n",
      "<Consumer(Thread-40, started 31064)>准备消费243元钱,剩余47元钱,余额不足.\n",
      "<Consumer(Thread-38, started 32316)>准备消费940元钱,剩余47元钱,余额不足.\n",
      "<Consumer(Thread-40, started 31064)>准备消费730元钱,剩余47元钱,余额不足.\n",
      "<Consumer(Thread-39, started 33132)>准备消费781元钱,剩余47元钱,余额不足.\n",
      "<Consumer(Thread-38, started 32316)>准备消费524元钱,剩余47元钱,余额不足.\n",
      "<Consumer(Thread-39, started 33132)>准备消费745元钱,剩余47元钱,余额不足.\n",
      "<Consumer(Thread-40, started 31064)>准备消费353元钱,剩余47元钱,余额不足.\n",
      "<Consumer(Thread-38, started 32316)>准备消费125元钱,剩余47元钱,余额不足.\n",
      "<Consumer(Thread-39, started 33132)>准备消费329元钱,剩余47元钱,余额不足.\n",
      "<Consumer(Thread-40, started 31064)>准备消费638元钱,剩余47元钱,余额不足.\n",
      "<Consumer(Thread-38, started 32316)>准备消费597元钱,剩余47元钱,余额不足.\n",
      "<Consumer(Thread-39, started 33132)>准备消费759元钱,剩余47元钱,余额不足.\n",
      "<Consumer(Thread-40, started 31064)>准备消费312元钱,剩余47元钱,余额不足.\n",
      "<Consumer(Thread-38, started 32316)>准备消费299元钱,剩余47元钱,余额不足.\n",
      "<Consumer(Thread-40, started 31064)>准备消费943元钱,剩余47元钱,余额不足.\n",
      "<Consumer(Thread-39, started 33132)>准备消费808元钱,剩余47元钱,余额不足.\n",
      "<Consumer(Thread-38, started 32316)>准备消费456元钱,剩余47元钱,余额不足.\n",
      "<Consumer(Thread-39, started 33132)>准备消费339元钱,剩余47元钱,余额不足.\n",
      "<Consumer(Thread-40, started 31064)>准备消费135元钱,剩余47元钱,余额不足.\n",
      "<Consumer(Thread-38, started 32316)>准备消费110元钱,剩余47元钱,余额不足.\n",
      "<Consumer(Thread-40, started 31064)>准备消费974元钱,剩余47元钱,余额不足.\n",
      "<Consumer(Thread-39, started 33132)>准备消费691元钱,剩余47元钱,余额不足.\n",
      "<Consumer(Thread-38, started 32316)>准备消费261元钱,剩余47元钱,余额不足.\n",
      "<Consumer(Thread-39, started 33132)>准备消费704元钱,剩余47元钱,余额不足.\n",
      "<Consumer(Thread-40, started 31064)>准备消费985元钱,剩余47元钱,余额不足.\n",
      "<Consumer(Thread-38, started 32316)>准备消费917元钱,剩余47元钱,余额不足.\n",
      "<Consumer(Thread-40, started 31064)>准备消费905元钱,剩余47元钱,余额不足.\n",
      "<Consumer(Thread-39, started 33132)>准备消费539元钱,剩余47元钱,余额不足.\n",
      "<Consumer(Thread-38, started 32316)>准备消费916元钱,剩余47元钱,余额不足.\n",
      "<Consumer(Thread-39, started 33132)>准备消费276元钱,剩余47元钱,余额不足.\n",
      "<Consumer(Thread-40, started 31064)>准备消费587元钱,剩余47元钱,余额不足.\n",
      "<Consumer(Thread-38, started 32316)>准备消费917元钱,剩余47元钱,余额不足.\n",
      "<Consumer(Thread-39, started 33132)>准备消费454元钱,剩余47元钱,余额不足.\n",
      "<Consumer(Thread-40, started 31064)>准备消费216元钱,剩余47元钱,余额不足.\n",
      "<Consumer(Thread-38, started 32316)>准备消费239元钱,剩余47元钱,余额不足.\n",
      "<Consumer(Thread-39, started 33132)>准备消费107元钱,剩余47元钱,余额不足.\n",
      "<Consumer(Thread-40, started 31064)>准备消费685元钱,剩余47元钱,余额不足.\n",
      "<Consumer(Thread-39, started 33132)>准备消费759元钱,剩余47元钱,余额不足.\n",
      "<Consumer(Thread-38, started 32316)>准备消费379元钱,剩余47元钱,余额不足.\n",
      "<Consumer(Thread-40, started 31064)>准备消费987元钱,剩余47元钱,余额不足.\n",
      "<Consumer(Thread-39, started 33132)>准备消费749元钱,剩余47元钱,余额不足.\n",
      "<Consumer(Thread-38, started 32316)>准备消费439元钱,剩余47元钱,余额不足.\n",
      "<Consumer(Thread-40, started 31064)>准备消费803元钱,剩余47元钱,余额不足.\n",
      "<Consumer(Thread-39, started 33132)>准备消费496元钱,剩余47元钱,余额不足.\n",
      "<Consumer(Thread-40, started 31064)>准备消费782元钱,剩余47元钱,余额不足.\n",
      "<Consumer(Thread-38, started 32316)>准备消费144元钱,剩余47元钱,余额不足.\n",
      "<Consumer(Thread-39, started 33132)>准备消费914元钱,剩余47元钱,余额不足.\n",
      "<Consumer(Thread-40, started 31064)>准备消费730元钱,剩余47元钱,余额不足.\n",
      "<Consumer(Thread-38, started 32316)>准备消费454元钱,剩余47元钱,余额不足.\n",
      "<Consumer(Thread-39, started 33132)>准备消费547元钱,剩余47元钱,余额不足.\n",
      "<Consumer(Thread-40, started 31064)>准备消费603元钱,剩余47元钱,余额不足.\n",
      "<Consumer(Thread-38, started 32316)>准备消费875元钱,剩余47元钱,余额不足.\n",
      "<Consumer(Thread-39, started 33132)>准备消费371元钱,剩余47元钱,余额不足.\n",
      "<Consumer(Thread-38, started 32316)>准备消费174元钱,剩余47元钱,余额不足.\n",
      "<Consumer(Thread-40, started 31064)>准备消费466元钱,剩余47元钱,余额不足.\n",
      "<Consumer(Thread-39, started 33132)>准备消费705元钱,剩余47元钱,余额不足.\n",
      "<Consumer(Thread-38, started 32316)>准备消费372元钱,剩余47元钱,余额不足.\n",
      "<Consumer(Thread-40, started 31064)>准备消费901元钱,剩余47元钱,余额不足.\n",
      "<Consumer(Thread-39, started 33132)>准备消费638元钱,剩余47元钱,余额不足.\n",
      "<Consumer(Thread-40, started 31064)>准备消费596元钱,剩余47元钱,余额不足.\n",
      "<Consumer(Thread-38, started 32316)>准备消费562元钱,剩余47元钱,余额不足.\n",
      "<Consumer(Thread-39, started 33132)>准备消费318元钱,剩余47元钱,余额不足.\n",
      "<Consumer(Thread-38, started 32316)>准备消费558元钱,剩余47元钱,余额不足.\n",
      "<Consumer(Thread-40, started 31064)>准备消费492元钱,剩余47元钱,余额不足.\n",
      "<Consumer(Thread-38, started 32316)>准备消费134元钱,剩余47元钱,余额不足.\n",
      "<Consumer(Thread-39, started 33132)>准备消费828元钱,剩余47元钱,余额不足.\n",
      "<Consumer(Thread-40, started 31064)>准备消费253元钱,剩余47元钱,余额不足.\n"
     ]
    },
    {
     "name": "stdout",
     "output_type": "stream",
     "text": [
      "<Consumer(Thread-38, started 32316)>准备消费438元钱,剩余47元钱,余额不足.\n",
      "<Consumer(Thread-39, started 33132)>准备消费641元钱,剩余47元钱,余额不足.\n",
      "<Consumer(Thread-40, started 31064)>准备消费986元钱,剩余47元钱,余额不足.\n",
      "<Consumer(Thread-38, started 32316)>准备消费440元钱,剩余47元钱,余额不足.\n",
      "<Consumer(Thread-40, started 31064)>准备消费898元钱,剩余47元钱,余额不足.\n",
      "<Consumer(Thread-39, started 33132)>准备消费856元钱,剩余47元钱,余额不足.\n",
      "<Consumer(Thread-40, started 31064)>准备消费437元钱,剩余47元钱,余额不足.\n",
      "<Consumer(Thread-39, started 33132)>准备消费238元钱,剩余47元钱,余额不足.\n",
      "<Consumer(Thread-38, started 32316)>准备消费960元钱,剩余47元钱,余额不足.\n",
      "<Consumer(Thread-40, started 31064)>准备消费409元钱,剩余47元钱,余额不足.\n",
      "<Consumer(Thread-38, started 32316)>准备消费886元钱,剩余47元钱,余额不足.\n",
      "<Consumer(Thread-39, started 33132)>准备消费925元钱,剩余47元钱,余额不足.\n",
      "<Consumer(Thread-40, started 31064)>准备消费152元钱,剩余47元钱,余额不足.\n",
      "<Consumer(Thread-38, started 32316)>准备消费185元钱,剩余47元钱,余额不足.\n",
      "<Consumer(Thread-39, started 33132)>准备消费557元钱,剩余47元钱,余额不足.\n",
      "<Consumer(Thread-40, started 31064)>准备消费529元钱,剩余47元钱,余额不足.\n",
      "<Consumer(Thread-38, started 32316)>准备消费930元钱,剩余47元钱,余额不足.\n",
      "<Consumer(Thread-39, started 33132)>准备消费622元钱,剩余47元钱,余额不足.\n",
      "<Consumer(Thread-40, started 31064)>准备消费844元钱,剩余47元钱,余额不足.\n",
      "<Consumer(Thread-38, started 32316)>准备消费431元钱,剩余47元钱,余额不足.\n",
      "<Consumer(Thread-39, started 33132)>准备消费907元钱,剩余47元钱,余额不足.\n",
      "<Consumer(Thread-38, started 32316)>准备消费525元钱,剩余47元钱,余额不足.\n",
      "<Consumer(Thread-40, started 31064)>准备消费202元钱,剩余47元钱,余额不足.\n",
      "<Consumer(Thread-39, started 33132)>准备消费598元钱,剩余47元钱,余额不足.\n",
      "<Consumer(Thread-40, started 31064)>准备消费288元钱,剩余47元钱,余额不足.\n",
      "<Consumer(Thread-38, started 32316)>准备消费224元钱,剩余47元钱,余额不足.\n",
      "<Consumer(Thread-39, started 33132)>准备消费977元钱,剩余47元钱,余额不足.\n",
      "<Consumer(Thread-40, started 31064)>准备消费790元钱,剩余47元钱,余额不足.\n",
      "<Consumer(Thread-39, started 33132)>准备消费976元钱,剩余47元钱,余额不足.\n",
      "<Consumer(Thread-38, started 32316)>准备消费669元钱,剩余47元钱,余额不足.\n",
      "<Consumer(Thread-40, started 31064)>准备消费935元钱,剩余47元钱,余额不足.\n",
      "<Consumer(Thread-39, started 33132)>准备消费608元钱,剩余47元钱,余额不足.\n",
      "<Consumer(Thread-38, started 32316)>准备消费594元钱,剩余47元钱,余额不足.\n",
      "<Consumer(Thread-40, started 31064)>准备消费202元钱,剩余47元钱,余额不足.\n",
      "<Consumer(Thread-39, started 33132)>准备消费120元钱,剩余47元钱,余额不足.\n",
      "<Consumer(Thread-38, started 32316)>准备消费822元钱,剩余47元钱,余额不足.\n",
      "<Consumer(Thread-40, started 31064)>准备消费228元钱,剩余47元钱,余额不足.\n",
      "<Consumer(Thread-39, started 33132)>准备消费801元钱,剩余47元钱,余额不足.\n",
      "<Consumer(Thread-38, started 32316)>准备消费806元钱,剩余47元钱,余额不足.\n",
      "<Consumer(Thread-40, started 31064)>准备消费766元钱,剩余47元钱,余额不足.\n",
      "<Consumer(Thread-39, started 33132)>准备消费692元钱,剩余47元钱,余额不足.\n",
      "<Consumer(Thread-38, started 32316)>准备消费866元钱,剩余47元钱,余额不足.\n",
      "<Consumer(Thread-40, started 31064)>准备消费826元钱,剩余47元钱,余额不足.\n",
      "<Consumer(Thread-39, started 33132)>准备消费571元钱,剩余47元钱,余额不足.\n",
      "<Consumer(Thread-38, started 32316)>准备消费333元钱,剩余47元钱,余额不足.\n",
      "<Consumer(Thread-40, started 31064)>准备消费802元钱,剩余47元钱,余额不足.\n",
      "<Consumer(Thread-39, started 33132)>准备消费665元钱,剩余47元钱,余额不足.\n",
      "<Consumer(Thread-38, started 32316)>准备消费222元钱,剩余47元钱,余额不足.\n",
      "<Consumer(Thread-40, started 31064)>准备消费499元钱,剩余47元钱,余额不足.\n",
      "<Consumer(Thread-39, started 33132)>准备消费325元钱,剩余47元钱,余额不足.\n",
      "<Consumer(Thread-38, started 32316)>准备消费538元钱,剩余47元钱,余额不足.\n",
      "<Consumer(Thread-40, started 31064)>准备消费296元钱,剩余47元钱,余额不足.\n",
      "<Consumer(Thread-38, started 32316)>准备消费385元钱,剩余47元钱,余额不足.\n",
      "<Consumer(Thread-39, started 33132)>准备消费772元钱,剩余47元钱,余额不足.\n",
      "<Consumer(Thread-40, started 31064)>准备消费433元钱,剩余47元钱,余额不足.\n",
      "<Consumer(Thread-38, started 32316)>准备消费336元钱,剩余47元钱,余额不足.\n",
      "<Consumer(Thread-39, started 33132)>准备消费546元钱,剩余47元钱,余额不足.\n",
      "<Consumer(Thread-40, started 31064)>准备消费122元钱,剩余47元钱,余额不足.\n",
      "<Consumer(Thread-39, started 33132)>准备消费314元钱,剩余47元钱,余额不足.\n",
      "<Consumer(Thread-38, started 32316)>准备消费269元钱,剩余47元钱,余额不足.\n",
      "<Consumer(Thread-40, started 31064)>准备消费541元钱,剩余47元钱,余额不足.\n",
      "<Consumer(Thread-39, started 33132)>准备消费985元钱,剩余47元钱,余额不足.\n",
      "<Consumer(Thread-38, started 32316)>准备消费634元钱,剩余47元钱,余额不足.\n",
      "<Consumer(Thread-40, started 31064)>准备消费585元钱,剩余47元钱,余额不足.\n",
      "<Consumer(Thread-38, started 32316)>准备消费270元钱,剩余47元钱,余额不足.\n",
      "<Consumer(Thread-39, started 33132)>准备消费274元钱,剩余47元钱,余额不足.\n",
      "<Consumer(Thread-40, started 31064)>准备消费430元钱,剩余47元钱,余额不足.\n",
      "<Consumer(Thread-39, started 33132)>准备消费171元钱,剩余47元钱,余额不足.\n",
      "<Consumer(Thread-38, started 32316)>准备消费107元钱,剩余47元钱,余额不足.\n",
      "<Consumer(Thread-40, started 31064)>准备消费706元钱,剩余47元钱,余额不足.\n",
      "<Consumer(Thread-38, started 32316)>准备消费304元钱,剩余47元钱,余额不足.\n",
      "<Consumer(Thread-39, started 33132)>准备消费441元钱,剩余47元钱,余额不足.\n",
      "<Consumer(Thread-40, started 31064)>准备消费933元钱,剩余47元钱,余额不足.\n",
      "<Consumer(Thread-39, started 33132)>准备消费286元钱,剩余47元钱,余额不足.\n",
      "<Consumer(Thread-38, started 32316)>准备消费681元钱,剩余47元钱,余额不足.\n",
      "<Consumer(Thread-40, started 31064)>准备消费355元钱,剩余47元钱,余额不足.\n",
      "<Consumer(Thread-38, started 32316)>准备消费198元钱,剩余47元钱,余额不足.\n",
      "<Consumer(Thread-39, started 33132)>准备消费207元钱,剩余47元钱,余额不足.\n",
      "<Consumer(Thread-40, started 31064)>准备消费295元钱,剩余47元钱,余额不足.\n",
      "<Consumer(Thread-38, started 32316)>准备消费338元钱,剩余47元钱,余额不足.\n",
      "<Consumer(Thread-39, started 33132)>准备消费539元钱,剩余47元钱,余额不足.\n",
      "<Consumer(Thread-40, started 31064)>准备消费796元钱,剩余47元钱,余额不足.\n",
      "<Consumer(Thread-39, started 33132)>准备消费329元钱,剩余47元钱,余额不足.\n",
      "<Consumer(Thread-38, started 32316)>准备消费434元钱,剩余47元钱,余额不足.\n",
      "<Consumer(Thread-40, started 31064)>准备消费596元钱,剩余47元钱,余额不足.\n",
      "<Consumer(Thread-39, started 33132)>准备消费718元钱,剩余47元钱,余额不足.\n",
      "<Consumer(Thread-38, started 32316)>准备消费722元钱,剩余47元钱,余额不足.\n",
      "<Consumer(Thread-40, started 31064)>准备消费244元钱,剩余47元钱,余额不足.\n",
      "<Consumer(Thread-39, started 33132)>准备消费686元钱,剩余47元钱,余额不足.\n",
      "<Consumer(Thread-38, started 32316)>准备消费430元钱,剩余47元钱,余额不足.\n",
      "<Consumer(Thread-40, started 31064)>准备消费772元钱,剩余47元钱,余额不足.\n",
      "<Consumer(Thread-38, started 32316)>准备消费923元钱,剩余47元钱,余额不足.\n",
      "<Consumer(Thread-39, started 33132)>准备消费219元钱,剩余47元钱,余额不足.\n",
      "<Consumer(Thread-40, started 31064)>准备消费634元钱,剩余47元钱,余额不足.\n",
      "<Consumer(Thread-39, started 33132)>准备消费637元钱,剩余47元钱,余额不足.\n",
      "<Consumer(Thread-38, started 32316)>准备消费867元钱,剩余47元钱,余额不足.\n",
      "<Consumer(Thread-40, started 31064)>准备消费558元钱,剩余47元钱,余额不足.\n",
      "<Consumer(Thread-38, started 32316)>准备消费324元钱,剩余47元钱,余额不足.\n",
      "<Consumer(Thread-39, started 33132)>准备消费931元钱,剩余47元钱,余额不足.\n",
      "<Consumer(Thread-40, started 31064)>准备消费379元钱,剩余47元钱,余额不足.\n",
      "<Consumer(Thread-38, started 32316)>准备消费102元钱,剩余47元钱,余额不足.\n",
      "<Consumer(Thread-39, started 33132)>准备消费958元钱,剩余47元钱,余额不足.\n",
      "<Consumer(Thread-40, started 31064)>准备消费952元钱,剩余47元钱,余额不足.\n",
      "<Consumer(Thread-39, started 33132)>准备消费810元钱,剩余47元钱,余额不足.\n",
      "<Consumer(Thread-38, started 32316)>准备消费125元钱,剩余47元钱,余额不足.\n",
      "<Consumer(Thread-40, started 31064)>准备消费326元钱,剩余47元钱,余额不足.\n",
      "<Consumer(Thread-38, started 32316)>准备消费416元钱,剩余47元钱,余额不足.\n",
      "<Consumer(Thread-39, started 33132)>准备消费633元钱,剩余47元钱,余额不足.\n",
      "<Consumer(Thread-40, started 31064)>准备消费576元钱,剩余47元钱,余额不足.\n",
      "<Consumer(Thread-38, started 32316)>准备消费239元钱,剩余47元钱,余额不足.\n",
      "<Consumer(Thread-39, started 33132)>准备消费385元钱,剩余47元钱,余额不足.\n",
      "<Consumer(Thread-40, started 31064)>准备消费837元钱,剩余47元钱,余额不足.\n",
      "<Consumer(Thread-38, started 32316)>准备消费390元钱,剩余47元钱,余额不足.\n",
      "<Consumer(Thread-39, started 33132)>准备消费314元钱,剩余47元钱,余额不足.\n",
      "<Consumer(Thread-40, started 31064)>准备消费923元钱,剩余47元钱,余额不足.\n",
      "<Consumer(Thread-39, started 33132)>准备消费494元钱,剩余47元钱,余额不足.\n",
      "<Consumer(Thread-38, started 32316)>准备消费910元钱,剩余47元钱,余额不足.\n",
      "<Consumer(Thread-40, started 31064)>准备消费367元钱,剩余47元钱,余额不足.\n",
      "<Consumer(Thread-38, started 32316)>准备消费815元钱,剩余47元钱,余额不足.\n",
      "<Consumer(Thread-39, started 33132)>准备消费899元钱,剩余47元钱,余额不足.\n",
      "<Consumer(Thread-40, started 31064)>准备消费401元钱,剩余47元钱,余额不足.\n",
      "<Consumer(Thread-38, started 32316)>准备消费705元钱,剩余47元钱,余额不足.\n",
      "<Consumer(Thread-39, started 33132)>准备消费848元钱,剩余47元钱,余额不足.\n",
      "<Consumer(Thread-40, started 31064)>准备消费168元钱,剩余47元钱,余额不足.\n",
      "<Consumer(Thread-38, started 32316)>准备消费393元钱,剩余47元钱,余额不足.\n",
      "<Consumer(Thread-39, started 33132)>准备消费190元钱,剩余47元钱,余额不足.\n",
      "<Consumer(Thread-40, started 31064)>准备消费719元钱,剩余47元钱,余额不足.\n",
      "<Consumer(Thread-38, started 32316)>准备消费338元钱,剩余47元钱,余额不足.\n",
      "<Consumer(Thread-39, started 33132)>准备消费676元钱,剩余47元钱,余额不足.\n",
      "<Consumer(Thread-40, started 31064)>准备消费343元钱,剩余47元钱,余额不足.\n",
      "<Consumer(Thread-39, started 33132)>准备消费487元钱,剩余47元钱,余额不足.\n",
      "<Consumer(Thread-38, started 32316)>准备消费312元钱,剩余47元钱,余额不足.\n",
      "<Consumer(Thread-40, started 31064)>准备消费631元钱,剩余47元钱,余额不足.\n",
      "<Consumer(Thread-39, started 33132)>准备消费161元钱,剩余47元钱,余额不足.\n",
      "<Consumer(Thread-38, started 32316)>准备消费378元钱,剩余47元钱,余额不足.\n",
      "<Consumer(Thread-40, started 31064)>准备消费215元钱,剩余47元钱,余额不足.\n",
      "<Consumer(Thread-39, started 33132)>准备消费878元钱,剩余47元钱,余额不足.\n",
      "<Consumer(Thread-38, started 32316)>准备消费852元钱,剩余47元钱,余额不足.\n",
      "<Consumer(Thread-40, started 31064)>准备消费922元钱,剩余47元钱,余额不足.\n",
      "<Consumer(Thread-39, started 33132)>准备消费859元钱,剩余47元钱,余额不足.\n",
      "<Consumer(Thread-38, started 32316)>准备消费965元钱,剩余47元钱,余额不足.\n"
     ]
    },
    {
     "name": "stdout",
     "output_type": "stream",
     "text": [
      "<Consumer(Thread-40, started 31064)>准备消费169元钱,剩余47元钱,余额不足.\n",
      "<Consumer(Thread-39, started 33132)>准备消费848元钱,剩余47元钱,余额不足.\n",
      "<Consumer(Thread-38, started 32316)>准备消费616元钱,剩余47元钱,余额不足.\n",
      "<Consumer(Thread-40, started 31064)>准备消费422元钱,剩余47元钱,余额不足.\n",
      "<Consumer(Thread-39, started 33132)>准备消费473元钱,剩余47元钱,余额不足.\n",
      "<Consumer(Thread-38, started 32316)>准备消费531元钱,剩余47元钱,余额不足.\n",
      "<Consumer(Thread-40, started 31064)>准备消费511元钱,剩余47元钱,余额不足.\n",
      "<Consumer(Thread-38, started 32316)>准备消费519元钱,剩余47元钱,余额不足.\n",
      "<Consumer(Thread-39, started 33132)>准备消费436元钱,剩余47元钱,余额不足.\n",
      "<Consumer(Thread-40, started 31064)>准备消费484元钱,剩余47元钱,余额不足.\n",
      "<Consumer(Thread-38, started 32316)>准备消费119元钱,剩余47元钱,余额不足.\n",
      "<Consumer(Thread-39, started 33132)>准备消费148元钱,剩余47元钱,余额不足.\n",
      "<Consumer(Thread-40, started 31064)>准备消费494元钱,剩余47元钱,余额不足.\n",
      "<Consumer(Thread-38, started 32316)>准备消费691元钱,剩余47元钱,余额不足.\n",
      "<Consumer(Thread-39, started 33132)>准备消费822元钱,剩余47元钱,余额不足.\n",
      "<Consumer(Thread-40, started 31064)>准备消费999元钱,剩余47元钱,余额不足.\n",
      "<Consumer(Thread-38, started 32316)>准备消费510元钱,剩余47元钱,余额不足.\n",
      "<Consumer(Thread-39, started 33132)>准备消费860元钱,剩余47元钱,余额不足.\n",
      "<Consumer(Thread-40, started 31064)>准备消费807元钱,剩余47元钱,余额不足.\n",
      "<Consumer(Thread-38, started 32316)>准备消费387元钱,剩余47元钱,余额不足.\n",
      "<Consumer(Thread-39, started 33132)>准备消费549元钱,剩余47元钱,余额不足.\n",
      "<Consumer(Thread-40, started 31064)>准备消费133元钱,剩余47元钱,余额不足.\n",
      "<Consumer(Thread-38, started 32316)>准备消费195元钱,剩余47元钱,余额不足.\n",
      "<Consumer(Thread-39, started 33132)>准备消费174元钱,剩余47元钱,余额不足.\n",
      "<Consumer(Thread-40, started 31064)>准备消费129元钱,剩余47元钱,余额不足.\n",
      "<Consumer(Thread-38, started 32316)>准备消费577元钱,剩余47元钱,余额不足.\n",
      "<Consumer(Thread-39, started 33132)>准备消费615元钱,剩余47元钱,余额不足.\n",
      "<Consumer(Thread-40, started 31064)>准备消费890元钱,剩余47元钱,余额不足.\n",
      "<Consumer(Thread-38, started 32316)>准备消费768元钱,剩余47元钱,余额不足.\n",
      "<Consumer(Thread-39, started 33132)>准备消费650元钱,剩余47元钱,余额不足.\n",
      "<Consumer(Thread-40, started 31064)>准备消费660元钱,剩余47元钱,余额不足.\n",
      "<Consumer(Thread-38, started 32316)>准备消费312元钱,剩余47元钱,余额不足.\n",
      "<Consumer(Thread-39, started 33132)>准备消费153元钱,剩余47元钱,余额不足.\n",
      "<Consumer(Thread-40, started 31064)>准备消费550元钱,剩余47元钱,余额不足.\n",
      "<Consumer(Thread-38, started 32316)>准备消费432元钱,剩余47元钱,余额不足.\n",
      "<Consumer(Thread-39, started 33132)>准备消费463元钱,剩余47元钱,余额不足.\n",
      "<Consumer(Thread-40, started 31064)>准备消费893元钱,剩余47元钱,余额不足.\n",
      "<Consumer(Thread-38, started 32316)>准备消费782元钱,剩余47元钱,余额不足.\n",
      "<Consumer(Thread-39, started 33132)>准备消费794元钱,剩余47元钱,余额不足.\n",
      "<Consumer(Thread-40, started 31064)>准备消费794元钱,剩余47元钱,余额不足.\n",
      "<Consumer(Thread-38, started 32316)>准备消费421元钱,剩余47元钱,余额不足.\n",
      "<Consumer(Thread-39, started 33132)>准备消费598元钱,剩余47元钱,余额不足.\n",
      "<Consumer(Thread-40, started 31064)>准备消费199元钱,剩余47元钱,余额不足.\n",
      "<Consumer(Thread-38, started 32316)>准备消费423元钱,剩余47元钱,余额不足.\n",
      "<Consumer(Thread-39, started 33132)>准备消费312元钱,剩余47元钱,余额不足.\n",
      "<Consumer(Thread-40, started 31064)>准备消费988元钱,剩余47元钱,余额不足.\n",
      "<Consumer(Thread-38, started 32316)>准备消费628元钱,剩余47元钱,余额不足.\n",
      "<Consumer(Thread-39, started 33132)>准备消费991元钱,剩余47元钱,余额不足.\n",
      "<Consumer(Thread-40, started 31064)>准备消费840元钱,剩余47元钱,余额不足.\n",
      "<Consumer(Thread-38, started 32316)>准备消费878元钱,剩余47元钱,余额不足.\n",
      "<Consumer(Thread-39, started 33132)>准备消费461元钱,剩余47元钱,余额不足.\n",
      "<Consumer(Thread-40, started 31064)>准备消费470元钱,剩余47元钱,余额不足.\n",
      "<Consumer(Thread-38, started 32316)>准备消费526元钱,剩余47元钱,余额不足.\n",
      "<Consumer(Thread-39, started 33132)>准备消费230元钱,剩余47元钱,余额不足.\n",
      "<Consumer(Thread-40, started 31064)>准备消费795元钱,剩余47元钱,余额不足.\n",
      "<Consumer(Thread-38, started 32316)>准备消费607元钱,剩余47元钱,余额不足.\n",
      "<Consumer(Thread-39, started 33132)>准备消费946元钱,剩余47元钱,余额不足.\n",
      "<Consumer(Thread-40, started 31064)>准备消费374元钱,剩余47元钱,余额不足.\n",
      "<Consumer(Thread-38, started 32316)>准备消费357元钱,剩余47元钱,余额不足.\n",
      "<Consumer(Thread-39, started 33132)>准备消费185元钱,剩余47元钱,余额不足.\n",
      "<Consumer(Thread-40, started 31064)>准备消费150元钱,剩余47元钱,余额不足.\n",
      "<Consumer(Thread-38, started 32316)>准备消费794元钱,剩余47元钱,余额不足.\n",
      "<Consumer(Thread-39, started 33132)>准备消费989元钱,剩余47元钱,余额不足.\n",
      "<Consumer(Thread-40, started 31064)>准备消费421元钱,剩余47元钱,余额不足.\n",
      "<Consumer(Thread-38, started 32316)>准备消费400元钱,剩余47元钱,余额不足.\n",
      "<Consumer(Thread-39, started 33132)>准备消费427元钱,剩余47元钱,余额不足.\n",
      "<Consumer(Thread-40, started 31064)>准备消费378元钱,剩余47元钱,余额不足.\n",
      "<Consumer(Thread-38, started 32316)>准备消费572元钱,剩余47元钱,余额不足.\n",
      "<Consumer(Thread-39, started 33132)>准备消费315元钱,剩余47元钱,余额不足.\n",
      "<Consumer(Thread-40, started 31064)>准备消费780元钱,剩余47元钱,余额不足.\n",
      "<Consumer(Thread-38, started 32316)>准备消费989元钱,剩余47元钱,余额不足.\n",
      "<Consumer(Thread-39, started 33132)>准备消费268元钱,剩余47元钱,余额不足.\n",
      "<Consumer(Thread-40, started 31064)>准备消费614元钱,剩余47元钱,余额不足.\n",
      "<Consumer(Thread-38, started 32316)>准备消费996元钱,剩余47元钱,余额不足.\n",
      "<Consumer(Thread-39, started 33132)>准备消费182元钱,剩余47元钱,余额不足.\n",
      "<Consumer(Thread-40, started 31064)>准备消费872元钱,剩余47元钱,余额不足.\n",
      "<Consumer(Thread-38, started 32316)>准备消费696元钱,剩余47元钱,余额不足.\n",
      "<Consumer(Thread-39, started 33132)>准备消费482元钱,剩余47元钱,余额不足.\n",
      "<Consumer(Thread-40, started 31064)>准备消费788元钱,剩余47元钱,余额不足.\n",
      "<Consumer(Thread-38, started 32316)>准备消费799元钱,剩余47元钱,余额不足.\n",
      "<Consumer(Thread-39, started 33132)>准备消费739元钱,剩余47元钱,余额不足.\n",
      "<Consumer(Thread-40, started 31064)>准备消费452元钱,剩余47元钱,余额不足.\n",
      "<Consumer(Thread-38, started 32316)>准备消费445元钱,剩余47元钱,余额不足.\n",
      "<Consumer(Thread-39, started 33132)>准备消费217元钱,剩余47元钱,余额不足.\n",
      "<Consumer(Thread-40, started 31064)>准备消费355元钱,剩余47元钱,余额不足.\n",
      "<Consumer(Thread-38, started 32316)>准备消费416元钱,剩余47元钱,余额不足.\n",
      "<Consumer(Thread-39, started 33132)>准备消费460元钱,剩余47元钱,余额不足.\n",
      "<Consumer(Thread-40, started 31064)>准备消费293元钱,剩余47元钱,余额不足.\n",
      "<Consumer(Thread-38, started 32316)>准备消费396元钱,剩余47元钱,余额不足.\n",
      "<Consumer(Thread-39, started 33132)>准备消费551元钱,剩余47元钱,余额不足.\n",
      "<Consumer(Thread-40, started 31064)>准备消费794元钱,剩余47元钱,余额不足.\n",
      "<Consumer(Thread-38, started 32316)>准备消费857元钱,剩余47元钱,余额不足.\n",
      "<Consumer(Thread-39, started 33132)>准备消费634元钱,剩余47元钱,余额不足.\n",
      "<Consumer(Thread-40, started 31064)>准备消费329元钱,剩余47元钱,余额不足.\n",
      "<Consumer(Thread-38, started 32316)>准备消费727元钱,剩余47元钱,余额不足.\n",
      "<Consumer(Thread-39, started 33132)>准备消费716元钱,剩余47元钱,余额不足.\n",
      "<Consumer(Thread-40, started 31064)>准备消费517元钱,剩余47元钱,余额不足.\n",
      "<Consumer(Thread-38, started 32316)>准备消费799元钱,剩余47元钱,余额不足.\n",
      "<Consumer(Thread-39, started 33132)>准备消费882元钱,剩余47元钱,余额不足.\n",
      "<Consumer(Thread-40, started 31064)>准备消费888元钱,剩余47元钱,余额不足.\n",
      "<Consumer(Thread-38, started 32316)>准备消费137元钱,剩余47元钱,余额不足.\n",
      "<Consumer(Thread-39, started 33132)>准备消费959元钱,剩余47元钱,余额不足.\n",
      "<Consumer(Thread-40, started 31064)>准备消费789元钱,剩余47元钱,余额不足.\n",
      "<Consumer(Thread-38, started 32316)>准备消费927元钱,剩余47元钱,余额不足.\n",
      "<Consumer(Thread-39, started 33132)>准备消费577元钱,剩余47元钱,余额不足.\n",
      "<Consumer(Thread-40, started 31064)>准备消费685元钱,剩余47元钱,余额不足.\n",
      "<Consumer(Thread-38, started 32316)>准备消费210元钱,剩余47元钱,余额不足.\n",
      "<Consumer(Thread-39, started 33132)>准备消费636元钱,剩余47元钱,余额不足.\n",
      "<Consumer(Thread-40, started 31064)>准备消费133元钱,剩余47元钱,余额不足.\n",
      "<Consumer(Thread-39, started 33132)>准备消费451元钱,剩余47元钱,余额不足.\n",
      "<Consumer(Thread-38, started 32316)>准备消费607元钱,剩余47元钱,余额不足.\n",
      "<Consumer(Thread-40, started 31064)>准备消费614元钱,剩余47元钱,余额不足.\n",
      "<Consumer(Thread-38, started 32316)>准备消费171元钱,剩余47元钱,余额不足.\n",
      "<Consumer(Thread-39, started 33132)>准备消费404元钱,剩余47元钱,余额不足.\n",
      "<Consumer(Thread-40, started 31064)>准备消费609元钱,剩余47元钱,余额不足.\n",
      "<Consumer(Thread-38, started 32316)>准备消费215元钱,剩余47元钱,余额不足.\n",
      "<Consumer(Thread-39, started 33132)>准备消费756元钱,剩余47元钱,余额不足.\n",
      "<Consumer(Thread-40, started 31064)>准备消费860元钱,剩余47元钱,余额不足.\n",
      "<Consumer(Thread-38, started 32316)>准备消费441元钱,剩余47元钱,余额不足.\n",
      "<Consumer(Thread-39, started 33132)>准备消费867元钱,剩余47元钱,余额不足.\n",
      "<Consumer(Thread-40, started 31064)>准备消费451元钱,剩余47元钱,余额不足.\n",
      "<Consumer(Thread-38, started 32316)>准备消费370元钱,剩余47元钱,余额不足.\n",
      "<Consumer(Thread-39, started 33132)>准备消费243元钱,剩余47元钱,余额不足.\n",
      "<Consumer(Thread-40, started 31064)>准备消费258元钱,剩余47元钱,余额不足.\n",
      "<Consumer(Thread-38, started 32316)>准备消费888元钱,剩余47元钱,余额不足.\n",
      "<Consumer(Thread-39, started 33132)>准备消费610元钱,剩余47元钱,余额不足.\n",
      "<Consumer(Thread-40, started 31064)>准备消费810元钱,剩余47元钱,余额不足.\n",
      "<Consumer(Thread-38, started 32316)>准备消费915元钱,剩余47元钱,余额不足.\n",
      "<Consumer(Thread-39, started 33132)>准备消费889元钱,剩余47元钱,余额不足.\n",
      "<Consumer(Thread-40, started 31064)>准备消费726元钱,剩余47元钱,余额不足.\n",
      "<Consumer(Thread-39, started 33132)>准备消费709元钱,剩余47元钱,余额不足.\n",
      "<Consumer(Thread-38, started 32316)>准备消费465元钱,剩余47元钱,余额不足.\n",
      "<Consumer(Thread-40, started 31064)>准备消费140元钱,剩余47元钱,余额不足.\n",
      "<Consumer(Thread-38, started 32316)>准备消费232元钱,剩余47元钱,余额不足.\n",
      "<Consumer(Thread-39, started 33132)>准备消费287元钱,剩余47元钱,余额不足.\n",
      "<Consumer(Thread-38, started 32316)>准备消费329元钱,剩余47元钱,余额不足.\n",
      "<Consumer(Thread-40, started 31064)>准备消费347元钱,剩余47元钱,余额不足.\n",
      "<Consumer(Thread-39, started 33132)>准备消费295元钱,剩余47元钱,余额不足.\n",
      "<Consumer(Thread-38, started 32316)>准备消费864元钱,剩余47元钱,余额不足.\n",
      "<Consumer(Thread-40, started 31064)>准备消费879元钱,剩余47元钱,余额不足.\n",
      "<Consumer(Thread-39, started 33132)>准备消费221元钱,剩余47元钱,余额不足.\n"
     ]
    },
    {
     "name": "stdout",
     "output_type": "stream",
     "text": [
      "<Consumer(Thread-38, started 32316)>准备消费767元钱,剩余47元钱,余额不足.\n",
      "<Consumer(Thread-40, started 31064)>准备消费941元钱,剩余47元钱,余额不足.\n",
      "<Consumer(Thread-39, started 33132)>准备消费353元钱,剩余47元钱,余额不足.\n",
      "<Consumer(Thread-38, started 32316)>准备消费409元钱,剩余47元钱,余额不足.\n",
      "<Consumer(Thread-40, started 31064)>准备消费660元钱,剩余47元钱,余额不足.\n",
      "<Consumer(Thread-39, started 33132)>准备消费993元钱,剩余47元钱,余额不足.\n",
      "<Consumer(Thread-38, started 32316)>准备消费659元钱,剩余47元钱,余额不足.\n",
      "<Consumer(Thread-39, started 33132)>准备消费207元钱,剩余47元钱,余额不足.\n",
      "<Consumer(Thread-40, started 31064)>准备消费462元钱,剩余47元钱,余额不足.\n",
      "<Consumer(Thread-38, started 32316)>准备消费744元钱,剩余47元钱,余额不足.\n",
      "<Consumer(Thread-39, started 33132)>准备消费845元钱,剩余47元钱,余额不足.\n",
      "<Consumer(Thread-40, started 31064)>准备消费933元钱,剩余47元钱,余额不足.\n",
      "<Consumer(Thread-38, started 32316)>准备消费919元钱,剩余47元钱,余额不足.\n",
      "<Consumer(Thread-39, started 33132)>准备消费277元钱,剩余47元钱,余额不足.\n",
      "<Consumer(Thread-40, started 31064)>准备消费360元钱,剩余47元钱,余额不足.\n",
      "<Consumer(Thread-39, started 33132)>准备消费543元钱,剩余47元钱,余额不足.\n",
      "<Consumer(Thread-40, started 31064)>准备消费233元钱,剩余47元钱,余额不足.\n",
      "<Consumer(Thread-38, started 32316)>准备消费196元钱,剩余47元钱,余额不足.\n",
      "<Consumer(Thread-40, started 31064)>准备消费867元钱,剩余47元钱,余额不足.\n",
      "<Consumer(Thread-39, started 33132)>准备消费814元钱,剩余47元钱,余额不足.\n",
      "<Consumer(Thread-38, started 32316)>准备消费322元钱,剩余47元钱,余额不足.\n",
      "<Consumer(Thread-39, started 33132)>准备消费673元钱,剩余47元钱,余额不足.\n",
      "<Consumer(Thread-40, started 31064)>准备消费793元钱,剩余47元钱,余额不足.\n",
      "<Consumer(Thread-38, started 32316)>准备消费926元钱,剩余47元钱,余额不足.\n",
      "<Consumer(Thread-39, started 33132)>准备消费133元钱,剩余47元钱,余额不足.\n",
      "<Consumer(Thread-40, started 31064)>准备消费648元钱,剩余47元钱,余额不足.\n",
      "<Consumer(Thread-38, started 32316)>准备消费136元钱,剩余47元钱,余额不足.\n",
      "<Consumer(Thread-39, started 33132)>准备消费606元钱,剩余47元钱,余额不足.\n",
      "<Consumer(Thread-40, started 31064)>准备消费422元钱,剩余47元钱,余额不足.\n",
      "<Consumer(Thread-38, started 32316)>准备消费200元钱,剩余47元钱,余额不足.\n",
      "<Consumer(Thread-39, started 33132)>准备消费791元钱,剩余47元钱,余额不足.\n",
      "<Consumer(Thread-40, started 31064)>准备消费468元钱,剩余47元钱,余额不足.\n",
      "<Consumer(Thread-38, started 32316)>准备消费967元钱,剩余47元钱,余额不足.\n",
      "<Consumer(Thread-39, started 33132)>准备消费504元钱,剩余47元钱,余额不足.\n",
      "<Consumer(Thread-40, started 31064)>准备消费576元钱,剩余47元钱,余额不足.\n",
      "<Consumer(Thread-38, started 32316)>准备消费998元钱,剩余47元钱,余额不足.\n",
      "<Consumer(Thread-39, started 33132)>准备消费535元钱,剩余47元钱,余额不足.\n",
      "<Consumer(Thread-40, started 31064)>准备消费271元钱,剩余47元钱,余额不足.\n",
      "<Consumer(Thread-38, started 32316)>准备消费882元钱,剩余47元钱,余额不足.\n",
      "<Consumer(Thread-39, started 33132)>准备消费721元钱,剩余47元钱,余额不足.\n",
      "<Consumer(Thread-40, started 31064)>准备消费502元钱,剩余47元钱,余额不足.\n",
      "<Consumer(Thread-38, started 32316)>准备消费927元钱,剩余47元钱,余额不足.\n",
      "<Consumer(Thread-40, started 31064)>准备消费687元钱,剩余47元钱,余额不足.\n",
      "<Consumer(Thread-39, started 33132)>准备消费709元钱,剩余47元钱,余额不足.\n",
      "<Consumer(Thread-38, started 32316)>准备消费221元钱,剩余47元钱,余额不足.\n",
      "<Consumer(Thread-39, started 33132)>准备消费474元钱,剩余47元钱,余额不足.\n",
      "<Consumer(Thread-38, started 32316)>准备消费855元钱,剩余47元钱,余额不足.\n",
      "<Consumer(Thread-40, started 31064)>准备消费798元钱,剩余47元钱,余额不足.\n",
      "<Consumer(Thread-39, started 33132)>准备消费351元钱,剩余47元钱,余额不足.\n",
      "<Consumer(Thread-38, started 32316)>准备消费348元钱,剩余47元钱,余额不足.\n",
      "<Consumer(Thread-40, started 31064)>准备消费665元钱,剩余47元钱,余额不足.\n",
      "<Consumer(Thread-38, started 32316)>准备消费267元钱,剩余47元钱,余额不足.\n",
      "<Consumer(Thread-39, started 33132)>准备消费806元钱,剩余47元钱,余额不足.\n",
      "<Consumer(Thread-40, started 31064)>准备消费969元钱,剩余47元钱,余额不足.\n",
      "<Consumer(Thread-38, started 32316)>准备消费709元钱,剩余47元钱,余额不足.\n",
      "<Consumer(Thread-39, started 33132)>准备消费825元钱,剩余47元钱,余额不足.\n",
      "<Consumer(Thread-40, started 31064)>准备消费644元钱,剩余47元钱,余额不足.\n",
      "<Consumer(Thread-38, started 32316)>准备消费252元钱,剩余47元钱,余额不足.\n",
      "<Consumer(Thread-39, started 33132)>准备消费864元钱,剩余47元钱,余额不足.\n",
      "<Consumer(Thread-40, started 31064)>准备消费310元钱,剩余47元钱,余额不足.\n",
      "<Consumer(Thread-38, started 32316)>准备消费750元钱,剩余47元钱,余额不足.\n",
      "<Consumer(Thread-39, started 33132)>准备消费824元钱,剩余47元钱,余额不足.\n",
      "<Consumer(Thread-40, started 31064)>准备消费708元钱,剩余47元钱,余额不足.\n",
      "<Consumer(Thread-38, started 32316)>准备消费344元钱,剩余47元钱,余额不足.\n",
      "<Consumer(Thread-39, started 33132)>准备消费681元钱,剩余47元钱,余额不足.\n",
      "<Consumer(Thread-40, started 31064)>准备消费539元钱,剩余47元钱,余额不足.\n",
      "<Consumer(Thread-38, started 32316)>准备消费246元钱,剩余47元钱,余额不足.\n",
      "<Consumer(Thread-39, started 33132)>准备消费568元钱,剩余47元钱,余额不足.\n",
      "<Consumer(Thread-40, started 31064)>准备消费422元钱,剩余47元钱,余额不足.\n",
      "<Consumer(Thread-38, started 32316)>准备消费239元钱,剩余47元钱,余额不足.\n",
      "<Consumer(Thread-39, started 33132)>准备消费635元钱,剩余47元钱,余额不足.\n",
      "<Consumer(Thread-40, started 31064)>准备消费764元钱,剩余47元钱,余额不足.\n",
      "<Consumer(Thread-38, started 32316)>准备消费870元钱,剩余47元钱,余额不足.\n",
      "<Consumer(Thread-39, started 33132)>准备消费313元钱,剩余47元钱,余额不足.\n",
      "<Consumer(Thread-40, started 31064)>准备消费100元钱,剩余47元钱,余额不足.\n",
      "<Consumer(Thread-38, started 32316)>准备消费141元钱,剩余47元钱,余额不足.\n",
      "<Consumer(Thread-39, started 33132)>准备消费222元钱,剩余47元钱,余额不足.\n",
      "<Consumer(Thread-40, started 31064)>准备消费603元钱,剩余47元钱,余额不足.\n",
      "<Consumer(Thread-38, started 32316)>准备消费454元钱,剩余47元钱,余额不足.\n",
      "<Consumer(Thread-39, started 33132)>准备消费465元钱,剩余47元钱,余额不足.\n",
      "<Consumer(Thread-40, started 31064)>准备消费230元钱,剩余47元钱,余额不足.\n",
      "<Consumer(Thread-39, started 33132)>准备消费823元钱,剩余47元钱,余额不足.\n",
      "<Consumer(Thread-38, started 32316)>准备消费947元钱,剩余47元钱,余额不足.\n",
      "<Consumer(Thread-40, started 31064)>准备消费649元钱,剩余47元钱,余额不足.\n",
      "<Consumer(Thread-38, started 32316)>准备消费948元钱,剩余47元钱,余额不足.\n",
      "<Consumer(Thread-39, started 33132)>准备消费235元钱,剩余47元钱,余额不足.\n",
      "<Consumer(Thread-40, started 31064)>准备消费223元钱,剩余47元钱,余额不足.\n",
      "<Consumer(Thread-39, started 33132)>准备消费520元钱,剩余47元钱,余额不足.\n",
      "<Consumer(Thread-38, started 32316)>准备消费830元钱,剩余47元钱,余额不足.\n",
      "<Consumer(Thread-40, started 31064)>准备消费513元钱,剩余47元钱,余额不足.\n",
      "<Consumer(Thread-38, started 32316)>准备消费430元钱,剩余47元钱,余额不足.\n",
      "<Consumer(Thread-39, started 33132)>准备消费107元钱,剩余47元钱,余额不足.\n",
      "<Consumer(Thread-40, started 31064)>准备消费869元钱,剩余47元钱,余额不足.\n",
      "<Consumer(Thread-39, started 33132)>准备消费767元钱,剩余47元钱,余额不足.\n",
      "<Consumer(Thread-38, started 32316)>准备消费929元钱,剩余47元钱,余额不足.\n",
      "<Consumer(Thread-40, started 31064)>准备消费380元钱,剩余47元钱,余额不足.\n",
      "<Consumer(Thread-39, started 33132)>准备消费207元钱,剩余47元钱,余额不足.\n",
      "<Consumer(Thread-38, started 32316)>准备消费267元钱,剩余47元钱,余额不足.\n",
      "<Consumer(Thread-40, started 31064)>准备消费270元钱,剩余47元钱,余额不足.\n",
      "<Consumer(Thread-39, started 33132)>准备消费953元钱,剩余47元钱,余额不足.\n",
      "<Consumer(Thread-38, started 32316)>准备消费710元钱,剩余47元钱,余额不足.\n",
      "<Consumer(Thread-40, started 31064)>准备消费663元钱,剩余47元钱,余额不足.\n",
      "<Consumer(Thread-39, started 33132)>准备消费547元钱,剩余47元钱,余额不足.\n",
      "<Consumer(Thread-38, started 32316)>准备消费187元钱,剩余47元钱,余额不足.\n",
      "<Consumer(Thread-40, started 31064)>准备消费336元钱,剩余47元钱,余额不足.\n",
      "<Consumer(Thread-38, started 32316)>准备消费924元钱,剩余47元钱,余额不足.\n",
      "<Consumer(Thread-39, started 33132)>准备消费517元钱,剩余47元钱,余额不足.\n",
      "<Consumer(Thread-40, started 31064)>准备消费907元钱,剩余47元钱,余额不足.\n",
      "<Consumer(Thread-38, started 32316)>准备消费904元钱,剩余47元钱,余额不足.\n",
      "<Consumer(Thread-39, started 33132)>准备消费348元钱,剩余47元钱,余额不足.\n",
      "<Consumer(Thread-40, started 31064)>准备消费142元钱,剩余47元钱,余额不足.\n",
      "<Consumer(Thread-38, started 32316)>准备消费557元钱,剩余47元钱,余额不足.\n",
      "<Consumer(Thread-39, started 33132)>准备消费923元钱,剩余47元钱,余额不足.\n",
      "<Consumer(Thread-40, started 31064)>准备消费426元钱,剩余47元钱,余额不足.\n",
      "<Consumer(Thread-38, started 32316)>准备消费516元钱,剩余47元钱,余额不足.\n",
      "<Consumer(Thread-39, started 33132)>准备消费870元钱,剩余47元钱,余额不足.\n",
      "<Consumer(Thread-40, started 31064)>准备消费889元钱,剩余47元钱,余额不足.\n",
      "<Consumer(Thread-38, started 32316)>准备消费607元钱,剩余47元钱,余额不足.\n",
      "<Consumer(Thread-39, started 33132)>准备消费987元钱,剩余47元钱,余额不足.\n",
      "<Consumer(Thread-40, started 31064)>准备消费705元钱,剩余47元钱,余额不足.\n",
      "<Consumer(Thread-38, started 32316)>准备消费688元钱,剩余47元钱,余额不足.\n",
      "<Consumer(Thread-39, started 33132)>准备消费576元钱,剩余47元钱,余额不足.\n",
      "<Consumer(Thread-40, started 31064)>准备消费980元钱,剩余47元钱,余额不足.\n",
      "<Consumer(Thread-39, started 33132)>准备消费101元钱,剩余47元钱,余额不足.\n",
      "<Consumer(Thread-38, started 32316)>准备消费863元钱,剩余47元钱,余额不足.\n",
      "<Consumer(Thread-40, started 31064)>准备消费291元钱,剩余47元钱,余额不足.\n"
     ]
    }
   ],
   "source": [
    "gMoney = 1000\n",
    "gLock = threading.Lock()\n",
    "gTotalTimes = 10\n",
    "gTimes = 0"
   ]
  },
  {
   "cell_type": "code",
   "execution_count": 86,
   "metadata": {
    "ExecuteTime": {
     "end_time": "2020-12-27T09:21:54.504838Z",
     "start_time": "2020-12-27T09:21:54.492835Z"
    }
   },
   "outputs": [
    {
     "name": "stdout",
     "output_type": "stream",
     "text": [
      "<Consumer(Thread-40, started 31064)>消费了913元钱,剩余87元钱\n",
      "<Consumer(Thread-38, started 32316)>准备消费550元钱,剩余87元钱,余额不足.\n",
      "<Consumer(Thread-39, started 33132)>准备消费539元钱,剩余87元钱,余额不足.\n",
      "<Consumer(Thread-38, started 32316)>准备消费210元钱,剩余87元钱,余额不足.\n",
      "<Consumer(Thread-39, started 33132)>准备消费143元钱,剩余87元钱,余额不足.\n",
      "<Consumer(Thread-40, started 31064)>准备消费886元钱,剩余87元钱,余额不足.\n"
     ]
    }
   ],
   "source": [
    "class Producer(threading.Thread):\n",
    "    def run(self):\n",
    "        global gMoney\n",
    "        global gTimes\n",
    "        while True:\n",
    "            money = random.randint(100,1000)\n",
    "            gLock.acquire()\n",
    "            if gTimes >= gTotalTimes:\n",
    "                gLock.release()\n",
    "                break \n",
    "            gMoney += money\n",
    "            print(f\"{threading.current_thread()}生产了{money}元钱,剩余{gMoney}元钱\")\n",
    "            gTimes += 1\n",
    "            gLock.release()\n",
    "            time.sleep(0.5)"
   ]
  },
  {
   "cell_type": "code",
   "execution_count": 87,
   "metadata": {
    "ExecuteTime": {
     "end_time": "2020-12-27T09:21:55.355760Z",
     "start_time": "2020-12-27T09:21:55.348753Z"
    }
   },
   "outputs": [
    {
     "name": "stdout",
     "output_type": "stream",
     "text": [
      "<Consumer(Thread-40, started 31064)>准备消费276元钱,剩余87元钱,余额不足.\n",
      "<Consumer(Thread-39, started 33132)>准备消费678元钱,剩余87元钱,余额不足.\n",
      "<Consumer(Thread-38, started 32316)>准备消费784元钱,剩余87元钱,余额不足.\n",
      "<Consumer(Thread-39, started 33132)>准备消费188元钱,剩余87元钱,余额不足.\n",
      "<Consumer(Thread-38, started 32316)>准备消费939元钱,剩余87元钱,余额不足.\n",
      "<Consumer(Thread-40, started 31064)>准备消费497元钱,剩余87元钱,余额不足.\n",
      "<Consumer(Thread-40, started 31064)>准备消费660元钱,剩余87元钱,余额不足.\n",
      "<Consumer(Thread-38, started 32316)>准备消费712元钱,剩余87元钱,余额不足.\n",
      "<Consumer(Thread-39, started 33132)>准备消费908元钱,剩余87元钱,余额不足.\n",
      "<Consumer(Thread-38, started 32316)>准备消费128元钱,剩余87元钱,余额不足.\n",
      "<Consumer(Thread-39, started 33132)>准备消费575元钱,剩余87元钱,余额不足.\n",
      "<Consumer(Thread-40, started 31064)>准备消费412元钱,剩余87元钱,余额不足.\n",
      "<Consumer(Thread-39, started 33132)>准备消费448元钱,剩余87元钱,余额不足.\n",
      "<Consumer(Thread-40, started 31064)>准备消费794元钱,剩余87元钱,余额不足.\n",
      "<Consumer(Thread-38, started 32316)>准备消费672元钱,剩余87元钱,余额不足.\n",
      "<Consumer(Thread-40, started 31064)>准备消费820元钱,剩余87元钱,余额不足.\n",
      "<Consumer(Thread-39, started 33132)>准备消费865元钱,剩余87元钱,余额不足.\n",
      "<Consumer(Thread-38, started 32316)>准备消费671元钱,剩余87元钱,余额不足.\n",
      "<Consumer(Thread-39, started 33132)>准备消费903元钱,剩余87元钱,余额不足.\n",
      "<Consumer(Thread-40, started 31064)>准备消费126元钱,剩余87元钱,余额不足.\n",
      "<Consumer(Thread-38, started 32316)>准备消费750元钱,剩余87元钱,余额不足.\n",
      "<Consumer(Thread-39, started 33132)>准备消费872元钱,剩余87元钱,余额不足.\n",
      "<Consumer(Thread-38, started 32316)>准备消费838元钱,剩余87元钱,余额不足.\n",
      "<Consumer(Thread-40, started 31064)>准备消费471元钱,剩余87元钱,余额不足.\n",
      "<Consumer(Thread-39, started 33132)>准备消费639元钱,剩余87元钱,余额不足.\n",
      "<Consumer(Thread-40, started 31064)>准备消费110元钱,剩余87元钱,余额不足.\n",
      "<Consumer(Thread-38, started 32316)>准备消费482元钱,剩余87元钱,余额不足.\n",
      "<Consumer(Thread-39, started 33132)>准备消费717元钱,剩余87元钱,余额不足.\n",
      "<Consumer(Thread-40, started 31064)>准备消费275元钱,剩余87元钱,余额不足.\n",
      "<Consumer(Thread-38, started 32316)>准备消费758元钱,剩余87元钱,余额不足.\n",
      "<Consumer(Thread-39, started 33132)>准备消费285元钱,剩余87元钱,余额不足.\n",
      "<Consumer(Thread-40, started 31064)>准备消费549元钱,剩余87元钱,余额不足.\n",
      "<Consumer(Thread-38, started 32316)>准备消费133元钱,剩余87元钱,余额不足.\n",
      "<Consumer(Thread-39, started 33132)>准备消费444元钱,剩余87元钱,余额不足.\n",
      "<Consumer(Thread-40, started 31064)>准备消费629元钱,剩余87元钱,余额不足.\n",
      "<Consumer(Thread-38, started 32316)>准备消费587元钱,剩余87元钱,余额不足.\n",
      "<Consumer(Thread-39, started 33132)>准备消费815元钱,剩余87元钱,余额不足.\n",
      "<Consumer(Thread-40, started 31064)>准备消费259元钱,剩余87元钱,余额不足.\n",
      "<Consumer(Thread-38, started 32316)>准备消费242元钱,剩余87元钱,余额不足.\n",
      "<Consumer(Thread-39, started 33132)>准备消费231元钱,剩余87元钱,余额不足.\n",
      "<Consumer(Thread-40, started 31064)>准备消费904元钱,剩余87元钱,余额不足.\n",
      "<Consumer(Thread-38, started 32316)>准备消费749元钱,剩余87元钱,余额不足.\n",
      "<Consumer(Thread-39, started 33132)>准备消费409元钱,剩余87元钱,余额不足.\n",
      "<Consumer(Thread-40, started 31064)>准备消费999元钱,剩余87元钱,余额不足.\n",
      "<Consumer(Thread-38, started 32316)>准备消费401元钱,剩余87元钱,余额不足.\n",
      "<Consumer(Thread-40, started 31064)>准备消费226元钱,剩余87元钱,余额不足.\n",
      "<Consumer(Thread-38, started 32316)>准备消费261元钱,剩余87元钱,余额不足.\n",
      "<Consumer(Thread-39, started 33132)>准备消费534元钱,剩余87元钱,余额不足.\n",
      "<Consumer(Thread-38, started 32316)>准备消费196元钱,剩余87元钱,余额不足.\n",
      "<Consumer(Thread-40, started 31064)>准备消费759元钱,剩余87元钱,余额不足.\n",
      "<Consumer(Thread-39, started 33132)>准备消费860元钱,剩余87元钱,余额不足.\n",
      "<Consumer(Thread-38, started 32316)>准备消费306元钱,剩余87元钱,余额不足.\n",
      "<Consumer(Thread-40, started 31064)>准备消费451元钱,剩余87元钱,余额不足.\n",
      "<Consumer(Thread-39, started 33132)>准备消费493元钱,剩余87元钱,余额不足.\n",
      "<Consumer(Thread-40, started 31064)>准备消费954元钱,剩余87元钱,余额不足.\n",
      "<Consumer(Thread-38, started 32316)>准备消费526元钱,剩余87元钱,余额不足.\n",
      "<Consumer(Thread-39, started 33132)>准备消费696元钱,剩余87元钱,余额不足.\n",
      "<Consumer(Thread-40, started 31064)>准备消费455元钱,剩余87元钱,余额不足.\n",
      "<Consumer(Thread-38, started 32316)>准备消费300元钱,剩余87元钱,余额不足.\n",
      "<Consumer(Thread-39, started 33132)>准备消费900元钱,剩余87元钱,余额不足.\n",
      "<Consumer(Thread-38, started 32316)>准备消费630元钱,剩余87元钱,余额不足.\n",
      "<Consumer(Thread-40, started 31064)>准备消费326元钱,剩余87元钱,余额不足.\n",
      "<Consumer(Thread-39, started 33132)>准备消费145元钱,剩余87元钱,余额不足.\n",
      "<Consumer(Thread-38, started 32316)>准备消费169元钱,剩余87元钱,余额不足.\n",
      "<Consumer(Thread-39, started 33132)>准备消费934元钱,剩余87元钱,余额不足.\n",
      "<Consumer(Thread-40, started 31064)>准备消费118元钱,剩余87元钱,余额不足.\n",
      "<Consumer(Thread-38, started 32316)>准备消费955元钱,剩余87元钱,余额不足.\n",
      "<Consumer(Thread-39, started 33132)>准备消费498元钱,剩余87元钱,余额不足.\n",
      "<Consumer(Thread-40, started 31064)>准备消费258元钱,剩余87元钱,余额不足.\n",
      "<Consumer(Thread-38, started 32316)>准备消费527元钱,剩余87元钱,余额不足.\n",
      "<Consumer(Thread-39, started 33132)>准备消费309元钱,剩余87元钱,余额不足.\n",
      "<Consumer(Thread-40, started 31064)>准备消费405元钱,剩余87元钱,余额不足.\n",
      "<Consumer(Thread-38, started 32316)>准备消费806元钱,剩余87元钱,余额不足.\n",
      "<Consumer(Thread-39, started 33132)>准备消费547元钱,剩余87元钱,余额不足.\n",
      "<Consumer(Thread-40, started 31064)>准备消费479元钱,剩余87元钱,余额不足.\n",
      "<Consumer(Thread-39, started 33132)>准备消费138元钱,剩余87元钱,余额不足.\n",
      "<Consumer(Thread-40, started 31064)>准备消费560元钱,剩余87元钱,余额不足.\n",
      "<Consumer(Thread-38, started 32316)>准备消费775元钱,剩余87元钱,余额不足.\n",
      "<Consumer(Thread-40, started 31064)>准备消费185元钱,剩余87元钱,余额不足.\n",
      "<Consumer(Thread-39, started 33132)>准备消费795元钱,剩余87元钱,余额不足.\n",
      "<Consumer(Thread-38, started 32316)>准备消费816元钱,剩余87元钱,余额不足.\n",
      "<Consumer(Thread-39, started 33132)>准备消费788元钱,剩余87元钱,余额不足.\n",
      "<Consumer(Thread-40, started 31064)>准备消费146元钱,剩余87元钱,余额不足.\n",
      "<Consumer(Thread-38, started 32316)>准备消费241元钱,剩余87元钱,余额不足.\n"
     ]
    }
   ],
   "source": [
    "class Consumer(threading.Thread):\n",
    "    def run(self):\n",
    "        global gMoney\n",
    "        while True:\n",
    "            money = random.randint(100,1000)\n",
    "            gLock.acquire()\n",
    "            if gMoney >= money:\n",
    "                gMoney -= money\n",
    "                print(f\"{threading.current_thread()}消费了{money}元钱,剩余{gMoney}元钱\")\n",
    "            else:\n",
    "                if gTimes >= gTotalTimes:\n",
    "                    gLock.release()\n",
    "                    break \n",
    "                print(f\"{threading.current_thread()}准备消费{money}元钱,剩余{gMoney}元钱,余额不足.\")\n",
    "            gLock.release()\n",
    "            time.sleep(0.5)"
   ]
  },
  {
   "cell_type": "code",
   "execution_count": 83,
   "metadata": {
    "ExecuteTime": {
     "end_time": "2020-12-27T09:21:37.500674Z",
     "start_time": "2020-12-27T09:21:37.484594Z"
    }
   },
   "outputs": [
    {
     "name": "stdout",
     "output_type": "stream",
     "text": [
      "<Consumer(Thread-40, started 31064)>准备消费685元钱,剩余46元钱,余额不足.\n",
      "<Consumer(Thread-39, started 33132)>准备消费460元钱,剩余46元钱,余额不足.\n",
      "<Consumer(Thread-38, started 32316)>准备消费677元钱,剩余46元钱,余额不足.\n",
      "<Consumer(Thread-40, started 31064)>准备消费811元钱,剩余46元钱,余额不足.\n",
      "<Consumer(Thread-38, started 32316)>准备消费433元钱,剩余46元钱,余额不足.\n",
      "<Consumer(Thread-39, started 33132)>准备消费566元钱,剩余46元钱,余额不足.\n",
      "<Consumer(Thread-40, started 31064)>准备消费710元钱,剩余46元钱,余额不足.\n",
      "<Consumer(Thread-38, started 32316)>准备消费978元钱,剩余46元钱,余额不足.\n",
      "<Consumer(Thread-39, started 33132)>准备消费356元钱,剩余46元钱,余额不足.\n",
      "<Consumer(Thread-40, started 31064)>准备消费848元钱,剩余46元钱,余额不足.\n",
      "<Consumer(Thread-38, started 32316)>准备消费214元钱,剩余46元钱,余额不足.\n",
      "<Consumer(Thread-39, started 33132)>准备消费146元钱,剩余46元钱,余额不足.\n",
      "<Consumer(Thread-40, started 31064)>准备消费399元钱,剩余46元钱,余额不足.\n",
      "<Consumer(Thread-38, started 32316)>准备消费425元钱,剩余46元钱,余额不足.\n",
      "<Consumer(Thread-39, started 33132)>准备消费257元钱,剩余46元钱,余额不足.\n",
      "<Consumer(Thread-38, started 32316)>准备消费126元钱,剩余46元钱,余额不足.\n",
      "<Consumer(Thread-40, started 31064)>准备消费953元钱,剩余46元钱,余额不足.\n",
      "<Consumer(Thread-39, started 33132)>准备消费473元钱,剩余46元钱,余额不足.\n",
      "<Consumer(Thread-40, started 31064)>准备消费115元钱,剩余46元钱,余额不足.\n",
      "<Consumer(Thread-38, started 32316)>准备消费183元钱,剩余46元钱,余额不足.\n",
      "<Consumer(Thread-39, started 33132)>准备消费241元钱,剩余46元钱,余额不足.\n",
      "<Consumer(Thread-40, started 31064)>准备消费330元钱,剩余46元钱,余额不足.\n",
      "<Consumer(Thread-38, started 32316)>准备消费144元钱,剩余46元钱,余额不足.\n",
      "<Consumer(Thread-39, started 33132)>准备消费351元钱,剩余46元钱,余额不足.\n",
      "<Consumer(Thread-40, started 31064)>准备消费202元钱,剩余46元钱,余额不足.\n",
      "<Consumer(Thread-38, started 32316)>准备消费894元钱,剩余46元钱,余额不足.\n",
      "<Consumer(Thread-39, started 33132)>准备消费158元钱,剩余46元钱,余额不足.\n",
      "<Consumer(Thread-38, started 32316)>准备消费407元钱,剩余46元钱,余额不足.\n",
      "<Consumer(Thread-40, started 31064)>准备消费169元钱,剩余46元钱,余额不足.\n",
      "<Consumer(Thread-39, started 33132)>准备消费758元钱,剩余46元钱,余额不足.\n",
      "<Consumer(Thread-40, started 31064)>准备消费153元钱,剩余46元钱,余额不足.\n",
      "<Consumer(Thread-38, started 32316)>准备消费572元钱,剩余46元钱,余额不足.\n",
      "<Consumer(Thread-39, started 33132)>准备消费526元钱,剩余46元钱,余额不足.\n",
      "<Consumer(Thread-40, started 31064)>准备消费530元钱,剩余46元钱,余额不足.\n",
      "<Consumer(Thread-38, started 32316)>准备消费449元钱,剩余46元钱,余额不足.\n",
      "<Consumer(Thread-39, started 33132)>准备消费612元钱,剩余46元钱,余额不足.\n"
     ]
    }
   ],
   "source": [
    "for i in range(3):\n",
    "    t = Consumer()\n",
    "    t.start()\n",
    "for i in range(5):\n",
    "    t = Producer()\n",
    "    t.start()"
   ]
  },
  {
   "cell_type": "code",
   "execution_count": null,
   "metadata": {},
   "outputs": [],
   "source": []
  },
  {
   "cell_type": "code",
   "execution_count": null,
   "metadata": {},
   "outputs": [],
   "source": []
  }
 ],
 "metadata": {
  "kernelspec": {
   "display_name": "python38",
   "language": "python",
   "name": "env_py38"
  },
  "language_info": {
   "codemirror_mode": {
    "name": "ipython",
    "version": 3
   },
   "file_extension": ".py",
   "mimetype": "text/x-python",
   "name": "python",
   "nbconvert_exporter": "python",
   "pygments_lexer": "ipython3",
   "version": "3.8.2"
  },
  "toc": {
   "base_numbering": 1,
   "nav_menu": {},
   "number_sections": true,
   "sideBar": true,
   "skip_h1_title": false,
   "title_cell": "Table of Contents",
   "title_sidebar": "Contents",
   "toc_cell": false,
   "toc_position": {},
   "toc_section_display": true,
   "toc_window_display": false
  }
 },
 "nbformat": 4,
 "nbformat_minor": 4
}
