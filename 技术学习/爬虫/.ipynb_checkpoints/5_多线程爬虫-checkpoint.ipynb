{
 "cells": [
  {
   "cell_type": "code",
   "execution_count": 12,
   "metadata": {
    "ExecuteTime": {
     "end_time": "2020-12-27T07:20:23.286040Z",
     "start_time": "2020-12-27T07:20:23.281966Z"
    }
   },
   "outputs": [],
   "source": [
    "import threading\n",
    "import time"
   ]
  },
  {
   "cell_type": "code",
   "execution_count": 13,
   "metadata": {
    "ExecuteTime": {
     "end_time": "2020-12-27T07:20:23.489782Z",
     "start_time": "2020-12-27T07:20:23.483777Z"
    }
   },
   "outputs": [],
   "source": [
    "def coding():\n",
    "    for x in range(3):\n",
    "        print(f\"正在写代码{x}\")\n",
    "        time.sleep(1)"
   ]
  },
  {
   "cell_type": "code",
   "execution_count": 14,
   "metadata": {
    "ExecuteTime": {
     "end_time": "2020-12-27T07:20:23.647700Z",
     "start_time": "2020-12-27T07:20:23.642699Z"
    }
   },
   "outputs": [],
   "source": [
    "def drawing():\n",
    "    for x in range(3):\n",
    "        print(f\"正在画画{x}\")\n",
    "        time.sleep(1)"
   ]
  },
  {
   "cell_type": "code",
   "execution_count": 15,
   "metadata": {
    "ExecuteTime": {
     "end_time": "2020-12-27T07:20:29.825394Z",
     "start_time": "2020-12-27T07:20:23.821743Z"
    }
   },
   "outputs": [
    {
     "name": "stdout",
     "output_type": "stream",
     "text": [
      "正在写代码0\n",
      "正在写代码1\n",
      "正在写代码2\n",
      "正在画画0\n",
      "正在画画1\n",
      "正在画画2\n"
     ]
    }
   ],
   "source": [
    "coding()\n",
    "drawing()"
   ]
  },
  {
   "cell_type": "code",
   "execution_count": 16,
   "metadata": {
    "ExecuteTime": {
     "end_time": "2020-12-27T07:20:29.833294Z",
     "start_time": "2020-12-27T07:20:29.827293Z"
    }
   },
   "outputs": [],
   "source": [
    "t1 = threading.Thread(target=coding)\n",
    "t2 = threading.Thread(target=drawing)"
   ]
  },
  {
   "cell_type": "code",
   "execution_count": 17,
   "metadata": {
    "ExecuteTime": {
     "end_time": "2020-12-27T07:20:29.860204Z",
     "start_time": "2020-12-27T07:20:29.839229Z"
    }
   },
   "outputs": [
    {
     "name": "stdout",
     "output_type": "stream",
     "text": [
      "正在写代码0正在画画0\n",
      "\n",
      "[<_MainThread(MainThread, started 10700)>, <Thread(Thread-4, started daemon 31936)>, <Heartbeat(Thread-5, started daemon 17888)>, <HistorySavingThread(IPythonHistorySavingThread, started 3020)>, <ParentPollerWindows(Thread-3, started daemon 5036)>, <Thread(Thread-10, started 19364)>, <Thread(Thread-11, started 17692)>]\n",
      "正在写代码1正在画画1\n",
      "\n",
      "正在画画2\n",
      "正在写代码2\n"
     ]
    }
   ],
   "source": [
    "t1.start()\n",
    "t2.start()\n",
    "print(threading.enumerate())"
   ]
  },
  {
   "cell_type": "code",
   "execution_count": 18,
   "metadata": {
    "ExecuteTime": {
     "end_time": "2020-12-27T07:25:09.236128Z",
     "start_time": "2020-12-27T07:25:09.232622Z"
    }
   },
   "outputs": [],
   "source": [
    "####################"
   ]
  },
  {
   "cell_type": "code",
   "execution_count": 20,
   "metadata": {
    "ExecuteTime": {
     "end_time": "2020-12-27T07:26:49.861521Z",
     "start_time": "2020-12-27T07:26:49.854518Z"
    }
   },
   "outputs": [],
   "source": [
    "class CodingThread(threading.Thread):\n",
    "    def run(self):\n",
    "        for x in range(3):\n",
    "            print(f\"正在写代码{x}\")\n",
    "            time.sleep(1)"
   ]
  },
  {
   "cell_type": "code",
   "execution_count": 21,
   "metadata": {
    "ExecuteTime": {
     "end_time": "2020-12-27T07:27:10.624888Z",
     "start_time": "2020-12-27T07:27:10.619885Z"
    }
   },
   "outputs": [],
   "source": [
    "class DrawingThread(threading.Thread):\n",
    "    def run(self):\n",
    "        for x in range(3):\n",
    "            print(f\"正在画图{x}\")\n",
    "            time.sleep(1)"
   ]
  },
  {
   "cell_type": "code",
   "execution_count": 23,
   "metadata": {
    "ExecuteTime": {
     "end_time": "2020-12-27T07:27:46.691373Z",
     "start_time": "2020-12-27T07:27:46.687338Z"
    }
   },
   "outputs": [],
   "source": [
    "t1 = CodingThread()\n",
    "t2 = DrawingThread()"
   ]
  },
  {
   "cell_type": "code",
   "execution_count": 24,
   "metadata": {
    "ExecuteTime": {
     "end_time": "2020-12-27T07:27:58.131351Z",
     "start_time": "2020-12-27T07:27:58.117741Z"
    }
   },
   "outputs": [
    {
     "name": "stdout",
     "output_type": "stream",
     "text": [
      "正在写代码0\n",
      "正在画图0\n",
      "正在写代码1\n",
      "正在画图1\n",
      "正在写代码2\n",
      "正在画图2\n"
     ]
    }
   ],
   "source": [
    "t1.start()\n",
    "t2.start()"
   ]
  },
  {
   "cell_type": "markdown",
   "metadata": {},
   "source": [
    "### 多线程共享全局变量的问题"
   ]
  },
  {
   "cell_type": "code",
   "execution_count": 32,
   "metadata": {
    "ExecuteTime": {
     "end_time": "2020-12-27T07:50:05.072673Z",
     "start_time": "2020-12-27T07:50:05.068676Z"
    }
   },
   "outputs": [],
   "source": [
    "import threading"
   ]
  },
  {
   "cell_type": "code",
   "execution_count": 33,
   "metadata": {
    "ExecuteTime": {
     "end_time": "2020-12-27T07:50:05.478877Z",
     "start_time": "2020-12-27T07:50:05.475876Z"
    }
   },
   "outputs": [],
   "source": [
    "VALUE = 0\n",
    "gLock = threading.Lock()"
   ]
  },
  {
   "cell_type": "code",
   "execution_count": 34,
   "metadata": {
    "ExecuteTime": {
     "end_time": "2020-12-27T07:50:05.950282Z",
     "start_time": "2020-12-27T07:50:05.945279Z"
    }
   },
   "outputs": [],
   "source": [
    "def add_value():\n",
    "    global VALUE\n",
    "    gLock.acquire()\n",
    "    for i in range(1000000):\n",
    "        VALUE += 1\n",
    "    gLock.release()\n",
    "    print(f\"Value:{VALUE}\")"
   ]
  },
  {
   "cell_type": "code",
   "execution_count": 35,
   "metadata": {
    "ExecuteTime": {
     "end_time": "2020-12-27T07:50:06.482267Z",
     "start_time": "2020-12-27T07:50:06.417996Z"
    }
   },
   "outputs": [
    {
     "name": "stdout",
     "output_type": "stream",
     "text": [
      "Value:1000000\n",
      "Value:2000000\n"
     ]
    }
   ],
   "source": [
    "for i in range(2):\n",
    "    t = threading.Thread(target=add_value)\n",
    "    t.start()"
   ]
  },
  {
   "cell_type": "markdown",
   "metadata": {},
   "source": [
    "### 生产者和消费者问题"
   ]
  },
  {
   "cell_type": "code",
   "execution_count": 84,
   "metadata": {
    "ExecuteTime": {
     "end_time": "2020-12-27T09:21:53.666777Z",
     "start_time": "2020-12-27T09:21:53.662780Z"
    }
   },
   "outputs": [
    {
     "name": "stdout",
     "output_type": "stream",
     "text": [
      "<Consumer(Thread-39, started 33132)>准备消费933元钱,剩余46元钱,余额不足.\n",
      "<Consumer(Thread-40, started 31064)>准备消费370元钱,剩余46元钱,余额不足.\n",
      "<Consumer(Thread-38, started 32316)>准备消费697元钱,剩余46元钱,余额不足.\n"
     ]
    }
   ],
   "source": [
    "import random"
   ]
  },
  {
   "cell_type": "code",
   "execution_count": 85,
   "metadata": {
    "ExecuteTime": {
     "end_time": "2020-12-27T09:21:54.047809Z",
     "start_time": "2020-12-27T09:21:54.042807Z"
    }
   },
   "outputs": [],
   "source": [
    "gMoney = 1000\n",
    "gLock = threading.Lock()\n",
    "gTotalTimes = 10\n",
    "gTimes = 0"
   ]
  },
  {
   "cell_type": "code",
   "execution_count": 86,
   "metadata": {
    "ExecuteTime": {
     "end_time": "2020-12-27T09:21:54.504838Z",
     "start_time": "2020-12-27T09:21:54.492835Z"
    }
   },
   "outputs": [
    {
     "name": "stdout",
     "output_type": "stream",
     "text": [
      "<Consumer(Thread-40, started 31064)>消费了913元钱,剩余87元钱\n",
      "<Consumer(Thread-38, started 32316)>准备消费550元钱,剩余87元钱,余额不足.\n",
      "<Consumer(Thread-39, started 33132)>准备消费539元钱,剩余87元钱,余额不足.\n",
      "<Consumer(Thread-38, started 32316)>准备消费210元钱,剩余87元钱,余额不足.\n",
      "<Consumer(Thread-39, started 33132)>准备消费143元钱,剩余87元钱,余额不足.\n",
      "<Consumer(Thread-40, started 31064)>准备消费886元钱,剩余87元钱,余额不足.\n"
     ]
    }
   ],
   "source": [
    "class Producer(threading.Thread):\n",
    "    def run(self):\n",
    "        global gMoney\n",
    "        global gTimes\n",
    "        while True:\n",
    "            money = random.randint(100,1000)\n",
    "            gLock.acquire()\n",
    "            if gTimes >= gTotalTimes:\n",
    "                gLock.release()\n",
    "                break \n",
    "            gMoney += money\n",
    "            print(f\"{threading.current_thread()}生产了{money}元钱,剩余{gMoney}元钱\")\n",
    "            gTimes += 1\n",
    "            gLock.release()\n",
    "            time.sleep(0.5)"
   ]
  },
  {
   "cell_type": "code",
   "execution_count": 87,
   "metadata": {
    "ExecuteTime": {
     "end_time": "2020-12-27T09:21:55.355760Z",
     "start_time": "2020-12-27T09:21:55.348753Z"
    }
   },
   "outputs": [
    {
     "name": "stdout",
     "output_type": "stream",
     "text": [
      "<Consumer(Thread-40, started 31064)>准备消费276元钱,剩余87元钱,余额不足.\n",
      "<Consumer(Thread-39, started 33132)>准备消费678元钱,剩余87元钱,余额不足.\n",
      "<Consumer(Thread-38, started 32316)>准备消费784元钱,剩余87元钱,余额不足.\n",
      "<Consumer(Thread-39, started 33132)>准备消费188元钱,剩余87元钱,余额不足.\n",
      "<Consumer(Thread-38, started 32316)>准备消费939元钱,剩余87元钱,余额不足.\n",
      "<Consumer(Thread-40, started 31064)>准备消费497元钱,剩余87元钱,余额不足.\n",
      "<Consumer(Thread-40, started 31064)>准备消费660元钱,剩余87元钱,余额不足.\n",
      "<Consumer(Thread-38, started 32316)>准备消费712元钱,剩余87元钱,余额不足.\n",
      "<Consumer(Thread-39, started 33132)>准备消费908元钱,剩余87元钱,余额不足.\n",
      "<Consumer(Thread-38, started 32316)>准备消费128元钱,剩余87元钱,余额不足.\n",
      "<Consumer(Thread-39, started 33132)>准备消费575元钱,剩余87元钱,余额不足.\n",
      "<Consumer(Thread-40, started 31064)>准备消费412元钱,剩余87元钱,余额不足.\n",
      "<Consumer(Thread-39, started 33132)>准备消费448元钱,剩余87元钱,余额不足.\n",
      "<Consumer(Thread-40, started 31064)>准备消费794元钱,剩余87元钱,余额不足.\n",
      "<Consumer(Thread-38, started 32316)>准备消费672元钱,剩余87元钱,余额不足.\n",
      "<Consumer(Thread-40, started 31064)>准备消费820元钱,剩余87元钱,余额不足.\n",
      "<Consumer(Thread-39, started 33132)>准备消费865元钱,剩余87元钱,余额不足.\n",
      "<Consumer(Thread-38, started 32316)>准备消费671元钱,剩余87元钱,余额不足.\n",
      "<Consumer(Thread-39, started 33132)>准备消费903元钱,剩余87元钱,余额不足.\n",
      "<Consumer(Thread-40, started 31064)>准备消费126元钱,剩余87元钱,余额不足.\n",
      "<Consumer(Thread-38, started 32316)>准备消费750元钱,剩余87元钱,余额不足.\n",
      "<Consumer(Thread-39, started 33132)>准备消费872元钱,剩余87元钱,余额不足.\n",
      "<Consumer(Thread-38, started 32316)>准备消费838元钱,剩余87元钱,余额不足.\n",
      "<Consumer(Thread-40, started 31064)>准备消费471元钱,剩余87元钱,余额不足.\n",
      "<Consumer(Thread-39, started 33132)>准备消费639元钱,剩余87元钱,余额不足.\n",
      "<Consumer(Thread-40, started 31064)>准备消费110元钱,剩余87元钱,余额不足.\n",
      "<Consumer(Thread-38, started 32316)>准备消费482元钱,剩余87元钱,余额不足.\n",
      "<Consumer(Thread-39, started 33132)>准备消费717元钱,剩余87元钱,余额不足.\n",
      "<Consumer(Thread-40, started 31064)>准备消费275元钱,剩余87元钱,余额不足.\n",
      "<Consumer(Thread-38, started 32316)>准备消费758元钱,剩余87元钱,余额不足.\n",
      "<Consumer(Thread-39, started 33132)>准备消费285元钱,剩余87元钱,余额不足.\n",
      "<Consumer(Thread-40, started 31064)>准备消费549元钱,剩余87元钱,余额不足.\n",
      "<Consumer(Thread-38, started 32316)>准备消费133元钱,剩余87元钱,余额不足.\n",
      "<Consumer(Thread-39, started 33132)>准备消费444元钱,剩余87元钱,余额不足.\n",
      "<Consumer(Thread-40, started 31064)>准备消费629元钱,剩余87元钱,余额不足.\n",
      "<Consumer(Thread-38, started 32316)>准备消费587元钱,剩余87元钱,余额不足.\n",
      "<Consumer(Thread-39, started 33132)>准备消费815元钱,剩余87元钱,余额不足.\n",
      "<Consumer(Thread-40, started 31064)>准备消费259元钱,剩余87元钱,余额不足.\n",
      "<Consumer(Thread-38, started 32316)>准备消费242元钱,剩余87元钱,余额不足.\n",
      "<Consumer(Thread-39, started 33132)>准备消费231元钱,剩余87元钱,余额不足.\n",
      "<Consumer(Thread-40, started 31064)>准备消费904元钱,剩余87元钱,余额不足.\n",
      "<Consumer(Thread-38, started 32316)>准备消费749元钱,剩余87元钱,余额不足.\n",
      "<Consumer(Thread-39, started 33132)>准备消费409元钱,剩余87元钱,余额不足.\n",
      "<Consumer(Thread-40, started 31064)>准备消费999元钱,剩余87元钱,余额不足.\n",
      "<Consumer(Thread-38, started 32316)>准备消费401元钱,剩余87元钱,余额不足.\n",
      "<Consumer(Thread-40, started 31064)>准备消费226元钱,剩余87元钱,余额不足.\n",
      "<Consumer(Thread-38, started 32316)>准备消费261元钱,剩余87元钱,余额不足.\n",
      "<Consumer(Thread-39, started 33132)>准备消费534元钱,剩余87元钱,余额不足.\n",
      "<Consumer(Thread-38, started 32316)>准备消费196元钱,剩余87元钱,余额不足.\n",
      "<Consumer(Thread-40, started 31064)>准备消费759元钱,剩余87元钱,余额不足.\n",
      "<Consumer(Thread-39, started 33132)>准备消费860元钱,剩余87元钱,余额不足.\n",
      "<Consumer(Thread-38, started 32316)>准备消费306元钱,剩余87元钱,余额不足.\n",
      "<Consumer(Thread-40, started 31064)>准备消费451元钱,剩余87元钱,余额不足.\n",
      "<Consumer(Thread-39, started 33132)>准备消费493元钱,剩余87元钱,余额不足.\n",
      "<Consumer(Thread-40, started 31064)>准备消费954元钱,剩余87元钱,余额不足.\n",
      "<Consumer(Thread-38, started 32316)>准备消费526元钱,剩余87元钱,余额不足.\n",
      "<Consumer(Thread-39, started 33132)>准备消费696元钱,剩余87元钱,余额不足.\n",
      "<Consumer(Thread-40, started 31064)>准备消费455元钱,剩余87元钱,余额不足.\n",
      "<Consumer(Thread-38, started 32316)>准备消费300元钱,剩余87元钱,余额不足.\n",
      "<Consumer(Thread-39, started 33132)>准备消费900元钱,剩余87元钱,余额不足.\n",
      "<Consumer(Thread-38, started 32316)>准备消费630元钱,剩余87元钱,余额不足.\n",
      "<Consumer(Thread-40, started 31064)>准备消费326元钱,剩余87元钱,余额不足.\n",
      "<Consumer(Thread-39, started 33132)>准备消费145元钱,剩余87元钱,余额不足.\n",
      "<Consumer(Thread-38, started 32316)>准备消费169元钱,剩余87元钱,余额不足.\n",
      "<Consumer(Thread-39, started 33132)>准备消费934元钱,剩余87元钱,余额不足.\n",
      "<Consumer(Thread-40, started 31064)>准备消费118元钱,剩余87元钱,余额不足.\n",
      "<Consumer(Thread-38, started 32316)>准备消费955元钱,剩余87元钱,余额不足.\n",
      "<Consumer(Thread-39, started 33132)>准备消费498元钱,剩余87元钱,余额不足.\n",
      "<Consumer(Thread-40, started 31064)>准备消费258元钱,剩余87元钱,余额不足.\n",
      "<Consumer(Thread-38, started 32316)>准备消费527元钱,剩余87元钱,余额不足.\n",
      "<Consumer(Thread-39, started 33132)>准备消费309元钱,剩余87元钱,余额不足.\n",
      "<Consumer(Thread-40, started 31064)>准备消费405元钱,剩余87元钱,余额不足.\n",
      "<Consumer(Thread-38, started 32316)>准备消费806元钱,剩余87元钱,余额不足.\n",
      "<Consumer(Thread-39, started 33132)>准备消费547元钱,剩余87元钱,余额不足.\n",
      "<Consumer(Thread-40, started 31064)>准备消费479元钱,剩余87元钱,余额不足.\n",
      "<Consumer(Thread-39, started 33132)>准备消费138元钱,剩余87元钱,余额不足.\n",
      "<Consumer(Thread-40, started 31064)>准备消费560元钱,剩余87元钱,余额不足.\n",
      "<Consumer(Thread-38, started 32316)>准备消费775元钱,剩余87元钱,余额不足.\n",
      "<Consumer(Thread-40, started 31064)>准备消费185元钱,剩余87元钱,余额不足.\n",
      "<Consumer(Thread-39, started 33132)>准备消费795元钱,剩余87元钱,余额不足.\n",
      "<Consumer(Thread-38, started 32316)>准备消费816元钱,剩余87元钱,余额不足.\n",
      "<Consumer(Thread-39, started 33132)>准备消费788元钱,剩余87元钱,余额不足.\n",
      "<Consumer(Thread-40, started 31064)>准备消费146元钱,剩余87元钱,余额不足.\n",
      "<Consumer(Thread-38, started 32316)>准备消费241元钱,剩余87元钱,余额不足.\n"
     ]
    }
   ],
   "source": [
    "class Consumer(threading.Thread):\n",
    "    def run(self):\n",
    "        global gMoney\n",
    "        while True:\n",
    "            money = random.randint(100,1000)\n",
    "            gLock.acquire()\n",
    "            if gMoney >= money:\n",
    "                gMoney -= money\n",
    "                print(f\"{threading.current_thread()}消费了{money}元钱,剩余{gMoney}元钱\")\n",
    "            else:\n",
    "                if gTimes >= gTotalTimes:\n",
    "                    gLock.release()\n",
    "                    break \n",
    "                print(f\"{threading.current_thread()}准备消费{money}元钱,剩余{gMoney}元钱,余额不足.\")\n",
    "            gLock.release()\n",
    "            time.sleep(0.5)"
   ]
  },
  {
   "cell_type": "code",
   "execution_count": 83,
   "metadata": {
    "ExecuteTime": {
     "end_time": "2020-12-27T09:21:37.500674Z",
     "start_time": "2020-12-27T09:21:37.484594Z"
    }
   },
   "outputs": [
    {
     "name": "stdout",
     "output_type": "stream",
     "text": [
      "<Consumer(Thread-40, started 31064)>准备消费685元钱,剩余46元钱,余额不足.\n",
      "<Consumer(Thread-39, started 33132)>准备消费460元钱,剩余46元钱,余额不足.\n",
      "<Consumer(Thread-38, started 32316)>准备消费677元钱,剩余46元钱,余额不足.\n",
      "<Consumer(Thread-40, started 31064)>准备消费811元钱,剩余46元钱,余额不足.\n",
      "<Consumer(Thread-38, started 32316)>准备消费433元钱,剩余46元钱,余额不足.\n",
      "<Consumer(Thread-39, started 33132)>准备消费566元钱,剩余46元钱,余额不足.\n",
      "<Consumer(Thread-40, started 31064)>准备消费710元钱,剩余46元钱,余额不足.\n",
      "<Consumer(Thread-38, started 32316)>准备消费978元钱,剩余46元钱,余额不足.\n",
      "<Consumer(Thread-39, started 33132)>准备消费356元钱,剩余46元钱,余额不足.\n",
      "<Consumer(Thread-40, started 31064)>准备消费848元钱,剩余46元钱,余额不足.\n",
      "<Consumer(Thread-38, started 32316)>准备消费214元钱,剩余46元钱,余额不足.\n",
      "<Consumer(Thread-39, started 33132)>准备消费146元钱,剩余46元钱,余额不足.\n",
      "<Consumer(Thread-40, started 31064)>准备消费399元钱,剩余46元钱,余额不足.\n",
      "<Consumer(Thread-38, started 32316)>准备消费425元钱,剩余46元钱,余额不足.\n",
      "<Consumer(Thread-39, started 33132)>准备消费257元钱,剩余46元钱,余额不足.\n",
      "<Consumer(Thread-38, started 32316)>准备消费126元钱,剩余46元钱,余额不足.\n",
      "<Consumer(Thread-40, started 31064)>准备消费953元钱,剩余46元钱,余额不足.\n",
      "<Consumer(Thread-39, started 33132)>准备消费473元钱,剩余46元钱,余额不足.\n",
      "<Consumer(Thread-40, started 31064)>准备消费115元钱,剩余46元钱,余额不足.\n",
      "<Consumer(Thread-38, started 32316)>准备消费183元钱,剩余46元钱,余额不足.\n",
      "<Consumer(Thread-39, started 33132)>准备消费241元钱,剩余46元钱,余额不足.\n",
      "<Consumer(Thread-40, started 31064)>准备消费330元钱,剩余46元钱,余额不足.\n",
      "<Consumer(Thread-38, started 32316)>准备消费144元钱,剩余46元钱,余额不足.\n",
      "<Consumer(Thread-39, started 33132)>准备消费351元钱,剩余46元钱,余额不足.\n",
      "<Consumer(Thread-40, started 31064)>准备消费202元钱,剩余46元钱,余额不足.\n",
      "<Consumer(Thread-38, started 32316)>准备消费894元钱,剩余46元钱,余额不足.\n",
      "<Consumer(Thread-39, started 33132)>准备消费158元钱,剩余46元钱,余额不足.\n",
      "<Consumer(Thread-38, started 32316)>准备消费407元钱,剩余46元钱,余额不足.\n",
      "<Consumer(Thread-40, started 31064)>准备消费169元钱,剩余46元钱,余额不足.\n",
      "<Consumer(Thread-39, started 33132)>准备消费758元钱,剩余46元钱,余额不足.\n",
      "<Consumer(Thread-40, started 31064)>准备消费153元钱,剩余46元钱,余额不足.\n",
      "<Consumer(Thread-38, started 32316)>准备消费572元钱,剩余46元钱,余额不足.\n",
      "<Consumer(Thread-39, started 33132)>准备消费526元钱,剩余46元钱,余额不足.\n",
      "<Consumer(Thread-40, started 31064)>准备消费530元钱,剩余46元钱,余额不足.\n",
      "<Consumer(Thread-38, started 32316)>准备消费449元钱,剩余46元钱,余额不足.\n",
      "<Consumer(Thread-39, started 33132)>准备消费612元钱,剩余46元钱,余额不足.\n"
     ]
    }
   ],
   "source": [
    "for i in range(3):\n",
    "    t = Consumer()\n",
    "    t.start()\n",
    "for i in range(5):\n",
    "    t = Producer()\n",
    "    t.start()"
   ]
  },
  {
   "cell_type": "code",
   "execution_count": null,
   "metadata": {},
   "outputs": [],
   "source": []
  },
  {
   "cell_type": "code",
   "execution_count": null,
   "metadata": {},
   "outputs": [],
   "source": []
  }
 ],
 "metadata": {
  "kernelspec": {
   "display_name": "python38",
   "language": "python",
   "name": "env_py38"
  },
  "language_info": {
   "codemirror_mode": {
    "name": "ipython",
    "version": 3
   },
   "file_extension": ".py",
   "mimetype": "text/x-python",
   "name": "python",
   "nbconvert_exporter": "python",
   "pygments_lexer": "ipython3",
   "version": "3.8.2"
  },
  "toc": {
   "base_numbering": 1,
   "nav_menu": {},
   "number_sections": true,
   "sideBar": true,
   "skip_h1_title": false,
   "title_cell": "Table of Contents",
   "title_sidebar": "Contents",
   "toc_cell": false,
   "toc_position": {},
   "toc_section_display": true,
   "toc_window_display": false
  }
 },
 "nbformat": 4,
 "nbformat_minor": 4
}
