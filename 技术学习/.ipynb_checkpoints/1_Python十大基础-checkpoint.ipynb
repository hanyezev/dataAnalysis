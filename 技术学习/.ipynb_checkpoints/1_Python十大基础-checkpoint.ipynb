{
 "cells": [
  {
   "cell_type": "markdown",
   "metadata": {},
   "source": [
    "## Python数值"
   ]
  },
  {
   "cell_type": "code",
   "execution_count": 4,
   "metadata": {},
   "outputs": [
    {
     "data": {
      "text/plain": [
       "1"
      ]
     },
     "execution_count": 4,
     "metadata": {},
     "output_type": "execute_result"
    }
   ],
   "source": [
    "# 取整\n",
    "8//5"
   ]
  },
  {
   "cell_type": "code",
   "execution_count": 6,
   "metadata": {},
   "outputs": [
    {
     "data": {
      "text/plain": [
       "'0b1000'"
      ]
     },
     "execution_count": 6,
     "metadata": {},
     "output_type": "execute_result"
    }
   ],
   "source": [
    "# 十进制转二进制\n",
    "bin(8)"
   ]
  },
  {
   "cell_type": "code",
   "execution_count": 7,
   "metadata": {},
   "outputs": [
    {
     "data": {
      "text/plain": [
       "'0o10'"
      ]
     },
     "execution_count": 7,
     "metadata": {},
     "output_type": "execute_result"
    }
   ],
   "source": [
    "# 十进制转八进制\n",
    "oct(8)"
   ]
  },
  {
   "cell_type": "code",
   "execution_count": 8,
   "metadata": {},
   "outputs": [
    {
     "data": {
      "text/plain": [
       "'0x8'"
      ]
     },
     "execution_count": 8,
     "metadata": {},
     "output_type": "execute_result"
    }
   ],
   "source": [
    "# 十进制转十六进制\n",
    "hex(8)"
   ]
  },
  {
   "cell_type": "code",
   "execution_count": 18,
   "metadata": {},
   "outputs": [
    {
     "data": {
      "text/plain": [
       "12"
      ]
     },
     "execution_count": 18,
     "metadata": {},
     "output_type": "execute_result"
    }
   ],
   "source": [
    "# 字符串或数值转整数\n",
    "# 默认10就是表示使用十进制\n",
    "int('12', base=10)"
   ]
  },
  {
   "cell_type": "code",
   "execution_count": 19,
   "metadata": {},
   "outputs": [
    {
     "data": {
      "text/plain": [
       "(3, 1)"
      ]
     },
     "execution_count": 19,
     "metadata": {},
     "output_type": "execute_result"
    }
   ],
   "source": [
    "# 取商和余数\n",
    "divmod(10, 3)"
   ]
  },
  {
   "cell_type": "code",
   "execution_count": 21,
   "metadata": {},
   "outputs": [
    {
     "data": {
      "text/plain": [
       "4"
      ]
     },
     "execution_count": 21,
     "metadata": {},
     "output_type": "execute_result"
    }
   ],
   "source": [
    "# 先幂再取余\n",
    "pow(3, 2, 5)"
   ]
  },
  {
   "cell_type": "code",
   "execution_count": 22,
   "metadata": {},
   "outputs": [
    {
     "data": {
      "text/plain": [
       "10.21"
      ]
     },
     "execution_count": 22,
     "metadata": {},
     "output_type": "execute_result"
    }
   ],
   "source": [
    "# 五舍六入\n",
    "round(10.215, 2)"
   ]
  },
  {
   "cell_type": "code",
   "execution_count": 1,
   "metadata": {},
   "outputs": [
    {
     "data": {
      "text/plain": [
       "9"
      ]
     },
     "execution_count": 1,
     "metadata": {},
     "output_type": "execute_result"
    }
   ],
   "source": [
    "# 计算字符串表达式\n",
    "s = '1 + 2 + 6'\n",
    "eval(s)"
   ]
  },
  {
   "cell_type": "code",
   "execution_count": 2,
   "metadata": {},
   "outputs": [
    {
     "data": {
      "text/plain": [
       "True"
      ]
     },
     "execution_count": 2,
     "metadata": {},
     "output_type": "execute_result"
    }
   ],
   "source": [
    "# 链式比较\n",
    "i = 3\n",
    "1 < i <= 3"
   ]
  },
  {
   "cell_type": "code",
   "execution_count": 4,
   "metadata": {},
   "outputs": [
    {
     "data": {
      "text/plain": [
       "3"
      ]
     },
     "execution_count": 4,
     "metadata": {},
     "output_type": "execute_result"
    }
   ],
   "source": [
    "# 元素交换\n",
    "a, b = 1, 3\n",
    "a, b = b, a\n",
    "a"
   ]
  },
  {
   "cell_type": "markdown",
   "metadata": {},
   "source": [
    "## 字符串"
   ]
  },
  {
   "cell_type": "code",
   "execution_count": 8,
   "metadata": {},
   "outputs": [
    {
     "name": "stdout",
     "output_type": "stream",
     "text": [
      "This isn't a horse!\n"
     ]
    }
   ],
   "source": [
    "# \"\"和''的使用\n",
    "a = \"This isn't a horse!\"\n",
    "print(a)"
   ]
  },
  {
   "cell_type": "code",
   "execution_count": 10,
   "metadata": {},
   "outputs": [],
   "source": [
    "# \\n 换行\n",
    "# \\t Tab空格"
   ]
  },
  {
   "cell_type": "code",
   "execution_count": 11,
   "metadata": {},
   "outputs": [
    {
     "name": "stdout",
     "output_type": "stream",
     "text": [
      "*****\n"
     ]
    }
   ],
   "source": [
    "# 字符串克隆\n",
    "a = 5*\"*\"\n",
    "print(a)"
   ]
  },
  {
   "cell_type": "code",
   "execution_count": 12,
   "metadata": {},
   "outputs": [
    {
     "name": "stdout",
     "output_type": "stream",
     "text": [
      "Python\n"
     ]
    }
   ],
   "source": [
    "# 字符串结合\n",
    "a = 'Py'\"thon\"\n",
    "print(a)"
   ]
  },
  {
   "cell_type": "code",
   "execution_count": 16,
   "metadata": {},
   "outputs": [
    {
     "name": "stdout",
     "output_type": "stream",
     "text": [
      "37073\n",
      "郑\n"
     ]
    }
   ],
   "source": [
    "# 字符与数值互转\n",
    "print(ord('郑'))\n",
    "print(chr(37073))"
   ]
  },
  {
   "cell_type": "code",
   "execution_count": 20,
   "metadata": {},
   "outputs": [
    {
     "data": {
      "text/plain": [
       "b'python'"
      ]
     },
     "execution_count": 20,
     "metadata": {},
     "output_type": "execute_result"
    }
   ],
   "source": [
    "# 字符串转字节\n",
    "a = \"python\"\n",
    "b = bytes(a, encoding='UTF-8')\n",
    "b"
   ]
  },
  {
   "cell_type": "code",
   "execution_count": 23,
   "metadata": {},
   "outputs": [
    {
     "name": "stdout",
     "output_type": "stream",
     "text": [
      "我叫郑晨,今年23岁。\n",
      "我叫zev,今年24岁。\n"
     ]
    }
   ],
   "source": [
    "# 字符串打印\n",
    "# 方法一\n",
    "print(\"我叫{},今年{}岁。\".format(\"郑晨\", 23))\n",
    "# 方法二\n",
    "a = \"zev\"\n",
    "b = 24\n",
    "print(f'我叫{a},今年{b}岁。')"
   ]
  },
  {
   "cell_type": "markdown",
   "metadata": {},
   "source": [
    "### 输出控制"
   ]
  },
  {
   "cell_type": "code",
   "execution_count": 29,
   "metadata": {},
   "outputs": [
    {
     "name": "stdout",
     "output_type": "stream",
     "text": [
      "a = 3.15\n",
      "a = +3.15\n"
     ]
    }
   ],
   "source": [
    "# 1.保留小数点后两位,四舍五入\n",
    "print(\"a = {:.2f}\".format(3.1455))\n",
    "# 2.带符号保留小数点后两位,四舍五入\n",
    "print(\"a = {:+.2f}\".format(3.1455))"
   ]
  },
  {
   "cell_type": "code",
   "execution_count": 32,
   "metadata": {},
   "outputs": [
    {
     "name": "stdout",
     "output_type": "stream",
     "text": [
      "a = 003\n",
      "1,232,414\n"
     ]
    }
   ],
   "source": [
    "# 3.整数补零,填充左边,宽度为3\n",
    "print(\"a = {:0>3d}\".format(3))\n",
    "# 4.逗号分隔\n",
    "print(\"{:,}\".format(1232414))"
   ]
  },
  {
   "cell_type": "code",
   "execution_count": 38,
   "metadata": {},
   "outputs": [
    {
     "name": "stdout",
     "output_type": "stream",
     "text": [
      "89.00%\n",
      "2.13e+08\n"
     ]
    }
   ],
   "source": [
    "# 5.输出百分比\n",
    "print(\"{:.2%}\".format(0.89))\n",
    "# 6.输出指数计法\n",
    "print(\"{:.2e}\".format(213124124))"
   ]
  },
  {
   "cell_type": "markdown",
   "metadata": {},
   "source": [
    "### 字符串处理"
   ]
  },
  {
   "cell_type": "code",
   "execution_count": 42,
   "metadata": {},
   "outputs": [
    {
     "data": {
      "text/plain": [
       "'P-y-t-h-o-n'"
      ]
     },
     "execution_count": 42,
     "metadata": {},
     "output_type": "execute_result"
    }
   ],
   "source": [
    "# 字符拼接\n",
    "chars = ['P','y','t','h','o','n']\n",
    "'-'.join(chars)"
   ]
  },
  {
   "cell_type": "code",
   "execution_count": 46,
   "metadata": {},
   "outputs": [
    {
     "name": "stdout",
     "output_type": "stream",
     "text": [
      "['Python', 'and', 'C++']\n",
      "['Python', 'and C++']\n"
     ]
    }
   ],
   "source": [
    "# 字符串分隔\n",
    "print(\"Python and C++\".split(' '))\n",
    "print(\"Python and C++\".split(' ',1)) # 做一次分割"
   ]
  },
  {
   "cell_type": "code",
   "execution_count": 50,
   "metadata": {},
   "outputs": [
    {
     "name": "stdout",
     "output_type": "stream",
     "text": [
      "代码复用能够大大简化bai我们的工作。面向du对象\n",
      "的语言中一般是通过对类的zhi重复使用来达到代码复\n",
      "dao用的目的的，Java也不例外。在Java中，\n",
      "复用类有两种方式，合成（has-a）与继承（is-\n",
      "a）。合成就是在新的类中直接创建旧类的对象，这里我\n",
      "们复用的只是代码的功能而不是它的形式。而继承是在原\n",
      "有的类的基础上建立一个新类，新类具有旧类的形式，但\n",
      "也加入了一些新的特性。这一章介绍的主要就是合成与继\n",
      "承方面的知识。\n"
     ]
    }
   ],
   "source": [
    "# 每行12个字符\n",
    "import textwrap\n",
    "words = \"代码复用能够大大简化bai我们的工作。面向du对象的语言中一般是通过对类的zhi重复使用来达到代码复dao用的目的的，Java也不例外。在Java中，复用类有两种方式，合成（has-a）与继承（is-a）。合成就是在新的类中直接创建旧类的对象，这里我们复用的只是代码的功能而不是它的形式。而继承是在原有的类的基础上建立一个新类，新类具有旧类的形式，但也加入了一些新的特性。这一章介绍的主要就是合成与继承方面的知识。\"\n",
    "word_12 = textwrap.fill(words,25)\n",
    "print(word_12)"
   ]
  },
  {
   "cell_type": "markdown",
   "metadata": {},
   "source": [
    "## 列表"
   ]
  },
  {
   "cell_type": "code",
   "execution_count": 52,
   "metadata": {},
   "outputs": [
    {
     "data": {
      "text/plain": [
       "[3, 5]"
      ]
     },
     "execution_count": 52,
     "metadata": {},
     "output_type": "execute_result"
    }
   ],
   "source": [
    "# 间隔切片\n",
    "a = [1,2,3,4,5,6,7]\n",
    "a[2:6:2]"
   ]
  },
  {
   "cell_type": "markdown",
   "metadata": {},
   "source": [
    "### 添加单个元素"
   ]
  },
  {
   "cell_type": "code",
   "execution_count": 61,
   "metadata": {},
   "outputs": [
    {
     "data": {
      "text/plain": [
       "[1, 2, 3, 4, 5, 6, 7, 8]"
      ]
     },
     "execution_count": 61,
     "metadata": {},
     "output_type": "execute_result"
    }
   ],
   "source": [
    "# append方法\n",
    "a = [1,2,3,4,5,6,7]\n",
    "a.append(8)\n",
    "a"
   ]
  },
  {
   "cell_type": "code",
   "execution_count": 57,
   "metadata": {},
   "outputs": [
    {
     "data": {
      "text/plain": [
       "[1, 2, 5, 3, 4, 5, 6, 7]"
      ]
     },
     "execution_count": 57,
     "metadata": {},
     "output_type": "execute_result"
    }
   ],
   "source": [
    "# insert方法\n",
    "a = [1,2,3,4,5,6,7]\n",
    "a.insert(2, 5)\n",
    "a"
   ]
  },
  {
   "cell_type": "markdown",
   "metadata": {},
   "source": [
    "### 添加多个元素"
   ]
  },
  {
   "cell_type": "code",
   "execution_count": 65,
   "metadata": {},
   "outputs": [
    {
     "data": {
      "text/plain": [
       "[1, 2, 3, 4, 5, 6, 7, 25, 26]"
      ]
     },
     "execution_count": 65,
     "metadata": {},
     "output_type": "execute_result"
    }
   ],
   "source": [
    "# exted方法\n",
    "a = [1,2,3,4,5,6,7]\n",
    "a.extend([25,26])\n",
    "a"
   ]
  },
  {
   "cell_type": "code",
   "execution_count": 67,
   "metadata": {},
   "outputs": [
    {
     "data": {
      "text/plain": [
       "[1, 2, 3, 4, 5, 6, 7, 25, 26, 27, 28]"
      ]
     },
     "execution_count": 67,
     "metadata": {},
     "output_type": "execute_result"
    }
   ],
   "source": [
    "# + 方法\n",
    "b = a + [27,28]\n",
    "b"
   ]
  },
  {
   "cell_type": "markdown",
   "metadata": {},
   "source": [
    "### 删除元素"
   ]
  },
  {
   "cell_type": "code",
   "execution_count": 70,
   "metadata": {},
   "outputs": [
    {
     "data": {
      "text/plain": [
       "[1, 3, 4, 5, 2, 6, 7]"
      ]
     },
     "execution_count": 70,
     "metadata": {},
     "output_type": "execute_result"
    }
   ],
   "source": [
    "# remove方法,仅删除出现的第一个\n",
    "a = [1,2,3,4,5,2,6,7]\n",
    "a.remove(2)\n",
    "a"
   ]
  },
  {
   "cell_type": "code",
   "execution_count": 73,
   "metadata": {},
   "outputs": [
    {
     "data": {
      "text/plain": [
       "[1, 2, 4, 5, 2, 6, 7]"
      ]
     },
     "execution_count": 73,
     "metadata": {},
     "output_type": "execute_result"
    }
   ],
   "source": [
    "# pop方法,删除最后一个或索引位置\n",
    "a = [1,2,3,4,5,2,6,7]\n",
    "a.pop(2)\n",
    "a"
   ]
  },
  {
   "cell_type": "code",
   "execution_count": 75,
   "metadata": {},
   "outputs": [
    {
     "data": {
      "text/plain": [
       "[1, 2, 4, 5, 2, 6, 7]"
      ]
     },
     "execution_count": 75,
     "metadata": {},
     "output_type": "execute_result"
    }
   ],
   "source": [
    "# del方法,删除指定索引位置\n",
    "a = [1,2,3,4,5,2,6,7]\n",
    "del a[2]\n",
    "a"
   ]
  },
  {
   "cell_type": "code",
   "execution_count": 5,
   "metadata": {},
   "outputs": [
    {
     "name": "stdout",
     "output_type": "stream",
     "text": [
      "2\n",
      "6\n",
      "7\n",
      "4\n",
      "8\n",
      "4\n",
      "9\n"
     ]
    },
    {
     "data": {
      "text/plain": [
       "True"
      ]
     },
     "execution_count": 5,
     "metadata": {},
     "output_type": "execute_result"
    }
   ],
   "source": [
    "# list 和 in\n",
    "a = [2,6,7,4,8,4,9]\n",
    "for item in a:\n",
    "    print(item)\n",
    "2 in a"
   ]
  },
  {
   "cell_type": "markdown",
   "metadata": {},
   "source": [
    "### list"
   ]
  },
  {
   "cell_type": "code",
   "execution_count": 7,
   "metadata": {},
   "outputs": [
    {
     "data": {
      "text/plain": [
       "[[2], [], []]"
      ]
     },
     "execution_count": 7,
     "metadata": {},
     "output_type": "execute_result"
    }
   ],
   "source": [
    "# list*数字\n",
    "a = [[]]*3\n",
    "a[0] = [2]\n",
    "a"
   ]
  },
  {
   "cell_type": "markdown",
   "metadata": {},
   "source": [
    "### 列表生成式"
   ]
  },
  {
   "cell_type": "code",
   "execution_count": 17,
   "metadata": {},
   "outputs": [
    {
     "name": "stdout",
     "output_type": "stream",
     "text": [
      "[1, 3, 5, 7, 9, 11, 13, 15, 17, 19, 21, 23, 25, 27, 29, 31, 33, 35, 37, 39, 41, 43, 45, 47, 49]\n"
     ]
    }
   ],
   "source": [
    "# i&1 判断是否为奇数\n",
    "a = [i for i in range(50) if i&1]\n",
    "print(a)"
   ]
  },
  {
   "cell_type": "markdown",
   "metadata": {},
   "source": [
    "### 其他API"
   ]
  },
  {
   "cell_type": "code",
   "execution_count": 18,
   "metadata": {},
   "outputs": [
    {
     "data": {
      "text/plain": [
       "2"
      ]
     },
     "execution_count": 18,
     "metadata": {},
     "output_type": "execute_result"
    }
   ],
   "source": [
    "# clear,index\n",
    "a = [2,5,7]\n",
    "a.index(7)"
   ]
  },
  {
   "cell_type": "code",
   "execution_count": 19,
   "metadata": {},
   "outputs": [
    {
     "data": {
      "text/plain": [
       "2"
      ]
     },
     "execution_count": 19,
     "metadata": {},
     "output_type": "execute_result"
    }
   ],
   "source": [
    "# count计数\n",
    "a = [2,5,7,2,5,7]\n",
    "a.count(2)"
   ]
  },
  {
   "cell_type": "code",
   "execution_count": 20,
   "metadata": {},
   "outputs": [
    {
     "data": {
      "text/plain": [
       "[(9, -10), (3, 1), (4, 1), (5, 3), (1, 4)]"
      ]
     },
     "execution_count": 20,
     "metadata": {},
     "output_type": "execute_result"
    }
   ],
   "source": [
    "# sort排序,按第二个值排序\n",
    "a = [(3,1),(4,1),(1,4),(5,3),(9,-10)]\n",
    "a.sort(key=lambda x:x[1])\n",
    "a"
   ]
  },
  {
   "cell_type": "code",
   "execution_count": 1,
   "metadata": {},
   "outputs": [
    {
     "data": {
      "text/plain": [
       "[7, 5, 2, 7, 5, 2]"
      ]
     },
     "execution_count": 1,
     "metadata": {},
     "output_type": "execute_result"
    }
   ],
   "source": [
    "# reverse 反转\n",
    "a = [2,5,7,2,5,7]\n",
    "a.reverse()\n",
    "a"
   ]
  },
  {
   "cell_type": "markdown",
   "metadata": {},
   "source": [
    "### 深浅拷贝"
   ]
  },
  {
   "cell_type": "code",
   "execution_count": 26,
   "metadata": {},
   "outputs": [
    {
     "data": {
      "text/plain": [
       "[1, 3, 5]"
      ]
     },
     "execution_count": 26,
     "metadata": {},
     "output_type": "execute_result"
    }
   ],
   "source": [
    "# 浅拷贝,只拷贝一层\n",
    "c = [1, 3, 5]\n",
    "cc = c.copy()\n",
    "c[1] = 2\n",
    "cc"
   ]
  },
  {
   "cell_type": "code",
   "execution_count": 30,
   "metadata": {},
   "outputs": [
    {
     "data": {
      "text/plain": [
       "[[1, 3], [0, 7]]"
      ]
     },
     "execution_count": 30,
     "metadata": {},
     "output_type": "execute_result"
    }
   ],
   "source": [
    "# 内嵌一层后\n",
    "c = [[1,3],[4,7]]\n",
    "cc = c.copy()\n",
    "cc[1][0] = 0\n",
    "c"
   ]
  },
  {
   "cell_type": "code",
   "execution_count": 34,
   "metadata": {},
   "outputs": [],
   "source": [
    "# 列表可变性\n",
    "# a = [1,3]\n",
    "a = (1,3)\n",
    "d = {a:'不可哈希'}"
   ]
  },
  {
   "cell_type": "markdown",
   "metadata": {},
   "source": [
    "## 流程控制"
   ]
  },
  {
   "cell_type": "raw",
   "metadata": {},
   "source": [
    "关键字if, elif, for, while, break, continue, else, return, yield, pass"
   ]
  },
  {
   "cell_type": "code",
   "execution_count": 38,
   "metadata": {},
   "outputs": [],
   "source": [
    "# for用法\n",
    "# 1.控制循环次数\n",
    "# 2.遍历容器内的元素"
   ]
  },
  {
   "cell_type": "markdown",
   "metadata": {},
   "source": [
    "### while,break,continue"
   ]
  },
  {
   "cell_type": "code",
   "execution_count": 48,
   "metadata": {},
   "outputs": [
    {
     "name": "stdout",
     "output_type": "stream",
     "text": [
      "Plese inut an Integer:12\n",
      "输入了一个整数 12, input结束\n"
     ]
    }
   ],
   "source": [
    "while True:\n",
    "    a = input('Plese inut an Integer:') # a=输入的字符串\n",
    "    try:\n",
    "        ai = int(a)\n",
    "        print('输入了一个整数 %d, input结束' % (ai,))\n",
    "        break\n",
    "    except:\n",
    "        print(\"%s isn't a Integer\" % (a,))"
   ]
  },
  {
   "cell_type": "code",
   "execution_count": 3,
   "metadata": {},
   "outputs": [
    {
     "name": "stdout",
     "output_type": "stream",
     "text": [
      "得到一个大于0的数: 1\n",
      "得到一个大于0的数: 5\n"
     ]
    }
   ],
   "source": [
    "nums = [-1,1,-3,5]\n",
    "for num in nums:\n",
    "    if num <= 0:\n",
    "        continue\n",
    "    print('得到一个大于0的数: %d' % (num,))"
   ]
  },
  {
   "cell_type": "markdown",
   "metadata": {},
   "source": [
    "### for 循环增删元素"
   ]
  },
  {
   "cell_type": "code",
   "execution_count": 8,
   "metadata": {},
   "outputs": [],
   "source": [
    "# def delItems(nums, target):\n",
    "#     for item in nums:\n",
    "#         if item == target:\n",
    "#             nums.remove(item)\n",
    "#     return nums\n",
    "\n",
    "def delItems(nums, target):\n",
    "    i = 0\n",
    "    while i < len(nums):\n",
    "        if nums[i] == target:\n",
    "            del nums[i]\n",
    "            i -= 1\n",
    "        i += 1\n",
    "    return nums"
   ]
  },
  {
   "cell_type": "code",
   "execution_count": 9,
   "metadata": {},
   "outputs": [
    {
     "data": {
      "text/plain": [
       "[2, 3, 3]"
      ]
     },
     "execution_count": 9,
     "metadata": {},
     "output_type": "execute_result"
    }
   ],
   "source": [
    "r = delItems([2,1,3,1,1,3], 1)\n",
    "r"
   ]
  },
  {
   "cell_type": "markdown",
   "metadata": {},
   "source": [
    "### range"
   ]
  },
  {
   "cell_type": "raw",
   "metadata": {},
   "source": [
    "range 函数为了高效节省内存，一次只返回一个值，而不是直接将构成序列的全部元素加载到\n",
    "内存。"
   ]
  },
  {
   "cell_type": "code",
   "execution_count": 16,
   "metadata": {},
   "outputs": [
    {
     "name": "stdout",
     "output_type": "stream",
     "text": [
      "0,1,2,3,4,5,6,7,8,9,"
     ]
    }
   ],
   "source": [
    "for i in range(10):\n",
    "    print(i, end=',')"
   ]
  },
  {
   "cell_type": "code",
   "execution_count": null,
   "metadata": {},
   "outputs": [],
   "source": [
    "from collections.abc import Iterable\n",
    "isinstance(range(10), Iterable)"
   ]
  },
  {
   "cell_type": "code",
   "execution_count": 26,
   "metadata": {},
   "outputs": [
    {
     "data": {
      "text/plain": [
       "[0, 1, 2, 3, 4, 5, 6, 7, 8, 9]"
      ]
     },
     "execution_count": 26,
     "metadata": {},
     "output_type": "execute_result"
    }
   ],
   "source": [
    "list(range(10))"
   ]
  },
  {
   "cell_type": "markdown",
   "metadata": {},
   "source": [
    "### ***循环和else"
   ]
  },
  {
   "cell_type": "raw",
   "metadata": {},
   "source": [
    "Python一大特色： while , for 能和else 组对，不仅如此， try except 和else 也能组对，\n",
    "下面介绍它们存在的价值。"
   ]
  },
  {
   "cell_type": "code",
   "execution_count": null,
   "metadata": {},
   "outputs": [],
   "source": [
    "# for 和else 组对的功能： for 遍历完成后执行else ，但是触发break 后， else 不执行。\n",
    "for num in range(2, 16):\n",
    "    for item in range(2, num):\n",
    "        if num % item == 0:\n",
    "            print('%d = %d * %d' % (num, item, num//item))\n",
    "            break\n",
    "    else:\n",
    "        print('%d is prime' % (num))"
   ]
  },
  {
   "cell_type": "markdown",
   "metadata": {},
   "source": [
    "### pass 与接口"
   ]
  },
  {
   "cell_type": "markdown",
   "metadata": {},
   "source": [
    "Python中最特别的关键字之一便是pass ，它放在类或函数里，表示类和函数暂不定义。"
   ]
  },
  {
   "cell_type": "code",
   "execution_count": 1,
   "metadata": {
    "ExecuteTime": {
     "end_time": "2020-10-20T08:58:34.327080Z",
     "start_time": "2020-10-20T08:58:34.324078Z"
    }
   },
   "outputs": [],
   "source": [
    "class PassClass:\n",
    "    pass"
   ]
  },
  {
   "cell_type": "code",
   "execution_count": 2,
   "metadata": {
    "ExecuteTime": {
     "end_time": "2020-10-20T08:59:02.440954Z",
     "start_time": "2020-10-20T08:59:02.437955Z"
    }
   },
   "outputs": [],
   "source": [
    "def PassFun():\n",
    "    pass"
   ]
  },
  {
   "cell_type": "code",
   "execution_count": 3,
   "metadata": {
    "ExecuteTime": {
     "end_time": "2020-10-20T09:05:02.353820Z",
     "start_time": "2020-10-20T09:05:02.347821Z"
    }
   },
   "outputs": [],
   "source": [
    "# 定义接口\n",
    "from interface import implements,Interface\n",
    "class MyInterface(Interface):\n",
    "    \n",
    "    def method1(self, x):\n",
    "        pass\n",
    "    \n",
    "    def method2(self, x, y):\n",
    "        pass"
   ]
  },
  {
   "cell_type": "code",
   "execution_count": 4,
   "metadata": {
    "ExecuteTime": {
     "end_time": "2020-10-20T09:05:02.828168Z",
     "start_time": "2020-10-20T09:05:02.824167Z"
    }
   },
   "outputs": [],
   "source": [
    "class MyClass(implements(MyInterface)):\n",
    "    def method1(self, x):\n",
    "        return x * 2\n",
    "    def method2(self, x, y):\n",
    "        return x + y"
   ]
  },
  {
   "cell_type": "markdown",
   "metadata": {},
   "source": [
    "### return and yield"
   ]
  },
  {
   "cell_type": "markdown",
   "metadata": {},
   "source": [
    "程序遇到return 和yield 都是立即中断返回。那么yield 和return 又有什么不同呢？\n",
    "与 return 不同， yield 中断返回后，下一次迭代会进入到yield后面的下一行代码，而不像\n",
    "return下一次执行还是从函数体的第一句开始执行。"
   ]
  },
  {
   "cell_type": "code",
   "execution_count": 10,
   "metadata": {
    "ExecuteTime": {
     "end_time": "2020-10-20T09:13:27.838779Z",
     "start_time": "2020-10-20T09:13:27.832779Z"
    }
   },
   "outputs": [
    {
     "name": "stdout",
     "output_type": "stream",
     "text": [
      "1 1 2 3 5 8 13 21 34 55 "
     ]
    }
   ],
   "source": [
    "def fibonacci(n):\n",
    "    a, b = 1, 1\n",
    "    for _ in range(n):\n",
    "        yield a\n",
    "        a, b = b, a + b\n",
    "for fib in fibonacci(10):\n",
    "    print(fib,end=' ')"
   ]
  },
  {
   "cell_type": "markdown",
   "metadata": {},
   "source": [
    "以上就是理解yield 的重要一个点，当然yield 还会与from 连用，还能与send 实现协程\n",
    "等"
   ]
  },
  {
   "cell_type": "markdown",
   "metadata": {},
   "source": [
    "### 短路原则"
   ]
  },
  {
   "cell_type": "markdown",
   "metadata": {},
   "source": [
    "布尔运算符 and 和 or 也被称为短路运算符：它们的参数从左至右解析，一旦可以确定结果解析就会停止。"
   ]
  },
  {
   "cell_type": "code",
   "execution_count": 11,
   "metadata": {
    "ExecuteTime": {
     "end_time": "2020-10-20T09:17:18.111917Z",
     "start_time": "2020-10-20T09:17:18.106916Z"
    }
   },
   "outputs": [
    {
     "name": "stdout",
     "output_type": "stream",
     "text": [
      "\n"
     ]
    }
   ],
   "source": [
    "a = ''\n",
    "b = a and 'i will not execute'\n",
    "print(b)"
   ]
  },
  {
   "cell_type": "code",
   "execution_count": 12,
   "metadata": {
    "ExecuteTime": {
     "end_time": "2020-10-20T09:17:41.015146Z",
     "start_time": "2020-10-20T09:17:41.011064Z"
    }
   },
   "outputs": [
    {
     "name": "stdout",
     "output_type": "stream",
     "text": [
      "python\n"
     ]
    }
   ],
   "source": [
    "a = 'python'\n",
    "b = a or 'i will not execute'\n",
    "print(b)"
   ]
  },
  {
   "cell_type": "markdown",
   "metadata": {},
   "source": [
    "## Python编程习惯"
   ]
  },
  {
   "cell_type": "markdown",
   "metadata": {},
   "source": [
    "Python代码的编程习惯主要参考PEP8 :https://www.python.org/dev/peps/pep-0008/"
   ]
  },
  {
   "cell_type": "markdown",
   "metadata": {},
   "source": [
    "里面主要包括如每行代码长度不超过79，函数间空一行等。\n",
    "其实这些格式化的东西，现有的工具能够辅助我们很快满足编程风格，如flake8 等小插件。"
   ]
  },
  {
   "cell_type": "raw",
   "metadata": {
    "ExecuteTime": {
     "end_time": "2020-10-20T09:25:37.345431Z",
     "start_time": "2020-10-20T09:25:37.340953Z"
    }
   },
   "source": [
    "1.多余的空格  \n",
    "2.是否为 None 判断  \n",
    "3.lamda 表达式  \n",
    "4.最小化受保护代码  \n",
    "5.保持逻辑完整性  \n",
    "6.使用语义更加明确的方法  "
   ]
  },
  {
   "cell_type": "markdown",
   "metadata": {},
   "source": [
    "### EAFP 防御编程风格"
   ]
  },
  {
   "cell_type": "raw",
   "metadata": {
    "ExecuteTime": {
     "end_time": "2020-10-21T01:01:08.405441Z",
     "start_time": "2020-10-21T01:01:08.399451Z"
    }
   },
   "source": [
    "import os\n",
    "try:\n",
    "    os.makedirs(path)\n",
    "except OSError as exception:\n",
    "    if exception.errno != errno.EEXIST:\n",
    "        raise # PermissionError 等异常\n",
    "    else:\n",
    "        # path 目录已存在"
   ]
  },
  {
   "cell_type": "raw",
   "metadata": {},
   "source": [
    "首先相信程序会正确执行，然后如果出错了我们再处理错误。"
   ]
  },
  {
   "cell_type": "raw",
   "metadata": {},
   "source": [
    "使用try 和except 这种防御风格，优点明显，try里只写我们的业务逻辑，except里写异常处理\n",
    "逻辑，几乎无多余代码，Python指南里也提倡使用这种风格。"
   ]
  },
  {
   "cell_type": "raw",
   "metadata": {},
   "source": [
    "EAFP防御风格有何问题呢？举一个例子，如下try块里的逻辑：出现某种情况修改磁盘的csv文件里的某个值，这些逻辑都顺\n",
    "利完成，但是走到下面这句代码时程序出现异常，进而被except 捕获，然后做一些异常处理："
   ]
  },
  {
   "cell_type": "raw",
   "metadata": {
    "ExecuteTime": {
     "end_time": "2020-10-21T01:04:06.350628Z",
     "start_time": "2020-10-21T01:04:05.918089Z"
    }
   },
   "source": [
    "try:\n",
    "    if condition:\n",
    "        revise_csv() # 已经污染csv文件\n",
    "        do_something() # 触发异常\n",
    "except Exception:\n",
    "    handle_exception()"
   ]
  },
  {
   "cell_type": "raw",
   "metadata": {},
   "source": [
    "由于try块里的逻辑分为两步执行，它们不是一个原子操作，所以首先修改了csv文件，但\n",
    "是do_something 却出现异常，导致污染csv文件。"
   ]
  },
  {
   "cell_type": "markdown",
   "metadata": {},
   "source": [
    "### LBYL 防御编程风格"
   ]
  },
  {
   "cell_type": "raw",
   "metadata": {
    "ExecuteTime": {
     "end_time": "2020-10-21T01:05:34.990216Z",
     "start_time": "2020-10-21T01:05:34.979217Z"
    }
   },
   "source": [
    "import os\n",
    "if not os.path.isdir(path):\n",
    "    print('不是一个合法路径')\n",
    "else:\n",
    "    if not os.path.exists(path):\n",
    "        os.makedirs(path)\n",
    "    else:\n",
    "        print('路径已存在')"
   ]
  },
  {
   "cell_type": "raw",
   "metadata": {},
   "source": [
    "缺点太多:"
   ]
  },
  {
   "cell_type": "raw",
   "metadata": {},
   "source": [
    "1.程序每次运行都要检查\n",
    "2.很难一次考虑所有可能异常\n",
    "3.代码的可读性下降"
   ]
  },
  {
   "cell_type": "markdown",
   "metadata": {},
   "source": [
    "## Python函数"
   ]
  },
  {
   "cell_type": "code",
   "execution_count": 8,
   "metadata": {
    "ExecuteTime": {
     "end_time": "2020-10-21T01:14:01.602266Z",
     "start_time": "2020-10-21T01:14:01.597264Z"
    }
   },
   "outputs": [],
   "source": [
    "# 指向分离\n",
    "def MyFun(x):\n",
    "    x = [10,20,30]\n",
    "    x[0] = 0\n",
    "    return x\n",
    "lst = [1, 2,3]"
   ]
  },
  {
   "cell_type": "markdown",
   "metadata": {},
   "source": [
    "### 可变参数"
   ]
  },
  {
   "cell_type": "code",
   "execution_count": 11,
   "metadata": {
    "ExecuteTime": {
     "end_time": "2020-10-21T01:16:53.714461Z",
     "start_time": "2020-10-21T01:16:53.707465Z"
    }
   },
   "outputs": [
    {
     "data": {
      "text/plain": [
       "1.2"
      ]
     },
     "execution_count": 11,
     "metadata": {},
     "output_type": "execute_result"
    }
   ],
   "source": [
    "def foo(length, *others):\n",
    "    s = length\n",
    "    for para in others:\n",
    "        s *= para\n",
    "    return s\n",
    "foo(1.2)"
   ]
  },
  {
   "cell_type": "markdown",
   "metadata": {},
   "source": [
    "### 内置函数"
   ]
  },
  {
   "cell_type": "markdown",
   "metadata": {},
   "source": [
    "#### pow 求幂"
   ]
  },
  {
   "cell_type": "code",
   "execution_count": 12,
   "metadata": {
    "ExecuteTime": {
     "end_time": "2020-10-21T01:18:20.455366Z",
     "start_time": "2020-10-21T01:18:20.450368Z"
    }
   },
   "outputs": [
    {
     "data": {
      "text/plain": [
       "8"
      ]
     },
     "execution_count": 12,
     "metadata": {},
     "output_type": "execute_result"
    }
   ],
   "source": [
    "pow(2, 3)"
   ]
  },
  {
   "cell_type": "code",
   "execution_count": 14,
   "metadata": {
    "ExecuteTime": {
     "end_time": "2020-10-21T01:18:51.899901Z",
     "start_time": "2020-10-21T01:18:51.893890Z"
    }
   },
   "outputs": [
    {
     "data": {
      "text/plain": [
       "0"
      ]
     },
     "execution_count": 14,
     "metadata": {},
     "output_type": "execute_result"
    }
   ],
   "source": [
    "# 求幂再求余\n",
    "pow(2, 3, 4)"
   ]
  },
  {
   "cell_type": "markdown",
   "metadata": {},
   "source": [
    "#### max,min"
   ]
  },
  {
   "cell_type": "code",
   "execution_count": 15,
   "metadata": {
    "ExecuteTime": {
     "end_time": "2020-10-21T01:20:51.127048Z",
     "start_time": "2020-10-21T01:20:51.123045Z"
    }
   },
   "outputs": [],
   "source": [
    "def relu(x):\n",
    "    return max(x, 0)"
   ]
  },
  {
   "cell_type": "markdown",
   "metadata": {},
   "source": [
    "#### sorted"
   ]
  },
  {
   "cell_type": "code",
   "execution_count": 18,
   "metadata": {
    "ExecuteTime": {
     "end_time": "2020-10-21T01:30:22.665073Z",
     "start_time": "2020-10-21T01:30:22.658414Z"
    }
   },
   "outputs": [
    {
     "data": {
      "text/plain": [
       "[('b', -1), ('c', 0), ('a', 1)]"
      ]
     },
     "execution_count": 18,
     "metadata": {},
     "output_type": "execute_result"
    }
   ],
   "source": [
    "d = {'a':1,'b':-1,'c':0}\n",
    "dr = sorted(d.items(), key = lambda x:x[1])\n",
    "dr"
   ]
  },
  {
   "cell_type": "markdown",
   "metadata": {},
   "source": [
    "#### 偏函数"
   ]
  },
  {
   "cell_type": "code",
   "execution_count": 20,
   "metadata": {
    "ExecuteTime": {
     "end_time": "2020-10-21T01:37:37.002877Z",
     "start_time": "2020-10-21T01:37:36.998874Z"
    }
   },
   "outputs": [],
   "source": [
    "from functools import partial\n",
    "int_temp = partial(int, base=2)"
   ]
  },
  {
   "cell_type": "code",
   "execution_count": 28,
   "metadata": {
    "ExecuteTime": {
     "end_time": "2020-10-21T01:38:49.243189Z",
     "start_time": "2020-10-21T01:38:49.238203Z"
    }
   },
   "outputs": [
    {
     "data": {
      "text/plain": [
       "4"
      ]
     },
     "execution_count": 28,
     "metadata": {},
     "output_type": "execute_result"
    }
   ],
   "source": [
    "int_temp('100')"
   ]
  },
  {
   "cell_type": "markdown",
   "metadata": {},
   "source": [
    "#### 递归函数"
   ]
  },
  {
   "cell_type": "code",
   "execution_count": null,
   "metadata": {},
   "outputs": [],
   "source": []
  }
 ],
 "metadata": {
  "kernelspec": {
   "display_name": "python38",
   "language": "python",
   "name": "env_py38"
  },
  "language_info": {
   "codemirror_mode": {
    "name": "ipython",
    "version": 3
   },
   "file_extension": ".py",
   "mimetype": "text/x-python",
   "name": "python",
   "nbconvert_exporter": "python",
   "pygments_lexer": "ipython3",
   "version": "3.8.2"
  },
  "toc": {
   "base_numbering": 1,
   "nav_menu": {},
   "number_sections": true,
   "sideBar": true,
   "skip_h1_title": false,
   "title_cell": "Table of Contents",
   "title_sidebar": "Contents",
   "toc_cell": false,
   "toc_position": {},
   "toc_section_display": true,
   "toc_window_display": true
  }
 },
 "nbformat": 4,
 "nbformat_minor": 4
}
