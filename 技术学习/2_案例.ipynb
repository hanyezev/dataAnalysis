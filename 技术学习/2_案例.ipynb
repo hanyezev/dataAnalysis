{
 "cells": [
  {
   "cell_type": "markdown",
   "metadata": {},
   "source": [
    "### 计算器"
   ]
  },
  {
   "cell_type": "raw",
   "metadata": {
    "ExecuteTime": {
     "end_time": "2020-11-03T07:04:11.786823Z",
     "start_time": "2020-11-03T07:04:11.780406Z"
    }
   },
   "source": [
    "operator 模块是 Python 中内置的操作符函数接口，它定义了算术，比较和与标准对象 API 相对应的其他操作的内置函数。"
   ]
  },
  {
   "cell_type": "code",
   "execution_count": 5,
   "metadata": {
    "ExecuteTime": {
     "end_time": "2020-11-03T07:07:07.135246Z",
     "start_time": "2020-11-03T07:07:07.130243Z"
    }
   },
   "outputs": [],
   "source": [
    "from operator import *\n",
    "def calculator(a, b, k):\n",
    "    return{\n",
    "        \"+\": add,\n",
    "        \"-\": sub,\n",
    "        \"*\": mul,\n",
    "        \"/\": truediv,\n",
    "        \"**\": pow\n",
    "    }[k](a, b)"
   ]
  },
  {
   "cell_type": "code",
   "execution_count": 6,
   "metadata": {
    "ExecuteTime": {
     "end_time": "2020-11-03T07:07:07.955345Z",
     "start_time": "2020-11-03T07:07:07.943347Z"
    }
   },
   "outputs": [
    {
     "data": {
      "text/plain": [
       "3"
      ]
     },
     "execution_count": 6,
     "metadata": {},
     "output_type": "execute_result"
    }
   ],
   "source": [
    "calculator(1, 2, \"+\")"
   ]
  },
  {
   "cell_type": "markdown",
   "metadata": {},
   "source": [
    "### 去最求平均"
   ]
  },
  {
   "cell_type": "code",
   "execution_count": 1,
   "metadata": {
    "ExecuteTime": {
     "end_time": "2020-11-07T08:23:23.458860Z",
     "start_time": "2020-11-07T08:23:23.443861Z"
    }
   },
   "outputs": [
    {
     "data": {
      "text/plain": [
       "9.1"
      ]
     },
     "execution_count": 1,
     "metadata": {},
     "output_type": "execute_result"
    }
   ],
   "source": [
    "def score_mean(lst):\n",
    "    lst.sort()\n",
    "    lst2=lst[1:(len(lst)-1)]\n",
    "    return round((sum(lst2)/len(lst2)),1)\n",
    "lst=[9.1, 9.0,8.1, 9.7, 19,8.2, 8.6,9.8]\n",
    "score_mean(lst) # 9.1"
   ]
  },
  {
   "cell_type": "markdown",
   "metadata": {},
   "source": [
    "### 打印99乘法表"
   ]
  },
  {
   "cell_type": "code",
   "execution_count": 5,
   "metadata": {
    "ExecuteTime": {
     "end_time": "2020-11-07T08:24:18.294983Z",
     "start_time": "2020-11-07T08:24:18.288983Z"
    }
   },
   "outputs": [
    {
     "name": "stdout",
     "output_type": "stream",
     "text": [
      "1 * 1 = 1\t\n",
      "1 * 2 = 2\t2 * 2 = 4\t\n",
      "1 * 3 = 3\t2 * 3 = 6\t3 * 3 = 9\t\n",
      "1 * 4 = 4\t2 * 4 = 8\t3 * 4 = 12\t4 * 4 = 16\t\n",
      "1 * 5 = 5\t2 * 5 = 10\t3 * 5 = 15\t4 * 5 = 20\t5 * 5 = 25\t\n",
      "1 * 6 = 6\t2 * 6 = 12\t3 * 6 = 18\t4 * 6 = 24\t5 * 6 = 30\t6 * 6 = 36\t\n",
      "1 * 7 = 7\t2 * 7 = 14\t3 * 7 = 21\t4 * 7 = 28\t5 * 7 = 35\t6 * 7 = 42\t7 * 7 = 49\t\n",
      "1 * 8 = 8\t2 * 8 = 16\t3 * 8 = 24\t4 * 8 = 32\t5 * 8 = 40\t6 * 8 = 48\t7 * 8 = 56\t8 * 8 = 64\t\n",
      "1 * 9 = 9\t2 * 9 = 18\t3 * 9 = 27\t4 * 9 = 36\t5 * 9 = 45\t6 * 9 = 54\t7 * 9 = 63\t8 * 9 = 72\t9 * 9 = 81\t\n"
     ]
    }
   ],
   "source": [
    "for i in range(1, 10):\n",
    "    for j in range(1, i+1):\n",
    "        print('%d * %d = %d' % (j, i, j * i) , end=\"\\t\")\n",
    "    print()"
   ]
  },
  {
   "cell_type": "markdown",
   "metadata": {},
   "source": [
    "### 全展开"
   ]
  },
  {
   "cell_type": "code",
   "execution_count": 6,
   "metadata": {
    "ExecuteTime": {
     "end_time": "2020-11-07T08:26:19.179992Z",
     "start_time": "2020-11-07T08:26:19.173985Z"
    }
   },
   "outputs": [],
   "source": [
    "from collections.abc import *\n",
    "def flatten(lst, out_lst=None):\n",
    "    if out_lst is None:\n",
    "        out_lst = []\n",
    "    for i in lst:\n",
    "        if isinstance(i, Iterable): # 判断i是否可迭代\n",
    "            flatten(i, out_lst) # 尾数递归\n",
    "        else:\n",
    "            out_lst.append(i) # 产生结果\n",
    "    return out_lst"
   ]
  },
  {
   "cell_type": "code",
   "execution_count": 7,
   "metadata": {
    "ExecuteTime": {
     "end_time": "2020-11-07T08:26:29.380756Z",
     "start_time": "2020-11-07T08:26:29.374755Z"
    }
   },
   "outputs": [
    {
     "name": "stdout",
     "output_type": "stream",
     "text": [
      "[6, 7, 1, 2, 3, 4, 5]\n"
     ]
    }
   ],
   "source": [
    "print(flatten([[1,2,3],[4,5]], [6,7]))"
   ]
  },
  {
   "cell_type": "markdown",
   "metadata": {},
   "source": [
    "### 列表等分"
   ]
  },
  {
   "cell_type": "code",
   "execution_count": 8,
   "metadata": {
    "ExecuteTime": {
     "end_time": "2020-11-07T08:29:34.938182Z",
     "start_time": "2020-11-07T08:29:34.933182Z"
    }
   },
   "outputs": [],
   "source": [
    "from math import ceil\n",
    "def divide(lst, size):\n",
    "    if size <= 0:\n",
    "        return [lst]\n",
    "    return [lst[i * size:(i+1)*size] for i in range(0, ceil(len(lst) / size))]"
   ]
  },
  {
   "cell_type": "code",
   "execution_count": 10,
   "metadata": {
    "ExecuteTime": {
     "end_time": "2020-11-07T08:29:53.713889Z",
     "start_time": "2020-11-07T08:29:53.708882Z"
    }
   },
   "outputs": [
    {
     "name": "stdout",
     "output_type": "stream",
     "text": [
      "[[1, 3, 5], [7, 9]]\n"
     ]
    }
   ],
   "source": [
    "r = divide([1, 3, 5, 7, 9], 3)\n",
    "print(r) # [[1, 3], [5, 7], [9]]"
   ]
  },
  {
   "cell_type": "markdown",
   "metadata": {},
   "source": [
    "### 列表压缩，去除特定元素"
   ]
  },
  {
   "cell_type": "code",
   "execution_count": 11,
   "metadata": {
    "ExecuteTime": {
     "end_time": "2020-11-07T08:30:59.866094Z",
     "start_time": "2020-11-07T08:30:59.861093Z"
    }
   },
   "outputs": [
    {
     "name": "stdout",
     "output_type": "stream",
     "text": [
      "['ok', [1, 2]]\n"
     ]
    }
   ],
   "source": [
    "def filter_false(lst):\n",
    "    return list(filter(bool, lst))\n",
    "r = filter_false([None, 0, False, '', [], 'ok', [1, 2]])\n",
    "print(r) # ['ok', [1, 2]]"
   ]
  },
  {
   "cell_type": "markdown",
   "metadata": {},
   "source": [
    "### 求最长列表"
   ]
  },
  {
   "cell_type": "code",
   "execution_count": 12,
   "metadata": {
    "ExecuteTime": {
     "end_time": "2020-11-07T08:31:45.298957Z",
     "start_time": "2020-11-07T08:31:45.293956Z"
    }
   },
   "outputs": [],
   "source": [
    "def max_length(*lst):\n",
    "    return max(*lst, key=lambda v: len(v))"
   ]
  },
  {
   "cell_type": "code",
   "execution_count": 13,
   "metadata": {
    "ExecuteTime": {
     "end_time": "2020-11-07T08:32:08.950757Z",
     "start_time": "2020-11-07T08:32:08.944534Z"
    }
   },
   "outputs": [
    {
     "name": "stdout",
     "output_type": "stream",
     "text": [
      "更长的列表是[4, 5, 6, 7]\n"
     ]
    }
   ],
   "source": [
    "r = max_length([1, 2, 3], [4, 5, 6, 7], [8])\n",
    "print(f'更长的列表是{r}') # [4, 5, 6, 7]"
   ]
  },
  {
   "cell_type": "markdown",
   "metadata": {},
   "source": [
    "### 求众数"
   ]
  },
  {
   "cell_type": "code",
   "execution_count": 14,
   "metadata": {
    "ExecuteTime": {
     "end_time": "2020-11-07T08:34:05.560539Z",
     "start_time": "2020-11-07T08:34:05.555535Z"
    }
   },
   "outputs": [],
   "source": [
    "def top1(lst):\n",
    "    return max(lst, default='列表为空', key=lambda v: lst.count(v))"
   ]
  },
  {
   "cell_type": "code",
   "execution_count": 15,
   "metadata": {
    "ExecuteTime": {
     "end_time": "2020-11-07T08:34:25.247159Z",
     "start_time": "2020-11-07T08:34:25.243153Z"
    }
   },
   "outputs": [
    {
     "name": "stdout",
     "output_type": "stream",
     "text": [
      "[1, 3, 3, 2, 1, 1, 2]中出现次数最多的元素为:1\n"
     ]
    }
   ],
   "source": [
    "lst = [1, 3, 3, 2, 1, 1, 2]\n",
    "r = top1(lst)\n",
    "print(f'{lst}中出现次数最多的元素为:{r}') # [1, 3, 3, 2, 1, 1, 2]中出现次数最多的元素为:1"
   ]
  },
  {
   "cell_type": "markdown",
   "metadata": {},
   "source": [
    "### 多个表最大值"
   ]
  },
  {
   "cell_type": "code",
   "execution_count": 16,
   "metadata": {
    "ExecuteTime": {
     "end_time": "2020-11-07T08:35:36.120726Z",
     "start_time": "2020-11-07T08:35:36.116726Z"
    }
   },
   "outputs": [],
   "source": [
    "def max_lists(*lst):\n",
    "    return max(max(*lst, key=lambda v: max(v)))"
   ]
  },
  {
   "cell_type": "code",
   "execution_count": 17,
   "metadata": {
    "ExecuteTime": {
     "end_time": "2020-11-07T08:35:42.734586Z",
     "start_time": "2020-11-07T08:35:42.730585Z"
    }
   },
   "outputs": [
    {
     "name": "stdout",
     "output_type": "stream",
     "text": [
      "8\n"
     ]
    }
   ],
   "source": [
    "r = max_lists([1, 2, 3], [6, 7, 8], [4, 5])\n",
    "print(r) # 8"
   ]
  },
  {
   "cell_type": "markdown",
   "metadata": {},
   "source": [
    "### 列表查重"
   ]
  },
  {
   "cell_type": "code",
   "execution_count": 18,
   "metadata": {
    "ExecuteTime": {
     "end_time": "2020-11-07T08:37:06.196082Z",
     "start_time": "2020-11-07T08:37:06.191082Z"
    }
   },
   "outputs": [],
   "source": [
    "def has_duplicates(lst):\n",
    "    return len(lst) == len(set(lst))"
   ]
  },
  {
   "cell_type": "code",
   "execution_count": 21,
   "metadata": {
    "ExecuteTime": {
     "end_time": "2020-11-07T08:37:24.185519Z",
     "start_time": "2020-11-07T08:37:24.179519Z"
    }
   },
   "outputs": [
    {
     "data": {
      "text/plain": [
       "False"
      ]
     },
     "execution_count": 21,
     "metadata": {},
     "output_type": "execute_result"
    }
   ],
   "source": [
    "x = [1, 1, 2, 2, 3, 2, 3, 4, 5, 6]\n",
    "y = [1, 2, 3, 4, 5]\n",
    "has_duplicates(x) # False"
   ]
  },
  {
   "cell_type": "code",
   "execution_count": 20,
   "metadata": {
    "ExecuteTime": {
     "end_time": "2020-11-07T08:37:22.445362Z",
     "start_time": "2020-11-07T08:37:22.441360Z"
    }
   },
   "outputs": [
    {
     "data": {
      "text/plain": [
       "True"
      ]
     },
     "execution_count": 20,
     "metadata": {},
     "output_type": "execute_result"
    }
   ],
   "source": [
    "has_duplicates(y) # True"
   ]
  },
  {
   "cell_type": "markdown",
   "metadata": {},
   "source": [
    "### 列表反转"
   ]
  },
  {
   "cell_type": "code",
   "execution_count": 22,
   "metadata": {
    "ExecuteTime": {
     "end_time": "2020-11-07T08:38:35.108374Z",
     "start_time": "2020-11-07T08:38:35.104375Z"
    }
   },
   "outputs": [],
   "source": [
    "def reverse(lst):\n",
    "    return lst[::-1]"
   ]
  },
  {
   "cell_type": "code",
   "execution_count": 23,
   "metadata": {
    "ExecuteTime": {
     "end_time": "2020-11-07T08:38:41.446042Z",
     "start_time": "2020-11-07T08:38:41.440041Z"
    }
   },
   "outputs": [
    {
     "name": "stdout",
     "output_type": "stream",
     "text": [
      "[2, 1, 4, 3, -2, 1]\n"
     ]
    }
   ],
   "source": [
    "r = reverse([1, -2, 3, 4, 1, 2])\n",
    "print(r) # [2, 1, 4, 3, -2, 1]"
   ]
  },
  {
   "cell_type": "markdown",
   "metadata": {},
   "source": [
    "### 浮点数等差数列"
   ]
  },
  {
   "cell_type": "code",
   "execution_count": 24,
   "metadata": {
    "ExecuteTime": {
     "end_time": "2020-11-07T08:40:14.647420Z",
     "start_time": "2020-11-07T08:40:14.640416Z"
    }
   },
   "outputs": [],
   "source": [
    "def rang(start, stop, n):\n",
    "    start,stop,n = float('%.2f' % start), float('%.2f' % stop),int('%.d' % n)\n",
    "    step = (stop-start)/n\n",
    "    lst = [start]\n",
    "    while n > 0:\n",
    "        start,n = start+step,n-1\n",
    "        lst.append(round((start), 2))\n",
    "    return lst"
   ]
  },
  {
   "cell_type": "code",
   "execution_count": 25,
   "metadata": {
    "ExecuteTime": {
     "end_time": "2020-11-07T08:40:21.268806Z",
     "start_time": "2020-11-07T08:40:21.263805Z"
    }
   },
   "outputs": [
    {
     "data": {
      "text/plain": [
       "[1.0, 1.7, 2.4, 3.1, 3.8, 4.5, 5.2, 5.9, 6.6, 7.3, 8.0]"
      ]
     },
     "execution_count": 25,
     "metadata": {},
     "output_type": "execute_result"
    }
   ],
   "source": [
    "rang(1, 8, 10) # [1.0, 1.7, 2.4, 3.1, 3.8, 4.5, 5.2, 5.9, 6.6, 7.3, 8.0]"
   ]
  },
  {
   "cell_type": "markdown",
   "metadata": {},
   "source": [
    "### 按条件分组"
   ]
  },
  {
   "cell_type": "code",
   "execution_count": 26,
   "metadata": {
    "ExecuteTime": {
     "end_time": "2020-11-07T08:40:54.681542Z",
     "start_time": "2020-11-07T08:40:54.676543Z"
    }
   },
   "outputs": [],
   "source": [
    "def bif_by(lst, f):\n",
    "    return [ [x for x in lst if f(x)],[x for x in lst if not f(x)]]"
   ]
  },
  {
   "cell_type": "code",
   "execution_count": 27,
   "metadata": {
    "ExecuteTime": {
     "end_time": "2020-11-07T08:41:07.834075Z",
     "start_time": "2020-11-07T08:41:07.827968Z"
    }
   },
   "outputs": [
    {
     "data": {
      "text/plain": [
       "[[25, 31, 34], [89]]"
      ]
     },
     "execution_count": 27,
     "metadata": {},
     "output_type": "execute_result"
    }
   ],
   "source": [
    "records = [25,89,31,34]\n",
    "bif_by(records, lambda x: x<80) # [[25, 31, 34], [89]]"
   ]
  },
  {
   "cell_type": "markdown",
   "metadata": {},
   "source": [
    "### map实现向量运算"
   ]
  },
  {
   "cell_type": "code",
   "execution_count": 28,
   "metadata": {
    "ExecuteTime": {
     "end_time": "2020-11-07T08:42:42.845553Z",
     "start_time": "2020-11-07T08:42:42.838944Z"
    }
   },
   "outputs": [
    {
     "data": {
      "text/plain": [
       "[4, 9, 16, 25, 16, 13]"
      ]
     },
     "execution_count": 28,
     "metadata": {},
     "output_type": "execute_result"
    }
   ],
   "source": [
    "#多序列运算函数—map(function,iterabel,iterable2)\n",
    "lst1=[1,2,3,4,5,6]\n",
    "lst2=[3,4,5,6,3,2]\n",
    "list(map(lambda x,y:x*y+1,lst1,lst2))\n",
    "### [4, 9, 16, 25, 16, 13]"
   ]
  },
  {
   "cell_type": "markdown",
   "metadata": {},
   "source": [
    "### 值最大的字典"
   ]
  },
  {
   "cell_type": "code",
   "execution_count": 29,
   "metadata": {
    "ExecuteTime": {
     "end_time": "2020-11-07T08:43:31.857388Z",
     "start_time": "2020-11-07T08:43:31.852388Z"
    }
   },
   "outputs": [],
   "source": [
    "def max_pairs(dic):\n",
    "    if len(dic) == 0:\n",
    "        return dic\n",
    "    max_val = max(map(lambda v: v[1], dic.items()))\n",
    "    return [item for item in dic.items() if item[1] == max_val]"
   ]
  },
  {
   "cell_type": "code",
   "execution_count": 30,
   "metadata": {
    "ExecuteTime": {
     "end_time": "2020-11-07T08:43:36.942981Z",
     "start_time": "2020-11-07T08:43:36.938983Z"
    }
   },
   "outputs": [
    {
     "name": "stdout",
     "output_type": "stream",
     "text": [
      "[('b', 5), ('d', 5)]\n"
     ]
    }
   ],
   "source": [
    "r = max_pairs({'a': -10, 'b': 5, 'c': 3, 'd': 5})\n",
    "print(r) # [('b', 5), ('d', 5)]"
   ]
  },
  {
   "cell_type": "markdown",
   "metadata": {},
   "source": [
    "### 合并两个字典"
   ]
  },
  {
   "cell_type": "code",
   "execution_count": 31,
   "metadata": {
    "ExecuteTime": {
     "end_time": "2020-11-07T08:48:52.412169Z",
     "start_time": "2020-11-07T08:48:52.409168Z"
    }
   },
   "outputs": [],
   "source": [
    "def merge_dict(dic1, dic2):\n",
    "    return {**dic1, **dic2} # python3.5后支持的一行代码实现合并字典"
   ]
  },
  {
   "cell_type": "code",
   "execution_count": 32,
   "metadata": {
    "ExecuteTime": {
     "end_time": "2020-11-07T08:49:00.789703Z",
     "start_time": "2020-11-07T08:49:00.783702Z"
    }
   },
   "outputs": [
    {
     "data": {
      "text/plain": [
       "{'a': 1, 'b': 2, 'c': 3}"
      ]
     },
     "execution_count": 32,
     "metadata": {},
     "output_type": "execute_result"
    }
   ],
   "source": [
    "merge_dict({'a': 1, 'b': 2}, {'c': 3}) # {'a': 1, 'b': 2, 'c': 3}"
   ]
  },
  {
   "cell_type": "markdown",
   "metadata": {},
   "source": [
    "### topn字典"
   ]
  },
  {
   "cell_type": "code",
   "execution_count": 33,
   "metadata": {
    "ExecuteTime": {
     "end_time": "2020-11-07T08:50:14.036934Z",
     "start_time": "2020-11-07T08:50:14.032935Z"
    }
   },
   "outputs": [],
   "source": [
    "from heapq import nlargest\n",
    "# 返回字典d前n个最大值对应的键\n",
    "def topn_dict(d, n):\n",
    "    return nlargest(n, d, key=lambda k: d[k])"
   ]
  },
  {
   "cell_type": "code",
   "execution_count": 34,
   "metadata": {
    "ExecuteTime": {
     "end_time": "2020-11-07T08:50:20.363758Z",
     "start_time": "2020-11-07T08:50:20.357759Z"
    }
   },
   "outputs": [
    {
     "data": {
      "text/plain": [
       "['a', 'd', 'c']"
      ]
     },
     "execution_count": 34,
     "metadata": {},
     "output_type": "execute_result"
    }
   ],
   "source": [
    "topn_dict({'a': 10, 'b': 8, 'c': 9, 'd': 10}, 3) # ['a', 'd', 'c']"
   ]
  },
  {
   "cell_type": "markdown",
   "metadata": {},
   "source": [
    "### 异位词"
   ]
  },
  {
   "cell_type": "code",
   "execution_count": 35,
   "metadata": {
    "ExecuteTime": {
     "end_time": "2020-11-07T08:51:46.572172Z",
     "start_time": "2020-11-07T08:51:46.569170Z"
    }
   },
   "outputs": [],
   "source": [
    "from collections import Counter"
   ]
  },
  {
   "cell_type": "code",
   "execution_count": 37,
   "metadata": {
    "ExecuteTime": {
     "end_time": "2020-11-07T08:52:04.952503Z",
     "start_time": "2020-11-07T08:52:04.949503Z"
    }
   },
   "outputs": [],
   "source": [
    "# 检查两个字符串是否 相同字母异序词，简称：互为变位词\n",
    "def anagram(str1, str2):\n",
    "    return Counter(str1) == Counter(str2)"
   ]
  },
  {
   "cell_type": "code",
   "execution_count": 38,
   "metadata": {
    "ExecuteTime": {
     "end_time": "2020-11-07T08:52:23.513253Z",
     "start_time": "2020-11-07T08:52:23.507254Z"
    }
   },
   "outputs": [
    {
     "data": {
      "text/plain": [
       "True"
      ]
     },
     "execution_count": 38,
     "metadata": {},
     "output_type": "execute_result"
    }
   ],
   "source": [
    "anagram('eleven+two', 'twelve+one') # True 这是一对神器的变位词"
   ]
  },
  {
   "cell_type": "markdown",
   "metadata": {},
   "source": [
    "### 命名元组提高可读性"
   ]
  },
  {
   "cell_type": "code",
   "execution_count": 39,
   "metadata": {
    "ExecuteTime": {
     "end_time": "2020-11-07T08:54:47.263300Z",
     "start_time": "2020-11-07T08:54:47.257294Z"
    }
   },
   "outputs": [
    {
     "name": "stdout",
     "output_type": "stream",
     "text": [
      "3.0\n"
     ]
    }
   ],
   "source": [
    "from collections import namedtuple\n",
    "Point = namedtuple('Point', ['x', 'y', 'z']) # 定义名字为Point的元祖，字段属性有x,y,z\n",
    "lst = [Point(1.5, 2, 3.0), Point(-0.3, -1.0, 2.1), Point(1.3, 2.8, -2.5)]\n",
    "print(lst[0].y - lst[1].y)"
   ]
  },
  {
   "cell_type": "markdown",
   "metadata": {},
   "source": [
    "### 样本抽样"
   ]
  },
  {
   "cell_type": "code",
   "execution_count": 40,
   "metadata": {
    "ExecuteTime": {
     "end_time": "2020-11-07T09:03:48.154392Z",
     "start_time": "2020-11-07T09:03:48.149390Z"
    }
   },
   "outputs": [
    {
     "name": "stdout",
     "output_type": "stream",
     "text": [
      "[15, 45, 34, 42, 24]\n",
      "[17, 38, 7, 28, 24, 31, 7, 5, 17, 41]\n"
     ]
    }
   ],
   "source": [
    "from random import randint,sample\n",
    "lst = [randint(0,50) for _ in range(100)]\n",
    "print(lst[:5])# [38, 19, 11, 3, 6]\n",
    "lst_sample = sample(lst,10)\n",
    "print(lst_sample) # [33, 40, 35, 49, 24, 15, 48, 29, 37, 24]"
   ]
  },
  {
   "cell_type": "markdown",
   "metadata": {},
   "source": [
    "### 重洗数据集"
   ]
  },
  {
   "cell_type": "code",
   "execution_count": 43,
   "metadata": {
    "ExecuteTime": {
     "end_time": "2020-11-07T09:08:23.075657Z",
     "start_time": "2020-11-07T09:08:23.070653Z"
    }
   },
   "outputs": [
    {
     "name": "stdout",
     "output_type": "stream",
     "text": [
      "[26, 12, 33, 49, 6, 29, 5, 14, 42, 4, 10, 31, 44, 31, 35, 16, 22, 23, 19, 38, 38, 49, 3, 45, 28, 10, 39, 37, 15, 32, 45, 2, 50, 9, 1, 40, 31, 4, 26, 11, 31, 28, 23, 47, 7, 50, 45, 15, 0, 45, 3, 33, 12, 24, 45, 22, 34, 11, 0, 24, 3, 33, 26, 37, 14, 47, 0, 43, 32, 25, 8, 19, 42, 33, 33, 37, 17, 10, 10, 17, 47, 2, 25, 36, 34, 39, 32, 13, 36, 37, 39, 2, 46, 34, 28, 25, 28, 25, 12, 6]\n"
     ]
    }
   ],
   "source": [
    "from random import shuffle\n",
    "lst = [randint(0,50) for _ in range(100)]\n",
    "print(lst)"
   ]
  },
  {
   "cell_type": "code",
   "execution_count": 44,
   "metadata": {
    "ExecuteTime": {
     "end_time": "2020-11-07T09:08:27.299180Z",
     "start_time": "2020-11-07T09:08:27.296180Z"
    }
   },
   "outputs": [
    {
     "name": "stdout",
     "output_type": "stream",
     "text": [
      "[49, 0, 10, 10, 9]\n"
     ]
    }
   ],
   "source": [
    "shuffle(lst)\n",
    "print(lst[:5]) "
   ]
  },
  {
   "cell_type": "markdown",
   "metadata": {},
   "source": [
    "### 10个均匀分布的坐标点"
   ]
  },
  {
   "cell_type": "code",
   "execution_count": 45,
   "metadata": {
    "ExecuteTime": {
     "end_time": "2020-11-07T09:08:56.787785Z",
     "start_time": "2020-11-07T09:08:56.782779Z"
    }
   },
   "outputs": [
    {
     "data": {
      "text/plain": [
       "[(4.5617015992199095, 0.31671050972234993),\n",
       " (8.786503547349842, 6.343758591557771),\n",
       " (0.2763336690785134, 7.229420277801838),\n",
       " (6.638460643839007, 9.03664906616034),\n",
       " (0.2544443945819619, 6.420238631304822),\n",
       " (1.2693722721643963, 4.889026043644069),\n",
       " (5.2618750128903695, 1.0867724520200694),\n",
       " (9.09515546422885, 3.335109461245006),\n",
       " (1.618931530169927, 1.8239976654247114),\n",
       " (1.151009419239165, 5.558734375837961)]"
      ]
     },
     "execution_count": 45,
     "metadata": {},
     "output_type": "execute_result"
    }
   ],
   "source": [
    "from random import uniform\n",
    "[(uniform(0,10),uniform(0,10)) for _ in range(10)]"
   ]
  },
  {
   "cell_type": "markdown",
   "metadata": {},
   "source": [
    "### 10个高斯分布的坐标点"
   ]
  },
  {
   "cell_type": "code",
   "execution_count": 47,
   "metadata": {
    "ExecuteTime": {
     "end_time": "2020-11-07T09:09:56.765658Z",
     "start_time": "2020-11-07T09:09:56.758655Z"
    }
   },
   "outputs": [
    {
     "data": {
      "text/plain": [
       "[(0, 0.5140407420982194),\n",
       " (1, 2.3076212150657343),\n",
       " (2, 5.312030016154022),\n",
       " (3, 5.2870708739693),\n",
       " (4, 7.2779837468246145),\n",
       " (5, 9.621490295403285),\n",
       " (6, 15.070195248242168),\n",
       " (7, 14.711915149675745),\n",
       " (8, 16.45717766706996),\n",
       " (9, 19.021727812453264)]"
      ]
     },
     "execution_count": 47,
     "metadata": {},
     "output_type": "execute_result"
    }
   ],
   "source": [
    "from random import gauss\n",
    "x = range(10)\n",
    "y = [2*xi+1+gauss(0,1) for xi in x]\n",
    "points = list(zip(x,y))\n",
    "points"
   ]
  },
  {
   "cell_type": "markdown",
   "metadata": {},
   "source": [
    "### chain高效串联多个容器对象"
   ]
  },
  {
   "cell_type": "code",
   "execution_count": 48,
   "metadata": {
    "ExecuteTime": {
     "end_time": "2020-11-07T09:10:25.300946Z",
     "start_time": "2020-11-07T09:10:25.295945Z"
    }
   },
   "outputs": [
    {
     "name": "stdout",
     "output_type": "stream",
     "text": [
      "1\n",
      "3\n",
      "5\n",
      "0\n",
      "2\n",
      "4\n",
      "6\n"
     ]
    }
   ],
   "source": [
    "from itertools import chain\n",
    "a = [1,3,5,0]\n",
    "b = (2,4,6)\n",
    "for i in chain(a,b):\n",
    "    print(i)"
   ]
  },
  {
   "cell_type": "markdown",
   "metadata": {},
   "source": [
    "### product 案例"
   ]
  },
  {
   "cell_type": "code",
   "execution_count": 49,
   "metadata": {
    "ExecuteTime": {
     "end_time": "2020-11-07T09:12:21.060240Z",
     "start_time": "2020-11-07T09:12:21.055239Z"
    }
   },
   "outputs": [],
   "source": [
    "def product(*args, repeat=1):\n",
    "    pools = [tuple(pool) for pool in args] * repeat\n",
    "    result = [[]]\n",
    "    for pool in pools:\n",
    "        result = [x+[y] for x in result for y in pool]\n",
    "    for prod in result:\n",
    "        yield tuple(prod)"
   ]
  },
  {
   "cell_type": "code",
   "execution_count": 50,
   "metadata": {
    "ExecuteTime": {
     "end_time": "2020-11-07T09:12:23.098674Z",
     "start_time": "2020-11-07T09:12:23.093609Z"
    }
   },
   "outputs": [
    {
     "name": "stdout",
     "output_type": "stream",
     "text": [
      "[('x', '1', 'x', '1', 'x', '1'), ('x', '1', 'x', '1', 'x', '2'), ('x', '1', 'x', '1', 'y', '1'), ('x', '1', 'x', '1', 'y', '2'), ('x', '1', 'x', '1', 'z', '1'), ('x', '1', 'x', '1', 'z', '2'), ('x', '1', 'x', '2', 'x', '1'), ('x', '1', 'x', '2', 'x', '2'), ('x', '1', 'x', '2', 'y', '1'), ('x', '1', 'x', '2', 'y', '2'), ('x', '1', 'x', '2', 'z', '1'), ('x', '1', 'x', '2', 'z', '2'), ('x', '1', 'y', '1', 'x', '1'), ('x', '1', 'y', '1', 'x', '2'), ('x', '1', 'y', '1', 'y', '1'), ('x', '1', 'y', '1', 'y', '2'), ('x', '1', 'y', '1', 'z', '1'), ('x', '1', 'y', '1', 'z', '2'), ('x', '1', 'y', '2', 'x', '1'), ('x', '1', 'y', '2', 'x', '2'), ('x', '1', 'y', '2', 'y', '1'), ('x', '1', 'y', '2', 'y', '2'), ('x', '1', 'y', '2', 'z', '1'), ('x', '1', 'y', '2', 'z', '2'), ('x', '1', 'z', '1', 'x', '1'), ('x', '1', 'z', '1', 'x', '2'), ('x', '1', 'z', '1', 'y', '1'), ('x', '1', 'z', '1', 'y', '2'), ('x', '1', 'z', '1', 'z', '1'), ('x', '1', 'z', '1', 'z', '2'), ('x', '1', 'z', '2', 'x', '1'), ('x', '1', 'z', '2', 'x', '2'), ('x', '1', 'z', '2', 'y', '1'), ('x', '1', 'z', '2', 'y', '2'), ('x', '1', 'z', '2', 'z', '1'), ('x', '1', 'z', '2', 'z', '2'), ('x', '2', 'x', '1', 'x', '1'), ('x', '2', 'x', '1', 'x', '2'), ('x', '2', 'x', '1', 'y', '1'), ('x', '2', 'x', '1', 'y', '2'), ('x', '2', 'x', '1', 'z', '1'), ('x', '2', 'x', '1', 'z', '2'), ('x', '2', 'x', '2', 'x', '1'), ('x', '2', 'x', '2', 'x', '2'), ('x', '2', 'x', '2', 'y', '1'), ('x', '2', 'x', '2', 'y', '2'), ('x', '2', 'x', '2', 'z', '1'), ('x', '2', 'x', '2', 'z', '2'), ('x', '2', 'y', '1', 'x', '1'), ('x', '2', 'y', '1', 'x', '2'), ('x', '2', 'y', '1', 'y', '1'), ('x', '2', 'y', '1', 'y', '2'), ('x', '2', 'y', '1', 'z', '1'), ('x', '2', 'y', '1', 'z', '2'), ('x', '2', 'y', '2', 'x', '1'), ('x', '2', 'y', '2', 'x', '2'), ('x', '2', 'y', '2', 'y', '1'), ('x', '2', 'y', '2', 'y', '2'), ('x', '2', 'y', '2', 'z', '1'), ('x', '2', 'y', '2', 'z', '2'), ('x', '2', 'z', '1', 'x', '1'), ('x', '2', 'z', '1', 'x', '2'), ('x', '2', 'z', '1', 'y', '1'), ('x', '2', 'z', '1', 'y', '2'), ('x', '2', 'z', '1', 'z', '1'), ('x', '2', 'z', '1', 'z', '2'), ('x', '2', 'z', '2', 'x', '1'), ('x', '2', 'z', '2', 'x', '2'), ('x', '2', 'z', '2', 'y', '1'), ('x', '2', 'z', '2', 'y', '2'), ('x', '2', 'z', '2', 'z', '1'), ('x', '2', 'z', '2', 'z', '2'), ('y', '1', 'x', '1', 'x', '1'), ('y', '1', 'x', '1', 'x', '2'), ('y', '1', 'x', '1', 'y', '1'), ('y', '1', 'x', '1', 'y', '2'), ('y', '1', 'x', '1', 'z', '1'), ('y', '1', 'x', '1', 'z', '2'), ('y', '1', 'x', '2', 'x', '1'), ('y', '1', 'x', '2', 'x', '2'), ('y', '1', 'x', '2', 'y', '1'), ('y', '1', 'x', '2', 'y', '2'), ('y', '1', 'x', '2', 'z', '1'), ('y', '1', 'x', '2', 'z', '2'), ('y', '1', 'y', '1', 'x', '1'), ('y', '1', 'y', '1', 'x', '2'), ('y', '1', 'y', '1', 'y', '1'), ('y', '1', 'y', '1', 'y', '2'), ('y', '1', 'y', '1', 'z', '1'), ('y', '1', 'y', '1', 'z', '2'), ('y', '1', 'y', '2', 'x', '1'), ('y', '1', 'y', '2', 'x', '2'), ('y', '1', 'y', '2', 'y', '1'), ('y', '1', 'y', '2', 'y', '2'), ('y', '1', 'y', '2', 'z', '1'), ('y', '1', 'y', '2', 'z', '2'), ('y', '1', 'z', '1', 'x', '1'), ('y', '1', 'z', '1', 'x', '2'), ('y', '1', 'z', '1', 'y', '1'), ('y', '1', 'z', '1', 'y', '2'), ('y', '1', 'z', '1', 'z', '1'), ('y', '1', 'z', '1', 'z', '2'), ('y', '1', 'z', '2', 'x', '1'), ('y', '1', 'z', '2', 'x', '2'), ('y', '1', 'z', '2', 'y', '1'), ('y', '1', 'z', '2', 'y', '2'), ('y', '1', 'z', '2', 'z', '1'), ('y', '1', 'z', '2', 'z', '2'), ('y', '2', 'x', '1', 'x', '1'), ('y', '2', 'x', '1', 'x', '2'), ('y', '2', 'x', '1', 'y', '1'), ('y', '2', 'x', '1', 'y', '2'), ('y', '2', 'x', '1', 'z', '1'), ('y', '2', 'x', '1', 'z', '2'), ('y', '2', 'x', '2', 'x', '1'), ('y', '2', 'x', '2', 'x', '2'), ('y', '2', 'x', '2', 'y', '1'), ('y', '2', 'x', '2', 'y', '2'), ('y', '2', 'x', '2', 'z', '1'), ('y', '2', 'x', '2', 'z', '2'), ('y', '2', 'y', '1', 'x', '1'), ('y', '2', 'y', '1', 'x', '2'), ('y', '2', 'y', '1', 'y', '1'), ('y', '2', 'y', '1', 'y', '2'), ('y', '2', 'y', '1', 'z', '1'), ('y', '2', 'y', '1', 'z', '2'), ('y', '2', 'y', '2', 'x', '1'), ('y', '2', 'y', '2', 'x', '2'), ('y', '2', 'y', '2', 'y', '1'), ('y', '2', 'y', '2', 'y', '2'), ('y', '2', 'y', '2', 'z', '1'), ('y', '2', 'y', '2', 'z', '2'), ('y', '2', 'z', '1', 'x', '1'), ('y', '2', 'z', '1', 'x', '2'), ('y', '2', 'z', '1', 'y', '1'), ('y', '2', 'z', '1', 'y', '2'), ('y', '2', 'z', '1', 'z', '1'), ('y', '2', 'z', '1', 'z', '2'), ('y', '2', 'z', '2', 'x', '1'), ('y', '2', 'z', '2', 'x', '2'), ('y', '2', 'z', '2', 'y', '1'), ('y', '2', 'z', '2', 'y', '2'), ('y', '2', 'z', '2', 'z', '1'), ('y', '2', 'z', '2', 'z', '2'), ('z', '1', 'x', '1', 'x', '1'), ('z', '1', 'x', '1', 'x', '2'), ('z', '1', 'x', '1', 'y', '1'), ('z', '1', 'x', '1', 'y', '2'), ('z', '1', 'x', '1', 'z', '1'), ('z', '1', 'x', '1', 'z', '2'), ('z', '1', 'x', '2', 'x', '1'), ('z', '1', 'x', '2', 'x', '2'), ('z', '1', 'x', '2', 'y', '1'), ('z', '1', 'x', '2', 'y', '2'), ('z', '1', 'x', '2', 'z', '1'), ('z', '1', 'x', '2', 'z', '2'), ('z', '1', 'y', '1', 'x', '1'), ('z', '1', 'y', '1', 'x', '2'), ('z', '1', 'y', '1', 'y', '1'), ('z', '1', 'y', '1', 'y', '2'), ('z', '1', 'y', '1', 'z', '1'), ('z', '1', 'y', '1', 'z', '2'), ('z', '1', 'y', '2', 'x', '1'), ('z', '1', 'y', '2', 'x', '2'), ('z', '1', 'y', '2', 'y', '1'), ('z', '1', 'y', '2', 'y', '2'), ('z', '1', 'y', '2', 'z', '1'), ('z', '1', 'y', '2', 'z', '2'), ('z', '1', 'z', '1', 'x', '1'), ('z', '1', 'z', '1', 'x', '2'), ('z', '1', 'z', '1', 'y', '1'), ('z', '1', 'z', '1', 'y', '2'), ('z', '1', 'z', '1', 'z', '1'), ('z', '1', 'z', '1', 'z', '2'), ('z', '1', 'z', '2', 'x', '1'), ('z', '1', 'z', '2', 'x', '2'), ('z', '1', 'z', '2', 'y', '1'), ('z', '1', 'z', '2', 'y', '2'), ('z', '1', 'z', '2', 'z', '1'), ('z', '1', 'z', '2', 'z', '2'), ('z', '2', 'x', '1', 'x', '1'), ('z', '2', 'x', '1', 'x', '2'), ('z', '2', 'x', '1', 'y', '1'), ('z', '2', 'x', '1', 'y', '2'), ('z', '2', 'x', '1', 'z', '1'), ('z', '2', 'x', '1', 'z', '2'), ('z', '2', 'x', '2', 'x', '1'), ('z', '2', 'x', '2', 'x', '2'), ('z', '2', 'x', '2', 'y', '1'), ('z', '2', 'x', '2', 'y', '2'), ('z', '2', 'x', '2', 'z', '1'), ('z', '2', 'x', '2', 'z', '2'), ('z', '2', 'y', '1', 'x', '1'), ('z', '2', 'y', '1', 'x', '2'), ('z', '2', 'y', '1', 'y', '1'), ('z', '2', 'y', '1', 'y', '2'), ('z', '2', 'y', '1', 'z', '1'), ('z', '2', 'y', '1', 'z', '2'), ('z', '2', 'y', '2', 'x', '1'), ('z', '2', 'y', '2', 'x', '2'), ('z', '2', 'y', '2', 'y', '1'), ('z', '2', 'y', '2', 'y', '2'), ('z', '2', 'y', '2', 'z', '1'), ('z', '2', 'y', '2', 'z', '2'), ('z', '2', 'z', '1', 'x', '1'), ('z', '2', 'z', '1', 'x', '2'), ('z', '2', 'z', '1', 'y', '1'), ('z', '2', 'z', '1', 'y', '2'), ('z', '2', 'z', '1', 'z', '1'), ('z', '2', 'z', '1', 'z', '2'), ('z', '2', 'z', '2', 'x', '1'), ('z', '2', 'z', '2', 'x', '2'), ('z', '2', 'z', '2', 'y', '1'), ('z', '2', 'z', '2', 'y', '2'), ('z', '2', 'z', '2', 'z', '1'), ('z', '2', 'z', '2', 'z', '2')]\n"
     ]
    }
   ],
   "source": [
    "rtn = product('xyz', '12', repeat=3)\n",
    "print(list(rtn))"
   ]
  },
  {
   "cell_type": "code",
   "execution_count": null,
   "metadata": {},
   "outputs": [],
   "source": []
  }
 ],
 "metadata": {
  "kernelspec": {
   "display_name": "python38",
   "language": "python",
   "name": "env_py38"
  },
  "language_info": {
   "codemirror_mode": {
    "name": "ipython",
    "version": 3
   },
   "file_extension": ".py",
   "mimetype": "text/x-python",
   "name": "python",
   "nbconvert_exporter": "python",
   "pygments_lexer": "ipython3",
   "version": "3.8.2"
  },
  "toc": {
   "base_numbering": 1,
   "nav_menu": {},
   "number_sections": true,
   "sideBar": true,
   "skip_h1_title": false,
   "title_cell": "Table of Contents",
   "title_sidebar": "Contents",
   "toc_cell": false,
   "toc_position": {
    "height": "calc(100% - 180px)",
    "left": "10px",
    "top": "150px",
    "width": "165px"
   },
   "toc_section_display": true,
   "toc_window_display": true
  }
 },
 "nbformat": 4,
 "nbformat_minor": 4
}
