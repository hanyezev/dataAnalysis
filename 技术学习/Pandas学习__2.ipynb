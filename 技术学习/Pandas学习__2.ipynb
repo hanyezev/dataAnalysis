{
 "cells": [
  {
   "cell_type": "markdown",
   "metadata": {},
   "source": [
    "## Pandas与匿名函数"
   ]
  },
  {
   "cell_type": "raw",
   "metadata": {},
   "source": [
    "变量命名是一个很考验“英文储备”的技术活，如何合理地分配我们大脑中有限地储备呢？开源的话，短时间怕是来不及了，那我们就节流吧！对于一些功能简单、复用率不高的函数，我们就不给它命名了呗，随用随弃，用完即走，多好！这类函数，我们称之为匿名函数。"
   ]
  },
  {
   "cell_type": "markdown",
   "metadata": {},
   "source": [
    "### Python与匿名函数"
   ]
  },
  {
   "cell_type": "raw",
   "metadata": {},
   "source": [
    "匿名函数在Python的应用中非常广泛。例如对一个字典进行排序\n",
    "python允许用lambda关键字创造匿名函数。匿名是不需要以标准的方式来声明"
   ]
  },
  {
   "cell_type": "code",
   "execution_count": 82,
   "metadata": {},
   "outputs": [],
   "source": [
    "data = {\"Jack\": 182, \"Tom\":176, \"Jerry\":179, \"Emily\":165, \"Sawyer\":170, \"Chris\":160}"
   ]
  },
  {
   "cell_type": "markdown",
   "metadata": {},
   "source": [
    "字典**items()**方法,返回可遍历的(键, 值) 元组数组"
   ]
  },
  {
   "cell_type": "code",
   "execution_count": 83,
   "metadata": {},
   "outputs": [
    {
     "data": {
      "text/plain": [
       "dict_items([('Jack', 182), ('Tom', 176), ('Jerry', 179), ('Emily', 165), ('Sawyer', 170), ('Chris', 160)])"
      ]
     },
     "execution_count": 83,
     "metadata": {},
     "output_type": "execute_result"
    }
   ],
   "source": [
    "data.items()"
   ]
  },
  {
   "cell_type": "markdown",
   "metadata": {},
   "source": [
    "**sorted()**方法,key=lambda x: x[1] 为对前面的对象中的第二维数据（即value）的值进行排序。 key=lambda  变量：变量[维数]"
   ]
  },
  {
   "cell_type": "code",
   "execution_count": 84,
   "metadata": {},
   "outputs": [
    {
     "data": {
      "text/plain": [
       "{'Jack': 182,\n",
       " 'Jerry': 179,\n",
       " 'Tom': 176,\n",
       " 'Sawyer': 170,\n",
       " 'Emily': 165,\n",
       " 'Chris': 160}"
      ]
     },
     "execution_count": 84,
     "metadata": {},
     "output_type": "execute_result"
    }
   ],
   "source": [
    "# 按照字典的value值，逆序排序\n",
    "data_rev = sorted(data.items(), key=lambda x:x[1], reverse=True)\n",
    "dict(data_rev)"
   ]
  },
  {
   "cell_type": "code",
   "execution_count": 85,
   "metadata": {},
   "outputs": [
    {
     "data": {
      "text/plain": [
       "{'Chris': 160,\n",
       " 'Emily': 165,\n",
       " 'Jack': 182,\n",
       " 'Jerry': 179,\n",
       " 'Sawyer': 170,\n",
       " 'Tom': 176}"
      ]
     },
     "execution_count": 85,
     "metadata": {},
     "output_type": "execute_result"
    }
   ],
   "source": [
    "# 按照字典的key值，自然顺序排序\n",
    "data_nrev = sorted(data.items(), key=lambda x:x[0], reverse=False)\n",
    "dict(data_nrev)"
   ]
  },
  {
   "cell_type": "markdown",
   "metadata": {},
   "source": [
    "所谓的**函数式编程**，是指一种高度抽象的编程范式，即可以把函数作为参数传入，而能够接收函数作为参数传入的函数我们称之为高阶函数。常见的高阶函数有<font color=red>map、reduce和filter</font>等。  \n",
    "**map()**----第一个参数 function 以参数序列中的每一个元素调用 function 函数，返回包含每次 function 函数返回值的新列表。   \n",
    "**reduce()**----函数会对参数序列中元素进行累积。函数将一个数据集合（链表，元组等）中的所有数据进行下列操作：用传给 reduce 中的函数 function（有两个参数）先对集合中的第 1、2 个元素进行操作，得到的结果再与第三个数据用 function 函数运算，最后得到一个结果。    \n",
    "**filter()**----函数用于过滤序列，过滤掉不符合条件的元素，返回由符合条件元素组成的新列表。\n",
    "该接收两个参数，第一个为函数，第二个为序列，序列的每个元素作为参数传递给函数进行判断，然后返回 True 或 False，最后将返回 True 的元素放到新列表中。"
   ]
  },
  {
   "cell_type": "code",
   "execution_count": 86,
   "metadata": {},
   "outputs": [],
   "source": [
    "names = [\"Larissa\", \"ivy\", \"LUCY\", \"aBBY\", \"martion\", \"allen\"]"
   ]
  },
  {
   "cell_type": "code",
   "execution_count": 87,
   "metadata": {},
   "outputs": [
    {
     "data": {
      "text/plain": [
       "['Larissa', 'Ivy', 'Lucy', 'Abby', 'Martion', 'Allen']"
      ]
     },
     "execution_count": 87,
     "metadata": {},
     "output_type": "execute_result"
    }
   ],
   "source": [
    "list(map(lambda x: x[0].upper()+x[1:].lower(), names))"
   ]
  },
  {
   "cell_type": "markdown",
   "metadata": {},
   "source": [
    "### Pandas与函数"
   ]
  },
  {
   "cell_type": "raw",
   "metadata": {},
   "source": [
    "在实际的数据清洗的过程中，因为常常面对的是大量的结构化数据，因此在处理数据时，优先选择批量处理的方式，即在一行语句中，优先实现对某一行或者某一列的统一处理，这样不仅仅使得程序更加易读，而且程序的运行效率也会答复提高。为了实现这样的处理方式，我们这里给大家介绍两个行之有效的函数。"
   ]
  },
  {
   "cell_type": "markdown",
   "metadata": {},
   "source": [
    "#### map()函数"
   ]
  },
  {
   "cell_type": "raw",
   "metadata": {},
   "source": [
    "map函数的能力是，将某一个规则作用于一个Series对象，这个规则可以是一个函数，或者是一个字典。例如在如下的案例中，我们把英文的名字转化成中文的名字。"
   ]
  },
  {
   "cell_type": "code",
   "execution_count": 88,
   "metadata": {},
   "outputs": [],
   "source": [
    "file = r\"C:\\Users\\16526\\Desktop\\电网项目\\dataset\\chapter 3\\3-5 GDP.csv\""
   ]
  },
  {
   "cell_type": "code",
   "execution_count": 89,
   "metadata": {},
   "outputs": [],
   "source": [
    "df_GDP = pd.read_csv(file, header=0)"
   ]
  },
  {
   "cell_type": "code",
   "execution_count": 90,
   "metadata": {},
   "outputs": [
    {
     "data": {
      "text/html": [
       "<div>\n",
       "<style scoped>\n",
       "    .dataframe tbody tr th:only-of-type {\n",
       "        vertical-align: middle;\n",
       "    }\n",
       "\n",
       "    .dataframe tbody tr th {\n",
       "        vertical-align: top;\n",
       "    }\n",
       "\n",
       "    .dataframe thead th {\n",
       "        text-align: right;\n",
       "    }\n",
       "</style>\n",
       "<table border=\"1\" class=\"dataframe\">\n",
       "  <thead>\n",
       "    <tr style=\"text-align: right;\">\n",
       "      <th></th>\n",
       "      <th>Country Name</th>\n",
       "      <th>longitude</th>\n",
       "      <th>latitude</th>\n",
       "      <th>1960</th>\n",
       "      <th>1961</th>\n",
       "      <th>1962</th>\n",
       "      <th>1963</th>\n",
       "      <th>1964</th>\n",
       "      <th>1965</th>\n",
       "      <th>1966</th>\n",
       "      <th>...</th>\n",
       "      <th>2009</th>\n",
       "      <th>2010</th>\n",
       "      <th>2011</th>\n",
       "      <th>2012</th>\n",
       "      <th>2013</th>\n",
       "      <th>2014</th>\n",
       "      <th>2015</th>\n",
       "      <th>2016</th>\n",
       "      <th>2017</th>\n",
       "      <th>2018</th>\n",
       "    </tr>\n",
       "  </thead>\n",
       "  <tbody>\n",
       "    <tr>\n",
       "      <th>0</th>\n",
       "      <td>United Kingdom</td>\n",
       "      <td>-0.07858</td>\n",
       "      <td>51.50476</td>\n",
       "      <td>7.232805e+10</td>\n",
       "      <td>7.669436e+10</td>\n",
       "      <td>8.060194e+10</td>\n",
       "      <td>8.544377e+10</td>\n",
       "      <td>9.338760e+10</td>\n",
       "      <td>1.010000e+11</td>\n",
       "      <td>1.070000e+11</td>\n",
       "      <td>...</td>\n",
       "      <td>2390000000000</td>\n",
       "      <td>2450000000000</td>\n",
       "      <td>2630000000000</td>\n",
       "      <td>2680000000000</td>\n",
       "      <td>2750000000000</td>\n",
       "      <td>3030000000000</td>\n",
       "      <td>2900000000000</td>\n",
       "      <td>2660000000000</td>\n",
       "      <td>2640000000000</td>\n",
       "      <td>2830000000000</td>\n",
       "    </tr>\n",
       "    <tr>\n",
       "      <th>1</th>\n",
       "      <td>United States</td>\n",
       "      <td>-77.04026</td>\n",
       "      <td>38.85169</td>\n",
       "      <td>5.430000e+11</td>\n",
       "      <td>5.630000e+11</td>\n",
       "      <td>6.050000e+11</td>\n",
       "      <td>6.390000e+11</td>\n",
       "      <td>6.860000e+11</td>\n",
       "      <td>7.440000e+11</td>\n",
       "      <td>8.150000e+11</td>\n",
       "      <td>...</td>\n",
       "      <td>14400000000000</td>\n",
       "      <td>15000000000000</td>\n",
       "      <td>15500000000000</td>\n",
       "      <td>16200000000000</td>\n",
       "      <td>16800000000000</td>\n",
       "      <td>17500000000000</td>\n",
       "      <td>18200000000000</td>\n",
       "      <td>18700000000000</td>\n",
       "      <td>19500000000000</td>\n",
       "      <td>20500000000000</td>\n",
       "    </tr>\n",
       "    <tr>\n",
       "      <th>2</th>\n",
       "      <td>Russian Federation</td>\n",
       "      <td>37.59411</td>\n",
       "      <td>55.75306</td>\n",
       "      <td>NaN</td>\n",
       "      <td>NaN</td>\n",
       "      <td>NaN</td>\n",
       "      <td>NaN</td>\n",
       "      <td>NaN</td>\n",
       "      <td>NaN</td>\n",
       "      <td>NaN</td>\n",
       "      <td>...</td>\n",
       "      <td>1220000000000</td>\n",
       "      <td>1520000000000</td>\n",
       "      <td>2050000000000</td>\n",
       "      <td>2210000000000</td>\n",
       "      <td>2300000000000</td>\n",
       "      <td>2060000000000</td>\n",
       "      <td>1360000000000</td>\n",
       "      <td>1280000000000</td>\n",
       "      <td>1580000000000</td>\n",
       "      <td>1660000000000</td>\n",
       "    </tr>\n",
       "    <tr>\n",
       "      <th>3</th>\n",
       "      <td>France</td>\n",
       "      <td>2.29363</td>\n",
       "      <td>48.87372</td>\n",
       "      <td>6.265147e+10</td>\n",
       "      <td>6.834674e+10</td>\n",
       "      <td>7.631378e+10</td>\n",
       "      <td>8.555111e+10</td>\n",
       "      <td>9.490659e+10</td>\n",
       "      <td>1.020000e+11</td>\n",
       "      <td>1.110000e+11</td>\n",
       "      <td>...</td>\n",
       "      <td>2690000000000</td>\n",
       "      <td>2640000000000</td>\n",
       "      <td>2860000000000</td>\n",
       "      <td>2680000000000</td>\n",
       "      <td>2810000000000</td>\n",
       "      <td>2850000000000</td>\n",
       "      <td>2440000000000</td>\n",
       "      <td>2470000000000</td>\n",
       "      <td>2590000000000</td>\n",
       "      <td>2780000000000</td>\n",
       "    </tr>\n",
       "    <tr>\n",
       "      <th>4</th>\n",
       "      <td>China</td>\n",
       "      <td>116.39213</td>\n",
       "      <td>39.90071</td>\n",
       "      <td>5.971647e+10</td>\n",
       "      <td>5.005687e+10</td>\n",
       "      <td>4.720936e+10</td>\n",
       "      <td>5.070680e+10</td>\n",
       "      <td>5.970834e+10</td>\n",
       "      <td>7.043627e+10</td>\n",
       "      <td>7.672029e+10</td>\n",
       "      <td>...</td>\n",
       "      <td>5100000000000</td>\n",
       "      <td>6090000000000</td>\n",
       "      <td>7550000000000</td>\n",
       "      <td>8530000000000</td>\n",
       "      <td>9570000000000</td>\n",
       "      <td>10400000000000</td>\n",
       "      <td>11000000000000</td>\n",
       "      <td>11100000000000</td>\n",
       "      <td>12100000000000</td>\n",
       "      <td>13600000000000</td>\n",
       "    </tr>\n",
       "  </tbody>\n",
       "</table>\n",
       "<p>5 rows × 62 columns</p>\n",
       "</div>"
      ],
      "text/plain": [
       "         Country Name  longitude  latitude          1960          1961  \\\n",
       "0      United Kingdom   -0.07858  51.50476  7.232805e+10  7.669436e+10   \n",
       "1       United States  -77.04026  38.85169  5.430000e+11  5.630000e+11   \n",
       "2  Russian Federation   37.59411  55.75306           NaN           NaN   \n",
       "3              France    2.29363  48.87372  6.265147e+10  6.834674e+10   \n",
       "4               China  116.39213  39.90071  5.971647e+10  5.005687e+10   \n",
       "\n",
       "           1962          1963          1964          1965          1966  ...  \\\n",
       "0  8.060194e+10  8.544377e+10  9.338760e+10  1.010000e+11  1.070000e+11  ...   \n",
       "1  6.050000e+11  6.390000e+11  6.860000e+11  7.440000e+11  8.150000e+11  ...   \n",
       "2           NaN           NaN           NaN           NaN           NaN  ...   \n",
       "3  7.631378e+10  8.555111e+10  9.490659e+10  1.020000e+11  1.110000e+11  ...   \n",
       "4  4.720936e+10  5.070680e+10  5.970834e+10  7.043627e+10  7.672029e+10  ...   \n",
       "\n",
       "             2009            2010            2011            2012  \\\n",
       "0   2390000000000   2450000000000   2630000000000   2680000000000   \n",
       "1  14400000000000  15000000000000  15500000000000  16200000000000   \n",
       "2   1220000000000   1520000000000   2050000000000   2210000000000   \n",
       "3   2690000000000   2640000000000   2860000000000   2680000000000   \n",
       "4   5100000000000   6090000000000   7550000000000   8530000000000   \n",
       "\n",
       "             2013            2014            2015            2016  \\\n",
       "0   2750000000000   3030000000000   2900000000000   2660000000000   \n",
       "1  16800000000000  17500000000000  18200000000000  18700000000000   \n",
       "2   2300000000000   2060000000000   1360000000000   1280000000000   \n",
       "3   2810000000000   2850000000000   2440000000000   2470000000000   \n",
       "4   9570000000000  10400000000000  11000000000000  11100000000000   \n",
       "\n",
       "             2017            2018  \n",
       "0   2640000000000   2830000000000  \n",
       "1  19500000000000  20500000000000  \n",
       "2   1580000000000   1660000000000  \n",
       "3   2590000000000   2780000000000  \n",
       "4  12100000000000  13600000000000  \n",
       "\n",
       "[5 rows x 62 columns]"
      ]
     },
     "execution_count": 90,
     "metadata": {},
     "output_type": "execute_result"
    }
   ],
   "source": [
    "df_GDP"
   ]
  },
  {
   "cell_type": "code",
   "execution_count": 91,
   "metadata": {},
   "outputs": [],
   "source": [
    "# 英文格式转化成中文\n",
    "country_dict = {\n",
    "    \"United Kingdom\": \"英国\", \n",
    "    \"United States\": \"美国\", \n",
    "    \"Russian Federation\": \"俄罗斯\", \n",
    "    \"France\": \"法国\", \n",
    "    \"China\": \"中国\" \n",
    "}"
   ]
  },
  {
   "cell_type": "markdown",
   "metadata": {},
   "source": [
    "**Series.map(self, arg, na_action=None)**   \n",
    "参数类型为 dict--------Series.map({'cat': 'kitten', 'dog': 'puppy'})  \n",
    "参数类型为 function----Series.map('I am a {}'.format)   \n",
    "若不想对NaN值使用参数中的 function ， 参数 na_tion=‘ignore"
   ]
  },
  {
   "cell_type": "code",
   "execution_count": 92,
   "metadata": {},
   "outputs": [
    {
     "data": {
      "text/plain": [
       "0     英国\n",
       "1     美国\n",
       "2    俄罗斯\n",
       "3     法国\n",
       "4     中国\n",
       "Name: 国家, dtype: object"
      ]
     },
     "execution_count": 92,
     "metadata": {},
     "output_type": "execute_result"
    }
   ],
   "source": [
    "df_GDP[\"国家\"] = df_GDP[\"Country Name\"].map(country_dict)\n",
    "df_GDP[\"国家\"]"
   ]
  },
  {
   "cell_type": "markdown",
   "metadata": {},
   "source": [
    "#### apply()函数"
   ]
  },
  {
   "cell_type": "raw",
   "metadata": {},
   "source": [
    "apply()函数的功能是将一个自定义函数作用于DataFrame的行或者列上，其功能相较于map()函数有较大的拓展。"
   ]
  },
  {
   "cell_type": "markdown",
   "metadata": {},
   "source": [
    "##### 函数与匿名函数"
   ]
  },
  {
   "cell_type": "code",
   "execution_count": 93,
   "metadata": {},
   "outputs": [
    {
     "data": {
      "text/plain": [
       "0     19.50万亿人民币\n",
       "1    141.28万亿人民币\n",
       "2     11.44万亿人民币\n",
       "3     19.16万亿人民币\n",
       "4     93.73万亿人民币\n",
       "Name: 2018, dtype: object"
      ]
     },
     "execution_count": 93,
     "metadata": {},
     "output_type": "execute_result"
    }
   ],
   "source": [
    "# 定义函数:将数字类型美元计价GDP的变量转换为以万亿人民币为单位计价的数据\n",
    "def dollar_to_rmb(x):\n",
    "    if np.isnan(x):\n",
    "        return np.nan\n",
    "    else:\n",
    "        _value = x / 1000000000000 * 6.8918\n",
    "        return \"%.2f万亿人民币\"%(_value)\n",
    "# 利用apply，将函数dollar_to_rmb的功能，作用到\"2018\"列，进行列方向的计算\n",
    "df_GDP[\"2018\"].apply(dollar_to_rmb)"
   ]
  },
  {
   "cell_type": "code",
   "execution_count": 94,
   "metadata": {},
   "outputs": [
    {
     "data": {
      "text/plain": [
       "0     19.50万亿人民币\n",
       "1    141.28万亿人民币\n",
       "2     11.44万亿人民币\n",
       "3     19.16万亿人民币\n",
       "4     93.73万亿人民币\n",
       "Name: 2018, dtype: object"
      ]
     },
     "execution_count": 94,
     "metadata": {},
     "output_type": "execute_result"
    }
   ],
   "source": [
    "df_GDP[\"2018\"].apply(\n",
    "    lambda x: x if np.isnan(x) else \"%.2f万亿人民币\"%(x / 1000000000000 * 6.8918))"
   ]
  },
  {
   "cell_type": "markdown",
   "metadata": {},
   "source": [
    "##### apply()函数的运算方向"
   ]
  },
  {
   "cell_type": "raw",
   "metadata": {},
   "source": [
    "在上面的逻辑中，apply()函数作用的数据域是一维的，因此我们并没有去指定函数的运算方向。但是如果我们是对一个二维的数组做运算呢？例如这里，我希望看一下主要国家的2018年相对2017年的GDP增长率。\n",
    "其实很简单，仅需要额外指定一个运算方向axis即可，在前面的章节里，我们强调过，0表示纵向计算，1表示横向计算。显然这里计算GDP增长率，是一个横向计算的过程。"
   ]
  },
  {
   "cell_type": "code",
   "execution_count": 95,
   "metadata": {},
   "outputs": [
    {
     "data": {
      "text/plain": [
       "0     7.20%\n",
       "1     5.13%\n",
       "2     5.06%\n",
       "3     7.34%\n",
       "4    12.40%\n",
       "dtype: object"
      ]
     },
     "execution_count": 95,
     "metadata": {},
     "output_type": "execute_result"
    }
   ],
   "source": [
    "# 定义了一个计算GDP增长率的匿名函数\n",
    "df_GDP[[\"2017\", \"2018\"]].apply(\n",
    "    lambda x: \"%.2f\"%((x[\"2018\"]-x[\"2017\"])/x[\"2017\"]*100)+\"%\", axis=1)"
   ]
  },
  {
   "cell_type": "markdown",
   "metadata": {},
   "source": [
    "##### applymap()函数"
   ]
  },
  {
   "cell_type": "raw",
   "metadata": {},
   "source": [
    "applymap()函数可以认为是apply()函数的扩展，其功能是将自定义函数作用于DataFrame的所有元素 。例如我们希望把文件中的全部年份的GDP数据，都换算成国人便于阅读格式"
   ]
  },
  {
   "cell_type": "code",
   "execution_count": 96,
   "metadata": {},
   "outputs": [
    {
     "data": {
      "text/html": [
       "<div>\n",
       "<style scoped>\n",
       "    .dataframe tbody tr th:only-of-type {\n",
       "        vertical-align: middle;\n",
       "    }\n",
       "\n",
       "    .dataframe tbody tr th {\n",
       "        vertical-align: top;\n",
       "    }\n",
       "\n",
       "    .dataframe thead th {\n",
       "        text-align: right;\n",
       "    }\n",
       "</style>\n",
       "<table border=\"1\" class=\"dataframe\">\n",
       "  <thead>\n",
       "    <tr style=\"text-align: right;\">\n",
       "      <th></th>\n",
       "      <th>1960</th>\n",
       "      <th>1961</th>\n",
       "      <th>1962</th>\n",
       "      <th>1963</th>\n",
       "      <th>1964</th>\n",
       "      <th>1965</th>\n",
       "      <th>1966</th>\n",
       "      <th>1967</th>\n",
       "      <th>1968</th>\n",
       "      <th>1969</th>\n",
       "      <th>...</th>\n",
       "      <th>2009</th>\n",
       "      <th>2010</th>\n",
       "      <th>2011</th>\n",
       "      <th>2012</th>\n",
       "      <th>2013</th>\n",
       "      <th>2014</th>\n",
       "      <th>2015</th>\n",
       "      <th>2016</th>\n",
       "      <th>2017</th>\n",
       "      <th>2018</th>\n",
       "    </tr>\n",
       "  </thead>\n",
       "  <tbody>\n",
       "    <tr>\n",
       "      <th>0</th>\n",
       "      <td>0.50万亿人民币</td>\n",
       "      <td>0.53万亿人民币</td>\n",
       "      <td>0.56万亿人民币</td>\n",
       "      <td>0.59万亿人民币</td>\n",
       "      <td>0.64万亿人民币</td>\n",
       "      <td>0.70万亿人民币</td>\n",
       "      <td>0.74万亿人民币</td>\n",
       "      <td>0.76万亿人民币</td>\n",
       "      <td>0.72万亿人民币</td>\n",
       "      <td>0.78万亿人民币</td>\n",
       "      <td>...</td>\n",
       "      <td>16.47万亿人民币</td>\n",
       "      <td>16.88万亿人民币</td>\n",
       "      <td>18.13万亿人民币</td>\n",
       "      <td>18.47万亿人民币</td>\n",
       "      <td>18.95万亿人民币</td>\n",
       "      <td>20.88万亿人民币</td>\n",
       "      <td>19.99万亿人民币</td>\n",
       "      <td>18.33万亿人民币</td>\n",
       "      <td>18.19万亿人民币</td>\n",
       "      <td>19.50万亿人民币</td>\n",
       "    </tr>\n",
       "    <tr>\n",
       "      <th>1</th>\n",
       "      <td>3.74万亿人民币</td>\n",
       "      <td>3.88万亿人民币</td>\n",
       "      <td>4.17万亿人民币</td>\n",
       "      <td>4.40万亿人民币</td>\n",
       "      <td>4.73万亿人民币</td>\n",
       "      <td>5.13万亿人民币</td>\n",
       "      <td>5.62万亿人民币</td>\n",
       "      <td>5.94万亿人民币</td>\n",
       "      <td>6.50万亿人民币</td>\n",
       "      <td>7.03万亿人民币</td>\n",
       "      <td>...</td>\n",
       "      <td>99.24万亿人民币</td>\n",
       "      <td>103.38万亿人民币</td>\n",
       "      <td>106.82万亿人民币</td>\n",
       "      <td>111.65万亿人民币</td>\n",
       "      <td>115.78万亿人民币</td>\n",
       "      <td>120.61万亿人民币</td>\n",
       "      <td>125.43万亿人民币</td>\n",
       "      <td>128.88万亿人民币</td>\n",
       "      <td>134.39万亿人民币</td>\n",
       "      <td>141.28万亿人民币</td>\n",
       "    </tr>\n",
       "    <tr>\n",
       "      <th>2</th>\n",
       "      <td>NaN</td>\n",
       "      <td>NaN</td>\n",
       "      <td>NaN</td>\n",
       "      <td>NaN</td>\n",
       "      <td>NaN</td>\n",
       "      <td>NaN</td>\n",
       "      <td>NaN</td>\n",
       "      <td>NaN</td>\n",
       "      <td>NaN</td>\n",
       "      <td>NaN</td>\n",
       "      <td>...</td>\n",
       "      <td>8.41万亿人民币</td>\n",
       "      <td>10.48万亿人民币</td>\n",
       "      <td>14.13万亿人民币</td>\n",
       "      <td>15.23万亿人民币</td>\n",
       "      <td>15.85万亿人民币</td>\n",
       "      <td>14.20万亿人民币</td>\n",
       "      <td>9.37万亿人民币</td>\n",
       "      <td>8.82万亿人民币</td>\n",
       "      <td>10.89万亿人民币</td>\n",
       "      <td>11.44万亿人民币</td>\n",
       "    </tr>\n",
       "    <tr>\n",
       "      <th>3</th>\n",
       "      <td>0.43万亿人民币</td>\n",
       "      <td>0.47万亿人民币</td>\n",
       "      <td>0.53万亿人民币</td>\n",
       "      <td>0.59万亿人民币</td>\n",
       "      <td>0.65万亿人民币</td>\n",
       "      <td>0.70万亿人民币</td>\n",
       "      <td>0.76万亿人民币</td>\n",
       "      <td>0.82万亿人民币</td>\n",
       "      <td>0.90万亿人民币</td>\n",
       "      <td>0.97万亿人民币</td>\n",
       "      <td>...</td>\n",
       "      <td>18.54万亿人民币</td>\n",
       "      <td>18.19万亿人民币</td>\n",
       "      <td>19.71万亿人民币</td>\n",
       "      <td>18.47万亿人民币</td>\n",
       "      <td>19.37万亿人民币</td>\n",
       "      <td>19.64万亿人民币</td>\n",
       "      <td>16.82万亿人民币</td>\n",
       "      <td>17.02万亿人民币</td>\n",
       "      <td>17.85万亿人民币</td>\n",
       "      <td>19.16万亿人民币</td>\n",
       "    </tr>\n",
       "    <tr>\n",
       "      <th>4</th>\n",
       "      <td>0.41万亿人民币</td>\n",
       "      <td>0.34万亿人民币</td>\n",
       "      <td>0.33万亿人民币</td>\n",
       "      <td>0.35万亿人民币</td>\n",
       "      <td>0.41万亿人民币</td>\n",
       "      <td>0.49万亿人民币</td>\n",
       "      <td>0.53万亿人民币</td>\n",
       "      <td>0.50万亿人民币</td>\n",
       "      <td>0.49万亿人民币</td>\n",
       "      <td>0.55万亿人民币</td>\n",
       "      <td>...</td>\n",
       "      <td>35.15万亿人民币</td>\n",
       "      <td>41.97万亿人民币</td>\n",
       "      <td>52.03万亿人民币</td>\n",
       "      <td>58.79万亿人民币</td>\n",
       "      <td>65.95万亿人民币</td>\n",
       "      <td>71.67万亿人民币</td>\n",
       "      <td>75.81万亿人民币</td>\n",
       "      <td>76.50万亿人民币</td>\n",
       "      <td>83.39万亿人民币</td>\n",
       "      <td>93.73万亿人民币</td>\n",
       "    </tr>\n",
       "  </tbody>\n",
       "</table>\n",
       "<p>5 rows × 59 columns</p>\n",
       "</div>"
      ],
      "text/plain": [
       "        1960       1961       1962       1963       1964       1965  \\\n",
       "0  0.50万亿人民币  0.53万亿人民币  0.56万亿人民币  0.59万亿人民币  0.64万亿人民币  0.70万亿人民币   \n",
       "1  3.74万亿人民币  3.88万亿人民币  4.17万亿人民币  4.40万亿人民币  4.73万亿人民币  5.13万亿人民币   \n",
       "2        NaN        NaN        NaN        NaN        NaN        NaN   \n",
       "3  0.43万亿人民币  0.47万亿人民币  0.53万亿人民币  0.59万亿人民币  0.65万亿人民币  0.70万亿人民币   \n",
       "4  0.41万亿人民币  0.34万亿人民币  0.33万亿人民币  0.35万亿人民币  0.41万亿人民币  0.49万亿人民币   \n",
       "\n",
       "        1966       1967       1968       1969  ...        2009         2010  \\\n",
       "0  0.74万亿人民币  0.76万亿人民币  0.72万亿人民币  0.78万亿人民币  ...  16.47万亿人民币   16.88万亿人民币   \n",
       "1  5.62万亿人民币  5.94万亿人民币  6.50万亿人民币  7.03万亿人民币  ...  99.24万亿人民币  103.38万亿人民币   \n",
       "2        NaN        NaN        NaN        NaN  ...   8.41万亿人民币   10.48万亿人民币   \n",
       "3  0.76万亿人民币  0.82万亿人民币  0.90万亿人民币  0.97万亿人民币  ...  18.54万亿人民币   18.19万亿人民币   \n",
       "4  0.53万亿人民币  0.50万亿人民币  0.49万亿人民币  0.55万亿人民币  ...  35.15万亿人民币   41.97万亿人民币   \n",
       "\n",
       "          2011         2012         2013         2014         2015  \\\n",
       "0   18.13万亿人民币   18.47万亿人民币   18.95万亿人民币   20.88万亿人民币   19.99万亿人民币   \n",
       "1  106.82万亿人民币  111.65万亿人民币  115.78万亿人民币  120.61万亿人民币  125.43万亿人民币   \n",
       "2   14.13万亿人民币   15.23万亿人民币   15.85万亿人民币   14.20万亿人民币    9.37万亿人民币   \n",
       "3   19.71万亿人民币   18.47万亿人民币   19.37万亿人民币   19.64万亿人民币   16.82万亿人民币   \n",
       "4   52.03万亿人民币   58.79万亿人民币   65.95万亿人民币   71.67万亿人民币   75.81万亿人民币   \n",
       "\n",
       "          2016         2017         2018  \n",
       "0   18.33万亿人民币   18.19万亿人民币   19.50万亿人民币  \n",
       "1  128.88万亿人民币  134.39万亿人民币  141.28万亿人民币  \n",
       "2    8.82万亿人民币   10.89万亿人民币   11.44万亿人民币  \n",
       "3   17.02万亿人民币   17.85万亿人民币   19.16万亿人民币  \n",
       "4   76.50万亿人民币   83.39万亿人民币   93.73万亿人民币  \n",
       "\n",
       "[5 rows x 59 columns]"
      ]
     },
     "execution_count": 96,
     "metadata": {},
     "output_type": "execute_result"
    }
   ],
   "source": [
    "df_GDP.loc[:, \"1960\":\"2018\"].applymap(\n",
    "    lambda x: x if np.isnan(x) else \"%.2f万亿人民币\"%(x / 1000000000000 * 6.8918))"
   ]
  },
  {
   "cell_type": "markdown",
   "metadata": {},
   "source": [
    "##### 清洗与效率"
   ]
  },
  {
   "cell_type": "raw",
   "metadata": {},
   "source": [
    "1）利用索引和切片，进行自定义的元素级别的微操作；\n",
    "\n",
    "2）利用Pandas自带的遍历方法，进行操作；\n",
    "\n",
    "3）利用apply()、applymap()、map()函数，结合自定义函数进行清洗；\n",
    "\n",
    "4）利用Pandas内置的运算函数，进行。\n",
    "\n",
    "从效率来看，方法4是无疑最高的，矩阵的运算可以有效地解决并发的问题，进而提高效率；从编程自由度的角度看，方法3是最应用最广泛的，因为你可以方便地定义函数，进行定制化的数据清洗，非常好用。但是方法2和方法1并非不可取，在实际的使用过程中，因为数据的原始组织格式以及其混乱情况，往往超出我们的预期，当缺少合适的方法的时候，灵活利用遍历和索引的能力，实现文件的批处理方法，也是很不错的一个选择。"
   ]
  },
  {
   "cell_type": "markdown",
   "metadata": {},
   "source": [
    "## Pandas:数据清洗常用方法"
   ]
  },
  {
   "cell_type": "code",
   "execution_count": 97,
   "metadata": {},
   "outputs": [
    {
     "data": {
      "text/html": [
       "<div>\n",
       "<style scoped>\n",
       "    .dataframe tbody tr th:only-of-type {\n",
       "        vertical-align: middle;\n",
       "    }\n",
       "\n",
       "    .dataframe tbody tr th {\n",
       "        vertical-align: top;\n",
       "    }\n",
       "\n",
       "    .dataframe thead th {\n",
       "        text-align: right;\n",
       "    }\n",
       "</style>\n",
       "<table border=\"1\" class=\"dataframe\">\n",
       "  <thead>\n",
       "    <tr style=\"text-align: right;\">\n",
       "      <th></th>\n",
       "      <th>job</th>\n",
       "      <th>company</th>\n",
       "      <th>city</th>\n",
       "      <th>salary_min</th>\n",
       "      <th>salary_max</th>\n",
       "    </tr>\n",
       "  </thead>\n",
       "  <tbody>\n",
       "    <tr>\n",
       "      <th>0</th>\n",
       "      <td>金融数据分析师/助理</td>\n",
       "      <td>华壹信融投资管理（北京）有限责任...</td>\n",
       "      <td>北京</td>\n",
       "      <td>8333.33</td>\n",
       "      <td>12500.0</td>\n",
       "    </tr>\n",
       "    <tr>\n",
       "      <th>1</th>\n",
       "      <td>a（0经验可培养）金融数据分析师/助理</td>\n",
       "      <td>深圳市中创荣投资有限公司</td>\n",
       "      <td>深圳</td>\n",
       "      <td>8000.00</td>\n",
       "      <td>10000.0</td>\n",
       "    </tr>\n",
       "    <tr>\n",
       "      <th>2</th>\n",
       "      <td>初级运营数据分析专员 助理</td>\n",
       "      <td>知才（上海）信息技术有限公司</td>\n",
       "      <td>上海</td>\n",
       "      <td>6000.00</td>\n",
       "      <td>8000.0</td>\n",
       "    </tr>\n",
       "    <tr>\n",
       "      <th>3</th>\n",
       "      <td>销售数据分析</td>\n",
       "      <td>上海品星互联网信息技术有限公司</td>\n",
       "      <td>北京</td>\n",
       "      <td>5000.00</td>\n",
       "      <td>9000.0</td>\n",
       "    </tr>\n",
       "    <tr>\n",
       "      <th>4</th>\n",
       "      <td>数据分析经理</td>\n",
       "      <td>美菜网</td>\n",
       "      <td>上海</td>\n",
       "      <td>13000.00</td>\n",
       "      <td>17000.0</td>\n",
       "    </tr>\n",
       "  </tbody>\n",
       "</table>\n",
       "</div>"
      ],
      "text/plain": [
       "                   job              company city  salary_min  salary_max\n",
       "0           金融数据分析师/助理  华壹信融投资管理（北京）有限责任...   北京     8333.33     12500.0\n",
       "1  a（0经验可培养）金融数据分析师/助理         深圳市中创荣投资有限公司   深圳     8000.00     10000.0\n",
       "2        初级运营数据分析专员 助理       知才（上海）信息技术有限公司   上海     6000.00      8000.0\n",
       "3               销售数据分析      上海品星互联网信息技术有限公司   北京     5000.00      9000.0\n",
       "4               数据分析经理                  美菜网   上海    13000.00     17000.0"
      ]
     },
     "execution_count": 97,
     "metadata": {},
     "output_type": "execute_result"
    }
   ],
   "source": [
    "file = r\"C:\\Users\\16526\\Desktop\\电网项目\\dataset\\chapter 3\\3-6 jobs_51_info.csv\"\n",
    "jobs = pd.read_csv(file, header=0)\n",
    "jobs.head()"
   ]
  },
  {
   "cell_type": "code",
   "execution_count": 98,
   "metadata": {},
   "outputs": [
    {
     "name": "stdout",
     "output_type": "stream",
     "text": [
      "<class 'pandas.core.frame.DataFrame'>\n",
      "RangeIndex: 66766 entries, 0 to 66765\n",
      "Data columns (total 5 columns):\n",
      " #   Column      Non-Null Count  Dtype  \n",
      "---  ------      --------------  -----  \n",
      " 0   job         66766 non-null  object \n",
      " 1   company     66766 non-null  object \n",
      " 2   city        64290 non-null  object \n",
      " 3   salary_min  65457 non-null  float64\n",
      " 4   salary_max  65462 non-null  float64\n",
      "dtypes: float64(2), object(3)\n",
      "memory usage: 2.5+ MB\n"
     ]
    }
   ],
   "source": [
    "# 字段信息总览\n",
    "jobs.info()"
   ]
  },
  {
   "cell_type": "code",
   "execution_count": 99,
   "metadata": {},
   "outputs": [
    {
     "data": {
      "text/plain": [
       "array(['北京', '深圳', '上海', '武汉', '广州', '南京', '西安', '杭州', '成都', '苏州', nan],\n",
       "      dtype=object)"
      ]
     },
     "execution_count": 99,
     "metadata": {},
     "output_type": "execute_result"
    }
   ],
   "source": [
    "# 查看数据包含哪些城市\n",
    "jobs[\"city\"].unique()"
   ]
  },
  {
   "cell_type": "markdown",
   "metadata": {},
   "source": [
    "### 筛选与过滤"
   ]
  },
  {
   "cell_type": "raw",
   "metadata": {},
   "source": [
    "数据分析中的筛选逻辑都是利用布尔索引完成的，也就是根据筛选目标的要求，通过Series创建一个布尔类型的数组，进而完成目标筛选。创建布尔类型Series的方法有大小比较、isin()、isnull()、notnull()，以及它们之间的位运算。具体可以参考前文3.3节的逻辑运算部分。"
   ]
  },
  {
   "cell_type": "markdown",
   "metadata": {},
   "source": [
    "**isin()、isnull()、notnull()**"
   ]
  },
  {
   "cell_type": "code",
   "execution_count": 100,
   "metadata": {},
   "outputs": [
    {
     "data": {
      "text/plain": [
       "10329.230455194938"
      ]
     },
     "execution_count": 100,
     "metadata": {},
     "output_type": "execute_result"
    }
   ],
   "source": [
    "# skipna : 布尔值,默认为True.表示跳过NaN值.如果整行/列都是NaN,那么结果也就是NaN\n",
    "jobs[jobs[\"city\"] == \"北京\"][\"salary_min\"].mean(skipna=True)"
   ]
  },
  {
   "cell_type": "markdown",
   "metadata": {},
   "source": [
    "### 计算唯一值"
   ]
  },
  {
   "cell_type": "raw",
   "metadata": {},
   "source": [
    "数据分析中的筛选逻辑都是利用布尔索引完成的，也就是根据筛选目标的要求，通过Series创建一个布尔类型的数组，进而完成目标筛选。创建布尔类型Series的方法有大小比较、isin()、isnull()、notnull()，以及它们之间的位运算。具体可以参考前文3.3节的逻辑运算部分。"
   ]
  },
  {
   "cell_type": "raw",
   "metadata": {},
   "source": [
    "对于表示类目的字段，我们通常希望看到每个类目是如何分布的，这里给大家推荐一个非常实用的函数value_counts()， value_counts()是用来查看某一列表格中具体有多少种不同的类目，并计算每个类目的频次。 value_counts()是Series类型自带的方法"
   ]
  },
  {
   "cell_type": "markdown",
   "metadata": {},
   "source": [
    "**value_counts()**"
   ]
  },
  {
   "cell_type": "code",
   "execution_count": 101,
   "metadata": {},
   "outputs": [
    {
     "data": {
      "text/plain": [
       "广州    15634\n",
       "深圳    14448\n",
       "上海    13027\n",
       "北京     5093\n",
       "杭州     4615\n",
       "武汉     3682\n",
       "成都     2811\n",
       "南京     2165\n",
       "苏州     1486\n",
       "西安     1329\n",
       "Name: city, dtype: int64"
      ]
     },
     "execution_count": 101,
     "metadata": {},
     "output_type": "execute_result"
    }
   ],
   "source": [
    "jobs[\"city\"].value_counts()"
   ]
  },
  {
   "cell_type": "markdown",
   "metadata": {},
   "source": [
    "### 空值处理"
   ]
  },
  {
   "cell_type": "raw",
   "metadata": {},
   "source": [
    "在实际的生产环境中，空值处理是非常常见且需要掌握的一种能力。那空值如何处理？我们需要针对数据集具体情况具体分析。"
   ]
  },
  {
   "cell_type": "markdown",
   "metadata": {},
   "source": [
    "#### 丢弃空值"
   ]
  },
  {
   "cell_type": "raw",
   "metadata": {},
   "source": [
    "如果数据集很大，并且存在空值的样本很少，如果丢弃并不会对整个样本集造成很大影响的情况下，我们可以做丢弃处理。一种是我们基于刚刚学到的筛选方法，剔除掉含有空值的行或列。或者直接利用dropna函数。"
   ]
  },
  {
   "cell_type": "code",
   "execution_count": 102,
   "metadata": {},
   "outputs": [
    {
     "data": {
      "text/plain": [
       "(66766, 5)"
      ]
     },
     "execution_count": 102,
     "metadata": {},
     "output_type": "execute_result"
    }
   ],
   "source": [
    "jobs.shape"
   ]
  },
  {
   "cell_type": "markdown",
   "metadata": {},
   "source": [
    "**dropna函数**"
   ]
  },
  {
   "cell_type": "code",
   "execution_count": 103,
   "metadata": {},
   "outputs": [
    {
     "data": {
      "text/plain": [
       "(63017, 5)"
      ]
     },
     "execution_count": 103,
     "metadata": {},
     "output_type": "execute_result"
    }
   ],
   "source": [
    "# 只要这一行存在空值，则删除改行；axis=0用来表征是删除行（运算方向为列方向）\n",
    "# 同步计算删除结果的维度，为63017行5列。\n",
    "jobs.dropna(axis=0).shape"
   ]
  },
  {
   "cell_type": "code",
   "execution_count": 104,
   "metadata": {},
   "outputs": [
    {
     "data": {
      "text/plain": [
       "(66766, 5)"
      ]
     },
     "execution_count": 104,
     "metadata": {},
     "output_type": "execute_result"
    }
   ],
   "source": [
    "# 整行均为空值，删除；否则保留\n",
    "jobs.dropna(how=\"all\", axis=0).shape"
   ]
  },
  {
   "cell_type": "code",
   "execution_count": 105,
   "metadata": {},
   "outputs": [
    {
     "data": {
      "text/plain": [
       "(64290, 5)"
      ]
     },
     "execution_count": 105,
     "metadata": {},
     "output_type": "execute_result"
    }
   ],
   "source": [
    "# 删除指定列(\"city\",\"salary_min\")中包含缺失值的行\n",
    "jobs.dropna(subset=[\"city\"]).shape"
   ]
  },
  {
   "cell_type": "raw",
   "metadata": {},
   "source": [
    "对于dropna函数，除了上面介绍的参数外，还有一个inplace参数，该参数默认为False，也就是函数返回值为处理的结果，该结果并不会自动存储（如果你需要保存该结果，需要用一个变量来进行赋值。数据集本身不会发生改变）。如果设置inplace=True，则函数会对数据集进行操作（就像做手术一样），但是函数返回值为None。"
   ]
  },
  {
   "cell_type": "markdown",
   "metadata": {},
   "source": [
    "#### 空值填充"
   ]
  },
  {
   "cell_type": "markdown",
   "metadata": {},
   "source": [
    "##### 填充唯一值"
   ]
  },
  {
   "cell_type": "raw",
   "metadata": {},
   "source": [
    "其实从数据分析师的角度，空值也是一种数据。通常我们会对空值做一些标记，例如这里我们把city字段中存在空值的部分，填充为“其他”。这种方式我们也是称之为常数填充。"
   ]
  },
  {
   "cell_type": "markdown",
   "metadata": {},
   "source": [
    "填充city字段空值为其他，设置**inplace为True。该语句本身返回值为None，但是jobs本身发生了变化**"
   ]
  },
  {
   "cell_type": "code",
   "execution_count": 106,
   "metadata": {},
   "outputs": [
    {
     "data": {
      "text/plain": [
       "广州    15634\n",
       "深圳    14448\n",
       "上海    13027\n",
       "北京     5093\n",
       "杭州     4615\n",
       "武汉     3682\n",
       "成都     2811\n",
       "其他     2476\n",
       "南京     2165\n",
       "苏州     1486\n",
       "西安     1329\n",
       "Name: city, dtype: int64"
      ]
     },
     "execution_count": 106,
     "metadata": {},
     "output_type": "execute_result"
    }
   ],
   "source": [
    "jobs[\"city\"].fillna(\"其他\", inplace=True)\n",
    "jobs[\"city\"].value_counts()"
   ]
  },
  {
   "cell_type": "markdown",
   "metadata": {},
   "source": [
    "##### 填充指定值"
   ]
  },
  {
   "cell_type": "raw",
   "metadata": {},
   "source": [
    "对于salary_min字段，我们这里以均值填充，即以该字段的平均值来进行填充。"
   ]
  },
  {
   "cell_type": "code",
   "execution_count": 107,
   "metadata": {},
   "outputs": [],
   "source": [
    "jobs[\"salary_min\"].fillna(jobs[\"salary_min\"].mean(),inplace=True)"
   ]
  },
  {
   "cell_type": "code",
   "execution_count": 108,
   "metadata": {},
   "outputs": [
    {
     "data": {
      "text/plain": [
       "0        12500.0\n",
       "1        10000.0\n",
       "2         8000.0\n",
       "3         9000.0\n",
       "4        17000.0\n",
       "          ...   \n",
       "66761     5000.0\n",
       "66762    10000.0\n",
       "66763    30000.0\n",
       "66764    50000.0\n",
       "66765    16000.0\n",
       "Name: salary_max, Length: 66766, dtype: float64"
      ]
     },
     "execution_count": 108,
     "metadata": {},
     "output_type": "execute_result"
    }
   ],
   "source": [
    "import random\n",
    "jobs[\"salary_max\"].fillna(random.randint(10000, 200000))"
   ]
  },
  {
   "cell_type": "markdown",
   "metadata": {},
   "source": [
    "**检查某一列是否有Nan**"
   ]
  },
  {
   "cell_type": "code",
   "execution_count": 109,
   "metadata": {},
   "outputs": [
    {
     "data": {
      "text/plain": [
       "False"
      ]
     },
     "execution_count": 109,
     "metadata": {},
     "output_type": "execute_result"
    }
   ],
   "source": [
    "jobs[\"salary_min\"].isnull().any()"
   ]
  },
  {
   "cell_type": "code",
   "execution_count": 110,
   "metadata": {},
   "outputs": [],
   "source": [
    "jobs[\"salary_max\"].fillna(method=\"ffill\",inplace=True)"
   ]
  },
  {
   "cell_type": "code",
   "execution_count": 111,
   "metadata": {},
   "outputs": [
    {
     "data": {
      "text/plain": [
       "False"
      ]
     },
     "execution_count": 111,
     "metadata": {},
     "output_type": "execute_result"
    }
   ],
   "source": [
    "jobs[\"salary_max\"].isnull().any()"
   ]
  },
  {
   "cell_type": "markdown",
   "metadata": {},
   "source": [
    "#### 新增或删除列"
   ]
  },
  {
   "cell_type": "raw",
   "metadata": {},
   "source": [
    "在数据清洗的过程中，经常会遇到对列进行操作，比如新增一列、删除一列或多列，对列重新排序，等等情况，不一而足。Pandas实现上述效果其实非常简单。"
   ]
  },
  {
   "cell_type": "markdown",
   "metadata": {},
   "source": [
    "##### 末位新增列"
   ]
  },
  {
   "cell_type": "raw",
   "metadata": {},
   "source": [
    "末位新增列应该是非常普遍的一种操作，前面我们也多次演示，这里不再赘述。"
   ]
  },
  {
   "cell_type": "markdown",
   "metadata": {},
   "source": [
    "##### 中间插入一列"
   ]
  },
  {
   "cell_type": "code",
   "execution_count": 112,
   "metadata": {},
   "outputs": [
    {
     "data": {
      "text/html": [
       "<div>\n",
       "<style scoped>\n",
       "    .dataframe tbody tr th:only-of-type {\n",
       "        vertical-align: middle;\n",
       "    }\n",
       "\n",
       "    .dataframe tbody tr th {\n",
       "        vertical-align: top;\n",
       "    }\n",
       "\n",
       "    .dataframe thead th {\n",
       "        text-align: right;\n",
       "    }\n",
       "</style>\n",
       "<table border=\"1\" class=\"dataframe\">\n",
       "  <thead>\n",
       "    <tr style=\"text-align: right;\">\n",
       "      <th></th>\n",
       "      <th>job</th>\n",
       "      <th>data_engineer</th>\n",
       "      <th>company</th>\n",
       "      <th>city</th>\n",
       "      <th>salary_min</th>\n",
       "      <th>salary_max</th>\n",
       "    </tr>\n",
       "  </thead>\n",
       "  <tbody>\n",
       "    <tr>\n",
       "      <th>0</th>\n",
       "      <td>金融数据分析师/助理</td>\n",
       "      <td>y</td>\n",
       "      <td>华壹信融投资管理（北京）有限责任...</td>\n",
       "      <td>北京</td>\n",
       "      <td>8333.33</td>\n",
       "      <td>12500.0</td>\n",
       "    </tr>\n",
       "    <tr>\n",
       "      <th>1</th>\n",
       "      <td>a（0经验可培养）金融数据分析师/助理</td>\n",
       "      <td>y</td>\n",
       "      <td>深圳市中创荣投资有限公司</td>\n",
       "      <td>深圳</td>\n",
       "      <td>8000.00</td>\n",
       "      <td>10000.0</td>\n",
       "    </tr>\n",
       "    <tr>\n",
       "      <th>2</th>\n",
       "      <td>初级运营数据分析专员 助理</td>\n",
       "      <td>y</td>\n",
       "      <td>知才（上海）信息技术有限公司</td>\n",
       "      <td>上海</td>\n",
       "      <td>6000.00</td>\n",
       "      <td>8000.0</td>\n",
       "    </tr>\n",
       "    <tr>\n",
       "      <th>3</th>\n",
       "      <td>销售数据分析</td>\n",
       "      <td>y</td>\n",
       "      <td>上海品星互联网信息技术有限公司</td>\n",
       "      <td>北京</td>\n",
       "      <td>5000.00</td>\n",
       "      <td>9000.0</td>\n",
       "    </tr>\n",
       "    <tr>\n",
       "      <th>4</th>\n",
       "      <td>数据分析经理</td>\n",
       "      <td>y</td>\n",
       "      <td>美菜网</td>\n",
       "      <td>上海</td>\n",
       "      <td>13000.00</td>\n",
       "      <td>17000.0</td>\n",
       "    </tr>\n",
       "    <tr>\n",
       "      <th>...</th>\n",
       "      <td>...</td>\n",
       "      <td>...</td>\n",
       "      <td>...</td>\n",
       "      <td>...</td>\n",
       "      <td>...</td>\n",
       "      <td>...</td>\n",
       "    </tr>\n",
       "    <tr>\n",
       "      <th>66761</th>\n",
       "      <td>运营支持岗</td>\n",
       "      <td>n</td>\n",
       "      <td>九州通医药集团物流有限公司</td>\n",
       "      <td>武汉</td>\n",
       "      <td>3000.00</td>\n",
       "      <td>5000.0</td>\n",
       "    </tr>\n",
       "    <tr>\n",
       "      <th>66762</th>\n",
       "      <td>新媒体运营专员</td>\n",
       "      <td>n</td>\n",
       "      <td>深圳市摩天之星企业管理有限公司龙...</td>\n",
       "      <td>深圳</td>\n",
       "      <td>8000.00</td>\n",
       "      <td>10000.0</td>\n",
       "    </tr>\n",
       "    <tr>\n",
       "      <th>66763</th>\n",
       "      <td>电商运营总监</td>\n",
       "      <td>n</td>\n",
       "      <td>福建特家商业管理有限公司</td>\n",
       "      <td>广州</td>\n",
       "      <td>20000.00</td>\n",
       "      <td>30000.0</td>\n",
       "    </tr>\n",
       "    <tr>\n",
       "      <th>66764</th>\n",
       "      <td>总经理/CEO</td>\n",
       "      <td>n</td>\n",
       "      <td>福建特家商业管理有限公司</td>\n",
       "      <td>广州</td>\n",
       "      <td>30000.00</td>\n",
       "      <td>50000.0</td>\n",
       "    </tr>\n",
       "    <tr>\n",
       "      <th>66765</th>\n",
       "      <td>会员商城运营管理师</td>\n",
       "      <td>n</td>\n",
       "      <td>统一企业（中国）投资有限公司</td>\n",
       "      <td>上海</td>\n",
       "      <td>8000.00</td>\n",
       "      <td>16000.0</td>\n",
       "    </tr>\n",
       "  </tbody>\n",
       "</table>\n",
       "<p>66766 rows × 6 columns</p>\n",
       "</div>"
      ],
      "text/plain": [
       "                       job data_engineer              company city  \\\n",
       "0               金融数据分析师/助理             y  华壹信融投资管理（北京）有限责任...   北京   \n",
       "1      a（0经验可培养）金融数据分析师/助理             y         深圳市中创荣投资有限公司   深圳   \n",
       "2            初级运营数据分析专员 助理             y       知才（上海）信息技术有限公司   上海   \n",
       "3                   销售数据分析             y      上海品星互联网信息技术有限公司   北京   \n",
       "4                   数据分析经理             y                  美菜网   上海   \n",
       "...                    ...           ...                  ...  ...   \n",
       "66761                运营支持岗             n        九州通医药集团物流有限公司   武汉   \n",
       "66762              新媒体运营专员             n  深圳市摩天之星企业管理有限公司龙...   深圳   \n",
       "66763               电商运营总监             n         福建特家商业管理有限公司   广州   \n",
       "66764              总经理/CEO             n         福建特家商业管理有限公司   广州   \n",
       "66765            会员商城运营管理师             n       统一企业（中国）投资有限公司   上海   \n",
       "\n",
       "       salary_min  salary_max  \n",
       "0         8333.33     12500.0  \n",
       "1         8000.00     10000.0  \n",
       "2         6000.00      8000.0  \n",
       "3         5000.00      9000.0  \n",
       "4        13000.00     17000.0  \n",
       "...           ...         ...  \n",
       "66761     3000.00      5000.0  \n",
       "66762     8000.00     10000.0  \n",
       "66763    20000.00     30000.0  \n",
       "66764    30000.00     50000.0  \n",
       "66765     8000.00     16000.0  \n",
       "\n",
       "[66766 rows x 6 columns]"
      ]
     },
     "execution_count": 112,
     "metadata": {},
     "output_type": "execute_result"
    }
   ],
   "source": [
    "# insert函数至少需要传入3个参数：\n",
    "# 第一个参数表示插入列的具体位置\n",
    "# 第二参数表示插入列的列名\n",
    "# 第三个参数表示插入列的赋值\n",
    "jobs.insert(1, \"data_engineer\", jobs[\"job\"].apply(lambda x: \"y\" if \"数据分析\" in x else \"n\"))\n",
    "jobs"
   ]
  },
  {
   "cell_type": "markdown",
   "metadata": {},
   "source": [
    "##### 对列重新排序"
   ]
  },
  {
   "cell_type": "raw",
   "metadata": {},
   "source": [
    "对于小数据集，我们比较容易实现列顺序的自定义排序，比如这里我希望把city字段放到最后面去"
   ]
  },
  {
   "cell_type": "code",
   "execution_count": 113,
   "metadata": {},
   "outputs": [
    {
     "data": {
      "text/html": [
       "<div>\n",
       "<style scoped>\n",
       "    .dataframe tbody tr th:only-of-type {\n",
       "        vertical-align: middle;\n",
       "    }\n",
       "\n",
       "    .dataframe tbody tr th {\n",
       "        vertical-align: top;\n",
       "    }\n",
       "\n",
       "    .dataframe thead th {\n",
       "        text-align: right;\n",
       "    }\n",
       "</style>\n",
       "<table border=\"1\" class=\"dataframe\">\n",
       "  <thead>\n",
       "    <tr style=\"text-align: right;\">\n",
       "      <th></th>\n",
       "      <th>job</th>\n",
       "      <th>data_engineer</th>\n",
       "      <th>company</th>\n",
       "      <th>salary_min</th>\n",
       "      <th>salary_max</th>\n",
       "      <th>city</th>\n",
       "    </tr>\n",
       "  </thead>\n",
       "  <tbody>\n",
       "    <tr>\n",
       "      <th>0</th>\n",
       "      <td>金融数据分析师/助理</td>\n",
       "      <td>y</td>\n",
       "      <td>华壹信融投资管理（北京）有限责任...</td>\n",
       "      <td>8333.33</td>\n",
       "      <td>12500.0</td>\n",
       "      <td>北京</td>\n",
       "    </tr>\n",
       "    <tr>\n",
       "      <th>1</th>\n",
       "      <td>a（0经验可培养）金融数据分析师/助理</td>\n",
       "      <td>y</td>\n",
       "      <td>深圳市中创荣投资有限公司</td>\n",
       "      <td>8000.00</td>\n",
       "      <td>10000.0</td>\n",
       "      <td>深圳</td>\n",
       "    </tr>\n",
       "    <tr>\n",
       "      <th>2</th>\n",
       "      <td>初级运营数据分析专员 助理</td>\n",
       "      <td>y</td>\n",
       "      <td>知才（上海）信息技术有限公司</td>\n",
       "      <td>6000.00</td>\n",
       "      <td>8000.0</td>\n",
       "      <td>上海</td>\n",
       "    </tr>\n",
       "    <tr>\n",
       "      <th>3</th>\n",
       "      <td>销售数据分析</td>\n",
       "      <td>y</td>\n",
       "      <td>上海品星互联网信息技术有限公司</td>\n",
       "      <td>5000.00</td>\n",
       "      <td>9000.0</td>\n",
       "      <td>北京</td>\n",
       "    </tr>\n",
       "    <tr>\n",
       "      <th>4</th>\n",
       "      <td>数据分析经理</td>\n",
       "      <td>y</td>\n",
       "      <td>美菜网</td>\n",
       "      <td>13000.00</td>\n",
       "      <td>17000.0</td>\n",
       "      <td>上海</td>\n",
       "    </tr>\n",
       "    <tr>\n",
       "      <th>...</th>\n",
       "      <td>...</td>\n",
       "      <td>...</td>\n",
       "      <td>...</td>\n",
       "      <td>...</td>\n",
       "      <td>...</td>\n",
       "      <td>...</td>\n",
       "    </tr>\n",
       "    <tr>\n",
       "      <th>66761</th>\n",
       "      <td>运营支持岗</td>\n",
       "      <td>n</td>\n",
       "      <td>九州通医药集团物流有限公司</td>\n",
       "      <td>3000.00</td>\n",
       "      <td>5000.0</td>\n",
       "      <td>武汉</td>\n",
       "    </tr>\n",
       "    <tr>\n",
       "      <th>66762</th>\n",
       "      <td>新媒体运营专员</td>\n",
       "      <td>n</td>\n",
       "      <td>深圳市摩天之星企业管理有限公司龙...</td>\n",
       "      <td>8000.00</td>\n",
       "      <td>10000.0</td>\n",
       "      <td>深圳</td>\n",
       "    </tr>\n",
       "    <tr>\n",
       "      <th>66763</th>\n",
       "      <td>电商运营总监</td>\n",
       "      <td>n</td>\n",
       "      <td>福建特家商业管理有限公司</td>\n",
       "      <td>20000.00</td>\n",
       "      <td>30000.0</td>\n",
       "      <td>广州</td>\n",
       "    </tr>\n",
       "    <tr>\n",
       "      <th>66764</th>\n",
       "      <td>总经理/CEO</td>\n",
       "      <td>n</td>\n",
       "      <td>福建特家商业管理有限公司</td>\n",
       "      <td>30000.00</td>\n",
       "      <td>50000.0</td>\n",
       "      <td>广州</td>\n",
       "    </tr>\n",
       "    <tr>\n",
       "      <th>66765</th>\n",
       "      <td>会员商城运营管理师</td>\n",
       "      <td>n</td>\n",
       "      <td>统一企业（中国）投资有限公司</td>\n",
       "      <td>8000.00</td>\n",
       "      <td>16000.0</td>\n",
       "      <td>上海</td>\n",
       "    </tr>\n",
       "  </tbody>\n",
       "</table>\n",
       "<p>66766 rows × 6 columns</p>\n",
       "</div>"
      ],
      "text/plain": [
       "                       job data_engineer              company  salary_min  \\\n",
       "0               金融数据分析师/助理             y  华壹信融投资管理（北京）有限责任...     8333.33   \n",
       "1      a（0经验可培养）金融数据分析师/助理             y         深圳市中创荣投资有限公司     8000.00   \n",
       "2            初级运营数据分析专员 助理             y       知才（上海）信息技术有限公司     6000.00   \n",
       "3                   销售数据分析             y      上海品星互联网信息技术有限公司     5000.00   \n",
       "4                   数据分析经理             y                  美菜网    13000.00   \n",
       "...                    ...           ...                  ...         ...   \n",
       "66761                运营支持岗             n        九州通医药集团物流有限公司     3000.00   \n",
       "66762              新媒体运营专员             n  深圳市摩天之星企业管理有限公司龙...     8000.00   \n",
       "66763               电商运营总监             n         福建特家商业管理有限公司    20000.00   \n",
       "66764              总经理/CEO             n         福建特家商业管理有限公司    30000.00   \n",
       "66765            会员商城运营管理师             n       统一企业（中国）投资有限公司     8000.00   \n",
       "\n",
       "       salary_max city  \n",
       "0         12500.0   北京  \n",
       "1         10000.0   深圳  \n",
       "2          8000.0   上海  \n",
       "3          9000.0   北京  \n",
       "4         17000.0   上海  \n",
       "...           ...  ...  \n",
       "66761      5000.0   武汉  \n",
       "66762     10000.0   深圳  \n",
       "66763     30000.0   广州  \n",
       "66764     50000.0   广州  \n",
       "66765     16000.0   上海  \n",
       "\n",
       "[66766 rows x 6 columns]"
      ]
     },
     "execution_count": 113,
     "metadata": {},
     "output_type": "execute_result"
    }
   ],
   "source": [
    "# 这里通过重新设置列索引的方式间接实现了排序\n",
    "jobs.reindex(columns = ['job', 'data_engineer', 'company', 'salary_min', 'salary_max', 'city'])"
   ]
  },
  {
   "cell_type": "markdown",
   "metadata": {},
   "source": [
    "##### 删除单列"
   ]
  },
  {
   "cell_type": "raw",
   "metadata": {},
   "source": [
    "单列删除则较为简单，利用del函数即可。例如这里我们删除上面刚刚生成的data_engineer字段：\n",
    "\n",
    "del函数没有返回值，也就是说删除的效果在源数据上即可生效"
   ]
  },
  {
   "cell_type": "code",
   "execution_count": 114,
   "metadata": {},
   "outputs": [],
   "source": [
    "del jobs[\"data_engineer\"]"
   ]
  },
  {
   "cell_type": "code",
   "execution_count": 115,
   "metadata": {},
   "outputs": [
    {
     "data": {
      "text/html": [
       "<div>\n",
       "<style scoped>\n",
       "    .dataframe tbody tr th:only-of-type {\n",
       "        vertical-align: middle;\n",
       "    }\n",
       "\n",
       "    .dataframe tbody tr th {\n",
       "        vertical-align: top;\n",
       "    }\n",
       "\n",
       "    .dataframe thead th {\n",
       "        text-align: right;\n",
       "    }\n",
       "</style>\n",
       "<table border=\"1\" class=\"dataframe\">\n",
       "  <thead>\n",
       "    <tr style=\"text-align: right;\">\n",
       "      <th></th>\n",
       "      <th>job</th>\n",
       "      <th>company</th>\n",
       "      <th>city</th>\n",
       "      <th>salary_min</th>\n",
       "      <th>salary_max</th>\n",
       "    </tr>\n",
       "  </thead>\n",
       "  <tbody>\n",
       "    <tr>\n",
       "      <th>0</th>\n",
       "      <td>金融数据分析师/助理</td>\n",
       "      <td>华壹信融投资管理（北京）有限责任...</td>\n",
       "      <td>北京</td>\n",
       "      <td>8333.33</td>\n",
       "      <td>12500.0</td>\n",
       "    </tr>\n",
       "    <tr>\n",
       "      <th>1</th>\n",
       "      <td>a（0经验可培养）金融数据分析师/助理</td>\n",
       "      <td>深圳市中创荣投资有限公司</td>\n",
       "      <td>深圳</td>\n",
       "      <td>8000.00</td>\n",
       "      <td>10000.0</td>\n",
       "    </tr>\n",
       "    <tr>\n",
       "      <th>2</th>\n",
       "      <td>初级运营数据分析专员 助理</td>\n",
       "      <td>知才（上海）信息技术有限公司</td>\n",
       "      <td>上海</td>\n",
       "      <td>6000.00</td>\n",
       "      <td>8000.0</td>\n",
       "    </tr>\n",
       "    <tr>\n",
       "      <th>3</th>\n",
       "      <td>销售数据分析</td>\n",
       "      <td>上海品星互联网信息技术有限公司</td>\n",
       "      <td>北京</td>\n",
       "      <td>5000.00</td>\n",
       "      <td>9000.0</td>\n",
       "    </tr>\n",
       "    <tr>\n",
       "      <th>4</th>\n",
       "      <td>数据分析经理</td>\n",
       "      <td>美菜网</td>\n",
       "      <td>上海</td>\n",
       "      <td>13000.00</td>\n",
       "      <td>17000.0</td>\n",
       "    </tr>\n",
       "    <tr>\n",
       "      <th>...</th>\n",
       "      <td>...</td>\n",
       "      <td>...</td>\n",
       "      <td>...</td>\n",
       "      <td>...</td>\n",
       "      <td>...</td>\n",
       "    </tr>\n",
       "    <tr>\n",
       "      <th>66761</th>\n",
       "      <td>运营支持岗</td>\n",
       "      <td>九州通医药集团物流有限公司</td>\n",
       "      <td>武汉</td>\n",
       "      <td>3000.00</td>\n",
       "      <td>5000.0</td>\n",
       "    </tr>\n",
       "    <tr>\n",
       "      <th>66762</th>\n",
       "      <td>新媒体运营专员</td>\n",
       "      <td>深圳市摩天之星企业管理有限公司龙...</td>\n",
       "      <td>深圳</td>\n",
       "      <td>8000.00</td>\n",
       "      <td>10000.0</td>\n",
       "    </tr>\n",
       "    <tr>\n",
       "      <th>66763</th>\n",
       "      <td>电商运营总监</td>\n",
       "      <td>福建特家商业管理有限公司</td>\n",
       "      <td>广州</td>\n",
       "      <td>20000.00</td>\n",
       "      <td>30000.0</td>\n",
       "    </tr>\n",
       "    <tr>\n",
       "      <th>66764</th>\n",
       "      <td>总经理/CEO</td>\n",
       "      <td>福建特家商业管理有限公司</td>\n",
       "      <td>广州</td>\n",
       "      <td>30000.00</td>\n",
       "      <td>50000.0</td>\n",
       "    </tr>\n",
       "    <tr>\n",
       "      <th>66765</th>\n",
       "      <td>会员商城运营管理师</td>\n",
       "      <td>统一企业（中国）投资有限公司</td>\n",
       "      <td>上海</td>\n",
       "      <td>8000.00</td>\n",
       "      <td>16000.0</td>\n",
       "    </tr>\n",
       "  </tbody>\n",
       "</table>\n",
       "<p>66766 rows × 5 columns</p>\n",
       "</div>"
      ],
      "text/plain": [
       "                       job              company city  salary_min  salary_max\n",
       "0               金融数据分析师/助理  华壹信融投资管理（北京）有限责任...   北京     8333.33     12500.0\n",
       "1      a（0经验可培养）金融数据分析师/助理         深圳市中创荣投资有限公司   深圳     8000.00     10000.0\n",
       "2            初级运营数据分析专员 助理       知才（上海）信息技术有限公司   上海     6000.00      8000.0\n",
       "3                   销售数据分析      上海品星互联网信息技术有限公司   北京     5000.00      9000.0\n",
       "4                   数据分析经理                  美菜网   上海    13000.00     17000.0\n",
       "...                    ...                  ...  ...         ...         ...\n",
       "66761                运营支持岗        九州通医药集团物流有限公司   武汉     3000.00      5000.0\n",
       "66762              新媒体运营专员  深圳市摩天之星企业管理有限公司龙...   深圳     8000.00     10000.0\n",
       "66763               电商运营总监         福建特家商业管理有限公司   广州    20000.00     30000.0\n",
       "66764              总经理/CEO         福建特家商业管理有限公司   广州    30000.00     50000.0\n",
       "66765            会员商城运营管理师       统一企业（中国）投资有限公司   上海     8000.00     16000.0\n",
       "\n",
       "[66766 rows x 5 columns]"
      ]
     },
     "execution_count": 115,
     "metadata": {},
     "output_type": "execute_result"
    }
   ],
   "source": [
    "jobs"
   ]
  },
  {
   "cell_type": "markdown",
   "metadata": {},
   "source": [
    "##### 删除多列"
   ]
  },
  {
   "cell_type": "raw",
   "metadata": {},
   "source": [
    "如果是多列的情况呢，通过drop函数即可。\n",
    "\n",
    "drop函数是通过索引名称，删除数据集的行或列。该函数通过axis来指定删除的方向（即axis=0表示垂直方向的运算，为删除行；axis=1表示水平方向的运算，为删除列）。通过inplace参数来设置是是否直接操作源数据集。"
   ]
  },
  {
   "cell_type": "code",
   "execution_count": 116,
   "metadata": {},
   "outputs": [
    {
     "data": {
      "text/html": [
       "<div>\n",
       "<style scoped>\n",
       "    .dataframe tbody tr th:only-of-type {\n",
       "        vertical-align: middle;\n",
       "    }\n",
       "\n",
       "    .dataframe tbody tr th {\n",
       "        vertical-align: top;\n",
       "    }\n",
       "\n",
       "    .dataframe thead th {\n",
       "        text-align: right;\n",
       "    }\n",
       "</style>\n",
       "<table border=\"1\" class=\"dataframe\">\n",
       "  <thead>\n",
       "    <tr style=\"text-align: right;\">\n",
       "      <th></th>\n",
       "      <th>job</th>\n",
       "      <th>company</th>\n",
       "      <th>city</th>\n",
       "      <th>salary_min</th>\n",
       "      <th>salary_max</th>\n",
       "    </tr>\n",
       "  </thead>\n",
       "  <tbody>\n",
       "    <tr>\n",
       "      <th>2</th>\n",
       "      <td>初级运营数据分析专员 助理</td>\n",
       "      <td>知才（上海）信息技术有限公司</td>\n",
       "      <td>上海</td>\n",
       "      <td>6000.0</td>\n",
       "      <td>8000.0</td>\n",
       "    </tr>\n",
       "    <tr>\n",
       "      <th>3</th>\n",
       "      <td>销售数据分析</td>\n",
       "      <td>上海品星互联网信息技术有限公司</td>\n",
       "      <td>北京</td>\n",
       "      <td>5000.0</td>\n",
       "      <td>9000.0</td>\n",
       "    </tr>\n",
       "    <tr>\n",
       "      <th>4</th>\n",
       "      <td>数据分析经理</td>\n",
       "      <td>美菜网</td>\n",
       "      <td>上海</td>\n",
       "      <td>13000.0</td>\n",
       "      <td>17000.0</td>\n",
       "    </tr>\n",
       "    <tr>\n",
       "      <th>5</th>\n",
       "      <td>金融大数据分析实习</td>\n",
       "      <td>湖北浩玥智能科教设备有限公司</td>\n",
       "      <td>武汉</td>\n",
       "      <td>3200.0</td>\n",
       "      <td>5000.0</td>\n",
       "    </tr>\n",
       "    <tr>\n",
       "      <th>6</th>\n",
       "      <td>数据分析员</td>\n",
       "      <td>广州德伦医疗投资有限公司</td>\n",
       "      <td>广州</td>\n",
       "      <td>4000.0</td>\n",
       "      <td>6000.0</td>\n",
       "    </tr>\n",
       "    <tr>\n",
       "      <th>...</th>\n",
       "      <td>...</td>\n",
       "      <td>...</td>\n",
       "      <td>...</td>\n",
       "      <td>...</td>\n",
       "      <td>...</td>\n",
       "    </tr>\n",
       "    <tr>\n",
       "      <th>66761</th>\n",
       "      <td>运营支持岗</td>\n",
       "      <td>九州通医药集团物流有限公司</td>\n",
       "      <td>武汉</td>\n",
       "      <td>3000.0</td>\n",
       "      <td>5000.0</td>\n",
       "    </tr>\n",
       "    <tr>\n",
       "      <th>66762</th>\n",
       "      <td>新媒体运营专员</td>\n",
       "      <td>深圳市摩天之星企业管理有限公司龙...</td>\n",
       "      <td>深圳</td>\n",
       "      <td>8000.0</td>\n",
       "      <td>10000.0</td>\n",
       "    </tr>\n",
       "    <tr>\n",
       "      <th>66763</th>\n",
       "      <td>电商运营总监</td>\n",
       "      <td>福建特家商业管理有限公司</td>\n",
       "      <td>广州</td>\n",
       "      <td>20000.0</td>\n",
       "      <td>30000.0</td>\n",
       "    </tr>\n",
       "    <tr>\n",
       "      <th>66764</th>\n",
       "      <td>总经理/CEO</td>\n",
       "      <td>福建特家商业管理有限公司</td>\n",
       "      <td>广州</td>\n",
       "      <td>30000.0</td>\n",
       "      <td>50000.0</td>\n",
       "    </tr>\n",
       "    <tr>\n",
       "      <th>66765</th>\n",
       "      <td>会员商城运营管理师</td>\n",
       "      <td>统一企业（中国）投资有限公司</td>\n",
       "      <td>上海</td>\n",
       "      <td>8000.0</td>\n",
       "      <td>16000.0</td>\n",
       "    </tr>\n",
       "  </tbody>\n",
       "</table>\n",
       "<p>66764 rows × 5 columns</p>\n",
       "</div>"
      ],
      "text/plain": [
       "                 job              company city  salary_min  salary_max\n",
       "2      初级运营数据分析专员 助理       知才（上海）信息技术有限公司   上海      6000.0      8000.0\n",
       "3             销售数据分析      上海品星互联网信息技术有限公司   北京      5000.0      9000.0\n",
       "4             数据分析经理                  美菜网   上海     13000.0     17000.0\n",
       "5          金融大数据分析实习       湖北浩玥智能科教设备有限公司   武汉      3200.0      5000.0\n",
       "6              数据分析员         广州德伦医疗投资有限公司   广州      4000.0      6000.0\n",
       "...              ...                  ...  ...         ...         ...\n",
       "66761          运营支持岗        九州通医药集团物流有限公司   武汉      3000.0      5000.0\n",
       "66762        新媒体运营专员  深圳市摩天之星企业管理有限公司龙...   深圳      8000.0     10000.0\n",
       "66763         电商运营总监         福建特家商业管理有限公司   广州     20000.0     30000.0\n",
       "66764        总经理/CEO         福建特家商业管理有限公司   广州     30000.0     50000.0\n",
       "66765      会员商城运营管理师       统一企业（中国）投资有限公司   上海      8000.0     16000.0\n",
       "\n",
       "[66764 rows x 5 columns]"
      ]
     },
     "execution_count": 116,
     "metadata": {},
     "output_type": "execute_result"
    }
   ],
   "source": [
    "# 这里用axis=1表示删除列\n",
    "# inplace默认为False\n",
    "jobs.drop([0, 1], axis=0)"
   ]
  },
  {
   "cell_type": "markdown",
   "metadata": {},
   "source": [
    "#### 排序"
   ]
  },
  {
   "cell_type": "raw",
   "metadata": {},
   "source": [
    "在Pandas中，排序分为对值的排序和对索引的排序，其中每个排序又可以根据具体的场景，可以\n",
    "分为行方向排序和列方向排序。"
   ]
  },
  {
   "cell_type": "markdown",
   "metadata": {},
   "source": [
    "##### 对索引的排序"
   ]
  },
  {
   "cell_type": "raw",
   "metadata": {},
   "source": [
    "索引排序的原型函数如下：\n",
    "\n",
    "DataFrame.sort_index(axis=0, ascending=True, inplace=False, kind='quicksort')\n",
    "\n",
    "对于sort_index()索引排序函数，常用的参数为：\n",
    "\n",
    "axis=0，表示排序方向为竖直方向，即对行索引进行排序；反之则为列索引排序；\n",
    "\n",
    "ascending表示是否升序排列，默认为True；\n",
    "\n",
    "inplace表示是否在源数据上进行修改。"
   ]
  },
  {
   "cell_type": "code",
   "execution_count": 117,
   "metadata": {},
   "outputs": [
    {
     "data": {
      "text/html": [
       "<div>\n",
       "<style scoped>\n",
       "    .dataframe tbody tr th:only-of-type {\n",
       "        vertical-align: middle;\n",
       "    }\n",
       "\n",
       "    .dataframe tbody tr th {\n",
       "        vertical-align: top;\n",
       "    }\n",
       "\n",
       "    .dataframe thead th {\n",
       "        text-align: right;\n",
       "    }\n",
       "</style>\n",
       "<table border=\"1\" class=\"dataframe\">\n",
       "  <thead>\n",
       "    <tr style=\"text-align: right;\">\n",
       "      <th></th>\n",
       "      <th>job</th>\n",
       "      <th>company</th>\n",
       "      <th>city</th>\n",
       "      <th>salary_min</th>\n",
       "      <th>salary_max</th>\n",
       "    </tr>\n",
       "  </thead>\n",
       "  <tbody>\n",
       "    <tr>\n",
       "      <th>0</th>\n",
       "      <td>金融数据分析师/助理</td>\n",
       "      <td>华壹信融投资管理（北京）有限责任...</td>\n",
       "      <td>北京</td>\n",
       "      <td>8333.33</td>\n",
       "      <td>12500.0</td>\n",
       "    </tr>\n",
       "    <tr>\n",
       "      <th>1</th>\n",
       "      <td>a（0经验可培养）金融数据分析师/助理</td>\n",
       "      <td>深圳市中创荣投资有限公司</td>\n",
       "      <td>深圳</td>\n",
       "      <td>8000.00</td>\n",
       "      <td>10000.0</td>\n",
       "    </tr>\n",
       "    <tr>\n",
       "      <th>2</th>\n",
       "      <td>初级运营数据分析专员 助理</td>\n",
       "      <td>知才（上海）信息技术有限公司</td>\n",
       "      <td>上海</td>\n",
       "      <td>6000.00</td>\n",
       "      <td>8000.0</td>\n",
       "    </tr>\n",
       "    <tr>\n",
       "      <th>3</th>\n",
       "      <td>销售数据分析</td>\n",
       "      <td>上海品星互联网信息技术有限公司</td>\n",
       "      <td>北京</td>\n",
       "      <td>5000.00</td>\n",
       "      <td>9000.0</td>\n",
       "    </tr>\n",
       "    <tr>\n",
       "      <th>4</th>\n",
       "      <td>数据分析经理</td>\n",
       "      <td>美菜网</td>\n",
       "      <td>上海</td>\n",
       "      <td>13000.00</td>\n",
       "      <td>17000.0</td>\n",
       "    </tr>\n",
       "    <tr>\n",
       "      <th>...</th>\n",
       "      <td>...</td>\n",
       "      <td>...</td>\n",
       "      <td>...</td>\n",
       "      <td>...</td>\n",
       "      <td>...</td>\n",
       "    </tr>\n",
       "    <tr>\n",
       "      <th>66761</th>\n",
       "      <td>运营支持岗</td>\n",
       "      <td>九州通医药集团物流有限公司</td>\n",
       "      <td>武汉</td>\n",
       "      <td>3000.00</td>\n",
       "      <td>5000.0</td>\n",
       "    </tr>\n",
       "    <tr>\n",
       "      <th>66762</th>\n",
       "      <td>新媒体运营专员</td>\n",
       "      <td>深圳市摩天之星企业管理有限公司龙...</td>\n",
       "      <td>深圳</td>\n",
       "      <td>8000.00</td>\n",
       "      <td>10000.0</td>\n",
       "    </tr>\n",
       "    <tr>\n",
       "      <th>66763</th>\n",
       "      <td>电商运营总监</td>\n",
       "      <td>福建特家商业管理有限公司</td>\n",
       "      <td>广州</td>\n",
       "      <td>20000.00</td>\n",
       "      <td>30000.0</td>\n",
       "    </tr>\n",
       "    <tr>\n",
       "      <th>66764</th>\n",
       "      <td>总经理/CEO</td>\n",
       "      <td>福建特家商业管理有限公司</td>\n",
       "      <td>广州</td>\n",
       "      <td>30000.00</td>\n",
       "      <td>50000.0</td>\n",
       "    </tr>\n",
       "    <tr>\n",
       "      <th>66765</th>\n",
       "      <td>会员商城运营管理师</td>\n",
       "      <td>统一企业（中国）投资有限公司</td>\n",
       "      <td>上海</td>\n",
       "      <td>8000.00</td>\n",
       "      <td>16000.0</td>\n",
       "    </tr>\n",
       "  </tbody>\n",
       "</table>\n",
       "<p>66766 rows × 5 columns</p>\n",
       "</div>"
      ],
      "text/plain": [
       "                       job              company city  salary_min  salary_max\n",
       "0               金融数据分析师/助理  华壹信融投资管理（北京）有限责任...   北京     8333.33     12500.0\n",
       "1      a（0经验可培养）金融数据分析师/助理         深圳市中创荣投资有限公司   深圳     8000.00     10000.0\n",
       "2            初级运营数据分析专员 助理       知才（上海）信息技术有限公司   上海     6000.00      8000.0\n",
       "3                   销售数据分析      上海品星互联网信息技术有限公司   北京     5000.00      9000.0\n",
       "4                   数据分析经理                  美菜网   上海    13000.00     17000.0\n",
       "...                    ...                  ...  ...         ...         ...\n",
       "66761                运营支持岗        九州通医药集团物流有限公司   武汉     3000.00      5000.0\n",
       "66762              新媒体运营专员  深圳市摩天之星企业管理有限公司龙...   深圳     8000.00     10000.0\n",
       "66763               电商运营总监         福建特家商业管理有限公司   广州    20000.00     30000.0\n",
       "66764              总经理/CEO         福建特家商业管理有限公司   广州    30000.00     50000.0\n",
       "66765            会员商城运营管理师       统一企业（中国）投资有限公司   上海     8000.00     16000.0\n",
       "\n",
       "[66766 rows x 5 columns]"
      ]
     },
     "execution_count": 117,
     "metadata": {},
     "output_type": "execute_result"
    }
   ],
   "source": [
    "jobs.sort_index(axis=0, ascending=True)"
   ]
  },
  {
   "cell_type": "markdown",
   "metadata": {},
   "source": [
    "##### 对值的排序"
   ]
  },
  {
   "cell_type": "raw",
   "metadata": {},
   "source": [
    "对值排序的原型函数如下：\n",
    "\n",
    "DataFrame.sort_values(by, axis=0, ascending=True, inplace=False, kind='quicksort', na_position='last')\n",
    "\n",
    "by字段，字符串或者列表类型，表示排序依据的字段名；\n",
    "\n",
    "ascending，布尔型或布尔类型的列表，长度和by字段保持一致。例如[True,False]，即第一字段升序，第二字段降序 ；\n",
    "\n",
    "na_position : first或last，默认last，即缺失值排在最后面；\n",
    "\n",
    "其他字段和sort_index()保持一致。这里我们希望按照city字段升序，company字段降序排列，如下："
   ]
  },
  {
   "cell_type": "code",
   "execution_count": 118,
   "metadata": {},
   "outputs": [
    {
     "data": {
      "text/html": [
       "<div>\n",
       "<style scoped>\n",
       "    .dataframe tbody tr th:only-of-type {\n",
       "        vertical-align: middle;\n",
       "    }\n",
       "\n",
       "    .dataframe tbody tr th {\n",
       "        vertical-align: top;\n",
       "    }\n",
       "\n",
       "    .dataframe thead th {\n",
       "        text-align: right;\n",
       "    }\n",
       "</style>\n",
       "<table border=\"1\" class=\"dataframe\">\n",
       "  <thead>\n",
       "    <tr style=\"text-align: right;\">\n",
       "      <th></th>\n",
       "      <th>job</th>\n",
       "      <th>company</th>\n",
       "      <th>city</th>\n",
       "      <th>salary_min</th>\n",
       "      <th>salary_max</th>\n",
       "    </tr>\n",
       "  </thead>\n",
       "  <tbody>\n",
       "    <tr>\n",
       "      <th>859</th>\n",
       "      <td>数据分析师</td>\n",
       "      <td>（CCE GROUP）上海程迈文化传播有...</td>\n",
       "      <td>上海</td>\n",
       "      <td>15000.0</td>\n",
       "      <td>20000.0</td>\n",
       "    </tr>\n",
       "    <tr>\n",
       "      <th>50689</th>\n",
       "      <td>资深媒介专员</td>\n",
       "      <td>（CCE GROUP）上海程迈文化传播有...</td>\n",
       "      <td>上海</td>\n",
       "      <td>6000.0</td>\n",
       "      <td>8000.0</td>\n",
       "    </tr>\n",
       "    <tr>\n",
       "      <th>23092</th>\n",
       "      <td>产品运营经理（教育行业）</td>\n",
       "      <td>龙的股份</td>\n",
       "      <td>上海</td>\n",
       "      <td>5000.0</td>\n",
       "      <td>8000.0</td>\n",
       "    </tr>\n",
       "    <tr>\n",
       "      <th>4113</th>\n",
       "      <td>教务助理/教务人员</td>\n",
       "      <td>鼓动商贸（上海）有限公司</td>\n",
       "      <td>上海</td>\n",
       "      <td>4000.0</td>\n",
       "      <td>7000.0</td>\n",
       "    </tr>\n",
       "    <tr>\n",
       "      <th>27576</th>\n",
       "      <td>教务专员</td>\n",
       "      <td>鼓动商贸（上海）有限公司</td>\n",
       "      <td>上海</td>\n",
       "      <td>5000.0</td>\n",
       "      <td>6500.0</td>\n",
       "    </tr>\n",
       "    <tr>\n",
       "      <th>...</th>\n",
       "      <td>...</td>\n",
       "      <td>...</td>\n",
       "      <td>...</td>\n",
       "      <td>...</td>\n",
       "      <td>...</td>\n",
       "    </tr>\n",
       "    <tr>\n",
       "      <th>39420</th>\n",
       "      <td>商品经理</td>\n",
       "      <td>ABC童装童鞋</td>\n",
       "      <td>西安</td>\n",
       "      <td>6000.0</td>\n",
       "      <td>8000.0</td>\n",
       "    </tr>\n",
       "    <tr>\n",
       "      <th>39717</th>\n",
       "      <td>急聘商品专员</td>\n",
       "      <td>ABC童装童鞋</td>\n",
       "      <td>西安</td>\n",
       "      <td>4000.0</td>\n",
       "      <td>6000.0</td>\n",
       "    </tr>\n",
       "    <tr>\n",
       "      <th>39719</th>\n",
       "      <td>商品主管</td>\n",
       "      <td>ABC童装童鞋</td>\n",
       "      <td>西安</td>\n",
       "      <td>4000.0</td>\n",
       "      <td>8000.0</td>\n",
       "    </tr>\n",
       "    <tr>\n",
       "      <th>41307</th>\n",
       "      <td>直营商品专员</td>\n",
       "      <td>ABC童装童鞋</td>\n",
       "      <td>西安</td>\n",
       "      <td>4000.0</td>\n",
       "      <td>6000.0</td>\n",
       "    </tr>\n",
       "    <tr>\n",
       "      <th>41308</th>\n",
       "      <td>ABC诚聘商品专员</td>\n",
       "      <td>ABC童装童鞋</td>\n",
       "      <td>西安</td>\n",
       "      <td>4000.0</td>\n",
       "      <td>6000.0</td>\n",
       "    </tr>\n",
       "  </tbody>\n",
       "</table>\n",
       "<p>66766 rows × 5 columns</p>\n",
       "</div>"
      ],
      "text/plain": [
       "                job                  company city  salary_min  salary_max\n",
       "859           数据分析师  （CCE GROUP）上海程迈文化传播有...   上海     15000.0     20000.0\n",
       "50689        资深媒介专员  （CCE GROUP）上海程迈文化传播有...   上海      6000.0      8000.0\n",
       "23092  产品运营经理（教育行业）                     龙的股份   上海      5000.0      8000.0\n",
       "4113      教务助理/教务人员             鼓动商贸（上海）有限公司   上海      4000.0      7000.0\n",
       "27576          教务专员             鼓动商贸（上海）有限公司   上海      5000.0      6500.0\n",
       "...             ...                      ...  ...         ...         ...\n",
       "39420          商品经理                  ABC童装童鞋   西安      6000.0      8000.0\n",
       "39717        急聘商品专员                  ABC童装童鞋   西安      4000.0      6000.0\n",
       "39719          商品主管                  ABC童装童鞋   西安      4000.0      8000.0\n",
       "41307        直营商品专员                  ABC童装童鞋   西安      4000.0      6000.0\n",
       "41308     ABC诚聘商品专员                  ABC童装童鞋   西安      4000.0      6000.0\n",
       "\n",
       "[66766 rows x 5 columns]"
      ]
     },
     "execution_count": 118,
     "metadata": {},
     "output_type": "execute_result"
    }
   ],
   "source": [
    "jobs.sort_values(by=[\"city\",\"company\"],ascending=[True,False],axis=0)"
   ]
  },
  {
   "cell_type": "markdown",
   "metadata": {},
   "source": [
    "#### 删除重复项"
   ]
  },
  {
   "cell_type": "raw",
   "metadata": {},
   "source": [
    "DataFrame中存在重复的行或者某几列的值重复，这时候需要去掉重复行，去重的方法也非常简单，drop_duplicates ()可以轻松达到目的。其原型函数如下：\n",
    "\n",
    "DataFrame.drop_duplicates(subset=['A','B'],keep='first',inplace=True)\n",
    "\n",
    "subset用来指定特定的列，字符串或者列表类型；默认所有列，即默认全字段去重；\n",
    "keep字段： first或last，默认first，即 保留第一次出现的项 ；\n",
    "inplace字段同上。这里我们以job和company字段进行联合去重，即我们认为同一公司的同一职位只招聘一次："
   ]
  },
  {
   "cell_type": "code",
   "execution_count": 119,
   "metadata": {},
   "outputs": [
    {
     "data": {
      "text/html": [
       "<div>\n",
       "<style scoped>\n",
       "    .dataframe tbody tr th:only-of-type {\n",
       "        vertical-align: middle;\n",
       "    }\n",
       "\n",
       "    .dataframe tbody tr th {\n",
       "        vertical-align: top;\n",
       "    }\n",
       "\n",
       "    .dataframe thead th {\n",
       "        text-align: right;\n",
       "    }\n",
       "</style>\n",
       "<table border=\"1\" class=\"dataframe\">\n",
       "  <thead>\n",
       "    <tr style=\"text-align: right;\">\n",
       "      <th></th>\n",
       "      <th>job</th>\n",
       "      <th>company</th>\n",
       "      <th>city</th>\n",
       "      <th>salary_min</th>\n",
       "      <th>salary_max</th>\n",
       "    </tr>\n",
       "  </thead>\n",
       "  <tbody>\n",
       "    <tr>\n",
       "      <th>0</th>\n",
       "      <td>金融数据分析师/助理</td>\n",
       "      <td>华壹信融投资管理（北京）有限责任...</td>\n",
       "      <td>北京</td>\n",
       "      <td>8333.33</td>\n",
       "      <td>12500.0</td>\n",
       "    </tr>\n",
       "    <tr>\n",
       "      <th>1</th>\n",
       "      <td>a（0经验可培养）金融数据分析师/助理</td>\n",
       "      <td>深圳市中创荣投资有限公司</td>\n",
       "      <td>深圳</td>\n",
       "      <td>8000.00</td>\n",
       "      <td>10000.0</td>\n",
       "    </tr>\n",
       "    <tr>\n",
       "      <th>2</th>\n",
       "      <td>初级运营数据分析专员 助理</td>\n",
       "      <td>知才（上海）信息技术有限公司</td>\n",
       "      <td>上海</td>\n",
       "      <td>6000.00</td>\n",
       "      <td>8000.0</td>\n",
       "    </tr>\n",
       "    <tr>\n",
       "      <th>3</th>\n",
       "      <td>销售数据分析</td>\n",
       "      <td>上海品星互联网信息技术有限公司</td>\n",
       "      <td>北京</td>\n",
       "      <td>5000.00</td>\n",
       "      <td>9000.0</td>\n",
       "    </tr>\n",
       "    <tr>\n",
       "      <th>4</th>\n",
       "      <td>数据分析经理</td>\n",
       "      <td>美菜网</td>\n",
       "      <td>上海</td>\n",
       "      <td>13000.00</td>\n",
       "      <td>17000.0</td>\n",
       "    </tr>\n",
       "    <tr>\n",
       "      <th>...</th>\n",
       "      <td>...</td>\n",
       "      <td>...</td>\n",
       "      <td>...</td>\n",
       "      <td>...</td>\n",
       "      <td>...</td>\n",
       "    </tr>\n",
       "    <tr>\n",
       "      <th>66761</th>\n",
       "      <td>运营支持岗</td>\n",
       "      <td>九州通医药集团物流有限公司</td>\n",
       "      <td>武汉</td>\n",
       "      <td>3000.00</td>\n",
       "      <td>5000.0</td>\n",
       "    </tr>\n",
       "    <tr>\n",
       "      <th>66762</th>\n",
       "      <td>新媒体运营专员</td>\n",
       "      <td>深圳市摩天之星企业管理有限公司龙...</td>\n",
       "      <td>深圳</td>\n",
       "      <td>8000.00</td>\n",
       "      <td>10000.0</td>\n",
       "    </tr>\n",
       "    <tr>\n",
       "      <th>66763</th>\n",
       "      <td>电商运营总监</td>\n",
       "      <td>福建特家商业管理有限公司</td>\n",
       "      <td>广州</td>\n",
       "      <td>20000.00</td>\n",
       "      <td>30000.0</td>\n",
       "    </tr>\n",
       "    <tr>\n",
       "      <th>66764</th>\n",
       "      <td>总经理/CEO</td>\n",
       "      <td>福建特家商业管理有限公司</td>\n",
       "      <td>广州</td>\n",
       "      <td>30000.00</td>\n",
       "      <td>50000.0</td>\n",
       "    </tr>\n",
       "    <tr>\n",
       "      <th>66765</th>\n",
       "      <td>会员商城运营管理师</td>\n",
       "      <td>统一企业（中国）投资有限公司</td>\n",
       "      <td>上海</td>\n",
       "      <td>8000.00</td>\n",
       "      <td>16000.0</td>\n",
       "    </tr>\n",
       "  </tbody>\n",
       "</table>\n",
       "<p>66766 rows × 5 columns</p>\n",
       "</div>"
      ],
      "text/plain": [
       "                       job              company city  salary_min  salary_max\n",
       "0               金融数据分析师/助理  华壹信融投资管理（北京）有限责任...   北京     8333.33     12500.0\n",
       "1      a（0经验可培养）金融数据分析师/助理         深圳市中创荣投资有限公司   深圳     8000.00     10000.0\n",
       "2            初级运营数据分析专员 助理       知才（上海）信息技术有限公司   上海     6000.00      8000.0\n",
       "3                   销售数据分析      上海品星互联网信息技术有限公司   北京     5000.00      9000.0\n",
       "4                   数据分析经理                  美菜网   上海    13000.00     17000.0\n",
       "...                    ...                  ...  ...         ...         ...\n",
       "66761                运营支持岗        九州通医药集团物流有限公司   武汉     3000.00      5000.0\n",
       "66762              新媒体运营专员  深圳市摩天之星企业管理有限公司龙...   深圳     8000.00     10000.0\n",
       "66763               电商运营总监         福建特家商业管理有限公司   广州    20000.00     30000.0\n",
       "66764              总经理/CEO         福建特家商业管理有限公司   广州    30000.00     50000.0\n",
       "66765            会员商城运营管理师       统一企业（中国）投资有限公司   上海     8000.00     16000.0\n",
       "\n",
       "[66766 rows x 5 columns]"
      ]
     },
     "execution_count": 119,
     "metadata": {},
     "output_type": "execute_result"
    }
   ],
   "source": [
    "jobs.drop_duplicates(subset=[\"job\", \"company\"], keep='first')"
   ]
  },
  {
   "cell_type": "markdown",
   "metadata": {},
   "source": [
    "#### 异常点检测"
   ]
  },
  {
   "cell_type": "raw",
   "metadata": {},
   "source": [
    "对异常点，我们通常分为两种情况进行讨论。"
   ]
  },
  {
   "cell_type": "markdown",
   "metadata": {},
   "source": [
    "**value_counts()方法**"
   ]
  },
  {
   "cell_type": "raw",
   "metadata": {},
   "source": [
    "如果是类别型的变量，如果某种类型出现的频次太少、太稀有，远远低于平均水平，那么我们有理由相信该值是一种异常值，可以对其进行删除处理。利用本节的value_counts()方法可以轻松应付这类场景；"
   ]
  },
  {
   "cell_type": "markdown",
   "metadata": {},
   "source": [
    "**查看数据集的中位数（50%），80%位数，90%位数，99%位数，以及最大值，进行综合判断**"
   ]
  },
  {
   "cell_type": "raw",
   "metadata": {},
   "source": [
    "如果是区间型的变量呢，如果你的经验比较丰富，可以查看数据的分布情况，比如查看数据集的中位数（50%），80%位数，90%位数，99%位数，以及最大值，进行综合判断。"
   ]
  },
  {
   "cell_type": "code",
   "execution_count": 120,
   "metadata": {},
   "outputs": [
    {
     "data": {
      "text/html": [
       "<div>\n",
       "<style scoped>\n",
       "    .dataframe tbody tr th:only-of-type {\n",
       "        vertical-align: middle;\n",
       "    }\n",
       "\n",
       "    .dataframe tbody tr th {\n",
       "        vertical-align: top;\n",
       "    }\n",
       "\n",
       "    .dataframe thead th {\n",
       "        text-align: right;\n",
       "    }\n",
       "</style>\n",
       "<table border=\"1\" class=\"dataframe\">\n",
       "  <thead>\n",
       "    <tr style=\"text-align: right;\">\n",
       "      <th></th>\n",
       "      <th>job</th>\n",
       "      <th>company</th>\n",
       "      <th>city</th>\n",
       "      <th>salary_min</th>\n",
       "      <th>salary_max</th>\n",
       "    </tr>\n",
       "  </thead>\n",
       "  <tbody>\n",
       "    <tr>\n",
       "      <th>0</th>\n",
       "      <td>金融数据分析师/助理</td>\n",
       "      <td>华壹信融投资管理（北京）有限责任...</td>\n",
       "      <td>北京</td>\n",
       "      <td>8333.33</td>\n",
       "      <td>12500.0</td>\n",
       "    </tr>\n",
       "    <tr>\n",
       "      <th>1</th>\n",
       "      <td>a（0经验可培养）金融数据分析师/助理</td>\n",
       "      <td>深圳市中创荣投资有限公司</td>\n",
       "      <td>深圳</td>\n",
       "      <td>8000.00</td>\n",
       "      <td>10000.0</td>\n",
       "    </tr>\n",
       "    <tr>\n",
       "      <th>2</th>\n",
       "      <td>初级运营数据分析专员 助理</td>\n",
       "      <td>知才（上海）信息技术有限公司</td>\n",
       "      <td>上海</td>\n",
       "      <td>6000.00</td>\n",
       "      <td>8000.0</td>\n",
       "    </tr>\n",
       "    <tr>\n",
       "      <th>3</th>\n",
       "      <td>销售数据分析</td>\n",
       "      <td>上海品星互联网信息技术有限公司</td>\n",
       "      <td>北京</td>\n",
       "      <td>5000.00</td>\n",
       "      <td>9000.0</td>\n",
       "    </tr>\n",
       "    <tr>\n",
       "      <th>4</th>\n",
       "      <td>数据分析经理</td>\n",
       "      <td>美菜网</td>\n",
       "      <td>上海</td>\n",
       "      <td>13000.00</td>\n",
       "      <td>17000.0</td>\n",
       "    </tr>\n",
       "    <tr>\n",
       "      <th>...</th>\n",
       "      <td>...</td>\n",
       "      <td>...</td>\n",
       "      <td>...</td>\n",
       "      <td>...</td>\n",
       "      <td>...</td>\n",
       "    </tr>\n",
       "    <tr>\n",
       "      <th>66761</th>\n",
       "      <td>运营支持岗</td>\n",
       "      <td>九州通医药集团物流有限公司</td>\n",
       "      <td>武汉</td>\n",
       "      <td>3000.00</td>\n",
       "      <td>5000.0</td>\n",
       "    </tr>\n",
       "    <tr>\n",
       "      <th>66762</th>\n",
       "      <td>新媒体运营专员</td>\n",
       "      <td>深圳市摩天之星企业管理有限公司龙...</td>\n",
       "      <td>深圳</td>\n",
       "      <td>8000.00</td>\n",
       "      <td>10000.0</td>\n",
       "    </tr>\n",
       "    <tr>\n",
       "      <th>66763</th>\n",
       "      <td>电商运营总监</td>\n",
       "      <td>福建特家商业管理有限公司</td>\n",
       "      <td>广州</td>\n",
       "      <td>20000.00</td>\n",
       "      <td>30000.0</td>\n",
       "    </tr>\n",
       "    <tr>\n",
       "      <th>66764</th>\n",
       "      <td>总经理/CEO</td>\n",
       "      <td>福建特家商业管理有限公司</td>\n",
       "      <td>广州</td>\n",
       "      <td>30000.00</td>\n",
       "      <td>50000.0</td>\n",
       "    </tr>\n",
       "    <tr>\n",
       "      <th>66765</th>\n",
       "      <td>会员商城运营管理师</td>\n",
       "      <td>统一企业（中国）投资有限公司</td>\n",
       "      <td>上海</td>\n",
       "      <td>8000.00</td>\n",
       "      <td>16000.0</td>\n",
       "    </tr>\n",
       "  </tbody>\n",
       "</table>\n",
       "<p>66766 rows × 5 columns</p>\n",
       "</div>"
      ],
      "text/plain": [
       "                       job              company city  salary_min  salary_max\n",
       "0               金融数据分析师/助理  华壹信融投资管理（北京）有限责任...   北京     8333.33     12500.0\n",
       "1      a（0经验可培养）金融数据分析师/助理         深圳市中创荣投资有限公司   深圳     8000.00     10000.0\n",
       "2            初级运营数据分析专员 助理       知才（上海）信息技术有限公司   上海     6000.00      8000.0\n",
       "3                   销售数据分析      上海品星互联网信息技术有限公司   北京     5000.00      9000.0\n",
       "4                   数据分析经理                  美菜网   上海    13000.00     17000.0\n",
       "...                    ...                  ...  ...         ...         ...\n",
       "66761                运营支持岗        九州通医药集团物流有限公司   武汉     3000.00      5000.0\n",
       "66762              新媒体运营专员  深圳市摩天之星企业管理有限公司龙...   深圳     8000.00     10000.0\n",
       "66763               电商运营总监         福建特家商业管理有限公司   广州    20000.00     30000.0\n",
       "66764              总经理/CEO         福建特家商业管理有限公司   广州    30000.00     50000.0\n",
       "66765            会员商城运营管理师       统一企业（中国）投资有限公司   上海     8000.00     16000.0\n",
       "\n",
       "[66766 rows x 5 columns]"
      ]
     },
     "execution_count": 120,
     "metadata": {},
     "output_type": "execute_result"
    }
   ],
   "source": [
    "jobs"
   ]
  },
  {
   "cell_type": "markdown",
   "metadata": {},
   "source": [
    "**查看中位数**"
   ]
  },
  {
   "cell_type": "code",
   "execution_count": 121,
   "metadata": {},
   "outputs": [
    {
     "data": {
      "text/plain": [
       "6000.0"
      ]
     },
     "execution_count": 121,
     "metadata": {},
     "output_type": "execute_result"
    }
   ],
   "source": [
    "np.percentile(jobs[\"salary_min\"].dropna().values, 50)"
   ]
  },
  {
   "cell_type": "markdown",
   "metadata": {},
   "source": [
    "**查看TOP10%**"
   ]
  },
  {
   "cell_type": "code",
   "execution_count": 122,
   "metadata": {},
   "outputs": [
    {
     "data": {
      "text/plain": [
       "15000.0"
      ]
     },
     "execution_count": 122,
     "metadata": {},
     "output_type": "execute_result"
    }
   ],
   "source": [
    "np.percentile(jobs[\"salary_min\"].dropna().values, 90)"
   ]
  },
  {
   "cell_type": "markdown",
   "metadata": {},
   "source": [
    "**查看最大值**"
   ]
  },
  {
   "cell_type": "code",
   "execution_count": 123,
   "metadata": {},
   "outputs": [
    {
     "data": {
      "text/plain": [
       "300000.0"
      ]
     },
     "execution_count": 123,
     "metadata": {},
     "output_type": "execute_result"
    }
   ],
   "source": [
    "jobs[\"salary_min\"].max()"
   ]
  },
  {
   "cell_type": "markdown",
   "metadata": {},
   "source": [
    "**查看最小值**"
   ]
  },
  {
   "cell_type": "code",
   "execution_count": 124,
   "metadata": {},
   "outputs": [
    {
     "data": {
      "text/plain": [
       "1100.0"
      ]
     },
     "execution_count": 124,
     "metadata": {},
     "output_type": "execute_result"
    }
   ],
   "source": [
    "jobs[\"salary_min\"].min()"
   ]
  },
  {
   "cell_type": "raw",
   "metadata": {},
   "source": [
    "这里介绍一种异常值的评判标准，即以标准差作为衡量的尺度，把超过均值n个标准差以上的取值定义为异常值（可以根据实际业务逻辑，取值4或5）。"
   ]
  },
  {
   "cell_type": "code",
   "execution_count": 125,
   "metadata": {},
   "outputs": [
    {
     "data": {
      "text/plain": [
       "5507.602494015734"
      ]
     },
     "execution_count": 125,
     "metadata": {},
     "output_type": "execute_result"
    }
   ],
   "source": [
    "# 计算标准差\n",
    "jobs[\"salary_min\"].std()"
   ]
  },
  {
   "cell_type": "code",
   "execution_count": 126,
   "metadata": {},
   "outputs": [
    {
     "data": {
      "text/plain": [
       "8030.678873000656"
      ]
     },
     "execution_count": 126,
     "metadata": {},
     "output_type": "execute_result"
    }
   ],
   "source": [
    "# 计算均值\n",
    "jobs[\"salary_min\"].mean()"
   ]
  },
  {
   "cell_type": "code",
   "execution_count": 127,
   "metadata": {},
   "outputs": [
    {
     "data": {
      "text/plain": [
       "53.01205405514243"
      ]
     },
     "execution_count": 127,
     "metadata": {},
     "output_type": "execute_result"
    }
   ],
   "source": [
    "# 计算最大值的偏离程度\n",
    "(jobs[\"salary_min\"].max()-jobs[\"salary_min\"].mean())/jobs[\"salary_min\"].std()"
   ]
  },
  {
   "cell_type": "markdown",
   "metadata": {},
   "source": [
    "## DataFrame 的关联与拼接"
   ]
  },
  {
   "cell_type": "markdown",
   "metadata": {},
   "source": [
    "### merge 关联法"
   ]
  },
  {
   "cell_type": "raw",
   "metadata": {},
   "source": [
    "基于列进行关联，是最常用的一种方法。实现的原型函数为：\n",
    "\n",
    "pd.merge(left, right, how='inner', on=None, left_on=None, right_on=None,\n",
    "         left_index=False, right_index=False)"
   ]
  },
  {
   "cell_type": "raw",
   "metadata": {},
   "source": [
    "left：拼接左侧的DataFrame对象；\n",
    "right：拼接右侧的DataFrame对象；\n",
    "on：待关联的同名列名，存在于左右两个DataFrame对象中；\n",
    "how：连接方式，inner（默认），其他可选：outer、left、right ；\n",
    "left_on：左侧DataFarme中用作连接键的列名；\n",
    "right_on：右侧DataFarme中用作连接键的列；\n",
    "left_index：将左侧的行索引用作其连接键；\n",
    "right_index：将右侧的行索引用作其连接键；"
   ]
  },
  {
   "cell_type": "markdown",
   "metadata": {},
   "source": [
    "#### left 左连接"
   ]
  },
  {
   "cell_type": "code",
   "execution_count": 1,
   "metadata": {},
   "outputs": [],
   "source": [
    "import numpy as np\n",
    "import pandas as pd\n",
    "polls = {\"sites\":[\"迈皋桥\", \"草场门\", \"浦口\", \"奥体中心\", \"仙林大学城\"], \n",
    "        \"AQI\":[55, 75, 69, 74, 58], \n",
    "        \"PM25\":[30, 54, 47,40 ,27], \n",
    "        \"SO2\":[10, 15, 13, 17, 10]}\n",
    "sites = {\"names\":[\"迈皋桥\", \"草场门\", \"浦口\", \"奥体中心\", \"玄武湖\"], \n",
    "        \"regions\":[\"栖霞区\", \"鼓楼区\", \"浦口区\", \"建邺区\", \"玄武区\"], \n",
    "        \"weather\":[\"晴\", \"晴\", \"多云\", \"阴\", \"晴\"]}"
   ]
  },
  {
   "cell_type": "code",
   "execution_count": 2,
   "metadata": {},
   "outputs": [
    {
     "data": {
      "text/html": [
       "<div>\n",
       "<style scoped>\n",
       "    .dataframe tbody tr th:only-of-type {\n",
       "        vertical-align: middle;\n",
       "    }\n",
       "\n",
       "    .dataframe tbody tr th {\n",
       "        vertical-align: top;\n",
       "    }\n",
       "\n",
       "    .dataframe thead th {\n",
       "        text-align: right;\n",
       "    }\n",
       "</style>\n",
       "<table border=\"1\" class=\"dataframe\">\n",
       "  <thead>\n",
       "    <tr style=\"text-align: right;\">\n",
       "      <th></th>\n",
       "      <th>sites</th>\n",
       "      <th>AQI</th>\n",
       "      <th>PM25</th>\n",
       "      <th>SO2</th>\n",
       "    </tr>\n",
       "  </thead>\n",
       "  <tbody>\n",
       "    <tr>\n",
       "      <th>0</th>\n",
       "      <td>迈皋桥</td>\n",
       "      <td>55</td>\n",
       "      <td>30</td>\n",
       "      <td>10</td>\n",
       "    </tr>\n",
       "    <tr>\n",
       "      <th>1</th>\n",
       "      <td>草场门</td>\n",
       "      <td>75</td>\n",
       "      <td>54</td>\n",
       "      <td>15</td>\n",
       "    </tr>\n",
       "    <tr>\n",
       "      <th>2</th>\n",
       "      <td>浦口</td>\n",
       "      <td>69</td>\n",
       "      <td>47</td>\n",
       "      <td>13</td>\n",
       "    </tr>\n",
       "    <tr>\n",
       "      <th>3</th>\n",
       "      <td>奥体中心</td>\n",
       "      <td>74</td>\n",
       "      <td>40</td>\n",
       "      <td>17</td>\n",
       "    </tr>\n",
       "    <tr>\n",
       "      <th>4</th>\n",
       "      <td>仙林大学城</td>\n",
       "      <td>58</td>\n",
       "      <td>27</td>\n",
       "      <td>10</td>\n",
       "    </tr>\n",
       "  </tbody>\n",
       "</table>\n",
       "</div>"
      ],
      "text/plain": [
       "   sites  AQI  PM25  SO2\n",
       "0    迈皋桥   55    30   10\n",
       "1    草场门   75    54   15\n",
       "2     浦口   69    47   13\n",
       "3   奥体中心   74    40   17\n",
       "4  仙林大学城   58    27   10"
      ]
     },
     "execution_count": 2,
     "metadata": {},
     "output_type": "execute_result"
    }
   ],
   "source": [
    "df_polls = pd.DataFrame(polls)\n",
    "df_sites = pd.DataFrame(sites)\n",
    "df_polls"
   ]
  },
  {
   "cell_type": "code",
   "execution_count": 3,
   "metadata": {},
   "outputs": [
    {
     "data": {
      "text/html": [
       "<div>\n",
       "<style scoped>\n",
       "    .dataframe tbody tr th:only-of-type {\n",
       "        vertical-align: middle;\n",
       "    }\n",
       "\n",
       "    .dataframe tbody tr th {\n",
       "        vertical-align: top;\n",
       "    }\n",
       "\n",
       "    .dataframe thead th {\n",
       "        text-align: right;\n",
       "    }\n",
       "</style>\n",
       "<table border=\"1\" class=\"dataframe\">\n",
       "  <thead>\n",
       "    <tr style=\"text-align: right;\">\n",
       "      <th></th>\n",
       "      <th>names</th>\n",
       "      <th>regions</th>\n",
       "      <th>weather</th>\n",
       "    </tr>\n",
       "  </thead>\n",
       "  <tbody>\n",
       "    <tr>\n",
       "      <th>0</th>\n",
       "      <td>迈皋桥</td>\n",
       "      <td>栖霞区</td>\n",
       "      <td>晴</td>\n",
       "    </tr>\n",
       "    <tr>\n",
       "      <th>1</th>\n",
       "      <td>草场门</td>\n",
       "      <td>鼓楼区</td>\n",
       "      <td>晴</td>\n",
       "    </tr>\n",
       "    <tr>\n",
       "      <th>2</th>\n",
       "      <td>浦口</td>\n",
       "      <td>浦口区</td>\n",
       "      <td>多云</td>\n",
       "    </tr>\n",
       "    <tr>\n",
       "      <th>3</th>\n",
       "      <td>奥体中心</td>\n",
       "      <td>建邺区</td>\n",
       "      <td>阴</td>\n",
       "    </tr>\n",
       "    <tr>\n",
       "      <th>4</th>\n",
       "      <td>玄武湖</td>\n",
       "      <td>玄武区</td>\n",
       "      <td>晴</td>\n",
       "    </tr>\n",
       "  </tbody>\n",
       "</table>\n",
       "</div>"
      ],
      "text/plain": [
       "  names regions weather\n",
       "0   迈皋桥     栖霞区       晴\n",
       "1   草场门     鼓楼区       晴\n",
       "2    浦口     浦口区      多云\n",
       "3  奥体中心     建邺区       阴\n",
       "4   玄武湖     玄武区       晴"
      ]
     },
     "execution_count": 3,
     "metadata": {},
     "output_type": "execute_result"
    }
   ],
   "source": [
    "df_sites"
   ]
  },
  {
   "cell_type": "code",
   "execution_count": 4,
   "metadata": {},
   "outputs": [
    {
     "data": {
      "text/html": [
       "<div>\n",
       "<style scoped>\n",
       "    .dataframe tbody tr th:only-of-type {\n",
       "        vertical-align: middle;\n",
       "    }\n",
       "\n",
       "    .dataframe tbody tr th {\n",
       "        vertical-align: top;\n",
       "    }\n",
       "\n",
       "    .dataframe thead th {\n",
       "        text-align: right;\n",
       "    }\n",
       "</style>\n",
       "<table border=\"1\" class=\"dataframe\">\n",
       "  <thead>\n",
       "    <tr style=\"text-align: right;\">\n",
       "      <th></th>\n",
       "      <th>sites</th>\n",
       "      <th>AQI</th>\n",
       "      <th>PM25</th>\n",
       "      <th>SO2</th>\n",
       "      <th>names</th>\n",
       "      <th>regions</th>\n",
       "      <th>weather</th>\n",
       "    </tr>\n",
       "  </thead>\n",
       "  <tbody>\n",
       "    <tr>\n",
       "      <th>0</th>\n",
       "      <td>迈皋桥</td>\n",
       "      <td>55</td>\n",
       "      <td>30</td>\n",
       "      <td>10</td>\n",
       "      <td>迈皋桥</td>\n",
       "      <td>栖霞区</td>\n",
       "      <td>晴</td>\n",
       "    </tr>\n",
       "    <tr>\n",
       "      <th>1</th>\n",
       "      <td>草场门</td>\n",
       "      <td>75</td>\n",
       "      <td>54</td>\n",
       "      <td>15</td>\n",
       "      <td>草场门</td>\n",
       "      <td>鼓楼区</td>\n",
       "      <td>晴</td>\n",
       "    </tr>\n",
       "    <tr>\n",
       "      <th>2</th>\n",
       "      <td>浦口</td>\n",
       "      <td>69</td>\n",
       "      <td>47</td>\n",
       "      <td>13</td>\n",
       "      <td>浦口</td>\n",
       "      <td>浦口区</td>\n",
       "      <td>多云</td>\n",
       "    </tr>\n",
       "    <tr>\n",
       "      <th>3</th>\n",
       "      <td>奥体中心</td>\n",
       "      <td>74</td>\n",
       "      <td>40</td>\n",
       "      <td>17</td>\n",
       "      <td>奥体中心</td>\n",
       "      <td>建邺区</td>\n",
       "      <td>阴</td>\n",
       "    </tr>\n",
       "    <tr>\n",
       "      <th>4</th>\n",
       "      <td>仙林大学城</td>\n",
       "      <td>58</td>\n",
       "      <td>27</td>\n",
       "      <td>10</td>\n",
       "      <td>NaN</td>\n",
       "      <td>NaN</td>\n",
       "      <td>NaN</td>\n",
       "    </tr>\n",
       "  </tbody>\n",
       "</table>\n",
       "</div>"
      ],
      "text/plain": [
       "   sites  AQI  PM25  SO2 names regions weather\n",
       "0    迈皋桥   55    30   10   迈皋桥     栖霞区       晴\n",
       "1    草场门   75    54   15   草场门     鼓楼区       晴\n",
       "2     浦口   69    47   13    浦口     浦口区      多云\n",
       "3   奥体中心   74    40   17  奥体中心     建邺区       阴\n",
       "4  仙林大学城   58    27   10   NaN     NaN     NaN"
      ]
     },
     "execution_count": 4,
     "metadata": {},
     "output_type": "execute_result"
    }
   ],
   "source": [
    "# 总览左右两侧的DataFrame，我们发现并没有共同的列，所以这里我无法通过指定on字段来进行关联；\n",
    "# 对应的，我们分别指定left_on和right_on\n",
    "pd.merge(df_polls, df_sites, how=\"left\", left_on=\"sites\", right_on=\"names\")"
   ]
  },
  {
   "cell_type": "markdown",
   "metadata": {},
   "source": [
    "#### right右连接"
   ]
  },
  {
   "cell_type": "markdown",
   "metadata": {},
   "source": [
    "#### inner 内连接"
   ]
  },
  {
   "cell_type": "raw",
   "metadata": {},
   "source": [
    "对于内连接来说，左右两个连接键取交集，对于没有匹配上的键值，则整行全部丢弃。"
   ]
  },
  {
   "cell_type": "code",
   "execution_count": 5,
   "metadata": {},
   "outputs": [
    {
     "data": {
      "text/html": [
       "<div>\n",
       "<style scoped>\n",
       "    .dataframe tbody tr th:only-of-type {\n",
       "        vertical-align: middle;\n",
       "    }\n",
       "\n",
       "    .dataframe tbody tr th {\n",
       "        vertical-align: top;\n",
       "    }\n",
       "\n",
       "    .dataframe thead th {\n",
       "        text-align: right;\n",
       "    }\n",
       "</style>\n",
       "<table border=\"1\" class=\"dataframe\">\n",
       "  <thead>\n",
       "    <tr style=\"text-align: right;\">\n",
       "      <th></th>\n",
       "      <th>sites</th>\n",
       "      <th>AQI</th>\n",
       "      <th>PM25</th>\n",
       "      <th>SO2</th>\n",
       "      <th>names</th>\n",
       "      <th>regions</th>\n",
       "      <th>weather</th>\n",
       "    </tr>\n",
       "  </thead>\n",
       "  <tbody>\n",
       "    <tr>\n",
       "      <th>0</th>\n",
       "      <td>迈皋桥</td>\n",
       "      <td>55</td>\n",
       "      <td>30</td>\n",
       "      <td>10</td>\n",
       "      <td>迈皋桥</td>\n",
       "      <td>栖霞区</td>\n",
       "      <td>晴</td>\n",
       "    </tr>\n",
       "    <tr>\n",
       "      <th>1</th>\n",
       "      <td>草场门</td>\n",
       "      <td>75</td>\n",
       "      <td>54</td>\n",
       "      <td>15</td>\n",
       "      <td>草场门</td>\n",
       "      <td>鼓楼区</td>\n",
       "      <td>晴</td>\n",
       "    </tr>\n",
       "    <tr>\n",
       "      <th>2</th>\n",
       "      <td>浦口</td>\n",
       "      <td>69</td>\n",
       "      <td>47</td>\n",
       "      <td>13</td>\n",
       "      <td>浦口</td>\n",
       "      <td>浦口区</td>\n",
       "      <td>多云</td>\n",
       "    </tr>\n",
       "    <tr>\n",
       "      <th>3</th>\n",
       "      <td>奥体中心</td>\n",
       "      <td>74</td>\n",
       "      <td>40</td>\n",
       "      <td>17</td>\n",
       "      <td>奥体中心</td>\n",
       "      <td>建邺区</td>\n",
       "      <td>阴</td>\n",
       "    </tr>\n",
       "  </tbody>\n",
       "</table>\n",
       "</div>"
      ],
      "text/plain": [
       "  sites  AQI  PM25  SO2 names regions weather\n",
       "0   迈皋桥   55    30   10   迈皋桥     栖霞区       晴\n",
       "1   草场门   75    54   15   草场门     鼓楼区       晴\n",
       "2    浦口   69    47   13    浦口     浦口区      多云\n",
       "3  奥体中心   74    40   17  奥体中心     建邺区       阴"
      ]
     },
     "execution_count": 5,
     "metadata": {},
     "output_type": "execute_result"
    }
   ],
   "source": [
    "pd.merge(df_polls, df_sites, how=\"inner\", left_on=\"sites\", right_on=\"names\")"
   ]
  },
  {
   "cell_type": "markdown",
   "metadata": {},
   "source": [
    "#### outer 外连接"
   ]
  },
  {
   "cell_type": "code",
   "execution_count": 6,
   "metadata": {},
   "outputs": [
    {
     "data": {
      "text/html": [
       "<div>\n",
       "<style scoped>\n",
       "    .dataframe tbody tr th:only-of-type {\n",
       "        vertical-align: middle;\n",
       "    }\n",
       "\n",
       "    .dataframe tbody tr th {\n",
       "        vertical-align: top;\n",
       "    }\n",
       "\n",
       "    .dataframe thead th {\n",
       "        text-align: right;\n",
       "    }\n",
       "</style>\n",
       "<table border=\"1\" class=\"dataframe\">\n",
       "  <thead>\n",
       "    <tr style=\"text-align: right;\">\n",
       "      <th></th>\n",
       "      <th>sites</th>\n",
       "      <th>AQI</th>\n",
       "      <th>PM25</th>\n",
       "      <th>SO2</th>\n",
       "      <th>names</th>\n",
       "      <th>regions</th>\n",
       "      <th>weather</th>\n",
       "    </tr>\n",
       "  </thead>\n",
       "  <tbody>\n",
       "    <tr>\n",
       "      <th>0</th>\n",
       "      <td>迈皋桥</td>\n",
       "      <td>55.0</td>\n",
       "      <td>30.0</td>\n",
       "      <td>10.0</td>\n",
       "      <td>迈皋桥</td>\n",
       "      <td>栖霞区</td>\n",
       "      <td>晴</td>\n",
       "    </tr>\n",
       "    <tr>\n",
       "      <th>1</th>\n",
       "      <td>草场门</td>\n",
       "      <td>75.0</td>\n",
       "      <td>54.0</td>\n",
       "      <td>15.0</td>\n",
       "      <td>草场门</td>\n",
       "      <td>鼓楼区</td>\n",
       "      <td>晴</td>\n",
       "    </tr>\n",
       "    <tr>\n",
       "      <th>2</th>\n",
       "      <td>浦口</td>\n",
       "      <td>69.0</td>\n",
       "      <td>47.0</td>\n",
       "      <td>13.0</td>\n",
       "      <td>浦口</td>\n",
       "      <td>浦口区</td>\n",
       "      <td>多云</td>\n",
       "    </tr>\n",
       "    <tr>\n",
       "      <th>3</th>\n",
       "      <td>奥体中心</td>\n",
       "      <td>74.0</td>\n",
       "      <td>40.0</td>\n",
       "      <td>17.0</td>\n",
       "      <td>奥体中心</td>\n",
       "      <td>建邺区</td>\n",
       "      <td>阴</td>\n",
       "    </tr>\n",
       "    <tr>\n",
       "      <th>4</th>\n",
       "      <td>仙林大学城</td>\n",
       "      <td>58.0</td>\n",
       "      <td>27.0</td>\n",
       "      <td>10.0</td>\n",
       "      <td>NaN</td>\n",
       "      <td>NaN</td>\n",
       "      <td>NaN</td>\n",
       "    </tr>\n",
       "    <tr>\n",
       "      <th>5</th>\n",
       "      <td>NaN</td>\n",
       "      <td>NaN</td>\n",
       "      <td>NaN</td>\n",
       "      <td>NaN</td>\n",
       "      <td>玄武湖</td>\n",
       "      <td>玄武区</td>\n",
       "      <td>晴</td>\n",
       "    </tr>\n",
       "  </tbody>\n",
       "</table>\n",
       "</div>"
      ],
      "text/plain": [
       "   sites   AQI  PM25   SO2 names regions weather\n",
       "0    迈皋桥  55.0  30.0  10.0   迈皋桥     栖霞区       晴\n",
       "1    草场门  75.0  54.0  15.0   草场门     鼓楼区       晴\n",
       "2     浦口  69.0  47.0  13.0    浦口     浦口区      多云\n",
       "3   奥体中心  74.0  40.0  17.0  奥体中心     建邺区       阴\n",
       "4  仙林大学城  58.0  27.0  10.0   NaN     NaN     NaN\n",
       "5    NaN   NaN   NaN   NaN   玄武湖     玄武区       晴"
      ]
     },
     "execution_count": 6,
     "metadata": {},
     "output_type": "execute_result"
    }
   ],
   "source": [
    "pd.merge(df_polls, df_sites, how=\"outer\", left_on=\"sites\", right_on=\"names\")"
   ]
  },
  {
   "cell_type": "markdown",
   "metadata": {},
   "source": [
    "#### 多列关联"
   ]
  },
  {
   "cell_type": "code",
   "execution_count": 7,
   "metadata": {},
   "outputs": [],
   "source": [
    "# 定义左侧数据集\n",
    "df_left = pd.DataFrame({\"sites\":[\"迈皋桥\", \"草场门\", \"浦口\", \"迈皋桥\", \"草场门\", \"浦口\"], \n",
    "                       \"date\":[\"2019-12-08\", \"2019-12-08\", \"2019-12-08\", \"2019-12-07\", \"2019-12-07\", \"2019-12-07\"],  \n",
    "                       \"AQI\":[55, 75, 69, 45, 35, 53]})\n",
    "# 定义右侧数据集\n",
    "df_right = pd.DataFrame({\"sites\":[\"迈皋桥\", \"草场门\", \"迈皋桥\", \"草场门\"], \n",
    "                        \"date\":[\"2019-12-08\", \"2019-12-08\", \"2019-12-09\", \"2019-12-09\"], \n",
    "                        \"weather\":[\"晴\",  \"晴\", \"多云\", \"阴\"]})"
   ]
  },
  {
   "cell_type": "code",
   "execution_count": 8,
   "metadata": {},
   "outputs": [
    {
     "data": {
      "text/html": [
       "<div>\n",
       "<style scoped>\n",
       "    .dataframe tbody tr th:only-of-type {\n",
       "        vertical-align: middle;\n",
       "    }\n",
       "\n",
       "    .dataframe tbody tr th {\n",
       "        vertical-align: top;\n",
       "    }\n",
       "\n",
       "    .dataframe thead th {\n",
       "        text-align: right;\n",
       "    }\n",
       "</style>\n",
       "<table border=\"1\" class=\"dataframe\">\n",
       "  <thead>\n",
       "    <tr style=\"text-align: right;\">\n",
       "      <th></th>\n",
       "      <th>sites</th>\n",
       "      <th>date</th>\n",
       "      <th>AQI</th>\n",
       "      <th>weather</th>\n",
       "    </tr>\n",
       "  </thead>\n",
       "  <tbody>\n",
       "    <tr>\n",
       "      <th>0</th>\n",
       "      <td>迈皋桥</td>\n",
       "      <td>2019-12-08</td>\n",
       "      <td>55</td>\n",
       "      <td>晴</td>\n",
       "    </tr>\n",
       "    <tr>\n",
       "      <th>1</th>\n",
       "      <td>草场门</td>\n",
       "      <td>2019-12-08</td>\n",
       "      <td>75</td>\n",
       "      <td>晴</td>\n",
       "    </tr>\n",
       "  </tbody>\n",
       "</table>\n",
       "</div>"
      ],
      "text/plain": [
       "  sites        date  AQI weather\n",
       "0   迈皋桥  2019-12-08   55       晴\n",
       "1   草场门  2019-12-08   75       晴"
      ]
     },
     "execution_count": 8,
     "metadata": {},
     "output_type": "execute_result"
    }
   ],
   "source": [
    "pd.merge(df_left, df_right, on=[\"sites\", \"date\"], how=\"inner\")"
   ]
  },
  {
   "cell_type": "markdown",
   "metadata": {},
   "source": [
    "#### 避免数据量爆炸"
   ]
  },
  {
   "cell_type": "raw",
   "metadata": {},
   "source": [
    "当数据量增大时，我们要尤其注意避免数据量呈几何级增大这种问题。仍以上面的数据集为例，我们如果仅仅指定以sites字段进行关联，观察一下结果:\n",
    "关联前的数据集为6×3、4×3，inner关联之后，数据集变成了8×3。原因就在于左右的关联键中均存在重复值。在数据量小的时候危害并不明显，当数据量足够大，会导致数据量发生爆炸般的增长，直至报MemoryError的错误。"
   ]
  },
  {
   "cell_type": "markdown",
   "metadata": {},
   "source": [
    "#### 基于index的关联"
   ]
  },
  {
   "cell_type": "code",
   "execution_count": 9,
   "metadata": {},
   "outputs": [],
   "source": [
    "sites_with_index = pd.DataFrame({\"regions\":[\"栖霞区\", \"鼓楼区\", \"浦口区\", \"建邺区\", \"玄武区\"]},\n",
    "                                index=[\"迈皋桥\", \"草场门\", \"浦口\", \"奥体中心\", \"玄武湖\"])"
   ]
  },
  {
   "cell_type": "code",
   "execution_count": 10,
   "metadata": {},
   "outputs": [
    {
     "data": {
      "text/html": [
       "<div>\n",
       "<style scoped>\n",
       "    .dataframe tbody tr th:only-of-type {\n",
       "        vertical-align: middle;\n",
       "    }\n",
       "\n",
       "    .dataframe tbody tr th {\n",
       "        vertical-align: top;\n",
       "    }\n",
       "\n",
       "    .dataframe thead th {\n",
       "        text-align: right;\n",
       "    }\n",
       "</style>\n",
       "<table border=\"1\" class=\"dataframe\">\n",
       "  <thead>\n",
       "    <tr style=\"text-align: right;\">\n",
       "      <th></th>\n",
       "      <th>regions</th>\n",
       "    </tr>\n",
       "  </thead>\n",
       "  <tbody>\n",
       "    <tr>\n",
       "      <th>迈皋桥</th>\n",
       "      <td>栖霞区</td>\n",
       "    </tr>\n",
       "    <tr>\n",
       "      <th>草场门</th>\n",
       "      <td>鼓楼区</td>\n",
       "    </tr>\n",
       "    <tr>\n",
       "      <th>浦口</th>\n",
       "      <td>浦口区</td>\n",
       "    </tr>\n",
       "    <tr>\n",
       "      <th>奥体中心</th>\n",
       "      <td>建邺区</td>\n",
       "    </tr>\n",
       "    <tr>\n",
       "      <th>玄武湖</th>\n",
       "      <td>玄武区</td>\n",
       "    </tr>\n",
       "  </tbody>\n",
       "</table>\n",
       "</div>"
      ],
      "text/plain": [
       "     regions\n",
       "迈皋桥      栖霞区\n",
       "草场门      鼓楼区\n",
       "浦口       浦口区\n",
       "奥体中心     建邺区\n",
       "玄武湖      玄武区"
      ]
     },
     "execution_count": 10,
     "metadata": {},
     "output_type": "execute_result"
    }
   ],
   "source": [
    "sites_with_index"
   ]
  },
  {
   "cell_type": "code",
   "execution_count": 11,
   "metadata": {},
   "outputs": [
    {
     "data": {
      "text/html": [
       "<div>\n",
       "<style scoped>\n",
       "    .dataframe tbody tr th:only-of-type {\n",
       "        vertical-align: middle;\n",
       "    }\n",
       "\n",
       "    .dataframe tbody tr th {\n",
       "        vertical-align: top;\n",
       "    }\n",
       "\n",
       "    .dataframe thead th {\n",
       "        text-align: right;\n",
       "    }\n",
       "</style>\n",
       "<table border=\"1\" class=\"dataframe\">\n",
       "  <thead>\n",
       "    <tr style=\"text-align: right;\">\n",
       "      <th></th>\n",
       "      <th>sites</th>\n",
       "      <th>AQI</th>\n",
       "      <th>PM25</th>\n",
       "      <th>SO2</th>\n",
       "      <th>regions</th>\n",
       "    </tr>\n",
       "  </thead>\n",
       "  <tbody>\n",
       "    <tr>\n",
       "      <th>0</th>\n",
       "      <td>迈皋桥</td>\n",
       "      <td>55</td>\n",
       "      <td>30</td>\n",
       "      <td>10</td>\n",
       "      <td>栖霞区</td>\n",
       "    </tr>\n",
       "    <tr>\n",
       "      <th>1</th>\n",
       "      <td>草场门</td>\n",
       "      <td>75</td>\n",
       "      <td>54</td>\n",
       "      <td>15</td>\n",
       "      <td>鼓楼区</td>\n",
       "    </tr>\n",
       "    <tr>\n",
       "      <th>2</th>\n",
       "      <td>浦口</td>\n",
       "      <td>69</td>\n",
       "      <td>47</td>\n",
       "      <td>13</td>\n",
       "      <td>浦口区</td>\n",
       "    </tr>\n",
       "    <tr>\n",
       "      <th>3</th>\n",
       "      <td>奥体中心</td>\n",
       "      <td>74</td>\n",
       "      <td>40</td>\n",
       "      <td>17</td>\n",
       "      <td>建邺区</td>\n",
       "    </tr>\n",
       "  </tbody>\n",
       "</table>\n",
       "</div>"
      ],
      "text/plain": [
       "  sites  AQI  PM25  SO2 regions\n",
       "0   迈皋桥   55    30   10     栖霞区\n",
       "1   草场门   75    54   15     鼓楼区\n",
       "2    浦口   69    47   13     浦口区\n",
       "3  奥体中心   74    40   17     建邺区"
      ]
     },
     "execution_count": 11,
     "metadata": {},
     "output_type": "execute_result"
    }
   ],
   "source": [
    "pd.merge(df_polls,sites_with_index,left_on=\"sites\",right_index=True,how=\"inner\")"
   ]
  },
  {
   "cell_type": "markdown",
   "metadata": {},
   "source": [
    "### join 关联法"
   ]
  },
  {
   "cell_type": "markdown",
   "metadata": {},
   "source": [
    "join方法是基于index连接dataframe，merge方法是基于column连接，连接方法有内连接，外连接，左连接和右连接，与merge一致。"
   ]
  },
  {
   "cell_type": "code",
   "execution_count": 12,
   "metadata": {},
   "outputs": [
    {
     "data": {
      "text/html": [
       "<div>\n",
       "<style scoped>\n",
       "    .dataframe tbody tr th:only-of-type {\n",
       "        vertical-align: middle;\n",
       "    }\n",
       "\n",
       "    .dataframe tbody tr th {\n",
       "        vertical-align: top;\n",
       "    }\n",
       "\n",
       "    .dataframe thead th {\n",
       "        text-align: right;\n",
       "    }\n",
       "</style>\n",
       "<table border=\"1\" class=\"dataframe\">\n",
       "  <thead>\n",
       "    <tr style=\"text-align: right;\">\n",
       "      <th></th>\n",
       "      <th>AQI</th>\n",
       "      <th>PM25</th>\n",
       "      <th>SO2</th>\n",
       "    </tr>\n",
       "  </thead>\n",
       "  <tbody>\n",
       "    <tr>\n",
       "      <th>迈皋桥</th>\n",
       "      <td>55</td>\n",
       "      <td>30</td>\n",
       "      <td>10</td>\n",
       "    </tr>\n",
       "    <tr>\n",
       "      <th>草场门</th>\n",
       "      <td>75</td>\n",
       "      <td>54</td>\n",
       "      <td>15</td>\n",
       "    </tr>\n",
       "    <tr>\n",
       "      <th>浦口</th>\n",
       "      <td>69</td>\n",
       "      <td>47</td>\n",
       "      <td>13</td>\n",
       "    </tr>\n",
       "    <tr>\n",
       "      <th>奥体中心</th>\n",
       "      <td>74</td>\n",
       "      <td>40</td>\n",
       "      <td>17</td>\n",
       "    </tr>\n",
       "    <tr>\n",
       "      <th>仙林大学城</th>\n",
       "      <td>58</td>\n",
       "      <td>27</td>\n",
       "      <td>10</td>\n",
       "    </tr>\n",
       "  </tbody>\n",
       "</table>\n",
       "</div>"
      ],
      "text/plain": [
       "       AQI  PM25  SO2\n",
       "迈皋桥     55    30   10\n",
       "草场门     75    54   15\n",
       "浦口      69    47   13\n",
       "奥体中心    74    40   17\n",
       "仙林大学城   58    27   10"
      ]
     },
     "execution_count": 12,
     "metadata": {},
     "output_type": "execute_result"
    }
   ],
   "source": [
    "polls_with_index = pd.DataFrame({\"AQI\":[55, 75, 69, 74, 58], \n",
    "                                 \"PM25\":[30, 54, 47,40 ,27], \n",
    "                                 \"SO2\":[10, 15, 13, 17, 10]}, \n",
    "                                index=[\"迈皋桥\", \"草场门\", \"浦口\", \"奥体中心\", \"仙林大学城\"])\n",
    "polls_with_index"
   ]
  },
  {
   "cell_type": "code",
   "execution_count": 13,
   "metadata": {},
   "outputs": [
    {
     "data": {
      "text/html": [
       "<div>\n",
       "<style scoped>\n",
       "    .dataframe tbody tr th:only-of-type {\n",
       "        vertical-align: middle;\n",
       "    }\n",
       "\n",
       "    .dataframe tbody tr th {\n",
       "        vertical-align: top;\n",
       "    }\n",
       "\n",
       "    .dataframe thead th {\n",
       "        text-align: right;\n",
       "    }\n",
       "</style>\n",
       "<table border=\"1\" class=\"dataframe\">\n",
       "  <thead>\n",
       "    <tr style=\"text-align: right;\">\n",
       "      <th></th>\n",
       "      <th>regions</th>\n",
       "    </tr>\n",
       "  </thead>\n",
       "  <tbody>\n",
       "    <tr>\n",
       "      <th>迈皋桥</th>\n",
       "      <td>栖霞区</td>\n",
       "    </tr>\n",
       "    <tr>\n",
       "      <th>草场门</th>\n",
       "      <td>鼓楼区</td>\n",
       "    </tr>\n",
       "    <tr>\n",
       "      <th>浦口</th>\n",
       "      <td>浦口区</td>\n",
       "    </tr>\n",
       "    <tr>\n",
       "      <th>奥体中心</th>\n",
       "      <td>建邺区</td>\n",
       "    </tr>\n",
       "    <tr>\n",
       "      <th>玄武湖</th>\n",
       "      <td>玄武区</td>\n",
       "    </tr>\n",
       "  </tbody>\n",
       "</table>\n",
       "</div>"
      ],
      "text/plain": [
       "     regions\n",
       "迈皋桥      栖霞区\n",
       "草场门      鼓楼区\n",
       "浦口       浦口区\n",
       "奥体中心     建邺区\n",
       "玄武湖      玄武区"
      ]
     },
     "execution_count": 13,
     "metadata": {},
     "output_type": "execute_result"
    }
   ],
   "source": [
    "sites_with_index"
   ]
  },
  {
   "cell_type": "markdown",
   "metadata": {},
   "source": [
    "**利用join函数实现左右DataFrame的索引关联**"
   ]
  },
  {
   "cell_type": "code",
   "execution_count": 14,
   "metadata": {},
   "outputs": [
    {
     "data": {
      "text/html": [
       "<div>\n",
       "<style scoped>\n",
       "    .dataframe tbody tr th:only-of-type {\n",
       "        vertical-align: middle;\n",
       "    }\n",
       "\n",
       "    .dataframe tbody tr th {\n",
       "        vertical-align: top;\n",
       "    }\n",
       "\n",
       "    .dataframe thead th {\n",
       "        text-align: right;\n",
       "    }\n",
       "</style>\n",
       "<table border=\"1\" class=\"dataframe\">\n",
       "  <thead>\n",
       "    <tr style=\"text-align: right;\">\n",
       "      <th></th>\n",
       "      <th>AQI</th>\n",
       "      <th>PM25</th>\n",
       "      <th>SO2</th>\n",
       "      <th>regions</th>\n",
       "    </tr>\n",
       "  </thead>\n",
       "  <tbody>\n",
       "    <tr>\n",
       "      <th>迈皋桥</th>\n",
       "      <td>55</td>\n",
       "      <td>30</td>\n",
       "      <td>10</td>\n",
       "      <td>栖霞区</td>\n",
       "    </tr>\n",
       "    <tr>\n",
       "      <th>草场门</th>\n",
       "      <td>75</td>\n",
       "      <td>54</td>\n",
       "      <td>15</td>\n",
       "      <td>鼓楼区</td>\n",
       "    </tr>\n",
       "    <tr>\n",
       "      <th>浦口</th>\n",
       "      <td>69</td>\n",
       "      <td>47</td>\n",
       "      <td>13</td>\n",
       "      <td>浦口区</td>\n",
       "    </tr>\n",
       "    <tr>\n",
       "      <th>奥体中心</th>\n",
       "      <td>74</td>\n",
       "      <td>40</td>\n",
       "      <td>17</td>\n",
       "      <td>建邺区</td>\n",
       "    </tr>\n",
       "  </tbody>\n",
       "</table>\n",
       "</div>"
      ],
      "text/plain": [
       "      AQI  PM25  SO2 regions\n",
       "迈皋桥    55    30   10     栖霞区\n",
       "草场门    75    54   15     鼓楼区\n",
       "浦口     69    47   13     浦口区\n",
       "奥体中心   74    40   17     建邺区"
      ]
     },
     "execution_count": 14,
     "metadata": {},
     "output_type": "execute_result"
    }
   ],
   "source": [
    "polls_with_index.join(sites_with_index,how=\"inner\")"
   ]
  },
  {
   "cell_type": "markdown",
   "metadata": {},
   "source": [
    "### concat 拼接"
   ]
  },
  {
   "cell_type": "raw",
   "metadata": {},
   "source": [
    "另外一种常用的数据整合方法是concat，即我希望按照某种方式把两个规整的数据集进行拼接。"
   ]
  },
  {
   "cell_type": "raw",
   "metadata": {},
   "source": [
    "pd.concat(objs, axis=0, join='outer', keys=None)\n",
    "\n",
    "objs：带拼接的数据集，通常以列表的形式传入；\n",
    "\n",
    "join：可选inner、outer，含义同merge函数；\n",
    "\n",
    "keys：定义新的分组索引，用来区分传入的数据集；"
   ]
  },
  {
   "cell_type": "code",
   "execution_count": 15,
   "metadata": {},
   "outputs": [
    {
     "data": {
      "text/html": [
       "<div>\n",
       "<style scoped>\n",
       "    .dataframe tbody tr th:only-of-type {\n",
       "        vertical-align: middle;\n",
       "    }\n",
       "\n",
       "    .dataframe tbody tr th {\n",
       "        vertical-align: top;\n",
       "    }\n",
       "\n",
       "    .dataframe thead th {\n",
       "        text-align: right;\n",
       "    }\n",
       "</style>\n",
       "<table border=\"1\" class=\"dataframe\">\n",
       "  <thead>\n",
       "    <tr style=\"text-align: right;\">\n",
       "      <th></th>\n",
       "      <th>sites</th>\n",
       "      <th>AQI</th>\n",
       "      <th>PM25</th>\n",
       "      <th>O2</th>\n",
       "    </tr>\n",
       "  </thead>\n",
       "  <tbody>\n",
       "    <tr>\n",
       "      <th>0</th>\n",
       "      <td>迈皋桥</td>\n",
       "      <td>65</td>\n",
       "      <td>50</td>\n",
       "      <td>20</td>\n",
       "    </tr>\n",
       "    <tr>\n",
       "      <th>1</th>\n",
       "      <td>草场门</td>\n",
       "      <td>85</td>\n",
       "      <td>74</td>\n",
       "      <td>35</td>\n",
       "    </tr>\n",
       "    <tr>\n",
       "      <th>2</th>\n",
       "      <td>浦口</td>\n",
       "      <td>79</td>\n",
       "      <td>67</td>\n",
       "      <td>23</td>\n",
       "    </tr>\n",
       "    <tr>\n",
       "      <th>3</th>\n",
       "      <td>奥体中心</td>\n",
       "      <td>78</td>\n",
       "      <td>60</td>\n",
       "      <td>37</td>\n",
       "    </tr>\n",
       "    <tr>\n",
       "      <th>4</th>\n",
       "      <td>仙林大学城</td>\n",
       "      <td>78</td>\n",
       "      <td>47</td>\n",
       "      <td>15</td>\n",
       "    </tr>\n",
       "  </tbody>\n",
       "</table>\n",
       "</div>"
      ],
      "text/plain": [
       "   sites  AQI  PM25  O2\n",
       "0    迈皋桥   65    50  20\n",
       "1    草场门   85    74  35\n",
       "2     浦口   79    67  23\n",
       "3   奥体中心   78    60  37\n",
       "4  仙林大学城   78    47  15"
      ]
     },
     "execution_count": 15,
     "metadata": {},
     "output_type": "execute_result"
    }
   ],
   "source": [
    "new_polls = {\"sites\":[\"迈皋桥\", \"草场门\", \"浦口\", \"奥体中心\", \"仙林大学城\"], \n",
    "        \"AQI\":[65, 85, 79, 78, 78], \n",
    "        \"PM25\":[50, 74, 67,60 ,47], \n",
    "        \"O2\":[20, 35, 23, 37, 15]}\n",
    "df_polls_new  = pd.DataFrame(new_polls)\n",
    "df_polls_new"
   ]
  },
  {
   "cell_type": "code",
   "execution_count": 16,
   "metadata": {},
   "outputs": [
    {
     "data": {
      "text/html": [
       "<div>\n",
       "<style scoped>\n",
       "    .dataframe tbody tr th:only-of-type {\n",
       "        vertical-align: middle;\n",
       "    }\n",
       "\n",
       "    .dataframe tbody tr th {\n",
       "        vertical-align: top;\n",
       "    }\n",
       "\n",
       "    .dataframe thead th {\n",
       "        text-align: right;\n",
       "    }\n",
       "</style>\n",
       "<table border=\"1\" class=\"dataframe\">\n",
       "  <thead>\n",
       "    <tr style=\"text-align: right;\">\n",
       "      <th></th>\n",
       "      <th>sites</th>\n",
       "      <th>AQI</th>\n",
       "      <th>PM25</th>\n",
       "      <th>SO2</th>\n",
       "    </tr>\n",
       "  </thead>\n",
       "  <tbody>\n",
       "    <tr>\n",
       "      <th>0</th>\n",
       "      <td>迈皋桥</td>\n",
       "      <td>55</td>\n",
       "      <td>30</td>\n",
       "      <td>10</td>\n",
       "    </tr>\n",
       "    <tr>\n",
       "      <th>1</th>\n",
       "      <td>草场门</td>\n",
       "      <td>75</td>\n",
       "      <td>54</td>\n",
       "      <td>15</td>\n",
       "    </tr>\n",
       "    <tr>\n",
       "      <th>2</th>\n",
       "      <td>浦口</td>\n",
       "      <td>69</td>\n",
       "      <td>47</td>\n",
       "      <td>13</td>\n",
       "    </tr>\n",
       "    <tr>\n",
       "      <th>3</th>\n",
       "      <td>奥体中心</td>\n",
       "      <td>74</td>\n",
       "      <td>40</td>\n",
       "      <td>17</td>\n",
       "    </tr>\n",
       "    <tr>\n",
       "      <th>4</th>\n",
       "      <td>仙林大学城</td>\n",
       "      <td>58</td>\n",
       "      <td>27</td>\n",
       "      <td>10</td>\n",
       "    </tr>\n",
       "  </tbody>\n",
       "</table>\n",
       "</div>"
      ],
      "text/plain": [
       "   sites  AQI  PM25  SO2\n",
       "0    迈皋桥   55    30   10\n",
       "1    草场门   75    54   15\n",
       "2     浦口   69    47   13\n",
       "3   奥体中心   74    40   17\n",
       "4  仙林大学城   58    27   10"
      ]
     },
     "execution_count": 16,
     "metadata": {},
     "output_type": "execute_result"
    }
   ],
   "source": [
    "df_polls"
   ]
  },
  {
   "cell_type": "code",
   "execution_count": 17,
   "metadata": {},
   "outputs": [
    {
     "data": {
      "text/html": [
       "<div>\n",
       "<style scoped>\n",
       "    .dataframe tbody tr th:only-of-type {\n",
       "        vertical-align: middle;\n",
       "    }\n",
       "\n",
       "    .dataframe tbody tr th {\n",
       "        vertical-align: top;\n",
       "    }\n",
       "\n",
       "    .dataframe thead th {\n",
       "        text-align: right;\n",
       "    }\n",
       "</style>\n",
       "<table border=\"1\" class=\"dataframe\">\n",
       "  <thead>\n",
       "    <tr style=\"text-align: right;\">\n",
       "      <th></th>\n",
       "      <th></th>\n",
       "      <th>sites</th>\n",
       "      <th>AQI</th>\n",
       "      <th>PM25</th>\n",
       "    </tr>\n",
       "  </thead>\n",
       "  <tbody>\n",
       "    <tr>\n",
       "      <th rowspan=\"5\" valign=\"top\">2019-12-08</th>\n",
       "      <th>0</th>\n",
       "      <td>迈皋桥</td>\n",
       "      <td>55</td>\n",
       "      <td>30</td>\n",
       "    </tr>\n",
       "    <tr>\n",
       "      <th>1</th>\n",
       "      <td>草场门</td>\n",
       "      <td>75</td>\n",
       "      <td>54</td>\n",
       "    </tr>\n",
       "    <tr>\n",
       "      <th>2</th>\n",
       "      <td>浦口</td>\n",
       "      <td>69</td>\n",
       "      <td>47</td>\n",
       "    </tr>\n",
       "    <tr>\n",
       "      <th>3</th>\n",
       "      <td>奥体中心</td>\n",
       "      <td>74</td>\n",
       "      <td>40</td>\n",
       "    </tr>\n",
       "    <tr>\n",
       "      <th>4</th>\n",
       "      <td>仙林大学城</td>\n",
       "      <td>58</td>\n",
       "      <td>27</td>\n",
       "    </tr>\n",
       "    <tr>\n",
       "      <th rowspan=\"5\" valign=\"top\">2019-12-07</th>\n",
       "      <th>0</th>\n",
       "      <td>迈皋桥</td>\n",
       "      <td>65</td>\n",
       "      <td>50</td>\n",
       "    </tr>\n",
       "    <tr>\n",
       "      <th>1</th>\n",
       "      <td>草场门</td>\n",
       "      <td>85</td>\n",
       "      <td>74</td>\n",
       "    </tr>\n",
       "    <tr>\n",
       "      <th>2</th>\n",
       "      <td>浦口</td>\n",
       "      <td>79</td>\n",
       "      <td>67</td>\n",
       "    </tr>\n",
       "    <tr>\n",
       "      <th>3</th>\n",
       "      <td>奥体中心</td>\n",
       "      <td>78</td>\n",
       "      <td>60</td>\n",
       "    </tr>\n",
       "    <tr>\n",
       "      <th>4</th>\n",
       "      <td>仙林大学城</td>\n",
       "      <td>78</td>\n",
       "      <td>47</td>\n",
       "    </tr>\n",
       "  </tbody>\n",
       "</table>\n",
       "</div>"
      ],
      "text/plain": [
       "              sites  AQI  PM25\n",
       "2019-12-08 0    迈皋桥   55    30\n",
       "           1    草场门   75    54\n",
       "           2     浦口   69    47\n",
       "           3   奥体中心   74    40\n",
       "           4  仙林大学城   58    27\n",
       "2019-12-07 0    迈皋桥   65    50\n",
       "           1    草场门   85    74\n",
       "           2     浦口   79    67\n",
       "           3   奥体中心   78    60\n",
       "           4  仙林大学城   78    47"
      ]
     },
     "execution_count": 17,
     "metadata": {},
     "output_type": "execute_result"
    }
   ],
   "source": [
    "pd.concat([df_polls, df_polls_new], join=\"inner\", keys=[\"2019-12-08\",\"2019-12-07\"])"
   ]
  },
  {
   "cell_type": "markdown",
   "metadata": {},
   "source": [
    "## groupby 聚合与函数"
   ]
  },
  {
   "cell_type": "raw",
   "metadata": {},
   "source": [
    "对数据集进行聚合与分组，并对分组后的结果分别运算，是数据分析中一个重要的环节"
   ]
  },
  {
   "cell_type": "markdown",
   "metadata": {},
   "source": [
    "### GroupBy和分组运算"
   ]
  },
  {
   "cell_type": "markdown",
   "metadata": {},
   "source": [
    "#### 运算过程详解"
   ]
  },
  {
   "attachments": {
    "image.png": {
     "image/png": "[encoded data removed]"
    }
   },
   "cell_type": "markdown",
   "metadata": {},
   "source": [
    "![image.png](attachment:image.png)"
   ]
  },
  {
   "cell_type": "raw",
   "metadata": {},
   "source": [
    "1）groupby拆分过程：根据提供的数据集以及一个或多个键，可以把数据集按照某一方向拆分为多组。这里我们以第一列为键，在行上进行拆分（方向为axis=0），一共拆分为3组。\n",
    "\n",
    "2）计算：在每一个分组上对值进行计算，并得到一个新值。这里我们是对值进行求和运算。\n",
    "\n",
    "3）合并：把每个分组上计算的结果进行合并（concat运算）,返回最终的结果。"
   ]
  },
  {
   "cell_type": "code",
   "execution_count": 22,
   "metadata": {},
   "outputs": [
    {
     "data": {
      "text/plain": [
       "name\n",
       "A     4\n",
       "B     5\n",
       "C    12\n",
       "Name: value, dtype: int64"
      ]
     },
     "execution_count": 22,
     "metadata": {},
     "output_type": "execute_result"
    }
   ],
   "source": [
    "# 定义数据集\n",
    "df = pd.DataFrame({\"name\":[\"A\", \"B\", \"C\", \"B\", \"C\", \"A\", \"C\"], \"value\":[1, 3, 7, 2, 4, 3, 1]})\n",
    "df.groupby(\"name\")[\"value\"].sum()"
   ]
  },
  {
   "cell_type": "markdown",
   "metadata": {},
   "source": [
    "#### 分组迭代"
   ]
  },
  {
   "cell_type": "code",
   "execution_count": 23,
   "metadata": {},
   "outputs": [
    {
     "data": {
      "text/plain": [
       "<pandas.core.groupby.generic.DataFrameGroupBy object at 0x0000023AC0227648>"
      ]
     },
     "execution_count": 23,
     "metadata": {},
     "output_type": "execute_result"
    }
   ],
   "source": [
    "grouped = df.groupby(\"name\")\n",
    "grouped"
   ]
  },
  {
   "cell_type": "markdown",
   "metadata": {},
   "source": [
    "**方法一:查看Groupby对象**"
   ]
  },
  {
   "cell_type": "code",
   "execution_count": 24,
   "metadata": {},
   "outputs": [
    {
     "name": "stdout",
     "output_type": "stream",
     "text": [
      "A\n",
      "  name  value\n",
      "0    A      1\n",
      "5    A      3\n",
      "#################\n",
      "B\n",
      "  name  value\n",
      "1    B      3\n",
      "3    B      2\n",
      "#################\n",
      "C\n",
      "  name  value\n",
      "2    C      7\n",
      "4    C      4\n",
      "6    C      1\n",
      "#################\n"
     ]
    }
   ],
   "source": [
    "for name, group in grouped:\n",
    "    print(name)\n",
    "    print(group)\n",
    "    print(\"#################\")"
   ]
  },
  {
   "cell_type": "markdown",
   "metadata": {},
   "source": [
    "**方法二:查看Groupby对象**"
   ]
  },
  {
   "cell_type": "code",
   "execution_count": 28,
   "metadata": {},
   "outputs": [
    {
     "data": {
      "text/html": [
       "<div>\n",
       "<style scoped>\n",
       "    .dataframe tbody tr th:only-of-type {\n",
       "        vertical-align: middle;\n",
       "    }\n",
       "\n",
       "    .dataframe tbody tr th {\n",
       "        vertical-align: top;\n",
       "    }\n",
       "\n",
       "    .dataframe thead th {\n",
       "        text-align: right;\n",
       "    }\n",
       "</style>\n",
       "<table border=\"1\" class=\"dataframe\">\n",
       "  <thead>\n",
       "    <tr style=\"text-align: right;\">\n",
       "      <th></th>\n",
       "      <th>name</th>\n",
       "      <th>value</th>\n",
       "    </tr>\n",
       "  </thead>\n",
       "  <tbody>\n",
       "    <tr>\n",
       "      <th>0</th>\n",
       "      <td>A</td>\n",
       "      <td>1</td>\n",
       "    </tr>\n",
       "    <tr>\n",
       "      <th>5</th>\n",
       "      <td>A</td>\n",
       "      <td>3</td>\n",
       "    </tr>\n",
       "  </tbody>\n",
       "</table>\n",
       "</div>"
      ],
      "text/plain": [
       "  name  value\n",
       "0    A      1\n",
       "5    A      3"
      ]
     },
     "execution_count": 28,
     "metadata": {},
     "output_type": "execute_result"
    }
   ],
   "source": [
    "trunk = dict(list(grouped))\n",
    "trunk[\"A\"]"
   ]
  },
  {
   "cell_type": "markdown",
   "metadata": {},
   "source": [
    "#### 计算分析"
   ]
  },
  {
   "cell_type": "raw",
   "metadata": {},
   "source": [
    "经过优化的groupby的方法"
   ]
  },
  {
   "attachments": {
    "image.png": {
     "image/png": "[encoded data removed]"
    }
   },
   "cell_type": "markdown",
   "metadata": {},
   "source": [
    "![image.png](attachment:image.png)"
   ]
  },
  {
   "cell_type": "code",
   "execution_count": 29,
   "metadata": {},
   "outputs": [
    {
     "data": {
      "text/plain": [
       "name\n",
       "A    2.0\n",
       "B    2.5\n",
       "C    4.0\n",
       "Name: value, dtype: float64"
      ]
     },
     "execution_count": 29,
     "metadata": {},
     "output_type": "execute_result"
    }
   ],
   "source": [
    "df.groupby(\"name\")[\"value\"].mean()"
   ]
  },
  {
   "cell_type": "markdown",
   "metadata": {},
   "source": [
    "### 面向列的多函数方法"
   ]
  },
  {
   "cell_type": "code",
   "execution_count": 31,
   "metadata": {},
   "outputs": [],
   "source": [
    "# 通过随机数生成介于50-99分之间的200×5的数据清单\n",
    "frame = pd.DataFrame(np.random.randint(50, 99, size=(200,5)), \n",
    "                     columns=[\"math\", \"english\", \"music\", \"sports\", \"sing\"])\n",
    "# 随机生成200名学生的性别\n",
    "frame[\"sex\"] = np.random.choice([\"femal\", \"male\"], size=200, p=[0.45, 0.55])\n",
    "# 随机生成200名学生的班级\n",
    "frame[\"class\"] = np.random.choice([\"class1\", \"class2\", \"class3\"], size=200, p=[0.35, 0.3, 0.35])"
   ]
  },
  {
   "cell_type": "code",
   "execution_count": 32,
   "metadata": {},
   "outputs": [
    {
     "data": {
      "text/html": [
       "<div>\n",
       "<style scoped>\n",
       "    .dataframe tbody tr th:only-of-type {\n",
       "        vertical-align: middle;\n",
       "    }\n",
       "\n",
       "    .dataframe tbody tr th {\n",
       "        vertical-align: top;\n",
       "    }\n",
       "\n",
       "    .dataframe thead th {\n",
       "        text-align: right;\n",
       "    }\n",
       "</style>\n",
       "<table border=\"1\" class=\"dataframe\">\n",
       "  <thead>\n",
       "    <tr style=\"text-align: right;\">\n",
       "      <th></th>\n",
       "      <th>math</th>\n",
       "      <th>english</th>\n",
       "      <th>music</th>\n",
       "      <th>sports</th>\n",
       "      <th>sing</th>\n",
       "      <th>sex</th>\n",
       "      <th>class</th>\n",
       "    </tr>\n",
       "  </thead>\n",
       "  <tbody>\n",
       "    <tr>\n",
       "      <th>0</th>\n",
       "      <td>57</td>\n",
       "      <td>60</td>\n",
       "      <td>88</td>\n",
       "      <td>66</td>\n",
       "      <td>63</td>\n",
       "      <td>male</td>\n",
       "      <td>class2</td>\n",
       "    </tr>\n",
       "    <tr>\n",
       "      <th>1</th>\n",
       "      <td>98</td>\n",
       "      <td>68</td>\n",
       "      <td>51</td>\n",
       "      <td>65</td>\n",
       "      <td>95</td>\n",
       "      <td>male</td>\n",
       "      <td>class2</td>\n",
       "    </tr>\n",
       "    <tr>\n",
       "      <th>2</th>\n",
       "      <td>98</td>\n",
       "      <td>73</td>\n",
       "      <td>73</td>\n",
       "      <td>77</td>\n",
       "      <td>80</td>\n",
       "      <td>femal</td>\n",
       "      <td>class1</td>\n",
       "    </tr>\n",
       "    <tr>\n",
       "      <th>3</th>\n",
       "      <td>63</td>\n",
       "      <td>66</td>\n",
       "      <td>87</td>\n",
       "      <td>78</td>\n",
       "      <td>51</td>\n",
       "      <td>male</td>\n",
       "      <td>class2</td>\n",
       "    </tr>\n",
       "    <tr>\n",
       "      <th>4</th>\n",
       "      <td>73</td>\n",
       "      <td>75</td>\n",
       "      <td>51</td>\n",
       "      <td>57</td>\n",
       "      <td>59</td>\n",
       "      <td>femal</td>\n",
       "      <td>class3</td>\n",
       "    </tr>\n",
       "  </tbody>\n",
       "</table>\n",
       "</div>"
      ],
      "text/plain": [
       "   math  english  music  sports  sing    sex   class\n",
       "0    57       60     88      66    63   male  class2\n",
       "1    98       68     51      65    95   male  class2\n",
       "2    98       73     73      77    80  femal  class1\n",
       "3    63       66     87      78    51   male  class2\n",
       "4    73       75     51      57    59  femal  class3"
      ]
     },
     "execution_count": 32,
     "metadata": {},
     "output_type": "execute_result"
    }
   ],
   "source": [
    "frame.head()"
   ]
  },
  {
   "cell_type": "raw",
   "metadata": {},
   "source": [
    "按照班级和性别进行分组，一次性查看每个分组下的数学和英语的最大值和最小值。这里推荐一个聚合运算方法aggregate："
   ]
  },
  {
   "cell_type": "code",
   "execution_count": 36,
   "metadata": {},
   "outputs": [
    {
     "data": {
      "text/html": [
       "<div>\n",
       "<style scoped>\n",
       "    .dataframe tbody tr th:only-of-type {\n",
       "        vertical-align: middle;\n",
       "    }\n",
       "\n",
       "    .dataframe tbody tr th {\n",
       "        vertical-align: top;\n",
       "    }\n",
       "\n",
       "    .dataframe thead tr th {\n",
       "        text-align: left;\n",
       "    }\n",
       "\n",
       "    .dataframe thead tr:last-of-type th {\n",
       "        text-align: right;\n",
       "    }\n",
       "</style>\n",
       "<table border=\"1\" class=\"dataframe\">\n",
       "  <thead>\n",
       "    <tr>\n",
       "      <th></th>\n",
       "      <th></th>\n",
       "      <th colspan=\"2\" halign=\"left\">math</th>\n",
       "      <th colspan=\"2\" halign=\"left\">english</th>\n",
       "    </tr>\n",
       "    <tr>\n",
       "      <th></th>\n",
       "      <th></th>\n",
       "      <th>max</th>\n",
       "      <th>min</th>\n",
       "      <th>max</th>\n",
       "      <th>min</th>\n",
       "    </tr>\n",
       "    <tr>\n",
       "      <th>class</th>\n",
       "      <th>sex</th>\n",
       "      <th></th>\n",
       "      <th></th>\n",
       "      <th></th>\n",
       "      <th></th>\n",
       "    </tr>\n",
       "  </thead>\n",
       "  <tbody>\n",
       "    <tr>\n",
       "      <th rowspan=\"2\" valign=\"top\">class1</th>\n",
       "      <th>femal</th>\n",
       "      <td>98</td>\n",
       "      <td>51</td>\n",
       "      <td>98</td>\n",
       "      <td>55</td>\n",
       "    </tr>\n",
       "    <tr>\n",
       "      <th>male</th>\n",
       "      <td>98</td>\n",
       "      <td>51</td>\n",
       "      <td>97</td>\n",
       "      <td>50</td>\n",
       "    </tr>\n",
       "    <tr>\n",
       "      <th rowspan=\"2\" valign=\"top\">class2</th>\n",
       "      <th>femal</th>\n",
       "      <td>97</td>\n",
       "      <td>51</td>\n",
       "      <td>94</td>\n",
       "      <td>50</td>\n",
       "    </tr>\n",
       "    <tr>\n",
       "      <th>male</th>\n",
       "      <td>98</td>\n",
       "      <td>50</td>\n",
       "      <td>98</td>\n",
       "      <td>54</td>\n",
       "    </tr>\n",
       "    <tr>\n",
       "      <th rowspan=\"2\" valign=\"top\">class3</th>\n",
       "      <th>femal</th>\n",
       "      <td>95</td>\n",
       "      <td>54</td>\n",
       "      <td>96</td>\n",
       "      <td>50</td>\n",
       "    </tr>\n",
       "    <tr>\n",
       "      <th>male</th>\n",
       "      <td>98</td>\n",
       "      <td>51</td>\n",
       "      <td>98</td>\n",
       "      <td>50</td>\n",
       "    </tr>\n",
       "  </tbody>\n",
       "</table>\n",
       "</div>"
      ],
      "text/plain": [
       "             math     english    \n",
       "              max min     max min\n",
       "class  sex                       \n",
       "class1 femal   98  51      98  55\n",
       "       male    98  51      97  50\n",
       "class2 femal   97  51      94  50\n",
       "       male    98  50      98  54\n",
       "class3 femal   95  54      96  50\n",
       "       male    98  51      98  50"
      ]
     },
     "execution_count": 36,
     "metadata": {},
     "output_type": "execute_result"
    }
   ],
   "source": [
    "# 需要注意的是，对上文提到的常用统计方法，函数名是以字符串的形式传入的\n",
    "frame.groupby([\"class\",\"sex\"])[[\"math\", \"english\"]].agg([\"max\",\"min\"])"
   ]
  },
  {
   "cell_type": "code",
   "execution_count": 37,
   "metadata": {},
   "outputs": [],
   "source": [
    "# agg()函数也可以接纳自定义的函数名。例如这里我们定义一个最大分差的函数：\n",
    "def max_gap(arr):\n",
    "    return arr.max()-arr.min()"
   ]
  },
  {
   "cell_type": "code",
   "execution_count": 38,
   "metadata": {},
   "outputs": [
    {
     "data": {
      "text/html": [
       "<div>\n",
       "<style scoped>\n",
       "    .dataframe tbody tr th:only-of-type {\n",
       "        vertical-align: middle;\n",
       "    }\n",
       "\n",
       "    .dataframe tbody tr th {\n",
       "        vertical-align: top;\n",
       "    }\n",
       "\n",
       "    .dataframe thead tr th {\n",
       "        text-align: left;\n",
       "    }\n",
       "\n",
       "    .dataframe thead tr:last-of-type th {\n",
       "        text-align: right;\n",
       "    }\n",
       "</style>\n",
       "<table border=\"1\" class=\"dataframe\">\n",
       "  <thead>\n",
       "    <tr>\n",
       "      <th></th>\n",
       "      <th></th>\n",
       "      <th colspan=\"3\" halign=\"left\">math</th>\n",
       "      <th colspan=\"3\" halign=\"left\">english</th>\n",
       "      <th colspan=\"3\" halign=\"left\">music</th>\n",
       "      <th colspan=\"3\" halign=\"left\">sports</th>\n",
       "      <th colspan=\"3\" halign=\"left\">sing</th>\n",
       "    </tr>\n",
       "    <tr>\n",
       "      <th></th>\n",
       "      <th></th>\n",
       "      <th>max</th>\n",
       "      <th>min</th>\n",
       "      <th>max_gap</th>\n",
       "      <th>max</th>\n",
       "      <th>min</th>\n",
       "      <th>max_gap</th>\n",
       "      <th>max</th>\n",
       "      <th>min</th>\n",
       "      <th>max_gap</th>\n",
       "      <th>max</th>\n",
       "      <th>min</th>\n",
       "      <th>max_gap</th>\n",
       "      <th>max</th>\n",
       "      <th>min</th>\n",
       "      <th>max_gap</th>\n",
       "    </tr>\n",
       "    <tr>\n",
       "      <th>class</th>\n",
       "      <th>sex</th>\n",
       "      <th></th>\n",
       "      <th></th>\n",
       "      <th></th>\n",
       "      <th></th>\n",
       "      <th></th>\n",
       "      <th></th>\n",
       "      <th></th>\n",
       "      <th></th>\n",
       "      <th></th>\n",
       "      <th></th>\n",
       "      <th></th>\n",
       "      <th></th>\n",
       "      <th></th>\n",
       "      <th></th>\n",
       "      <th></th>\n",
       "    </tr>\n",
       "  </thead>\n",
       "  <tbody>\n",
       "    <tr>\n",
       "      <th rowspan=\"2\" valign=\"top\">class1</th>\n",
       "      <th>femal</th>\n",
       "      <td>98</td>\n",
       "      <td>51</td>\n",
       "      <td>47</td>\n",
       "      <td>98</td>\n",
       "      <td>55</td>\n",
       "      <td>43</td>\n",
       "      <td>97</td>\n",
       "      <td>51</td>\n",
       "      <td>46</td>\n",
       "      <td>98</td>\n",
       "      <td>50</td>\n",
       "      <td>48</td>\n",
       "      <td>98</td>\n",
       "      <td>50</td>\n",
       "      <td>48</td>\n",
       "    </tr>\n",
       "    <tr>\n",
       "      <th>male</th>\n",
       "      <td>98</td>\n",
       "      <td>51</td>\n",
       "      <td>47</td>\n",
       "      <td>97</td>\n",
       "      <td>50</td>\n",
       "      <td>47</td>\n",
       "      <td>98</td>\n",
       "      <td>55</td>\n",
       "      <td>43</td>\n",
       "      <td>97</td>\n",
       "      <td>51</td>\n",
       "      <td>46</td>\n",
       "      <td>97</td>\n",
       "      <td>50</td>\n",
       "      <td>47</td>\n",
       "    </tr>\n",
       "    <tr>\n",
       "      <th rowspan=\"2\" valign=\"top\">class2</th>\n",
       "      <th>femal</th>\n",
       "      <td>97</td>\n",
       "      <td>51</td>\n",
       "      <td>46</td>\n",
       "      <td>94</td>\n",
       "      <td>50</td>\n",
       "      <td>44</td>\n",
       "      <td>91</td>\n",
       "      <td>50</td>\n",
       "      <td>41</td>\n",
       "      <td>98</td>\n",
       "      <td>51</td>\n",
       "      <td>47</td>\n",
       "      <td>98</td>\n",
       "      <td>51</td>\n",
       "      <td>47</td>\n",
       "    </tr>\n",
       "    <tr>\n",
       "      <th>male</th>\n",
       "      <td>98</td>\n",
       "      <td>50</td>\n",
       "      <td>48</td>\n",
       "      <td>98</td>\n",
       "      <td>54</td>\n",
       "      <td>44</td>\n",
       "      <td>98</td>\n",
       "      <td>51</td>\n",
       "      <td>47</td>\n",
       "      <td>96</td>\n",
       "      <td>50</td>\n",
       "      <td>46</td>\n",
       "      <td>95</td>\n",
       "      <td>50</td>\n",
       "      <td>45</td>\n",
       "    </tr>\n",
       "    <tr>\n",
       "      <th rowspan=\"2\" valign=\"top\">class3</th>\n",
       "      <th>femal</th>\n",
       "      <td>95</td>\n",
       "      <td>54</td>\n",
       "      <td>41</td>\n",
       "      <td>96</td>\n",
       "      <td>50</td>\n",
       "      <td>46</td>\n",
       "      <td>96</td>\n",
       "      <td>51</td>\n",
       "      <td>45</td>\n",
       "      <td>98</td>\n",
       "      <td>50</td>\n",
       "      <td>48</td>\n",
       "      <td>98</td>\n",
       "      <td>55</td>\n",
       "      <td>43</td>\n",
       "    </tr>\n",
       "    <tr>\n",
       "      <th>male</th>\n",
       "      <td>98</td>\n",
       "      <td>51</td>\n",
       "      <td>47</td>\n",
       "      <td>98</td>\n",
       "      <td>50</td>\n",
       "      <td>48</td>\n",
       "      <td>98</td>\n",
       "      <td>51</td>\n",
       "      <td>47</td>\n",
       "      <td>98</td>\n",
       "      <td>50</td>\n",
       "      <td>48</td>\n",
       "      <td>98</td>\n",
       "      <td>50</td>\n",
       "      <td>48</td>\n",
       "    </tr>\n",
       "  </tbody>\n",
       "</table>\n",
       "</div>"
      ],
      "text/plain": [
       "             math             english             music             sports  \\\n",
       "              max min max_gap     max min max_gap   max min max_gap    max   \n",
       "class  sex                                                                   \n",
       "class1 femal   98  51      47      98  55      43    97  51      46     98   \n",
       "       male    98  51      47      97  50      47    98  55      43     97   \n",
       "class2 femal   97  51      46      94  50      44    91  50      41     98   \n",
       "       male    98  50      48      98  54      44    98  51      47     96   \n",
       "class3 femal   95  54      41      96  50      46    96  51      45     98   \n",
       "       male    98  51      47      98  50      48    98  51      47     98   \n",
       "\n",
       "                         sing              \n",
       "             min max_gap  max min max_gap  \n",
       "class  sex                                 \n",
       "class1 femal  50      48   98  50      48  \n",
       "       male   51      46   97  50      47  \n",
       "class2 femal  51      47   98  51      47  \n",
       "       male   50      46   95  50      45  \n",
       "class3 femal  50      48   98  55      43  \n",
       "       male   50      48   98  50      48  "
      ]
     },
     "execution_count": 38,
     "metadata": {},
     "output_type": "execute_result"
    }
   ],
   "source": [
    "# 一次性查看全部科目的最高分、最低分、最大分差\n",
    "# 注意：这里传入函数名，需要与字符串传递的方式区分开来\n",
    "frame.groupby([\"class\", \"sex\"]).agg([\"max\", \"min\", max_gap])"
   ]
  },
  {
   "cell_type": "raw",
   "metadata": {},
   "source": [
    "对具体列定义不同的方法。比如对于数学，我们最关注的是最高分，对于音乐，我们最关注的是最大分差。这种情况下，在agg()方法中传入一个列名和方法组成的字典即可："
   ]
  },
  {
   "cell_type": "code",
   "execution_count": 39,
   "metadata": {},
   "outputs": [
    {
     "data": {
      "text/html": [
       "<div>\n",
       "<style scoped>\n",
       "    .dataframe tbody tr th:only-of-type {\n",
       "        vertical-align: middle;\n",
       "    }\n",
       "\n",
       "    .dataframe tbody tr th {\n",
       "        vertical-align: top;\n",
       "    }\n",
       "\n",
       "    .dataframe thead th {\n",
       "        text-align: right;\n",
       "    }\n",
       "</style>\n",
       "<table border=\"1\" class=\"dataframe\">\n",
       "  <thead>\n",
       "    <tr style=\"text-align: right;\">\n",
       "      <th></th>\n",
       "      <th></th>\n",
       "      <th>math</th>\n",
       "      <th>sing</th>\n",
       "    </tr>\n",
       "    <tr>\n",
       "      <th>class</th>\n",
       "      <th>sex</th>\n",
       "      <th></th>\n",
       "      <th></th>\n",
       "    </tr>\n",
       "  </thead>\n",
       "  <tbody>\n",
       "    <tr>\n",
       "      <th rowspan=\"2\" valign=\"top\">class1</th>\n",
       "      <th>femal</th>\n",
       "      <td>98</td>\n",
       "      <td>48</td>\n",
       "    </tr>\n",
       "    <tr>\n",
       "      <th>male</th>\n",
       "      <td>98</td>\n",
       "      <td>47</td>\n",
       "    </tr>\n",
       "    <tr>\n",
       "      <th rowspan=\"2\" valign=\"top\">class2</th>\n",
       "      <th>femal</th>\n",
       "      <td>97</td>\n",
       "      <td>47</td>\n",
       "    </tr>\n",
       "    <tr>\n",
       "      <th>male</th>\n",
       "      <td>98</td>\n",
       "      <td>45</td>\n",
       "    </tr>\n",
       "    <tr>\n",
       "      <th rowspan=\"2\" valign=\"top\">class3</th>\n",
       "      <th>femal</th>\n",
       "      <td>95</td>\n",
       "      <td>43</td>\n",
       "    </tr>\n",
       "    <tr>\n",
       "      <th>male</th>\n",
       "      <td>98</td>\n",
       "      <td>48</td>\n",
       "    </tr>\n",
       "  </tbody>\n",
       "</table>\n",
       "</div>"
      ],
      "text/plain": [
       "              math  sing\n",
       "class  sex              \n",
       "class1 femal    98    48\n",
       "       male     98    47\n",
       "class2 femal    97    47\n",
       "       male     98    45\n",
       "class3 femal    95    43\n",
       "       male     98    48"
      ]
     },
     "execution_count": 39,
     "metadata": {},
     "output_type": "execute_result"
    }
   ],
   "source": [
    "frame.groupby([\"class\", \"sex\"])[[\"math\", \"sing\"]].agg({\"math\":\"max\", \"sing\":max_gap})"
   ]
  },
  {
   "cell_type": "markdown",
   "metadata": {},
   "source": [
    "### apply：更具一般性的自定义聚合方法"
   ]
  },
  {
   "cell_type": "raw",
   "metadata": {},
   "source": [
    "apply()方法则是更加一般的GroupBy方法，apply方法会将每个分组的数据结果代入传入的函数，再把各个分组的结果合并到一起。"
   ]
  },
  {
   "cell_type": "markdown",
   "metadata": {},
   "source": [
    "#### 常规用法"
   ]
  },
  {
   "cell_type": "raw",
   "metadata": {},
   "source": [
    "对上述产生的200位学生的成绩，我想看一看每个班级数学最高分代表的男生代表和女生代表的全科成绩："
   ]
  },
  {
   "cell_type": "code",
   "execution_count": 40,
   "metadata": {},
   "outputs": [
    {
     "data": {
      "text/html": [
       "<div>\n",
       "<style scoped>\n",
       "    .dataframe tbody tr th:only-of-type {\n",
       "        vertical-align: middle;\n",
       "    }\n",
       "\n",
       "    .dataframe tbody tr th {\n",
       "        vertical-align: top;\n",
       "    }\n",
       "\n",
       "    .dataframe thead th {\n",
       "        text-align: right;\n",
       "    }\n",
       "</style>\n",
       "<table border=\"1\" class=\"dataframe\">\n",
       "  <thead>\n",
       "    <tr style=\"text-align: right;\">\n",
       "      <th></th>\n",
       "      <th></th>\n",
       "      <th></th>\n",
       "      <th>math</th>\n",
       "      <th>english</th>\n",
       "      <th>music</th>\n",
       "      <th>sports</th>\n",
       "      <th>sing</th>\n",
       "      <th>sex</th>\n",
       "      <th>class</th>\n",
       "    </tr>\n",
       "    <tr>\n",
       "      <th>class</th>\n",
       "      <th>sex</th>\n",
       "      <th></th>\n",
       "      <th></th>\n",
       "      <th></th>\n",
       "      <th></th>\n",
       "      <th></th>\n",
       "      <th></th>\n",
       "      <th></th>\n",
       "      <th></th>\n",
       "    </tr>\n",
       "  </thead>\n",
       "  <tbody>\n",
       "    <tr>\n",
       "      <th rowspan=\"2\" valign=\"top\">class1</th>\n",
       "      <th>femal</th>\n",
       "      <th>2</th>\n",
       "      <td>98</td>\n",
       "      <td>73</td>\n",
       "      <td>73</td>\n",
       "      <td>77</td>\n",
       "      <td>80</td>\n",
       "      <td>femal</td>\n",
       "      <td>class1</td>\n",
       "    </tr>\n",
       "    <tr>\n",
       "      <th>male</th>\n",
       "      <th>57</th>\n",
       "      <td>98</td>\n",
       "      <td>62</td>\n",
       "      <td>87</td>\n",
       "      <td>85</td>\n",
       "      <td>50</td>\n",
       "      <td>male</td>\n",
       "      <td>class1</td>\n",
       "    </tr>\n",
       "    <tr>\n",
       "      <th rowspan=\"2\" valign=\"top\">class2</th>\n",
       "      <th>femal</th>\n",
       "      <th>63</th>\n",
       "      <td>97</td>\n",
       "      <td>70</td>\n",
       "      <td>84</td>\n",
       "      <td>97</td>\n",
       "      <td>88</td>\n",
       "      <td>femal</td>\n",
       "      <td>class2</td>\n",
       "    </tr>\n",
       "    <tr>\n",
       "      <th>male</th>\n",
       "      <th>1</th>\n",
       "      <td>98</td>\n",
       "      <td>68</td>\n",
       "      <td>51</td>\n",
       "      <td>65</td>\n",
       "      <td>95</td>\n",
       "      <td>male</td>\n",
       "      <td>class2</td>\n",
       "    </tr>\n",
       "    <tr>\n",
       "      <th rowspan=\"2\" valign=\"top\">class3</th>\n",
       "      <th>femal</th>\n",
       "      <th>6</th>\n",
       "      <td>95</td>\n",
       "      <td>75</td>\n",
       "      <td>79</td>\n",
       "      <td>97</td>\n",
       "      <td>92</td>\n",
       "      <td>femal</td>\n",
       "      <td>class3</td>\n",
       "    </tr>\n",
       "    <tr>\n",
       "      <th>male</th>\n",
       "      <th>49</th>\n",
       "      <td>98</td>\n",
       "      <td>71</td>\n",
       "      <td>63</td>\n",
       "      <td>69</td>\n",
       "      <td>97</td>\n",
       "      <td>male</td>\n",
       "      <td>class3</td>\n",
       "    </tr>\n",
       "  </tbody>\n",
       "</table>\n",
       "</div>"
      ],
      "text/plain": [
       "                 math  english  music  sports  sing    sex   class\n",
       "class  sex                                                        \n",
       "class1 femal 2     98       73     73      77    80  femal  class1\n",
       "       male  57    98       62     87      85    50   male  class1\n",
       "class2 femal 63    97       70     84      97    88  femal  class2\n",
       "       male  1     98       68     51      65    95   male  class2\n",
       "class3 femal 6     95       75     79      97    92  femal  class3\n",
       "       male  49    98       71     63      69    97   male  class3"
      ]
     },
     "execution_count": 40,
     "metadata": {},
     "output_type": "execute_result"
    }
   ],
   "source": [
    "# 定义top函数，可以查看xx科目的最高分，并返回最高分的学生的全部成绩\n",
    "# n 表示选择TOP n\n",
    "def top(grade, n=1, subject=\"math\"):\n",
    "    return grade.sort_values(by=subject, ascending=False)[:n]\n",
    "# 查看 数学最高分的学生的全部成绩\n",
    "frame.groupby([\"class\", \"sex\"]).apply(top, 1, \"math\")"
   ]
  },
  {
   "cell_type": "code",
   "execution_count": 41,
   "metadata": {},
   "outputs": [
    {
     "data": {
      "text/html": [
       "<div>\n",
       "<style scoped>\n",
       "    .dataframe tbody tr th:only-of-type {\n",
       "        vertical-align: middle;\n",
       "    }\n",
       "\n",
       "    .dataframe tbody tr th {\n",
       "        vertical-align: top;\n",
       "    }\n",
       "\n",
       "    .dataframe thead th {\n",
       "        text-align: right;\n",
       "    }\n",
       "</style>\n",
       "<table border=\"1\" class=\"dataframe\">\n",
       "  <thead>\n",
       "    <tr style=\"text-align: right;\">\n",
       "      <th></th>\n",
       "      <th></th>\n",
       "      <th></th>\n",
       "      <th>math</th>\n",
       "      <th>english</th>\n",
       "      <th>music</th>\n",
       "      <th>sports</th>\n",
       "      <th>sing</th>\n",
       "      <th>sex</th>\n",
       "      <th>class</th>\n",
       "    </tr>\n",
       "    <tr>\n",
       "      <th>class</th>\n",
       "      <th>sex</th>\n",
       "      <th></th>\n",
       "      <th></th>\n",
       "      <th></th>\n",
       "      <th></th>\n",
       "      <th></th>\n",
       "      <th></th>\n",
       "      <th></th>\n",
       "      <th></th>\n",
       "    </tr>\n",
       "  </thead>\n",
       "  <tbody>\n",
       "    <tr>\n",
       "      <th rowspan=\"6\" valign=\"top\">class1</th>\n",
       "      <th rowspan=\"3\" valign=\"top\">femal</th>\n",
       "      <th>12</th>\n",
       "      <td>96</td>\n",
       "      <td>98</td>\n",
       "      <td>94</td>\n",
       "      <td>86</td>\n",
       "      <td>66</td>\n",
       "      <td>femal</td>\n",
       "      <td>class1</td>\n",
       "    </tr>\n",
       "    <tr>\n",
       "      <th>146</th>\n",
       "      <td>62</td>\n",
       "      <td>97</td>\n",
       "      <td>59</td>\n",
       "      <td>75</td>\n",
       "      <td>88</td>\n",
       "      <td>femal</td>\n",
       "      <td>class1</td>\n",
       "    </tr>\n",
       "    <tr>\n",
       "      <th>103</th>\n",
       "      <td>94</td>\n",
       "      <td>96</td>\n",
       "      <td>97</td>\n",
       "      <td>61</td>\n",
       "      <td>86</td>\n",
       "      <td>femal</td>\n",
       "      <td>class1</td>\n",
       "    </tr>\n",
       "    <tr>\n",
       "      <th rowspan=\"3\" valign=\"top\">male</th>\n",
       "      <th>108</th>\n",
       "      <td>78</td>\n",
       "      <td>97</td>\n",
       "      <td>98</td>\n",
       "      <td>97</td>\n",
       "      <td>80</td>\n",
       "      <td>male</td>\n",
       "      <td>class1</td>\n",
       "    </tr>\n",
       "    <tr>\n",
       "      <th>100</th>\n",
       "      <td>67</td>\n",
       "      <td>94</td>\n",
       "      <td>60</td>\n",
       "      <td>90</td>\n",
       "      <td>65</td>\n",
       "      <td>male</td>\n",
       "      <td>class1</td>\n",
       "    </tr>\n",
       "    <tr>\n",
       "      <th>47</th>\n",
       "      <td>66</td>\n",
       "      <td>91</td>\n",
       "      <td>81</td>\n",
       "      <td>95</td>\n",
       "      <td>90</td>\n",
       "      <td>male</td>\n",
       "      <td>class1</td>\n",
       "    </tr>\n",
       "    <tr>\n",
       "      <th rowspan=\"6\" valign=\"top\">class2</th>\n",
       "      <th rowspan=\"3\" valign=\"top\">femal</th>\n",
       "      <th>61</th>\n",
       "      <td>82</td>\n",
       "      <td>94</td>\n",
       "      <td>51</td>\n",
       "      <td>95</td>\n",
       "      <td>70</td>\n",
       "      <td>femal</td>\n",
       "      <td>class2</td>\n",
       "    </tr>\n",
       "    <tr>\n",
       "      <th>94</th>\n",
       "      <td>54</td>\n",
       "      <td>91</td>\n",
       "      <td>55</td>\n",
       "      <td>82</td>\n",
       "      <td>52</td>\n",
       "      <td>femal</td>\n",
       "      <td>class2</td>\n",
       "    </tr>\n",
       "    <tr>\n",
       "      <th>104</th>\n",
       "      <td>93</td>\n",
       "      <td>91</td>\n",
       "      <td>71</td>\n",
       "      <td>53</td>\n",
       "      <td>67</td>\n",
       "      <td>femal</td>\n",
       "      <td>class2</td>\n",
       "    </tr>\n",
       "    <tr>\n",
       "      <th rowspan=\"3\" valign=\"top\">male</th>\n",
       "      <th>86</th>\n",
       "      <td>90</td>\n",
       "      <td>98</td>\n",
       "      <td>91</td>\n",
       "      <td>92</td>\n",
       "      <td>61</td>\n",
       "      <td>male</td>\n",
       "      <td>class2</td>\n",
       "    </tr>\n",
       "    <tr>\n",
       "      <th>28</th>\n",
       "      <td>68</td>\n",
       "      <td>98</td>\n",
       "      <td>52</td>\n",
       "      <td>80</td>\n",
       "      <td>50</td>\n",
       "      <td>male</td>\n",
       "      <td>class2</td>\n",
       "    </tr>\n",
       "    <tr>\n",
       "      <th>93</th>\n",
       "      <td>89</td>\n",
       "      <td>96</td>\n",
       "      <td>64</td>\n",
       "      <td>96</td>\n",
       "      <td>83</td>\n",
       "      <td>male</td>\n",
       "      <td>class2</td>\n",
       "    </tr>\n",
       "    <tr>\n",
       "      <th rowspan=\"6\" valign=\"top\">class3</th>\n",
       "      <th rowspan=\"3\" valign=\"top\">femal</th>\n",
       "      <th>172</th>\n",
       "      <td>77</td>\n",
       "      <td>96</td>\n",
       "      <td>81</td>\n",
       "      <td>51</td>\n",
       "      <td>93</td>\n",
       "      <td>femal</td>\n",
       "      <td>class3</td>\n",
       "    </tr>\n",
       "    <tr>\n",
       "      <th>105</th>\n",
       "      <td>91</td>\n",
       "      <td>92</td>\n",
       "      <td>92</td>\n",
       "      <td>81</td>\n",
       "      <td>97</td>\n",
       "      <td>femal</td>\n",
       "      <td>class3</td>\n",
       "    </tr>\n",
       "    <tr>\n",
       "      <th>74</th>\n",
       "      <td>65</td>\n",
       "      <td>92</td>\n",
       "      <td>86</td>\n",
       "      <td>89</td>\n",
       "      <td>93</td>\n",
       "      <td>femal</td>\n",
       "      <td>class3</td>\n",
       "    </tr>\n",
       "    <tr>\n",
       "      <th rowspan=\"3\" valign=\"top\">male</th>\n",
       "      <th>150</th>\n",
       "      <td>94</td>\n",
       "      <td>98</td>\n",
       "      <td>86</td>\n",
       "      <td>58</td>\n",
       "      <td>64</td>\n",
       "      <td>male</td>\n",
       "      <td>class3</td>\n",
       "    </tr>\n",
       "    <tr>\n",
       "      <th>158</th>\n",
       "      <td>51</td>\n",
       "      <td>97</td>\n",
       "      <td>69</td>\n",
       "      <td>94</td>\n",
       "      <td>52</td>\n",
       "      <td>male</td>\n",
       "      <td>class3</td>\n",
       "    </tr>\n",
       "    <tr>\n",
       "      <th>51</th>\n",
       "      <td>57</td>\n",
       "      <td>94</td>\n",
       "      <td>59</td>\n",
       "      <td>71</td>\n",
       "      <td>98</td>\n",
       "      <td>male</td>\n",
       "      <td>class3</td>\n",
       "    </tr>\n",
       "  </tbody>\n",
       "</table>\n",
       "</div>"
      ],
      "text/plain": [
       "                  math  english  music  sports  sing    sex   class\n",
       "class  sex                                                         \n",
       "class1 femal 12     96       98     94      86    66  femal  class1\n",
       "             146    62       97     59      75    88  femal  class1\n",
       "             103    94       96     97      61    86  femal  class1\n",
       "       male  108    78       97     98      97    80   male  class1\n",
       "             100    67       94     60      90    65   male  class1\n",
       "             47     66       91     81      95    90   male  class1\n",
       "class2 femal 61     82       94     51      95    70  femal  class2\n",
       "             94     54       91     55      82    52  femal  class2\n",
       "             104    93       91     71      53    67  femal  class2\n",
       "       male  86     90       98     91      92    61   male  class2\n",
       "             28     68       98     52      80    50   male  class2\n",
       "             93     89       96     64      96    83   male  class2\n",
       "class3 femal 172    77       96     81      51    93  femal  class3\n",
       "             105    91       92     92      81    97  femal  class3\n",
       "             74     65       92     86      89    93  femal  class3\n",
       "       male  150    94       98     86      58    64   male  class3\n",
       "             158    51       97     69      94    52   male  class3\n",
       "             51     57       94     59      71    98   male  class3"
      ]
     },
     "execution_count": 41,
     "metadata": {},
     "output_type": "execute_result"
    }
   ],
   "source": [
    "frame.groupby([\"class\", \"sex\"]).apply(top, 3, \"english\")"
   ]
  },
  {
   "cell_type": "markdown",
   "metadata": {},
   "source": [
    "#### 高级用法"
   ]
  },
  {
   "cell_type": "raw",
   "metadata": {},
   "source": [
    "返回一个自定义的字典格式，来实现复杂的运算。例如我们希望同时查看数学的最高分、最低分、以及最大分差："
   ]
  },
  {
   "cell_type": "code",
   "execution_count": 42,
   "metadata": {},
   "outputs": [
    {
     "data": {
      "text/html": [
       "<div>\n",
       "<style scoped>\n",
       "    .dataframe tbody tr th:only-of-type {\n",
       "        vertical-align: middle;\n",
       "    }\n",
       "\n",
       "    .dataframe tbody tr th {\n",
       "        vertical-align: top;\n",
       "    }\n",
       "\n",
       "    .dataframe thead th {\n",
       "        text-align: right;\n",
       "    }\n",
       "</style>\n",
       "<table border=\"1\" class=\"dataframe\">\n",
       "  <thead>\n",
       "    <tr style=\"text-align: right;\">\n",
       "      <th></th>\n",
       "      <th></th>\n",
       "      <th>max</th>\n",
       "      <th>min</th>\n",
       "      <th>gap</th>\n",
       "    </tr>\n",
       "    <tr>\n",
       "      <th>class</th>\n",
       "      <th>sex</th>\n",
       "      <th></th>\n",
       "      <th></th>\n",
       "      <th></th>\n",
       "    </tr>\n",
       "  </thead>\n",
       "  <tbody>\n",
       "    <tr>\n",
       "      <th rowspan=\"2\" valign=\"top\">class1</th>\n",
       "      <th>femal</th>\n",
       "      <td>98</td>\n",
       "      <td>51</td>\n",
       "      <td>47</td>\n",
       "    </tr>\n",
       "    <tr>\n",
       "      <th>male</th>\n",
       "      <td>98</td>\n",
       "      <td>51</td>\n",
       "      <td>47</td>\n",
       "    </tr>\n",
       "    <tr>\n",
       "      <th rowspan=\"2\" valign=\"top\">class2</th>\n",
       "      <th>femal</th>\n",
       "      <td>97</td>\n",
       "      <td>51</td>\n",
       "      <td>46</td>\n",
       "    </tr>\n",
       "    <tr>\n",
       "      <th>male</th>\n",
       "      <td>98</td>\n",
       "      <td>50</td>\n",
       "      <td>48</td>\n",
       "    </tr>\n",
       "    <tr>\n",
       "      <th rowspan=\"2\" valign=\"top\">class3</th>\n",
       "      <th>femal</th>\n",
       "      <td>95</td>\n",
       "      <td>54</td>\n",
       "      <td>41</td>\n",
       "    </tr>\n",
       "    <tr>\n",
       "      <th>male</th>\n",
       "      <td>98</td>\n",
       "      <td>51</td>\n",
       "      <td>47</td>\n",
       "    </tr>\n",
       "  </tbody>\n",
       "</table>\n",
       "</div>"
      ],
      "text/plain": [
       "              max  min  gap\n",
       "class  sex                 \n",
       "class1 femal   98   51   47\n",
       "       male    98   51   47\n",
       "class2 femal   97   51   46\n",
       "       male    98   50   48\n",
       "class3 femal   95   54   41\n",
       "       male    98   51   47"
      ]
     },
     "execution_count": 42,
     "metadata": {},
     "output_type": "execute_result"
    }
   ],
   "source": [
    "def rule(group):\n",
    "    _max = group.max()\n",
    "    _min = group.min()\n",
    "    return {\"max\": _max, \"min\": _min, \"gap\": _max-_min}\n",
    "# 注意，这里需要用unstak方法，把堆叠格式的数据转换成表格形式\n",
    "frame.groupby([\"class\", \"sex\"])[\"math\"].apply(rule).unstack()"
   ]
  },
  {
   "cell_type": "markdown",
   "metadata": {},
   "source": [
    "#### 案例分析一"
   ]
  },
  {
   "cell_type": "code",
   "execution_count": 43,
   "metadata": {},
   "outputs": [],
   "source": [
    "data = pd.DataFrame(np.random.randn(12), index=[\"A\", \"B\", \"c\"]*4)\n",
    "data.iloc[1] = np.nan\n",
    "data.iloc[5] = np.nan\n",
    "data.iloc[10] = np.nan"
   ]
  },
  {
   "cell_type": "code",
   "execution_count": 44,
   "metadata": {},
   "outputs": [
    {
     "data": {
      "text/html": [
       "<div>\n",
       "<style scoped>\n",
       "    .dataframe tbody tr th:only-of-type {\n",
       "        vertical-align: middle;\n",
       "    }\n",
       "\n",
       "    .dataframe tbody tr th {\n",
       "        vertical-align: top;\n",
       "    }\n",
       "\n",
       "    .dataframe thead th {\n",
       "        text-align: right;\n",
       "    }\n",
       "</style>\n",
       "<table border=\"1\" class=\"dataframe\">\n",
       "  <thead>\n",
       "    <tr style=\"text-align: right;\">\n",
       "      <th></th>\n",
       "      <th>0</th>\n",
       "    </tr>\n",
       "  </thead>\n",
       "  <tbody>\n",
       "    <tr>\n",
       "      <th>A</th>\n",
       "      <td>-0.966653</td>\n",
       "    </tr>\n",
       "    <tr>\n",
       "      <th>A</th>\n",
       "      <td>0.123747</td>\n",
       "    </tr>\n",
       "    <tr>\n",
       "      <th>A</th>\n",
       "      <td>-0.289759</td>\n",
       "    </tr>\n",
       "    <tr>\n",
       "      <th>A</th>\n",
       "      <td>-0.370336</td>\n",
       "    </tr>\n",
       "    <tr>\n",
       "      <th>B</th>\n",
       "      <td>0.485942</td>\n",
       "    </tr>\n",
       "    <tr>\n",
       "      <th>B</th>\n",
       "      <td>1.661449</td>\n",
       "    </tr>\n",
       "    <tr>\n",
       "      <th>B</th>\n",
       "      <td>-0.689565</td>\n",
       "    </tr>\n",
       "    <tr>\n",
       "      <th>B</th>\n",
       "      <td>0.485942</td>\n",
       "    </tr>\n",
       "    <tr>\n",
       "      <th>c</th>\n",
       "      <td>0.083756</td>\n",
       "    </tr>\n",
       "    <tr>\n",
       "      <th>c</th>\n",
       "      <td>0.312287</td>\n",
       "    </tr>\n",
       "    <tr>\n",
       "      <th>c</th>\n",
       "      <td>0.061117</td>\n",
       "    </tr>\n",
       "    <tr>\n",
       "      <th>c</th>\n",
       "      <td>0.791988</td>\n",
       "    </tr>\n",
       "  </tbody>\n",
       "</table>\n",
       "</div>"
      ],
      "text/plain": [
       "          0\n",
       "A -0.966653\n",
       "A  0.123747\n",
       "A -0.289759\n",
       "A -0.370336\n",
       "B  0.485942\n",
       "B  1.661449\n",
       "B -0.689565\n",
       "B  0.485942\n",
       "c  0.083756\n",
       "c  0.312287\n",
       "c  0.061117\n",
       "c  0.791988"
      ]
     },
     "execution_count": 44,
     "metadata": {},
     "output_type": "execute_result"
    }
   ],
   "source": [
    "# 按照分组的均值进行填充\n",
    "# group_keys用来禁止显示分组键\n",
    "data.groupby(data.index, group_keys=False).apply(lambda g:g.fillna(g.mean()))"
   ]
  },
  {
   "cell_type": "code",
   "execution_count": null,
   "metadata": {},
   "outputs": [],
   "source": []
  }
 ],
 "metadata": {
  "kernelspec": {
   "display_name": "Python 3",
   "language": "python",
   "name": "python3"
  },
  "language_info": {
   "codemirror_mode": {
    "name": "ipython",
    "version": 3
   },
   "file_extension": ".py",
   "mimetype": "text/x-python",
   "name": "python",
   "nbconvert_exporter": "python",
   "pygments_lexer": "ipython3",
   "version": "3.7.6"
  },
  "toc": {
   "base_numbering": 1,
   "nav_menu": {},
   "number_sections": true,
   "sideBar": true,
   "skip_h1_title": false,
   "title_cell": "Table of Contents",
   "title_sidebar": "Contents",
   "toc_cell": false,
   "toc_position": {
    "height": "calc(100% - 180px)",
    "left": "10px",
    "top": "150px",
    "width": "259px"
   },
   "toc_section_display": true,
   "toc_window_display": true
  }
 },
 "nbformat": 4,
 "nbformat_minor": 1
}
