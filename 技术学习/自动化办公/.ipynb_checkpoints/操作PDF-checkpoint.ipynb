{
 "cells": [
  {
   "cell_type": "code",
   "execution_count": 1,
   "metadata": {
    "ExecuteTime": {
     "end_time": "2020-11-08T08:42:15.856893Z",
     "start_time": "2020-11-08T08:42:15.835383Z"
    }
   },
   "outputs": [],
   "source": [
    "from PyPDF2 import PdfFileReader,PdfFileWriter\n",
    "import glob"
   ]
  },
  {
   "cell_type": "markdown",
   "metadata": {},
   "source": [
    "### 合并PDF文件"
   ]
  },
  {
   "cell_type": "code",
   "execution_count": 2,
   "metadata": {
    "ExecuteTime": {
     "end_time": "2020-11-08T08:42:16.976199Z",
     "start_time": "2020-11-08T08:42:16.970200Z"
    }
   },
   "outputs": [],
   "source": [
    "path = r\"F:\\python数据\\PDF\"\n",
    "pdf_writer = PdfFileWriter()"
   ]
  },
  {
   "cell_type": "code",
   "execution_count": 3,
   "metadata": {
    "ExecuteTime": {
     "end_time": "2020-11-08T08:42:18.212180Z",
     "start_time": "2020-11-08T08:42:18.208183Z"
    }
   },
   "outputs": [],
   "source": [
    "# # 方法一\n",
    "# for i in range(1, 3):\n",
    "#     pdf_reader = PdfFileReader(path + f'\\{i}.pdf')\n",
    "#     for j in range(pdf_reader.getNumPages()):\n",
    "#         pdf_writer.addPage(pdf_reader.getPage(j))\n",
    "# with open(path + f'\\合并文件夹\\merge.pdf', 'wb') as out:\n",
    "#     pdf_writer.write(out)"
   ]
  },
  {
   "cell_type": "markdown",
   "metadata": {},
   "source": [
    "### 加密"
   ]
  },
  {
   "cell_type": "code",
   "execution_count": 4,
   "metadata": {
    "ExecuteTime": {
     "end_time": "2020-11-08T08:42:19.584928Z",
     "start_time": "2020-11-08T08:42:18.933371Z"
    }
   },
   "outputs": [],
   "source": [
    "# 方法二\n",
    "for file in glob.glob(path + f\"\\*.pdf\"):\n",
    "    pdf_reader = PdfFileReader(file)\n",
    "    for j in range(pdf_reader.getNumPages()):\n",
    "        pdf_writer.addPage(pdf_reader.getPage(j))\n",
    "pdf_writer.encrypt(\"123456\")\n",
    "with open(path + f'\\合并文件夹\\merge.pdf', 'wb') as out:\n",
    "    pdf_writer.write(out)"
   ]
  },
  {
   "cell_type": "markdown",
   "metadata": {},
   "source": [
    "### PDF文件拆分"
   ]
  },
  {
   "cell_type": "code",
   "execution_count": 32,
   "metadata": {
    "ExecuteTime": {
     "end_time": "2020-11-08T08:18:44.751169Z",
     "start_time": "2020-11-08T08:18:44.720142Z"
    }
   },
   "outputs": [
    {
     "name": "stderr",
     "output_type": "stream",
     "text": [
      "PdfReadWarning: Xref table not zero-indexed. ID numbers for objects will be corrected. [pdf.py:1736]\n"
     ]
    }
   ],
   "source": [
    "path = r\"F:\\python数据\\PDF\"\n",
    "pdf_reader = PdfFileReader(path + f'\\第三阶段上手敲代码.pdf')"
   ]
  },
  {
   "cell_type": "code",
   "execution_count": 33,
   "metadata": {
    "ExecuteTime": {
     "end_time": "2020-11-08T08:23:06.897257Z",
     "start_time": "2020-11-08T08:23:05.950650Z"
    }
   },
   "outputs": [],
   "source": [
    "for i in range(pdf_reader.getNumPages()):\n",
    "    pdf_writer = PdfFileWriter()\n",
    "    pdf_writer.addPage(pdf_reader.getPage(i))\n",
    "    with open(path + f'\\拆分文件夹\\{i+1}.pdf', \"wb\") as out:\n",
    "        pdf_writer.write(out)"
   ]
  },
  {
   "cell_type": "code",
   "execution_count": null,
   "metadata": {},
   "outputs": [],
   "source": []
  }
 ],
 "metadata": {
  "kernelspec": {
   "display_name": "python38",
   "language": "python",
   "name": "env_py38"
  },
  "language_info": {
   "codemirror_mode": {
    "name": "ipython",
    "version": 3
   },
   "file_extension": ".py",
   "mimetype": "text/x-python",
   "name": "python",
   "nbconvert_exporter": "python",
   "pygments_lexer": "ipython3",
   "version": "3.8.2"
  },
  "toc": {
   "base_numbering": 1,
   "nav_menu": {},
   "number_sections": true,
   "sideBar": true,
   "skip_h1_title": false,
   "title_cell": "Table of Contents",
   "title_sidebar": "Contents",
   "toc_cell": false,
   "toc_position": {},
   "toc_section_display": true,
   "toc_window_display": false
  }
 },
 "nbformat": 4,
 "nbformat_minor": 4
}
