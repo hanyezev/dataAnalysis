{
 "cells": [
  {
   "cell_type": "markdown",
   "metadata": {},
   "source": [
    "## Python数值"
   ]
  },
  {
   "cell_type": "code",
   "execution_count": 1,
   "metadata": {
    "ExecuteTime": {
     "end_time": "2020-10-25T07:32:55.032403Z",
     "start_time": "2020-10-25T07:32:55.019402Z"
    }
   },
   "outputs": [
    {
     "data": {
      "text/plain": [
       "1"
      ]
     },
     "execution_count": 1,
     "metadata": {},
     "output_type": "execute_result"
    }
   ],
   "source": [
    "# 取整\n",
    "8//5"
   ]
  },
  {
   "cell_type": "code",
   "execution_count": 2,
   "metadata": {
    "ExecuteTime": {
     "end_time": "2020-10-25T07:32:55.041405Z",
     "start_time": "2020-10-25T07:32:55.036405Z"
    }
   },
   "outputs": [
    {
     "data": {
      "text/plain": [
       "'0b1000'"
      ]
     },
     "execution_count": 2,
     "metadata": {},
     "output_type": "execute_result"
    }
   ],
   "source": [
    "# 十进制转二进制\n",
    "bin(8)"
   ]
  },
  {
   "cell_type": "code",
   "execution_count": 3,
   "metadata": {
    "ExecuteTime": {
     "end_time": "2020-10-25T07:32:55.053405Z",
     "start_time": "2020-10-25T07:32:55.044404Z"
    }
   },
   "outputs": [
    {
     "data": {
      "text/plain": [
       "'0o10'"
      ]
     },
     "execution_count": 3,
     "metadata": {},
     "output_type": "execute_result"
    }
   ],
   "source": [
    "# 十进制转八进制\n",
    "oct(8)"
   ]
  },
  {
   "cell_type": "code",
   "execution_count": 4,
   "metadata": {
    "ExecuteTime": {
     "end_time": "2020-10-25T07:32:55.062405Z",
     "start_time": "2020-10-25T07:32:55.056405Z"
    }
   },
   "outputs": [
    {
     "data": {
      "text/plain": [
       "'0x8'"
      ]
     },
     "execution_count": 4,
     "metadata": {},
     "output_type": "execute_result"
    }
   ],
   "source": [
    "# 十进制转十六进制\n",
    "hex(8)"
   ]
  },
  {
   "cell_type": "code",
   "execution_count": 5,
   "metadata": {
    "ExecuteTime": {
     "end_time": "2020-10-25T07:32:55.072406Z",
     "start_time": "2020-10-25T07:32:55.064404Z"
    }
   },
   "outputs": [
    {
     "data": {
      "text/plain": [
       "12"
      ]
     },
     "execution_count": 5,
     "metadata": {},
     "output_type": "execute_result"
    }
   ],
   "source": [
    "# 字符串或数值转整数\n",
    "# 默认10就是表示使用十进制\n",
    "int('12', base=10)"
   ]
  },
  {
   "cell_type": "code",
   "execution_count": 6,
   "metadata": {
    "ExecuteTime": {
     "end_time": "2020-10-25T07:32:55.079406Z",
     "start_time": "2020-10-25T07:32:55.074408Z"
    }
   },
   "outputs": [
    {
     "data": {
      "text/plain": [
       "(3, 1)"
      ]
     },
     "execution_count": 6,
     "metadata": {},
     "output_type": "execute_result"
    }
   ],
   "source": [
    "# 取商和余数\n",
    "divmod(10, 3)"
   ]
  },
  {
   "cell_type": "code",
   "execution_count": 7,
   "metadata": {
    "ExecuteTime": {
     "end_time": "2020-10-25T07:32:55.090406Z",
     "start_time": "2020-10-25T07:32:55.082406Z"
    }
   },
   "outputs": [
    {
     "data": {
      "text/plain": [
       "4"
      ]
     },
     "execution_count": 7,
     "metadata": {},
     "output_type": "execute_result"
    }
   ],
   "source": [
    "# 先幂再取余\n",
    "pow(3, 2, 5)"
   ]
  },
  {
   "cell_type": "code",
   "execution_count": 8,
   "metadata": {
    "ExecuteTime": {
     "end_time": "2020-10-25T07:32:55.100408Z",
     "start_time": "2020-10-25T07:32:55.093408Z"
    }
   },
   "outputs": [
    {
     "data": {
      "text/plain": [
       "10.21"
      ]
     },
     "execution_count": 8,
     "metadata": {},
     "output_type": "execute_result"
    }
   ],
   "source": [
    "# 五舍六入\n",
    "round(10.215, 2)"
   ]
  },
  {
   "cell_type": "code",
   "execution_count": 9,
   "metadata": {
    "ExecuteTime": {
     "end_time": "2020-10-25T07:32:55.110409Z",
     "start_time": "2020-10-25T07:32:55.103409Z"
    }
   },
   "outputs": [
    {
     "data": {
      "text/plain": [
       "9"
      ]
     },
     "execution_count": 9,
     "metadata": {},
     "output_type": "execute_result"
    }
   ],
   "source": [
    "# 计算字符串表达式\n",
    "s = '1 + 2 + 6'\n",
    "eval(s)"
   ]
  },
  {
   "cell_type": "code",
   "execution_count": 10,
   "metadata": {
    "ExecuteTime": {
     "end_time": "2020-10-25T07:32:55.119410Z",
     "start_time": "2020-10-25T07:32:55.112408Z"
    }
   },
   "outputs": [
    {
     "data": {
      "text/plain": [
       "True"
      ]
     },
     "execution_count": 10,
     "metadata": {},
     "output_type": "execute_result"
    }
   ],
   "source": [
    "# 链式比较\n",
    "i = 3\n",
    "1 < i <= 3"
   ]
  },
  {
   "cell_type": "code",
   "execution_count": 11,
   "metadata": {
    "ExecuteTime": {
     "end_time": "2020-10-25T07:32:55.128411Z",
     "start_time": "2020-10-25T07:32:55.121409Z"
    }
   },
   "outputs": [
    {
     "data": {
      "text/plain": [
       "3"
      ]
     },
     "execution_count": 11,
     "metadata": {},
     "output_type": "execute_result"
    }
   ],
   "source": [
    "# 元素交换\n",
    "a, b = 1, 3\n",
    "a, b = b, a\n",
    "a"
   ]
  },
  {
   "cell_type": "markdown",
   "metadata": {},
   "source": [
    "## 字符串"
   ]
  },
  {
   "cell_type": "code",
   "execution_count": 12,
   "metadata": {
    "ExecuteTime": {
     "end_time": "2020-10-25T07:32:55.140412Z",
     "start_time": "2020-10-25T07:32:55.130409Z"
    }
   },
   "outputs": [
    {
     "name": "stdout",
     "output_type": "stream",
     "text": [
      "This isn't a horse!\n"
     ]
    }
   ],
   "source": [
    "# \"\"和''的使用\n",
    "a = \"This isn't a horse!\"\n",
    "print(a)"
   ]
  },
  {
   "cell_type": "code",
   "execution_count": 13,
   "metadata": {
    "ExecuteTime": {
     "end_time": "2020-10-25T07:32:55.146412Z",
     "start_time": "2020-10-25T07:32:55.142412Z"
    }
   },
   "outputs": [],
   "source": [
    "# \\n 换行\n",
    "# \\t Tab空格"
   ]
  },
  {
   "cell_type": "code",
   "execution_count": 14,
   "metadata": {
    "ExecuteTime": {
     "end_time": "2020-10-25T07:32:55.155413Z",
     "start_time": "2020-10-25T07:32:55.148411Z"
    }
   },
   "outputs": [
    {
     "name": "stdout",
     "output_type": "stream",
     "text": [
      "*****\n"
     ]
    }
   ],
   "source": [
    "# 字符串克隆\n",
    "a = 5*\"*\"\n",
    "print(a)"
   ]
  },
  {
   "cell_type": "code",
   "execution_count": 15,
   "metadata": {
    "ExecuteTime": {
     "end_time": "2020-10-25T07:32:55.165414Z",
     "start_time": "2020-10-25T07:32:55.158412Z"
    }
   },
   "outputs": [
    {
     "name": "stdout",
     "output_type": "stream",
     "text": [
      "Python\n"
     ]
    }
   ],
   "source": [
    "# 字符串结合\n",
    "a = 'Py'\"thon\"\n",
    "print(a)"
   ]
  },
  {
   "cell_type": "code",
   "execution_count": 16,
   "metadata": {
    "ExecuteTime": {
     "end_time": "2020-10-25T07:32:55.175414Z",
     "start_time": "2020-10-25T07:32:55.167413Z"
    }
   },
   "outputs": [
    {
     "name": "stdout",
     "output_type": "stream",
     "text": [
      "37073\n",
      "郑\n"
     ]
    }
   ],
   "source": [
    "# 字符与数值互转\n",
    "print(ord('郑'))\n",
    "print(chr(37073))"
   ]
  },
  {
   "cell_type": "code",
   "execution_count": 17,
   "metadata": {
    "ExecuteTime": {
     "end_time": "2020-10-25T07:32:55.184413Z",
     "start_time": "2020-10-25T07:32:55.177414Z"
    }
   },
   "outputs": [
    {
     "data": {
      "text/plain": [
       "b'python'"
      ]
     },
     "execution_count": 17,
     "metadata": {},
     "output_type": "execute_result"
    }
   ],
   "source": [
    "# 字符串转字节\n",
    "a = \"python\"\n",
    "b = bytes(a, encoding='UTF-8')\n",
    "b"
   ]
  },
  {
   "cell_type": "code",
   "execution_count": 18,
   "metadata": {
    "ExecuteTime": {
     "end_time": "2020-10-25T07:32:55.192415Z",
     "start_time": "2020-10-25T07:32:55.186415Z"
    }
   },
   "outputs": [
    {
     "name": "stdout",
     "output_type": "stream",
     "text": [
      "我叫郑晨,今年23岁。\n",
      "我叫zev,今年24岁。\n"
     ]
    }
   ],
   "source": [
    "# 字符串打印\n",
    "# 方法一\n",
    "print(\"我叫{},今年{}岁。\".format(\"郑晨\", 23))\n",
    "# 方法二\n",
    "a = \"zev\"\n",
    "b = 24\n",
    "print(f'我叫{a},今年{b}岁。')"
   ]
  },
  {
   "cell_type": "markdown",
   "metadata": {},
   "source": [
    "### 输出控制"
   ]
  },
  {
   "cell_type": "code",
   "execution_count": 19,
   "metadata": {
    "ExecuteTime": {
     "end_time": "2020-10-25T07:32:55.201415Z",
     "start_time": "2020-10-25T07:32:55.194414Z"
    }
   },
   "outputs": [
    {
     "name": "stdout",
     "output_type": "stream",
     "text": [
      "a = 3.15\n",
      "a = +3.15\n"
     ]
    }
   ],
   "source": [
    "# 1.保留小数点后两位,四舍五入\n",
    "print(\"a = {:.2f}\".format(3.1455))\n",
    "# 2.带符号保留小数点后两位,四舍五入\n",
    "print(\"a = {:+.2f}\".format(3.1455))"
   ]
  },
  {
   "cell_type": "code",
   "execution_count": 20,
   "metadata": {
    "ExecuteTime": {
     "end_time": "2020-10-25T07:32:55.209419Z",
     "start_time": "2020-10-25T07:32:55.203416Z"
    }
   },
   "outputs": [
    {
     "name": "stdout",
     "output_type": "stream",
     "text": [
      "a = 003\n",
      "1,232,414\n"
     ]
    }
   ],
   "source": [
    "# 3.整数补零,填充左边,宽度为3\n",
    "print(\"a = {:0>3d}\".format(3))\n",
    "# 4.逗号分隔\n",
    "print(\"{:,}\".format(1232414))"
   ]
  },
  {
   "cell_type": "code",
   "execution_count": 21,
   "metadata": {
    "ExecuteTime": {
     "end_time": "2020-10-25T07:32:55.219416Z",
     "start_time": "2020-10-25T07:32:55.211415Z"
    }
   },
   "outputs": [
    {
     "name": "stdout",
     "output_type": "stream",
     "text": [
      "89.00%\n",
      "2.13e+08\n"
     ]
    }
   ],
   "source": [
    "# 5.输出百分比\n",
    "print(\"{:.2%}\".format(0.89))\n",
    "# 6.输出指数计法\n",
    "print(\"{:.2e}\".format(213124124))"
   ]
  },
  {
   "cell_type": "markdown",
   "metadata": {},
   "source": [
    "### 字符串处理"
   ]
  },
  {
   "cell_type": "code",
   "execution_count": 22,
   "metadata": {
    "ExecuteTime": {
     "end_time": "2020-10-25T07:32:55.230417Z",
     "start_time": "2020-10-25T07:32:55.224416Z"
    }
   },
   "outputs": [
    {
     "data": {
      "text/plain": [
       "'P-y-t-h-o-n'"
      ]
     },
     "execution_count": 22,
     "metadata": {},
     "output_type": "execute_result"
    }
   ],
   "source": [
    "# 字符拼接\n",
    "chars = ['P','y','t','h','o','n']\n",
    "'-'.join(chars)"
   ]
  },
  {
   "cell_type": "code",
   "execution_count": 23,
   "metadata": {
    "ExecuteTime": {
     "end_time": "2020-10-25T07:32:55.238418Z",
     "start_time": "2020-10-25T07:32:55.233417Z"
    }
   },
   "outputs": [
    {
     "name": "stdout",
     "output_type": "stream",
     "text": [
      "['Python', 'and', 'C++']\n",
      "['Python', 'and C++']\n"
     ]
    }
   ],
   "source": [
    "# 字符串分隔\n",
    "print(\"Python and C++\".split(' '))\n",
    "print(\"Python and C++\".split(' ',1)) # 做一次分割"
   ]
  },
  {
   "cell_type": "code",
   "execution_count": 24,
   "metadata": {
    "ExecuteTime": {
     "end_time": "2020-10-25T07:32:55.247419Z",
     "start_time": "2020-10-25T07:32:55.240419Z"
    }
   },
   "outputs": [
    {
     "name": "stdout",
     "output_type": "stream",
     "text": [
      "代码复用能够大大简化bai我们的工作。面向du对象\n",
      "的语言中一般是通过对类的zhi重复使用来达到代码复\n",
      "dao用的目的的，Java也不例外。在Java中，\n",
      "复用类有两种方式，合成（has-a）与继承（is-\n",
      "a）。合成就是在新的类中直接创建旧类的对象，这里我\n",
      "们复用的只是代码的功能而不是它的形式。而继承是在原\n",
      "有的类的基础上建立一个新类，新类具有旧类的形式，但\n",
      "也加入了一些新的特性。这一章介绍的主要就是合成与继\n",
      "承方面的知识。\n"
     ]
    }
   ],
   "source": [
    "# 每行12个字符\n",
    "import textwrap\n",
    "words = \"代码复用能够大大简化bai我们的工作。面向du对象的语言中一般是通过对类的zhi重复使用来达到代码复dao用的目的的，Java也不例外。在Java中，复用类有两种方式，合成（has-a）与继承（is-a）。合成就是在新的类中直接创建旧类的对象，这里我们复用的只是代码的功能而不是它的形式。而继承是在原有的类的基础上建立一个新类，新类具有旧类的形式，但也加入了一些新的特性。这一章介绍的主要就是合成与继承方面的知识。\"\n",
    "word_12 = textwrap.fill(words,25)\n",
    "print(word_12)"
   ]
  },
  {
   "cell_type": "markdown",
   "metadata": {},
   "source": [
    "## 列表"
   ]
  },
  {
   "cell_type": "code",
   "execution_count": 25,
   "metadata": {
    "ExecuteTime": {
     "end_time": "2020-10-25T07:32:55.255420Z",
     "start_time": "2020-10-25T07:32:55.249417Z"
    }
   },
   "outputs": [
    {
     "data": {
      "text/plain": [
       "[3, 5]"
      ]
     },
     "execution_count": 25,
     "metadata": {},
     "output_type": "execute_result"
    }
   ],
   "source": [
    "# 间隔切片\n",
    "a = [1,2,3,4,5,6,7]\n",
    "a[2:6:2]"
   ]
  },
  {
   "cell_type": "markdown",
   "metadata": {},
   "source": [
    "### 添加单个元素"
   ]
  },
  {
   "cell_type": "code",
   "execution_count": 26,
   "metadata": {
    "ExecuteTime": {
     "end_time": "2020-10-25T07:32:55.264423Z",
     "start_time": "2020-10-25T07:32:55.257421Z"
    }
   },
   "outputs": [
    {
     "data": {
      "text/plain": [
       "[1, 2, 3, 4, 5, 6, 7, 8]"
      ]
     },
     "execution_count": 26,
     "metadata": {},
     "output_type": "execute_result"
    }
   ],
   "source": [
    "# append方法\n",
    "a = [1,2,3,4,5,6,7]\n",
    "a.append(8)\n",
    "a"
   ]
  },
  {
   "cell_type": "code",
   "execution_count": 27,
   "metadata": {
    "ExecuteTime": {
     "end_time": "2020-10-25T07:32:55.275421Z",
     "start_time": "2020-10-25T07:32:55.266421Z"
    }
   },
   "outputs": [
    {
     "data": {
      "text/plain": [
       "[1, 2, 5, 3, 4, 5, 6, 7]"
      ]
     },
     "execution_count": 27,
     "metadata": {},
     "output_type": "execute_result"
    }
   ],
   "source": [
    "# insert方法\n",
    "a = [1,2,3,4,5,6,7]\n",
    "a.insert(2, 5)\n",
    "a"
   ]
  },
  {
   "cell_type": "markdown",
   "metadata": {},
   "source": [
    "### 添加多个元素"
   ]
  },
  {
   "cell_type": "code",
   "execution_count": 28,
   "metadata": {
    "ExecuteTime": {
     "end_time": "2020-10-25T07:32:55.289423Z",
     "start_time": "2020-10-25T07:32:55.277421Z"
    }
   },
   "outputs": [
    {
     "data": {
      "text/plain": [
       "[1, 2, 3, 4, 5, 6, 7, 25, 26]"
      ]
     },
     "execution_count": 28,
     "metadata": {},
     "output_type": "execute_result"
    }
   ],
   "source": [
    "# exted方法\n",
    "a = [1,2,3,4,5,6,7]\n",
    "a.extend([25,26])\n",
    "a"
   ]
  },
  {
   "cell_type": "code",
   "execution_count": 29,
   "metadata": {
    "ExecuteTime": {
     "end_time": "2020-10-25T07:32:55.304424Z",
     "start_time": "2020-10-25T07:32:55.291422Z"
    }
   },
   "outputs": [
    {
     "data": {
      "text/plain": [
       "[1, 2, 3, 4, 5, 6, 7, 25, 26, 27, 28]"
      ]
     },
     "execution_count": 29,
     "metadata": {},
     "output_type": "execute_result"
    }
   ],
   "source": [
    "# + 方法\n",
    "b = a + [27,28]\n",
    "b"
   ]
  },
  {
   "cell_type": "markdown",
   "metadata": {},
   "source": [
    "### 删除元素"
   ]
  },
  {
   "cell_type": "code",
   "execution_count": 30,
   "metadata": {
    "ExecuteTime": {
     "end_time": "2020-10-25T07:32:55.315423Z",
     "start_time": "2020-10-25T07:32:55.306424Z"
    }
   },
   "outputs": [
    {
     "data": {
      "text/plain": [
       "[1, 3, 4, 5, 2, 6, 7]"
      ]
     },
     "execution_count": 30,
     "metadata": {},
     "output_type": "execute_result"
    }
   ],
   "source": [
    "# remove方法,仅删除出现的第一个\n",
    "a = [1,2,3,4,5,2,6,7]\n",
    "a.remove(2)\n",
    "a"
   ]
  },
  {
   "cell_type": "code",
   "execution_count": 31,
   "metadata": {
    "ExecuteTime": {
     "end_time": "2020-10-25T07:32:55.323425Z",
     "start_time": "2020-10-25T07:32:55.317424Z"
    }
   },
   "outputs": [
    {
     "data": {
      "text/plain": [
       "[1, 2, 4, 5, 2, 6, 7]"
      ]
     },
     "execution_count": 31,
     "metadata": {},
     "output_type": "execute_result"
    }
   ],
   "source": [
    "# pop方法,删除最后一个或索引位置\n",
    "a = [1,2,3,4,5,2,6,7]\n",
    "a.pop(2)\n",
    "a"
   ]
  },
  {
   "cell_type": "code",
   "execution_count": 32,
   "metadata": {
    "ExecuteTime": {
     "end_time": "2020-10-25T07:32:55.334425Z",
     "start_time": "2020-10-25T07:32:55.325425Z"
    }
   },
   "outputs": [
    {
     "data": {
      "text/plain": [
       "[1, 2, 4, 5, 2, 6, 7]"
      ]
     },
     "execution_count": 32,
     "metadata": {},
     "output_type": "execute_result"
    }
   ],
   "source": [
    "# del方法,删除指定索引位置\n",
    "a = [1,2,3,4,5,2,6,7]\n",
    "del a[2]\n",
    "a"
   ]
  },
  {
   "cell_type": "code",
   "execution_count": 33,
   "metadata": {
    "ExecuteTime": {
     "end_time": "2020-10-25T07:32:55.343426Z",
     "start_time": "2020-10-25T07:32:55.336425Z"
    }
   },
   "outputs": [
    {
     "name": "stdout",
     "output_type": "stream",
     "text": [
      "2\n",
      "6\n",
      "7\n",
      "4\n",
      "8\n",
      "4\n",
      "9\n"
     ]
    },
    {
     "data": {
      "text/plain": [
       "True"
      ]
     },
     "execution_count": 33,
     "metadata": {},
     "output_type": "execute_result"
    }
   ],
   "source": [
    "# list 和 in\n",
    "a = [2,6,7,4,8,4,9]\n",
    "for item in a:\n",
    "    print(item)\n",
    "2 in a"
   ]
  },
  {
   "cell_type": "markdown",
   "metadata": {},
   "source": [
    "### list"
   ]
  },
  {
   "cell_type": "code",
   "execution_count": 34,
   "metadata": {
    "ExecuteTime": {
     "end_time": "2020-10-25T07:32:55.349427Z",
     "start_time": "2020-10-25T07:32:55.345427Z"
    }
   },
   "outputs": [
    {
     "data": {
      "text/plain": [
       "[[2], [], []]"
      ]
     },
     "execution_count": 34,
     "metadata": {},
     "output_type": "execute_result"
    }
   ],
   "source": [
    "# list*数字\n",
    "a = [[]]*3\n",
    "a[0] = [2]\n",
    "a"
   ]
  },
  {
   "cell_type": "markdown",
   "metadata": {},
   "source": [
    "### 列表生成式"
   ]
  },
  {
   "cell_type": "code",
   "execution_count": 35,
   "metadata": {
    "ExecuteTime": {
     "end_time": "2020-10-25T07:32:55.358426Z",
     "start_time": "2020-10-25T07:32:55.350425Z"
    }
   },
   "outputs": [
    {
     "name": "stdout",
     "output_type": "stream",
     "text": [
      "[1, 3, 5, 7, 9, 11, 13, 15, 17, 19, 21, 23, 25, 27, 29, 31, 33, 35, 37, 39, 41, 43, 45, 47, 49]\n"
     ]
    }
   ],
   "source": [
    "# i&1 判断是否为奇数\n",
    "a = [i for i in range(50) if i&1]\n",
    "print(a)"
   ]
  },
  {
   "cell_type": "markdown",
   "metadata": {},
   "source": [
    "### 其他API"
   ]
  },
  {
   "cell_type": "code",
   "execution_count": 36,
   "metadata": {
    "ExecuteTime": {
     "end_time": "2020-10-25T07:32:55.367427Z",
     "start_time": "2020-10-25T07:32:55.360427Z"
    }
   },
   "outputs": [
    {
     "data": {
      "text/plain": [
       "2"
      ]
     },
     "execution_count": 36,
     "metadata": {},
     "output_type": "execute_result"
    }
   ],
   "source": [
    "# clear,index\n",
    "a = [2,5,7]\n",
    "a.index(7)"
   ]
  },
  {
   "cell_type": "code",
   "execution_count": 37,
   "metadata": {
    "ExecuteTime": {
     "end_time": "2020-10-25T07:32:55.376427Z",
     "start_time": "2020-10-25T07:32:55.369428Z"
    }
   },
   "outputs": [
    {
     "data": {
      "text/plain": [
       "2"
      ]
     },
     "execution_count": 37,
     "metadata": {},
     "output_type": "execute_result"
    }
   ],
   "source": [
    "# count计数\n",
    "a = [2,5,7,2,5,7]\n",
    "a.count(2)"
   ]
  },
  {
   "cell_type": "code",
   "execution_count": 38,
   "metadata": {
    "ExecuteTime": {
     "end_time": "2020-10-25T07:32:55.385428Z",
     "start_time": "2020-10-25T07:32:55.378429Z"
    }
   },
   "outputs": [
    {
     "data": {
      "text/plain": [
       "[(9, -10), (3, 1), (4, 1), (5, 3), (1, 4)]"
      ]
     },
     "execution_count": 38,
     "metadata": {},
     "output_type": "execute_result"
    }
   ],
   "source": [
    "# sort排序,按第二个值排序\n",
    "a = [(3,1),(4,1),(1,4),(5,3),(9,-10)]\n",
    "a.sort(key=lambda x:x[1])\n",
    "a"
   ]
  },
  {
   "cell_type": "code",
   "execution_count": 39,
   "metadata": {
    "ExecuteTime": {
     "end_time": "2020-10-25T07:32:55.393429Z",
     "start_time": "2020-10-25T07:32:55.387429Z"
    }
   },
   "outputs": [
    {
     "data": {
      "text/plain": [
       "[7, 5, 2, 7, 5, 2]"
      ]
     },
     "execution_count": 39,
     "metadata": {},
     "output_type": "execute_result"
    }
   ],
   "source": [
    "# reverse 反转\n",
    "a = [2,5,7,2,5,7]\n",
    "a.reverse()\n",
    "a"
   ]
  },
  {
   "cell_type": "markdown",
   "metadata": {},
   "source": [
    "### 深浅拷贝"
   ]
  },
  {
   "cell_type": "code",
   "execution_count": 40,
   "metadata": {
    "ExecuteTime": {
     "end_time": "2020-10-25T07:32:55.400432Z",
     "start_time": "2020-10-25T07:32:55.395429Z"
    }
   },
   "outputs": [
    {
     "data": {
      "text/plain": [
       "[1, 3, 5]"
      ]
     },
     "execution_count": 40,
     "metadata": {},
     "output_type": "execute_result"
    }
   ],
   "source": [
    "# 浅拷贝,只拷贝一层\n",
    "c = [1, 3, 5]\n",
    "cc = c.copy()\n",
    "c[1] = 2\n",
    "cc"
   ]
  },
  {
   "cell_type": "code",
   "execution_count": 41,
   "metadata": {
    "ExecuteTime": {
     "end_time": "2020-10-25T07:32:55.410430Z",
     "start_time": "2020-10-25T07:32:55.402429Z"
    }
   },
   "outputs": [
    {
     "data": {
      "text/plain": [
       "[[1, 3], [0, 7]]"
      ]
     },
     "execution_count": 41,
     "metadata": {},
     "output_type": "execute_result"
    }
   ],
   "source": [
    "# 内嵌一层后\n",
    "c = [[1,3],[4,7]]\n",
    "cc = c.copy()\n",
    "cc[1][0] = 0\n",
    "c"
   ]
  },
  {
   "cell_type": "code",
   "execution_count": 42,
   "metadata": {
    "ExecuteTime": {
     "end_time": "2020-10-25T07:32:55.416442Z",
     "start_time": "2020-10-25T07:32:55.412430Z"
    }
   },
   "outputs": [],
   "source": [
    "# 列表可变性\n",
    "# a = [1,3]\n",
    "a = (1,3)\n",
    "d = {a:'不可哈希'}"
   ]
  },
  {
   "cell_type": "markdown",
   "metadata": {},
   "source": [
    "## 流程控制"
   ]
  },
  {
   "cell_type": "raw",
   "metadata": {},
   "source": [
    "关键字if, elif, for, while, break, continue, else, return, yield, pass"
   ]
  },
  {
   "cell_type": "code",
   "execution_count": 43,
   "metadata": {
    "ExecuteTime": {
     "end_time": "2020-10-25T07:32:55.424433Z",
     "start_time": "2020-10-25T07:32:55.418433Z"
    }
   },
   "outputs": [],
   "source": [
    "# for用法\n",
    "# 1.控制循环次数\n",
    "# 2.遍历容器内的元素"
   ]
  },
  {
   "cell_type": "markdown",
   "metadata": {},
   "source": [
    "### while,break,continue"
   ]
  },
  {
   "cell_type": "code",
   "execution_count": 44,
   "metadata": {
    "ExecuteTime": {
     "end_time": "2020-10-25T07:33:01.137870Z",
     "start_time": "2020-10-25T07:32:55.426433Z"
    }
   },
   "outputs": [
    {
     "name": "stdout",
     "output_type": "stream",
     "text": [
      "Plese inut an Integer:2\n",
      "输入了一个整数 2, input结束\n"
     ]
    }
   ],
   "source": [
    "while True:\n",
    "    a = input('Plese inut an Integer:') # a=输入的字符串\n",
    "    try:\n",
    "        ai = int(a)\n",
    "        print('输入了一个整数 %d, input结束' % (ai,))\n",
    "        break\n",
    "    except:\n",
    "        print(\"%s isn't a Integer\" % (a,))"
   ]
  },
  {
   "cell_type": "code",
   "execution_count": 45,
   "metadata": {
    "ExecuteTime": {
     "end_time": "2020-10-25T07:33:01.147872Z",
     "start_time": "2020-10-25T07:33:01.140871Z"
    }
   },
   "outputs": [
    {
     "name": "stdout",
     "output_type": "stream",
     "text": [
      "得到一个大于0的数: 1\n",
      "得到一个大于0的数: 5\n"
     ]
    }
   ],
   "source": [
    "nums = [-1,1,-3,5]\n",
    "for num in nums:\n",
    "    if num <= 0:\n",
    "        continue\n",
    "    print('得到一个大于0的数: %d' % (num,))"
   ]
  },
  {
   "cell_type": "markdown",
   "metadata": {},
   "source": [
    "### for 循环增删元素"
   ]
  },
  {
   "cell_type": "code",
   "execution_count": 46,
   "metadata": {
    "ExecuteTime": {
     "end_time": "2020-10-25T07:33:01.163386Z",
     "start_time": "2020-10-25T07:33:01.149872Z"
    }
   },
   "outputs": [],
   "source": [
    "# def delItems(nums, target):\n",
    "#     for item in nums:\n",
    "#         if item == target:\n",
    "#             nums.remove(item)\n",
    "#     return nums\n",
    "\n",
    "def delItems(nums, target):\n",
    "    i = 0\n",
    "    while i < len(nums):\n",
    "        if nums[i] == target:\n",
    "            del nums[i]\n",
    "            i -= 1\n",
    "        i += 1\n",
    "    return nums"
   ]
  },
  {
   "cell_type": "code",
   "execution_count": 47,
   "metadata": {
    "ExecuteTime": {
     "end_time": "2020-10-25T07:33:01.175386Z",
     "start_time": "2020-10-25T07:33:01.165386Z"
    }
   },
   "outputs": [
    {
     "data": {
      "text/plain": [
       "[2, 3, 3]"
      ]
     },
     "execution_count": 47,
     "metadata": {},
     "output_type": "execute_result"
    }
   ],
   "source": [
    "r = delItems([2,1,3,1,1,3], 1)\n",
    "r"
   ]
  },
  {
   "cell_type": "markdown",
   "metadata": {},
   "source": [
    "### range"
   ]
  },
  {
   "cell_type": "raw",
   "metadata": {},
   "source": [
    "range 函数为了高效节省内存，一次只返回一个值，而不是直接将构成序列的全部元素加载到\n",
    "内存。"
   ]
  },
  {
   "cell_type": "code",
   "execution_count": 48,
   "metadata": {
    "ExecuteTime": {
     "end_time": "2020-10-25T07:33:01.183390Z",
     "start_time": "2020-10-25T07:33:01.177386Z"
    }
   },
   "outputs": [
    {
     "name": "stdout",
     "output_type": "stream",
     "text": [
      "0,1,2,3,4,5,6,7,8,9,"
     ]
    }
   ],
   "source": [
    "for i in range(10):\n",
    "    print(i, end=',')"
   ]
  },
  {
   "cell_type": "code",
   "execution_count": 49,
   "metadata": {
    "ExecuteTime": {
     "end_time": "2020-10-25T07:33:01.193388Z",
     "start_time": "2020-10-25T07:33:01.185388Z"
    }
   },
   "outputs": [
    {
     "data": {
      "text/plain": [
       "True"
      ]
     },
     "execution_count": 49,
     "metadata": {},
     "output_type": "execute_result"
    }
   ],
   "source": [
    "from collections.abc import Iterable\n",
    "isinstance(range(10), Iterable)"
   ]
  },
  {
   "cell_type": "code",
   "execution_count": 50,
   "metadata": {
    "ExecuteTime": {
     "end_time": "2020-10-25T07:33:01.203390Z",
     "start_time": "2020-10-25T07:33:01.195387Z"
    }
   },
   "outputs": [
    {
     "data": {
      "text/plain": [
       "[0, 1, 2, 3, 4, 5, 6, 7, 8, 9]"
      ]
     },
     "execution_count": 50,
     "metadata": {},
     "output_type": "execute_result"
    }
   ],
   "source": [
    "list(range(10))"
   ]
  },
  {
   "cell_type": "markdown",
   "metadata": {},
   "source": [
    "### ***循环和else"
   ]
  },
  {
   "cell_type": "raw",
   "metadata": {},
   "source": [
    "Python一大特色： while , for 能和else 组对，不仅如此， try except 和else 也能组对，\n",
    "下面介绍它们存在的价值。"
   ]
  },
  {
   "cell_type": "code",
   "execution_count": 51,
   "metadata": {
    "ExecuteTime": {
     "end_time": "2020-10-25T07:33:01.217390Z",
     "start_time": "2020-10-25T07:33:01.210389Z"
    }
   },
   "outputs": [
    {
     "name": "stdout",
     "output_type": "stream",
     "text": [
      "2 is prime\n",
      "3 is prime\n",
      "4 = 2 * 2\n",
      "5 is prime\n",
      "6 = 2 * 3\n",
      "7 is prime\n",
      "8 = 2 * 4\n",
      "9 = 3 * 3\n",
      "10 = 2 * 5\n",
      "11 is prime\n",
      "12 = 2 * 6\n",
      "13 is prime\n",
      "14 = 2 * 7\n",
      "15 = 3 * 5\n"
     ]
    }
   ],
   "source": [
    "# for 和else 组对的功能： for 遍历完成后执行else ，但是触发break 后， else 不执行。\n",
    "for num in range(2, 16):\n",
    "    for item in range(2, num):\n",
    "        if num % item == 0:\n",
    "            print('%d = %d * %d' % (num, item, num//item))\n",
    "            break\n",
    "    else:\n",
    "        print('%d is prime' % (num))"
   ]
  },
  {
   "cell_type": "markdown",
   "metadata": {},
   "source": [
    "### pass 与接口"
   ]
  },
  {
   "cell_type": "markdown",
   "metadata": {},
   "source": [
    "Python中最特别的关键字之一便是pass ，它放在类或函数里，表示类和函数暂不定义。"
   ]
  },
  {
   "cell_type": "code",
   "execution_count": 52,
   "metadata": {
    "ExecuteTime": {
     "end_time": "2020-10-25T07:33:01.224391Z",
     "start_time": "2020-10-25T07:33:01.221389Z"
    }
   },
   "outputs": [],
   "source": [
    "class PassClass:\n",
    "    pass"
   ]
  },
  {
   "cell_type": "code",
   "execution_count": 53,
   "metadata": {
    "ExecuteTime": {
     "end_time": "2020-10-25T07:33:01.233392Z",
     "start_time": "2020-10-25T07:33:01.226390Z"
    }
   },
   "outputs": [],
   "source": [
    "def PassFun():\n",
    "    pass"
   ]
  },
  {
   "cell_type": "code",
   "execution_count": 54,
   "metadata": {
    "ExecuteTime": {
     "end_time": "2020-10-25T07:33:01.256392Z",
     "start_time": "2020-10-25T07:33:01.235394Z"
    }
   },
   "outputs": [],
   "source": [
    "# 定义接口\n",
    "from interface import implements,Interface\n",
    "class MyInterface(Interface):\n",
    "    \n",
    "    def method1(self, x):\n",
    "        pass\n",
    "    \n",
    "    def method2(self, x, y):\n",
    "        pass"
   ]
  },
  {
   "cell_type": "code",
   "execution_count": 55,
   "metadata": {
    "ExecuteTime": {
     "end_time": "2020-10-25T07:33:01.263394Z",
     "start_time": "2020-10-25T07:33:01.258393Z"
    }
   },
   "outputs": [],
   "source": [
    "class MyClass(implements(MyInterface)):\n",
    "    def method1(self, x):\n",
    "        return x * 2\n",
    "    def method2(self, x, y):\n",
    "        return x + y"
   ]
  },
  {
   "cell_type": "markdown",
   "metadata": {},
   "source": [
    "### return and yield"
   ]
  },
  {
   "cell_type": "markdown",
   "metadata": {},
   "source": [
    "程序遇到return 和yield 都是立即中断返回。那么yield 和return 又有什么不同呢？\n",
    "与 return 不同， yield 中断返回后，下一次迭代会进入到yield后面的下一行代码，而不像\n",
    "return下一次执行还是从函数体的第一句开始执行。"
   ]
  },
  {
   "cell_type": "code",
   "execution_count": 56,
   "metadata": {
    "ExecuteTime": {
     "end_time": "2020-10-25T07:33:01.277394Z",
     "start_time": "2020-10-25T07:33:01.265395Z"
    }
   },
   "outputs": [
    {
     "name": "stdout",
     "output_type": "stream",
     "text": [
      "1 1 2 3 5 8 13 21 34 55 "
     ]
    }
   ],
   "source": [
    "def fibonacci(n):\n",
    "    a, b = 1, 1\n",
    "    for _ in range(n):\n",
    "        yield a\n",
    "        a, b = b, a + b\n",
    "for fib in fibonacci(10):\n",
    "    print(fib,end=' ')"
   ]
  },
  {
   "cell_type": "markdown",
   "metadata": {},
   "source": [
    "以上就是理解yield 的重要一个点，当然yield 还会与from 连用，还能与send 实现协程\n",
    "等"
   ]
  },
  {
   "cell_type": "markdown",
   "metadata": {},
   "source": [
    "### 短路原则"
   ]
  },
  {
   "cell_type": "markdown",
   "metadata": {},
   "source": [
    "布尔运算符 and 和 or 也被称为短路运算符：它们的参数从左至右解析，一旦可以确定结果解析就会停止。"
   ]
  },
  {
   "cell_type": "code",
   "execution_count": 57,
   "metadata": {
    "ExecuteTime": {
     "end_time": "2020-10-25T07:33:01.288396Z",
     "start_time": "2020-10-25T07:33:01.281396Z"
    }
   },
   "outputs": [
    {
     "name": "stdout",
     "output_type": "stream",
     "text": [
      "\n"
     ]
    }
   ],
   "source": [
    "a = ''\n",
    "b = a and 'i will not execute'\n",
    "print(b)"
   ]
  },
  {
   "cell_type": "code",
   "execution_count": 58,
   "metadata": {
    "ExecuteTime": {
     "end_time": "2020-10-25T07:33:01.299398Z",
     "start_time": "2020-10-25T07:33:01.291397Z"
    }
   },
   "outputs": [
    {
     "name": "stdout",
     "output_type": "stream",
     "text": [
      "python\n"
     ]
    }
   ],
   "source": [
    "a = 'python'\n",
    "b = a or 'i will not execute'\n",
    "print(b)"
   ]
  },
  {
   "cell_type": "markdown",
   "metadata": {},
   "source": [
    "## Python编程习惯"
   ]
  },
  {
   "cell_type": "markdown",
   "metadata": {},
   "source": [
    "Python代码的编程习惯主要参考PEP8 :https://www.python.org/dev/peps/pep-0008/"
   ]
  },
  {
   "cell_type": "markdown",
   "metadata": {},
   "source": [
    "里面主要包括如每行代码长度不超过79，函数间空一行等。\n",
    "其实这些格式化的东西，现有的工具能够辅助我们很快满足编程风格，如flake8 等小插件。"
   ]
  },
  {
   "cell_type": "raw",
   "metadata": {
    "ExecuteTime": {
     "end_time": "2020-10-20T09:25:37.345431Z",
     "start_time": "2020-10-20T09:25:37.340953Z"
    }
   },
   "source": [
    "1.多余的空格  \n",
    "2.是否为 None 判断  \n",
    "3.lamda 表达式  \n",
    "4.最小化受保护代码  \n",
    "5.保持逻辑完整性  \n",
    "6.使用语义更加明确的方法  "
   ]
  },
  {
   "cell_type": "markdown",
   "metadata": {},
   "source": [
    "### EAFP 防御编程风格"
   ]
  },
  {
   "cell_type": "raw",
   "metadata": {
    "ExecuteTime": {
     "end_time": "2020-10-21T01:01:08.405441Z",
     "start_time": "2020-10-21T01:01:08.399451Z"
    }
   },
   "source": [
    "import os\n",
    "try:\n",
    "    os.makedirs(path)\n",
    "except OSError as exception:\n",
    "    if exception.errno != errno.EEXIST:\n",
    "        raise # PermissionError 等异常\n",
    "    else:\n",
    "        # path 目录已存在"
   ]
  },
  {
   "cell_type": "raw",
   "metadata": {},
   "source": [
    "首先相信程序会正确执行，然后如果出错了我们再处理错误。"
   ]
  },
  {
   "cell_type": "raw",
   "metadata": {},
   "source": [
    "使用try 和except 这种防御风格，优点明显，try里只写我们的业务逻辑，except里写异常处理\n",
    "逻辑，几乎无多余代码，Python指南里也提倡使用这种风格。"
   ]
  },
  {
   "cell_type": "raw",
   "metadata": {},
   "source": [
    "EAFP防御风格有何问题呢？举一个例子，如下try块里的逻辑：出现某种情况修改磁盘的csv文件里的某个值，这些逻辑都顺\n",
    "利完成，但是走到下面这句代码时程序出现异常，进而被except 捕获，然后做一些异常处理："
   ]
  },
  {
   "cell_type": "raw",
   "metadata": {
    "ExecuteTime": {
     "end_time": "2020-10-21T01:04:06.350628Z",
     "start_time": "2020-10-21T01:04:05.918089Z"
    }
   },
   "source": [
    "try:\n",
    "    if condition:\n",
    "        revise_csv() # 已经污染csv文件\n",
    "        do_something() # 触发异常\n",
    "except Exception:\n",
    "    handle_exception()"
   ]
  },
  {
   "cell_type": "raw",
   "metadata": {},
   "source": [
    "由于try块里的逻辑分为两步执行，它们不是一个原子操作，所以首先修改了csv文件，但\n",
    "是do_something 却出现异常，导致污染csv文件。"
   ]
  },
  {
   "cell_type": "markdown",
   "metadata": {},
   "source": [
    "### LBYL 防御编程风格"
   ]
  },
  {
   "cell_type": "raw",
   "metadata": {
    "ExecuteTime": {
     "end_time": "2020-10-21T01:05:34.990216Z",
     "start_time": "2020-10-21T01:05:34.979217Z"
    }
   },
   "source": [
    "import os\n",
    "if not os.path.isdir(path):\n",
    "    print('不是一个合法路径')\n",
    "else:\n",
    "    if not os.path.exists(path):\n",
    "        os.makedirs(path)\n",
    "    else:\n",
    "        print('路径已存在')"
   ]
  },
  {
   "cell_type": "raw",
   "metadata": {},
   "source": [
    "缺点太多:"
   ]
  },
  {
   "cell_type": "raw",
   "metadata": {},
   "source": [
    "1.程序每次运行都要检查\n",
    "2.很难一次考虑所有可能异常\n",
    "3.代码的可读性下降"
   ]
  },
  {
   "cell_type": "markdown",
   "metadata": {},
   "source": [
    "## Python函数"
   ]
  },
  {
   "cell_type": "code",
   "execution_count": 59,
   "metadata": {
    "ExecuteTime": {
     "end_time": "2020-10-25T07:33:01.307397Z",
     "start_time": "2020-10-25T07:33:01.301398Z"
    }
   },
   "outputs": [],
   "source": [
    "# 指向分离\n",
    "def MyFun(x):\n",
    "    x = [10,20,30]\n",
    "    x[0] = 0\n",
    "    return x\n",
    "lst = [1, 2,3]"
   ]
  },
  {
   "cell_type": "markdown",
   "metadata": {},
   "source": [
    "### 可变参数"
   ]
  },
  {
   "cell_type": "code",
   "execution_count": 60,
   "metadata": {
    "ExecuteTime": {
     "end_time": "2020-10-25T07:33:01.319396Z",
     "start_time": "2020-10-25T07:33:01.310398Z"
    }
   },
   "outputs": [
    {
     "data": {
      "text/plain": [
       "1.2"
      ]
     },
     "execution_count": 60,
     "metadata": {},
     "output_type": "execute_result"
    }
   ],
   "source": [
    "def foo(length, *others):\n",
    "    s = length\n",
    "    for para in others:\n",
    "        s *= para\n",
    "    return s\n",
    "foo(1.2)"
   ]
  },
  {
   "cell_type": "markdown",
   "metadata": {},
   "source": [
    "### 内置函数"
   ]
  },
  {
   "cell_type": "markdown",
   "metadata": {},
   "source": [
    "#### pow 求幂"
   ]
  },
  {
   "cell_type": "code",
   "execution_count": 61,
   "metadata": {
    "ExecuteTime": {
     "end_time": "2020-10-25T07:33:01.331399Z",
     "start_time": "2020-10-25T07:33:01.322399Z"
    }
   },
   "outputs": [
    {
     "data": {
      "text/plain": [
       "8"
      ]
     },
     "execution_count": 61,
     "metadata": {},
     "output_type": "execute_result"
    }
   ],
   "source": [
    "pow(2, 3)"
   ]
  },
  {
   "cell_type": "code",
   "execution_count": 62,
   "metadata": {
    "ExecuteTime": {
     "end_time": "2020-10-25T07:33:01.342398Z",
     "start_time": "2020-10-25T07:33:01.334397Z"
    }
   },
   "outputs": [
    {
     "data": {
      "text/plain": [
       "0"
      ]
     },
     "execution_count": 62,
     "metadata": {},
     "output_type": "execute_result"
    }
   ],
   "source": [
    "# 求幂再求余\n",
    "pow(2, 3, 4)"
   ]
  },
  {
   "cell_type": "markdown",
   "metadata": {},
   "source": [
    "#### max,min"
   ]
  },
  {
   "cell_type": "code",
   "execution_count": 63,
   "metadata": {
    "ExecuteTime": {
     "end_time": "2020-10-25T07:33:01.350400Z",
     "start_time": "2020-10-25T07:33:01.344401Z"
    }
   },
   "outputs": [],
   "source": [
    "def relu(x):\n",
    "    return max(x, 0)"
   ]
  },
  {
   "cell_type": "markdown",
   "metadata": {},
   "source": [
    "#### sorted"
   ]
  },
  {
   "cell_type": "code",
   "execution_count": 64,
   "metadata": {
    "ExecuteTime": {
     "end_time": "2020-10-25T07:33:01.358402Z",
     "start_time": "2020-10-25T07:33:01.352399Z"
    }
   },
   "outputs": [
    {
     "data": {
      "text/plain": [
       "[('b', -1), ('c', 0), ('a', 1)]"
      ]
     },
     "execution_count": 64,
     "metadata": {},
     "output_type": "execute_result"
    }
   ],
   "source": [
    "d = {'a':1,'b':-1,'c':0}\n",
    "dr = sorted(d.items(), key = lambda x:x[1])\n",
    "dr"
   ]
  },
  {
   "cell_type": "markdown",
   "metadata": {},
   "source": [
    "#### 偏函数"
   ]
  },
  {
   "cell_type": "code",
   "execution_count": 65,
   "metadata": {
    "ExecuteTime": {
     "end_time": "2020-10-25T07:33:01.365402Z",
     "start_time": "2020-10-25T07:33:01.360401Z"
    }
   },
   "outputs": [],
   "source": [
    "from functools import partial\n",
    "int_temp = partial(int, base=2)"
   ]
  },
  {
   "cell_type": "code",
   "execution_count": 66,
   "metadata": {
    "ExecuteTime": {
     "end_time": "2020-10-25T07:33:01.374403Z",
     "start_time": "2020-10-25T07:33:01.367401Z"
    }
   },
   "outputs": [
    {
     "data": {
      "text/plain": [
       "4"
      ]
     },
     "execution_count": 66,
     "metadata": {},
     "output_type": "execute_result"
    }
   ],
   "source": [
    "int_temp('100')"
   ]
  },
  {
   "cell_type": "markdown",
   "metadata": {},
   "source": [
    "### ***匿名函数"
   ]
  },
  {
   "cell_type": "raw",
   "metadata": {},
   "source": [
    "匿名函数是指使用lambda 关键字创建的函数。它的标准结构如下：\n",
    "lambda 形参列表: 含有形参列表的表达式"
   ]
  },
  {
   "cell_type": "code",
   "execution_count": 67,
   "metadata": {
    "ExecuteTime": {
     "end_time": "2020-10-25T07:33:01.383401Z",
     "start_time": "2020-10-25T07:33:01.376402Z"
    }
   },
   "outputs": [
    {
     "data": {
      "text/plain": [
       "<function __main__.<lambda>(x, y)>"
      ]
     },
     "execution_count": 67,
     "metadata": {},
     "output_type": "execute_result"
    }
   ],
   "source": [
    "lambda x,y: x+y"
   ]
  },
  {
   "cell_type": "raw",
   "metadata": {},
   "source": [
    "表达式的计算值即为lambda 函数的返回值。\n",
    "lambda函数常做为max , sorted , map , filter 等函数的key参数。"
   ]
  },
  {
   "cell_type": "markdown",
   "metadata": {},
   "source": [
    "### ***高阶函数"
   ]
  },
  {
   "cell_type": "markdown",
   "metadata": {},
   "source": [
    "#### map"
   ]
  },
  {
   "cell_type": "raw",
   "metadata": {},
   "source": [
    "可以用来接收另一个函数作为参数的函数叫做高阶函数。\n",
    "map 函数第一个参数为函数，它作用于列表中每个的元素。\n",
    "python3中map()返回的是一个object，因为map()转变成了迭代器来节约空间，返回的是可迭代对象。"
   ]
  },
  {
   "cell_type": "code",
   "execution_count": 68,
   "metadata": {
    "ExecuteTime": {
     "end_time": "2020-10-25T07:33:01.392402Z",
     "start_time": "2020-10-25T07:33:01.385402Z"
    }
   },
   "outputs": [
    {
     "data": {
      "text/plain": [
       "['Python', 'Very', 'Beautiful']"
      ]
     },
     "execution_count": 68,
     "metadata": {},
     "output_type": "execute_result"
    }
   ],
   "source": [
    "m = map(lambda s: s.capitalize(), ['python', 'Very', 'BEAUTIFUL'])\n",
    "list(m)"
   ]
  },
  {
   "cell_type": "markdown",
   "metadata": {},
   "source": [
    "#### reduce"
   ]
  },
  {
   "cell_type": "code",
   "execution_count": 69,
   "metadata": {
    "ExecuteTime": {
     "end_time": "2020-10-25T07:33:01.402402Z",
     "start_time": "2020-10-25T07:33:01.394402Z"
    }
   },
   "outputs": [
    {
     "data": {
      "text/plain": [
       "20"
      ]
     },
     "execution_count": 69,
     "metadata": {},
     "output_type": "execute_result"
    }
   ],
   "source": [
    "from functools import reduce\n",
    "def f(x, y):\n",
    "    return x + y\n",
    "\n",
    "r = reduce(f, [1, 3, 4, 5, 7])\n",
    "r"
   ]
  },
  {
   "cell_type": "markdown",
   "metadata": {},
   "source": [
    "### 嵌套函数"
   ]
  },
  {
   "cell_type": "raw",
   "metadata": {},
   "source": [
    "嵌套函数是指里面再嵌套函数的函数。\n",
    "如下例子，将列表转化为二叉树。已知列表nums ，\n",
    "nums = [3,9,20,None,None,15,7]，转化为下面二叉树:"
   ]
  },
  {
   "cell_type": "code",
   "execution_count": 70,
   "metadata": {
    "ExecuteTime": {
     "end_time": "2020-10-25T07:33:01.409406Z",
     "start_time": "2020-10-25T07:33:01.404403Z"
    }
   },
   "outputs": [],
   "source": [
    "class TreeNode:\n",
    "    def __init__(self, x):\n",
    "        self.val = x\n",
    "        self.left = None\n",
    "        self.right = None\n",
    "        \n",
    "    def __str__(self):\n",
    "#         print(TreeNode)\n",
    "        return f'TreeNode [val = {self.val}, left = {self.left}, right = {self.right}]'"
   ]
  },
  {
   "cell_type": "code",
   "execution_count": 71,
   "metadata": {
    "ExecuteTime": {
     "end_time": "2020-10-25T07:33:01.418406Z",
     "start_time": "2020-10-25T07:33:01.411404Z"
    }
   },
   "outputs": [
    {
     "name": "stdout",
     "output_type": "stream",
     "text": [
      "TreeNode [val = 3, left = TreeNode [val = 9, left = None, right = None], right = TreeNode [val = 20, left = TreeNode [val = 15, left = None, right = None], right = TreeNode [val = 7, left = None, right = None]]]\n"
     ]
    }
   ],
   "source": [
    "def list_to_binarytree(nums):\n",
    "    def level(index):\n",
    "        if index >= len(nums) or nums[index] is None:\n",
    "            return None\n",
    "        root = TreeNode(nums[index])\n",
    "        root.left = level(2 * index + 1)\n",
    "        root.right = level(2 * index + 2)\n",
    "        return root\n",
    "    return level(0)\n",
    "\n",
    "binary_tree = list_to_binarytree([3,9,20,None,None,15,7])\n",
    "print(binary_tree)"
   ]
  },
  {
   "cell_type": "markdown",
   "metadata": {},
   "source": [
    "## Python面向对象编程"
   ]
  },
  {
   "cell_type": "markdown",
   "metadata": {},
   "source": [
    "### 类定义"
   ]
  },
  {
   "cell_type": "code",
   "execution_count": 72,
   "metadata": {
    "ExecuteTime": {
     "end_time": "2020-10-25T07:33:01.426407Z",
     "start_time": "2020-10-25T07:33:01.420406Z"
    }
   },
   "outputs": [],
   "source": [
    "class Animal():\n",
    "    def __init__(self, name, speed):\n",
    "        self.name = name\n",
    "        self.speed = speed"
   ]
  },
  {
   "cell_type": "code",
   "execution_count": 73,
   "metadata": {
    "ExecuteTime": {
     "end_time": "2020-10-25T07:33:01.437405Z",
     "start_time": "2020-10-25T07:33:01.428407Z"
    }
   },
   "outputs": [],
   "source": [
    "# 实例\n",
    "cat = Animal(\"加菲猫\", 12)"
   ]
  },
  {
   "cell_type": "code",
   "execution_count": 74,
   "metadata": {
    "ExecuteTime": {
     "end_time": "2020-10-25T07:33:01.443408Z",
     "start_time": "2020-10-25T07:33:01.439405Z"
    }
   },
   "outputs": [],
   "source": [
    "cats = [Animal(\"加菲猫\"+str(i), 10) for i in range(100)]"
   ]
  },
  {
   "cell_type": "markdown",
   "metadata": {},
   "source": [
    "### 实例打印"
   ]
  },
  {
   "cell_type": "raw",
   "metadata": {},
   "source": [
    "使用0.数据名称的格式，这是类专有的打印格式。"
   ]
  },
  {
   "cell_type": "code",
   "execution_count": 75,
   "metadata": {
    "ExecuteTime": {
     "end_time": "2020-10-25T07:33:01.452407Z",
     "start_time": "2020-10-25T07:33:01.445405Z"
    }
   },
   "outputs": [],
   "source": [
    "class Animal():\n",
    "    def __init__(self, name, speed):\n",
    "        self.name = name\n",
    "        self.speed = speed\n",
    "    \n",
    "#     def __str__(self):\n",
    "#         return f'''Name ={self.name},\n",
    "#         Speed = {self.speed}\n",
    "#         '''\n",
    "    def __str__(self):\n",
    "        return'''\n",
    "name = {0.name},\n",
    "speed = {0.speed}'''.format(self)"
   ]
  },
  {
   "cell_type": "code",
   "execution_count": 76,
   "metadata": {
    "ExecuteTime": {
     "end_time": "2020-10-25T07:33:01.462408Z",
     "start_time": "2020-10-25T07:33:01.454407Z"
    }
   },
   "outputs": [
    {
     "name": "stdout",
     "output_type": "stream",
     "text": [
      "\n",
      "name = 英短,\n",
      "speed = 5\n"
     ]
    }
   ],
   "source": [
    "cat = Animal(\"英短\", 5)\n",
    "print(cat)"
   ]
  },
  {
   "cell_type": "markdown",
   "metadata": {},
   "source": [
    "### 属性"
   ]
  },
  {
   "cell_type": "code",
   "execution_count": 77,
   "metadata": {
    "ExecuteTime": {
     "end_time": "2020-10-25T07:33:01.469409Z",
     "start_time": "2020-10-25T07:33:01.464407Z"
    }
   },
   "outputs": [],
   "source": [
    "class Animal():\n",
    "    cprop = \"我是类上的属性cprop\"\n",
    "    \n",
    "    def __init__(self, name, speed):\n",
    "        self.name = name\n",
    "        self._speed = speed\n",
    "    \n",
    "#     def __str__(self):\n",
    "#         return f'''Name ={self.name},\n",
    "#         Speed = {self.speed}\n",
    "#         '''\n",
    "    def __str__(self):\n",
    "        return'''\n",
    "name = {0.name},\n",
    "speed = {0._speed}'''.format(self)"
   ]
  },
  {
   "cell_type": "code",
   "execution_count": 78,
   "metadata": {
    "ExecuteTime": {
     "end_time": "2020-10-25T07:33:01.480411Z",
     "start_time": "2020-10-25T07:33:01.471409Z"
    }
   },
   "outputs": [
    {
     "data": {
      "text/plain": [
       "'我是类上的属性cprop'"
      ]
     },
     "execution_count": 78,
     "metadata": {},
     "output_type": "execute_result"
    }
   ],
   "source": [
    "Animal.cprop"
   ]
  },
  {
   "cell_type": "code",
   "execution_count": 79,
   "metadata": {
    "ExecuteTime": {
     "end_time": "2020-10-25T07:33:01.489409Z",
     "start_time": "2020-10-25T07:33:01.482411Z"
    }
   },
   "outputs": [
    {
     "data": {
      "text/plain": [
       "'我是类上的属性cprop'"
      ]
     },
     "execution_count": 79,
     "metadata": {},
     "output_type": "execute_result"
    }
   ],
   "source": [
    "cat = Animal(\"加菲猫\", 12)\n",
    "cat.cprop"
   ]
  },
  {
   "cell_type": "code",
   "execution_count": 80,
   "metadata": {
    "ExecuteTime": {
     "end_time": "2020-10-25T07:33:01.496411Z",
     "start_time": "2020-10-25T07:33:01.491409Z"
    }
   },
   "outputs": [],
   "source": [
    "cat.color = \"blue\""
   ]
  },
  {
   "cell_type": "raw",
   "metadata": {},
   "source": [
    "如何验证cat 是否有color 属性呢？使用内置函数hasattr"
   ]
  },
  {
   "cell_type": "code",
   "execution_count": 81,
   "metadata": {
    "ExecuteTime": {
     "end_time": "2020-10-25T07:33:01.505411Z",
     "start_time": "2020-10-25T07:33:01.498411Z"
    }
   },
   "outputs": [
    {
     "data": {
      "text/plain": [
       "True"
      ]
     },
     "execution_count": 81,
     "metadata": {},
     "output_type": "execute_result"
    }
   ],
   "source": [
    "hasattr(cat, \"color\")"
   ]
  },
  {
   "cell_type": "raw",
   "metadata": {},
   "source": [
    "注意：以上添加属性方法仅仅为cat 实例本身添加，而不会为其他实例添加："
   ]
  },
  {
   "cell_type": "markdown",
   "metadata": {},
   "source": [
    "### ***private,protected,public"
   ]
  },
  {
   "cell_type": "code",
   "execution_count": 83,
   "metadata": {
    "ExecuteTime": {
     "end_time": "2020-10-25T07:33:29.156180Z",
     "start_time": "2020-10-25T07:33:29.148178Z"
    }
   },
   "outputs": [],
   "source": [
    "import time\n",
    "class Manager():\n",
    "    def __init__(self, animal):\n",
    "        self.animal = animal\n",
    "    \n",
    "    def recordTime(self):\n",
    "        self.__t = time.time()\n",
    "        print('feeding time for %s（行走速度为:%s） is %.0f'%(self.animal.name,self.animal.speed,self.__t))\n",
    "        \n",
    "    def getFeedingTime(self):\n",
    "        return '{:.0f}'.format(self.__t,)\n",
    "cat = Animal('加菲猫',8)\n",
    "xiaoming = Manager(cat)\n",
    "# xiaoming.recordTime()\n",
    "# print(xiaoming.getFeedingTime())"
   ]
  },
  {
   "cell_type": "markdown",
   "metadata": {},
   "source": [
    "### 继承"
   ]
  },
  {
   "cell_type": "code",
   "execution_count": 84,
   "metadata": {
    "ExecuteTime": {
     "end_time": "2020-10-25T07:33:30.101268Z",
     "start_time": "2020-10-25T07:33:30.097269Z"
    }
   },
   "outputs": [],
   "source": [
    "class Cat(Animal):\n",
    "    def __init__(self,name,speed,color,genre):\n",
    "        super().__init__(name,speed)\n",
    "        self.color = color\n",
    "        self.genre = genre\n",
    "        \n",
    "    def getRunningSpeed(self):\n",
    "        print('running speed of %s is %s' %(self.name, self._speed))\n",
    "        return _speed"
   ]
  },
  {
   "cell_type": "code",
   "execution_count": 85,
   "metadata": {
    "ExecuteTime": {
     "end_time": "2020-10-25T07:33:30.269290Z",
     "start_time": "2020-10-25T07:33:30.263293Z"
    }
   },
   "outputs": [
    {
     "name": "stdout",
     "output_type": "stream",
     "text": [
      "\n",
      "name = 加菲猫,\n",
      "speed = 8\n"
     ]
    }
   ],
   "source": [
    "jiafeimao = Cat('加菲猫',8,'gray','CatGenre')\n",
    "print(jiafeimao)"
   ]
  },
  {
   "cell_type": "markdown",
   "metadata": {},
   "source": [
    "### 多态"
   ]
  },
  {
   "cell_type": "code",
   "execution_count": 86,
   "metadata": {
    "ExecuteTime": {
     "end_time": "2020-10-25T07:33:30.679321Z",
     "start_time": "2020-10-25T07:33:30.665324Z"
    }
   },
   "outputs": [],
   "source": [
    "class Animal():\n",
    "    cprop = \"我是类上的属性cprop\"\n",
    "    def __init__(self,name,speed):\n",
    "        self.name = name # 动物名字\n",
    "        self._speed = speed # 动物行走或飞行速度\n",
    "        \n",
    "    def __str__(self):\n",
    "        return '''Animal({0.name},{0._speed}) is printed\n",
    "name={0.name}\n",
    "speed={0._speed}'''.format(self)\n",
    "    \n",
    "    def getSpeedBehavior(self):\n",
    "        pass\n",
    "    \n",
    "class Cat(Animal):\n",
    "    def __init__(self,name,speed,color,genre):\n",
    "        super().__init__(name,speed)\n",
    "        self.color = color\n",
    "        self.genre = genre\n",
    "        \n",
    "    def getSpeedBehavior(self):\n",
    "        print('running speed of %s is %s' %(self.name, self._speed))\n",
    "        return self._speed\n",
    "\n",
    "class Bird(Animal):\n",
    "    def __init__(self,name,speed,color,genre):\n",
    "        super().__init__(name,speed)\n",
    "        self.color = color\n",
    "        self.genre = genre\n",
    "    \n",
    "    def getSpeedBehavior(self):\n",
    "        print('flying speed of %s is %s' %(self.name, self._speed))\n",
    "        return self._speed"
   ]
  },
  {
   "cell_type": "code",
   "execution_count": 87,
   "metadata": {
    "ExecuteTime": {
     "end_time": "2020-10-25T07:33:30.804504Z",
     "start_time": "2020-10-25T07:33:30.797504Z"
    }
   },
   "outputs": [],
   "source": [
    "import time\n",
    "class Manager():\n",
    "    def __init__(self, animal):\n",
    "        self.animal = animal\n",
    "        \n",
    "    def recordTime(self):\n",
    "        self.__t = time.time()\n",
    "        print('feeding time for %s is %.0f'%(self.animal.name,self.__t))\n",
    "        self.animal.getSpeedBehavior()\n",
    "    def getFeedingTime(self):\n",
    "        return \"%0.f\" % (self.__t,)"
   ]
  },
  {
   "cell_type": "code",
   "execution_count": 88,
   "metadata": {
    "ExecuteTime": {
     "end_time": "2020-10-25T07:33:30.958518Z",
     "start_time": "2020-10-25T07:33:30.954515Z"
    }
   },
   "outputs": [],
   "source": [
    "jiafeimao = Cat('jiafeimao',2,'gray','CatGenre')\n",
    "haiying = Bird('haiying',40,'blue','BirdGenre')"
   ]
  },
  {
   "cell_type": "code",
   "execution_count": 89,
   "metadata": {
    "ExecuteTime": {
     "end_time": "2020-10-25T07:33:31.146531Z",
     "start_time": "2020-10-25T07:33:31.142531Z"
    }
   },
   "outputs": [
    {
     "name": "stdout",
     "output_type": "stream",
     "text": [
      "feeding time for jiafeimao is 1603611211\n",
      "running speed of jiafeimao is 2\n"
     ]
    }
   ],
   "source": [
    "Manager(jiafeimao).recordTime()"
   ]
  },
  {
   "cell_type": "markdown",
   "metadata": {},
   "source": [
    "### 创建抽象方法"
   ]
  },
  {
   "cell_type": "raw",
   "metadata": {},
   "source": [
    "借助Python内置的abc 模块，使用abstractmethod装饰器，Animal类的改进版："
   ]
  },
  {
   "cell_type": "code",
   "execution_count": 90,
   "metadata": {
    "ExecuteTime": {
     "end_time": "2020-10-25T07:33:31.815089Z",
     "start_time": "2020-10-25T07:33:31.808092Z"
    }
   },
   "outputs": [],
   "source": [
    "import abc\n",
    "\n",
    "class Animal():\n",
    "    cprop = \"我是类上的属性cprop\"\n",
    "    def __init__(self,name,speed):\n",
    "        self.name = name # 动物名字\n",
    "        self._speed = speed # 动物行走或飞行速度\n",
    "    def __str__(self):\n",
    "        return '''Animal({0.name},{0._speed}) is printed\n",
    "name={0.name}\n",
    "speed={0._speed}'''.format(self)\n",
    "    @abc.abstractmethod\n",
    "    def getSpeedBehavior(self):\n",
    "        pass\n"
   ]
  },
  {
   "cell_type": "markdown",
   "metadata": {},
   "source": [
    "### 检查属性取值"
   ]
  },
  {
   "cell_type": "code",
   "execution_count": 91,
   "metadata": {
    "ExecuteTime": {
     "end_time": "2020-10-25T07:33:32.252163Z",
     "start_time": "2020-10-25T07:33:32.230138Z"
    }
   },
   "outputs": [
    {
     "ename": "ValueError",
     "evalue": "speed value is negative",
     "output_type": "error",
     "traceback": [
      "\u001b[1;31m---------------------------------------------------------------------------\u001b[0m",
      "\u001b[1;31mValueError\u001b[0m                                Traceback (most recent call last)",
      "\u001b[1;32m<ipython-input-91-d524a1c12b25>\u001b[0m in \u001b[0;36m<module>\u001b[1;34m\u001b[0m\n\u001b[0;32m     14\u001b[0m             \u001b[1;32mraise\u001b[0m \u001b[0mValueError\u001b[0m\u001b[1;33m(\u001b[0m\u001b[1;34m\"speed value is negative\"\u001b[0m\u001b[1;33m)\u001b[0m\u001b[1;33m\u001b[0m\u001b[1;33m\u001b[0m\u001b[0m\n\u001b[0;32m     15\u001b[0m         \u001b[0mself\u001b[0m\u001b[1;33m.\u001b[0m\u001b[0m__speed\u001b[0m \u001b[1;33m=\u001b[0m \u001b[0mval\u001b[0m\u001b[1;33m\u001b[0m\u001b[1;33m\u001b[0m\u001b[0m\n\u001b[1;32m---> 16\u001b[1;33m \u001b[0mjiafeimao\u001b[0m \u001b[1;33m=\u001b[0m \u001b[0mAnimal\u001b[0m\u001b[1;33m(\u001b[0m\u001b[1;34m'jiafeimao'\u001b[0m\u001b[1;33m,\u001b[0m\u001b[1;33m-\u001b[0m\u001b[1;36m2\u001b[0m\u001b[1;33m)\u001b[0m\u001b[1;33m\u001b[0m\u001b[1;33m\u001b[0m\u001b[0m\n\u001b[0m",
      "\u001b[1;32m<ipython-input-91-d524a1c12b25>\u001b[0m in \u001b[0;36m__init__\u001b[1;34m(self, name, speed)\u001b[0m\n\u001b[0;32m      3\u001b[0m     \u001b[1;32mdef\u001b[0m \u001b[0m__init__\u001b[0m\u001b[1;33m(\u001b[0m\u001b[0mself\u001b[0m\u001b[1;33m,\u001b[0m\u001b[0mname\u001b[0m\u001b[1;33m,\u001b[0m\u001b[0mspeed\u001b[0m\u001b[1;33m)\u001b[0m\u001b[1;33m:\u001b[0m\u001b[1;33m\u001b[0m\u001b[1;33m\u001b[0m\u001b[0m\n\u001b[0;32m      4\u001b[0m         \u001b[0mself\u001b[0m\u001b[1;33m.\u001b[0m\u001b[0mname\u001b[0m \u001b[1;33m=\u001b[0m \u001b[0mname\u001b[0m \u001b[1;31m# 动物名字\u001b[0m\u001b[1;33m\u001b[0m\u001b[1;33m\u001b[0m\u001b[0m\n\u001b[1;32m----> 5\u001b[1;33m         \u001b[0mself\u001b[0m\u001b[1;33m.\u001b[0m\u001b[0m_speed\u001b[0m \u001b[1;33m=\u001b[0m \u001b[0mspeed\u001b[0m \u001b[1;31m# 动物行走或飞行速度\u001b[0m\u001b[1;33m\u001b[0m\u001b[1;33m\u001b[0m\u001b[0m\n\u001b[0m\u001b[0;32m      6\u001b[0m     \u001b[1;31m# 读\u001b[0m\u001b[1;33m\u001b[0m\u001b[1;33m\u001b[0m\u001b[1;33m\u001b[0m\u001b[0m\n\u001b[0;32m      7\u001b[0m     \u001b[1;33m@\u001b[0m\u001b[0mproperty\u001b[0m\u001b[1;33m\u001b[0m\u001b[1;33m\u001b[0m\u001b[0m\n",
      "\u001b[1;32m<ipython-input-91-d524a1c12b25>\u001b[0m in \u001b[0;36m_speed\u001b[1;34m(self, val)\u001b[0m\n\u001b[0;32m     12\u001b[0m     \u001b[1;32mdef\u001b[0m \u001b[0m_speed\u001b[0m\u001b[1;33m(\u001b[0m\u001b[0mself\u001b[0m\u001b[1;33m,\u001b[0m\u001b[0mval\u001b[0m\u001b[1;33m)\u001b[0m\u001b[1;33m:\u001b[0m\u001b[1;33m\u001b[0m\u001b[1;33m\u001b[0m\u001b[0m\n\u001b[0;32m     13\u001b[0m         \u001b[1;32mif\u001b[0m \u001b[0mval\u001b[0m \u001b[1;33m<\u001b[0m \u001b[1;36m0\u001b[0m\u001b[1;33m:\u001b[0m\u001b[1;33m\u001b[0m\u001b[1;33m\u001b[0m\u001b[0m\n\u001b[1;32m---> 14\u001b[1;33m             \u001b[1;32mraise\u001b[0m \u001b[0mValueError\u001b[0m\u001b[1;33m(\u001b[0m\u001b[1;34m\"speed value is negative\"\u001b[0m\u001b[1;33m)\u001b[0m\u001b[1;33m\u001b[0m\u001b[1;33m\u001b[0m\u001b[0m\n\u001b[0m\u001b[0;32m     15\u001b[0m         \u001b[0mself\u001b[0m\u001b[1;33m.\u001b[0m\u001b[0m__speed\u001b[0m \u001b[1;33m=\u001b[0m \u001b[0mval\u001b[0m\u001b[1;33m\u001b[0m\u001b[1;33m\u001b[0m\u001b[0m\n\u001b[0;32m     16\u001b[0m \u001b[0mjiafeimao\u001b[0m \u001b[1;33m=\u001b[0m \u001b[0mAnimal\u001b[0m\u001b[1;33m(\u001b[0m\u001b[1;34m'jiafeimao'\u001b[0m\u001b[1;33m,\u001b[0m\u001b[1;33m-\u001b[0m\u001b[1;36m2\u001b[0m\u001b[1;33m)\u001b[0m\u001b[1;33m\u001b[0m\u001b[1;33m\u001b[0m\u001b[0m\n",
      "\u001b[1;31mValueError\u001b[0m: speed value is negative"
     ]
    }
   ],
   "source": [
    "class Animal():\n",
    "    cprop = \"我是类上的属性cprop\"\n",
    "    def __init__(self,name,speed):\n",
    "        self.name = name # 动物名字\n",
    "        self._speed = speed # 动物行走或飞行速度\n",
    "    # 读 \n",
    "    @property\n",
    "    def _speed(self):\n",
    "        return self.__speed\n",
    "    # 写\n",
    "    @_speed.setter\n",
    "    def _speed(self,val):\n",
    "        if val < 0:\n",
    "            raise ValueError(\"speed value is negative\")\n",
    "        self.__speed = val\n",
    "jiafeimao = Animal('jiafeimao',-2)"
   ]
  },
  {
   "cell_type": "raw",
   "metadata": {},
   "source": [
    "Cat('jiafeimao',-2,'gray','CatGenre')执行时，会进入到@_speed.setter，检查不满足，抛出取值\n",
    "异常。\n",
    "@property就是给_speed函数增加功能后返回一个更强大的函数， @属性.setter 也是一个函\n",
    "数，装饰后控制着属性的写入操作。"
   ]
  },
  {
   "cell_type": "markdown",
   "metadata": {},
   "source": [
    "### 给类添加属性"
   ]
  },
  {
   "cell_type": "code",
   "execution_count": 92,
   "metadata": {
    "ExecuteTime": {
     "end_time": "2020-10-25T07:33:33.899915Z",
     "start_time": "2020-10-25T07:33:33.895916Z"
    }
   },
   "outputs": [],
   "source": [
    "jiafeimao = Cat(\"jiafeimao\", 5, \"gray\", \"Catgenre\")\n",
    "jiafeimao2 = Cat(\"jiafeimao2\", 10, \"gray\", \"Catgenre\")"
   ]
  },
  {
   "cell_type": "code",
   "execution_count": 93,
   "metadata": {
    "ExecuteTime": {
     "end_time": "2020-10-25T07:33:34.585992Z",
     "start_time": "2020-10-25T07:33:34.581993Z"
    }
   },
   "outputs": [],
   "source": [
    "jiafeimao.age = 2"
   ]
  },
  {
   "cell_type": "code",
   "execution_count": 94,
   "metadata": {
    "ExecuteTime": {
     "end_time": "2020-10-25T07:33:34.794018Z",
     "start_time": "2020-10-25T07:33:34.784019Z"
    }
   },
   "outputs": [
    {
     "ename": "AttributeError",
     "evalue": "'Cat' object has no attribute 'age'",
     "output_type": "error",
     "traceback": [
      "\u001b[1;31m---------------------------------------------------------------------------\u001b[0m",
      "\u001b[1;31mAttributeError\u001b[0m                            Traceback (most recent call last)",
      "\u001b[1;32m<ipython-input-94-df3cd9128926>\u001b[0m in \u001b[0;36m<module>\u001b[1;34m\u001b[0m\n\u001b[1;32m----> 1\u001b[1;33m \u001b[0mjiafeimao2\u001b[0m\u001b[1;33m.\u001b[0m\u001b[0mage\u001b[0m\u001b[1;33m\u001b[0m\u001b[1;33m\u001b[0m\u001b[0m\n\u001b[0m",
      "\u001b[1;31mAttributeError\u001b[0m: 'Cat' object has no attribute 'age'"
     ]
    }
   ],
   "source": [
    "jiafeimao2.age"
   ]
  },
  {
   "cell_type": "markdown",
   "metadata": {},
   "source": [
    "### 控制随意添加属性"
   ]
  },
  {
   "cell_type": "code",
   "execution_count": 95,
   "metadata": {
    "ExecuteTime": {
     "end_time": "2020-10-25T07:33:35.112049Z",
     "start_time": "2020-10-25T07:33:35.107043Z"
    }
   },
   "outputs": [],
   "source": [
    "class Student(object):\n",
    "    __slots__ = ('name', 'age')\n",
    "    \n",
    "    def __init__(self, name, age):\n",
    "        self.name = name\n",
    "        self.age = age\n",
    "zev = Student(\"zev\", 18)"
   ]
  },
  {
   "cell_type": "code",
   "execution_count": 96,
   "metadata": {
    "ExecuteTime": {
     "end_time": "2020-10-25T07:33:35.278566Z",
     "start_time": "2020-10-25T07:33:35.270567Z"
    }
   },
   "outputs": [
    {
     "data": {
      "text/plain": [
       "'famale'"
      ]
     },
     "execution_count": 96,
     "metadata": {},
     "output_type": "execute_result"
    }
   ],
   "source": [
    "Student.sex = \"famale\"\n",
    "zev.sex"
   ]
  },
  {
   "cell_type": "code",
   "execution_count": 97,
   "metadata": {
    "ExecuteTime": {
     "end_time": "2020-10-25T07:33:35.764620Z",
     "start_time": "2020-10-25T07:33:35.761622Z"
    }
   },
   "outputs": [],
   "source": [
    "# zev.sex = \"famale\""
   ]
  },
  {
   "cell_type": "markdown",
   "metadata": {},
   "source": [
    "### 链式调用"
   ]
  },
  {
   "cell_type": "code",
   "execution_count": 98,
   "metadata": {
    "ExecuteTime": {
     "end_time": "2020-10-25T07:33:35.921632Z",
     "start_time": "2020-10-25T07:33:35.912635Z"
    }
   },
   "outputs": [
    {
     "name": "stdout",
     "output_type": "stream",
     "text": [
      "name = zev\n",
      "age = 18\n"
     ]
    }
   ],
   "source": [
    "class Student(object):\n",
    "    __slots__ = (\"name\", \"age\")\n",
    "    \n",
    "    def __init__(self, name, age):\n",
    "        self.name = name\n",
    "        self.age = age\n",
    "    \n",
    "    def set_name(self, val):\n",
    "        self.name = val\n",
    "        return self\n",
    "    \n",
    "    def set_age(self, age):\n",
    "        self.age = age\n",
    "        return self\n",
    "    \n",
    "    def print_info(self):\n",
    "        print(f\"name = {self.name}\")\n",
    "        print(f\"age = {self.age}\")\n",
    "        return self\n",
    "\n",
    "zev = Student(\"zev\", 17).set_name(\"zev\").set_age(18).print_info()"
   ]
  },
  {
   "cell_type": "markdown",
   "metadata": {},
   "source": [
    "## Python十大数据结构"
   ]
  },
  {
   "cell_type": "raw",
   "metadata": {},
   "source": [
    "10种最常用的数据结构："
   ]
  },
  {
   "cell_type": "markdown",
   "metadata": {
    "ExecuteTime": {
     "end_time": "2020-10-25T06:56:01.709276Z",
     "start_time": "2020-10-25T06:56:01.705276Z"
    }
   },
   "source": [
    "### list"
   ]
  },
  {
   "cell_type": "raw",
   "metadata": {},
   "source": [
    "使用场景: list使用在需要查询、修改的场景，极不擅长需要频繁插入、删除元素的场景。\n",
    "实现原理: list对应数据结构的线性表，列表长度在初始状态时无需指定，当插入元素超过初始长\n",
    "度后再启动动态扩容，删除时尤其位于列表开始处元素，时间复杂度为O(n)"
   ]
  },
  {
   "cell_type": "markdown",
   "metadata": {
    "ExecuteTime": {
     "end_time": "2020-10-25T06:58:20.556523Z",
     "start_time": "2020-10-25T06:58:20.553523Z"
    }
   },
   "source": [
    "### tuple"
   ]
  },
  {
   "cell_type": "raw",
   "metadata": {},
   "source": [
    "元组是一类不允许添加删除元素的特殊列表，也就是一旦创建后续决不允许增加、删除、修改。\n",
    "基本用法: 元组大量使用在打包和解包处，如函数有多个返回值时打包为一个元组，赋值到等号\n",
    "左侧变量时解包。"
   ]
  },
  {
   "cell_type": "code",
   "execution_count": 99,
   "metadata": {
    "ExecuteTime": {
     "end_time": "2020-10-25T07:33:36.681815Z",
     "start_time": "2020-10-25T07:33:36.677690Z"
    }
   },
   "outputs": [
    {
     "data": {
      "text/plain": [
       "tuple"
      ]
     },
     "execution_count": 99,
     "metadata": {},
     "output_type": "execute_result"
    }
   ],
   "source": [
    "t = 1, 2, 3\n",
    "type(t)"
   ]
  },
  {
   "cell_type": "code",
   "execution_count": 100,
   "metadata": {
    "ExecuteTime": {
     "end_time": "2020-10-25T07:33:36.778713Z",
     "start_time": "2020-10-25T07:33:36.771715Z"
    }
   },
   "outputs": [
    {
     "data": {
      "text/plain": [
       "56"
      ]
     },
     "execution_count": 100,
     "metadata": {},
     "output_type": "execute_result"
    }
   ],
   "source": [
    "#元组可以大量节省内存\n",
    "from sys import getsizeof\n",
    "getsizeof(list())"
   ]
  },
  {
   "cell_type": "code",
   "execution_count": 101,
   "metadata": {
    "ExecuteTime": {
     "end_time": "2020-10-25T07:33:36.873723Z",
     "start_time": "2020-10-25T07:33:36.868722Z"
    }
   },
   "outputs": [
    {
     "data": {
      "text/plain": [
       "40"
      ]
     },
     "execution_count": 101,
     "metadata": {},
     "output_type": "execute_result"
    }
   ],
   "source": [
    "getsizeof(tuple())"
   ]
  },
  {
   "cell_type": "markdown",
   "metadata": {
    "ExecuteTime": {
     "end_time": "2020-10-25T07:01:59.307936Z",
     "start_time": "2020-10-25T07:01:59.303942Z"
    }
   },
   "source": [
    "### set"
   ]
  },
  {
   "cell_type": "raw",
   "metadata": {},
   "source": [
    "如果只是想缓存某些元素值，且要求元素值不能重复时，适合选用此结构。并且set内\n",
    "允许增删元素，且效率很高。"
   ]
  },
  {
   "cell_type": "code",
   "execution_count": 102,
   "metadata": {
    "ExecuteTime": {
     "end_time": "2020-10-25T07:33:37.180745Z",
     "start_time": "2020-10-25T07:33:37.175746Z"
    }
   },
   "outputs": [
    {
     "data": {
      "text/plain": [
       "{1, 2, 3, 4, 5}"
      ]
     },
     "execution_count": 102,
     "metadata": {},
     "output_type": "execute_result"
    }
   ],
   "source": [
    "a = [1,2,3, 5,4,2,3,5]\n",
    "b = set(a)\n",
    "b"
   ]
  },
  {
   "cell_type": "code",
   "execution_count": 103,
   "metadata": {
    "ExecuteTime": {
     "end_time": "2020-10-25T07:33:37.270751Z",
     "start_time": "2020-10-25T07:33:37.265753Z"
    }
   },
   "outputs": [
    {
     "data": {
      "text/plain": [
       "set"
      ]
     },
     "execution_count": 103,
     "metadata": {},
     "output_type": "execute_result"
    }
   ],
   "source": [
    "type(b)"
   ]
  },
  {
   "cell_type": "code",
   "execution_count": 104,
   "metadata": {
    "ExecuteTime": {
     "end_time": "2020-10-25T07:33:37.363758Z",
     "start_time": "2020-10-25T07:33:37.357758Z"
    }
   },
   "outputs": [
    {
     "data": {
      "text/plain": [
       "{1, 3, 4}"
      ]
     },
     "execution_count": 104,
     "metadata": {},
     "output_type": "execute_result"
    }
   ],
   "source": [
    "a = [1,2,3, 4,2,3,7,8,9]\n",
    "b = {1, 3, 4, 5}\n",
    "b.intersection(a)"
   ]
  },
  {
   "cell_type": "markdown",
   "metadata": {},
   "source": [
    "### dict"
   ]
  },
  {
   "cell_type": "raw",
   "metadata": {},
   "source": [
    "dict 是Python中使用最频繁的数据结构之一，字典创建由通过dict函数、{}写法、字典\n",
    "生成式等，增删查元素效率都很高。\n",
    "但是缺点是，dict占用字节数是list、tuple的3、4倍，因此对内存要求苛刻的场景要慎重考\n",
    "虑。"
   ]
  },
  {
   "cell_type": "code",
   "execution_count": 105,
   "metadata": {
    "ExecuteTime": {
     "end_time": "2020-10-25T07:33:37.665779Z",
     "start_time": "2020-10-25T07:33:37.659783Z"
    }
   },
   "outputs": [
    {
     "data": {
      "text/plain": [
       "{'a': 1, 'b': 2}"
      ]
     },
     "execution_count": 105,
     "metadata": {},
     "output_type": "execute_result"
    }
   ],
   "source": [
    "# 创建字典\n",
    "d = {'a':1, 'b':2}\n",
    "d"
   ]
  },
  {
   "cell_type": "code",
   "execution_count": 106,
   "metadata": {
    "ExecuteTime": {
     "end_time": "2020-10-25T07:33:37.758800Z",
     "start_time": "2020-10-25T07:33:37.751800Z"
    }
   },
   "outputs": [
    {
     "data": {
      "text/plain": [
       "{'b': 2, '1': 4}"
      ]
     },
     "execution_count": 106,
     "metadata": {},
     "output_type": "execute_result"
    }
   ],
   "source": [
    "d = {a:b for a,b in zip(['b','1'],[2, 4])}\n",
    "d"
   ]
  },
  {
   "cell_type": "markdown",
   "metadata": {},
   "source": [
    "### deque"
   ]
  },
  {
   "cell_type": "raw",
   "metadata": {},
   "source": [
    "deque 双端队列，基于list优化了列表两端的增删数据操作。\n",
    "\n",
    "list左侧添加删除元素的时间复杂度都为O(n)，所以在Python模拟队列时切忌使用list，\n",
    "相反使用deque双端队列非常适合频繁在列表两端操作的场景。但是，加强版的deque牺牲了空\n",
    "间复杂度，所以嵌套deque就要仔细trade-off"
   ]
  },
  {
   "cell_type": "code",
   "execution_count": 107,
   "metadata": {
    "ExecuteTime": {
     "end_time": "2020-10-25T07:33:38.045822Z",
     "start_time": "2020-10-25T07:33:38.040824Z"
    }
   },
   "outputs": [
    {
     "data": {
      "text/plain": [
       "2"
      ]
     },
     "execution_count": 107,
     "metadata": {},
     "output_type": "execute_result"
    }
   ],
   "source": [
    "from collections import deque\n",
    "d = deque([2, 3, 5, 6, 8])\n",
    "d.popleft()"
   ]
  },
  {
   "cell_type": "code",
   "execution_count": 108,
   "metadata": {
    "ExecuteTime": {
     "end_time": "2020-10-25T07:33:38.130843Z",
     "start_time": "2020-10-25T07:33:38.125844Z"
    }
   },
   "outputs": [
    {
     "data": {
      "text/plain": [
       "deque([3, 3, 5, 6, 8])"
      ]
     },
     "execution_count": 108,
     "metadata": {},
     "output_type": "execute_result"
    }
   ],
   "source": [
    "d.appendleft(3)\n",
    "d"
   ]
  },
  {
   "cell_type": "markdown",
   "metadata": {},
   "source": [
    "### Counter "
   ]
  },
  {
   "cell_type": "raw",
   "metadata": {
    "ExecuteTime": {
     "end_time": "2020-10-25T07:20:54.263644Z",
     "start_time": "2020-10-25T07:20:54.257644Z"
    }
   },
   "source": [
    "Counter一种继承于dict用于统计元素个数的数据结构，也称为bag 或 multiset\n",
    "\n",
    "基本的dict能解决的问题就不要用Counter，但如遇到统计元素出现频次的场景，就不\n",
    "要自己去用dict实现了，果断选用Counter.\n",
    "需要注意，Counter统计的元素要求可哈希(hashable)，换句话说如果统计list的出现次数就不可\n",
    "行，不过list转化为tuple不就可哈希了吗."
   ]
  },
  {
   "cell_type": "code",
   "execution_count": 109,
   "metadata": {
    "ExecuteTime": {
     "end_time": "2020-10-25T07:33:38.431864Z",
     "start_time": "2020-10-25T07:33:38.427866Z"
    }
   },
   "outputs": [],
   "source": [
    "from collections import Counter\n",
    "a = [1, 2,3,7,8,5,5,8,9,6,0,19,34,86,232,23]\n",
    "b = Counter(a)"
   ]
  },
  {
   "cell_type": "code",
   "execution_count": 110,
   "metadata": {
    "ExecuteTime": {
     "end_time": "2020-10-25T07:33:38.522870Z",
     "start_time": "2020-10-25T07:33:38.516872Z"
    }
   },
   "outputs": [
    {
     "data": {
      "text/plain": [
       "Counter({1: 1,\n",
       "         2: 1,\n",
       "         3: 1,\n",
       "         7: 1,\n",
       "         8: 2,\n",
       "         5: 2,\n",
       "         9: 1,\n",
       "         6: 1,\n",
       "         0: 1,\n",
       "         19: 1,\n",
       "         34: 1,\n",
       "         86: 1,\n",
       "         232: 1,\n",
       "         23: 1})"
      ]
     },
     "execution_count": 110,
     "metadata": {},
     "output_type": "execute_result"
    }
   ],
   "source": [
    "b"
   ]
  },
  {
   "cell_type": "code",
   "execution_count": 111,
   "metadata": {
    "ExecuteTime": {
     "end_time": "2020-10-25T07:33:38.606879Z",
     "start_time": "2020-10-25T07:33:38.600878Z"
    }
   },
   "outputs": [
    {
     "data": {
      "text/plain": [
       "[(8, 2), (5, 2), (1, 1)]"
      ]
     },
     "execution_count": 111,
     "metadata": {},
     "output_type": "execute_result"
    }
   ],
   "source": [
    "# 统计第一常见的项\n",
    "b.most_common(3)"
   ]
  },
  {
   "cell_type": "markdown",
   "metadata": {},
   "source": [
    "### OrderedDict"
   ]
  },
  {
   "cell_type": "raw",
   "metadata": {},
   "source": [
    "继承于dict，能确保keys值按照顺序取出来的数据结构\n",
    "\n",
    "基本的dict无法保证顺序，keys映射为哈希值，而此值不是按照顺序存储在散列表中\n",
    "的。所以遇到要确保字典keys有序场景，就要使用OrderedDict."
   ]
  },
  {
   "cell_type": "code",
   "execution_count": 115,
   "metadata": {
    "ExecuteTime": {
     "end_time": "2020-10-25T07:34:22.065983Z",
     "start_time": "2020-10-25T07:34:22.059982Z"
    }
   },
   "outputs": [
    {
     "data": {
      "text/plain": [
       "OrderedDict([('a', 1), ('c', 4), ('b', 2), ('2', 3), ('4s', 6)])"
      ]
     },
     "execution_count": 115,
     "metadata": {},
     "output_type": "execute_result"
    }
   ],
   "source": [
    "from collections import OrderedDict\n",
    "d = {'a':1,  'c': 4,'b':2, '2':3,'4s':6}\n",
    "c = OrderedDict(d)\n",
    "c"
   ]
  },
  {
   "cell_type": "code",
   "execution_count": 117,
   "metadata": {
    "ExecuteTime": {
     "end_time": "2020-10-25T07:34:33.825881Z",
     "start_time": "2020-10-25T07:34:33.820880Z"
    }
   },
   "outputs": [
    {
     "name": "stdout",
     "output_type": "stream",
     "text": [
      "a 1\n",
      "c 4\n",
      "b 2\n",
      "2 3\n",
      "4s 6\n"
     ]
    }
   ],
   "source": [
    "for k, v in c.items():\n",
    "    print(k,v)"
   ]
  },
  {
   "cell_type": "markdown",
   "metadata": {},
   "source": [
    "### heapq"
   ]
  },
  {
   "cell_type": "code",
   "execution_count": 30,
   "metadata": {
    "ExecuteTime": {
     "end_time": "2020-10-26T01:19:33.435305Z",
     "start_time": "2020-10-26T01:19:33.428327Z"
    }
   },
   "outputs": [
    {
     "data": {
      "text/plain": [
       "[1, 1, 2, 3, 2, 7, 6, 4, 3, 5]"
      ]
     },
     "execution_count": 30,
     "metadata": {},
     "output_type": "execute_result"
    }
   ],
   "source": [
    "import heapq\n",
    "a = [3, 1, 2, 4, 5, 7, 6, 1, 3, 2]\n",
    "heapq.heapify(a)\n",
    "a"
   ]
  },
  {
   "cell_type": "code",
   "execution_count": 31,
   "metadata": {
    "ExecuteTime": {
     "end_time": "2020-10-26T01:19:33.934110Z",
     "start_time": "2020-10-26T01:19:33.929111Z"
    }
   },
   "outputs": [
    {
     "data": {
      "text/plain": [
       "[7, 6, 5, 4, 3, 3]"
      ]
     },
     "execution_count": 31,
     "metadata": {},
     "output_type": "execute_result"
    }
   ],
   "source": [
    "heapq.nlargest(6, a)"
   ]
  },
  {
   "cell_type": "code",
   "execution_count": 32,
   "metadata": {
    "ExecuteTime": {
     "end_time": "2020-10-26T01:19:34.450148Z",
     "start_time": "2020-10-26T01:19:34.445148Z"
    }
   },
   "outputs": [
    {
     "data": {
      "text/plain": [
       "[1, 1]"
      ]
     },
     "execution_count": 32,
     "metadata": {},
     "output_type": "execute_result"
    }
   ],
   "source": [
    "heapq.nsmallest(2, a)"
   ]
  },
  {
   "cell_type": "markdown",
   "metadata": {},
   "source": [
    "### defaultdict"
   ]
  },
  {
   "cell_type": "code",
   "execution_count": 35,
   "metadata": {
    "ExecuteTime": {
     "end_time": "2020-10-26T01:36:13.187606Z",
     "start_time": "2020-10-26T01:36:13.180610Z"
    }
   },
   "outputs": [
    {
     "data": {
      "text/plain": [
       "{'book': [0, 3], 'nice': [1], 'great': [2]}"
      ]
     },
     "execution_count": 35,
     "metadata": {},
     "output_type": "execute_result"
    }
   ],
   "source": [
    "words = [\"book\", \"nice\", \"great\", \"book\"]\n",
    "d = {}\n",
    "for i,word in enumerate(words):\n",
    "    if word in d:\n",
    "        d[word].append(i)\n",
    "    else:\n",
    "        d[word] = [i]\n",
    "d"
   ]
  },
  {
   "cell_type": "code",
   "execution_count": 36,
   "metadata": {
    "ExecuteTime": {
     "end_time": "2020-10-26T01:38:27.267159Z",
     "start_time": "2020-10-26T01:38:27.259453Z"
    }
   },
   "outputs": [
    {
     "data": {
      "text/plain": [
       "defaultdict(list, {'book': [3], 'nice': [1], 'great': [2]})"
      ]
     },
     "execution_count": 36,
     "metadata": {},
     "output_type": "execute_result"
    }
   ],
   "source": [
    "from collections import defaultdict\n",
    "d = defaultdict(list)\n",
    "for i,word in enumerate(words):\n",
    "    d[word] = [i]\n",
    "d"
   ]
  },
  {
   "cell_type": "raw",
   "metadata": {},
   "source": [
    "适用于键的值必须指定一个默认值的场景，如键的值为\n",
    "list,set,dict等。\n",
    "实"
   ]
  },
  {
   "cell_type": "markdown",
   "metadata": {},
   "source": [
    "### ChainMap"
   ]
  },
  {
   "cell_type": "code",
   "execution_count": 37,
   "metadata": {
    "ExecuteTime": {
     "end_time": "2020-10-26T01:42:48.353358Z",
     "start_time": "2020-10-26T01:42:48.349357Z"
    }
   },
   "outputs": [],
   "source": [
    "from collections import ChainMap\n",
    "d1 = {'a':1, 'b':2, 'c':3}\n",
    "d2 = {'d':4, 'e':7}"
   ]
  },
  {
   "cell_type": "code",
   "execution_count": 39,
   "metadata": {
    "ExecuteTime": {
     "end_time": "2020-10-26T01:43:18.707562Z",
     "start_time": "2020-10-26T01:43:18.703564Z"
    }
   },
   "outputs": [
    {
     "data": {
      "text/plain": [
       "ChainMap({'a': 1, 'b': 2, 'c': 3}, {'d': 4, 'e': 7})"
      ]
     },
     "execution_count": 39,
     "metadata": {},
     "output_type": "execute_result"
    }
   ],
   "source": [
    "dcm = ChainMap(d1, d2) \n",
    "dcm"
   ]
  },
  {
   "cell_type": "code",
   "execution_count": 42,
   "metadata": {
    "ExecuteTime": {
     "end_time": "2020-10-26T01:44:19.280232Z",
     "start_time": "2020-10-26T01:44:19.274232Z"
    }
   },
   "outputs": [
    {
     "data": {
      "text/plain": [
       "[{'a': 1, 'b': 2, 'c': 3}, {'d': 4, 'e': 7}]"
      ]
     },
     "execution_count": 42,
     "metadata": {},
     "output_type": "execute_result"
    }
   ],
   "source": [
    "# 转为字典list\n",
    "a = dcm.maps\n",
    "a"
   ]
  },
  {
   "cell_type": "code",
   "execution_count": 43,
   "metadata": {
    "ExecuteTime": {
     "end_time": "2020-10-26T01:44:32.004169Z",
     "start_time": "2020-10-26T01:44:32.001169Z"
    }
   },
   "outputs": [],
   "source": [
    "a[0][\"c\"] = 30"
   ]
  },
  {
   "cell_type": "code",
   "execution_count": 44,
   "metadata": {
    "ExecuteTime": {
     "end_time": "2020-10-26T01:44:37.040488Z",
     "start_time": "2020-10-26T01:44:37.035489Z"
    }
   },
   "outputs": [
    {
     "data": {
      "text/plain": [
       "{'a': 1, 'b': 2, 'c': 30}"
      ]
     },
     "execution_count": 44,
     "metadata": {},
     "output_type": "execute_result"
    }
   ],
   "source": [
    "d1"
   ]
  },
  {
   "cell_type": "markdown",
   "metadata": {},
   "source": [
    "## Python包和模块使用注意事项"
   ]
  },
  {
   "cell_type": "raw",
   "metadata": {},
   "source": [
    "包(package)是一个文件夹，它里面会有一个__init__.py ，还有我们自己定义的.py文件。\n",
    "而我们自己定义的.py文件，python中称为模块(module)，一个模块就是一个py文件，里面封装\n",
    "了一个功能模块，可能有函数、类、变量等。"
   ]
  },
  {
   "attachments": {
    "image.png": {
     "image/png": "[encoded data removed]"
    }
   },
   "cell_type": "markdown",
   "metadata": {},
   "source": [
    "![image.png](attachment:image.png)"
   ]
  },
  {
   "cell_type": "raw",
   "metadata": {},
   "source": [
    "里面包括两个package,一个为animals包，另一个为search包. 每个package里都有一\n",
    "个__init__.py 文件。\n",
    "这种结构可以解决变量命名冲突"
   ]
  },
  {
   "cell_type": "raw",
   "metadata": {},
   "source": [
    "需添加animals包所在的文件夹路径，其中一种修改方法如下，直接粗暴向sys.path 中添\n",
    "加找不到的目录："
   ]
  },
  {
   "cell_type": "code",
   "execution_count": 47,
   "metadata": {
    "ExecuteTime": {
     "end_time": "2020-10-26T02:27:05.680345Z",
     "start_time": "2020-10-26T02:27:05.677344Z"
    }
   },
   "outputs": [],
   "source": [
    "# 调整为根目录(调用dirname一次获得其所在文件夹)\n",
    "# 就当前文件目录，我们两次便定位到根目录 classdemo\n",
    "# import os\n",
    "# BASE_DIR = os.path.dirname(os.path.dirname(os.path.abspath(__file__)))\n",
    "# # __file__获取执行文件相对路径，整行为取上一级的上一级目录\n",
    "# sys.path.append(BASE_DIR)\n",
    "# import animals"
   ]
  },
  {
   "cell_type": "code",
   "execution_count": null,
   "metadata": {},
   "outputs": [],
   "source": []
  }
 ],
 "metadata": {
  "kernelspec": {
   "display_name": "python38",
   "language": "python",
   "name": "env_py38"
  },
  "language_info": {
   "codemirror_mode": {
    "name": "ipython",
    "version": 3
   },
   "file_extension": ".py",
   "mimetype": "text/x-python",
   "name": "python",
   "nbconvert_exporter": "python",
   "pygments_lexer": "ipython3",
   "version": "3.8.2"
  },
  "toc": {
   "base_numbering": 1,
   "nav_menu": {},
   "number_sections": true,
   "sideBar": true,
   "skip_h1_title": false,
   "title_cell": "Table of Contents",
   "title_sidebar": "Contents",
   "toc_cell": false,
   "toc_position": {
    "height": "calc(100% - 180px)",
    "left": "10px",
    "top": "150px",
    "width": "256px"
   },
   "toc_section_display": true,
   "toc_window_display": true
  }
 },
 "nbformat": 4,
 "nbformat_minor": 4
}
