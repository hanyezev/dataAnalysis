{
 "cells": [
  {
   "cell_type": "code",
   "execution_count": 1,
   "metadata": {
    "ExecuteTime": {
     "end_time": "2020-11-08T09:46:50.494177Z",
     "start_time": "2020-11-08T09:46:49.662587Z"
    }
   },
   "outputs": [],
   "source": [
    "import pandas as pd\n",
    "from pandasgui import show "
   ]
  },
  {
   "cell_type": "code",
   "execution_count": 2,
   "metadata": {
    "ExecuteTime": {
     "end_time": "2020-11-08T09:46:51.424656Z",
     "start_time": "2020-11-08T09:46:51.184623Z"
    }
   },
   "outputs": [
    {
     "data": {
      "text/html": [
       "<div>\n",
       "<style scoped>\n",
       "    .dataframe tbody tr th:only-of-type {\n",
       "        vertical-align: middle;\n",
       "    }\n",
       "\n",
       "    .dataframe tbody tr th {\n",
       "        vertical-align: top;\n",
       "    }\n",
       "\n",
       "    .dataframe thead th {\n",
       "        text-align: right;\n",
       "    }\n",
       "</style>\n",
       "<table border=\"1\" class=\"dataframe\">\n",
       "  <thead>\n",
       "    <tr style=\"text-align: right;\">\n",
       "      <th></th>\n",
       "      <th>日期</th>\n",
       "      <th>DATA_DT</th>\n",
       "      <th>内存负载</th>\n",
       "      <th>主机CPU平均负载</th>\n",
       "    </tr>\n",
       "  </thead>\n",
       "  <tbody>\n",
       "    <tr>\n",
       "      <th>0</th>\n",
       "      <td>2020-03-01 01:00:00</td>\n",
       "      <td>1582995600</td>\n",
       "      <td>81.8242</td>\n",
       "      <td>2.8333</td>\n",
       "    </tr>\n",
       "    <tr>\n",
       "      <th>1</th>\n",
       "      <td>2020-03-01 02:00:00</td>\n",
       "      <td>1582999200</td>\n",
       "      <td>81.8145</td>\n",
       "      <td>3.1818</td>\n",
       "    </tr>\n",
       "    <tr>\n",
       "      <th>2</th>\n",
       "      <td>2020-03-01 03:00:00</td>\n",
       "      <td>1583002800</td>\n",
       "      <td>81.8092</td>\n",
       "      <td>3.0833</td>\n",
       "    </tr>\n",
       "    <tr>\n",
       "      <th>3</th>\n",
       "      <td>2020-03-01 04:00:00</td>\n",
       "      <td>1583006400</td>\n",
       "      <td>81.8042</td>\n",
       "      <td>3.0833</td>\n",
       "    </tr>\n",
       "    <tr>\n",
       "      <th>4</th>\n",
       "      <td>2020-03-01 05:00:00</td>\n",
       "      <td>1583010000</td>\n",
       "      <td>81.8333</td>\n",
       "      <td>2.5000</td>\n",
       "    </tr>\n",
       "    <tr>\n",
       "      <th>...</th>\n",
       "      <td>...</td>\n",
       "      <td>...</td>\n",
       "      <td>...</td>\n",
       "      <td>...</td>\n",
       "    </tr>\n",
       "    <tr>\n",
       "      <th>2202</th>\n",
       "      <td>2020-05-31 19:00:00</td>\n",
       "      <td>1590922800</td>\n",
       "      <td>70.6183</td>\n",
       "      <td>2.0000</td>\n",
       "    </tr>\n",
       "    <tr>\n",
       "      <th>2203</th>\n",
       "      <td>2020-05-31 20:00:00</td>\n",
       "      <td>1590926400</td>\n",
       "      <td>70.5208</td>\n",
       "      <td>1.9167</td>\n",
       "    </tr>\n",
       "    <tr>\n",
       "      <th>2204</th>\n",
       "      <td>2020-05-31 21:00:00</td>\n",
       "      <td>1590930000</td>\n",
       "      <td>70.5608</td>\n",
       "      <td>1.7500</td>\n",
       "    </tr>\n",
       "    <tr>\n",
       "      <th>2205</th>\n",
       "      <td>2020-05-31 22:00:00</td>\n",
       "      <td>1590933600</td>\n",
       "      <td>70.5292</td>\n",
       "      <td>2.0000</td>\n",
       "    </tr>\n",
       "    <tr>\n",
       "      <th>2206</th>\n",
       "      <td>2020-05-31 23:00:00</td>\n",
       "      <td>1590937200</td>\n",
       "      <td>70.5800</td>\n",
       "      <td>1.9167</td>\n",
       "    </tr>\n",
       "  </tbody>\n",
       "</table>\n",
       "<p>2207 rows × 4 columns</p>\n",
       "</div>"
      ],
      "text/plain": [
       "                       日期     DATA_DT     内存负载  主机CPU平均负载\n",
       "0     2020-03-01 01:00:00  1582995600  81.8242     2.8333\n",
       "1     2020-03-01 02:00:00  1582999200  81.8145     3.1818\n",
       "2     2020-03-01 03:00:00  1583002800  81.8092     3.0833\n",
       "3     2020-03-01 04:00:00  1583006400  81.8042     3.0833\n",
       "4     2020-03-01 05:00:00  1583010000  81.8333     2.5000\n",
       "...                   ...         ...      ...        ...\n",
       "2202  2020-05-31 19:00:00  1590922800  70.6183     2.0000\n",
       "2203  2020-05-31 20:00:00  1590926400  70.5208     1.9167\n",
       "2204  2020-05-31 21:00:00  1590930000  70.5608     1.7500\n",
       "2205  2020-05-31 22:00:00  1590933600  70.5292     2.0000\n",
       "2206  2020-05-31 23:00:00  1590937200  70.5800     1.9167\n",
       "\n",
       "[2207 rows x 4 columns]"
      ]
     },
     "execution_count": 2,
     "metadata": {},
     "output_type": "execute_result"
    }
   ],
   "source": [
    "df = pd.read_excel(r\"F:\\实验室\\电网项目\\服务器性能数据.xlsx\", index_col=0)\n",
    "df"
   ]
  },
  {
   "cell_type": "code",
   "execution_count": null,
   "metadata": {
    "ExecuteTime": {
     "start_time": "2020-11-08T09:46:52.268Z"
    }
   },
   "outputs": [],
   "source": [
    "show(df, settings={'block': True})"
   ]
  },
  {
   "cell_type": "code",
   "execution_count": null,
   "metadata": {},
   "outputs": [],
   "source": []
  }
 ],
 "metadata": {
  "kernelspec": {
   "display_name": "python38",
   "language": "python",
   "name": "env_py38"
  },
  "language_info": {
   "codemirror_mode": {
    "name": "ipython",
    "version": 3
   },
   "file_extension": ".py",
   "mimetype": "text/x-python",
   "name": "python",
   "nbconvert_exporter": "python",
   "pygments_lexer": "ipython3",
   "version": "3.8.2"
  },
  "toc": {
   "base_numbering": 1,
   "nav_menu": {},
   "number_sections": true,
   "sideBar": true,
   "skip_h1_title": false,
   "title_cell": "Table of Contents",
   "title_sidebar": "Contents",
   "toc_cell": false,
   "toc_position": {},
   "toc_section_display": true,
   "toc_window_display": false
  }
 },
 "nbformat": 4,
 "nbformat_minor": 4
}
