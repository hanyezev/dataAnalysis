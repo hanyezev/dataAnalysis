{
 "cells": [
  {
   "cell_type": "code",
   "execution_count": 11,
   "metadata": {
    "ExecuteTime": {
     "end_time": "2020-12-30T11:38:59.170217Z",
     "start_time": "2020-12-30T11:38:58.323130Z"
    }
   },
   "outputs": [
    {
     "ename": "ModuleNotFoundError",
     "evalue": "No module named 'pyramid'",
     "output_type": "error",
     "traceback": [
      "\u001b[1;31m---------------------------------------------------------------------------\u001b[0m",
      "\u001b[1;31mModuleNotFoundError\u001b[0m                       Traceback (most recent call last)",
      "\u001b[1;32m<ipython-input-11-9a38a3128d7f>\u001b[0m in \u001b[0;36m<module>\u001b[1;34m\u001b[0m\n\u001b[0;32m     22\u001b[0m \u001b[1;32mfrom\u001b[0m \u001b[0mstatsmodels\u001b[0m\u001b[1;33m.\u001b[0m\u001b[0mgraphics\u001b[0m\u001b[1;33m.\u001b[0m\u001b[0mapi\u001b[0m \u001b[1;32mimport\u001b[0m \u001b[0mqqplot\u001b[0m\u001b[1;33m\u001b[0m\u001b[1;33m\u001b[0m\u001b[0m\n\u001b[0;32m     23\u001b[0m \u001b[1;32mfrom\u001b[0m \u001b[0mstatsmodels\u001b[0m\u001b[1;33m.\u001b[0m\u001b[0mstats\u001b[0m\u001b[1;33m.\u001b[0m\u001b[0mstattools\u001b[0m \u001b[1;32mimport\u001b[0m \u001b[0mdurbin_watson\u001b[0m \u001b[1;31m#DW检验\u001b[0m\u001b[1;33m\u001b[0m\u001b[1;33m\u001b[0m\u001b[0m\n\u001b[1;32m---> 24\u001b[1;33m \u001b[1;32mfrom\u001b[0m \u001b[0mpyramid\u001b[0m \u001b[1;32mimport\u001b[0m \u001b[0mauto_arima\u001b[0m\u001b[1;33m\u001b[0m\u001b[1;33m\u001b[0m\u001b[0m\n\u001b[0m",
      "\u001b[1;31mModuleNotFoundError\u001b[0m: No module named 'pyramid'"
     ]
    }
   ],
   "source": [
    "import pandas as pd\n",
    "import numpy as np\n",
    "from dateutil.parser import parse\n",
    "import matplotlib as mpl\n",
    "from matplotlib.pyplot import MultipleLocator\n",
    "import matplotlib.pyplot as plt\n",
    "import statsmodels.tsa.stattools as ts\n",
    "import statsmodels.api as sm\n",
    "from statsmodels.stats.diagnostic import acorr_ljungbox\n",
    "from statsmodels.graphics.tsaplots import plot_acf,plot_pacf\n",
    "from datetime import datetime\n",
    "import time\n",
    "import random\n",
    "from scipy.interpolate import interp1d\n",
    "import statsmodels.api as sm\n",
    "import seaborn as sns\n",
    "import itertools\n",
    "from statsmodels.tsa.stattools import adfuller\n",
    "from numpy import mean\n",
    "import math\n",
    "import os\n",
    "from statsmodels.graphics.api import qqplot\n",
    "from statsmodels.stats.stattools import durbin_watson #DW检验\n",
    "from pyramid import auto_arima"
   ]
  },
  {
   "cell_type": "code",
   "execution_count": 2,
   "metadata": {
    "ExecuteTime": {
     "end_time": "2020-12-30T11:37:28.978895Z",
     "start_time": "2020-12-30T11:37:28.974892Z"
    }
   },
   "outputs": [],
   "source": [
    "# 绘图plt设置中文和负号正常显示\n",
    "plt.rcParams['font.sans-serif'] = 'Microsoft YaHei'\n",
    "plt.rcParams['axes.unicode_minus'] = False"
   ]
  },
  {
   "cell_type": "code",
   "execution_count": 3,
   "metadata": {
    "ExecuteTime": {
     "end_time": "2020-12-30T11:37:33.975653Z",
     "start_time": "2020-12-30T11:37:33.971652Z"
    }
   },
   "outputs": [],
   "source": [
    "def get_data_dir(dataname):\n",
    "    father_dir = os.path.abspath('..')\n",
    "    data_dir = father_dir + '\\data'+f'\\{dataname}'\n",
    "    return data_dir"
   ]
  },
  {
   "cell_type": "code",
   "execution_count": 4,
   "metadata": {
    "ExecuteTime": {
     "end_time": "2020-12-30T11:37:38.858833Z",
     "start_time": "2020-12-30T11:37:38.852833Z"
    }
   },
   "outputs": [],
   "source": [
    "def read_file(filename):\n",
    "    temp = filename.split(\".\")\n",
    "    if temp[1] == \"xlsx\" or temp[1] == \"xls\":\n",
    "        return pd.read_excel(get_data_dir(filename), index_col=0)\n",
    "    elif temp[1] == \"csv\":\n",
    "        return pd.read_csv(get_data_dir(filename), index_col=0)\n",
    "    else:\n",
    "        return \"文件不存在或格式不符\""
   ]
  },
  {
   "cell_type": "code",
   "execution_count": 5,
   "metadata": {
    "ExecuteTime": {
     "end_time": "2020-12-30T11:37:45.519837Z",
     "start_time": "2020-12-30T11:37:45.512835Z"
    }
   },
   "outputs": [],
   "source": [
    "def plot_df(df, x, y, title=\"\", xlabel='Index', ylabel='Value', dpi=100):\n",
    "    plt.figure(figsize=(16,5), dpi=dpi)\n",
    "    plt.plot(x, y, color='tab:blue')\n",
    "    plt.gca().set(title=title, xlabel=xlabel, ylabel=ylabel)\n",
    "    plt.show()"
   ]
  },
  {
   "cell_type": "code",
   "execution_count": 6,
   "metadata": {
    "ExecuteTime": {
     "end_time": "2020-12-30T11:37:49.547916Z",
     "start_time": "2020-12-30T11:37:49.541917Z"
    }
   },
   "outputs": [],
   "source": [
    "def knn_mean(ts, n):\n",
    "    out = np.copy(ts)\n",
    "    for i, val in enumerate(ts):\n",
    "        if np.isnan(val):\n",
    "            n_by_2 = np.ceil(n / 2)\n",
    "            lower = np.max([0, int(i - n_by_2)])\n",
    "            upper = np.min([len(ts) + 1, int(i + n_by_2)])\n",
    "            ts_near = np.concatenate([ts[lower:i], ts[i:upper]])\n",
    "            out[i] = np.nanmean(ts_near)\n",
    "    return out"
   ]
  },
  {
   "cell_type": "code",
   "execution_count": 7,
   "metadata": {
    "ExecuteTime": {
     "end_time": "2020-12-30T11:37:54.705411Z",
     "start_time": "2020-12-30T11:37:54.693410Z"
    },
    "code_folding": [
     0
    ]
   },
   "outputs": [],
   "source": [
    "def plot_freq(df,KPI,num):\n",
    "    df_freq = pd.DataFrame(index=df[KPI][0:num].index)\n",
    "    df_freq['天数'] = [f'第{int(d / 24) + 1}天' for d in df[KPI][0:num].index]\n",
    "    df_freq['小时'] = [f'{(d) % 24 + 1}' for d in df[KPI][0:2207].index]\n",
    "    df_freq['values'] = df[KPI][0:num]\n",
    "\n",
    "    # 绘图\n",
    "    week_num = df_freq['天数'].unique()\n",
    "    np.random.seed(100)\n",
    "    mycolors = np.random.choice(list(mpl.colors.XKCD_COLORS.keys()), len(week_num), replace=False)\n",
    "    plt.figure(figsize=(16, 12), dpi=80)\n",
    "    for i, y in enumerate(week_num[0:-1]):\n",
    "        plt.plot('小时', 'values', data=df_freq[df_freq[\"天数\"] == y], color=mycolors[i], label=y)\n",
    "    plt.gca().set(xlim=(0, 23), ylim=(70, 95), ylabel='$Memory Load$', xlabel='$Hour$')\n",
    "    plt.yticks(fontsize=12, alpha=.7)\n",
    "    plt.show()"
   ]
  },
  {
   "cell_type": "code",
   "execution_count": 8,
   "metadata": {
    "ExecuteTime": {
     "end_time": "2020-12-30T11:37:59.602009Z",
     "start_time": "2020-12-30T11:37:59.598007Z"
    },
    "code_folding": [
     0
    ]
   },
   "outputs": [],
   "source": [
    "def ADF_is_diff(adf):\n",
    "    P_value = adf[0]\n",
    "    p1 = adf[4]['1%']\n",
    "    p5 = adf[4]['5%']\n",
    "    p10 = adf[4]['10%']\n",
    "    if P_value < p1 and P_value < p5 and P_value < p10:\n",
    "        return False\n",
    "    else:\n",
    "        return True"
   ]
  },
  {
   "cell_type": "code",
   "execution_count": 9,
   "metadata": {
    "ExecuteTime": {
     "end_time": "2020-12-30T11:38:06.964544Z",
     "start_time": "2020-12-30T11:38:06.955543Z"
    },
    "code_folding": [
     0
    ]
   },
   "outputs": [],
   "source": [
    "def plot_BIC(timeSeries,p_min, p_max, q_min, q_max, d_min, d_max):\n",
    "    results_bic = pd.DataFrame(index=['AR{}'.format(i) for i in range(p_min, p_max + 1)],\n",
    "                               columns=['MA{}'.format(i) for i in range(q_min, q_max + 1)])\n",
    "    num = 1\n",
    "    for p, d, q in itertools.product(range(p_min, p_max + 1),\n",
    "                                     range(d_min, d_max + 1),\n",
    "                                     range(q_min, q_max + 1)):\n",
    "        if p == 0 and d == 0 and q == 0:\n",
    "            results_bic.loc['AR{}'.format(p), 'MA{}'.format(q)] = np.nan\n",
    "            continue\n",
    "\n",
    "        try:\n",
    "            model = sm.tsa.ARIMA(timeSeries, order=(p, d, q), #enforce_stationarity=False,enforce_invertibility=False,\n",
    "                                 )\n",
    "            results = model.fit()\n",
    "            num += 1\n",
    "            print(f\"循环{num}次\")\n",
    "            results_bic.loc['AR{}'.format(p), 'MA{}'.format(q)] = results.bic\n",
    "        except:\n",
    "            continue\n",
    "    results_bic = results_bic[results_bic.columns].astype(float)\n",
    "    return results_bic"
   ]
  },
  {
   "cell_type": "code",
   "execution_count": 10,
   "metadata": {
    "ExecuteTime": {
     "end_time": "2020-12-30T11:38:13.450751Z",
     "start_time": "2020-12-30T11:38:13.437749Z"
    },
    "code_folding": [
     0
    ]
   },
   "outputs": [],
   "source": [
    "def evaluate(truth, predict, n=None, p=None):\n",
    "    error = []\n",
    "    squaredError = []   # 差值平方\n",
    "    absError = []       # 绝对误差\n",
    "    truthDeviation = []     # 真实值与均值的差平方\n",
    "    percentError = []       # 误差百分比\n",
    "    for i in range(len(truth)):\n",
    "        error.append(truth[i]-predict[i])\n",
    "        percentError.append(abs(truth[i]-predict[i])/truth[i])\n",
    "    for val in error:\n",
    "        squaredError.append(val**2)\n",
    "        absError.append(abs(val))\n",
    "    truthMean = sum(truth) / len(truth)\n",
    "    for val in truth:\n",
    "        truthDeviation.append((val - truthMean) ** 2)\n",
    "\n",
    "    MSE = sum(squaredError)/len(squaredError)   # 均方误差MSE\n",
    "    RMSE = math.sqrt(MSE)                       # 均方根误差RMSE\n",
    "    MAE = sum(absError)/len(absError)           # 平均绝对误差MAE\n",
    "    R2 = 1 - sum(squaredError)/sum(truthDeviation)  # 决定系数\n",
    "    MAPE = sum(percentError)/len(percentError)  # 平均百分比误差MAPE\n",
    "\n",
    "    R2_adj = 1 - ((1-R2)(n-1))/(n-p-1)  # 矫正决定系数\n",
    "    return MSE,RMSE,MAE,MAPE,R2,R2_adj"
   ]
  },
  {
   "cell_type": "code",
   "execution_count": null,
   "metadata": {},
   "outputs": [],
   "source": []
  }
 ],
 "metadata": {
  "kernelspec": {
   "display_name": "python38",
   "language": "python",
   "name": "env_py38"
  },
  "language_info": {
   "codemirror_mode": {
    "name": "ipython",
    "version": 3
   },
   "file_extension": ".py",
   "mimetype": "text/x-python",
   "name": "python",
   "nbconvert_exporter": "python",
   "pygments_lexer": "ipython3",
   "version": "3.8.2"
  },
  "toc": {
   "base_numbering": 1,
   "nav_menu": {},
   "number_sections": true,
   "sideBar": true,
   "skip_h1_title": false,
   "title_cell": "Table of Contents",
   "title_sidebar": "Contents",
   "toc_cell": false,
   "toc_position": {},
   "toc_section_display": true,
   "toc_window_display": false
  }
 },
 "nbformat": 4,
 "nbformat_minor": 4
}
