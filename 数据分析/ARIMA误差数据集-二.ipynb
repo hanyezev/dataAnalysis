{
 "cells": [
  {
   "cell_type": "code",
   "execution_count": 1,
   "metadata": {},
   "outputs": [],
   "source": [
    "import pandas as pd\n",
    "import numpy as np\n",
    "from dateutil.parser import parse \n",
    "import matplotlib as mpl\n",
    "import seaborn as sns\n",
    "from matplotlib import pyplot as plt\n",
    "import statsmodels.tsa.stattools as ts\n",
    "import statsmodels.api as sm \n",
    "from statsmodels.stats.diagnostic import acorr_ljungbox\n",
    "from statsmodels.graphics.tsaplots import plot_acf,plot_pacf \n",
    "from datetime import datetime\n",
    "import time\n",
    "from scipy.interpolate import interp1d\n",
    "import statsmodels.api as sm\n",
    "import itertools\n",
    "import seaborn as sns\n",
    "# 设置中文和负号正常显示\n",
    "plt.rcParams['font.sans-serif'] = 'Microsoft YaHei'\n",
    "plt.rcParams['axes.unicode_minus'] = False"
   ]
  },
  {
   "cell_type": "markdown",
   "metadata": {},
   "source": [
    "### 导入数据"
   ]
  },
  {
   "cell_type": "code",
   "execution_count": 2,
   "metadata": {},
   "outputs": [
    {
     "data": {
      "text/html": [
       "<div>\n",
       "<style scoped>\n",
       "    .dataframe tbody tr th:only-of-type {\n",
       "        vertical-align: middle;\n",
       "    }\n",
       "\n",
       "    .dataframe tbody tr th {\n",
       "        vertical-align: top;\n",
       "    }\n",
       "\n",
       "    .dataframe thead th {\n",
       "        text-align: right;\n",
       "    }\n",
       "</style>\n",
       "<table border=\"1\" class=\"dataframe\">\n",
       "  <thead>\n",
       "    <tr style=\"text-align: right;\">\n",
       "      <th></th>\n",
       "      <th>日期</th>\n",
       "      <th>DATA_DT</th>\n",
       "      <th>内存负载</th>\n",
       "      <th>主机CPU平均负载</th>\n",
       "    </tr>\n",
       "  </thead>\n",
       "  <tbody>\n",
       "    <tr>\n",
       "      <th>0</th>\n",
       "      <td>2020-03-01 01:00:00</td>\n",
       "      <td>1582995600</td>\n",
       "      <td>81.8242</td>\n",
       "      <td>2.8333</td>\n",
       "    </tr>\n",
       "    <tr>\n",
       "      <th>1</th>\n",
       "      <td>2020-03-01 02:00:00</td>\n",
       "      <td>1582999200</td>\n",
       "      <td>81.8145</td>\n",
       "      <td>3.1818</td>\n",
       "    </tr>\n",
       "    <tr>\n",
       "      <th>2</th>\n",
       "      <td>2020-03-01 03:00:00</td>\n",
       "      <td>1583002800</td>\n",
       "      <td>81.8092</td>\n",
       "      <td>3.0833</td>\n",
       "    </tr>\n",
       "    <tr>\n",
       "      <th>3</th>\n",
       "      <td>2020-03-01 04:00:00</td>\n",
       "      <td>1583006400</td>\n",
       "      <td>81.8042</td>\n",
       "      <td>3.0833</td>\n",
       "    </tr>\n",
       "    <tr>\n",
       "      <th>4</th>\n",
       "      <td>2020-03-01 05:00:00</td>\n",
       "      <td>1583010000</td>\n",
       "      <td>81.8333</td>\n",
       "      <td>2.5000</td>\n",
       "    </tr>\n",
       "    <tr>\n",
       "      <th>...</th>\n",
       "      <td>...</td>\n",
       "      <td>...</td>\n",
       "      <td>...</td>\n",
       "      <td>...</td>\n",
       "    </tr>\n",
       "    <tr>\n",
       "      <th>2202</th>\n",
       "      <td>2020-05-31 19:00:00</td>\n",
       "      <td>1590922800</td>\n",
       "      <td>70.6183</td>\n",
       "      <td>2.0000</td>\n",
       "    </tr>\n",
       "    <tr>\n",
       "      <th>2203</th>\n",
       "      <td>2020-05-31 20:00:00</td>\n",
       "      <td>1590926400</td>\n",
       "      <td>70.5208</td>\n",
       "      <td>1.9167</td>\n",
       "    </tr>\n",
       "    <tr>\n",
       "      <th>2204</th>\n",
       "      <td>2020-05-31 21:00:00</td>\n",
       "      <td>1590930000</td>\n",
       "      <td>70.5608</td>\n",
       "      <td>1.7500</td>\n",
       "    </tr>\n",
       "    <tr>\n",
       "      <th>2205</th>\n",
       "      <td>2020-05-31 22:00:00</td>\n",
       "      <td>1590933600</td>\n",
       "      <td>70.5292</td>\n",
       "      <td>2.0000</td>\n",
       "    </tr>\n",
       "    <tr>\n",
       "      <th>2206</th>\n",
       "      <td>2020-05-31 23:00:00</td>\n",
       "      <td>1590937200</td>\n",
       "      <td>70.5800</td>\n",
       "      <td>1.9167</td>\n",
       "    </tr>\n",
       "  </tbody>\n",
       "</table>\n",
       "<p>2207 rows × 4 columns</p>\n",
       "</div>"
      ],
      "text/plain": [
       "                       日期     DATA_DT     内存负载  主机CPU平均负载\n",
       "0     2020-03-01 01:00:00  1582995600  81.8242     2.8333\n",
       "1     2020-03-01 02:00:00  1582999200  81.8145     3.1818\n",
       "2     2020-03-01 03:00:00  1583002800  81.8092     3.0833\n",
       "3     2020-03-01 04:00:00  1583006400  81.8042     3.0833\n",
       "4     2020-03-01 05:00:00  1583010000  81.8333     2.5000\n",
       "...                   ...         ...      ...        ...\n",
       "2202  2020-05-31 19:00:00  1590922800  70.6183     2.0000\n",
       "2203  2020-05-31 20:00:00  1590926400  70.5208     1.9167\n",
       "2204  2020-05-31 21:00:00  1590930000  70.5608     1.7500\n",
       "2205  2020-05-31 22:00:00  1590933600  70.5292     2.0000\n",
       "2206  2020-05-31 23:00:00  1590937200  70.5800     1.9167\n",
       "\n",
       "[2207 rows x 4 columns]"
      ]
     },
     "execution_count": 2,
     "metadata": {},
     "output_type": "execute_result"
    }
   ],
   "source": [
    "df = pd.read_excel(r\"F:\\实验室\\电网项目\\服务器性能数据.xlsx\", index_col=0)\n",
    "df"
   ]
  },
  {
   "cell_type": "code",
   "execution_count": 3,
   "metadata": {},
   "outputs": [
    {
     "data": {
      "text/plain": [
       "True"
      ]
     },
     "execution_count": 3,
     "metadata": {},
     "output_type": "execute_result"
    }
   ],
   "source": [
    "df[\"内存负载\"].isnull().any()"
   ]
  },
  {
   "cell_type": "code",
   "execution_count": 4,
   "metadata": {},
   "outputs": [
    {
     "data": {
      "text/plain": [
       "日期           2020-03-08 07:00:00\n",
       "DATA_DT               1583622000\n",
       "内存负载                     81.9075\n",
       "主机CPU平均负载                 3.9167\n",
       "Name: 174, dtype: object"
      ]
     },
     "execution_count": 4,
     "metadata": {},
     "output_type": "execute_result"
    }
   ],
   "source": [
    "df.loc[174]"
   ]
  },
  {
   "cell_type": "code",
   "execution_count": 5,
   "metadata": {},
   "outputs": [],
   "source": [
    "# Draw Plot-----绘图函数\n",
    "def plot_df(df, x, y, title=\"\", xlabel='Date', ylabel='Value', dpi=100):\n",
    "    plt.figure(figsize=(16,5), dpi=dpi)\n",
    "    plt.plot(x, y, color='tab:red')\n",
    "    plt.gca().set(title=title, xlabel=xlabel, ylabel=ylabel)\n",
    "    plt.show()\n",
    "# plot_df(df, x=df.index, y= df[\"内存负载\"], title='Memory load')"
   ]
  },
  {
   "cell_type": "markdown",
   "metadata": {},
   "source": [
    "### 缺失值填充"
   ]
  },
  {
   "cell_type": "code",
   "execution_count": 6,
   "metadata": {},
   "outputs": [],
   "source": [
    "# k近邻法\n",
    "def knn_mean(ts, n):\n",
    "    out = np.copy(ts)\n",
    "    for i, val in enumerate(ts):\n",
    "        if np.isnan(val):\n",
    "            n_by_2 = np.ceil(n / 2)\n",
    "            lower = np.max([0, int(i - n_by_2)])\n",
    "            upper = np.min([len(ts) + 1, int(i + n_by_2)])\n",
    "            ts_near = np.concatenate([ts[lower:i], ts[i:upper]])\n",
    "            out[i] = np.nanmean(ts_near)\n",
    "    return out\n",
    "# 使用k-近邻法填补缺失值\n",
    "df[\"内存负载\"] = knn_mean(df[\"内存负载\"], 24)"
   ]
  },
  {
   "cell_type": "code",
   "execution_count": 7,
   "metadata": {},
   "outputs": [
    {
     "data": {
      "image/png": "[encoded data removed]",
      "text/plain": [
       "<Figure size 1600x500 with 1 Axes>"
      ]
     },
     "metadata": {
      "needs_background": "light"
     },
     "output_type": "display_data"
    }
   ],
   "source": [
    "plot_df(df, x=df.index, y= df[\"内存负载\"], title='Memory load')"
   ]
  },
  {
   "cell_type": "code",
   "execution_count": 8,
   "metadata": {},
   "outputs": [
    {
     "data": {
      "text/plain": [
       "日期           2020-05-31 18:00:00\n",
       "DATA_DT               1590919200\n",
       "内存负载                     70.7008\n",
       "主机CPU平均负载                 1.8333\n",
       "Name: 2201, dtype: object"
      ]
     },
     "execution_count": 8,
     "metadata": {},
     "output_type": "execute_result"
    }
   ],
   "source": [
    "df.loc[2201]"
   ]
  },
  {
   "cell_type": "markdown",
   "metadata": {},
   "source": [
    "### 去除季节性因素"
   ]
  },
  {
   "cell_type": "code",
   "execution_count": 9,
   "metadata": {},
   "outputs": [],
   "source": [
    "temp_Series =df[\"内存负载\"]"
   ]
  },
  {
   "cell_type": "code",
   "execution_count": 10,
   "metadata": {},
   "outputs": [
    {
     "data": {
      "text/plain": [
       "Text(0.5, 0.98, 'Additive Decompose')"
      ]
     },
     "execution_count": 10,
     "metadata": {},
     "output_type": "execute_result"
    },
    {
     "data": {
      "image/png": "[encoded data removed]",
      "text/plain": [
       "<Figure size 720x720 with 4 Axes>"
      ]
     },
     "metadata": {
      "needs_background": "light"
     },
     "output_type": "display_data"
    }
   ],
   "source": [
    "plt.rcParams.update({'figure.figsize': (10,10)})\n",
    "result_add = sm.tsa.seasonal_decompose(temp_Series, model='additive',period = 24, extrapolate_trend='freq')\n",
    "result_add.plot().suptitle('Additive Decompose', fontsize=22)"
   ]
  },
  {
   "cell_type": "code",
   "execution_count": 11,
   "metadata": {},
   "outputs": [
    {
     "data": {
      "image/png": "[encoded data removed]",
      "text/plain": [
       "<Figure size 1600x500 with 1 Axes>"
      ]
     },
     "metadata": {
      "needs_background": "light"
     },
     "output_type": "display_data"
    }
   ],
   "source": [
    "# 周期值24\n",
    "a = result_add.seasonal\n",
    "season = []\n",
    "for i in range(24):\n",
    "    season.append(a[i])\n",
    "plot_df(season, x=range(24), y= season, title='Day freq')\n",
    "# season[-1]"
   ]
  },
  {
   "cell_type": "code",
   "execution_count": 12,
   "metadata": {},
   "outputs": [
    {
     "data": {
      "text/plain": [
       "0       81.879860\n",
       "1       81.919616\n",
       "2       81.900399\n",
       "3       81.949771\n",
       "4       81.922626\n",
       "          ...    \n",
       "2202    70.637365\n",
       "2203    70.599807\n",
       "2204    70.693303\n",
       "2205    70.676840\n",
       "2206    70.699328\n",
       "Length: 2207, dtype: float64"
      ]
     },
     "execution_count": 12,
     "metadata": {},
     "output_type": "execute_result"
    }
   ],
   "source": [
    "arr = temp_Series - result_add.seasonal\n",
    "arr"
   ]
  },
  {
   "cell_type": "markdown",
   "metadata": {},
   "source": [
    "### 准备数据"
   ]
  },
  {
   "cell_type": "code",
   "execution_count": 13,
   "metadata": {},
   "outputs": [],
   "source": [
    "train = arr[0:2046]\n",
    "test = arr[1878:2046]\n",
    "test_X = test.values\n",
    "# test_X"
   ]
  },
  {
   "cell_type": "code",
   "execution_count": 37,
   "metadata": {},
   "outputs": [
    {
     "data": {
      "text/html": [
       "<div>\n",
       "<style scoped>\n",
       "    .dataframe tbody tr th:only-of-type {\n",
       "        vertical-align: middle;\n",
       "    }\n",
       "\n",
       "    .dataframe tbody tr th {\n",
       "        vertical-align: top;\n",
       "    }\n",
       "\n",
       "    .dataframe thead th {\n",
       "        text-align: right;\n",
       "    }\n",
       "</style>\n",
       "<table border=\"1\" class=\"dataframe\">\n",
       "  <thead>\n",
       "    <tr style=\"text-align: right;\">\n",
       "      <th></th>\n",
       "      <th>0</th>\n",
       "      <th>1</th>\n",
       "      <th>2</th>\n",
       "      <th>3</th>\n",
       "      <th>4</th>\n",
       "      <th>5</th>\n",
       "      <th>6</th>\n",
       "      <th>7</th>\n",
       "      <th>8</th>\n",
       "      <th>9</th>\n",
       "      <th>...</th>\n",
       "      <th>326</th>\n",
       "      <th>327</th>\n",
       "      <th>328</th>\n",
       "      <th>329</th>\n",
       "      <th>330</th>\n",
       "      <th>331</th>\n",
       "      <th>332</th>\n",
       "      <th>333</th>\n",
       "      <th>334</th>\n",
       "      <th>335</th>\n",
       "    </tr>\n",
       "  </thead>\n",
       "  <tbody>\n",
       "    <tr>\n",
       "      <th>0</th>\n",
       "      <td>81.902871</td>\n",
       "      <td>81.908978</td>\n",
       "      <td>81.755254</td>\n",
       "      <td>81.509962</td>\n",
       "      <td>81.394059</td>\n",
       "      <td>81.391026</td>\n",
       "      <td>81.506417</td>\n",
       "      <td>81.560319</td>\n",
       "      <td>81.445677</td>\n",
       "      <td>81.325886</td>\n",
       "      <td>...</td>\n",
       "      <td>82.469803</td>\n",
       "      <td>82.53594</td>\n",
       "      <td>82.543528</td>\n",
       "      <td>82.575683</td>\n",
       "      <td>82.62566</td>\n",
       "      <td>82.539616</td>\n",
       "      <td>82.521999</td>\n",
       "      <td>82.564771</td>\n",
       "      <td>82.576326</td>\n",
       "      <td>82.630757</td>\n",
       "    </tr>\n",
       "    <tr>\n",
       "      <th>1</th>\n",
       "      <td>81.676971</td>\n",
       "      <td>81.661578</td>\n",
       "      <td>81.752754</td>\n",
       "      <td>81.620462</td>\n",
       "      <td>81.372259</td>\n",
       "      <td>81.325226</td>\n",
       "      <td>81.333717</td>\n",
       "      <td>81.165319</td>\n",
       "      <td>81.038977</td>\n",
       "      <td>81.055886</td>\n",
       "      <td>...</td>\n",
       "      <td>82.148903</td>\n",
       "      <td>82.14514</td>\n",
       "      <td>82.129328</td>\n",
       "      <td>82.204783</td>\n",
       "      <td>82.22476</td>\n",
       "      <td>82.240916</td>\n",
       "      <td>82.284499</td>\n",
       "      <td>82.287371</td>\n",
       "      <td>82.276826</td>\n",
       "      <td>82.345757</td>\n",
       "    </tr>\n",
       "    <tr>\n",
       "      <th>2</th>\n",
       "      <td>81.154471</td>\n",
       "      <td>81.111578</td>\n",
       "      <td>81.068854</td>\n",
       "      <td>80.997462</td>\n",
       "      <td>81.075959</td>\n",
       "      <td>81.031026</td>\n",
       "      <td>81.128917</td>\n",
       "      <td>81.202219</td>\n",
       "      <td>81.185677</td>\n",
       "      <td>81.210986</td>\n",
       "      <td>...</td>\n",
       "      <td>82.787503</td>\n",
       "      <td>82.84944</td>\n",
       "      <td>82.966028</td>\n",
       "      <td>83.003983</td>\n",
       "      <td>83.05146</td>\n",
       "      <td>82.970116</td>\n",
       "      <td>82.955399</td>\n",
       "      <td>82.987271</td>\n",
       "      <td>83.018526</td>\n",
       "      <td>82.965757</td>\n",
       "    </tr>\n",
       "    <tr>\n",
       "      <th>3</th>\n",
       "      <td>81.618671</td>\n",
       "      <td>81.589878</td>\n",
       "      <td>81.449454</td>\n",
       "      <td>81.155762</td>\n",
       "      <td>81.263759</td>\n",
       "      <td>81.542726</td>\n",
       "      <td>81.664717</td>\n",
       "      <td>81.640319</td>\n",
       "      <td>81.546477</td>\n",
       "      <td>81.476486</td>\n",
       "      <td>...</td>\n",
       "      <td>84.174203</td>\n",
       "      <td>84.12434</td>\n",
       "      <td>84.184828</td>\n",
       "      <td>84.266483</td>\n",
       "      <td>84.32646</td>\n",
       "      <td>84.230916</td>\n",
       "      <td>84.162899</td>\n",
       "      <td>84.201071</td>\n",
       "      <td>84.241026</td>\n",
       "      <td>84.193257</td>\n",
       "    </tr>\n",
       "    <tr>\n",
       "      <th>4</th>\n",
       "      <td>81.613671</td>\n",
       "      <td>81.599078</td>\n",
       "      <td>81.631654</td>\n",
       "      <td>81.564962</td>\n",
       "      <td>81.507059</td>\n",
       "      <td>81.336926</td>\n",
       "      <td>81.336417</td>\n",
       "      <td>81.407819</td>\n",
       "      <td>81.256477</td>\n",
       "      <td>81.515886</td>\n",
       "      <td>...</td>\n",
       "      <td>84.629203</td>\n",
       "      <td>84.78514</td>\n",
       "      <td>84.867628</td>\n",
       "      <td>84.922283</td>\n",
       "      <td>84.93566</td>\n",
       "      <td>84.907616</td>\n",
       "      <td>84.864499</td>\n",
       "      <td>84.936371</td>\n",
       "      <td>84.975126</td>\n",
       "      <td>84.951557</td>\n",
       "    </tr>\n",
       "    <tr>\n",
       "      <th>...</th>\n",
       "      <td>...</td>\n",
       "      <td>...</td>\n",
       "      <td>...</td>\n",
       "      <td>...</td>\n",
       "      <td>...</td>\n",
       "      <td>...</td>\n",
       "      <td>...</td>\n",
       "      <td>...</td>\n",
       "      <td>...</td>\n",
       "      <td>...</td>\n",
       "      <td>...</td>\n",
       "      <td>...</td>\n",
       "      <td>...</td>\n",
       "      <td>...</td>\n",
       "      <td>...</td>\n",
       "      <td>...</td>\n",
       "      <td>...</td>\n",
       "      <td>...</td>\n",
       "      <td>...</td>\n",
       "      <td>...</td>\n",
       "      <td>...</td>\n",
       "    </tr>\n",
       "    <tr>\n",
       "      <th>66</th>\n",
       "      <td>90.026171</td>\n",
       "      <td>89.995678</td>\n",
       "      <td>90.048554</td>\n",
       "      <td>89.629962</td>\n",
       "      <td>89.649559</td>\n",
       "      <td>90.216026</td>\n",
       "      <td>90.579717</td>\n",
       "      <td>90.360319</td>\n",
       "      <td>90.525677</td>\n",
       "      <td>90.583386</td>\n",
       "      <td>...</td>\n",
       "      <td>73.871703</td>\n",
       "      <td>73.98934</td>\n",
       "      <td>73.954328</td>\n",
       "      <td>73.920683</td>\n",
       "      <td>74.05236</td>\n",
       "      <td>74.118416</td>\n",
       "      <td>74.165399</td>\n",
       "      <td>74.138071</td>\n",
       "      <td>74.114326</td>\n",
       "      <td>74.099057</td>\n",
       "    </tr>\n",
       "    <tr>\n",
       "      <th>67</th>\n",
       "      <td>90.998671</td>\n",
       "      <td>91.031578</td>\n",
       "      <td>91.005254</td>\n",
       "      <td>90.900762</td>\n",
       "      <td>90.949559</td>\n",
       "      <td>90.327726</td>\n",
       "      <td>90.045617</td>\n",
       "      <td>90.202819</td>\n",
       "      <td>90.433977</td>\n",
       "      <td>90.383386</td>\n",
       "      <td>...</td>\n",
       "      <td>71.942503</td>\n",
       "      <td>71.89684</td>\n",
       "      <td>71.860128</td>\n",
       "      <td>71.828183</td>\n",
       "      <td>71.73236</td>\n",
       "      <td>71.837616</td>\n",
       "      <td>71.854499</td>\n",
       "      <td>71.867271</td>\n",
       "      <td>71.813526</td>\n",
       "      <td>71.841557</td>\n",
       "    </tr>\n",
       "    <tr>\n",
       "      <th>68</th>\n",
       "      <td>90.616971</td>\n",
       "      <td>90.669878</td>\n",
       "      <td>90.531954</td>\n",
       "      <td>90.533262</td>\n",
       "      <td>90.716259</td>\n",
       "      <td>90.106926</td>\n",
       "      <td>89.825617</td>\n",
       "      <td>89.705319</td>\n",
       "      <td>89.853977</td>\n",
       "      <td>90.145086</td>\n",
       "      <td>...</td>\n",
       "      <td>73.023303</td>\n",
       "      <td>72.96264</td>\n",
       "      <td>73.024328</td>\n",
       "      <td>73.023983</td>\n",
       "      <td>73.03236</td>\n",
       "      <td>72.957616</td>\n",
       "      <td>72.856999</td>\n",
       "      <td>72.925571</td>\n",
       "      <td>72.908526</td>\n",
       "      <td>72.894957</td>\n",
       "    </tr>\n",
       "    <tr>\n",
       "      <th>69</th>\n",
       "      <td>90.256171</td>\n",
       "      <td>90.077378</td>\n",
       "      <td>90.067754</td>\n",
       "      <td>90.195762</td>\n",
       "      <td>90.334559</td>\n",
       "      <td>89.681926</td>\n",
       "      <td>88.933917</td>\n",
       "      <td>88.847819</td>\n",
       "      <td>88.968977</td>\n",
       "      <td>89.240086</td>\n",
       "      <td>...</td>\n",
       "      <td>71.948303</td>\n",
       "      <td>71.35764</td>\n",
       "      <td>71.389328</td>\n",
       "      <td>71.443983</td>\n",
       "      <td>71.49396</td>\n",
       "      <td>71.480916</td>\n",
       "      <td>71.406199</td>\n",
       "      <td>71.504771</td>\n",
       "      <td>71.443526</td>\n",
       "      <td>71.456557</td>\n",
       "    </tr>\n",
       "    <tr>\n",
       "      <th>70</th>\n",
       "      <td>88.811171</td>\n",
       "      <td>88.814078</td>\n",
       "      <td>88.681054</td>\n",
       "      <td>88.459162</td>\n",
       "      <td>88.057059</td>\n",
       "      <td>87.835226</td>\n",
       "      <td>87.731417</td>\n",
       "      <td>87.787019</td>\n",
       "      <td>87.628977</td>\n",
       "      <td>87.510086</td>\n",
       "      <td>...</td>\n",
       "      <td>70.953303</td>\n",
       "      <td>70.85094</td>\n",
       "      <td>70.844328</td>\n",
       "      <td>70.799783</td>\n",
       "      <td>70.78316</td>\n",
       "      <td>70.921816</td>\n",
       "      <td>70.991999</td>\n",
       "      <td>70.878071</td>\n",
       "      <td>70.915126</td>\n",
       "      <td>70.964057</td>\n",
       "    </tr>\n",
       "  </tbody>\n",
       "</table>\n",
       "<p>71 rows × 336 columns</p>\n",
       "</div>"
      ],
      "text/plain": [
       "          0          1          2          3          4          5    \\\n",
       "0   81.902871  81.908978  81.755254  81.509962  81.394059  81.391026   \n",
       "1   81.676971  81.661578  81.752754  81.620462  81.372259  81.325226   \n",
       "2   81.154471  81.111578  81.068854  80.997462  81.075959  81.031026   \n",
       "3   81.618671  81.589878  81.449454  81.155762  81.263759  81.542726   \n",
       "4   81.613671  81.599078  81.631654  81.564962  81.507059  81.336926   \n",
       "..        ...        ...        ...        ...        ...        ...   \n",
       "66  90.026171  89.995678  90.048554  89.629962  89.649559  90.216026   \n",
       "67  90.998671  91.031578  91.005254  90.900762  90.949559  90.327726   \n",
       "68  90.616971  90.669878  90.531954  90.533262  90.716259  90.106926   \n",
       "69  90.256171  90.077378  90.067754  90.195762  90.334559  89.681926   \n",
       "70  88.811171  88.814078  88.681054  88.459162  88.057059  87.835226   \n",
       "\n",
       "          6          7          8          9    ...        326       327  \\\n",
       "0   81.506417  81.560319  81.445677  81.325886  ...  82.469803  82.53594   \n",
       "1   81.333717  81.165319  81.038977  81.055886  ...  82.148903  82.14514   \n",
       "2   81.128917  81.202219  81.185677  81.210986  ...  82.787503  82.84944   \n",
       "3   81.664717  81.640319  81.546477  81.476486  ...  84.174203  84.12434   \n",
       "4   81.336417  81.407819  81.256477  81.515886  ...  84.629203  84.78514   \n",
       "..        ...        ...        ...        ...  ...        ...       ...   \n",
       "66  90.579717  90.360319  90.525677  90.583386  ...  73.871703  73.98934   \n",
       "67  90.045617  90.202819  90.433977  90.383386  ...  71.942503  71.89684   \n",
       "68  89.825617  89.705319  89.853977  90.145086  ...  73.023303  72.96264   \n",
       "69  88.933917  88.847819  88.968977  89.240086  ...  71.948303  71.35764   \n",
       "70  87.731417  87.787019  87.628977  87.510086  ...  70.953303  70.85094   \n",
       "\n",
       "          328        329       330        331        332        333  \\\n",
       "0   82.543528  82.575683  82.62566  82.539616  82.521999  82.564771   \n",
       "1   82.129328  82.204783  82.22476  82.240916  82.284499  82.287371   \n",
       "2   82.966028  83.003983  83.05146  82.970116  82.955399  82.987271   \n",
       "3   84.184828  84.266483  84.32646  84.230916  84.162899  84.201071   \n",
       "4   84.867628  84.922283  84.93566  84.907616  84.864499  84.936371   \n",
       "..        ...        ...       ...        ...        ...        ...   \n",
       "66  73.954328  73.920683  74.05236  74.118416  74.165399  74.138071   \n",
       "67  71.860128  71.828183  71.73236  71.837616  71.854499  71.867271   \n",
       "68  73.024328  73.023983  73.03236  72.957616  72.856999  72.925571   \n",
       "69  71.389328  71.443983  71.49396  71.480916  71.406199  71.504771   \n",
       "70  70.844328  70.799783  70.78316  70.921816  70.991999  70.878071   \n",
       "\n",
       "          334        335  \n",
       "0   82.576326  82.630757  \n",
       "1   82.276826  82.345757  \n",
       "2   83.018526  82.965757  \n",
       "3   84.241026  84.193257  \n",
       "4   84.975126  84.951557  \n",
       "..        ...        ...  \n",
       "66  74.114326  74.099057  \n",
       "67  71.813526  71.841557  \n",
       "68  72.908526  72.894957  \n",
       "69  71.443526  71.456557  \n",
       "70  70.915126  70.964057  \n",
       "\n",
       "[71 rows x 336 columns]"
      ]
     },
     "execution_count": 37,
     "metadata": {},
     "output_type": "execute_result"
    }
   ],
   "source": [
    "ARIMA_input = []\n",
    "for i in range(71):\n",
    "    arr = train.loc[6+i*24:341+i*24]\n",
    "    ARIMA_input.append(arr.values)\n",
    "ma = pd.DataFrame(ARIMA_input)\n",
    "ma"
   ]
  },
  {
   "cell_type": "code",
   "execution_count": 64,
   "metadata": {},
   "outputs": [
    {
     "data": {
      "text/html": [
       "<div>\n",
       "<style scoped>\n",
       "    .dataframe tbody tr th:only-of-type {\n",
       "        vertical-align: middle;\n",
       "    }\n",
       "\n",
       "    .dataframe tbody tr th {\n",
       "        vertical-align: top;\n",
       "    }\n",
       "\n",
       "    .dataframe thead th {\n",
       "        text-align: right;\n",
       "    }\n",
       "</style>\n",
       "<table border=\"1\" class=\"dataframe\">\n",
       "  <thead>\n",
       "    <tr style=\"text-align: right;\">\n",
       "      <th></th>\n",
       "      <th>0</th>\n",
       "      <th>1</th>\n",
       "      <th>2</th>\n",
       "      <th>3</th>\n",
       "      <th>4</th>\n",
       "      <th>5</th>\n",
       "      <th>6</th>\n",
       "      <th>7</th>\n",
       "      <th>8</th>\n",
       "      <th>9</th>\n",
       "      <th>10</th>\n",
       "      <th>11</th>\n",
       "    </tr>\n",
       "  </thead>\n",
       "  <tbody>\n",
       "    <tr>\n",
       "      <th>0</th>\n",
       "      <td>82.491971</td>\n",
       "      <td>82.419878</td>\n",
       "      <td>82.361954</td>\n",
       "      <td>82.202962</td>\n",
       "      <td>82.163759</td>\n",
       "      <td>82.116026</td>\n",
       "      <td>82.193117</td>\n",
       "      <td>82.189519</td>\n",
       "      <td>82.008977</td>\n",
       "      <td>81.896786</td>\n",
       "      <td>81.958735</td>\n",
       "      <td>82.000161</td>\n",
       "    </tr>\n",
       "    <tr>\n",
       "      <th>1</th>\n",
       "      <td>82.349471</td>\n",
       "      <td>82.306578</td>\n",
       "      <td>82.172554</td>\n",
       "      <td>82.216662</td>\n",
       "      <td>82.377059</td>\n",
       "      <td>82.450226</td>\n",
       "      <td>82.369717</td>\n",
       "      <td>82.409519</td>\n",
       "      <td>82.396477</td>\n",
       "      <td>82.520086</td>\n",
       "      <td>82.563735</td>\n",
       "      <td>82.806961</td>\n",
       "    </tr>\n",
       "    <tr>\n",
       "      <th>2</th>\n",
       "      <td>82.908671</td>\n",
       "      <td>82.827878</td>\n",
       "      <td>82.816954</td>\n",
       "      <td>83.252462</td>\n",
       "      <td>83.381259</td>\n",
       "      <td>83.431026</td>\n",
       "      <td>83.556417</td>\n",
       "      <td>83.542219</td>\n",
       "      <td>83.498977</td>\n",
       "      <td>83.819286</td>\n",
       "      <td>84.157935</td>\n",
       "      <td>84.005961</td>\n",
       "    </tr>\n",
       "    <tr>\n",
       "      <th>3</th>\n",
       "      <td>84.116171</td>\n",
       "      <td>84.107178</td>\n",
       "      <td>83.998854</td>\n",
       "      <td>84.024162</td>\n",
       "      <td>84.066259</td>\n",
       "      <td>84.281926</td>\n",
       "      <td>84.246417</td>\n",
       "      <td>84.512819</td>\n",
       "      <td>84.349277</td>\n",
       "      <td>84.653386</td>\n",
       "      <td>84.557135</td>\n",
       "      <td>84.587661</td>\n",
       "    </tr>\n",
       "    <tr>\n",
       "      <th>4</th>\n",
       "      <td>84.786171</td>\n",
       "      <td>84.853178</td>\n",
       "      <td>85.006054</td>\n",
       "      <td>85.220562</td>\n",
       "      <td>85.142059</td>\n",
       "      <td>85.169426</td>\n",
       "      <td>85.282817</td>\n",
       "      <td>85.212819</td>\n",
       "      <td>85.183977</td>\n",
       "      <td>85.285586</td>\n",
       "      <td>85.516235</td>\n",
       "      <td>85.663461</td>\n",
       "    </tr>\n",
       "    <tr>\n",
       "      <th>...</th>\n",
       "      <td>...</td>\n",
       "      <td>...</td>\n",
       "      <td>...</td>\n",
       "      <td>...</td>\n",
       "      <td>...</td>\n",
       "      <td>...</td>\n",
       "      <td>...</td>\n",
       "      <td>...</td>\n",
       "      <td>...</td>\n",
       "      <td>...</td>\n",
       "      <td>...</td>\n",
       "      <td>...</td>\n",
       "    </tr>\n",
       "    <tr>\n",
       "      <th>66</th>\n",
       "      <td>74.074471</td>\n",
       "      <td>74.114878</td>\n",
       "      <td>74.128554</td>\n",
       "      <td>74.482462</td>\n",
       "      <td>74.235359</td>\n",
       "      <td>73.604426</td>\n",
       "      <td>73.304717</td>\n",
       "      <td>73.252819</td>\n",
       "      <td>73.528977</td>\n",
       "      <td>73.785086</td>\n",
       "      <td>73.567135</td>\n",
       "      <td>72.448461</td>\n",
       "    </tr>\n",
       "    <tr>\n",
       "      <th>67</th>\n",
       "      <td>71.803671</td>\n",
       "      <td>71.794078</td>\n",
       "      <td>71.889454</td>\n",
       "      <td>71.985762</td>\n",
       "      <td>72.082859</td>\n",
       "      <td>72.186926</td>\n",
       "      <td>72.038117</td>\n",
       "      <td>71.937819</td>\n",
       "      <td>72.212377</td>\n",
       "      <td>72.680886</td>\n",
       "      <td>73.088735</td>\n",
       "      <td>72.805161</td>\n",
       "    </tr>\n",
       "    <tr>\n",
       "      <th>68</th>\n",
       "      <td>72.857871</td>\n",
       "      <td>72.899878</td>\n",
       "      <td>72.978554</td>\n",
       "      <td>72.938262</td>\n",
       "      <td>72.832059</td>\n",
       "      <td>72.906926</td>\n",
       "      <td>72.935617</td>\n",
       "      <td>73.014519</td>\n",
       "      <td>73.148177</td>\n",
       "      <td>73.036786</td>\n",
       "      <td>72.837935</td>\n",
       "      <td>72.600961</td>\n",
       "    </tr>\n",
       "    <tr>\n",
       "      <th>69</th>\n",
       "      <td>71.416171</td>\n",
       "      <td>71.476578</td>\n",
       "      <td>71.347954</td>\n",
       "      <td>71.079962</td>\n",
       "      <td>71.109559</td>\n",
       "      <td>71.109426</td>\n",
       "      <td>71.243917</td>\n",
       "      <td>71.283719</td>\n",
       "      <td>71.103977</td>\n",
       "      <td>71.099286</td>\n",
       "      <td>71.124635</td>\n",
       "      <td>70.914361</td>\n",
       "    </tr>\n",
       "    <tr>\n",
       "      <th>70</th>\n",
       "      <td>70.865371</td>\n",
       "      <td>70.895678</td>\n",
       "      <td>70.829454</td>\n",
       "      <td>70.593262</td>\n",
       "      <td>70.532859</td>\n",
       "      <td>70.409426</td>\n",
       "      <td>70.445617</td>\n",
       "      <td>70.587019</td>\n",
       "      <td>70.559877</td>\n",
       "      <td>70.322586</td>\n",
       "      <td>70.536235</td>\n",
       "      <td>70.428461</td>\n",
       "    </tr>\n",
       "  </tbody>\n",
       "</table>\n",
       "<p>71 rows × 12 columns</p>\n",
       "</div>"
      ],
      "text/plain": [
       "            0          1          2          3          4          5  \\\n",
       "0   82.491971  82.419878  82.361954  82.202962  82.163759  82.116026   \n",
       "1   82.349471  82.306578  82.172554  82.216662  82.377059  82.450226   \n",
       "2   82.908671  82.827878  82.816954  83.252462  83.381259  83.431026   \n",
       "3   84.116171  84.107178  83.998854  84.024162  84.066259  84.281926   \n",
       "4   84.786171  84.853178  85.006054  85.220562  85.142059  85.169426   \n",
       "..        ...        ...        ...        ...        ...        ...   \n",
       "66  74.074471  74.114878  74.128554  74.482462  74.235359  73.604426   \n",
       "67  71.803671  71.794078  71.889454  71.985762  72.082859  72.186926   \n",
       "68  72.857871  72.899878  72.978554  72.938262  72.832059  72.906926   \n",
       "69  71.416171  71.476578  71.347954  71.079962  71.109559  71.109426   \n",
       "70  70.865371  70.895678  70.829454  70.593262  70.532859  70.409426   \n",
       "\n",
       "            6          7          8          9         10         11  \n",
       "0   82.193117  82.189519  82.008977  81.896786  81.958735  82.000161  \n",
       "1   82.369717  82.409519  82.396477  82.520086  82.563735  82.806961  \n",
       "2   83.556417  83.542219  83.498977  83.819286  84.157935  84.005961  \n",
       "3   84.246417  84.512819  84.349277  84.653386  84.557135  84.587661  \n",
       "4   85.282817  85.212819  85.183977  85.285586  85.516235  85.663461  \n",
       "..        ...        ...        ...        ...        ...        ...  \n",
       "66  73.304717  73.252819  73.528977  73.785086  73.567135  72.448461  \n",
       "67  72.038117  71.937819  72.212377  72.680886  73.088735  72.805161  \n",
       "68  72.935617  73.014519  73.148177  73.036786  72.837935  72.600961  \n",
       "69  71.243917  71.283719  71.103977  71.099286  71.124635  70.914361  \n",
       "70  70.445617  70.587019  70.559877  70.322586  70.536235  70.428461  \n",
       "\n",
       "[71 rows x 12 columns]"
      ]
     },
     "execution_count": 64,
     "metadata": {},
     "output_type": "execute_result"
    }
   ],
   "source": [
    "label = []\n",
    "for i in range(71):\n",
    "    arr = train.loc[342+i*24:353+i*24]\n",
    "    label.append(arr.values)\n",
    "ma = pd.DataFrame(label)\n",
    "ma"
   ]
  },
  {
   "cell_type": "markdown",
   "metadata": {},
   "source": [
    "### 9.预测"
   ]
  },
  {
   "cell_type": "code",
   "execution_count": 39,
   "metadata": {},
   "outputs": [],
   "source": [
    "def predict(train, label):\n",
    "    model = sm.tsa.ARIMA(train, order=(0, 1, 2))\n",
    "    result = model.fit()\n",
    "    out = result.forecast(12)\n",
    "    error = label - out[0]\n",
    "    return error"
   ]
  },
  {
   "cell_type": "code",
   "execution_count": null,
   "metadata": {},
   "outputs": [],
   "source": []
  },
  {
   "cell_type": "code",
   "execution_count": 40,
   "metadata": {},
   "outputs": [
    {
     "data": {
      "text/html": [
       "<div>\n",
       "<style scoped>\n",
       "    .dataframe tbody tr th:only-of-type {\n",
       "        vertical-align: middle;\n",
       "    }\n",
       "\n",
       "    .dataframe tbody tr th {\n",
       "        vertical-align: top;\n",
       "    }\n",
       "\n",
       "    .dataframe thead th {\n",
       "        text-align: right;\n",
       "    }\n",
       "</style>\n",
       "<table border=\"1\" class=\"dataframe\">\n",
       "  <thead>\n",
       "    <tr style=\"text-align: right;\">\n",
       "      <th></th>\n",
       "      <th>0</th>\n",
       "      <th>1</th>\n",
       "      <th>2</th>\n",
       "      <th>3</th>\n",
       "      <th>4</th>\n",
       "      <th>5</th>\n",
       "      <th>6</th>\n",
       "      <th>7</th>\n",
       "      <th>8</th>\n",
       "      <th>9</th>\n",
       "      <th>10</th>\n",
       "      <th>11</th>\n",
       "    </tr>\n",
       "  </thead>\n",
       "  <tbody>\n",
       "    <tr>\n",
       "      <th>0</th>\n",
       "      <td>-0.149738</td>\n",
       "      <td>-0.223299</td>\n",
       "      <td>-0.283434</td>\n",
       "      <td>-0.444638</td>\n",
       "      <td>-0.486052</td>\n",
       "      <td>-0.535996</td>\n",
       "      <td>-0.461117</td>\n",
       "      <td>-0.466926</td>\n",
       "      <td>-0.649678</td>\n",
       "      <td>-0.764081</td>\n",
       "      <td>-0.704343</td>\n",
       "      <td>-0.665128</td>\n",
       "    </tr>\n",
       "    <tr>\n",
       "      <th>1</th>\n",
       "      <td>-0.009339</td>\n",
       "      <td>-0.053346</td>\n",
       "      <td>-0.189378</td>\n",
       "      <td>-0.147277</td>\n",
       "      <td>0.011112</td>\n",
       "      <td>0.082271</td>\n",
       "      <td>-0.000246</td>\n",
       "      <td>0.037548</td>\n",
       "      <td>0.022500</td>\n",
       "      <td>0.144100</td>\n",
       "      <td>0.185742</td>\n",
       "      <td>0.426961</td>\n",
       "    </tr>\n",
       "    <tr>\n",
       "      <th>2</th>\n",
       "      <td>-0.052647</td>\n",
       "      <td>-0.139350</td>\n",
       "      <td>-0.155635</td>\n",
       "      <td>0.274512</td>\n",
       "      <td>0.397948</td>\n",
       "      <td>0.442354</td>\n",
       "      <td>0.562384</td>\n",
       "      <td>0.542825</td>\n",
       "      <td>0.494224</td>\n",
       "      <td>0.809171</td>\n",
       "      <td>1.142460</td>\n",
       "      <td>0.985125</td>\n",
       "    </tr>\n",
       "    <tr>\n",
       "      <th>3</th>\n",
       "      <td>-0.073304</td>\n",
       "      <td>-0.093728</td>\n",
       "      <td>-0.209720</td>\n",
       "      <td>-0.192080</td>\n",
       "      <td>-0.157651</td>\n",
       "      <td>0.050348</td>\n",
       "      <td>0.007171</td>\n",
       "      <td>0.265905</td>\n",
       "      <td>0.094697</td>\n",
       "      <td>0.391137</td>\n",
       "      <td>0.287219</td>\n",
       "      <td>0.310077</td>\n",
       "    </tr>\n",
       "    <tr>\n",
       "      <th>4</th>\n",
       "      <td>-0.171975</td>\n",
       "      <td>-0.115010</td>\n",
       "      <td>0.027920</td>\n",
       "      <td>0.232481</td>\n",
       "      <td>0.144032</td>\n",
       "      <td>0.161452</td>\n",
       "      <td>0.264896</td>\n",
       "      <td>0.184952</td>\n",
       "      <td>0.146164</td>\n",
       "      <td>0.237826</td>\n",
       "      <td>0.458529</td>\n",
       "      <td>0.595809</td>\n",
       "    </tr>\n",
       "    <tr>\n",
       "      <th>...</th>\n",
       "      <td>...</td>\n",
       "      <td>...</td>\n",
       "      <td>...</td>\n",
       "      <td>...</td>\n",
       "      <td>...</td>\n",
       "      <td>...</td>\n",
       "      <td>...</td>\n",
       "      <td>...</td>\n",
       "      <td>...</td>\n",
       "      <td>...</td>\n",
       "      <td>...</td>\n",
       "      <td>...</td>\n",
       "    </tr>\n",
       "    <tr>\n",
       "      <th>66</th>\n",
       "      <td>0.007890</td>\n",
       "      <td>0.096398</td>\n",
       "      <td>0.158105</td>\n",
       "      <td>0.560044</td>\n",
       "      <td>0.360972</td>\n",
       "      <td>-0.221931</td>\n",
       "      <td>-0.473609</td>\n",
       "      <td>-0.477476</td>\n",
       "      <td>-0.153286</td>\n",
       "      <td>0.150853</td>\n",
       "      <td>-0.019066</td>\n",
       "      <td>-1.089709</td>\n",
       "    </tr>\n",
       "    <tr>\n",
       "      <th>67</th>\n",
       "      <td>-0.067341</td>\n",
       "      <td>-0.018700</td>\n",
       "      <td>0.133913</td>\n",
       "      <td>0.287457</td>\n",
       "      <td>0.441790</td>\n",
       "      <td>0.603093</td>\n",
       "      <td>0.511520</td>\n",
       "      <td>0.468458</td>\n",
       "      <td>0.800253</td>\n",
       "      <td>1.325998</td>\n",
       "      <td>1.791083</td>\n",
       "      <td>1.564745</td>\n",
       "    </tr>\n",
       "    <tr>\n",
       "      <th>68</th>\n",
       "      <td>-0.020319</td>\n",
       "      <td>0.074596</td>\n",
       "      <td>0.206123</td>\n",
       "      <td>0.218681</td>\n",
       "      <td>0.165329</td>\n",
       "      <td>0.293046</td>\n",
       "      <td>0.374587</td>\n",
       "      <td>0.506340</td>\n",
       "      <td>0.692849</td>\n",
       "      <td>0.634308</td>\n",
       "      <td>0.488308</td>\n",
       "      <td>0.304185</td>\n",
       "    </tr>\n",
       "    <tr>\n",
       "      <th>69</th>\n",
       "      <td>-0.064188</td>\n",
       "      <td>0.052298</td>\n",
       "      <td>-0.020067</td>\n",
       "      <td>-0.231802</td>\n",
       "      <td>-0.145947</td>\n",
       "      <td>-0.089822</td>\n",
       "      <td>0.100927</td>\n",
       "      <td>0.196987</td>\n",
       "      <td>0.073504</td>\n",
       "      <td>0.125071</td>\n",
       "      <td>0.206678</td>\n",
       "      <td>0.052662</td>\n",
       "    </tr>\n",
       "    <tr>\n",
       "      <th>70</th>\n",
       "      <td>-0.030428</td>\n",
       "      <td>0.052880</td>\n",
       "      <td>0.039668</td>\n",
       "      <td>-0.143512</td>\n",
       "      <td>-0.150903</td>\n",
       "      <td>-0.221324</td>\n",
       "      <td>-0.132121</td>\n",
       "      <td>0.062293</td>\n",
       "      <td>0.088164</td>\n",
       "      <td>-0.096116</td>\n",
       "      <td>0.170546</td>\n",
       "      <td>0.115784</td>\n",
       "    </tr>\n",
       "  </tbody>\n",
       "</table>\n",
       "<p>71 rows × 12 columns</p>\n",
       "</div>"
      ],
      "text/plain": [
       "           0         1         2         3         4         5         6  \\\n",
       "0  -0.149738 -0.223299 -0.283434 -0.444638 -0.486052 -0.535996 -0.461117   \n",
       "1  -0.009339 -0.053346 -0.189378 -0.147277  0.011112  0.082271 -0.000246   \n",
       "2  -0.052647 -0.139350 -0.155635  0.274512  0.397948  0.442354  0.562384   \n",
       "3  -0.073304 -0.093728 -0.209720 -0.192080 -0.157651  0.050348  0.007171   \n",
       "4  -0.171975 -0.115010  0.027920  0.232481  0.144032  0.161452  0.264896   \n",
       "..       ...       ...       ...       ...       ...       ...       ...   \n",
       "66  0.007890  0.096398  0.158105  0.560044  0.360972 -0.221931 -0.473609   \n",
       "67 -0.067341 -0.018700  0.133913  0.287457  0.441790  0.603093  0.511520   \n",
       "68 -0.020319  0.074596  0.206123  0.218681  0.165329  0.293046  0.374587   \n",
       "69 -0.064188  0.052298 -0.020067 -0.231802 -0.145947 -0.089822  0.100927   \n",
       "70 -0.030428  0.052880  0.039668 -0.143512 -0.150903 -0.221324 -0.132121   \n",
       "\n",
       "           7         8         9        10        11  \n",
       "0  -0.466926 -0.649678 -0.764081 -0.704343 -0.665128  \n",
       "1   0.037548  0.022500  0.144100  0.185742  0.426961  \n",
       "2   0.542825  0.494224  0.809171  1.142460  0.985125  \n",
       "3   0.265905  0.094697  0.391137  0.287219  0.310077  \n",
       "4   0.184952  0.146164  0.237826  0.458529  0.595809  \n",
       "..       ...       ...       ...       ...       ...  \n",
       "66 -0.477476 -0.153286  0.150853 -0.019066 -1.089709  \n",
       "67  0.468458  0.800253  1.325998  1.791083  1.564745  \n",
       "68  0.506340  0.692849  0.634308  0.488308  0.304185  \n",
       "69  0.196987  0.073504  0.125071  0.206678  0.052662  \n",
       "70  0.062293  0.088164 -0.096116  0.170546  0.115784  \n",
       "\n",
       "[71 rows x 12 columns]"
      ]
     },
     "execution_count": 40,
     "metadata": {},
     "output_type": "execute_result"
    }
   ],
   "source": [
    "error = []\n",
    "for i in range(71):\n",
    "    temp = predict(ARIMA_input[i],label[i])\n",
    "    error.append(temp)\n",
    "ma = pd.DataFrame(error)\n",
    "ma"
   ]
  },
  {
   "cell_type": "markdown",
   "metadata": {},
   "source": [
    "### 神经网络训练误差数据"
   ]
  },
  {
   "cell_type": "code",
   "execution_count": 41,
   "metadata": {},
   "outputs": [],
   "source": [
    "import torch\n",
    "from torch.autograd import Variable\n",
    "import torch.nn as nn\n",
    "from torch.nn import init\n",
    "import torch.nn.functional as F\n",
    "from torch.utils.data import DataLoader"
   ]
  },
  {
   "cell_type": "code",
   "execution_count": 42,
   "metadata": {},
   "outputs": [
    {
     "data": {
      "text/plain": [
       "torch.Size([71, 1, 12])"
      ]
     },
     "execution_count": 42,
     "metadata": {},
     "output_type": "execute_result"
    }
   ],
   "source": [
    "train_X = torch.Tensor(np.array(ARIMA_input).reshape(-1, 14, 24))\n",
    "train_Y = torch.Tensor(np.array(error).reshape(-1, 1, 12))\n",
    "train_Y.shape"
   ]
  },
  {
   "cell_type": "code",
   "execution_count": 43,
   "metadata": {},
   "outputs": [
    {
     "data": {
      "text/plain": [
       "lstm(\n",
       "  (layer1): LSTM(24, 128, batch_first=True)\n",
       "  (layer2): Linear(in_features=128, out_features=12, bias=True)\n",
       ")"
      ]
     },
     "execution_count": 43,
     "metadata": {},
     "output_type": "execute_result"
    }
   ],
   "source": [
    "class lstm(nn.Module):\n",
    "    def __init__(self,input_size=16,hidden_size=100,output_size=1,num_layer=2):\n",
    "        super(lstm,self).__init__()\n",
    "        self.layer1 = nn.LSTM(input_size,hidden_size,num_layer,batch_first=True)\n",
    "        self.layer2 = nn.Linear(hidden_size,output_size)\n",
    "    \n",
    "    def forward(self,x):\n",
    "        # x ->[78,3,12]\n",
    "        x,_ = self.layer1(x)\n",
    "        # [78,3,12] -> [78,3,128]\n",
    "        x = x[:,[6],:]\n",
    "        b, s, h = x.size()\n",
    "        # [78,1,128] -> [78,120]\n",
    "        x = x.view(-1,h)\n",
    "        # [78,120] -> [78,12]\n",
    "        x = self.layer2(x)\n",
    "        # [78,1] -> [78,1,12]\n",
    "        x = x.view(b, s, -1)\n",
    "        return x\n",
    "\n",
    "model = lstm(24, 128, 12, 1)\n",
    "model"
   ]
  },
  {
   "cell_type": "code",
   "execution_count": 44,
   "metadata": {},
   "outputs": [],
   "source": [
    "criterion = nn.MSELoss()\n",
    "optimizer = torch.optim.Adam(model.parameters(), lr=1e-2)\n",
    "epoch_n = 500"
   ]
  },
  {
   "cell_type": "code",
   "execution_count": 46,
   "metadata": {},
   "outputs": [
    {
     "name": "stdout",
     "output_type": "stream",
     "text": [
      "Epoch: 5, Loss: 1.07307959\n",
      "Epoch: 10, Loss: 1.07307959\n",
      "Epoch: 15, Loss: 1.07307959\n",
      "Epoch: 20, Loss: 1.07307959\n",
      "Epoch: 25, Loss: 1.07307959\n",
      "Epoch: 30, Loss: 1.07307959\n",
      "Epoch: 35, Loss: 1.07307959\n",
      "Epoch: 40, Loss: 1.07307959\n",
      "Epoch: 45, Loss: 1.07307959\n",
      "Epoch: 50, Loss: 1.07307959\n",
      "Epoch: 55, Loss: 1.07307959\n",
      "Epoch: 60, Loss: 1.07307959\n",
      "Epoch: 65, Loss: 1.07307959\n",
      "Epoch: 70, Loss: 1.07307959\n",
      "Epoch: 75, Loss: 1.07307959\n",
      "Epoch: 80, Loss: 1.07307959\n",
      "Epoch: 85, Loss: 1.07307959\n",
      "Epoch: 90, Loss: 1.07307959\n",
      "Epoch: 95, Loss: 1.07307959\n",
      "Epoch: 100, Loss: 1.07307959\n",
      "Epoch: 105, Loss: 1.07307959\n",
      "Epoch: 110, Loss: 1.07307959\n",
      "Epoch: 115, Loss: 1.07307959\n",
      "Epoch: 120, Loss: 1.07307959\n",
      "Epoch: 125, Loss: 1.07307959\n",
      "Epoch: 130, Loss: 1.07307959\n",
      "Epoch: 135, Loss: 1.07307959\n",
      "Epoch: 140, Loss: 1.07307959\n",
      "Epoch: 145, Loss: 1.07307959\n",
      "Epoch: 150, Loss: 1.07307959\n",
      "Epoch: 155, Loss: 1.07307959\n",
      "Epoch: 160, Loss: 1.07307959\n",
      "Epoch: 165, Loss: 1.07307959\n",
      "Epoch: 170, Loss: 1.07307959\n",
      "Epoch: 175, Loss: 1.07307959\n",
      "Epoch: 180, Loss: 1.07307959\n",
      "Epoch: 185, Loss: 1.07307959\n",
      "Epoch: 190, Loss: 1.07307959\n",
      "Epoch: 195, Loss: 1.07307959\n",
      "Epoch: 200, Loss: 1.07307959\n",
      "Epoch: 205, Loss: 1.07307959\n",
      "Epoch: 210, Loss: 1.07307959\n",
      "Epoch: 215, Loss: 1.07307959\n",
      "Epoch: 220, Loss: 1.07307959\n",
      "Epoch: 225, Loss: 1.07307959\n",
      "Epoch: 230, Loss: 1.07307959\n",
      "Epoch: 235, Loss: 1.07307959\n",
      "Epoch: 240, Loss: 1.07307959\n",
      "Epoch: 245, Loss: 1.07307959\n",
      "Epoch: 250, Loss: 1.07307959\n",
      "Epoch: 255, Loss: 1.07307959\n",
      "Epoch: 260, Loss: 1.07307959\n",
      "Epoch: 265, Loss: 1.07307959\n",
      "Epoch: 270, Loss: 1.07307959\n",
      "Epoch: 275, Loss: 1.07307959\n",
      "Epoch: 280, Loss: 1.07307959\n",
      "Epoch: 285, Loss: 1.07307959\n",
      "Epoch: 290, Loss: 1.07307959\n",
      "Epoch: 295, Loss: 1.07307959\n",
      "Epoch: 300, Loss: 1.07307959\n",
      "Epoch: 305, Loss: 1.07307959\n",
      "Epoch: 310, Loss: 1.07307959\n",
      "Epoch: 315, Loss: 1.07307959\n",
      "Epoch: 320, Loss: 1.07307959\n",
      "Epoch: 325, Loss: 1.07307959\n",
      "Epoch: 330, Loss: 1.07307959\n",
      "Epoch: 335, Loss: 1.07307959\n",
      "Epoch: 340, Loss: 1.07307959\n",
      "Epoch: 345, Loss: 1.07307959\n",
      "Epoch: 350, Loss: 1.07307959\n",
      "Epoch: 355, Loss: 1.07307959\n",
      "Epoch: 360, Loss: 1.07307959\n",
      "Epoch: 365, Loss: 1.07307959\n",
      "Epoch: 370, Loss: 1.07307959\n",
      "Epoch: 375, Loss: 1.07307959\n",
      "Epoch: 380, Loss: 1.07307959\n",
      "Epoch: 385, Loss: 1.07307959\n",
      "Epoch: 390, Loss: 1.07307959\n",
      "Epoch: 395, Loss: 1.07307959\n",
      "Epoch: 400, Loss: 1.07307959\n",
      "Epoch: 405, Loss: 1.07307959\n",
      "Epoch: 410, Loss: 1.07307959\n",
      "Epoch: 415, Loss: 1.07307959\n",
      "Epoch: 420, Loss: 1.07307959\n",
      "Epoch: 425, Loss: 1.07307959\n",
      "Epoch: 430, Loss: 1.07307959\n",
      "Epoch: 435, Loss: 1.07307959\n",
      "Epoch: 440, Loss: 1.07307959\n",
      "Epoch: 445, Loss: 1.07307959\n",
      "Epoch: 450, Loss: 1.07307959\n",
      "Epoch: 455, Loss: 1.07307959\n",
      "Epoch: 460, Loss: 1.07307959\n",
      "Epoch: 465, Loss: 1.07307959\n",
      "Epoch: 470, Loss: 1.07307959\n",
      "Epoch: 475, Loss: 1.07307959\n",
      "Epoch: 480, Loss: 1.07307959\n",
      "Epoch: 485, Loss: 1.07307959\n",
      "Epoch: 490, Loss: 1.07307959\n",
      "Epoch: 495, Loss: 1.07307959\n",
      "Epoch: 500, Loss: 1.07307959\n",
      "Finished Training\n"
     ]
    }
   ],
   "source": [
    "# 开始训练\n",
    "ep=[]\n",
    "losses = []\n",
    "lr_list = []\n",
    "for e in range(epoch_n):\n",
    "    var_x = Variable(train_X)\n",
    "    var_y = Variable(train_Y)\n",
    "    # 前向传播\n",
    "    out = model(var_x)\n",
    "    loss = criterion(out, var_y)\n",
    "    # 反向传播\n",
    "    optimizer.zero_grad()\n",
    "    loss.backward()\n",
    "    optimizer.step()\n",
    "    \n",
    "    if (e + 1) % 5 == 0: # 每 2 次输出结果\n",
    "        print('Epoch: {}, Loss: {:.8f}'.format(e + 1, loss.item()))\n",
    "    ep.append(e+1)\n",
    "    losses.append(loss.item())\n",
    "#     break\n",
    "    if (e+1)%500 == 0:\n",
    "        for p in optimizer.param_groups:\n",
    "            p['lr'] *= 0.1\n",
    "    lr_list.append(optimizer.state_dict()['param_groups'][0]['lr'])\n",
    "\n",
    "print('Finished Training') "
   ]
  },
  {
   "cell_type": "code",
   "execution_count": 47,
   "metadata": {},
   "outputs": [
    {
     "data": {
      "image/png": "[encoded data removed]",
      "text/plain": [
       "<Figure size 1600x500 with 1 Axes>"
      ]
     },
     "metadata": {
      "needs_background": "light"
     },
     "output_type": "display_data"
    }
   ],
   "source": [
    "# plot_df(df, x=range(epoch_n), y= lr_list, title='LOSS')\n",
    "plot_df(df, x=ep, y= losses, title='LOSS')"
   ]
  },
  {
   "cell_type": "markdown",
   "metadata": {},
   "source": [
    "### 检验神经网络模型效果"
   ]
  },
  {
   "cell_type": "code",
   "execution_count": 48,
   "metadata": {},
   "outputs": [
    {
     "name": "stderr",
     "output_type": "stream",
     "text": [
      "D:\\Softwore\\python38\\lib\\site-packages\\torch\\serialization.py:359: UserWarning: Couldn't retrieve source code for container of type lstm. It won't be checked for correctness upon loading.\n",
      "  warnings.warn(\"Couldn't retrieve source code for container of \"\n"
     ]
    }
   ],
   "source": [
    "torch.save(model, 'error_net.pkl')\n",
    "model2 = torch.load('error_net.pkl')"
   ]
  },
  {
   "cell_type": "code",
   "execution_count": 49,
   "metadata": {},
   "outputs": [],
   "source": [
    "# test = arr[1878:2046]\n",
    "# test_X = test.values\n",
    "# test_X"
   ]
  },
  {
   "cell_type": "code",
   "execution_count": 60,
   "metadata": {},
   "outputs": [
    {
     "data": {
      "text/plain": [
       "array([70.18475734, 69.98358809, 69.79363155, 69.61497043, 69.43864419,\n",
       "       69.26381018, 69.09131417, 68.92124097, 68.75342628, 68.58777225,\n",
       "       68.42421677, 68.26269562])"
      ]
     },
     "execution_count": 60,
     "metadata": {},
     "output_type": "execute_result"
    }
   ],
   "source": [
    "num = 12\n",
    "model = sm.tsa.ARIMA(test_X, order=(3, 1, 2))\n",
    "result = model.fit()\n",
    "foreca = result.forecast(num)\n",
    "foreca[0]"
   ]
  },
  {
   "cell_type": "code",
   "execution_count": 61,
   "metadata": {},
   "outputs": [],
   "source": [
    "foreca_val = foreca[0]+result_add.seasonal[6:num+6]\n",
    "# 加上周期值\n",
    "top = []\n",
    "bottom = []\n",
    "for data in foreca[2]:\n",
    "    top.append(data[1])\n",
    "    bottom.append(data[0])\n",
    "top = top + result_add.seasonal[6:num+6]\n",
    "bottom = bottom + result_add.seasonal[6:num+6]"
   ]
  },
  {
   "cell_type": "code",
   "execution_count": 62,
   "metadata": {},
   "outputs": [
    {
     "data": {
      "text/plain": [
       "70.1260867509262"
      ]
     },
     "execution_count": 62,
     "metadata": {},
     "output_type": "execute_result"
    }
   ],
   "source": [
    "foreca_val[6]"
   ]
  },
  {
   "cell_type": "code",
   "execution_count": 63,
   "metadata": {},
   "outputs": [
    {
     "data": {
      "text/plain": [
       "17.138881496940837"
      ]
     },
     "execution_count": 63,
     "metadata": {},
     "output_type": "execute_result"
    }
   ],
   "source": [
    "MSE = 0\n",
    "for i in range(num):\n",
    "    MSE += (foreca_val[6+i] - df[\"内存负载\"].loc[2046+i])**2\n",
    "MSE"
   ]
  },
  {
   "cell_type": "code",
   "execution_count": 59,
   "metadata": {},
   "outputs": [
    {
     "data": {
      "image/png": "[encoded data removed]",
      "text/plain": [
       "<Figure size 1600x640 with 1 Axes>"
      ]
     },
     "metadata": {
      "needs_background": "light"
     },
     "output_type": "display_data"
    }
   ],
   "source": [
    "plt.figure(figsize=(20,8),dpi=80)\n",
    "test_temp = df[\"内存负载\"][len(train):len(train)+num]\n",
    "# color可以百度颜色代码\n",
    "plt.plot(test_temp.index,test_temp,label=\"truth\",color=\"black\")\n",
    "plt.plot(test_temp.index,foreca_val,label=\"predict\",color=\"red\",linestyle=\"--\")\n",
    "# plt.fill_between(test_temp.index,top,bottom,color='blue',alpha=0.05)\n",
    "#绘制网格\n",
    "plt.grid(alpha=0.4,linestyle=':')\n",
    "plt.ylim(69,71)\n",
    "#展示\n",
    "plt.show()"
   ]
  },
  {
   "cell_type": "code",
   "execution_count": 32,
   "metadata": {},
   "outputs": [
    {
     "data": {
      "text/plain": [
       "[0.0008556433022022247,\n",
       " -0.005762387067079544,\n",
       " -0.00032108090817928314,\n",
       " 0.02278042957186699,\n",
       " 0.025392422452569008,\n",
       " 0.021052001044154167,\n",
       " 0.007836909964680672,\n",
       " 0.0017862394452095032,\n",
       " 0.0022883713245391846,\n",
       " -0.0020049475133419037,\n",
       " -0.016472220420837402,\n",
       " -0.007506191730499268]"
      ]
     },
     "execution_count": 32,
     "metadata": {},
     "output_type": "execute_result"
    }
   ],
   "source": [
    "outputs = model2(torch.Tensor(np.array(test_X).reshape(-1, 7, 24)))\n",
    "error_list = outputs.detach().numpy().tolist()\n",
    "error_list[0][0]"
   ]
  },
  {
   "cell_type": "code",
   "execution_count": 33,
   "metadata": {},
   "outputs": [
    {
     "data": {
      "text/plain": [
       "array([70.18042846, 70.14039434, 70.1060379 , 70.15734995, 70.11377288,\n",
       "       69.96412574, 69.70895504, 69.5268729 , 69.5617338 , 69.52834519,\n",
       "       69.3440157 , 69.20530937])"
      ]
     },
     "execution_count": 33,
     "metadata": {},
     "output_type": "execute_result"
    }
   ],
   "source": [
    "foreca_val.values"
   ]
  },
  {
   "cell_type": "code",
   "execution_count": 34,
   "metadata": {},
   "outputs": [
    {
     "data": {
      "text/plain": [
       "array([70.1812841 , 70.13463195, 70.10571682, 70.18013038, 70.1391653 ,\n",
       "       69.98517774, 69.71679195, 69.52865914, 69.56402217, 69.52634024,\n",
       "       69.32754348, 69.19780318])"
      ]
     },
     "execution_count": 34,
     "metadata": {},
     "output_type": "execute_result"
    }
   ],
   "source": [
    "prdict = foreca_val.values + error_list[0][0]\n",
    "prdict"
   ]
  },
  {
   "cell_type": "code",
   "execution_count": 35,
   "metadata": {},
   "outputs": [
    {
     "data": {
      "image/png": "[encoded data removed]",
      "text/plain": [
       "<Figure size 1600x640 with 1 Axes>"
      ]
     },
     "metadata": {
      "needs_background": "light"
     },
     "output_type": "display_data"
    }
   ],
   "source": [
    "plt.figure(figsize=(20,8),dpi=80)\n",
    "test_temp = df[\"内存负载\"][len(train):len(train)+num]\n",
    "plt.plot(test_temp.index,test_temp,label=\"truth\",color=\"black\")\n",
    "plt.plot(test_temp.index,prdict,label=\"predict\",color=\"red\",linestyle=\"--\")\n",
    "plt.grid(alpha=0.4,linestyle=':')\n",
    "\n",
    "plt.ylim(70,71)\n",
    "#展示\n",
    "plt.show()"
   ]
  },
  {
   "cell_type": "code",
   "execution_count": 36,
   "metadata": {},
   "outputs": [
    {
     "data": {
      "text/plain": [
       "4.970895948456282"
      ]
     },
     "execution_count": 36,
     "metadata": {},
     "output_type": "execute_result"
    }
   ],
   "source": [
    "MSE = 0\n",
    "for i in range(num):\n",
    "    MSE += (prdict[i] - df[\"内存负载\"].loc[2046+i])**2\n",
    "MSE"
   ]
  },
  {
   "cell_type": "markdown",
   "metadata": {},
   "source": [
    "### 差分"
   ]
  },
  {
   "cell_type": "code",
   "execution_count": null,
   "metadata": {},
   "outputs": [],
   "source": [
    "# # 差分法生成序列\n",
    "# dif = []\n",
    "# dif = train.diff(1)"
   ]
  },
  {
   "cell_type": "markdown",
   "metadata": {},
   "source": [
    "### ADF检验"
   ]
  },
  {
   "cell_type": "code",
   "execution_count": null,
   "metadata": {},
   "outputs": [],
   "source": [
    "# timeSeries = dif[1:]\n",
    "# adftest = ts.adfuller(timeSeries)\n",
    "# adftest"
   ]
  },
  {
   "cell_type": "markdown",
   "metadata": {},
   "source": [
    "### ACF和PACF观察"
   ]
  },
  {
   "cell_type": "code",
   "execution_count": null,
   "metadata": {},
   "outputs": [],
   "source": [
    "# plot_acf(timeSeries).show()"
   ]
  },
  {
   "cell_type": "code",
   "execution_count": null,
   "metadata": {},
   "outputs": [],
   "source": [
    "# plot_pacf(timeSeries).show()"
   ]
  },
  {
   "cell_type": "markdown",
   "metadata": {},
   "source": [
    "### BIC和AIC定阶"
   ]
  },
  {
   "cell_type": "code",
   "execution_count": null,
   "metadata": {},
   "outputs": [],
   "source": [
    "# p_min = 0\n",
    "# q_min = 0\n",
    "# p_max = 5\n",
    "# q_max = 6\n",
    "# d_min = 0\n",
    "# d_max = 1"
   ]
  },
  {
   "cell_type": "code",
   "execution_count": null,
   "metadata": {},
   "outputs": [],
   "source": [
    "# results_bic = pd.DataFrame(index=['AR{}'.format(i) for i in range(p_min,p_max+1)],\n",
    "#                            columns=['MA{}'.format(i) for i in range(q_min,q_max+1)])\n",
    "# results_bic"
   ]
  },
  {
   "cell_type": "code",
   "execution_count": null,
   "metadata": {},
   "outputs": [],
   "source": [
    "# num = 1\n",
    "# for p,d,q in itertools.product(range(p_min,p_max+1),\n",
    "#                                range(d_min,d_max+1),\n",
    "#                                range(q_min,q_max+1)):\n",
    "#     if p==0 and d==0 and q==0:\n",
    "#         results_bic.loc['AR{}'.format(p), 'MA{}'.format(q)] = np.nan\n",
    "#         continue\n",
    " \n",
    "#     try:\n",
    "#         model = sm.tsa.ARIMA(timeSeries, order=(p, d, q),\n",
    "# #                                enforce_stationarity=False,\n",
    "# #                                enforce_invertibility=False,\n",
    "#                               )\n",
    "#         results = model.fit()\n",
    "#         num += 1\n",
    "#         print(f\"循环{num}次\")\n",
    "#         results_bic.loc['AR{}'.format(p), 'MA{}'.format(q)] = results.bic\n",
    "#     except:\n",
    "#         continue\n",
    "# results_bic = results_bic[results_bic.columns].astype(float)\n",
    "# fig, ax = plt.subplots(figsize=(10, 8))\n",
    "# ax = sns.heatmap(results_bic,\n",
    "#                  mask=results_bic.isnull(),\n",
    "#                  ax=ax,\n",
    "#                  annot=True,\n",
    "#                  fmt='.2f',\n",
    "#                  )\n",
    "# ax.set_title('BIC')"
   ]
  },
  {
   "cell_type": "markdown",
   "metadata": {},
   "source": [
    "### 验证模型"
   ]
  },
  {
   "cell_type": "code",
   "execution_count": null,
   "metadata": {},
   "outputs": [],
   "source": [
    "# from statsmodels.graphics.api import qqplot\n",
    "# from statsmodels.stats.stattools import durbin_watson #DW检验\n",
    "# #残差\n",
    "# model = sm.tsa.ARIMA(timeSeries, order=(0, 1, 2))\n",
    "# results = model.fit()\n",
    "# resid = results.resid \n",
    "# #利用QQ图检验残差是否满足正态分布\n",
    "# plt.figure(figsize=(12,8))\n",
    "# qqplot(resid,line='q',fit=True)\n",
    "# #利用D-W检验,检验残差的自相关性\n",
    "# print('D-W检验值为{}'.format(durbin_watson(resid.values)))\n",
    "# # 当D-W检验值接近于2时，不存在自相关性，说明模型较好。\n",
    "# # https://wenku.baidu.com/view/57224dcfcf84b9d528ea7aba.html"
   ]
  },
  {
   "cell_type": "code",
   "execution_count": null,
   "metadata": {},
   "outputs": [],
   "source": []
  }
 ],
 "metadata": {
  "kernelspec": {
   "display_name": "python38",
   "language": "python",
   "name": "env_py38"
  },
  "language_info": {
   "codemirror_mode": {
    "name": "ipython",
    "version": 3
   },
   "file_extension": ".py",
   "mimetype": "text/x-python",
   "name": "python",
   "nbconvert_exporter": "python",
   "pygments_lexer": "ipython3",
   "version": "3.8.2"
  },
  "toc": {
   "base_numbering": 1,
   "nav_menu": {},
   "number_sections": true,
   "sideBar": true,
   "skip_h1_title": false,
   "title_cell": "Table of Contents",
   "title_sidebar": "Contents",
   "toc_cell": false,
   "toc_position": {},
   "toc_section_display": true,
   "toc_window_display": true
  }
 },
 "nbformat": 4,
 "nbformat_minor": 4
}
