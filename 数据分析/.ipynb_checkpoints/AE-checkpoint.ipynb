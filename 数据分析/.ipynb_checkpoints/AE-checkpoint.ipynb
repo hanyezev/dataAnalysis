{
 "cells": [
  {
   "cell_type": "code",
   "execution_count": null,
   "metadata": {},
   "outputs": [],
   "source": [
    "import torch\n",
    "from torch.utils.data import DataLoader\n",
    "from torchvision import transforms, datasets\n",
    "from torch import nn\n",
    "from torch import nn, optim\n",
    "from torchvision import transforms, datasets\n",
    "import  visdom"
   ]
  },
  {
   "cell_type": "code",
   "execution_count": 3,
   "metadata": {},
   "outputs": [],
   "source": [
    "def main():\n",
    "    mnist_train = datasets.MNIST('mnist', True, transform=transforms.Compose([\n",
    "        transforms.ToTensor()\n",
    "    ]), download=True)\n",
    "    mnist_train = DataLoader(mnist_train, batch_size=32, shuffle=True)\n",
    "    \n",
    "    mnist_test = datasets.MNIST('mnist', False, transform=transforms.Compose([\n",
    "        transforms.ToTensor()\n",
    "    ]), download=True)\n",
    "    mnist_test = DataLoader(mnist_test, batch_size=32, shuffle=True)\n",
    "    \n",
    "    x, _ = iter(mnist_train).next()\n",
    "    print('x:', x.shape)\n",
    "    \n",
    "    device = torch.device('cuda')\n",
    "    # model = AE().to(device)\n",
    "    model = VAE().to(device)\n",
    "    criteon = nn.MSELoss()\n",
    "    optimizer = optim.Adam(model.parameters(), lr=1e-3)\n",
    "    print(model)\n",
    "\n",
    "    viz = visdom.Visdom()\n",
    "\n",
    "    for epoch in range(1000):\n",
    "\n",
    "\n",
    "        for batchidx, (x, _) in enumerate(mnist_train):\n",
    "            # [b, 1, 28, 28]\n",
    "            x = x.to(device)\n",
    "\n",
    "            x_hat, kld = model(x)\n",
    "            loss = criteon(x_hat, x)\n",
    "\n",
    "            if kld is not None:\n",
    "                elbo = - loss - 1.0 * kld\n",
    "                loss = - elbo\n",
    "\n",
    "            # backprop\n",
    "            optimizer.zero_grad()\n",
    "            loss.backward()\n",
    "            optimizer.step()\n",
    "\n",
    "\n",
    "        print(epoch, 'loss:', loss.item(), 'kld:', kld.item())\n",
    "\n",
    "        x, _ = iter(mnist_test).next()\n",
    "        x = x.to(device)\n",
    "        with torch.no_grad():\n",
    "            x_hat, kld = model(x)\n",
    "        viz.images(x, nrow=8, win='x', opts=dict(title='x'))\n",
    "        viz.images(x_hat, nrow=8, win='x_hat', opts=dict(title='x_hat'))"
   ]
  },
  {
   "cell_type": "code",
   "execution_count": null,
   "metadata": {},
   "outputs": [
    {
     "name": "stdout",
     "output_type": "stream",
     "text": [
      "Downloading http://yann.lecun.com/exdb/mnist/train-images-idx3-ubyte.gz to mnist\\MNIST\\raw\\train-images-idx3-ubyte.gz\n"
     ]
    },
    {
     "data": {
      "application/vnd.jupyter.widget-view+json": {
       "model_id": "19147e6de024425e8cf08a41f081d272",
       "version_major": 2,
       "version_minor": 0
      },
      "text/plain": [
       "HBox(children=(FloatProgress(value=1.0, bar_style='info', max=1.0), HTML(value='')))"
      ]
     },
     "metadata": {},
     "output_type": "display_data"
    },
    {
     "name": "stdout",
     "output_type": "stream",
     "text": [
      "Extracting mnist\\MNIST\\raw\\train-images-idx3-ubyte.gz to mnist\\MNIST\\raw\n",
      "Downloading http://yann.lecun.com/exdb/mnist/train-labels-idx1-ubyte.gz to mnist\\MNIST\\raw\\train-labels-idx1-ubyte.gz\n"
     ]
    },
    {
     "data": {
      "application/vnd.jupyter.widget-view+json": {
       "model_id": "df1746bcfb554d7db5d51d29ff6fb9d2",
       "version_major": 2,
       "version_minor": 0
      },
      "text/plain": [
       "HBox(children=(FloatProgress(value=1.0, bar_style='info', max=1.0), HTML(value='')))"
      ]
     },
     "metadata": {},
     "output_type": "display_data"
    }
   ],
   "source": [
    "if __name__ == '__main__':\n",
    "    main()"
   ]
  },
  {
   "cell_type": "code",
   "execution_count": null,
   "metadata": {},
   "outputs": [],
   "source": [
    "class AE(nn.Module):\n",
    "    def __init__(self):\n",
    "        super(AE, self).__init__()\n",
    "        # [b, 784] => [b, 20]\n",
    "        self.encoder = nn.Sequential(\n",
    "            nn.Linear(784, 256),\n",
    "            nn.ReLU(),\n",
    "            nn.Linear(256, 64),\n",
    "            nn.ReLU(),\n",
    "            nn.Linear(64, 20),\n",
    "            nn.ReLU()\n",
    "        )\n",
    "        # [b, 20] => [b, 784]\n",
    "        self.decoder = nn.Sequential(\n",
    "            nn.Linear(20, 64),\n",
    "            nn.ReLU(),\n",
    "            nn.Linear(64, 256),\n",
    "            nn.ReLU(),\n",
    "            nn.Linear(256, 784),\n",
    "            nn.Sigmoid()\n",
    "        )\n",
    "    def forward(self, x):\n",
    "        \"\"\"\n",
    "        :param x: [b, 1, 28, 28]\n",
    "        :return:\n",
    "        \"\"\"\n",
    "        batchsz = x.size(0)\n",
    "        # flatten\n",
    "        x = x.view(batchsz, 784)\n",
    "        # encoder\n",
    "        x = self.encoder(x)\n",
    "        # decoder\n",
    "        x = self.decoder(x)\n",
    "        # reshape\n",
    "        x = x.view(batchsz, 1, 28, 28)\n",
    "\n",
    "        return x, None"
   ]
  }
 ],
 "metadata": {
  "kernelspec": {
   "display_name": "python38",
   "language": "python",
   "name": "env_py38"
  },
  "language_info": {
   "codemirror_mode": {
    "name": "ipython",
    "version": 3
   },
   "file_extension": ".py",
   "mimetype": "text/x-python",
   "name": "python",
   "nbconvert_exporter": "python",
   "pygments_lexer": "ipython3",
   "version": "3.8.2"
  },
  "toc": {
   "base_numbering": 1,
   "nav_menu": {},
   "number_sections": true,
   "sideBar": true,
   "skip_h1_title": false,
   "title_cell": "Table of Contents",
   "title_sidebar": "Contents",
   "toc_cell": false,
   "toc_position": {},
   "toc_section_display": true,
   "toc_window_display": false
  }
 },
 "nbformat": 4,
 "nbformat_minor": 4
}
