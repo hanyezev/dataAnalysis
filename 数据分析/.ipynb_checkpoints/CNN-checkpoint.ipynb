{
 "cells": [
  {
   "cell_type": "code",
   "execution_count": 1,
   "metadata": {},
   "outputs": [],
   "source": [
    "import torch \n",
    "from torch.utils import data # 获取迭代数据\n",
    "from torch.autograd import Variable # 获取变量\n",
    "import torchvision\n",
    "from torchvision.datasets import mnist # 获取数据集\n",
    "import matplotlib.pyplot as plt"
   ]
  },
  {
   "cell_type": "code",
   "execution_count": 2,
   "metadata": {},
   "outputs": [
    {
     "name": "stdout",
     "output_type": "stream",
     "text": [
      "Using downloaded and verified file: C:\\Users\\16526\\Desktop\\dataset\\MNIST\\raw\\train-images-idx3-ubyte.gz\n",
      "Extracting C:\\Users\\16526\\Desktop\\dataset\\MNIST\\raw\\train-images-idx3-ubyte.gz to C:\\Users\\16526\\Desktop\\dataset\\MNIST\\raw\n",
      "Using downloaded and verified file: C:\\Users\\16526\\Desktop\\dataset\\MNIST\\raw\\train-labels-idx1-ubyte.gz\n",
      "Extracting C:\\Users\\16526\\Desktop\\dataset\\MNIST\\raw\\train-labels-idx1-ubyte.gz to C:\\Users\\16526\\Desktop\\dataset\\MNIST\\raw\n",
      "Using downloaded and verified file: C:\\Users\\16526\\Desktop\\dataset\\MNIST\\raw\\t10k-images-idx3-ubyte.gz\n",
      "Extracting C:\\Users\\16526\\Desktop\\dataset\\MNIST\\raw\\t10k-images-idx3-ubyte.gz to C:\\Users\\16526\\Desktop\\dataset\\MNIST\\raw\n",
      "Downloading http://yann.lecun.com/exdb/mnist/t10k-labels-idx1-ubyte.gz to C:\\Users\\16526\\Desktop\\dataset\\MNIST\\raw\\t10k-labels-idx1-ubyte.gz\n"
     ]
    },
    {
     "data": {
      "application/vnd.jupyter.widget-view+json": {
       "model_id": "0a46527447054187919509a0eda9050a",
       "version_major": 2,
       "version_minor": 0
      },
      "text/plain": [
       "HBox(children=(FloatProgress(value=1.0, bar_style='info', max=1.0), HTML(value='')))"
      ]
     },
     "metadata": {},
     "output_type": "display_data"
    },
    {
     "name": "stdout",
     "output_type": "stream",
     "text": [
      "Extracting C:\\Users\\16526\\Desktop\\dataset\\MNIST\\raw\\t10k-labels-idx1-ubyte.gz to C:\\Users\\16526\\Desktop\\dataset\\MNIST\\raw\n",
      "Processing...\n",
      "Done!\n"
     ]
    }
   ],
   "source": [
    "# 数据集的预处理\n",
    "data_tf = torchvision.transforms.Compose(\n",
    "    [\n",
    "        torchvision.transforms.ToTensor(),\n",
    "        torchvision.transforms.Normalize([0.5],[0.5])\n",
    "    ]\n",
    ")\n",
    "\n",
    "data_path = r'C:\\Users\\16526\\Desktop\\dataset'\n",
    "# 获取数据集\n",
    "train_data = mnist.MNIST(data_path,train=True,transform=data_tf,download=False)\n",
    "test_data = mnist.MNIST(data_path,train=False,transform=data_tf,download=False)"
   ]
  },
  {
   "cell_type": "code",
   "execution_count": null,
   "metadata": {},
   "outputs": [],
   "source": [
    "train_loader = data.DataLoader(train_data,batch_size=128,shuffle=True)\n",
    "test_loader = data.DataLoader(test_data,batch_size=100,shuffle=True)"
   ]
  },
  {
   "cell_type": "code",
   "execution_count": null,
   "metadata": {},
   "outputs": [],
   "source": [
    "# 定义网络结构\n",
    "class CNNnet(torch.nn.Module):\n",
    "    def __init__(self):\n",
    "        super(CNNnet,self).__init__()\n",
    "        self.conv1 = torch.nn.Sequential(\n",
    "            torch.nn.Conv2d(in_channels=1,\n",
    "                            out_channels=16,\n",
    "                            kernel_size=3,\n",
    "                            stride=2,\n",
    "                            padding=1),\n",
    "            torch.nn.BatchNorm2d(16),\n",
    "            torch.nn.ReLU()\n",
    "        )\n",
    "        self.conv2 = torch.nn.Sequential(\n",
    "            torch.nn.Conv2d(16,32,3,2,1),\n",
    "            torch.nn.BatchNorm2d(32),\n",
    "            torch.nn.ReLU()\n",
    "        )\n",
    "        self.conv3 = torch.nn.Sequential(\n",
    "            torch.nn.Conv2d(32,64,3,2,1),\n",
    "            torch.nn.BatchNorm2d(64),\n",
    "            torch.nn.ReLU()\n",
    "        )\n",
    "        self.conv4 = torch.nn.Sequential(\n",
    "            torch.nn.Conv2d(64,64,2,2,0),\n",
    "            torch.nn.BatchNorm2d(64),\n",
    "            torch.nn.ReLU()\n",
    "        )\n",
    "        self.mlp1 = torch.nn.Linear(2*2*64,100)\n",
    "        self.mlp2 = torch.nn.Linear(100,10)\n",
    "    def forward(self, x):\n",
    "        x = self.conv1(x)\n",
    "        x = self.conv2(x)\n",
    "        x = self.conv3(x)\n",
    "        x = self.conv4(x)\n",
    "        x = self.mlp1(x.view(x.size(0),-1))\n",
    "        x = self.mlp2(x)\n",
    "        return x\n",
    "model = CNNnet()\n",
    "print(model)"
   ]
  }
 ],
 "metadata": {
  "kernelspec": {
   "display_name": "python38",
   "language": "python",
   "name": "env_py38"
  },
  "language_info": {
   "codemirror_mode": {
    "name": "ipython",
    "version": 3
   },
   "file_extension": ".py",
   "mimetype": "text/x-python",
   "name": "python",
   "nbconvert_exporter": "python",
   "pygments_lexer": "ipython3",
   "version": "3.8.2"
  },
  "toc": {
   "base_numbering": 1,
   "nav_menu": {},
   "number_sections": true,
   "sideBar": true,
   "skip_h1_title": false,
   "title_cell": "Table of Contents",
   "title_sidebar": "Contents",
   "toc_cell": false,
   "toc_position": {},
   "toc_section_display": true,
   "toc_window_display": false
  }
 },
 "nbformat": 4,
 "nbformat_minor": 4
}
