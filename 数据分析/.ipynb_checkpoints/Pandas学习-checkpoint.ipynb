{
 "cells": [
  {
   "cell_type": "markdown",
   "metadata": {
    "collapsed": true
   },
   "source": [
    "## 1.Series数据结构与索引"
   ]
  },
  {
   "cell_type": "code",
   "execution_count": 1,
   "metadata": {},
   "outputs": [],
   "source": [
    "import pandas as pd\n",
    "import numpy as np"
   ]
  },
  {
   "cell_type": "raw",
   "metadata": {},
   "source": [
    "Numpy是基于数组格式构建的一个数组运算工具，而Pandas是基于Numpy构建的结构化数据处理工具。\n",
    "Pandas 常用的数据结构有两种：Series和 DataFrame。\n",
    "其中 Series 是一个带有名称和索引的一维数组，而 DataFrame则是用来表示多维的数组结构。"
   ]
  },
  {
   "cell_type": "markdown",
   "metadata": {},
   "source": [
    "### Series数据结构"
   ]
  },
  {
   "cell_type": "code",
   "execution_count": 2,
   "metadata": {},
   "outputs": [
    {
     "data": {
      "text/plain": [
       "300773     3.5\n",
       "600751     7.2\n",
       "300405    12.6\n",
       "002937     4.7\n",
       "601615     8.2\n",
       "Name: Stock, dtype: float64"
      ]
     },
     "execution_count": 2,
     "metadata": {},
     "output_type": "execute_result"
    }
   ],
   "source": [
    "stock_seri = pd.Series([3.5, 7.2, 12.6, 4.7, 8.2],\n",
    "                       index=[\"300773\", \"600751\", \"300405\", \"002937\", \"601615\"],\n",
    "                       name=\"Stock\")\n",
    "stock_seri"
   ]
  },
  {
   "cell_type": "code",
   "execution_count": 3,
   "metadata": {},
   "outputs": [
    {
     "data": {
      "text/plain": [
       "'Stock'"
      ]
     },
     "execution_count": 3,
     "metadata": {},
     "output_type": "execute_result"
    }
   ],
   "source": [
    "stock_seri.name"
   ]
  },
  {
   "cell_type": "markdown",
   "metadata": {},
   "source": [
    "### Series的常用操作"
   ]
  },
  {
   "cell_type": "markdown",
   "metadata": {},
   "source": [
    "**Series的索引**"
   ]
  },
  {
   "cell_type": "code",
   "execution_count": 4,
   "metadata": {},
   "outputs": [
    {
     "data": {
      "text/plain": [
       "3.5"
      ]
     },
     "execution_count": 4,
     "metadata": {},
     "output_type": "execute_result"
    }
   ],
   "source": [
    "stock_seri[\"300773\"]"
   ]
  },
  {
   "cell_type": "code",
   "execution_count": 5,
   "metadata": {},
   "outputs": [
    {
     "data": {
      "text/plain": [
       "300773     3.5\n",
       "600751     7.2\n",
       "300405    12.6\n",
       "Name: Stock, dtype: float64"
      ]
     },
     "execution_count": 5,
     "metadata": {},
     "output_type": "execute_result"
    }
   ],
   "source": [
    "stock_seri[[\"300773\", \"600751\",\"300405\"]]"
   ]
  },
  {
   "cell_type": "code",
   "execution_count": 6,
   "metadata": {},
   "outputs": [
    {
     "data": {
      "text/plain": [
       "300773    3.5\n",
       "601615    8.2\n",
       "Name: Stock, dtype: float64"
      ]
     },
     "execution_count": 6,
     "metadata": {},
     "output_type": "execute_result"
    }
   ],
   "source": [
    "stock_seri[[True, False, False, False, True]]"
   ]
  },
  {
   "cell_type": "code",
   "execution_count": 7,
   "metadata": {},
   "outputs": [
    {
     "data": {
      "text/plain": [
       "300773     3.5\n",
       "600751     7.2\n",
       "300405    12.6\n",
       "Name: Stock, dtype: float64"
      ]
     },
     "execution_count": 7,
     "metadata": {},
     "output_type": "execute_result"
    }
   ],
   "source": [
    "stock_seri[\"300773\":\"300405\"]       # 注意:pandas是左闭右闭的区间"
   ]
  },
  {
   "cell_type": "markdown",
   "metadata": {},
   "source": [
    "**Numpy常用的运算，在Series里也是适用的**"
   ]
  },
  {
   "cell_type": "code",
   "execution_count": 8,
   "metadata": {},
   "outputs": [
    {
     "data": {
      "text/plain": [
       "300405    12.6\n",
       "601615     8.2\n",
       "Name: Stock, dtype: float64"
      ]
     },
     "execution_count": 8,
     "metadata": {},
     "output_type": "execute_result"
    }
   ],
   "source": [
    "stock_seri[stock_seri > 8]"
   ]
  },
  {
   "cell_type": "code",
   "execution_count": 9,
   "metadata": {},
   "outputs": [
    {
     "data": {
      "text/plain": [
       "300773     7.0\n",
       "600751    14.4\n",
       "300405    25.2\n",
       "002937     9.4\n",
       "601615    16.4\n",
       "Name: Stock, dtype: float64"
      ]
     },
     "execution_count": 9,
     "metadata": {},
     "output_type": "execute_result"
    }
   ],
   "source": [
    "stock_seri*2"
   ]
  },
  {
   "cell_type": "code",
   "execution_count": 10,
   "metadata": {},
   "outputs": [
    {
     "data": {
      "text/plain": [
       "7.239999999999999"
      ]
     },
     "execution_count": 10,
     "metadata": {},
     "output_type": "execute_result"
    }
   ],
   "source": [
    "np.average(stock_seri)"
   ]
  },
  {
   "cell_type": "markdown",
   "metadata": {},
   "source": [
    "**查看Series数据集中是否有空值**"
   ]
  },
  {
   "cell_type": "code",
   "execution_count": 11,
   "metadata": {},
   "outputs": [
    {
     "data": {
      "text/plain": [
       "300773    False\n",
       "600751    False\n",
       "300405    False\n",
       "002937    False\n",
       "601615    False\n",
       "Name: Stock, dtype: bool"
      ]
     },
     "execution_count": 11,
     "metadata": {},
     "output_type": "execute_result"
    }
   ],
   "source": [
    "stock_seri.isnull()"
   ]
  },
  {
   "cell_type": "markdown",
   "metadata": {},
   "source": [
    "**修改index**"
   ]
  },
  {
   "cell_type": "code",
   "execution_count": 12,
   "metadata": {},
   "outputs": [],
   "source": [
    "stock_seri.index = [\"拉卡拉\", \"海航科技\", \"科隆股份\", \"兴瑞科技\", \"明阳智能\"]"
   ]
  },
  {
   "cell_type": "code",
   "execution_count": 13,
   "metadata": {},
   "outputs": [],
   "source": [
    "stock_seri[\"兴瑞科技\"] = 6.8"
   ]
  },
  {
   "cell_type": "code",
   "execution_count": 14,
   "metadata": {},
   "outputs": [
    {
     "data": {
      "text/plain": [
       "拉卡拉      3.5\n",
       "海航科技     7.2\n",
       "科隆股份    12.6\n",
       "兴瑞科技     6.8\n",
       "明阳智能     8.2\n",
       "Name: Stock, dtype: float64"
      ]
     },
     "execution_count": 14,
     "metadata": {},
     "output_type": "execute_result"
    }
   ],
   "source": [
    "stock_seri"
   ]
  },
  {
   "cell_type": "markdown",
   "metadata": {},
   "source": [
    "**字典来创建Series**"
   ]
  },
  {
   "cell_type": "code",
   "execution_count": 15,
   "metadata": {},
   "outputs": [
    {
     "data": {
      "text/plain": [
       "2012    1\n",
       "2013    3\n",
       "dtype: int64"
      ]
     },
     "execution_count": 15,
     "metadata": {},
     "output_type": "execute_result"
    }
   ],
   "source": [
    "stock_price_dict = {\n",
    "    \"2012\": 1,\n",
    "    \"2013\": 3\n",
    "}\n",
    "pd.Series(stock_price_dict)"
   ]
  },
  {
   "cell_type": "markdown",
   "metadata": {},
   "source": [
    "## DataFrame数据结构与索引"
   ]
  },
  {
   "cell_type": "raw",
   "metadata": {},
   "source": [
    "DataFrame是Series在水平方向的扩展，是一个多列表格型的数据结构"
   ]
  },
  {
   "cell_type": "markdown",
   "metadata": {},
   "source": [
    "### DataFrame数据结构"
   ]
  },
  {
   "cell_type": "code",
   "execution_count": 16,
   "metadata": {},
   "outputs": [
    {
     "data": {
      "text/html": [
       "<div>\n",
       "<style scoped>\n",
       "    .dataframe tbody tr th:only-of-type {\n",
       "        vertical-align: middle;\n",
       "    }\n",
       "\n",
       "    .dataframe tbody tr th {\n",
       "        vertical-align: top;\n",
       "    }\n",
       "\n",
       "    .dataframe thead th {\n",
       "        text-align: right;\n",
       "    }\n",
       "</style>\n",
       "<table border=\"1\" class=\"dataframe\">\n",
       "  <thead>\n",
       "    <tr style=\"text-align: right;\">\n",
       "      <th></th>\n",
       "      <th>A</th>\n",
       "      <th>B</th>\n",
       "      <th>C</th>\n",
       "    </tr>\n",
       "  </thead>\n",
       "  <tbody>\n",
       "    <tr>\n",
       "      <th>2000</th>\n",
       "      <td>0</td>\n",
       "      <td>1</td>\n",
       "      <td>2</td>\n",
       "    </tr>\n",
       "    <tr>\n",
       "      <th>2001</th>\n",
       "      <td>3</td>\n",
       "      <td>4</td>\n",
       "      <td>5</td>\n",
       "    </tr>\n",
       "  </tbody>\n",
       "</table>\n",
       "</div>"
      ],
      "text/plain": [
       "      A  B  C\n",
       "2000  0  1  2\n",
       "2001  3  4  5"
      ]
     },
     "execution_count": 16,
     "metadata": {},
     "output_type": "execute_result"
    }
   ],
   "source": [
    "frame0 = pd.DataFrame(np.arange(6).reshape(2, 3),\n",
    "                      index=[2000, 2001], columns=[\"A\", \"B\", \"C\"])\n",
    "frame0"
   ]
  },
  {
   "cell_type": "code",
   "execution_count": 17,
   "metadata": {},
   "outputs": [
    {
     "data": {
      "text/html": [
       "<div>\n",
       "<style scoped>\n",
       "    .dataframe tbody tr th:only-of-type {\n",
       "        vertical-align: middle;\n",
       "    }\n",
       "\n",
       "    .dataframe tbody tr th {\n",
       "        vertical-align: top;\n",
       "    }\n",
       "\n",
       "    .dataframe thead th {\n",
       "        text-align: right;\n",
       "    }\n",
       "</style>\n",
       "<table border=\"1\" class=\"dataframe\">\n",
       "  <thead>\n",
       "    <tr style=\"text-align: right;\">\n",
       "      <th></th>\n",
       "      <th>A</th>\n",
       "      <th>B</th>\n",
       "      <th>C</th>\n",
       "    </tr>\n",
       "  </thead>\n",
       "  <tbody>\n",
       "    <tr>\n",
       "      <th>4</th>\n",
       "      <td>0</td>\n",
       "      <td>1</td>\n",
       "      <td>2</td>\n",
       "    </tr>\n",
       "    <tr>\n",
       "      <th>5</th>\n",
       "      <td>3</td>\n",
       "      <td>4</td>\n",
       "      <td>5</td>\n",
       "    </tr>\n",
       "  </tbody>\n",
       "</table>\n",
       "</div>"
      ],
      "text/plain": [
       "   A  B  C\n",
       "4  0  1  2\n",
       "5  3  4  5"
      ]
     },
     "execution_count": 17,
     "metadata": {},
     "output_type": "execute_result"
    }
   ],
   "source": [
    "# 利用字典格式，生成DataFrame数据结构\n",
    "data = {\"A\": [0, 3], \"B\": [1, 4], \"C\": [2, 5]}\n",
    "temp = pd.DataFrame(data, index= [4, 5])\n",
    "temp"
   ]
  },
  {
   "cell_type": "code",
   "execution_count": 18,
   "metadata": {},
   "outputs": [
    {
     "data": {
      "text/plain": [
       "4    0\n",
       "5    3\n",
       "Name: A, dtype: int64"
      ]
     },
     "execution_count": 18,
     "metadata": {},
     "output_type": "execute_result"
    }
   ],
   "source": [
    "temp[\"A\"]"
   ]
  },
  {
   "cell_type": "markdown",
   "metadata": {},
   "source": [
    "**对多列索引，需要以列表的形式传入序列**"
   ]
  },
  {
   "cell_type": "code",
   "execution_count": 19,
   "metadata": {},
   "outputs": [
    {
     "data": {
      "text/html": [
       "<div>\n",
       "<style scoped>\n",
       "    .dataframe tbody tr th:only-of-type {\n",
       "        vertical-align: middle;\n",
       "    }\n",
       "\n",
       "    .dataframe tbody tr th {\n",
       "        vertical-align: top;\n",
       "    }\n",
       "\n",
       "    .dataframe thead th {\n",
       "        text-align: right;\n",
       "    }\n",
       "</style>\n",
       "<table border=\"1\" class=\"dataframe\">\n",
       "  <thead>\n",
       "    <tr style=\"text-align: right;\">\n",
       "      <th></th>\n",
       "      <th>A</th>\n",
       "      <th>B</th>\n",
       "      <th>C</th>\n",
       "    </tr>\n",
       "  </thead>\n",
       "  <tbody>\n",
       "    <tr>\n",
       "      <th>4</th>\n",
       "      <td>0</td>\n",
       "      <td>1</td>\n",
       "      <td>2</td>\n",
       "    </tr>\n",
       "    <tr>\n",
       "      <th>5</th>\n",
       "      <td>3</td>\n",
       "      <td>4</td>\n",
       "      <td>5</td>\n",
       "    </tr>\n",
       "  </tbody>\n",
       "</table>\n",
       "</div>"
      ],
      "text/plain": [
       "   A  B  C\n",
       "4  0  1  2\n",
       "5  3  4  5"
      ]
     },
     "execution_count": 19,
     "metadata": {},
     "output_type": "execute_result"
    }
   ],
   "source": [
    "temp[[\"A\", \"B\", \"C\"]]"
   ]
  },
  {
   "cell_type": "markdown",
   "metadata": {},
   "source": [
    "**筛选A值为0的行**"
   ]
  },
  {
   "cell_type": "code",
   "execution_count": 20,
   "metadata": {},
   "outputs": [
    {
     "data": {
      "text/html": [
       "<div>\n",
       "<style scoped>\n",
       "    .dataframe tbody tr th:only-of-type {\n",
       "        vertical-align: middle;\n",
       "    }\n",
       "\n",
       "    .dataframe tbody tr th {\n",
       "        vertical-align: top;\n",
       "    }\n",
       "\n",
       "    .dataframe thead th {\n",
       "        text-align: right;\n",
       "    }\n",
       "</style>\n",
       "<table border=\"1\" class=\"dataframe\">\n",
       "  <thead>\n",
       "    <tr style=\"text-align: right;\">\n",
       "      <th></th>\n",
       "      <th>A</th>\n",
       "      <th>B</th>\n",
       "      <th>C</th>\n",
       "    </tr>\n",
       "  </thead>\n",
       "  <tbody>\n",
       "    <tr>\n",
       "      <th>4</th>\n",
       "      <td>0</td>\n",
       "      <td>1</td>\n",
       "      <td>2</td>\n",
       "    </tr>\n",
       "  </tbody>\n",
       "</table>\n",
       "</div>"
      ],
      "text/plain": [
       "   A  B  C\n",
       "4  0  1  2"
      ]
     },
     "execution_count": 20,
     "metadata": {},
     "output_type": "execute_result"
    }
   ],
   "source": [
    "temp[temp[\"A\"] == 0]"
   ]
  },
  {
   "cell_type": "code",
   "execution_count": 21,
   "metadata": {},
   "outputs": [
    {
     "data": {
      "text/html": [
       "<div>\n",
       "<style scoped>\n",
       "    .dataframe tbody tr th:only-of-type {\n",
       "        vertical-align: middle;\n",
       "    }\n",
       "\n",
       "    .dataframe tbody tr th {\n",
       "        vertical-align: top;\n",
       "    }\n",
       "\n",
       "    .dataframe thead th {\n",
       "        text-align: right;\n",
       "    }\n",
       "</style>\n",
       "<table border=\"1\" class=\"dataframe\">\n",
       "  <thead>\n",
       "    <tr style=\"text-align: right;\">\n",
       "      <th></th>\n",
       "      <th>A</th>\n",
       "      <th>B</th>\n",
       "      <th>C</th>\n",
       "    </tr>\n",
       "  </thead>\n",
       "  <tbody>\n",
       "    <tr>\n",
       "      <th>4</th>\n",
       "      <td>0</td>\n",
       "      <td>2</td>\n",
       "      <td>4</td>\n",
       "    </tr>\n",
       "    <tr>\n",
       "      <th>5</th>\n",
       "      <td>6</td>\n",
       "      <td>8</td>\n",
       "      <td>10</td>\n",
       "    </tr>\n",
       "  </tbody>\n",
       "</table>\n",
       "</div>"
      ],
      "text/plain": [
       "   A  B   C\n",
       "4  0  2   4\n",
       "5  6  8  10"
      ]
     },
     "execution_count": 21,
     "metadata": {},
     "output_type": "execute_result"
    }
   ],
   "source": [
    "# 乘法运算\n",
    "temp*2"
   ]
  },
  {
   "cell_type": "markdown",
   "metadata": {},
   "source": [
    "### DataFrame索引"
   ]
  },
  {
   "cell_type": "raw",
   "metadata": {},
   "source": [
    "通过两种方式进行索引，分别是标签索引和位置索引"
   ]
  },
  {
   "cell_type": "markdown",
   "metadata": {},
   "source": [
    "#### loc 标签索引"
   ]
  },
  {
   "cell_type": "raw",
   "metadata": {},
   "source": [
    "Pandas自带的loc方法，通过具体的标签名字来索引行或者列。"
   ]
  },
  {
   "cell_type": "code",
   "execution_count": 22,
   "metadata": {},
   "outputs": [
    {
     "data": {
      "text/html": [
       "<div>\n",
       "<style scoped>\n",
       "    .dataframe tbody tr th:only-of-type {\n",
       "        vertical-align: middle;\n",
       "    }\n",
       "\n",
       "    .dataframe tbody tr th {\n",
       "        vertical-align: top;\n",
       "    }\n",
       "\n",
       "    .dataframe thead th {\n",
       "        text-align: right;\n",
       "    }\n",
       "</style>\n",
       "<table border=\"1\" class=\"dataframe\">\n",
       "  <thead>\n",
       "    <tr style=\"text-align: right;\">\n",
       "      <th></th>\n",
       "      <th>A</th>\n",
       "      <th>B</th>\n",
       "      <th>C</th>\n",
       "    </tr>\n",
       "  </thead>\n",
       "  <tbody>\n",
       "    <tr>\n",
       "      <th>2000</th>\n",
       "      <td>0</td>\n",
       "      <td>1</td>\n",
       "      <td>2</td>\n",
       "    </tr>\n",
       "    <tr>\n",
       "      <th>2001</th>\n",
       "      <td>3</td>\n",
       "      <td>4</td>\n",
       "      <td>5</td>\n",
       "    </tr>\n",
       "  </tbody>\n",
       "</table>\n",
       "</div>"
      ],
      "text/plain": [
       "      A  B  C\n",
       "2000  0  1  2\n",
       "2001  3  4  5"
      ]
     },
     "execution_count": 22,
     "metadata": {},
     "output_type": "execute_result"
    }
   ],
   "source": [
    "frame0 = pd.DataFrame(np.arange(6).reshape(2, 3),\n",
    "                      index=[2000, 2001], columns=[\"A\", \"B\", \"C\"])\n",
    "frame0"
   ]
  },
  {
   "cell_type": "code",
   "execution_count": 23,
   "metadata": {},
   "outputs": [
    {
     "data": {
      "text/plain": [
       "A    0\n",
       "B    1\n",
       "C    2\n",
       "Name: 2000, dtype: int32"
      ]
     },
     "execution_count": 23,
     "metadata": {},
     "output_type": "execute_result"
    }
   ],
   "source": [
    "# 选择索引为2000的行\n",
    "frame0.loc[2000]"
   ]
  },
  {
   "cell_type": "code",
   "execution_count": 24,
   "metadata": {},
   "outputs": [
    {
     "data": {
      "text/plain": [
       "2000    0\n",
       "2001    3\n",
       "Name: A, dtype: int32"
      ]
     },
     "execution_count": 24,
     "metadata": {},
     "output_type": "execute_result"
    }
   ],
   "source": [
    "# 选择“A”列\n",
    "frame0.loc[:,\"A\"]"
   ]
  },
  {
   "cell_type": "code",
   "execution_count": 25,
   "metadata": {},
   "outputs": [
    {
     "data": {
      "text/plain": [
       "B    4\n",
       "C    5\n",
       "Name: 2001, dtype: int32"
      ]
     },
     "execution_count": 25,
     "metadata": {},
     "output_type": "execute_result"
    }
   ],
   "source": [
    "# 选择索引为2001，BC列的元素\n",
    "frame0.loc[2001,\"B\":\"C\"]"
   ]
  },
  {
   "cell_type": "markdown",
   "metadata": {},
   "source": [
    "#### iloc函数"
   ]
  },
  {
   "cell_type": "code",
   "execution_count": 26,
   "metadata": {},
   "outputs": [
    {
     "data": {
      "text/plain": [
       "A    0\n",
       "B    1\n",
       "C    2\n",
       "Name: 2000, dtype: int32"
      ]
     },
     "execution_count": 26,
     "metadata": {},
     "output_type": "execute_result"
    }
   ],
   "source": [
    "# 通过位置，选择索引为2000的行\n",
    "frame0.iloc[0]"
   ]
  },
  {
   "cell_type": "code",
   "execution_count": 27,
   "metadata": {},
   "outputs": [
    {
     "data": {
      "text/plain": [
       "2000    0\n",
       "2001    3\n",
       "Name: A, dtype: int32"
      ]
     },
     "execution_count": 27,
     "metadata": {},
     "output_type": "execute_result"
    }
   ],
   "source": [
    "# 通过位置，选择“A”列\n",
    "frame0.iloc[:,0]"
   ]
  },
  {
   "cell_type": "markdown",
   "metadata": {},
   "source": [
    "#### 索引对象初窥"
   ]
  },
  {
   "cell_type": "raw",
   "metadata": {},
   "source": [
    "index对象可以像列表一样被灵活切片"
   ]
  },
  {
   "cell_type": "code",
   "execution_count": 28,
   "metadata": {},
   "outputs": [
    {
     "data": {
      "text/plain": [
       "Int64Index([2000], dtype='int64')"
      ]
     },
     "execution_count": 28,
     "metadata": {},
     "output_type": "execute_result"
    }
   ],
   "source": [
    "frame0.index[:1]"
   ]
  },
  {
   "cell_type": "markdown",
   "metadata": {},
   "source": [
    "**用reindex的方式，为数据集构造一个新的index对象**"
   ]
  },
  {
   "cell_type": "code",
   "execution_count": 29,
   "metadata": {},
   "outputs": [
    {
     "data": {
      "text/html": [
       "<div>\n",
       "<style scoped>\n",
       "    .dataframe tbody tr th:only-of-type {\n",
       "        vertical-align: middle;\n",
       "    }\n",
       "\n",
       "    .dataframe tbody tr th {\n",
       "        vertical-align: top;\n",
       "    }\n",
       "\n",
       "    .dataframe thead th {\n",
       "        text-align: right;\n",
       "    }\n",
       "</style>\n",
       "<table border=\"1\" class=\"dataframe\">\n",
       "  <thead>\n",
       "    <tr style=\"text-align: right;\">\n",
       "      <th></th>\n",
       "      <th>A</th>\n",
       "      <th>B</th>\n",
       "      <th>C</th>\n",
       "    </tr>\n",
       "  </thead>\n",
       "  <tbody>\n",
       "    <tr>\n",
       "      <th>2000</th>\n",
       "      <td>0.0</td>\n",
       "      <td>1.0</td>\n",
       "      <td>2.0</td>\n",
       "    </tr>\n",
       "    <tr>\n",
       "      <th>2001</th>\n",
       "      <td>3.0</td>\n",
       "      <td>4.0</td>\n",
       "      <td>5.0</td>\n",
       "    </tr>\n",
       "    <tr>\n",
       "      <th>2002</th>\n",
       "      <td>NaN</td>\n",
       "      <td>NaN</td>\n",
       "      <td>NaN</td>\n",
       "    </tr>\n",
       "  </tbody>\n",
       "</table>\n",
       "</div>"
      ],
      "text/plain": [
       "        A    B    C\n",
       "2000  0.0  1.0  2.0\n",
       "2001  3.0  4.0  5.0\n",
       "2002  NaN  NaN  NaN"
      ]
     },
     "execution_count": 29,
     "metadata": {},
     "output_type": "execute_result"
    }
   ],
   "source": [
    "# reindex的方式，会继承原先的索引，如果有新增的索引项，那么会自动填充空值\n",
    "frame0.reindex([2000,2001,2002])"
   ]
  },
  {
   "cell_type": "markdown",
   "metadata": {},
   "source": [
    "**增加fill_value属性，自动填充其他值**"
   ]
  },
  {
   "cell_type": "code",
   "execution_count": 30,
   "metadata": {},
   "outputs": [
    {
     "data": {
      "text/html": [
       "<div>\n",
       "<style scoped>\n",
       "    .dataframe tbody tr th:only-of-type {\n",
       "        vertical-align: middle;\n",
       "    }\n",
       "\n",
       "    .dataframe tbody tr th {\n",
       "        vertical-align: top;\n",
       "    }\n",
       "\n",
       "    .dataframe thead th {\n",
       "        text-align: right;\n",
       "    }\n",
       "</style>\n",
       "<table border=\"1\" class=\"dataframe\">\n",
       "  <thead>\n",
       "    <tr style=\"text-align: right;\">\n",
       "      <th></th>\n",
       "      <th>A</th>\n",
       "      <th>B</th>\n",
       "      <th>C</th>\n",
       "    </tr>\n",
       "  </thead>\n",
       "  <tbody>\n",
       "    <tr>\n",
       "      <th>2000</th>\n",
       "      <td>0</td>\n",
       "      <td>1</td>\n",
       "      <td>2</td>\n",
       "    </tr>\n",
       "    <tr>\n",
       "      <th>2001</th>\n",
       "      <td>3</td>\n",
       "      <td>4</td>\n",
       "      <td>5</td>\n",
       "    </tr>\n",
       "    <tr>\n",
       "      <th>2002</th>\n",
       "      <td>20</td>\n",
       "      <td>20</td>\n",
       "      <td>20</td>\n",
       "    </tr>\n",
       "  </tbody>\n",
       "</table>\n",
       "</div>"
      ],
      "text/plain": [
       "       A   B   C\n",
       "2000   0   1   2\n",
       "2001   3   4   5\n",
       "2002  20  20  20"
      ]
     },
     "execution_count": 30,
     "metadata": {},
     "output_type": "execute_result"
    }
   ],
   "source": [
    "frame0.reindex([2000,2001,2002], fill_value = 20)"
   ]
  },
  {
   "cell_type": "code",
   "execution_count": 31,
   "metadata": {},
   "outputs": [
    {
     "data": {
      "text/plain": [
       "Index(['A', 'B', 'C'], dtype='object')"
      ]
     },
     "execution_count": 31,
     "metadata": {},
     "output_type": "execute_result"
    }
   ],
   "source": [
    "frame0.columns"
   ]
  },
  {
   "cell_type": "markdown",
   "metadata": {},
   "source": [
    "#### 修改列名，有2种方法"
   ]
  },
  {
   "cell_type": "markdown",
   "metadata": {},
   "source": [
    "**方法一：利用rename函数**"
   ]
  },
  {
   "cell_type": "code",
   "execution_count": 32,
   "metadata": {},
   "outputs": [
    {
     "data": {
      "text/html": [
       "<div>\n",
       "<style scoped>\n",
       "    .dataframe tbody tr th:only-of-type {\n",
       "        vertical-align: middle;\n",
       "    }\n",
       "\n",
       "    .dataframe tbody tr th {\n",
       "        vertical-align: top;\n",
       "    }\n",
       "\n",
       "    .dataframe thead th {\n",
       "        text-align: right;\n",
       "    }\n",
       "</style>\n",
       "<table border=\"1\" class=\"dataframe\">\n",
       "  <thead>\n",
       "    <tr style=\"text-align: right;\">\n",
       "      <th></th>\n",
       "      <th>a</th>\n",
       "      <th>b</th>\n",
       "      <th>c</th>\n",
       "    </tr>\n",
       "  </thead>\n",
       "  <tbody>\n",
       "    <tr>\n",
       "      <th>2000</th>\n",
       "      <td>0</td>\n",
       "      <td>1</td>\n",
       "      <td>2</td>\n",
       "    </tr>\n",
       "    <tr>\n",
       "      <th>2001</th>\n",
       "      <td>3</td>\n",
       "      <td>4</td>\n",
       "      <td>5</td>\n",
       "    </tr>\n",
       "  </tbody>\n",
       "</table>\n",
       "</div>"
      ],
      "text/plain": [
       "      a  b  c\n",
       "2000  0  1  2\n",
       "2001  3  4  5"
      ]
     },
     "execution_count": 32,
     "metadata": {},
     "output_type": "execute_result"
    }
   ],
   "source": [
    "frame0.rename(columns={\"A\": \"a\",\"B\":\"b\",\"C\":\"c\"})"
   ]
  },
  {
   "cell_type": "markdown",
   "metadata": {},
   "source": [
    "**方法二：重新指定**"
   ]
  },
  {
   "cell_type": "code",
   "execution_count": 33,
   "metadata": {},
   "outputs": [
    {
     "data": {
      "text/html": [
       "<div>\n",
       "<style scoped>\n",
       "    .dataframe tbody tr th:only-of-type {\n",
       "        vertical-align: middle;\n",
       "    }\n",
       "\n",
       "    .dataframe tbody tr th {\n",
       "        vertical-align: top;\n",
       "    }\n",
       "\n",
       "    .dataframe thead th {\n",
       "        text-align: right;\n",
       "    }\n",
       "</style>\n",
       "<table border=\"1\" class=\"dataframe\">\n",
       "  <thead>\n",
       "    <tr style=\"text-align: right;\">\n",
       "      <th></th>\n",
       "      <th>d</th>\n",
       "      <th>e</th>\n",
       "      <th>f</th>\n",
       "    </tr>\n",
       "  </thead>\n",
       "  <tbody>\n",
       "    <tr>\n",
       "      <th>2000</th>\n",
       "      <td>0</td>\n",
       "      <td>1</td>\n",
       "      <td>2</td>\n",
       "    </tr>\n",
       "    <tr>\n",
       "      <th>2001</th>\n",
       "      <td>3</td>\n",
       "      <td>4</td>\n",
       "      <td>5</td>\n",
       "    </tr>\n",
       "  </tbody>\n",
       "</table>\n",
       "</div>"
      ],
      "text/plain": [
       "      d  e  f\n",
       "2000  0  1  2\n",
       "2001  3  4  5"
      ]
     },
     "execution_count": 33,
     "metadata": {},
     "output_type": "execute_result"
    }
   ],
   "source": [
    "frame0.columns = [\"d\", \"e\", \"f\"]\n",
    "frame0"
   ]
  },
  {
   "cell_type": "markdown",
   "metadata": {},
   "source": [
    "## 读取文件"
   ]
  },
  {
   "cell_type": "markdown",
   "metadata": {},
   "source": [
    "### Python读取文件"
   ]
  },
  {
   "cell_type": "code",
   "execution_count": 34,
   "metadata": {},
   "outputs": [
    {
     "data": {
      "text/plain": [
       "'岗位,公司,地点,最低工资(万/月),最高工资(万/月)\\nphp开发工程师,重庆赶海科技有限公司,重庆,0.6,0.8\\njava开发工程师,上海赛可出行科技服务有限公司,南京,1.5,2.5\\n测试工程师,朗新科技股份有限公司,无锡,0.6,1\\nweb开发工程师,快助（天津）科技有限公司,天津,0.8,1\\n销售顾问,上海钢联电子商务股份有限公司,深圳,1,1.5'"
      ]
     },
     "execution_count": 34,
     "metadata": {},
     "output_type": "execute_result"
    }
   ],
   "source": [
    "file01 = r\"C:\\Users\\16526\\Desktop\\电网项目\\dataset\\chapter 3\\3-2 job_chance.csv\"\n",
    "with open(file01, \"r\", encoding=\"utf-8\") as f:\n",
    "    lines = f.read()\n",
    "lines"
   ]
  },
  {
   "cell_type": "code",
   "execution_count": 35,
   "metadata": {},
   "outputs": [
    {
     "data": {
      "text/plain": [
       "[['岗位', '公司', '地点', '最低工资(万/月)', '最高工资(万/月)'],\n",
       " ['php开发工程师', '重庆赶海科技有限公司', '重庆', '0.6', '0.8'],\n",
       " ['java开发工程师', '上海赛可出行科技服务有限公司', '南京', '1.5', '2.5'],\n",
       " ['测试工程师', '朗新科技股份有限公司', '无锡', '0.6', '1'],\n",
       " ['web开发工程师', '快助（天津）科技有限公司', '天津', '0.8', '1'],\n",
       " ['销售顾问', '上海钢联电子商务股份有限公司', '深圳', '1', '1.5']]"
      ]
     },
     "execution_count": 35,
     "metadata": {},
     "output_type": "execute_result"
    }
   ],
   "source": [
    "with open(file01, \"r\", encoding=\"utf-8\") as f:\n",
    "    lines = f.readlines()\n",
    "content = [line.strip().split(\",\") for line in lines]\n",
    "content"
   ]
  },
  {
   "cell_type": "markdown",
   "metadata": {},
   "source": [
    "**columns代表列名**"
   ]
  },
  {
   "cell_type": "code",
   "execution_count": 36,
   "metadata": {},
   "outputs": [
    {
     "data": {
      "text/html": [
       "<div>\n",
       "<style scoped>\n",
       "    .dataframe tbody tr th:only-of-type {\n",
       "        vertical-align: middle;\n",
       "    }\n",
       "\n",
       "    .dataframe tbody tr th {\n",
       "        vertical-align: top;\n",
       "    }\n",
       "\n",
       "    .dataframe thead th {\n",
       "        text-align: right;\n",
       "    }\n",
       "</style>\n",
       "<table border=\"1\" class=\"dataframe\">\n",
       "  <thead>\n",
       "    <tr style=\"text-align: right;\">\n",
       "      <th></th>\n",
       "      <th>岗位</th>\n",
       "      <th>公司</th>\n",
       "      <th>地点</th>\n",
       "      <th>最低工资(万/月)</th>\n",
       "      <th>最高工资(万/月)</th>\n",
       "    </tr>\n",
       "  </thead>\n",
       "  <tbody>\n",
       "    <tr>\n",
       "      <th>0</th>\n",
       "      <td>php开发工程师</td>\n",
       "      <td>重庆赶海科技有限公司</td>\n",
       "      <td>重庆</td>\n",
       "      <td>0.6</td>\n",
       "      <td>0.8</td>\n",
       "    </tr>\n",
       "    <tr>\n",
       "      <th>1</th>\n",
       "      <td>java开发工程师</td>\n",
       "      <td>上海赛可出行科技服务有限公司</td>\n",
       "      <td>南京</td>\n",
       "      <td>1.5</td>\n",
       "      <td>2.5</td>\n",
       "    </tr>\n",
       "    <tr>\n",
       "      <th>2</th>\n",
       "      <td>测试工程师</td>\n",
       "      <td>朗新科技股份有限公司</td>\n",
       "      <td>无锡</td>\n",
       "      <td>0.6</td>\n",
       "      <td>1</td>\n",
       "    </tr>\n",
       "    <tr>\n",
       "      <th>3</th>\n",
       "      <td>web开发工程师</td>\n",
       "      <td>快助（天津）科技有限公司</td>\n",
       "      <td>天津</td>\n",
       "      <td>0.8</td>\n",
       "      <td>1</td>\n",
       "    </tr>\n",
       "    <tr>\n",
       "      <th>4</th>\n",
       "      <td>销售顾问</td>\n",
       "      <td>上海钢联电子商务股份有限公司</td>\n",
       "      <td>深圳</td>\n",
       "      <td>1</td>\n",
       "      <td>1.5</td>\n",
       "    </tr>\n",
       "  </tbody>\n",
       "</table>\n",
       "</div>"
      ],
      "text/plain": [
       "          岗位              公司  地点 最低工资(万/月) 最高工资(万/月)\n",
       "0   php开发工程师      重庆赶海科技有限公司  重庆       0.6       0.8\n",
       "1  java开发工程师  上海赛可出行科技服务有限公司  南京       1.5       2.5\n",
       "2      测试工程师      朗新科技股份有限公司  无锡       0.6         1\n",
       "3   web开发工程师    快助（天津）科技有限公司  天津       0.8         1\n",
       "4       销售顾问  上海钢联电子商务股份有限公司  深圳         1       1.5"
      ]
     },
     "execution_count": 36,
     "metadata": {},
     "output_type": "execute_result"
    }
   ],
   "source": [
    "df_job01 = pd.DataFrame(content[1:], columns=content[0])\n",
    "df_job01"
   ]
  },
  {
   "cell_type": "markdown",
   "metadata": {},
   "source": [
    "### Pandas读取文件"
   ]
  },
  {
   "cell_type": "markdown",
   "metadata": {},
   "source": [
    "Pandas提供了多个读取表格型的文本文件，并转化为DataFrame对象的函数，\n",
    "其中用的最多的2个函数应该是read_csv和read_table。\n",
    "二者均提供了一个标准的方法，从文件型对象中记载带分隔符的数据，\n",
    "其中<font color=red>read_csv</font>的默认分隔符为逗号，\n",
    "<font color=red>read_table</font>的默认分隔符为制表符\\t。"
   ]
  },
  {
   "cell_type": "markdown",
   "metadata": {},
   "source": [
    "#### 常规读取"
   ]
  },
  {
   "cell_type": "markdown",
   "metadata": {},
   "source": [
    "**read_csv 会自动默认第一行为列名，并根据第一列的特别，默认是否设置为索引**"
   ]
  },
  {
   "cell_type": "code",
   "execution_count": 37,
   "metadata": {},
   "outputs": [
    {
     "data": {
      "text/html": [
       "<div>\n",
       "<style scoped>\n",
       "    .dataframe tbody tr th:only-of-type {\n",
       "        vertical-align: middle;\n",
       "    }\n",
       "\n",
       "    .dataframe tbody tr th {\n",
       "        vertical-align: top;\n",
       "    }\n",
       "\n",
       "    .dataframe thead th {\n",
       "        text-align: right;\n",
       "    }\n",
       "</style>\n",
       "<table border=\"1\" class=\"dataframe\">\n",
       "  <thead>\n",
       "    <tr style=\"text-align: right;\">\n",
       "      <th></th>\n",
       "      <th>岗位</th>\n",
       "      <th>公司</th>\n",
       "      <th>地点</th>\n",
       "      <th>最低工资(万/月)</th>\n",
       "      <th>最高工资(万/月)</th>\n",
       "    </tr>\n",
       "  </thead>\n",
       "  <tbody>\n",
       "    <tr>\n",
       "      <th>0</th>\n",
       "      <td>php开发工程师</td>\n",
       "      <td>重庆赶海科技有限公司</td>\n",
       "      <td>重庆</td>\n",
       "      <td>0.6</td>\n",
       "      <td>0.8</td>\n",
       "    </tr>\n",
       "    <tr>\n",
       "      <th>1</th>\n",
       "      <td>java开发工程师</td>\n",
       "      <td>上海赛可出行科技服务有限公司</td>\n",
       "      <td>南京</td>\n",
       "      <td>1.5</td>\n",
       "      <td>2.5</td>\n",
       "    </tr>\n",
       "    <tr>\n",
       "      <th>2</th>\n",
       "      <td>测试工程师</td>\n",
       "      <td>朗新科技股份有限公司</td>\n",
       "      <td>无锡</td>\n",
       "      <td>0.6</td>\n",
       "      <td>1.0</td>\n",
       "    </tr>\n",
       "    <tr>\n",
       "      <th>3</th>\n",
       "      <td>web开发工程师</td>\n",
       "      <td>快助（天津）科技有限公司</td>\n",
       "      <td>天津</td>\n",
       "      <td>0.8</td>\n",
       "      <td>1.0</td>\n",
       "    </tr>\n",
       "    <tr>\n",
       "      <th>4</th>\n",
       "      <td>销售顾问</td>\n",
       "      <td>上海钢联电子商务股份有限公司</td>\n",
       "      <td>深圳</td>\n",
       "      <td>1.0</td>\n",
       "      <td>1.5</td>\n",
       "    </tr>\n",
       "  </tbody>\n",
       "</table>\n",
       "</div>"
      ],
      "text/plain": [
       "          岗位              公司  地点  最低工资(万/月)  最高工资(万/月)\n",
       "0   php开发工程师      重庆赶海科技有限公司  重庆        0.6        0.8\n",
       "1  java开发工程师  上海赛可出行科技服务有限公司  南京        1.5        2.5\n",
       "2      测试工程师      朗新科技股份有限公司  无锡        0.6        1.0\n",
       "3   web开发工程师    快助（天津）科技有限公司  天津        0.8        1.0\n",
       "4       销售顾问  上海钢联电子商务股份有限公司  深圳        1.0        1.5"
      ]
     },
     "execution_count": 37,
     "metadata": {},
     "output_type": "execute_result"
    }
   ],
   "source": [
    "df_job02 = pd.read_csv(file01, encoding=\"utf-8\")\n",
    "df_job02"
   ]
  },
  {
   "cell_type": "code",
   "execution_count": 38,
   "metadata": {},
   "outputs": [
    {
     "data": {
      "text/html": [
       "<div>\n",
       "<style scoped>\n",
       "    .dataframe tbody tr th:only-of-type {\n",
       "        vertical-align: middle;\n",
       "    }\n",
       "\n",
       "    .dataframe tbody tr th {\n",
       "        vertical-align: top;\n",
       "    }\n",
       "\n",
       "    .dataframe thead th {\n",
       "        text-align: right;\n",
       "    }\n",
       "</style>\n",
       "<table border=\"1\" class=\"dataframe\">\n",
       "  <thead>\n",
       "    <tr style=\"text-align: right;\">\n",
       "      <th></th>\n",
       "      <th>岗位</th>\n",
       "      <th>公司</th>\n",
       "      <th>地点</th>\n",
       "      <th>最低工资(万/月)</th>\n",
       "      <th>最高工资(万/月)</th>\n",
       "    </tr>\n",
       "  </thead>\n",
       "  <tbody>\n",
       "    <tr>\n",
       "      <th>0</th>\n",
       "      <td>php开发工程师</td>\n",
       "      <td>重庆赶海科技有限公司</td>\n",
       "      <td>重庆</td>\n",
       "      <td>0.6</td>\n",
       "      <td>0.8</td>\n",
       "    </tr>\n",
       "    <tr>\n",
       "      <th>1</th>\n",
       "      <td>java开发工程师</td>\n",
       "      <td>上海赛可出行科技服务有限公司</td>\n",
       "      <td>南京</td>\n",
       "      <td>1.5</td>\n",
       "      <td>2.5</td>\n",
       "    </tr>\n",
       "    <tr>\n",
       "      <th>2</th>\n",
       "      <td>测试工程师</td>\n",
       "      <td>朗新科技股份有限公司</td>\n",
       "      <td>无锡</td>\n",
       "      <td>0.6</td>\n",
       "      <td>1.0</td>\n",
       "    </tr>\n",
       "    <tr>\n",
       "      <th>3</th>\n",
       "      <td>web开发工程师</td>\n",
       "      <td>快助（天津）科技有限公司</td>\n",
       "      <td>天津</td>\n",
       "      <td>0.8</td>\n",
       "      <td>1.0</td>\n",
       "    </tr>\n",
       "    <tr>\n",
       "      <th>4</th>\n",
       "      <td>销售顾问</td>\n",
       "      <td>上海钢联电子商务股份有限公司</td>\n",
       "      <td>深圳</td>\n",
       "      <td>1.0</td>\n",
       "      <td>1.5</td>\n",
       "    </tr>\n",
       "  </tbody>\n",
       "</table>\n",
       "</div>"
      ],
      "text/plain": [
       "          岗位              公司  地点  最低工资(万/月)  最高工资(万/月)\n",
       "0   php开发工程师      重庆赶海科技有限公司  重庆        0.6        0.8\n",
       "1  java开发工程师  上海赛可出行科技服务有限公司  南京        1.5        2.5\n",
       "2      测试工程师      朗新科技股份有限公司  无锡        0.6        1.0\n",
       "3   web开发工程师    快助（天津）科技有限公司  天津        0.8        1.0\n",
       "4       销售顾问  上海钢联电子商务股份有限公司  深圳        1.0        1.5"
      ]
     },
     "execution_count": 38,
     "metadata": {},
     "output_type": "execute_result"
    }
   ],
   "source": [
    "# index_col 用来指定用作索引的列编号，0表示第一列；\n",
    "# header用来指定用作列名的编号，默认为0，表示取第一行，若不希望设置任何列名，\n",
    "# 则取None，程序默认配置以0开始序列作为列名；\n",
    "df_job03 = pd.read_csv(file01, encoding=\"utf-8\", index_col=None, header=0)\n",
    "df_job03"
   ]
  },
  {
   "cell_type": "markdown",
   "metadata": {},
   "source": [
    "**read_table的用法和read_csv基本一致，如果你希望读取上述文件，只需要额外指定一下文件分隔符：**"
   ]
  },
  {
   "cell_type": "code",
   "execution_count": 39,
   "metadata": {},
   "outputs": [
    {
     "data": {
      "text/html": [
       "<div>\n",
       "<style scoped>\n",
       "    .dataframe tbody tr th:only-of-type {\n",
       "        vertical-align: middle;\n",
       "    }\n",
       "\n",
       "    .dataframe tbody tr th {\n",
       "        vertical-align: top;\n",
       "    }\n",
       "\n",
       "    .dataframe thead th {\n",
       "        text-align: right;\n",
       "    }\n",
       "</style>\n",
       "<table border=\"1\" class=\"dataframe\">\n",
       "  <thead>\n",
       "    <tr style=\"text-align: right;\">\n",
       "      <th></th>\n",
       "      <th>岗位</th>\n",
       "      <th>公司</th>\n",
       "      <th>地点</th>\n",
       "      <th>最低工资(万/月)</th>\n",
       "      <th>最高工资(万/月)</th>\n",
       "    </tr>\n",
       "  </thead>\n",
       "  <tbody>\n",
       "    <tr>\n",
       "      <th>0</th>\n",
       "      <td>php开发工程师</td>\n",
       "      <td>重庆赶海科技有限公司</td>\n",
       "      <td>重庆</td>\n",
       "      <td>0.6</td>\n",
       "      <td>0.8</td>\n",
       "    </tr>\n",
       "    <tr>\n",
       "      <th>1</th>\n",
       "      <td>java开发工程师</td>\n",
       "      <td>上海赛可出行科技服务有限公司</td>\n",
       "      <td>南京</td>\n",
       "      <td>1.5</td>\n",
       "      <td>2.5</td>\n",
       "    </tr>\n",
       "    <tr>\n",
       "      <th>2</th>\n",
       "      <td>测试工程师</td>\n",
       "      <td>朗新科技股份有限公司</td>\n",
       "      <td>无锡</td>\n",
       "      <td>0.6</td>\n",
       "      <td>1.0</td>\n",
       "    </tr>\n",
       "    <tr>\n",
       "      <th>3</th>\n",
       "      <td>web开发工程师</td>\n",
       "      <td>快助（天津）科技有限公司</td>\n",
       "      <td>天津</td>\n",
       "      <td>0.8</td>\n",
       "      <td>1.0</td>\n",
       "    </tr>\n",
       "    <tr>\n",
       "      <th>4</th>\n",
       "      <td>销售顾问</td>\n",
       "      <td>上海钢联电子商务股份有限公司</td>\n",
       "      <td>深圳</td>\n",
       "      <td>1.0</td>\n",
       "      <td>1.5</td>\n",
       "    </tr>\n",
       "  </tbody>\n",
       "</table>\n",
       "</div>"
      ],
      "text/plain": [
       "          岗位              公司  地点  最低工资(万/月)  最高工资(万/月)\n",
       "0   php开发工程师      重庆赶海科技有限公司  重庆        0.6        0.8\n",
       "1  java开发工程师  上海赛可出行科技服务有限公司  南京        1.5        2.5\n",
       "2      测试工程师      朗新科技股份有限公司  无锡        0.6        1.0\n",
       "3   web开发工程师    快助（天津）科技有限公司  天津        0.8        1.0\n",
       "4       销售顾问  上海钢联电子商务股份有限公司  深圳        1.0        1.5"
      ]
     },
     "execution_count": 39,
     "metadata": {},
     "output_type": "execute_result"
    }
   ],
   "source": [
    "df_job04 = pd.read_table(file01, encoding=\"utf-8\", index_col=None, header=0, sep=\",\")\n",
    "df_job04"
   ]
  },
  {
   "cell_type": "markdown",
   "metadata": {},
   "source": [
    "#### <font color=red>函数语法分析</font>"
   ]
  },
  {
   "cell_type": "markdown",
   "metadata": {},
   "source": [
    "<font color =red>read_csv</font>和<font color =red>read_table</font>对文件读取的设置非常灵活"
   ]
  },
  {
   "cell_type": "raw",
   "metadata": {},
   "source": [
    "参数              说明\n",
    "sep或delimiter       文件分隔符\n",
    "header            用作列名的行号，默认为0，如果没有列名则设置为None\n",
    "index_col          用作行索引的列编号\n",
    "names              自定义的列名列表，结合header=None\n",
    "skiprows           需要跳过读取的行数（从文件开始计算），或需要跳过的行号列表（从0开始）\n",
    "nrows              仅读取开始的若干行\n",
    "chunksize          指定文件块的大小（行数），逐块读取\n",
    "encoding           指定unicode的文本编码格式\n",
    "thousands          指定千分位分隔符，例如“，”"
   ]
  },
  {
   "cell_type": "markdown",
   "metadata": {},
   "source": [
    "#### 分块读取"
   ]
  },
  {
   "cell_type": "raw",
   "metadata": {},
   "source": [
    "处理这类超大文件的思路其实非常简单，我们按照一定的顺序分块读取，分批处理进而迭代即可，而这一功能在pandas里非常容易实现"
   ]
  },
  {
   "cell_type": "code",
   "execution_count": 40,
   "metadata": {},
   "outputs": [
    {
     "data": {
      "text/html": [
       "<div>\n",
       "<style scoped>\n",
       "    .dataframe tbody tr th:only-of-type {\n",
       "        vertical-align: middle;\n",
       "    }\n",
       "\n",
       "    .dataframe tbody tr th {\n",
       "        vertical-align: top;\n",
       "    }\n",
       "\n",
       "    .dataframe thead th {\n",
       "        text-align: right;\n",
       "    }\n",
       "</style>\n",
       "<table border=\"1\" class=\"dataframe\">\n",
       "  <thead>\n",
       "    <tr style=\"text-align: right;\">\n",
       "      <th></th>\n",
       "      <th>岗位</th>\n",
       "      <th>公司</th>\n",
       "      <th>地点</th>\n",
       "      <th>最低工资(万/月)</th>\n",
       "      <th>最高工资(万/月)</th>\n",
       "    </tr>\n",
       "  </thead>\n",
       "  <tbody>\n",
       "    <tr>\n",
       "      <th>0</th>\n",
       "      <td>php开发工程师</td>\n",
       "      <td>重庆赶海科技有限公司</td>\n",
       "      <td>重庆</td>\n",
       "      <td>0.6</td>\n",
       "      <td>0.8</td>\n",
       "    </tr>\n",
       "    <tr>\n",
       "      <th>1</th>\n",
       "      <td>java开发工程师</td>\n",
       "      <td>上海赛可出行科技服务有限公司</td>\n",
       "      <td>南京</td>\n",
       "      <td>1.5</td>\n",
       "      <td>2.5</td>\n",
       "    </tr>\n",
       "  </tbody>\n",
       "</table>\n",
       "</div>"
      ],
      "text/plain": [
       "          岗位              公司  地点  最低工资(万/月)  最高工资(万/月)\n",
       "0   php开发工程师      重庆赶海科技有限公司  重庆        0.6        0.8\n",
       "1  java开发工程师  上海赛可出行科技服务有限公司  南京        1.5        2.5"
      ]
     },
     "execution_count": 40,
     "metadata": {},
     "output_type": "execute_result"
    }
   ],
   "source": [
    "# 设置norw参数\n",
    "df_job05 = pd.read_csv(file01, encoding=\"utf-8\", nrows=2)\n",
    "df_job05"
   ]
  },
  {
   "cell_type": "markdown",
   "metadata": {},
   "source": [
    "如果需要逐块读取，需要设置<font color = red>chunksize</font>（行数）参数："
   ]
  },
  {
   "cell_type": "code",
   "execution_count": 41,
   "metadata": {},
   "outputs": [
    {
     "data": {
      "text/plain": [
       "<pandas.io.parsers.TextFileReader at 0x22411e8c3c8>"
      ]
     },
     "execution_count": 41,
     "metadata": {},
     "output_type": "execute_result"
    }
   ],
   "source": [
    "# 通过制定chunksize，函数返回一个可以迭代的文件读取器\n",
    "chunker = pd.read_csv(file01, encoding=\"utf-8\", chunksize=2)\n",
    "chunker"
   ]
  },
  {
   "cell_type": "code",
   "execution_count": 42,
   "metadata": {},
   "outputs": [
    {
     "name": "stdout",
     "output_type": "stream",
     "text": [
      "          岗位              公司  地点  最低工资(万/月)  最高工资(万/月)\n",
      "0   php开发工程师      重庆赶海科技有限公司  重庆        0.6        0.8\n",
      "1  java开发工程师  上海赛可出行科技服务有限公司  南京        1.5        2.5\n",
      "         岗位            公司  地点  最低工资(万/月)  最高工资(万/月)\n",
      "2     测试工程师    朗新科技股份有限公司  无锡        0.6          1\n",
      "3  web开发工程师  快助（天津）科技有限公司  天津        0.8          1\n",
      "     岗位              公司  地点  最低工资(万/月)  最高工资(万/月)\n",
      "4  销售顾问  上海钢联电子商务股份有限公司  深圳          1        1.5\n"
     ]
    }
   ],
   "source": [
    "# 可以通过循环进行迭代读取。这种方法对读取大文件很有优势。\n",
    "for piece in chunker:\n",
    "    print(piece)"
   ]
  },
  {
   "cell_type": "markdown",
   "metadata": {},
   "source": [
    "#### 读取在线网页中的表格"
   ]
  },
  {
   "cell_type": "raw",
   "metadata": {},
   "source": [
    "Pandas正是利用这样的规则，通过解析网页中的、等标签，来进行网页中表格内容\n",
    "的采集，并直接解析成DataFrame格式。Pandas提供了一个强大的接口函数read_html\n",
    "来提供这样的能力。"
   ]
  },
  {
   "cell_type": "markdown",
   "metadata": {},
   "source": [
    "<font color = red>read_html</font>函数会对发起请求的url进行全局解析"
   ]
  },
  {
   "cell_type": "code",
   "execution_count": 43,
   "metadata": {},
   "outputs": [
    {
     "data": {
      "text/plain": [
       "3"
      ]
     },
     "execution_count": 43,
     "metadata": {},
     "output_type": "execute_result"
    }
   ],
   "source": [
    "tables = pd.read_html(\n",
    "    \"http://eid.csrc.gov.cn/ipo/infoBlock.action?pageNo=1&temp=&temp1=&blockId=1&block=1&blockType=byBlock\",\n",
    "    encoding=\"utf-8\", header=0)\n",
    "len(tables)"
   ]
  },
  {
   "cell_type": "code",
   "execution_count": 44,
   "metadata": {},
   "outputs": [
    {
     "data": {
      "text/html": [
       "<div>\n",
       "<style scoped>\n",
       "    .dataframe tbody tr th:only-of-type {\n",
       "        vertical-align: middle;\n",
       "    }\n",
       "\n",
       "    .dataframe tbody tr th {\n",
       "        vertical-align: top;\n",
       "    }\n",
       "\n",
       "    .dataframe thead th {\n",
       "        text-align: right;\n",
       "    }\n",
       "</style>\n",
       "<table border=\"1\" class=\"dataframe\">\n",
       "  <thead>\n",
       "    <tr style=\"text-align: right;\">\n",
       "      <th></th>\n",
       "      <th>公司名称</th>\n",
       "      <th>披露日期</th>\n",
       "      <th>上市地和板块</th>\n",
       "      <th>保荐机构</th>\n",
       "      <th>披露类型</th>\n",
       "      <th>PDF资料</th>\n",
       "    </tr>\n",
       "  </thead>\n",
       "  <tbody>\n",
       "    <tr>\n",
       "      <th>0</th>\n",
       "      <td>上海十方生态园林股份有限公司</td>\n",
       "      <td>2020-07-03</td>\n",
       "      <td>上交所</td>\n",
       "      <td>东兴证券股份有限公司</td>\n",
       "      <td>预先披露</td>\n",
       "      <td>招股说明书</td>\n",
       "    </tr>\n",
       "    <tr>\n",
       "      <th>1</th>\n",
       "      <td>上海新农科技股份有限公司</td>\n",
       "      <td>2020-07-03</td>\n",
       "      <td>上交所</td>\n",
       "      <td>国金证券股份有限公司</td>\n",
       "      <td>预先披露</td>\n",
       "      <td>招股说明书</td>\n",
       "    </tr>\n",
       "    <tr>\n",
       "      <th>2</th>\n",
       "      <td>上海汽车空调配件股份有限公司</td>\n",
       "      <td>2020-07-03</td>\n",
       "      <td>上交所</td>\n",
       "      <td>民生证券股份有限公司</td>\n",
       "      <td>预先披露</td>\n",
       "      <td>招股说明书</td>\n",
       "    </tr>\n",
       "    <tr>\n",
       "      <th>3</th>\n",
       "      <td>上海港湾基础建设（集团）股份有限公司</td>\n",
       "      <td>2020-07-03</td>\n",
       "      <td>上交所</td>\n",
       "      <td>中原证券股份有限公司</td>\n",
       "      <td>预先披露</td>\n",
       "      <td>招股说明书</td>\n",
       "    </tr>\n",
       "    <tr>\n",
       "      <th>4</th>\n",
       "      <td>中国茶叶股份有限公司</td>\n",
       "      <td>2020-07-03</td>\n",
       "      <td>上交所</td>\n",
       "      <td>中信建投证券股份有限公司</td>\n",
       "      <td>预先披露</td>\n",
       "      <td>招股说明书</td>\n",
       "    </tr>\n",
       "    <tr>\n",
       "      <th>5</th>\n",
       "      <td>利华益维远化学股份有限公司</td>\n",
       "      <td>2020-07-03</td>\n",
       "      <td>上交所</td>\n",
       "      <td>中信证券股份有限公司,中泰证券股份有限公司</td>\n",
       "      <td>预先披露</td>\n",
       "      <td>招股说明书</td>\n",
       "    </tr>\n",
       "    <tr>\n",
       "      <th>6</th>\n",
       "      <td>南京冠石科技股份有限公司</td>\n",
       "      <td>2020-07-03</td>\n",
       "      <td>上交所</td>\n",
       "      <td>安信证券股份有限公司</td>\n",
       "      <td>预先披露</td>\n",
       "      <td>招股说明书</td>\n",
       "    </tr>\n",
       "    <tr>\n",
       "      <th>7</th>\n",
       "      <td>宁波大叶园林工业股份有限公司</td>\n",
       "      <td>2020-07-03</td>\n",
       "      <td>上交所</td>\n",
       "      <td>国泰君安证券股份有限公司</td>\n",
       "      <td>预先披露</td>\n",
       "      <td>招股说明书</td>\n",
       "    </tr>\n",
       "    <tr>\n",
       "      <th>8</th>\n",
       "      <td>宁波德昌电机股份有限公司</td>\n",
       "      <td>2020-07-03</td>\n",
       "      <td>上交所</td>\n",
       "      <td>中信证券股份有限公司</td>\n",
       "      <td>预先披露</td>\n",
       "      <td>招股说明书</td>\n",
       "    </tr>\n",
       "    <tr>\n",
       "      <th>9</th>\n",
       "      <td>山西紫林醋业股份有限公司</td>\n",
       "      <td>2020-07-03</td>\n",
       "      <td>上交所</td>\n",
       "      <td>中德证券有限责任公司</td>\n",
       "      <td>预先披露</td>\n",
       "      <td>招股说明书</td>\n",
       "    </tr>\n",
       "    <tr>\n",
       "      <th>10</th>\n",
       "      <td>康定金鑫矿业旅游股份有限公司</td>\n",
       "      <td>2020-07-03</td>\n",
       "      <td>上交所</td>\n",
       "      <td>天风证券股份有限公司</td>\n",
       "      <td>预先披露</td>\n",
       "      <td>招股说明书</td>\n",
       "    </tr>\n",
       "    <tr>\n",
       "      <th>11</th>\n",
       "      <td>恒盛能源股份有限公司</td>\n",
       "      <td>2020-07-03</td>\n",
       "      <td>上交所</td>\n",
       "      <td>申万宏源证券承销保荐有限责任公司</td>\n",
       "      <td>预先披露</td>\n",
       "      <td>招股说明书</td>\n",
       "    </tr>\n",
       "    <tr>\n",
       "      <th>12</th>\n",
       "      <td>扬州日兴生物科技股份有限公司</td>\n",
       "      <td>2020-07-03</td>\n",
       "      <td>上交所</td>\n",
       "      <td>国金证券股份有限公司</td>\n",
       "      <td>预先披露</td>\n",
       "      <td>招股说明书</td>\n",
       "    </tr>\n",
       "    <tr>\n",
       "      <th>13</th>\n",
       "      <td>永道射频技术股份有限公司</td>\n",
       "      <td>2020-07-03</td>\n",
       "      <td>上交所</td>\n",
       "      <td>光大证券股份有限公司</td>\n",
       "      <td>预先披露</td>\n",
       "      <td>招股说明书</td>\n",
       "    </tr>\n",
       "    <tr>\n",
       "      <th>14</th>\n",
       "      <td>洛阳涧光特种装备股份有限公司</td>\n",
       "      <td>2020-07-03</td>\n",
       "      <td>上交所</td>\n",
       "      <td>东方证券承销保荐有限公司</td>\n",
       "      <td>预先披露</td>\n",
       "      <td>招股说明书</td>\n",
       "    </tr>\n",
       "    <tr>\n",
       "      <th>15</th>\n",
       "      <td>浙江盛泰服装集团股份有限公司</td>\n",
       "      <td>2020-07-03</td>\n",
       "      <td>上交所</td>\n",
       "      <td>中信证券股份有限公司</td>\n",
       "      <td>预先披露</td>\n",
       "      <td>招股说明书</td>\n",
       "    </tr>\n",
       "    <tr>\n",
       "      <th>16</th>\n",
       "      <td>海程邦达供应链管理股份有限公司</td>\n",
       "      <td>2020-07-03</td>\n",
       "      <td>上交所</td>\n",
       "      <td>华林证券股份有限公司</td>\n",
       "      <td>预先披露</td>\n",
       "      <td>招股说明书</td>\n",
       "    </tr>\n",
       "    <tr>\n",
       "      <th>17</th>\n",
       "      <td>铜陵有色金属集团铜冠矿山建设股份有限公司</td>\n",
       "      <td>2020-07-03</td>\n",
       "      <td>上交所</td>\n",
       "      <td>天风证券股份有限公司</td>\n",
       "      <td>预先披露</td>\n",
       "      <td>招股说明书</td>\n",
       "    </tr>\n",
       "    <tr>\n",
       "      <th>18</th>\n",
       "      <td>天津鼎维固模架工程股份有限公司</td>\n",
       "      <td>2020-06-24</td>\n",
       "      <td>上交所</td>\n",
       "      <td>国泰君安证券股份有限公司</td>\n",
       "      <td>预先披露</td>\n",
       "      <td>招股说明书</td>\n",
       "    </tr>\n",
       "    <tr>\n",
       "      <th>19</th>\n",
       "      <td>新疆派特罗尔能源服务股份有限公司</td>\n",
       "      <td>2020-06-24</td>\n",
       "      <td>上交所</td>\n",
       "      <td>国泰君安证券股份有限公司</td>\n",
       "      <td>预先披露</td>\n",
       "      <td>招股说明书</td>\n",
       "    </tr>\n",
       "    <tr>\n",
       "      <th>20</th>\n",
       "      <td>共  92  页  1838  条记录 每页  20  条 第  1  页  首页 上一页 ...</td>\n",
       "      <td>共  92  页  1838  条记录 每页  20  条 第  1  页  首页 上一页 ...</td>\n",
       "      <td>共  92  页  1838  条记录 每页  20  条 第  1  页  首页 上一页 ...</td>\n",
       "      <td>共  92  页  1838  条记录 每页  20  条 第  1  页  首页 上一页 ...</td>\n",
       "      <td>共  92  页  1838  条记录 每页  20  条 第  1  页  首页 上一页 ...</td>\n",
       "      <td>共  92  页  1838  条记录 每页  20  条 第  1  页  首页 上一页 ...</td>\n",
       "    </tr>\n",
       "  </tbody>\n",
       "</table>\n",
       "</div>"
      ],
      "text/plain": [
       "                                                 公司名称  \\\n",
       "0                                      上海十方生态园林股份有限公司   \n",
       "1                                        上海新农科技股份有限公司   \n",
       "2                                      上海汽车空调配件股份有限公司   \n",
       "3                                  上海港湾基础建设（集团）股份有限公司   \n",
       "4                                          中国茶叶股份有限公司   \n",
       "5                                       利华益维远化学股份有限公司   \n",
       "6                                        南京冠石科技股份有限公司   \n",
       "7                                      宁波大叶园林工业股份有限公司   \n",
       "8                                        宁波德昌电机股份有限公司   \n",
       "9                                        山西紫林醋业股份有限公司   \n",
       "10                                     康定金鑫矿业旅游股份有限公司   \n",
       "11                                         恒盛能源股份有限公司   \n",
       "12                                     扬州日兴生物科技股份有限公司   \n",
       "13                                       永道射频技术股份有限公司   \n",
       "14                                     洛阳涧光特种装备股份有限公司   \n",
       "15                                     浙江盛泰服装集团股份有限公司   \n",
       "16                                    海程邦达供应链管理股份有限公司   \n",
       "17                               铜陵有色金属集团铜冠矿山建设股份有限公司   \n",
       "18                                    天津鼎维固模架工程股份有限公司   \n",
       "19                                   新疆派特罗尔能源服务股份有限公司   \n",
       "20  共  92  页  1838  条记录 每页  20  条 第  1  页  首页 上一页 ...   \n",
       "\n",
       "                                                 披露日期  \\\n",
       "0                                          2020-07-03   \n",
       "1                                          2020-07-03   \n",
       "2                                          2020-07-03   \n",
       "3                                          2020-07-03   \n",
       "4                                          2020-07-03   \n",
       "5                                          2020-07-03   \n",
       "6                                          2020-07-03   \n",
       "7                                          2020-07-03   \n",
       "8                                          2020-07-03   \n",
       "9                                          2020-07-03   \n",
       "10                                         2020-07-03   \n",
       "11                                         2020-07-03   \n",
       "12                                         2020-07-03   \n",
       "13                                         2020-07-03   \n",
       "14                                         2020-07-03   \n",
       "15                                         2020-07-03   \n",
       "16                                         2020-07-03   \n",
       "17                                         2020-07-03   \n",
       "18                                         2020-06-24   \n",
       "19                                         2020-06-24   \n",
       "20  共  92  页  1838  条记录 每页  20  条 第  1  页  首页 上一页 ...   \n",
       "\n",
       "                                               上市地和板块  \\\n",
       "0                                                 上交所   \n",
       "1                                                 上交所   \n",
       "2                                                 上交所   \n",
       "3                                                 上交所   \n",
       "4                                                 上交所   \n",
       "5                                                 上交所   \n",
       "6                                                 上交所   \n",
       "7                                                 上交所   \n",
       "8                                                 上交所   \n",
       "9                                                 上交所   \n",
       "10                                                上交所   \n",
       "11                                                上交所   \n",
       "12                                                上交所   \n",
       "13                                                上交所   \n",
       "14                                                上交所   \n",
       "15                                                上交所   \n",
       "16                                                上交所   \n",
       "17                                                上交所   \n",
       "18                                                上交所   \n",
       "19                                                上交所   \n",
       "20  共  92  页  1838  条记录 每页  20  条 第  1  页  首页 上一页 ...   \n",
       "\n",
       "                                                 保荐机构  \\\n",
       "0                                          东兴证券股份有限公司   \n",
       "1                                          国金证券股份有限公司   \n",
       "2                                          民生证券股份有限公司   \n",
       "3                                          中原证券股份有限公司   \n",
       "4                                        中信建投证券股份有限公司   \n",
       "5                               中信证券股份有限公司,中泰证券股份有限公司   \n",
       "6                                          安信证券股份有限公司   \n",
       "7                                        国泰君安证券股份有限公司   \n",
       "8                                          中信证券股份有限公司   \n",
       "9                                          中德证券有限责任公司   \n",
       "10                                         天风证券股份有限公司   \n",
       "11                                   申万宏源证券承销保荐有限责任公司   \n",
       "12                                         国金证券股份有限公司   \n",
       "13                                         光大证券股份有限公司   \n",
       "14                                       东方证券承销保荐有限公司   \n",
       "15                                         中信证券股份有限公司   \n",
       "16                                         华林证券股份有限公司   \n",
       "17                                         天风证券股份有限公司   \n",
       "18                                       国泰君安证券股份有限公司   \n",
       "19                                       国泰君安证券股份有限公司   \n",
       "20  共  92  页  1838  条记录 每页  20  条 第  1  页  首页 上一页 ...   \n",
       "\n",
       "                                                 披露类型  \\\n",
       "0                                                预先披露   \n",
       "1                                                预先披露   \n",
       "2                                                预先披露   \n",
       "3                                                预先披露   \n",
       "4                                                预先披露   \n",
       "5                                                预先披露   \n",
       "6                                                预先披露   \n",
       "7                                                预先披露   \n",
       "8                                                预先披露   \n",
       "9                                                预先披露   \n",
       "10                                               预先披露   \n",
       "11                                               预先披露   \n",
       "12                                               预先披露   \n",
       "13                                               预先披露   \n",
       "14                                               预先披露   \n",
       "15                                               预先披露   \n",
       "16                                               预先披露   \n",
       "17                                               预先披露   \n",
       "18                                               预先披露   \n",
       "19                                               预先披露   \n",
       "20  共  92  页  1838  条记录 每页  20  条 第  1  页  首页 上一页 ...   \n",
       "\n",
       "                                                PDF资料  \n",
       "0                                               招股说明书  \n",
       "1                                               招股说明书  \n",
       "2                                               招股说明书  \n",
       "3                                               招股说明书  \n",
       "4                                               招股说明书  \n",
       "5                                               招股说明书  \n",
       "6                                               招股说明书  \n",
       "7                                               招股说明书  \n",
       "8                                               招股说明书  \n",
       "9                                               招股说明书  \n",
       "10                                              招股说明书  \n",
       "11                                              招股说明书  \n",
       "12                                              招股说明书  \n",
       "13                                              招股说明书  \n",
       "14                                              招股说明书  \n",
       "15                                              招股说明书  \n",
       "16                                              招股说明书  \n",
       "17                                              招股说明书  \n",
       "18                                              招股说明书  \n",
       "19                                              招股说明书  \n",
       "20  共  92  页  1838  条记录 每页  20  条 第  1  页  首页 上一页 ...  "
      ]
     },
     "execution_count": 44,
     "metadata": {},
     "output_type": "execute_result"
    }
   ],
   "source": [
    "tables[2]"
   ]
  },
  {
   "cell_type": "markdown",
   "metadata": {},
   "source": [
    "### Pandas数据保存"
   ]
  },
  {
   "cell_type": "raw",
   "metadata": {},
   "source": [
    "数据保存是数据读取的逆过程，可以利用DataFrame提供的to_csv方法，将数据保存到指定路径以及指定格式。"
   ]
  },
  {
   "cell_type": "markdown",
   "metadata": {},
   "source": [
    "**在路径前面加<font color=red>r</font>，即保持字符原始值的意思。**"
   ]
  },
  {
   "cell_type": "code",
   "execution_count": 45,
   "metadata": {},
   "outputs": [],
   "source": [
    "# 把tables[2]保存为txt文本，保存的部分包括正文、列名、索引等全部内容\"\n",
    "tables[2][:-1].to_csv(r\"C:\\Users\\16526\\Desktop\\电网项目\\dataset\\1.txt\", sep=\"\\t\",index=False)"
   ]
  },
  {
   "cell_type": "code",
   "execution_count": 46,
   "metadata": {},
   "outputs": [],
   "source": [
    "# 利用iloc索引，选择我们需要保存的区域；\n",
    "# 设置index=False，不保存索引\n",
    "tables[2].iloc[:-1, :].to_csv(r\"C:\\Users\\16526\\Desktop\\电网项目\\dataset\\2.txt\", sep=\"\\t\", index=False)"
   ]
  },
  {
   "cell_type": "markdown",
   "metadata": {},
   "source": [
    "#### 拓展：如何翻页采集数据"
   ]
  },
  {
   "cell_type": "raw",
   "metadata": {},
   "source": [
    "上面提供的证监会的查询页面，一共有1716条记录，共86页。大家尝试在页面上进行翻页操作、并观察地址栏的url变化情况的话，会发现变化的仅仅是pageNo部分，通过更改pageNo的值达到翻页效果。"
   ]
  },
  {
   "cell_type": "code",
   "execution_count": 47,
   "metadata": {},
   "outputs": [],
   "source": [
    "# 利用循环，更改pageNo的值，达到翻页效果；\n",
    "# 完成数据采集后，通过设置写入模式mode，进行覆盖写入或者追加写入\n",
    "# 这里以采集前5页为例\n",
    "import time\n",
    "\n",
    "for page in [1,2,3,4,5]:\n",
    "    url = \"http://eid.csrc.gov.cn/ipo/infoBlock.action?pageNo={}&temp=&temp1=&blockId=1&block=1&blockType=byBlock\".format(page)\n",
    "    # 控制数据采集的频率\n",
    "    time.sleep(1)\n",
    "    tables = pd.read_html(url, encoding=\"utf-8\", header=0)\n",
    "    # 对首页进行判断，如果是首页，则把列名写入，否则，只写入正文内容\n",
    "    if page == 1:\n",
    "        tables[2].iloc[:-1, :].to_csv(r\"C:\\Users\\16526\\Desktop\\电网项目\\dataset\\3.txt\", sep=\"\\t\", index=False, mode=\"w\")\n",
    "    else:\n",
    "        tables[2].iloc[:-1, :].to_csv(r\"C:\\Users\\16526\\Desktop\\电网项目\\dataset\\3.txt\", sep=\"\\t\", header=None, index=False, mode=\"a\")"
   ]
  },
  {
   "cell_type": "markdown",
   "metadata": {},
   "source": [
    "## 统计与运算"
   ]
  },
  {
   "cell_type": "markdown",
   "metadata": {},
   "source": [
    "### 数据读取与展示"
   ]
  },
  {
   "cell_type": "code",
   "execution_count": 48,
   "metadata": {},
   "outputs": [],
   "source": [
    "file = r\"C:\\Users\\16526\\Desktop\\电网项目\\dataset\\chapter 3\\3-3 600519.csv\"\n",
    "df_gzmt = pd.read_csv(file, encoding=\"utf-8\")"
   ]
  },
  {
   "cell_type": "markdown",
   "metadata": {},
   "source": [
    "**快速查看文件的大小**"
   ]
  },
  {
   "cell_type": "code",
   "execution_count": 49,
   "metadata": {},
   "outputs": [
    {
     "data": {
      "text/plain": [
       "(4094, 8)"
      ]
     },
     "execution_count": 49,
     "metadata": {},
     "output_type": "execute_result"
    }
   ],
   "source": [
    "df_gzmt.shape"
   ]
  },
  {
   "cell_type": "markdown",
   "metadata": {},
   "source": [
    "**通过<font color=red>info</font>方法，快速查看具体的字段以及主要字段的类型、存在空值情况、数组表单消耗内存的情况等**"
   ]
  },
  {
   "cell_type": "code",
   "execution_count": 50,
   "metadata": {},
   "outputs": [
    {
     "name": "stdout",
     "output_type": "stream",
     "text": [
      "<class 'pandas.core.frame.DataFrame'>\n",
      "RangeIndex: 4094 entries, 0 to 4093\n",
      "Data columns (total 8 columns):\n",
      " #   Column      Non-Null Count  Dtype  \n",
      "---  ------      --------------  -----  \n",
      " 0   day         4094 non-null   object \n",
      " 1   STOCK_CODE  4094 non-null   int64  \n",
      " 2   open        4094 non-null   float64\n",
      " 3   close       4094 non-null   float64\n",
      " 4   maximum     4094 non-null   float64\n",
      " 5   minimum     4094 non-null   float64\n",
      " 6   volume      4094 non-null   int64  \n",
      " 7   TURNOVER    4094 non-null   int64  \n",
      "dtypes: float64(4), int64(3), object(1)\n",
      "memory usage: 256.0+ KB\n"
     ]
    }
   ],
   "source": [
    "df_gzmt.info()"
   ]
  },
  {
   "cell_type": "markdown",
   "metadata": {},
   "source": [
    "**利用<font color=red>unique</font>函数，查看字段值的唯一性指标**"
   ]
  },
  {
   "cell_type": "code",
   "execution_count": 51,
   "metadata": {},
   "outputs": [
    {
     "data": {
      "text/plain": [
       "array([6005191], dtype=int64)"
      ]
     },
     "execution_count": 51,
     "metadata": {},
     "output_type": "execute_result"
    }
   ],
   "source": [
    "# 通过unique方法，确定4094条数据中只包含贵州茅台，其股票代码为600519，最后一位1表示在上海上交所上市。\n",
    "df_gzmt[\"STOCK_CODE\"].unique()"
   ]
  },
  {
   "cell_type": "markdown",
   "metadata": {},
   "source": [
    "**通过<font color=red>describe</font>方法，快速查看多字段的统计信息，包含最大最小、均值、标准差等信息**"
   ]
  },
  {
   "cell_type": "code",
   "execution_count": 52,
   "metadata": {},
   "outputs": [
    {
     "data": {
      "text/html": [
       "<div>\n",
       "<style scoped>\n",
       "    .dataframe tbody tr th:only-of-type {\n",
       "        vertical-align: middle;\n",
       "    }\n",
       "\n",
       "    .dataframe tbody tr th {\n",
       "        vertical-align: top;\n",
       "    }\n",
       "\n",
       "    .dataframe thead th {\n",
       "        text-align: right;\n",
       "    }\n",
       "</style>\n",
       "<table border=\"1\" class=\"dataframe\">\n",
       "  <thead>\n",
       "    <tr style=\"text-align: right;\">\n",
       "      <th></th>\n",
       "      <th>STOCK_CODE</th>\n",
       "      <th>open</th>\n",
       "      <th>close</th>\n",
       "      <th>maximum</th>\n",
       "      <th>minimum</th>\n",
       "      <th>volume</th>\n",
       "      <th>TURNOVER</th>\n",
       "    </tr>\n",
       "  </thead>\n",
       "  <tbody>\n",
       "    <tr>\n",
       "      <th>count</th>\n",
       "      <td>4094.0</td>\n",
       "      <td>4094.000000</td>\n",
       "      <td>4094.000000</td>\n",
       "      <td>4094.000000</td>\n",
       "      <td>4094.000000</td>\n",
       "      <td>4094.000000</td>\n",
       "      <td>4.094000e+03</td>\n",
       "    </tr>\n",
       "    <tr>\n",
       "      <th>mean</th>\n",
       "      <td>6005191.0</td>\n",
       "      <td>182.161910</td>\n",
       "      <td>182.435230</td>\n",
       "      <td>184.879680</td>\n",
       "      <td>179.801353</td>\n",
       "      <td>27092.525892</td>\n",
       "      <td>6.487986e+08</td>\n",
       "    </tr>\n",
       "    <tr>\n",
       "      <th>std</th>\n",
       "      <td>0.0</td>\n",
       "      <td>165.857882</td>\n",
       "      <td>165.994905</td>\n",
       "      <td>168.082099</td>\n",
       "      <td>163.752065</td>\n",
       "      <td>24623.472099</td>\n",
       "      <td>9.550262e+08</td>\n",
       "    </tr>\n",
       "    <tr>\n",
       "      <th>min</th>\n",
       "      <td>6005191.0</td>\n",
       "      <td>20.900000</td>\n",
       "      <td>20.880000</td>\n",
       "      <td>21.000000</td>\n",
       "      <td>20.710000</td>\n",
       "      <td>238.000000</td>\n",
       "      <td>1.421413e+06</td>\n",
       "    </tr>\n",
       "    <tr>\n",
       "      <th>25%</th>\n",
       "      <td>6005191.0</td>\n",
       "      <td>47.405000</td>\n",
       "      <td>47.482500</td>\n",
       "      <td>48.222500</td>\n",
       "      <td>46.705000</td>\n",
       "      <td>10186.750000</td>\n",
       "      <td>6.203505e+07</td>\n",
       "    </tr>\n",
       "    <tr>\n",
       "      <th>50%</th>\n",
       "      <td>6005191.0</td>\n",
       "      <td>159.930000</td>\n",
       "      <td>159.980000</td>\n",
       "      <td>161.910000</td>\n",
       "      <td>157.875000</td>\n",
       "      <td>22491.000000</td>\n",
       "      <td>3.727192e+08</td>\n",
       "    </tr>\n",
       "    <tr>\n",
       "      <th>75%</th>\n",
       "      <td>6005191.0</td>\n",
       "      <td>208.500000</td>\n",
       "      <td>209.457500</td>\n",
       "      <td>212.175000</td>\n",
       "      <td>205.945000</td>\n",
       "      <td>36759.500000</td>\n",
       "      <td>7.486596e+08</td>\n",
       "    </tr>\n",
       "    <tr>\n",
       "      <th>max</th>\n",
       "      <td>6005191.0</td>\n",
       "      <td>800.000000</td>\n",
       "      <td>799.190000</td>\n",
       "      <td>803.500000</td>\n",
       "      <td>788.880000</td>\n",
       "      <td>406318.000000</td>\n",
       "      <td>1.066339e+10</td>\n",
       "    </tr>\n",
       "  </tbody>\n",
       "</table>\n",
       "</div>"
      ],
      "text/plain": [
       "       STOCK_CODE         open        close      maximum      minimum  \\\n",
       "count      4094.0  4094.000000  4094.000000  4094.000000  4094.000000   \n",
       "mean    6005191.0   182.161910   182.435230   184.879680   179.801353   \n",
       "std           0.0   165.857882   165.994905   168.082099   163.752065   \n",
       "min     6005191.0    20.900000    20.880000    21.000000    20.710000   \n",
       "25%     6005191.0    47.405000    47.482500    48.222500    46.705000   \n",
       "50%     6005191.0   159.930000   159.980000   161.910000   157.875000   \n",
       "75%     6005191.0   208.500000   209.457500   212.175000   205.945000   \n",
       "max     6005191.0   800.000000   799.190000   803.500000   788.880000   \n",
       "\n",
       "              volume      TURNOVER  \n",
       "count    4094.000000  4.094000e+03  \n",
       "mean    27092.525892  6.487986e+08  \n",
       "std     24623.472099  9.550262e+08  \n",
       "min       238.000000  1.421413e+06  \n",
       "25%     10186.750000  6.203505e+07  \n",
       "50%     22491.000000  3.727192e+08  \n",
       "75%     36759.500000  7.486596e+08  \n",
       "max    406318.000000  1.066339e+10  "
      ]
     },
     "execution_count": 52,
     "metadata": {},
     "output_type": "execute_result"
    }
   ],
   "source": [
    "df_gzmt.describe()"
   ]
  },
  {
   "cell_type": "markdown",
   "metadata": {},
   "source": [
    "### 算术运算"
   ]
  },
  {
   "cell_type": "raw",
   "metadata": {},
   "source": [
    "Pandas的算术运算和Numpy非常相似，即支持简单的符号运算，也支持利用函数进行运算。"
   ]
  },
  {
   "cell_type": "markdown",
   "metadata": {},
   "source": [
    "#### 简单的符号运算"
   ]
  },
  {
   "cell_type": "markdown",
   "metadata": {},
   "source": [
    "**Pandas支持数据类型的列与标量进行非常便捷的四则运算等操作**"
   ]
  },
  {
   "cell_type": "code",
   "execution_count": 53,
   "metadata": {},
   "outputs": [
    {
     "data": {
      "text/html": [
       "<div>\n",
       "<style scoped>\n",
       "    .dataframe tbody tr th:only-of-type {\n",
       "        vertical-align: middle;\n",
       "    }\n",
       "\n",
       "    .dataframe tbody tr th {\n",
       "        vertical-align: top;\n",
       "    }\n",
       "\n",
       "    .dataframe thead th {\n",
       "        text-align: right;\n",
       "    }\n",
       "</style>\n",
       "<table border=\"1\" class=\"dataframe\">\n",
       "  <thead>\n",
       "    <tr style=\"text-align: right;\">\n",
       "      <th></th>\n",
       "      <th>day</th>\n",
       "      <th>STOCK_CODE</th>\n",
       "      <th>open</th>\n",
       "      <th>close</th>\n",
       "      <th>maximum</th>\n",
       "      <th>minimum</th>\n",
       "      <th>volume</th>\n",
       "      <th>TURNOVER</th>\n",
       "      <th>place</th>\n",
       "      <th>code</th>\n",
       "    </tr>\n",
       "  </thead>\n",
       "  <tbody>\n",
       "    <tr>\n",
       "      <th>0</th>\n",
       "      <td>2001-08-27</td>\n",
       "      <td>6005191</td>\n",
       "      <td>34.51</td>\n",
       "      <td>35.55</td>\n",
       "      <td>37.78</td>\n",
       "      <td>32.85</td>\n",
       "      <td>406318</td>\n",
       "      <td>1410347008</td>\n",
       "      <td>1</td>\n",
       "      <td>600519</td>\n",
       "    </tr>\n",
       "    <tr>\n",
       "      <th>1</th>\n",
       "      <td>2001-08-28</td>\n",
       "      <td>6005191</td>\n",
       "      <td>34.99</td>\n",
       "      <td>36.86</td>\n",
       "      <td>37.00</td>\n",
       "      <td>34.61</td>\n",
       "      <td>129647</td>\n",
       "      <td>463463008</td>\n",
       "      <td>1</td>\n",
       "      <td>600519</td>\n",
       "    </tr>\n",
       "    <tr>\n",
       "      <th>2</th>\n",
       "      <td>2001-08-29</td>\n",
       "      <td>6005191</td>\n",
       "      <td>36.98</td>\n",
       "      <td>36.38</td>\n",
       "      <td>37.00</td>\n",
       "      <td>36.10</td>\n",
       "      <td>53252</td>\n",
       "      <td>194689000</td>\n",
       "      <td>1</td>\n",
       "      <td>600519</td>\n",
       "    </tr>\n",
       "    <tr>\n",
       "      <th>3</th>\n",
       "      <td>2001-08-30</td>\n",
       "      <td>6005191</td>\n",
       "      <td>36.28</td>\n",
       "      <td>37.10</td>\n",
       "      <td>37.51</td>\n",
       "      <td>36.00</td>\n",
       "      <td>48013</td>\n",
       "      <td>177558000</td>\n",
       "      <td>1</td>\n",
       "      <td>600519</td>\n",
       "    </tr>\n",
       "    <tr>\n",
       "      <th>4</th>\n",
       "      <td>2001-08-31</td>\n",
       "      <td>6005191</td>\n",
       "      <td>37.15</td>\n",
       "      <td>37.01</td>\n",
       "      <td>37.62</td>\n",
       "      <td>36.80</td>\n",
       "      <td>23231</td>\n",
       "      <td>86231000</td>\n",
       "      <td>1</td>\n",
       "      <td>600519</td>\n",
       "    </tr>\n",
       "    <tr>\n",
       "      <th>...</th>\n",
       "      <td>...</td>\n",
       "      <td>...</td>\n",
       "      <td>...</td>\n",
       "      <td>...</td>\n",
       "      <td>...</td>\n",
       "      <td>...</td>\n",
       "      <td>...</td>\n",
       "      <td>...</td>\n",
       "      <td>...</td>\n",
       "      <td>...</td>\n",
       "    </tr>\n",
       "    <tr>\n",
       "      <th>4089</th>\n",
       "      <td>2018-10-29</td>\n",
       "      <td>6005191</td>\n",
       "      <td>549.09</td>\n",
       "      <td>549.09</td>\n",
       "      <td>549.09</td>\n",
       "      <td>549.09</td>\n",
       "      <td>49076</td>\n",
       "      <td>2694714080</td>\n",
       "      <td>1</td>\n",
       "      <td>600519</td>\n",
       "    </tr>\n",
       "    <tr>\n",
       "      <th>4090</th>\n",
       "      <td>2018-10-30</td>\n",
       "      <td>6005191</td>\n",
       "      <td>510.00</td>\n",
       "      <td>524.00</td>\n",
       "      <td>543.00</td>\n",
       "      <td>509.02</td>\n",
       "      <td>204397</td>\n",
       "      <td>10663392512</td>\n",
       "      <td>1</td>\n",
       "      <td>600519</td>\n",
       "    </tr>\n",
       "    <tr>\n",
       "      <th>4091</th>\n",
       "      <td>2018-10-31</td>\n",
       "      <td>6005191</td>\n",
       "      <td>527.00</td>\n",
       "      <td>548.90</td>\n",
       "      <td>555.00</td>\n",
       "      <td>522.00</td>\n",
       "      <td>96885</td>\n",
       "      <td>5239853056</td>\n",
       "      <td>1</td>\n",
       "      <td>600519</td>\n",
       "    </tr>\n",
       "    <tr>\n",
       "      <th>4092</th>\n",
       "      <td>2018-11-01</td>\n",
       "      <td>6005191</td>\n",
       "      <td>555.00</td>\n",
       "      <td>563.00</td>\n",
       "      <td>585.50</td>\n",
       "      <td>551.25</td>\n",
       "      <td>98107</td>\n",
       "      <td>5581027328</td>\n",
       "      <td>1</td>\n",
       "      <td>600519</td>\n",
       "    </tr>\n",
       "    <tr>\n",
       "      <th>4093</th>\n",
       "      <td>2018-11-02</td>\n",
       "      <td>6005191</td>\n",
       "      <td>585.00</td>\n",
       "      <td>599.90</td>\n",
       "      <td>600.00</td>\n",
       "      <td>572.24</td>\n",
       "      <td>89157</td>\n",
       "      <td>5227695104</td>\n",
       "      <td>1</td>\n",
       "      <td>600519</td>\n",
       "    </tr>\n",
       "  </tbody>\n",
       "</table>\n",
       "<p>4094 rows × 10 columns</p>\n",
       "</div>"
      ],
      "text/plain": [
       "             day  STOCK_CODE    open   close  maximum  minimum  volume  \\\n",
       "0     2001-08-27     6005191   34.51   35.55    37.78    32.85  406318   \n",
       "1     2001-08-28     6005191   34.99   36.86    37.00    34.61  129647   \n",
       "2     2001-08-29     6005191   36.98   36.38    37.00    36.10   53252   \n",
       "3     2001-08-30     6005191   36.28   37.10    37.51    36.00   48013   \n",
       "4     2001-08-31     6005191   37.15   37.01    37.62    36.80   23231   \n",
       "...          ...         ...     ...     ...      ...      ...     ...   \n",
       "4089  2018-10-29     6005191  549.09  549.09   549.09   549.09   49076   \n",
       "4090  2018-10-30     6005191  510.00  524.00   543.00   509.02  204397   \n",
       "4091  2018-10-31     6005191  527.00  548.90   555.00   522.00   96885   \n",
       "4092  2018-11-01     6005191  555.00  563.00   585.50   551.25   98107   \n",
       "4093  2018-11-02     6005191  585.00  599.90   600.00   572.24   89157   \n",
       "\n",
       "         TURNOVER  place    code  \n",
       "0      1410347008      1  600519  \n",
       "1       463463008      1  600519  \n",
       "2       194689000      1  600519  \n",
       "3       177558000      1  600519  \n",
       "4        86231000      1  600519  \n",
       "...           ...    ...     ...  \n",
       "4089   2694714080      1  600519  \n",
       "4090  10663392512      1  600519  \n",
       "4091   5239853056      1  600519  \n",
       "4092   5581027328      1  600519  \n",
       "4093   5227695104      1  600519  \n",
       "\n",
       "[4094 rows x 10 columns]"
      ]
     },
     "execution_count": 53,
     "metadata": {},
     "output_type": "execute_result"
    }
   ],
   "source": [
    "# 提取STOCK_CODE的最后一位，1表示在上交所上市\n",
    "# 这里实现了两个功能，首先是通过对10求余数，巧妙地把STOCK_CODE的个位数提取出来；其次是把计算结果，赋值给了新增列place\n",
    "df_gzmt[\"place\"] = df_gzmt[\"STOCK_CODE\"]%10\n",
    "# 提取STOCK_CODE的前6位，表示股票上市代号\n",
    "df_gzmt[\"code\"] = df_gzmt[\"STOCK_CODE\"]//10\n",
    "df_gzmt"
   ]
  },
  {
   "cell_type": "markdown",
   "metadata": {},
   "source": [
    "**Pandas也支持同样大小的列之间进行算术计算**"
   ]
  },
  {
   "cell_type": "code",
   "execution_count": 54,
   "metadata": {},
   "outputs": [
    {
     "data": {
      "text/html": [
       "<div>\n",
       "<style scoped>\n",
       "    .dataframe tbody tr th:only-of-type {\n",
       "        vertical-align: middle;\n",
       "    }\n",
       "\n",
       "    .dataframe tbody tr th {\n",
       "        vertical-align: top;\n",
       "    }\n",
       "\n",
       "    .dataframe thead th {\n",
       "        text-align: right;\n",
       "    }\n",
       "</style>\n",
       "<table border=\"1\" class=\"dataframe\">\n",
       "  <thead>\n",
       "    <tr style=\"text-align: right;\">\n",
       "      <th></th>\n",
       "      <th>day</th>\n",
       "      <th>STOCK_CODE</th>\n",
       "      <th>open</th>\n",
       "      <th>close</th>\n",
       "      <th>maximum</th>\n",
       "      <th>minimum</th>\n",
       "      <th>volume</th>\n",
       "      <th>TURNOVER</th>\n",
       "      <th>place</th>\n",
       "      <th>code</th>\n",
       "      <th>m_increase</th>\n",
       "      <th>price_mean</th>\n",
       "    </tr>\n",
       "  </thead>\n",
       "  <tbody>\n",
       "    <tr>\n",
       "      <th>0</th>\n",
       "      <td>2001-08-27</td>\n",
       "      <td>6005191</td>\n",
       "      <td>34.51</td>\n",
       "      <td>35.55</td>\n",
       "      <td>37.78</td>\n",
       "      <td>32.85</td>\n",
       "      <td>406318</td>\n",
       "      <td>1410347008</td>\n",
       "      <td>1</td>\n",
       "      <td>600519</td>\n",
       "      <td>1.04</td>\n",
       "      <td>3471.042405</td>\n",
       "    </tr>\n",
       "    <tr>\n",
       "      <th>1</th>\n",
       "      <td>2001-08-28</td>\n",
       "      <td>6005191</td>\n",
       "      <td>34.99</td>\n",
       "      <td>36.86</td>\n",
       "      <td>37.00</td>\n",
       "      <td>34.61</td>\n",
       "      <td>129647</td>\n",
       "      <td>463463008</td>\n",
       "      <td>1</td>\n",
       "      <td>600519</td>\n",
       "      <td>1.87</td>\n",
       "      <td>3574.807038</td>\n",
       "    </tr>\n",
       "    <tr>\n",
       "      <th>2</th>\n",
       "      <td>2001-08-29</td>\n",
       "      <td>6005191</td>\n",
       "      <td>36.98</td>\n",
       "      <td>36.38</td>\n",
       "      <td>37.00</td>\n",
       "      <td>36.10</td>\n",
       "      <td>53252</td>\n",
       "      <td>194689000</td>\n",
       "      <td>1</td>\n",
       "      <td>600519</td>\n",
       "      <td>-0.60</td>\n",
       "      <td>3655.994141</td>\n",
       "    </tr>\n",
       "    <tr>\n",
       "      <th>3</th>\n",
       "      <td>2001-08-30</td>\n",
       "      <td>6005191</td>\n",
       "      <td>36.28</td>\n",
       "      <td>37.10</td>\n",
       "      <td>37.51</td>\n",
       "      <td>36.00</td>\n",
       "      <td>48013</td>\n",
       "      <td>177558000</td>\n",
       "      <td>1</td>\n",
       "      <td>600519</td>\n",
       "      <td>0.82</td>\n",
       "      <td>3698.123425</td>\n",
       "    </tr>\n",
       "    <tr>\n",
       "      <th>4</th>\n",
       "      <td>2001-08-31</td>\n",
       "      <td>6005191</td>\n",
       "      <td>37.15</td>\n",
       "      <td>37.01</td>\n",
       "      <td>37.62</td>\n",
       "      <td>36.80</td>\n",
       "      <td>23231</td>\n",
       "      <td>86231000</td>\n",
       "      <td>1</td>\n",
       "      <td>600519</td>\n",
       "      <td>-0.14</td>\n",
       "      <td>3711.893590</td>\n",
       "    </tr>\n",
       "    <tr>\n",
       "      <th>...</th>\n",
       "      <td>...</td>\n",
       "      <td>...</td>\n",
       "      <td>...</td>\n",
       "      <td>...</td>\n",
       "      <td>...</td>\n",
       "      <td>...</td>\n",
       "      <td>...</td>\n",
       "      <td>...</td>\n",
       "      <td>...</td>\n",
       "      <td>...</td>\n",
       "      <td>...</td>\n",
       "      <td>...</td>\n",
       "    </tr>\n",
       "    <tr>\n",
       "      <th>4089</th>\n",
       "      <td>2018-10-29</td>\n",
       "      <td>6005191</td>\n",
       "      <td>549.09</td>\n",
       "      <td>549.09</td>\n",
       "      <td>549.09</td>\n",
       "      <td>549.09</td>\n",
       "      <td>49076</td>\n",
       "      <td>2694714080</td>\n",
       "      <td>1</td>\n",
       "      <td>600519</td>\n",
       "      <td>0.00</td>\n",
       "      <td>54908.999918</td>\n",
       "    </tr>\n",
       "    <tr>\n",
       "      <th>4090</th>\n",
       "      <td>2018-10-30</td>\n",
       "      <td>6005191</td>\n",
       "      <td>510.00</td>\n",
       "      <td>524.00</td>\n",
       "      <td>543.00</td>\n",
       "      <td>509.02</td>\n",
       "      <td>204397</td>\n",
       "      <td>10663392512</td>\n",
       "      <td>1</td>\n",
       "      <td>600519</td>\n",
       "      <td>14.00</td>\n",
       "      <td>52170.005000</td>\n",
       "    </tr>\n",
       "    <tr>\n",
       "      <th>4091</th>\n",
       "      <td>2018-10-31</td>\n",
       "      <td>6005191</td>\n",
       "      <td>527.00</td>\n",
       "      <td>548.90</td>\n",
       "      <td>555.00</td>\n",
       "      <td>522.00</td>\n",
       "      <td>96885</td>\n",
       "      <td>5239853056</td>\n",
       "      <td>1</td>\n",
       "      <td>600519</td>\n",
       "      <td>21.90</td>\n",
       "      <td>54083.222955</td>\n",
       "    </tr>\n",
       "    <tr>\n",
       "      <th>4092</th>\n",
       "      <td>2018-11-01</td>\n",
       "      <td>6005191</td>\n",
       "      <td>555.00</td>\n",
       "      <td>563.00</td>\n",
       "      <td>585.50</td>\n",
       "      <td>551.25</td>\n",
       "      <td>98107</td>\n",
       "      <td>5581027328</td>\n",
       "      <td>1</td>\n",
       "      <td>600519</td>\n",
       "      <td>8.00</td>\n",
       "      <td>56887.146972</td>\n",
       "    </tr>\n",
       "    <tr>\n",
       "      <th>4093</th>\n",
       "      <td>2018-11-02</td>\n",
       "      <td>6005191</td>\n",
       "      <td>585.00</td>\n",
       "      <td>599.90</td>\n",
       "      <td>600.00</td>\n",
       "      <td>572.24</td>\n",
       "      <td>89157</td>\n",
       "      <td>5227695104</td>\n",
       "      <td>1</td>\n",
       "      <td>600519</td>\n",
       "      <td>14.90</td>\n",
       "      <td>58634.712967</td>\n",
       "    </tr>\n",
       "  </tbody>\n",
       "</table>\n",
       "<p>4094 rows × 12 columns</p>\n",
       "</div>"
      ],
      "text/plain": [
       "             day  STOCK_CODE    open   close  maximum  minimum  volume  \\\n",
       "0     2001-08-27     6005191   34.51   35.55    37.78    32.85  406318   \n",
       "1     2001-08-28     6005191   34.99   36.86    37.00    34.61  129647   \n",
       "2     2001-08-29     6005191   36.98   36.38    37.00    36.10   53252   \n",
       "3     2001-08-30     6005191   36.28   37.10    37.51    36.00   48013   \n",
       "4     2001-08-31     6005191   37.15   37.01    37.62    36.80   23231   \n",
       "...          ...         ...     ...     ...      ...      ...     ...   \n",
       "4089  2018-10-29     6005191  549.09  549.09   549.09   549.09   49076   \n",
       "4090  2018-10-30     6005191  510.00  524.00   543.00   509.02  204397   \n",
       "4091  2018-10-31     6005191  527.00  548.90   555.00   522.00   96885   \n",
       "4092  2018-11-01     6005191  555.00  563.00   585.50   551.25   98107   \n",
       "4093  2018-11-02     6005191  585.00  599.90   600.00   572.24   89157   \n",
       "\n",
       "         TURNOVER  place    code  m_increase    price_mean  \n",
       "0      1410347008      1  600519        1.04   3471.042405  \n",
       "1       463463008      1  600519        1.87   3574.807038  \n",
       "2       194689000      1  600519       -0.60   3655.994141  \n",
       "3       177558000      1  600519        0.82   3698.123425  \n",
       "4        86231000      1  600519       -0.14   3711.893590  \n",
       "...           ...    ...     ...         ...           ...  \n",
       "4089   2694714080      1  600519        0.00  54908.999918  \n",
       "4090  10663392512      1  600519       14.00  52170.005000  \n",
       "4091   5239853056      1  600519       21.90  54083.222955  \n",
       "4092   5581027328      1  600519        8.00  56887.146972  \n",
       "4093   5227695104      1  600519       14.90  58634.712967  \n",
       "\n",
       "[4094 rows x 12 columns]"
      ]
     },
     "execution_count": 54,
     "metadata": {},
     "output_type": "execute_result"
    }
   ],
   "source": [
    "# 计算涨幅，并赋值给新增列m_increase\n",
    "df_gzmt[\"m_increase\"] = df_gzmt[\"close\"] - df_gzmt[\"open\"]\n",
    "# 计算平均成交价，并赋值给price_mean\n",
    "df_gzmt[\"price_mean\"] = df_gzmt[\"TURNOVER\"] / df_gzmt[\"volume\"]\n",
    "df_gzmt"
   ]
  },
  {
   "cell_type": "markdown",
   "metadata": {},
   "source": [
    "#### 函数运算"
   ]
  },
  {
   "cell_type": "markdown",
   "metadata": {},
   "source": [
    "对于简单的算术运算，Pandas支持运算符，也可以**利用函数**来实现"
   ]
  },
  {
   "cell_type": "code",
   "execution_count": 55,
   "metadata": {},
   "outputs": [],
   "source": [
    "df_gzmt[\"m_increase\"] = df_gzmt[\"close\"].sub(df_gzmt[\"open\"])"
   ]
  },
  {
   "cell_type": "raw",
   "metadata": {},
   "source": [
    "函数   说明\n",
    "add    用于加法（+）运算\n",
    "sub    用于减法（-）运算\n",
    "div    用于除法（/）运算\n",
    "mul    用于乘法（*）运算"
   ]
  },
  {
   "cell_type": "code",
   "execution_count": 56,
   "metadata": {},
   "outputs": [
    {
     "data": {
      "text/html": [
       "<div>\n",
       "<style scoped>\n",
       "    .dataframe tbody tr th:only-of-type {\n",
       "        vertical-align: middle;\n",
       "    }\n",
       "\n",
       "    .dataframe tbody tr th {\n",
       "        vertical-align: top;\n",
       "    }\n",
       "\n",
       "    .dataframe thead th {\n",
       "        text-align: right;\n",
       "    }\n",
       "</style>\n",
       "<table border=\"1\" class=\"dataframe\">\n",
       "  <thead>\n",
       "    <tr style=\"text-align: right;\">\n",
       "      <th></th>\n",
       "      <th>a</th>\n",
       "      <th>b</th>\n",
       "      <th>c</th>\n",
       "      <th>d</th>\n",
       "    </tr>\n",
       "  </thead>\n",
       "  <tbody>\n",
       "    <tr>\n",
       "      <th>2</th>\n",
       "      <td>0</td>\n",
       "      <td>1</td>\n",
       "      <td>2</td>\n",
       "      <td>3</td>\n",
       "    </tr>\n",
       "  </tbody>\n",
       "</table>\n",
       "</div>"
      ],
      "text/plain": [
       "   a  b  c  d\n",
       "2  0  1  2  3"
      ]
     },
     "execution_count": 56,
     "metadata": {},
     "output_type": "execute_result"
    }
   ],
   "source": [
    "# 创建数据\n",
    "df1 = pd.DataFrame(np.arange(4).reshape(1,4), columns=list(\"abcd\"), index=[2])\n",
    "df2 = pd.DataFrame(np.arange(9).reshape(3,3), columns=list(\"abc\"), index=[0,1,2])\n",
    "df1"
   ]
  },
  {
   "cell_type": "code",
   "execution_count": 57,
   "metadata": {},
   "outputs": [
    {
     "data": {
      "text/html": [
       "<div>\n",
       "<style scoped>\n",
       "    .dataframe tbody tr th:only-of-type {\n",
       "        vertical-align: middle;\n",
       "    }\n",
       "\n",
       "    .dataframe tbody tr th {\n",
       "        vertical-align: top;\n",
       "    }\n",
       "\n",
       "    .dataframe thead th {\n",
       "        text-align: right;\n",
       "    }\n",
       "</style>\n",
       "<table border=\"1\" class=\"dataframe\">\n",
       "  <thead>\n",
       "    <tr style=\"text-align: right;\">\n",
       "      <th></th>\n",
       "      <th>a</th>\n",
       "      <th>b</th>\n",
       "      <th>c</th>\n",
       "    </tr>\n",
       "  </thead>\n",
       "  <tbody>\n",
       "    <tr>\n",
       "      <th>0</th>\n",
       "      <td>0</td>\n",
       "      <td>1</td>\n",
       "      <td>2</td>\n",
       "    </tr>\n",
       "    <tr>\n",
       "      <th>1</th>\n",
       "      <td>3</td>\n",
       "      <td>4</td>\n",
       "      <td>5</td>\n",
       "    </tr>\n",
       "    <tr>\n",
       "      <th>2</th>\n",
       "      <td>6</td>\n",
       "      <td>7</td>\n",
       "      <td>8</td>\n",
       "    </tr>\n",
       "  </tbody>\n",
       "</table>\n",
       "</div>"
      ],
      "text/plain": [
       "   a  b  c\n",
       "0  0  1  2\n",
       "1  3  4  5\n",
       "2  6  7  8"
      ]
     },
     "execution_count": 57,
     "metadata": {},
     "output_type": "execute_result"
    }
   ],
   "source": [
    "df2"
   ]
  },
  {
   "cell_type": "code",
   "execution_count": 58,
   "metadata": {},
   "outputs": [
    {
     "data": {
      "text/html": [
       "<div>\n",
       "<style scoped>\n",
       "    .dataframe tbody tr th:only-of-type {\n",
       "        vertical-align: middle;\n",
       "    }\n",
       "\n",
       "    .dataframe tbody tr th {\n",
       "        vertical-align: top;\n",
       "    }\n",
       "\n",
       "    .dataframe thead th {\n",
       "        text-align: right;\n",
       "    }\n",
       "</style>\n",
       "<table border=\"1\" class=\"dataframe\">\n",
       "  <thead>\n",
       "    <tr style=\"text-align: right;\">\n",
       "      <th></th>\n",
       "      <th>a</th>\n",
       "      <th>b</th>\n",
       "      <th>c</th>\n",
       "      <th>d</th>\n",
       "    </tr>\n",
       "  </thead>\n",
       "  <tbody>\n",
       "    <tr>\n",
       "      <th>0</th>\n",
       "      <td>NaN</td>\n",
       "      <td>NaN</td>\n",
       "      <td>NaN</td>\n",
       "      <td>NaN</td>\n",
       "    </tr>\n",
       "    <tr>\n",
       "      <th>1</th>\n",
       "      <td>NaN</td>\n",
       "      <td>NaN</td>\n",
       "      <td>NaN</td>\n",
       "      <td>NaN</td>\n",
       "    </tr>\n",
       "    <tr>\n",
       "      <th>2</th>\n",
       "      <td>6.0</td>\n",
       "      <td>8.0</td>\n",
       "      <td>10.0</td>\n",
       "      <td>NaN</td>\n",
       "    </tr>\n",
       "  </tbody>\n",
       "</table>\n",
       "</div>"
      ],
      "text/plain": [
       "     a    b     c   d\n",
       "0  NaN  NaN   NaN NaN\n",
       "1  NaN  NaN   NaN NaN\n",
       "2  6.0  8.0  10.0 NaN"
      ]
     },
     "execution_count": 58,
     "metadata": {},
     "output_type": "execute_result"
    }
   ],
   "source": [
    "df1 + df2"
   ]
  },
  {
   "cell_type": "code",
   "execution_count": 59,
   "metadata": {},
   "outputs": [
    {
     "data": {
      "text/html": [
       "<div>\n",
       "<style scoped>\n",
       "    .dataframe tbody tr th:only-of-type {\n",
       "        vertical-align: middle;\n",
       "    }\n",
       "\n",
       "    .dataframe tbody tr th {\n",
       "        vertical-align: top;\n",
       "    }\n",
       "\n",
       "    .dataframe thead th {\n",
       "        text-align: right;\n",
       "    }\n",
       "</style>\n",
       "<table border=\"1\" class=\"dataframe\">\n",
       "  <thead>\n",
       "    <tr style=\"text-align: right;\">\n",
       "      <th></th>\n",
       "      <th>a</th>\n",
       "      <th>b</th>\n",
       "      <th>c</th>\n",
       "      <th>d</th>\n",
       "    </tr>\n",
       "  </thead>\n",
       "  <tbody>\n",
       "    <tr>\n",
       "      <th>0</th>\n",
       "      <td>10.0</td>\n",
       "      <td>11.0</td>\n",
       "      <td>12.0</td>\n",
       "      <td>NaN</td>\n",
       "    </tr>\n",
       "    <tr>\n",
       "      <th>1</th>\n",
       "      <td>13.0</td>\n",
       "      <td>14.0</td>\n",
       "      <td>15.0</td>\n",
       "      <td>NaN</td>\n",
       "    </tr>\n",
       "    <tr>\n",
       "      <th>2</th>\n",
       "      <td>6.0</td>\n",
       "      <td>8.0</td>\n",
       "      <td>10.0</td>\n",
       "      <td>13.0</td>\n",
       "    </tr>\n",
       "  </tbody>\n",
       "</table>\n",
       "</div>"
      ],
      "text/plain": [
       "      a     b     c     d\n",
       "0  10.0  11.0  12.0   NaN\n",
       "1  13.0  14.0  15.0   NaN\n",
       "2   6.0   8.0  10.0  13.0"
      ]
     },
     "execution_count": 59,
     "metadata": {},
     "output_type": "execute_result"
    }
   ],
   "source": [
    "df1.add(df2, fill_value=10)"
   ]
  },
  {
   "cell_type": "raw",
   "metadata": {},
   "source": [
    "1）对于add加法运算的两个个体，加法结果的维度是两个个体维度的并集，例如(1,4)和(3,3)的计算结果维度为(3,4)；\n",
    "\n",
    "2）fill_value仅对不重叠的位置施加影响；\n",
    "\n",
    "3）对存在空隙的位置，运算自动填充Na值；\n",
    "\n",
    "4）在对二维的DataFrame进行运算前，请务必核对二者的维度大小，避免出现结果超出预期效果的现象；"
   ]
  },
  {
   "attachments": {
    "image.png": {
     "image/png": "[encoded data removed]"
    }
   },
   "cell_type": "markdown",
   "metadata": {},
   "source": [
    "![image.png](attachment:image.png)"
   ]
  },
  {
   "cell_type": "markdown",
   "metadata": {},
   "source": [
    "#### 逻辑运算"
   ]
  },
  {
   "cell_type": "markdown",
   "metadata": {},
   "source": [
    "**基本逻辑运算**"
   ]
  },
  {
   "cell_type": "raw",
   "metadata": {},
   "source": [
    "常用的比较运算符包括==，<，<=，>，>=，!=。直接利用DataFrame的某一列或者Series格式的数据和标量比较，能够生成布尔型的Series数据。"
   ]
  },
  {
   "cell_type": "code",
   "execution_count": 60,
   "metadata": {},
   "outputs": [
    {
     "data": {
      "text/plain": [
       "0        True\n",
       "1        True\n",
       "2        True\n",
       "3        True\n",
       "4        True\n",
       "        ...  \n",
       "4089    False\n",
       "4090    False\n",
       "4091    False\n",
       "4092    False\n",
       "4093    False\n",
       "Name: close, Length: 4094, dtype: bool"
      ]
     },
     "execution_count": 60,
     "metadata": {},
     "output_type": "execute_result"
    }
   ],
   "source": [
    "# 查看收盘价不高于500的数据\n",
    "df_gzmt[\"close\"]<=500"
   ]
  },
  {
   "cell_type": "code",
   "execution_count": 61,
   "metadata": {},
   "outputs": [
    {
     "data": {
      "text/plain": [
       "pandas.core.series.Series"
      ]
     },
     "execution_count": 61,
     "metadata": {},
     "output_type": "execute_result"
    }
   ],
   "source": [
    "type(df_gzmt[\"close\"]<=500)"
   ]
  },
  {
   "cell_type": "markdown",
   "metadata": {},
   "source": [
    "上面提到了，逻辑运算常用的场景是**按照某一条件**进行筛选，比如，我们希望看到收盘价突破780元的详单："
   ]
  },
  {
   "cell_type": "code",
   "execution_count": 62,
   "metadata": {},
   "outputs": [
    {
     "data": {
      "text/html": [
       "<div>\n",
       "<style scoped>\n",
       "    .dataframe tbody tr th:only-of-type {\n",
       "        vertical-align: middle;\n",
       "    }\n",
       "\n",
       "    .dataframe tbody tr th {\n",
       "        vertical-align: top;\n",
       "    }\n",
       "\n",
       "    .dataframe thead th {\n",
       "        text-align: right;\n",
       "    }\n",
       "</style>\n",
       "<table border=\"1\" class=\"dataframe\">\n",
       "  <thead>\n",
       "    <tr style=\"text-align: right;\">\n",
       "      <th></th>\n",
       "      <th>day</th>\n",
       "      <th>STOCK_CODE</th>\n",
       "      <th>open</th>\n",
       "      <th>close</th>\n",
       "      <th>maximum</th>\n",
       "      <th>minimum</th>\n",
       "      <th>volume</th>\n",
       "      <th>TURNOVER</th>\n",
       "      <th>place</th>\n",
       "      <th>code</th>\n",
       "      <th>m_increase</th>\n",
       "      <th>price_mean</th>\n",
       "    </tr>\n",
       "  </thead>\n",
       "  <tbody>\n",
       "    <tr>\n",
       "      <th>3896</th>\n",
       "      <td>2018-01-09</td>\n",
       "      <td>6005191</td>\n",
       "      <td>752.21</td>\n",
       "      <td>782.52</td>\n",
       "      <td>783.00</td>\n",
       "      <td>752.21</td>\n",
       "      <td>64592</td>\n",
       "      <td>5001164544</td>\n",
       "      <td>1</td>\n",
       "      <td>600519</td>\n",
       "      <td>30.31</td>\n",
       "      <td>77426.996284</td>\n",
       "    </tr>\n",
       "    <tr>\n",
       "      <th>3897</th>\n",
       "      <td>2018-01-10</td>\n",
       "      <td>6005191</td>\n",
       "      <td>785.00</td>\n",
       "      <td>785.71</td>\n",
       "      <td>788.88</td>\n",
       "      <td>773.48</td>\n",
       "      <td>47714</td>\n",
       "      <td>3731993152</td>\n",
       "      <td>1</td>\n",
       "      <td>600519</td>\n",
       "      <td>0.71</td>\n",
       "      <td>78215.893700</td>\n",
       "    </tr>\n",
       "    <tr>\n",
       "      <th>3899</th>\n",
       "      <td>2018-01-12</td>\n",
       "      <td>6005191</td>\n",
       "      <td>773.77</td>\n",
       "      <td>788.42</td>\n",
       "      <td>788.80</td>\n",
       "      <td>767.02</td>\n",
       "      <td>45988</td>\n",
       "      <td>3577281776</td>\n",
       "      <td>1</td>\n",
       "      <td>600519</td>\n",
       "      <td>14.65</td>\n",
       "      <td>77787.287466</td>\n",
       "    </tr>\n",
       "    <tr>\n",
       "      <th>3900</th>\n",
       "      <td>2018-01-15</td>\n",
       "      <td>6005191</td>\n",
       "      <td>793.46</td>\n",
       "      <td>785.37</td>\n",
       "      <td>799.06</td>\n",
       "      <td>779.02</td>\n",
       "      <td>52473</td>\n",
       "      <td>4136645488</td>\n",
       "      <td>1</td>\n",
       "      <td>600519</td>\n",
       "      <td>-8.09</td>\n",
       "      <td>78833.790483</td>\n",
       "    </tr>\n",
       "    <tr>\n",
       "      <th>3991</th>\n",
       "      <td>2018-06-04</td>\n",
       "      <td>6005191</td>\n",
       "      <td>752.35</td>\n",
       "      <td>781.97</td>\n",
       "      <td>782.90</td>\n",
       "      <td>745.88</td>\n",
       "      <td>73806</td>\n",
       "      <td>5697540352</td>\n",
       "      <td>1</td>\n",
       "      <td>600519</td>\n",
       "      <td>29.62</td>\n",
       "      <td>77196.167683</td>\n",
       "    </tr>\n",
       "    <tr>\n",
       "      <th>3992</th>\n",
       "      <td>2018-06-05</td>\n",
       "      <td>6005191</td>\n",
       "      <td>786.50</td>\n",
       "      <td>788.05</td>\n",
       "      <td>794.70</td>\n",
       "      <td>777.23</td>\n",
       "      <td>52630</td>\n",
       "      <td>4136578576</td>\n",
       "      <td>1</td>\n",
       "      <td>600519</td>\n",
       "      <td>1.55</td>\n",
       "      <td>78597.350865</td>\n",
       "    </tr>\n",
       "    <tr>\n",
       "      <th>3993</th>\n",
       "      <td>2018-06-06</td>\n",
       "      <td>6005191</td>\n",
       "      <td>788.00</td>\n",
       "      <td>785.75</td>\n",
       "      <td>800.95</td>\n",
       "      <td>782.30</td>\n",
       "      <td>48969</td>\n",
       "      <td>3870616720</td>\n",
       "      <td>1</td>\n",
       "      <td>600519</td>\n",
       "      <td>-2.25</td>\n",
       "      <td>79042.184239</td>\n",
       "    </tr>\n",
       "    <tr>\n",
       "      <th>3994</th>\n",
       "      <td>2018-06-07</td>\n",
       "      <td>6005191</td>\n",
       "      <td>789.98</td>\n",
       "      <td>780.97</td>\n",
       "      <td>795.55</td>\n",
       "      <td>778.90</td>\n",
       "      <td>39168</td>\n",
       "      <td>3078137472</td>\n",
       "      <td>1</td>\n",
       "      <td>600519</td>\n",
       "      <td>-9.01</td>\n",
       "      <td>78588.068627</td>\n",
       "    </tr>\n",
       "    <tr>\n",
       "      <th>3997</th>\n",
       "      <td>2018-06-12</td>\n",
       "      <td>6005191</td>\n",
       "      <td>778.00</td>\n",
       "      <td>799.19</td>\n",
       "      <td>803.50</td>\n",
       "      <td>776.50</td>\n",
       "      <td>55287</td>\n",
       "      <td>4385043200</td>\n",
       "      <td>1</td>\n",
       "      <td>600519</td>\n",
       "      <td>21.19</td>\n",
       "      <td>79314.182358</td>\n",
       "    </tr>\n",
       "    <tr>\n",
       "      <th>3998</th>\n",
       "      <td>2018-06-13</td>\n",
       "      <td>6005191</td>\n",
       "      <td>800.00</td>\n",
       "      <td>790.33</td>\n",
       "      <td>802.62</td>\n",
       "      <td>788.88</td>\n",
       "      <td>35244</td>\n",
       "      <td>2803441680</td>\n",
       "      <td>1</td>\n",
       "      <td>600519</td>\n",
       "      <td>-9.67</td>\n",
       "      <td>79543.799796</td>\n",
       "    </tr>\n",
       "    <tr>\n",
       "      <th>3999</th>\n",
       "      <td>2018-06-14</td>\n",
       "      <td>6005191</td>\n",
       "      <td>790.00</td>\n",
       "      <td>786.13</td>\n",
       "      <td>793.80</td>\n",
       "      <td>775.18</td>\n",
       "      <td>36160</td>\n",
       "      <td>2830514224</td>\n",
       "      <td>1</td>\n",
       "      <td>600519</td>\n",
       "      <td>-3.87</td>\n",
       "      <td>78277.495133</td>\n",
       "    </tr>\n",
       "  </tbody>\n",
       "</table>\n",
       "</div>"
      ],
      "text/plain": [
       "             day  STOCK_CODE    open   close  maximum  minimum  volume  \\\n",
       "3896  2018-01-09     6005191  752.21  782.52   783.00   752.21   64592   \n",
       "3897  2018-01-10     6005191  785.00  785.71   788.88   773.48   47714   \n",
       "3899  2018-01-12     6005191  773.77  788.42   788.80   767.02   45988   \n",
       "3900  2018-01-15     6005191  793.46  785.37   799.06   779.02   52473   \n",
       "3991  2018-06-04     6005191  752.35  781.97   782.90   745.88   73806   \n",
       "3992  2018-06-05     6005191  786.50  788.05   794.70   777.23   52630   \n",
       "3993  2018-06-06     6005191  788.00  785.75   800.95   782.30   48969   \n",
       "3994  2018-06-07     6005191  789.98  780.97   795.55   778.90   39168   \n",
       "3997  2018-06-12     6005191  778.00  799.19   803.50   776.50   55287   \n",
       "3998  2018-06-13     6005191  800.00  790.33   802.62   788.88   35244   \n",
       "3999  2018-06-14     6005191  790.00  786.13   793.80   775.18   36160   \n",
       "\n",
       "        TURNOVER  place    code  m_increase    price_mean  \n",
       "3896  5001164544      1  600519       30.31  77426.996284  \n",
       "3897  3731993152      1  600519        0.71  78215.893700  \n",
       "3899  3577281776      1  600519       14.65  77787.287466  \n",
       "3900  4136645488      1  600519       -8.09  78833.790483  \n",
       "3991  5697540352      1  600519       29.62  77196.167683  \n",
       "3992  4136578576      1  600519        1.55  78597.350865  \n",
       "3993  3870616720      1  600519       -2.25  79042.184239  \n",
       "3994  3078137472      1  600519       -9.01  78588.068627  \n",
       "3997  4385043200      1  600519       21.19  79314.182358  \n",
       "3998  2803441680      1  600519       -9.67  79543.799796  \n",
       "3999  2830514224      1  600519       -3.87  78277.495133  "
      ]
     },
     "execution_count": 62,
     "metadata": {},
     "output_type": "execute_result"
    }
   ],
   "source": [
    "df_gzmt[df_gzmt[\"close\"]>=780]"
   ]
  },
  {
   "cell_type": "markdown",
   "metadata": {},
   "source": [
    "**复合运算类型**"
   ]
  },
  {
   "cell_type": "raw",
   "metadata": {},
   "source": [
    "通过对多个布尔类型先进行逻辑运算（或运算|、与运算&、非运算~），再利用运算结果对结构化数据进行筛选。"
   ]
  },
  {
   "cell_type": "code",
   "execution_count": 63,
   "metadata": {},
   "outputs": [
    {
     "data": {
      "text/html": [
       "<div>\n",
       "<style scoped>\n",
       "    .dataframe tbody tr th:only-of-type {\n",
       "        vertical-align: middle;\n",
       "    }\n",
       "\n",
       "    .dataframe tbody tr th {\n",
       "        vertical-align: top;\n",
       "    }\n",
       "\n",
       "    .dataframe thead th {\n",
       "        text-align: right;\n",
       "    }\n",
       "</style>\n",
       "<table border=\"1\" class=\"dataframe\">\n",
       "  <thead>\n",
       "    <tr style=\"text-align: right;\">\n",
       "      <th></th>\n",
       "      <th>day</th>\n",
       "      <th>STOCK_CODE</th>\n",
       "      <th>open</th>\n",
       "      <th>close</th>\n",
       "      <th>maximum</th>\n",
       "      <th>minimum</th>\n",
       "      <th>volume</th>\n",
       "      <th>TURNOVER</th>\n",
       "      <th>place</th>\n",
       "      <th>code</th>\n",
       "      <th>m_increase</th>\n",
       "      <th>price_mean</th>\n",
       "    </tr>\n",
       "  </thead>\n",
       "  <tbody>\n",
       "    <tr>\n",
       "      <th>3895</th>\n",
       "      <td>2018-01-08</td>\n",
       "      <td>6005191</td>\n",
       "      <td>735.02</td>\n",
       "      <td>752.13</td>\n",
       "      <td>756.50</td>\n",
       "      <td>735.02</td>\n",
       "      <td>52205</td>\n",
       "      <td>3899951728</td>\n",
       "      <td>1</td>\n",
       "      <td>600519</td>\n",
       "      <td>17.11</td>\n",
       "      <td>74704.563318</td>\n",
       "    </tr>\n",
       "    <tr>\n",
       "      <th>3903</th>\n",
       "      <td>2018-01-18</td>\n",
       "      <td>6005191</td>\n",
       "      <td>747.93</td>\n",
       "      <td>750.74</td>\n",
       "      <td>765.00</td>\n",
       "      <td>744.09</td>\n",
       "      <td>58979</td>\n",
       "      <td>4443031296</td>\n",
       "      <td>1</td>\n",
       "      <td>600519</td>\n",
       "      <td>2.81</td>\n",
       "      <td>75332.428424</td>\n",
       "    </tr>\n",
       "    <tr>\n",
       "      <th>3904</th>\n",
       "      <td>2018-01-19</td>\n",
       "      <td>6005191</td>\n",
       "      <td>752.90</td>\n",
       "      <td>750.18</td>\n",
       "      <td>758.90</td>\n",
       "      <td>739.02</td>\n",
       "      <td>50926</td>\n",
       "      <td>3818021984</td>\n",
       "      <td>1</td>\n",
       "      <td>600519</td>\n",
       "      <td>-2.72</td>\n",
       "      <td>74971.958999</td>\n",
       "    </tr>\n",
       "    <tr>\n",
       "      <th>3913</th>\n",
       "      <td>2018-02-01</td>\n",
       "      <td>6005191</td>\n",
       "      <td>767.00</td>\n",
       "      <td>757.73</td>\n",
       "      <td>767.30</td>\n",
       "      <td>752.92</td>\n",
       "      <td>50583</td>\n",
       "      <td>3846421616</td>\n",
       "      <td>1</td>\n",
       "      <td>600519</td>\n",
       "      <td>-9.27</td>\n",
       "      <td>76041.785106</td>\n",
       "    </tr>\n",
       "    <tr>\n",
       "      <th>3940</th>\n",
       "      <td>2018-03-19</td>\n",
       "      <td>6005191</td>\n",
       "      <td>743.97</td>\n",
       "      <td>753.48</td>\n",
       "      <td>753.99</td>\n",
       "      <td>739.00</td>\n",
       "      <td>38667</td>\n",
       "      <td>2897348544</td>\n",
       "      <td>1</td>\n",
       "      <td>600519</td>\n",
       "      <td>9.51</td>\n",
       "      <td>74930.781907</td>\n",
       "    </tr>\n",
       "    <tr>\n",
       "      <th>3989</th>\n",
       "      <td>2018-05-31</td>\n",
       "      <td>6005191</td>\n",
       "      <td>730.25</td>\n",
       "      <td>751.13</td>\n",
       "      <td>751.62</td>\n",
       "      <td>730.24</td>\n",
       "      <td>71853</td>\n",
       "      <td>5356222464</td>\n",
       "      <td>1</td>\n",
       "      <td>600519</td>\n",
       "      <td>20.88</td>\n",
       "      <td>74544.173020</td>\n",
       "    </tr>\n",
       "    <tr>\n",
       "      <th>4003</th>\n",
       "      <td>2018-06-21</td>\n",
       "      <td>6005191</td>\n",
       "      <td>765.22</td>\n",
       "      <td>759.32</td>\n",
       "      <td>778.89</td>\n",
       "      <td>758.77</td>\n",
       "      <td>39183</td>\n",
       "      <td>3013867648</td>\n",
       "      <td>1</td>\n",
       "      <td>600519</td>\n",
       "      <td>-5.90</td>\n",
       "      <td>76917.735957</td>\n",
       "    </tr>\n",
       "    <tr>\n",
       "      <th>4006</th>\n",
       "      <td>2018-06-26</td>\n",
       "      <td>6005191</td>\n",
       "      <td>765.31</td>\n",
       "      <td>754.80</td>\n",
       "      <td>769.88</td>\n",
       "      <td>747.00</td>\n",
       "      <td>46578</td>\n",
       "      <td>3516945440</td>\n",
       "      <td>1</td>\n",
       "      <td>600519</td>\n",
       "      <td>-10.51</td>\n",
       "      <td>75506.579072</td>\n",
       "    </tr>\n",
       "    <tr>\n",
       "      <th>4020</th>\n",
       "      <td>2018-07-16</td>\n",
       "      <td>6005191</td>\n",
       "      <td>752.30</td>\n",
       "      <td>754.68</td>\n",
       "      <td>764.11</td>\n",
       "      <td>751.03</td>\n",
       "      <td>32475</td>\n",
       "      <td>2454501600</td>\n",
       "      <td>1</td>\n",
       "      <td>600519</td>\n",
       "      <td>2.38</td>\n",
       "      <td>75581.265589</td>\n",
       "    </tr>\n",
       "  </tbody>\n",
       "</table>\n",
       "</div>"
      ],
      "text/plain": [
       "             day  STOCK_CODE    open   close  maximum  minimum  volume  \\\n",
       "3895  2018-01-08     6005191  735.02  752.13   756.50   735.02   52205   \n",
       "3903  2018-01-18     6005191  747.93  750.74   765.00   744.09   58979   \n",
       "3904  2018-01-19     6005191  752.90  750.18   758.90   739.02   50926   \n",
       "3913  2018-02-01     6005191  767.00  757.73   767.30   752.92   50583   \n",
       "3940  2018-03-19     6005191  743.97  753.48   753.99   739.00   38667   \n",
       "3989  2018-05-31     6005191  730.25  751.13   751.62   730.24   71853   \n",
       "4003  2018-06-21     6005191  765.22  759.32   778.89   758.77   39183   \n",
       "4006  2018-06-26     6005191  765.31  754.80   769.88   747.00   46578   \n",
       "4020  2018-07-16     6005191  752.30  754.68   764.11   751.03   32475   \n",
       "\n",
       "        TURNOVER  place    code  m_increase    price_mean  \n",
       "3895  3899951728      1  600519       17.11  74704.563318  \n",
       "3903  4443031296      1  600519        2.81  75332.428424  \n",
       "3904  3818021984      1  600519       -2.72  74971.958999  \n",
       "3913  3846421616      1  600519       -9.27  76041.785106  \n",
       "3940  2897348544      1  600519        9.51  74930.781907  \n",
       "3989  5356222464      1  600519       20.88  74544.173020  \n",
       "4003  3013867648      1  600519       -5.90  76917.735957  \n",
       "4006  3516945440      1  600519      -10.51  75506.579072  \n",
       "4020  2454501600      1  600519        2.38  75581.265589  "
      ]
     },
     "execution_count": 63,
     "metadata": {},
     "output_type": "execute_result"
    }
   ],
   "source": [
    "# 这里注意一下括号的用法\n",
    "df_gzmt[(df_gzmt[\"close\"]>=750) & (df_gzmt[\"close\"]<=760)]"
   ]
  },
  {
   "cell_type": "markdown",
   "metadata": {},
   "source": [
    "**在不连续条件的情况下，进行筛选,<font color=red>isin</font>可以方便地解决这个问题**"
   ]
  },
  {
   "cell_type": "code",
   "execution_count": 64,
   "metadata": {},
   "outputs": [
    {
     "data": {
      "text/html": [
       "<div>\n",
       "<style scoped>\n",
       "    .dataframe tbody tr th:only-of-type {\n",
       "        vertical-align: middle;\n",
       "    }\n",
       "\n",
       "    .dataframe tbody tr th {\n",
       "        vertical-align: top;\n",
       "    }\n",
       "\n",
       "    .dataframe thead th {\n",
       "        text-align: right;\n",
       "    }\n",
       "</style>\n",
       "<table border=\"1\" class=\"dataframe\">\n",
       "  <thead>\n",
       "    <tr style=\"text-align: right;\">\n",
       "      <th></th>\n",
       "      <th>day</th>\n",
       "      <th>STOCK_CODE</th>\n",
       "      <th>open</th>\n",
       "      <th>close</th>\n",
       "      <th>maximum</th>\n",
       "      <th>minimum</th>\n",
       "      <th>volume</th>\n",
       "      <th>TURNOVER</th>\n",
       "      <th>place</th>\n",
       "      <th>code</th>\n",
       "      <th>m_increase</th>\n",
       "      <th>price_mean</th>\n",
       "    </tr>\n",
       "  </thead>\n",
       "  <tbody>\n",
       "    <tr>\n",
       "      <th>3895</th>\n",
       "      <td>2018-01-08</td>\n",
       "      <td>6005191</td>\n",
       "      <td>735.02</td>\n",
       "      <td>752.13</td>\n",
       "      <td>756.5</td>\n",
       "      <td>735.02</td>\n",
       "      <td>52205</td>\n",
       "      <td>3899951728</td>\n",
       "      <td>1</td>\n",
       "      <td>600519</td>\n",
       "      <td>17.11</td>\n",
       "      <td>74704.563318</td>\n",
       "    </tr>\n",
       "    <tr>\n",
       "      <th>3903</th>\n",
       "      <td>2018-01-18</td>\n",
       "      <td>6005191</td>\n",
       "      <td>747.93</td>\n",
       "      <td>750.74</td>\n",
       "      <td>765.0</td>\n",
       "      <td>744.09</td>\n",
       "      <td>58979</td>\n",
       "      <td>4443031296</td>\n",
       "      <td>1</td>\n",
       "      <td>600519</td>\n",
       "      <td>2.81</td>\n",
       "      <td>75332.428424</td>\n",
       "    </tr>\n",
       "  </tbody>\n",
       "</table>\n",
       "</div>"
      ],
      "text/plain": [
       "             day  STOCK_CODE    open   close  maximum  minimum  volume  \\\n",
       "3895  2018-01-08     6005191  735.02  752.13    756.5   735.02   52205   \n",
       "3903  2018-01-18     6005191  747.93  750.74    765.0   744.09   58979   \n",
       "\n",
       "        TURNOVER  place    code  m_increase    price_mean  \n",
       "3895  3899951728      1  600519       17.11  74704.563318  \n",
       "3903  4443031296      1  600519        2.81  75332.428424  "
      ]
     },
     "execution_count": 64,
     "metadata": {},
     "output_type": "execute_result"
    }
   ],
   "source": [
    "df_gzmt[df_gzmt[\"day\"].isin([\"2018-01-08\",\"2018-01-18\"])]"
   ]
  },
  {
   "cell_type": "markdown",
   "metadata": {},
   "source": [
    "#### 统计运算"
   ]
  },
  {
   "cell_type": "raw",
   "metadata": {},
   "source": [
    "Pandas统计运算和Numpy非常相似，常用的有求和、求均值、求方差、求累积等"
   ]
  },
  {
   "cell_type": "code",
   "execution_count": 65,
   "metadata": {},
   "outputs": [
    {
     "data": {
      "text/plain": [
       "182.43522960429897"
      ]
     },
     "execution_count": 65,
     "metadata": {},
     "output_type": "execute_result"
    }
   ],
   "source": [
    "# 计算贵州茅台自上市之日起的平均股价：\n",
    "df_gzmt[\"close\"].mean(axis=0, skipna=True)"
   ]
  },
  {
   "cell_type": "raw",
   "metadata": {},
   "source": [
    "axis表示运算方向，规则和Numpy一致，即在进行统计运算时，axis=0表示进行纵向方向的计算，axis=1表示进行横向方向的计算。（在实际情况中，Pandas不仅仅能够操控数据元素，还操控index对象）\n",
    "skipna表示是否排除缺失值，默认为True。"
   ]
  },
  {
   "cell_type": "markdown",
   "metadata": {},
   "source": [
    "**这张表列举了常用的统计运算**"
   ]
  },
  {
   "attachments": {
    "image.png": {
     "image/png": "[encoded data removed]"
    }
   },
   "cell_type": "markdown",
   "metadata": {},
   "source": [
    "![image.png](attachment:image.png)"
   ]
  },
  {
   "cell_type": "markdown",
   "metadata": {},
   "source": [
    "## 循环与遍历"
   ]
  },
  {
   "cell_type": "markdown",
   "metadata": {},
   "source": [
    "### 不加修饰的标准循环"
   ]
  },
  {
   "cell_type": "raw",
   "metadata": {},
   "source": [
    "对DataFrame进行遍历，可以理解为对数据结构进行逐行或者逐列的扫描，那我们利用好其索引就行了，通过对索引的遍历，间接完成对DataFrame的遍历。"
   ]
  },
  {
   "cell_type": "markdown",
   "metadata": {},
   "source": [
    "#### 基于索引的行循环"
   ]
  },
  {
   "cell_type": "code",
   "execution_count": 66,
   "metadata": {},
   "outputs": [
    {
     "data": {
      "text/html": [
       "<div>\n",
       "<style scoped>\n",
       "    .dataframe tbody tr th:only-of-type {\n",
       "        vertical-align: middle;\n",
       "    }\n",
       "\n",
       "    .dataframe tbody tr th {\n",
       "        vertical-align: top;\n",
       "    }\n",
       "\n",
       "    .dataframe thead th {\n",
       "        text-align: right;\n",
       "    }\n",
       "</style>\n",
       "<table border=\"1\" class=\"dataframe\">\n",
       "  <thead>\n",
       "    <tr style=\"text-align: right;\">\n",
       "      <th></th>\n",
       "      <th>STOCK_CODE</th>\n",
       "      <th>open</th>\n",
       "      <th>close</th>\n",
       "      <th>maximum</th>\n",
       "      <th>minimum</th>\n",
       "      <th>volume</th>\n",
       "      <th>TURNOVER</th>\n",
       "    </tr>\n",
       "    <tr>\n",
       "      <th>day</th>\n",
       "      <th></th>\n",
       "      <th></th>\n",
       "      <th></th>\n",
       "      <th></th>\n",
       "      <th></th>\n",
       "      <th></th>\n",
       "      <th></th>\n",
       "    </tr>\n",
       "  </thead>\n",
       "  <tbody>\n",
       "    <tr>\n",
       "      <th>2001-08-27</th>\n",
       "      <td>6005191</td>\n",
       "      <td>34.51</td>\n",
       "      <td>35.55</td>\n",
       "      <td>37.78</td>\n",
       "      <td>32.85</td>\n",
       "      <td>406318</td>\n",
       "      <td>1410347008</td>\n",
       "    </tr>\n",
       "    <tr>\n",
       "      <th>2001-08-28</th>\n",
       "      <td>6005191</td>\n",
       "      <td>34.99</td>\n",
       "      <td>36.86</td>\n",
       "      <td>37.00</td>\n",
       "      <td>34.61</td>\n",
       "      <td>129647</td>\n",
       "      <td>463463008</td>\n",
       "    </tr>\n",
       "    <tr>\n",
       "      <th>2001-08-29</th>\n",
       "      <td>6005191</td>\n",
       "      <td>36.98</td>\n",
       "      <td>36.38</td>\n",
       "      <td>37.00</td>\n",
       "      <td>36.10</td>\n",
       "      <td>53252</td>\n",
       "      <td>194689000</td>\n",
       "    </tr>\n",
       "    <tr>\n",
       "      <th>2001-08-30</th>\n",
       "      <td>6005191</td>\n",
       "      <td>36.28</td>\n",
       "      <td>37.10</td>\n",
       "      <td>37.51</td>\n",
       "      <td>36.00</td>\n",
       "      <td>48013</td>\n",
       "      <td>177558000</td>\n",
       "    </tr>\n",
       "    <tr>\n",
       "      <th>2001-08-31</th>\n",
       "      <td>6005191</td>\n",
       "      <td>37.15</td>\n",
       "      <td>37.01</td>\n",
       "      <td>37.62</td>\n",
       "      <td>36.80</td>\n",
       "      <td>23231</td>\n",
       "      <td>86231000</td>\n",
       "    </tr>\n",
       "    <tr>\n",
       "      <th>...</th>\n",
       "      <td>...</td>\n",
       "      <td>...</td>\n",
       "      <td>...</td>\n",
       "      <td>...</td>\n",
       "      <td>...</td>\n",
       "      <td>...</td>\n",
       "      <td>...</td>\n",
       "    </tr>\n",
       "    <tr>\n",
       "      <th>2018-10-29</th>\n",
       "      <td>6005191</td>\n",
       "      <td>549.09</td>\n",
       "      <td>549.09</td>\n",
       "      <td>549.09</td>\n",
       "      <td>549.09</td>\n",
       "      <td>49076</td>\n",
       "      <td>2694714080</td>\n",
       "    </tr>\n",
       "    <tr>\n",
       "      <th>2018-10-30</th>\n",
       "      <td>6005191</td>\n",
       "      <td>510.00</td>\n",
       "      <td>524.00</td>\n",
       "      <td>543.00</td>\n",
       "      <td>509.02</td>\n",
       "      <td>204397</td>\n",
       "      <td>10663392512</td>\n",
       "    </tr>\n",
       "    <tr>\n",
       "      <th>2018-10-31</th>\n",
       "      <td>6005191</td>\n",
       "      <td>527.00</td>\n",
       "      <td>548.90</td>\n",
       "      <td>555.00</td>\n",
       "      <td>522.00</td>\n",
       "      <td>96885</td>\n",
       "      <td>5239853056</td>\n",
       "    </tr>\n",
       "    <tr>\n",
       "      <th>2018-11-01</th>\n",
       "      <td>6005191</td>\n",
       "      <td>555.00</td>\n",
       "      <td>563.00</td>\n",
       "      <td>585.50</td>\n",
       "      <td>551.25</td>\n",
       "      <td>98107</td>\n",
       "      <td>5581027328</td>\n",
       "    </tr>\n",
       "    <tr>\n",
       "      <th>2018-11-02</th>\n",
       "      <td>6005191</td>\n",
       "      <td>585.00</td>\n",
       "      <td>599.90</td>\n",
       "      <td>600.00</td>\n",
       "      <td>572.24</td>\n",
       "      <td>89157</td>\n",
       "      <td>5227695104</td>\n",
       "    </tr>\n",
       "  </tbody>\n",
       "</table>\n",
       "<p>4094 rows × 7 columns</p>\n",
       "</div>"
      ],
      "text/plain": [
       "            STOCK_CODE    open   close  maximum  minimum  volume     TURNOVER\n",
       "day                                                                          \n",
       "2001-08-27     6005191   34.51   35.55    37.78    32.85  406318   1410347008\n",
       "2001-08-28     6005191   34.99   36.86    37.00    34.61  129647    463463008\n",
       "2001-08-29     6005191   36.98   36.38    37.00    36.10   53252    194689000\n",
       "2001-08-30     6005191   36.28   37.10    37.51    36.00   48013    177558000\n",
       "2001-08-31     6005191   37.15   37.01    37.62    36.80   23231     86231000\n",
       "...                ...     ...     ...      ...      ...     ...          ...\n",
       "2018-10-29     6005191  549.09  549.09   549.09   549.09   49076   2694714080\n",
       "2018-10-30     6005191  510.00  524.00   543.00   509.02  204397  10663392512\n",
       "2018-10-31     6005191  527.00  548.90   555.00   522.00   96885   5239853056\n",
       "2018-11-01     6005191  555.00  563.00   585.50   551.25   98107   5581027328\n",
       "2018-11-02     6005191  585.00  599.90   600.00   572.24   89157   5227695104\n",
       "\n",
       "[4094 rows x 7 columns]"
      ]
     },
     "execution_count": 66,
     "metadata": {},
     "output_type": "execute_result"
    }
   ],
   "source": [
    "df_gzmt = pd.read_csv(file, encoding=\"utf-8\", index_col=0)\n",
    "df_gzmt"
   ]
  },
  {
   "cell_type": "code",
   "execution_count": 67,
   "metadata": {},
   "outputs": [
    {
     "data": {
      "text/plain": [
       "Index(['2001-08-27', '2001-08-28', '2001-08-29', '2001-08-30', '2001-08-31',\n",
       "       '2001-09-03', '2001-09-04', '2001-09-05', '2001-09-06', '2001-09-07',\n",
       "       ...\n",
       "       '2018-10-22', '2018-10-23', '2018-10-24', '2018-10-25', '2018-10-26',\n",
       "       '2018-10-29', '2018-10-30', '2018-10-31', '2018-11-01', '2018-11-02'],\n",
       "      dtype='object', name='day', length=4094)"
      ]
     },
     "execution_count": 67,
     "metadata": {},
     "output_type": "execute_result"
    }
   ],
   "source": [
    "df_gzmt.index"
   ]
  },
  {
   "cell_type": "code",
   "execution_count": 68,
   "metadata": {},
   "outputs": [
    {
     "data": {
      "text/plain": [
       "Index(['STOCK_CODE', 'open', 'close', 'maximum', 'minimum', 'volume',\n",
       "       'TURNOVER'],\n",
       "      dtype='object')"
      ]
     },
     "execution_count": 68,
     "metadata": {},
     "output_type": "execute_result"
    }
   ],
   "source": [
    "df_gzmt.columns"
   ]
  },
  {
   "cell_type": "code",
   "execution_count": 69,
   "metadata": {},
   "outputs": [
    {
     "data": {
      "text/plain": [
       "'day'"
      ]
     },
     "execution_count": 69,
     "metadata": {},
     "output_type": "execute_result"
    }
   ],
   "source": [
    "df_gzmt.index.name"
   ]
  },
  {
   "cell_type": "markdown",
   "metadata": {},
   "source": [
    "##### 通过索引名字进行遍历"
   ]
  },
  {
   "cell_type": "code",
   "execution_count": 70,
   "metadata": {},
   "outputs": [
    {
     "name": "stdout",
     "output_type": "stream",
     "text": [
      "STOCK_CODE    6.005191e+06\n",
      "open          3.451000e+01\n",
      "close         3.555000e+01\n",
      "maximum       3.778000e+01\n",
      "minimum       3.285000e+01\n",
      "volume        4.063180e+05\n",
      "TURNOVER      1.410347e+09\n",
      "Name: 2001-08-27, dtype: float64\n",
      "2001-08-27的贵州茅台收盘价是35.55元\n"
     ]
    }
   ],
   "source": [
    "# 这里仅做演示，程序里增加了break，只打印第一轮循环\n",
    "for day in df_gzmt.index:\n",
    "    row = df_gzmt.loc[day]\n",
    "    print(row)\n",
    "    print(f'{day}的贵州茅台收盘价是{row[\"close\"]}元')\n",
    "    break"
   ]
  },
  {
   "cell_type": "markdown",
   "metadata": {},
   "source": [
    "##### 通过索引位置进行遍历"
   ]
  },
  {
   "cell_type": "code",
   "execution_count": 71,
   "metadata": {},
   "outputs": [
    {
     "data": {
      "text/plain": [
       "4094"
      ]
     },
     "execution_count": 71,
     "metadata": {},
     "output_type": "execute_result"
    }
   ],
   "source": [
    "num = df_gzmt.shape[0]\n",
    "num"
   ]
  },
  {
   "cell_type": "code",
   "execution_count": 72,
   "metadata": {},
   "outputs": [
    {
     "name": "stdout",
     "output_type": "stream",
     "text": [
      "STOCK_CODE    6.005191e+06\n",
      "open          3.451000e+01\n",
      "close         3.555000e+01\n",
      "maximum       3.778000e+01\n",
      "minimum       3.285000e+01\n",
      "volume        4.063180e+05\n",
      "TURNOVER      1.410347e+09\n",
      "Name: 2001-08-27, dtype: float64\n"
     ]
    }
   ],
   "source": [
    "for i in range(num):\n",
    "    row = df_gzmt.iloc[i]\n",
    "    print(row)\n",
    "    break"
   ]
  },
  {
   "cell_type": "markdown",
   "metadata": {},
   "source": [
    "#### 基于索引的列循环"
   ]
  },
  {
   "cell_type": "raw",
   "metadata": {},
   "source": [
    "列循环和行循环的规律非常相似，无非就是循环对象变更为列名，整体的编写逻辑是一致的"
   ]
  },
  {
   "cell_type": "markdown",
   "metadata": {},
   "source": [
    "### 基于内置方法的快速循环"
   ]
  },
  {
   "cell_type": "markdown",
   "metadata": {},
   "source": [
    "内置的 **itertuples()和iterrows()**等方法 ，是类似于迭代器的yield用法，一次产生一行的生成器。"
   ]
  },
  {
   "cell_type": "markdown",
   "metadata": {},
   "source": [
    "#### iterrows()循环"
   ]
  },
  {
   "cell_type": "code",
   "execution_count": 73,
   "metadata": {},
   "outputs": [
    {
     "name": "stdout",
     "output_type": "stream",
     "text": [
      "index = 2001-08-27\n",
      "row value is \n",
      "STOCK_CODE    6.005191e+06\n",
      "open          3.451000e+01\n",
      "close         3.555000e+01\n",
      "maximum       3.778000e+01\n",
      "minimum       3.285000e+01\n",
      "volume        4.063180e+05\n",
      "TURNOVER      1.410347e+09\n",
      "Name: 2001-08-27, dtype: float64\n",
      "<class 'pandas.core.series.Series'>\n"
     ]
    }
   ],
   "source": [
    "# iterrows用法示例\n",
    "for index,row in df_gzmt.iterrows():\n",
    "    print(\"index = \" + index)\n",
    "    print(\"row value is \", row, sep=\"\\n\")\n",
    "    print(type(row))\n",
    "    break"
   ]
  },
  {
   "cell_type": "code",
   "execution_count": 74,
   "metadata": {},
   "outputs": [
    {
     "name": "stdout",
     "output_type": "stream",
     "text": [
      "35.55\n"
     ]
    }
   ],
   "source": [
    "for index,row in df_gzmt.iterrows():\n",
    "    print(row[\"close\"])\n",
    "    break"
   ]
  },
  {
   "cell_type": "markdown",
   "metadata": {},
   "source": [
    "#### itertuples()循环"
   ]
  },
  {
   "cell_type": "raw",
   "metadata": {},
   "source": [
    "和iterrows()类似，itertuples()也是一种行循环方法，把每一行数据返回成 一个namedtuple，并且行的索引值作为元组的第一个元素。 "
   ]
  },
  {
   "cell_type": "markdown",
   "metadata": {},
   "source": [
    "print加逗号,输出在一行  \n",
    "itertuples()返回的是一个pandas.core.frame.Pandas类型。并且普遍认为**itertuples()比 iterrows()的速度要快一些**。"
   ]
  },
  {
   "cell_type": "code",
   "execution_count": 75,
   "metadata": {},
   "outputs": [
    {
     "name": "stdout",
     "output_type": "stream",
     "text": [
      "Pandas(Index='2001-08-27', STOCK_CODE=6005191, open=34.51, close=35.55, maximum=37.78, minimum=32.85, volume=406318, TURNOVER=1410347008) <class 'pandas.core.frame.Pandas'>\n",
      "Index =  2001-08-27\n",
      "STOCK_CODE =  6005191\n",
      "open =  34.51\n"
     ]
    }
   ],
   "source": [
    "for sub_tuple in df_gzmt.itertuples():\n",
    "    print(sub_tuple,type(sub_tuple))\n",
    "    print(\"Index = \",sub_tuple.Index)\n",
    "    print(\"STOCK_CODE = \",sub_tuple.STOCK_CODE)\n",
    "    print(\"open = \",getattr(sub_tuple,\"open\"))\n",
    "    break"
   ]
  },
  {
   "cell_type": "markdown",
   "metadata": {},
   "source": [
    "#### iteritems()"
   ]
  },
  {
   "cell_type": "raw",
   "metadata": {},
   "source": [
    "iteritems()是一种列循环的方法，用和iterrows()非常相似"
   ]
  },
  {
   "cell_type": "code",
   "execution_count": 76,
   "metadata": {},
   "outputs": [
    {
     "name": "stdout",
     "output_type": "stream",
     "text": [
      "第一列的名字 : STOCK_CODE\n",
      "第一列的内容 : day\n",
      "2001-08-27    6005191\n",
      "2001-08-28    6005191\n",
      "2001-08-29    6005191\n",
      "2001-08-30    6005191\n",
      "2001-08-31    6005191\n",
      "               ...   \n",
      "2018-10-29    6005191\n",
      "2018-10-30    6005191\n",
      "2018-10-31    6005191\n",
      "2018-11-01    6005191\n",
      "2018-11-02    6005191\n",
      "Name: STOCK_CODE, Length: 4094, dtype: int64\n"
     ]
    }
   ],
   "source": [
    "for column, row in df_gzmt.iteritems():\n",
    "    print(\"第一列的名字 :\", column)\n",
    "    print(\"第一列的内容 :\", row)\n",
    "    break"
   ]
  },
  {
   "cell_type": "markdown",
   "metadata": {},
   "source": [
    "### 手动实现累计和的运算"
   ]
  },
  {
   "cell_type": "code",
   "execution_count": 77,
   "metadata": {},
   "outputs": [],
   "source": [
    "# %matplotlib具体作用是当你调用matplotlib.pyplot的绘图函数plot()进行绘图的时候，或者生成一个figure画布的时候，\n",
    "# 可以直接在你的python console里面生成图像\n",
    "%matplotlib inline\n",
    "import matplotlib.pyplot as plt\n",
    "import pandas as pd"
   ]
  },
  {
   "cell_type": "code",
   "execution_count": 78,
   "metadata": {},
   "outputs": [
    {
     "data": {
      "text/html": [
       "<div>\n",
       "<style scoped>\n",
       "    .dataframe tbody tr th:only-of-type {\n",
       "        vertical-align: middle;\n",
       "    }\n",
       "\n",
       "    .dataframe tbody tr th {\n",
       "        vertical-align: top;\n",
       "    }\n",
       "\n",
       "    .dataframe thead th {\n",
       "        text-align: right;\n",
       "    }\n",
       "</style>\n",
       "<table border=\"1\" class=\"dataframe\">\n",
       "  <thead>\n",
       "    <tr style=\"text-align: right;\">\n",
       "      <th></th>\n",
       "      <th>STOCK_CODE</th>\n",
       "      <th>open</th>\n",
       "      <th>close</th>\n",
       "      <th>maximum</th>\n",
       "      <th>minimum</th>\n",
       "      <th>volume</th>\n",
       "      <th>TURNOVER</th>\n",
       "    </tr>\n",
       "    <tr>\n",
       "      <th>day</th>\n",
       "      <th></th>\n",
       "      <th></th>\n",
       "      <th></th>\n",
       "      <th></th>\n",
       "      <th></th>\n",
       "      <th></th>\n",
       "      <th></th>\n",
       "    </tr>\n",
       "  </thead>\n",
       "  <tbody>\n",
       "    <tr>\n",
       "      <th>2001-08-27</th>\n",
       "      <td>6005191</td>\n",
       "      <td>34.51</td>\n",
       "      <td>35.55</td>\n",
       "      <td>37.78</td>\n",
       "      <td>32.85</td>\n",
       "      <td>406318</td>\n",
       "      <td>1410347008</td>\n",
       "    </tr>\n",
       "    <tr>\n",
       "      <th>2001-08-28</th>\n",
       "      <td>6005191</td>\n",
       "      <td>34.99</td>\n",
       "      <td>36.86</td>\n",
       "      <td>37.00</td>\n",
       "      <td>34.61</td>\n",
       "      <td>129647</td>\n",
       "      <td>463463008</td>\n",
       "    </tr>\n",
       "    <tr>\n",
       "      <th>2001-08-29</th>\n",
       "      <td>6005191</td>\n",
       "      <td>36.98</td>\n",
       "      <td>36.38</td>\n",
       "      <td>37.00</td>\n",
       "      <td>36.10</td>\n",
       "      <td>53252</td>\n",
       "      <td>194689000</td>\n",
       "    </tr>\n",
       "    <tr>\n",
       "      <th>2001-08-30</th>\n",
       "      <td>6005191</td>\n",
       "      <td>36.28</td>\n",
       "      <td>37.10</td>\n",
       "      <td>37.51</td>\n",
       "      <td>36.00</td>\n",
       "      <td>48013</td>\n",
       "      <td>177558000</td>\n",
       "    </tr>\n",
       "    <tr>\n",
       "      <th>2001-08-31</th>\n",
       "      <td>6005191</td>\n",
       "      <td>37.15</td>\n",
       "      <td>37.01</td>\n",
       "      <td>37.62</td>\n",
       "      <td>36.80</td>\n",
       "      <td>23231</td>\n",
       "      <td>86231000</td>\n",
       "    </tr>\n",
       "    <tr>\n",
       "      <th>...</th>\n",
       "      <td>...</td>\n",
       "      <td>...</td>\n",
       "      <td>...</td>\n",
       "      <td>...</td>\n",
       "      <td>...</td>\n",
       "      <td>...</td>\n",
       "      <td>...</td>\n",
       "    </tr>\n",
       "    <tr>\n",
       "      <th>2018-10-29</th>\n",
       "      <td>6005191</td>\n",
       "      <td>549.09</td>\n",
       "      <td>549.09</td>\n",
       "      <td>549.09</td>\n",
       "      <td>549.09</td>\n",
       "      <td>49076</td>\n",
       "      <td>2694714080</td>\n",
       "    </tr>\n",
       "    <tr>\n",
       "      <th>2018-10-30</th>\n",
       "      <td>6005191</td>\n",
       "      <td>510.00</td>\n",
       "      <td>524.00</td>\n",
       "      <td>543.00</td>\n",
       "      <td>509.02</td>\n",
       "      <td>204397</td>\n",
       "      <td>10663392512</td>\n",
       "    </tr>\n",
       "    <tr>\n",
       "      <th>2018-10-31</th>\n",
       "      <td>6005191</td>\n",
       "      <td>527.00</td>\n",
       "      <td>548.90</td>\n",
       "      <td>555.00</td>\n",
       "      <td>522.00</td>\n",
       "      <td>96885</td>\n",
       "      <td>5239853056</td>\n",
       "    </tr>\n",
       "    <tr>\n",
       "      <th>2018-11-01</th>\n",
       "      <td>6005191</td>\n",
       "      <td>555.00</td>\n",
       "      <td>563.00</td>\n",
       "      <td>585.50</td>\n",
       "      <td>551.25</td>\n",
       "      <td>98107</td>\n",
       "      <td>5581027328</td>\n",
       "    </tr>\n",
       "    <tr>\n",
       "      <th>2018-11-02</th>\n",
       "      <td>6005191</td>\n",
       "      <td>585.00</td>\n",
       "      <td>599.90</td>\n",
       "      <td>600.00</td>\n",
       "      <td>572.24</td>\n",
       "      <td>89157</td>\n",
       "      <td>5227695104</td>\n",
       "    </tr>\n",
       "  </tbody>\n",
       "</table>\n",
       "<p>4094 rows × 7 columns</p>\n",
       "</div>"
      ],
      "text/plain": [
       "            STOCK_CODE    open   close  maximum  minimum  volume     TURNOVER\n",
       "day                                                                          \n",
       "2001-08-27     6005191   34.51   35.55    37.78    32.85  406318   1410347008\n",
       "2001-08-28     6005191   34.99   36.86    37.00    34.61  129647    463463008\n",
       "2001-08-29     6005191   36.98   36.38    37.00    36.10   53252    194689000\n",
       "2001-08-30     6005191   36.28   37.10    37.51    36.00   48013    177558000\n",
       "2001-08-31     6005191   37.15   37.01    37.62    36.80   23231     86231000\n",
       "...                ...     ...     ...      ...      ...     ...          ...\n",
       "2018-10-29     6005191  549.09  549.09   549.09   549.09   49076   2694714080\n",
       "2018-10-30     6005191  510.00  524.00   543.00   509.02  204397  10663392512\n",
       "2018-10-31     6005191  527.00  548.90   555.00   522.00   96885   5239853056\n",
       "2018-11-01     6005191  555.00  563.00   585.50   551.25   98107   5581027328\n",
       "2018-11-02     6005191  585.00  599.90   600.00   572.24   89157   5227695104\n",
       "\n",
       "[4094 rows x 7 columns]"
      ]
     },
     "execution_count": 78,
     "metadata": {},
     "output_type": "execute_result"
    }
   ],
   "source": [
    "dataframe = pd.read_csv(file, encoding=\"utf-8\", index_col=0)\n",
    "dataframe"
   ]
  },
  {
   "cell_type": "code",
   "execution_count": 79,
   "metadata": {},
   "outputs": [],
   "source": [
    "# 第一步：逐行计算累积值\n",
    "cum_sum = []\n",
    "_last_cum = 0\n",
    "for index, row in dataframe.iterrows():\n",
    "    temp = row[\"TURNOVER\"] + _last_cum\n",
    "    cum_sum.append(temp)\n",
    "    _last_cum = temp"
   ]
  },
  {
   "cell_type": "code",
   "execution_count": 80,
   "metadata": {},
   "outputs": [
    {
     "data": {
      "text/html": [
       "<div>\n",
       "<style scoped>\n",
       "    .dataframe tbody tr th:only-of-type {\n",
       "        vertical-align: middle;\n",
       "    }\n",
       "\n",
       "    .dataframe tbody tr th {\n",
       "        vertical-align: top;\n",
       "    }\n",
       "\n",
       "    .dataframe thead th {\n",
       "        text-align: right;\n",
       "    }\n",
       "</style>\n",
       "<table border=\"1\" class=\"dataframe\">\n",
       "  <thead>\n",
       "    <tr style=\"text-align: right;\">\n",
       "      <th></th>\n",
       "      <th>STOCK_CODE</th>\n",
       "      <th>open</th>\n",
       "      <th>close</th>\n",
       "      <th>maximum</th>\n",
       "      <th>minimum</th>\n",
       "      <th>volume</th>\n",
       "      <th>TURNOVER</th>\n",
       "      <th>Turnover_CUMSUM</th>\n",
       "    </tr>\n",
       "    <tr>\n",
       "      <th>day</th>\n",
       "      <th></th>\n",
       "      <th></th>\n",
       "      <th></th>\n",
       "      <th></th>\n",
       "      <th></th>\n",
       "      <th></th>\n",
       "      <th></th>\n",
       "      <th></th>\n",
       "    </tr>\n",
       "  </thead>\n",
       "  <tbody>\n",
       "    <tr>\n",
       "      <th>2001-08-27</th>\n",
       "      <td>6005191</td>\n",
       "      <td>34.51</td>\n",
       "      <td>35.55</td>\n",
       "      <td>37.78</td>\n",
       "      <td>32.85</td>\n",
       "      <td>406318</td>\n",
       "      <td>1410347008</td>\n",
       "      <td>1.410347e+09</td>\n",
       "    </tr>\n",
       "    <tr>\n",
       "      <th>2001-08-28</th>\n",
       "      <td>6005191</td>\n",
       "      <td>34.99</td>\n",
       "      <td>36.86</td>\n",
       "      <td>37.00</td>\n",
       "      <td>34.61</td>\n",
       "      <td>129647</td>\n",
       "      <td>463463008</td>\n",
       "      <td>1.873810e+09</td>\n",
       "    </tr>\n",
       "    <tr>\n",
       "      <th>2001-08-29</th>\n",
       "      <td>6005191</td>\n",
       "      <td>36.98</td>\n",
       "      <td>36.38</td>\n",
       "      <td>37.00</td>\n",
       "      <td>36.10</td>\n",
       "      <td>53252</td>\n",
       "      <td>194689000</td>\n",
       "      <td>2.068499e+09</td>\n",
       "    </tr>\n",
       "    <tr>\n",
       "      <th>2001-08-30</th>\n",
       "      <td>6005191</td>\n",
       "      <td>36.28</td>\n",
       "      <td>37.10</td>\n",
       "      <td>37.51</td>\n",
       "      <td>36.00</td>\n",
       "      <td>48013</td>\n",
       "      <td>177558000</td>\n",
       "      <td>2.246057e+09</td>\n",
       "    </tr>\n",
       "    <tr>\n",
       "      <th>2001-08-31</th>\n",
       "      <td>6005191</td>\n",
       "      <td>37.15</td>\n",
       "      <td>37.01</td>\n",
       "      <td>37.62</td>\n",
       "      <td>36.80</td>\n",
       "      <td>23231</td>\n",
       "      <td>86231000</td>\n",
       "      <td>2.332288e+09</td>\n",
       "    </tr>\n",
       "    <tr>\n",
       "      <th>...</th>\n",
       "      <td>...</td>\n",
       "      <td>...</td>\n",
       "      <td>...</td>\n",
       "      <td>...</td>\n",
       "      <td>...</td>\n",
       "      <td>...</td>\n",
       "      <td>...</td>\n",
       "      <td>...</td>\n",
       "    </tr>\n",
       "    <tr>\n",
       "      <th>2018-10-29</th>\n",
       "      <td>6005191</td>\n",
       "      <td>549.09</td>\n",
       "      <td>549.09</td>\n",
       "      <td>549.09</td>\n",
       "      <td>549.09</td>\n",
       "      <td>49076</td>\n",
       "      <td>2694714080</td>\n",
       "      <td>2.629469e+12</td>\n",
       "    </tr>\n",
       "    <tr>\n",
       "      <th>2018-10-30</th>\n",
       "      <td>6005191</td>\n",
       "      <td>510.00</td>\n",
       "      <td>524.00</td>\n",
       "      <td>543.00</td>\n",
       "      <td>509.02</td>\n",
       "      <td>204397</td>\n",
       "      <td>10663392512</td>\n",
       "      <td>2.640133e+12</td>\n",
       "    </tr>\n",
       "    <tr>\n",
       "      <th>2018-10-31</th>\n",
       "      <td>6005191</td>\n",
       "      <td>527.00</td>\n",
       "      <td>548.90</td>\n",
       "      <td>555.00</td>\n",
       "      <td>522.00</td>\n",
       "      <td>96885</td>\n",
       "      <td>5239853056</td>\n",
       "      <td>2.645373e+12</td>\n",
       "    </tr>\n",
       "    <tr>\n",
       "      <th>2018-11-01</th>\n",
       "      <td>6005191</td>\n",
       "      <td>555.00</td>\n",
       "      <td>563.00</td>\n",
       "      <td>585.50</td>\n",
       "      <td>551.25</td>\n",
       "      <td>98107</td>\n",
       "      <td>5581027328</td>\n",
       "      <td>2.650954e+12</td>\n",
       "    </tr>\n",
       "    <tr>\n",
       "      <th>2018-11-02</th>\n",
       "      <td>6005191</td>\n",
       "      <td>585.00</td>\n",
       "      <td>599.90</td>\n",
       "      <td>600.00</td>\n",
       "      <td>572.24</td>\n",
       "      <td>89157</td>\n",
       "      <td>5227695104</td>\n",
       "      <td>2.656181e+12</td>\n",
       "    </tr>\n",
       "  </tbody>\n",
       "</table>\n",
       "<p>4094 rows × 8 columns</p>\n",
       "</div>"
      ],
      "text/plain": [
       "            STOCK_CODE    open   close  maximum  minimum  volume     TURNOVER  \\\n",
       "day                                                                             \n",
       "2001-08-27     6005191   34.51   35.55    37.78    32.85  406318   1410347008   \n",
       "2001-08-28     6005191   34.99   36.86    37.00    34.61  129647    463463008   \n",
       "2001-08-29     6005191   36.98   36.38    37.00    36.10   53252    194689000   \n",
       "2001-08-30     6005191   36.28   37.10    37.51    36.00   48013    177558000   \n",
       "2001-08-31     6005191   37.15   37.01    37.62    36.80   23231     86231000   \n",
       "...                ...     ...     ...      ...      ...     ...          ...   \n",
       "2018-10-29     6005191  549.09  549.09   549.09   549.09   49076   2694714080   \n",
       "2018-10-30     6005191  510.00  524.00   543.00   509.02  204397  10663392512   \n",
       "2018-10-31     6005191  527.00  548.90   555.00   522.00   96885   5239853056   \n",
       "2018-11-01     6005191  555.00  563.00   585.50   551.25   98107   5581027328   \n",
       "2018-11-02     6005191  585.00  599.90   600.00   572.24   89157   5227695104   \n",
       "\n",
       "            Turnover_CUMSUM  \n",
       "day                          \n",
       "2001-08-27     1.410347e+09  \n",
       "2001-08-28     1.873810e+09  \n",
       "2001-08-29     2.068499e+09  \n",
       "2001-08-30     2.246057e+09  \n",
       "2001-08-31     2.332288e+09  \n",
       "...                     ...  \n",
       "2018-10-29     2.629469e+12  \n",
       "2018-10-30     2.640133e+12  \n",
       "2018-10-31     2.645373e+12  \n",
       "2018-11-01     2.650954e+12  \n",
       "2018-11-02     2.656181e+12  \n",
       "\n",
       "[4094 rows x 8 columns]"
      ]
     },
     "execution_count": 80,
     "metadata": {},
     "output_type": "execute_result"
    }
   ],
   "source": [
    "dataframe[\"Turnover_CUMSUM\"] = cum_sum\n",
    "dataframe"
   ]
  },
  {
   "cell_type": "code",
   "execution_count": 81,
   "metadata": {},
   "outputs": [
    {
     "data": {
      "text/plain": [
       "<matplotlib.axes._subplots.AxesSubplot at 0x224130f7d48>"
      ]
     },
     "execution_count": 81,
     "metadata": {},
     "output_type": "execute_result"
    },
    {
     "data": {
      "image/png": "[encoded data removed]",
      "text/plain": [
       "<Figure size 432x288 with 1 Axes>"
      ]
     },
     "metadata": {
      "needs_background": "light"
     },
     "output_type": "display_data"
    }
   ],
   "source": [
    "dataframe[\"Turnover_CUMSUM\"].plot()"
   ]
  },
  {
   "cell_type": "markdown",
   "metadata": {},
   "source": [
    "## Pandas与匿名函数"
   ]
  },
  {
   "cell_type": "raw",
   "metadata": {},
   "source": [
    "变量命名是一个很考验“英文储备”的技术活，如何合理地分配我们大脑中有限地储备呢？开源的话，短时间怕是来不及了，那我们就节流吧！对于一些功能简单、复用率不高的函数，我们就不给它命名了呗，随用随弃，用完即走，多好！这类函数，我们称之为匿名函数。"
   ]
  },
  {
   "cell_type": "markdown",
   "metadata": {},
   "source": [
    "### Python与匿名函数"
   ]
  },
  {
   "cell_type": "raw",
   "metadata": {},
   "source": [
    "匿名函数在Python的应用中非常广泛。例如对一个字典进行排序\n",
    "python允许用lambda关键字创造匿名函数。匿名是不需要以标准的方式来声明"
   ]
  },
  {
   "cell_type": "code",
   "execution_count": 82,
   "metadata": {},
   "outputs": [],
   "source": [
    "data = {\"Jack\": 182, \"Tom\":176, \"Jerry\":179, \"Emily\":165, \"Sawyer\":170, \"Chris\":160}"
   ]
  },
  {
   "cell_type": "markdown",
   "metadata": {},
   "source": [
    "字典**items()**方法,返回可遍历的(键, 值) 元组数组"
   ]
  },
  {
   "cell_type": "code",
   "execution_count": 83,
   "metadata": {},
   "outputs": [
    {
     "data": {
      "text/plain": [
       "dict_items([('Jack', 182), ('Tom', 176), ('Jerry', 179), ('Emily', 165), ('Sawyer', 170), ('Chris', 160)])"
      ]
     },
     "execution_count": 83,
     "metadata": {},
     "output_type": "execute_result"
    }
   ],
   "source": [
    "data.items()"
   ]
  },
  {
   "cell_type": "markdown",
   "metadata": {},
   "source": [
    "**sorted()**方法,key=lambda x: x[1] 为对前面的对象中的第二维数据（即value）的值进行排序。 key=lambda  变量：变量[维数]"
   ]
  },
  {
   "cell_type": "code",
   "execution_count": 84,
   "metadata": {},
   "outputs": [
    {
     "data": {
      "text/plain": [
       "{'Jack': 182,\n",
       " 'Jerry': 179,\n",
       " 'Tom': 176,\n",
       " 'Sawyer': 170,\n",
       " 'Emily': 165,\n",
       " 'Chris': 160}"
      ]
     },
     "execution_count": 84,
     "metadata": {},
     "output_type": "execute_result"
    }
   ],
   "source": [
    "# 按照字典的value值，逆序排序\n",
    "data_rev = sorted(data.items(), key=lambda x:x[1], reverse=True)\n",
    "dict(data_rev)"
   ]
  },
  {
   "cell_type": "code",
   "execution_count": 85,
   "metadata": {},
   "outputs": [
    {
     "data": {
      "text/plain": [
       "{'Chris': 160,\n",
       " 'Emily': 165,\n",
       " 'Jack': 182,\n",
       " 'Jerry': 179,\n",
       " 'Sawyer': 170,\n",
       " 'Tom': 176}"
      ]
     },
     "execution_count": 85,
     "metadata": {},
     "output_type": "execute_result"
    }
   ],
   "source": [
    "# 按照字典的key值，自然顺序排序\n",
    "data_nrev = sorted(data.items(), key=lambda x:x[0], reverse=False)\n",
    "dict(data_nrev)"
   ]
  },
  {
   "cell_type": "markdown",
   "metadata": {},
   "source": [
    "所谓的**函数式编程**，是指一种高度抽象的编程范式，即可以把函数作为参数传入，而能够接收函数作为参数传入的函数我们称之为高阶函数。常见的高阶函数有<font color=red>map、reduce和filter</font>等。  \n",
    "**map()**----第一个参数 function 以参数序列中的每一个元素调用 function 函数，返回包含每次 function 函数返回值的新列表。   \n",
    "**reduce()**----函数会对参数序列中元素进行累积。函数将一个数据集合（链表，元组等）中的所有数据进行下列操作：用传给 reduce 中的函数 function（有两个参数）先对集合中的第 1、2 个元素进行操作，得到的结果再与第三个数据用 function 函数运算，最后得到一个结果。    \n",
    "**filter()**----函数用于过滤序列，过滤掉不符合条件的元素，返回由符合条件元素组成的新列表。\n",
    "该接收两个参数，第一个为函数，第二个为序列，序列的每个元素作为参数传递给函数进行判断，然后返回 True 或 False，最后将返回 True 的元素放到新列表中。"
   ]
  },
  {
   "cell_type": "code",
   "execution_count": 86,
   "metadata": {},
   "outputs": [],
   "source": [
    "names = [\"Larissa\", \"ivy\", \"LUCY\", \"aBBY\", \"martion\", \"allen\"]"
   ]
  },
  {
   "cell_type": "code",
   "execution_count": 87,
   "metadata": {},
   "outputs": [
    {
     "data": {
      "text/plain": [
       "['Larissa', 'Ivy', 'Lucy', 'Abby', 'Martion', 'Allen']"
      ]
     },
     "execution_count": 87,
     "metadata": {},
     "output_type": "execute_result"
    }
   ],
   "source": [
    "list(map(lambda x: x[0].upper()+x[1:].lower(), names))"
   ]
  },
  {
   "cell_type": "markdown",
   "metadata": {},
   "source": [
    "### Pandas与函数"
   ]
  },
  {
   "cell_type": "raw",
   "metadata": {},
   "source": [
    "在实际的数据清洗的过程中，因为常常面对的是大量的结构化数据，因此在处理数据时，优先选择批量处理的方式，即在一行语句中，优先实现对某一行或者某一列的统一处理，这样不仅仅使得程序更加易读，而且程序的运行效率也会答复提高。为了实现这样的处理方式，我们这里给大家介绍两个行之有效的函数。"
   ]
  },
  {
   "cell_type": "markdown",
   "metadata": {},
   "source": [
    "#### map()函数"
   ]
  },
  {
   "cell_type": "raw",
   "metadata": {},
   "source": [
    "map函数的能力是，将某一个规则作用于一个Series对象，这个规则可以是一个函数，或者是一个字典。例如在如下的案例中，我们把英文的名字转化成中文的名字。"
   ]
  },
  {
   "cell_type": "code",
   "execution_count": 88,
   "metadata": {},
   "outputs": [],
   "source": [
    "file = r\"C:\\Users\\16526\\Desktop\\电网项目\\dataset\\chapter 3\\3-5 GDP.csv\""
   ]
  },
  {
   "cell_type": "code",
   "execution_count": 89,
   "metadata": {},
   "outputs": [],
   "source": [
    "df_GDP = pd.read_csv(file, header=0)"
   ]
  },
  {
   "cell_type": "code",
   "execution_count": 90,
   "metadata": {},
   "outputs": [
    {
     "data": {
      "text/html": [
       "<div>\n",
       "<style scoped>\n",
       "    .dataframe tbody tr th:only-of-type {\n",
       "        vertical-align: middle;\n",
       "    }\n",
       "\n",
       "    .dataframe tbody tr th {\n",
       "        vertical-align: top;\n",
       "    }\n",
       "\n",
       "    .dataframe thead th {\n",
       "        text-align: right;\n",
       "    }\n",
       "</style>\n",
       "<table border=\"1\" class=\"dataframe\">\n",
       "  <thead>\n",
       "    <tr style=\"text-align: right;\">\n",
       "      <th></th>\n",
       "      <th>Country Name</th>\n",
       "      <th>longitude</th>\n",
       "      <th>latitude</th>\n",
       "      <th>1960</th>\n",
       "      <th>1961</th>\n",
       "      <th>1962</th>\n",
       "      <th>1963</th>\n",
       "      <th>1964</th>\n",
       "      <th>1965</th>\n",
       "      <th>1966</th>\n",
       "      <th>...</th>\n",
       "      <th>2009</th>\n",
       "      <th>2010</th>\n",
       "      <th>2011</th>\n",
       "      <th>2012</th>\n",
       "      <th>2013</th>\n",
       "      <th>2014</th>\n",
       "      <th>2015</th>\n",
       "      <th>2016</th>\n",
       "      <th>2017</th>\n",
       "      <th>2018</th>\n",
       "    </tr>\n",
       "  </thead>\n",
       "  <tbody>\n",
       "    <tr>\n",
       "      <th>0</th>\n",
       "      <td>United Kingdom</td>\n",
       "      <td>-0.07858</td>\n",
       "      <td>51.50476</td>\n",
       "      <td>7.232805e+10</td>\n",
       "      <td>7.669436e+10</td>\n",
       "      <td>8.060194e+10</td>\n",
       "      <td>8.544377e+10</td>\n",
       "      <td>9.338760e+10</td>\n",
       "      <td>1.010000e+11</td>\n",
       "      <td>1.070000e+11</td>\n",
       "      <td>...</td>\n",
       "      <td>2390000000000</td>\n",
       "      <td>2450000000000</td>\n",
       "      <td>2630000000000</td>\n",
       "      <td>2680000000000</td>\n",
       "      <td>2750000000000</td>\n",
       "      <td>3030000000000</td>\n",
       "      <td>2900000000000</td>\n",
       "      <td>2660000000000</td>\n",
       "      <td>2640000000000</td>\n",
       "      <td>2830000000000</td>\n",
       "    </tr>\n",
       "    <tr>\n",
       "      <th>1</th>\n",
       "      <td>United States</td>\n",
       "      <td>-77.04026</td>\n",
       "      <td>38.85169</td>\n",
       "      <td>5.430000e+11</td>\n",
       "      <td>5.630000e+11</td>\n",
       "      <td>6.050000e+11</td>\n",
       "      <td>6.390000e+11</td>\n",
       "      <td>6.860000e+11</td>\n",
       "      <td>7.440000e+11</td>\n",
       "      <td>8.150000e+11</td>\n",
       "      <td>...</td>\n",
       "      <td>14400000000000</td>\n",
       "      <td>15000000000000</td>\n",
       "      <td>15500000000000</td>\n",
       "      <td>16200000000000</td>\n",
       "      <td>16800000000000</td>\n",
       "      <td>17500000000000</td>\n",
       "      <td>18200000000000</td>\n",
       "      <td>18700000000000</td>\n",
       "      <td>19500000000000</td>\n",
       "      <td>20500000000000</td>\n",
       "    </tr>\n",
       "    <tr>\n",
       "      <th>2</th>\n",
       "      <td>Russian Federation</td>\n",
       "      <td>37.59411</td>\n",
       "      <td>55.75306</td>\n",
       "      <td>NaN</td>\n",
       "      <td>NaN</td>\n",
       "      <td>NaN</td>\n",
       "      <td>NaN</td>\n",
       "      <td>NaN</td>\n",
       "      <td>NaN</td>\n",
       "      <td>NaN</td>\n",
       "      <td>...</td>\n",
       "      <td>1220000000000</td>\n",
       "      <td>1520000000000</td>\n",
       "      <td>2050000000000</td>\n",
       "      <td>2210000000000</td>\n",
       "      <td>2300000000000</td>\n",
       "      <td>2060000000000</td>\n",
       "      <td>1360000000000</td>\n",
       "      <td>1280000000000</td>\n",
       "      <td>1580000000000</td>\n",
       "      <td>1660000000000</td>\n",
       "    </tr>\n",
       "    <tr>\n",
       "      <th>3</th>\n",
       "      <td>France</td>\n",
       "      <td>2.29363</td>\n",
       "      <td>48.87372</td>\n",
       "      <td>6.265147e+10</td>\n",
       "      <td>6.834674e+10</td>\n",
       "      <td>7.631378e+10</td>\n",
       "      <td>8.555111e+10</td>\n",
       "      <td>9.490659e+10</td>\n",
       "      <td>1.020000e+11</td>\n",
       "      <td>1.110000e+11</td>\n",
       "      <td>...</td>\n",
       "      <td>2690000000000</td>\n",
       "      <td>2640000000000</td>\n",
       "      <td>2860000000000</td>\n",
       "      <td>2680000000000</td>\n",
       "      <td>2810000000000</td>\n",
       "      <td>2850000000000</td>\n",
       "      <td>2440000000000</td>\n",
       "      <td>2470000000000</td>\n",
       "      <td>2590000000000</td>\n",
       "      <td>2780000000000</td>\n",
       "    </tr>\n",
       "    <tr>\n",
       "      <th>4</th>\n",
       "      <td>China</td>\n",
       "      <td>116.39213</td>\n",
       "      <td>39.90071</td>\n",
       "      <td>5.971647e+10</td>\n",
       "      <td>5.005687e+10</td>\n",
       "      <td>4.720936e+10</td>\n",
       "      <td>5.070680e+10</td>\n",
       "      <td>5.970834e+10</td>\n",
       "      <td>7.043627e+10</td>\n",
       "      <td>7.672029e+10</td>\n",
       "      <td>...</td>\n",
       "      <td>5100000000000</td>\n",
       "      <td>6090000000000</td>\n",
       "      <td>7550000000000</td>\n",
       "      <td>8530000000000</td>\n",
       "      <td>9570000000000</td>\n",
       "      <td>10400000000000</td>\n",
       "      <td>11000000000000</td>\n",
       "      <td>11100000000000</td>\n",
       "      <td>12100000000000</td>\n",
       "      <td>13600000000000</td>\n",
       "    </tr>\n",
       "  </tbody>\n",
       "</table>\n",
       "<p>5 rows × 62 columns</p>\n",
       "</div>"
      ],
      "text/plain": [
       "         Country Name  longitude  latitude          1960          1961  \\\n",
       "0      United Kingdom   -0.07858  51.50476  7.232805e+10  7.669436e+10   \n",
       "1       United States  -77.04026  38.85169  5.430000e+11  5.630000e+11   \n",
       "2  Russian Federation   37.59411  55.75306           NaN           NaN   \n",
       "3              France    2.29363  48.87372  6.265147e+10  6.834674e+10   \n",
       "4               China  116.39213  39.90071  5.971647e+10  5.005687e+10   \n",
       "\n",
       "           1962          1963          1964          1965          1966  ...  \\\n",
       "0  8.060194e+10  8.544377e+10  9.338760e+10  1.010000e+11  1.070000e+11  ...   \n",
       "1  6.050000e+11  6.390000e+11  6.860000e+11  7.440000e+11  8.150000e+11  ...   \n",
       "2           NaN           NaN           NaN           NaN           NaN  ...   \n",
       "3  7.631378e+10  8.555111e+10  9.490659e+10  1.020000e+11  1.110000e+11  ...   \n",
       "4  4.720936e+10  5.070680e+10  5.970834e+10  7.043627e+10  7.672029e+10  ...   \n",
       "\n",
       "             2009            2010            2011            2012  \\\n",
       "0   2390000000000   2450000000000   2630000000000   2680000000000   \n",
       "1  14400000000000  15000000000000  15500000000000  16200000000000   \n",
       "2   1220000000000   1520000000000   2050000000000   2210000000000   \n",
       "3   2690000000000   2640000000000   2860000000000   2680000000000   \n",
       "4   5100000000000   6090000000000   7550000000000   8530000000000   \n",
       "\n",
       "             2013            2014            2015            2016  \\\n",
       "0   2750000000000   3030000000000   2900000000000   2660000000000   \n",
       "1  16800000000000  17500000000000  18200000000000  18700000000000   \n",
       "2   2300000000000   2060000000000   1360000000000   1280000000000   \n",
       "3   2810000000000   2850000000000   2440000000000   2470000000000   \n",
       "4   9570000000000  10400000000000  11000000000000  11100000000000   \n",
       "\n",
       "             2017            2018  \n",
       "0   2640000000000   2830000000000  \n",
       "1  19500000000000  20500000000000  \n",
       "2   1580000000000   1660000000000  \n",
       "3   2590000000000   2780000000000  \n",
       "4  12100000000000  13600000000000  \n",
       "\n",
       "[5 rows x 62 columns]"
      ]
     },
     "execution_count": 90,
     "metadata": {},
     "output_type": "execute_result"
    }
   ],
   "source": [
    "df_GDP"
   ]
  },
  {
   "cell_type": "code",
   "execution_count": 91,
   "metadata": {},
   "outputs": [],
   "source": [
    "# 英文格式转化成中文\n",
    "country_dict = {\n",
    "    \"United Kingdom\": \"英国\", \n",
    "    \"United States\": \"美国\", \n",
    "    \"Russian Federation\": \"俄罗斯\", \n",
    "    \"France\": \"法国\", \n",
    "    \"China\": \"中国\" \n",
    "}"
   ]
  },
  {
   "cell_type": "markdown",
   "metadata": {},
   "source": [
    "**Series.map(self, arg, na_action=None)**   \n",
    "参数类型为 dict--------Series.map({'cat': 'kitten', 'dog': 'puppy'})  \n",
    "参数类型为 function----Series.map('I am a {}'.format)   \n",
    "若不想对NaN值使用参数中的 function ， 参数 na_tion=‘ignore"
   ]
  },
  {
   "cell_type": "code",
   "execution_count": 92,
   "metadata": {},
   "outputs": [
    {
     "data": {
      "text/plain": [
       "0     英国\n",
       "1     美国\n",
       "2    俄罗斯\n",
       "3     法国\n",
       "4     中国\n",
       "Name: 国家, dtype: object"
      ]
     },
     "execution_count": 92,
     "metadata": {},
     "output_type": "execute_result"
    }
   ],
   "source": [
    "df_GDP[\"国家\"] = df_GDP[\"Country Name\"].map(country_dict)\n",
    "df_GDP[\"国家\"]"
   ]
  },
  {
   "cell_type": "markdown",
   "metadata": {},
   "source": [
    "#### apply()函数"
   ]
  },
  {
   "cell_type": "raw",
   "metadata": {},
   "source": [
    "apply()函数的功能是将一个自定义函数作用于DataFrame的行或者列上，其功能相较于map()函数有较大的拓展。"
   ]
  },
  {
   "cell_type": "markdown",
   "metadata": {},
   "source": [
    "##### 函数与匿名函数"
   ]
  },
  {
   "cell_type": "code",
   "execution_count": 93,
   "metadata": {},
   "outputs": [
    {
     "data": {
      "text/plain": [
       "0     19.50万亿人民币\n",
       "1    141.28万亿人民币\n",
       "2     11.44万亿人民币\n",
       "3     19.16万亿人民币\n",
       "4     93.73万亿人民币\n",
       "Name: 2018, dtype: object"
      ]
     },
     "execution_count": 93,
     "metadata": {},
     "output_type": "execute_result"
    }
   ],
   "source": [
    "# 定义函数:将数字类型美元计价GDP的变量转换为以万亿人民币为单位计价的数据\n",
    "def dollar_to_rmb(x):\n",
    "    if np.isnan(x):\n",
    "        return np.nan\n",
    "    else:\n",
    "        _value = x / 1000000000000 * 6.8918\n",
    "        return \"%.2f万亿人民币\"%(_value)\n",
    "# 利用apply，将函数dollar_to_rmb的功能，作用到\"2018\"列，进行列方向的计算\n",
    "df_GDP[\"2018\"].apply(dollar_to_rmb)"
   ]
  },
  {
   "cell_type": "code",
   "execution_count": 94,
   "metadata": {},
   "outputs": [
    {
     "data": {
      "text/plain": [
       "0     19.50万亿人民币\n",
       "1    141.28万亿人民币\n",
       "2     11.44万亿人民币\n",
       "3     19.16万亿人民币\n",
       "4     93.73万亿人民币\n",
       "Name: 2018, dtype: object"
      ]
     },
     "execution_count": 94,
     "metadata": {},
     "output_type": "execute_result"
    }
   ],
   "source": [
    "df_GDP[\"2018\"].apply(\n",
    "    lambda x: x if np.isnan(x) else \"%.2f万亿人民币\"%(x / 1000000000000 * 6.8918))"
   ]
  },
  {
   "cell_type": "markdown",
   "metadata": {},
   "source": [
    "##### apply()函数的运算方向"
   ]
  },
  {
   "cell_type": "raw",
   "metadata": {},
   "source": [
    "在上面的逻辑中，apply()函数作用的数据域是一维的，因此我们并没有去指定函数的运算方向。但是如果我们是对一个二维的数组做运算呢？例如这里，我希望看一下主要国家的2018年相对2017年的GDP增长率。\n",
    "其实很简单，仅需要额外指定一个运算方向axis即可，在前面的章节里，我们强调过，0表示纵向计算，1表示横向计算。显然这里计算GDP增长率，是一个横向计算的过程。"
   ]
  },
  {
   "cell_type": "code",
   "execution_count": 95,
   "metadata": {},
   "outputs": [
    {
     "data": {
      "text/plain": [
       "0     7.20%\n",
       "1     5.13%\n",
       "2     5.06%\n",
       "3     7.34%\n",
       "4    12.40%\n",
       "dtype: object"
      ]
     },
     "execution_count": 95,
     "metadata": {},
     "output_type": "execute_result"
    }
   ],
   "source": [
    "# 定义了一个计算GDP增长率的匿名函数\n",
    "df_GDP[[\"2017\", \"2018\"]].apply(\n",
    "    lambda x: \"%.2f\"%((x[\"2018\"]-x[\"2017\"])/x[\"2017\"]*100)+\"%\", axis=1)"
   ]
  },
  {
   "cell_type": "markdown",
   "metadata": {},
   "source": [
    "##### applymap()函数"
   ]
  },
  {
   "cell_type": "raw",
   "metadata": {},
   "source": [
    "applymap()函数可以认为是apply()函数的扩展，其功能是将自定义函数作用于DataFrame的所有元素 。例如我们希望把文件中的全部年份的GDP数据，都换算成国人便于阅读格式"
   ]
  },
  {
   "cell_type": "code",
   "execution_count": 96,
   "metadata": {},
   "outputs": [
    {
     "data": {
      "text/html": [
       "<div>\n",
       "<style scoped>\n",
       "    .dataframe tbody tr th:only-of-type {\n",
       "        vertical-align: middle;\n",
       "    }\n",
       "\n",
       "    .dataframe tbody tr th {\n",
       "        vertical-align: top;\n",
       "    }\n",
       "\n",
       "    .dataframe thead th {\n",
       "        text-align: right;\n",
       "    }\n",
       "</style>\n",
       "<table border=\"1\" class=\"dataframe\">\n",
       "  <thead>\n",
       "    <tr style=\"text-align: right;\">\n",
       "      <th></th>\n",
       "      <th>1960</th>\n",
       "      <th>1961</th>\n",
       "      <th>1962</th>\n",
       "      <th>1963</th>\n",
       "      <th>1964</th>\n",
       "      <th>1965</th>\n",
       "      <th>1966</th>\n",
       "      <th>1967</th>\n",
       "      <th>1968</th>\n",
       "      <th>1969</th>\n",
       "      <th>...</th>\n",
       "      <th>2009</th>\n",
       "      <th>2010</th>\n",
       "      <th>2011</th>\n",
       "      <th>2012</th>\n",
       "      <th>2013</th>\n",
       "      <th>2014</th>\n",
       "      <th>2015</th>\n",
       "      <th>2016</th>\n",
       "      <th>2017</th>\n",
       "      <th>2018</th>\n",
       "    </tr>\n",
       "  </thead>\n",
       "  <tbody>\n",
       "    <tr>\n",
       "      <th>0</th>\n",
       "      <td>0.50万亿人民币</td>\n",
       "      <td>0.53万亿人民币</td>\n",
       "      <td>0.56万亿人民币</td>\n",
       "      <td>0.59万亿人民币</td>\n",
       "      <td>0.64万亿人民币</td>\n",
       "      <td>0.70万亿人民币</td>\n",
       "      <td>0.74万亿人民币</td>\n",
       "      <td>0.76万亿人民币</td>\n",
       "      <td>0.72万亿人民币</td>\n",
       "      <td>0.78万亿人民币</td>\n",
       "      <td>...</td>\n",
       "      <td>16.47万亿人民币</td>\n",
       "      <td>16.88万亿人民币</td>\n",
       "      <td>18.13万亿人民币</td>\n",
       "      <td>18.47万亿人民币</td>\n",
       "      <td>18.95万亿人民币</td>\n",
       "      <td>20.88万亿人民币</td>\n",
       "      <td>19.99万亿人民币</td>\n",
       "      <td>18.33万亿人民币</td>\n",
       "      <td>18.19万亿人民币</td>\n",
       "      <td>19.50万亿人民币</td>\n",
       "    </tr>\n",
       "    <tr>\n",
       "      <th>1</th>\n",
       "      <td>3.74万亿人民币</td>\n",
       "      <td>3.88万亿人民币</td>\n",
       "      <td>4.17万亿人民币</td>\n",
       "      <td>4.40万亿人民币</td>\n",
       "      <td>4.73万亿人民币</td>\n",
       "      <td>5.13万亿人民币</td>\n",
       "      <td>5.62万亿人民币</td>\n",
       "      <td>5.94万亿人民币</td>\n",
       "      <td>6.50万亿人民币</td>\n",
       "      <td>7.03万亿人民币</td>\n",
       "      <td>...</td>\n",
       "      <td>99.24万亿人民币</td>\n",
       "      <td>103.38万亿人民币</td>\n",
       "      <td>106.82万亿人民币</td>\n",
       "      <td>111.65万亿人民币</td>\n",
       "      <td>115.78万亿人民币</td>\n",
       "      <td>120.61万亿人民币</td>\n",
       "      <td>125.43万亿人民币</td>\n",
       "      <td>128.88万亿人民币</td>\n",
       "      <td>134.39万亿人民币</td>\n",
       "      <td>141.28万亿人民币</td>\n",
       "    </tr>\n",
       "    <tr>\n",
       "      <th>2</th>\n",
       "      <td>NaN</td>\n",
       "      <td>NaN</td>\n",
       "      <td>NaN</td>\n",
       "      <td>NaN</td>\n",
       "      <td>NaN</td>\n",
       "      <td>NaN</td>\n",
       "      <td>NaN</td>\n",
       "      <td>NaN</td>\n",
       "      <td>NaN</td>\n",
       "      <td>NaN</td>\n",
       "      <td>...</td>\n",
       "      <td>8.41万亿人民币</td>\n",
       "      <td>10.48万亿人民币</td>\n",
       "      <td>14.13万亿人民币</td>\n",
       "      <td>15.23万亿人民币</td>\n",
       "      <td>15.85万亿人民币</td>\n",
       "      <td>14.20万亿人民币</td>\n",
       "      <td>9.37万亿人民币</td>\n",
       "      <td>8.82万亿人民币</td>\n",
       "      <td>10.89万亿人民币</td>\n",
       "      <td>11.44万亿人民币</td>\n",
       "    </tr>\n",
       "    <tr>\n",
       "      <th>3</th>\n",
       "      <td>0.43万亿人民币</td>\n",
       "      <td>0.47万亿人民币</td>\n",
       "      <td>0.53万亿人民币</td>\n",
       "      <td>0.59万亿人民币</td>\n",
       "      <td>0.65万亿人民币</td>\n",
       "      <td>0.70万亿人民币</td>\n",
       "      <td>0.76万亿人民币</td>\n",
       "      <td>0.82万亿人民币</td>\n",
       "      <td>0.90万亿人民币</td>\n",
       "      <td>0.97万亿人民币</td>\n",
       "      <td>...</td>\n",
       "      <td>18.54万亿人民币</td>\n",
       "      <td>18.19万亿人民币</td>\n",
       "      <td>19.71万亿人民币</td>\n",
       "      <td>18.47万亿人民币</td>\n",
       "      <td>19.37万亿人民币</td>\n",
       "      <td>19.64万亿人民币</td>\n",
       "      <td>16.82万亿人民币</td>\n",
       "      <td>17.02万亿人民币</td>\n",
       "      <td>17.85万亿人民币</td>\n",
       "      <td>19.16万亿人民币</td>\n",
       "    </tr>\n",
       "    <tr>\n",
       "      <th>4</th>\n",
       "      <td>0.41万亿人民币</td>\n",
       "      <td>0.34万亿人民币</td>\n",
       "      <td>0.33万亿人民币</td>\n",
       "      <td>0.35万亿人民币</td>\n",
       "      <td>0.41万亿人民币</td>\n",
       "      <td>0.49万亿人民币</td>\n",
       "      <td>0.53万亿人民币</td>\n",
       "      <td>0.50万亿人民币</td>\n",
       "      <td>0.49万亿人民币</td>\n",
       "      <td>0.55万亿人民币</td>\n",
       "      <td>...</td>\n",
       "      <td>35.15万亿人民币</td>\n",
       "      <td>41.97万亿人民币</td>\n",
       "      <td>52.03万亿人民币</td>\n",
       "      <td>58.79万亿人民币</td>\n",
       "      <td>65.95万亿人民币</td>\n",
       "      <td>71.67万亿人民币</td>\n",
       "      <td>75.81万亿人民币</td>\n",
       "      <td>76.50万亿人民币</td>\n",
       "      <td>83.39万亿人民币</td>\n",
       "      <td>93.73万亿人民币</td>\n",
       "    </tr>\n",
       "  </tbody>\n",
       "</table>\n",
       "<p>5 rows × 59 columns</p>\n",
       "</div>"
      ],
      "text/plain": [
       "        1960       1961       1962       1963       1964       1965  \\\n",
       "0  0.50万亿人民币  0.53万亿人民币  0.56万亿人民币  0.59万亿人民币  0.64万亿人民币  0.70万亿人民币   \n",
       "1  3.74万亿人民币  3.88万亿人民币  4.17万亿人民币  4.40万亿人民币  4.73万亿人民币  5.13万亿人民币   \n",
       "2        NaN        NaN        NaN        NaN        NaN        NaN   \n",
       "3  0.43万亿人民币  0.47万亿人民币  0.53万亿人民币  0.59万亿人民币  0.65万亿人民币  0.70万亿人民币   \n",
       "4  0.41万亿人民币  0.34万亿人民币  0.33万亿人民币  0.35万亿人民币  0.41万亿人民币  0.49万亿人民币   \n",
       "\n",
       "        1966       1967       1968       1969  ...        2009         2010  \\\n",
       "0  0.74万亿人民币  0.76万亿人民币  0.72万亿人民币  0.78万亿人民币  ...  16.47万亿人民币   16.88万亿人民币   \n",
       "1  5.62万亿人民币  5.94万亿人民币  6.50万亿人民币  7.03万亿人民币  ...  99.24万亿人民币  103.38万亿人民币   \n",
       "2        NaN        NaN        NaN        NaN  ...   8.41万亿人民币   10.48万亿人民币   \n",
       "3  0.76万亿人民币  0.82万亿人民币  0.90万亿人民币  0.97万亿人民币  ...  18.54万亿人民币   18.19万亿人民币   \n",
       "4  0.53万亿人民币  0.50万亿人民币  0.49万亿人民币  0.55万亿人民币  ...  35.15万亿人民币   41.97万亿人民币   \n",
       "\n",
       "          2011         2012         2013         2014         2015  \\\n",
       "0   18.13万亿人民币   18.47万亿人民币   18.95万亿人民币   20.88万亿人民币   19.99万亿人民币   \n",
       "1  106.82万亿人民币  111.65万亿人民币  115.78万亿人民币  120.61万亿人民币  125.43万亿人民币   \n",
       "2   14.13万亿人民币   15.23万亿人民币   15.85万亿人民币   14.20万亿人民币    9.37万亿人民币   \n",
       "3   19.71万亿人民币   18.47万亿人民币   19.37万亿人民币   19.64万亿人民币   16.82万亿人民币   \n",
       "4   52.03万亿人民币   58.79万亿人民币   65.95万亿人民币   71.67万亿人民币   75.81万亿人民币   \n",
       "\n",
       "          2016         2017         2018  \n",
       "0   18.33万亿人民币   18.19万亿人民币   19.50万亿人民币  \n",
       "1  128.88万亿人民币  134.39万亿人民币  141.28万亿人民币  \n",
       "2    8.82万亿人民币   10.89万亿人民币   11.44万亿人民币  \n",
       "3   17.02万亿人民币   17.85万亿人民币   19.16万亿人民币  \n",
       "4   76.50万亿人民币   83.39万亿人民币   93.73万亿人民币  \n",
       "\n",
       "[5 rows x 59 columns]"
      ]
     },
     "execution_count": 96,
     "metadata": {},
     "output_type": "execute_result"
    }
   ],
   "source": [
    "df_GDP.loc[:, \"1960\":\"2018\"].applymap(\n",
    "    lambda x: x if np.isnan(x) else \"%.2f万亿人民币\"%(x / 1000000000000 * 6.8918))"
   ]
  },
  {
   "cell_type": "markdown",
   "metadata": {},
   "source": [
    "##### 清洗与效率"
   ]
  },
  {
   "cell_type": "raw",
   "metadata": {},
   "source": [
    "1）利用索引和切片，进行自定义的元素级别的微操作；\n",
    "\n",
    "2）利用Pandas自带的遍历方法，进行操作；\n",
    "\n",
    "3）利用apply()、applymap()、map()函数，结合自定义函数进行清洗；\n",
    "\n",
    "4）利用Pandas内置的运算函数，进行。\n",
    "\n",
    "从效率来看，方法4是无疑最高的，矩阵的运算可以有效地解决并发的问题，进而提高效率；从编程自由度的角度看，方法3是最应用最广泛的，因为你可以方便地定义函数，进行定制化的数据清洗，非常好用。但是方法2和方法1并非不可取，在实际的使用过程中，因为数据的原始组织格式以及其混乱情况，往往超出我们的预期，当缺少合适的方法的时候，灵活利用遍历和索引的能力，实现文件的批处理方法，也是很不错的一个选择。"
   ]
  },
  {
   "cell_type": "markdown",
   "metadata": {},
   "source": [
    "## Pandas:数据清洗常用方法"
   ]
  },
  {
   "cell_type": "code",
   "execution_count": 99,
   "metadata": {},
   "outputs": [
    {
     "data": {
      "text/html": [
       "<div>\n",
       "<style scoped>\n",
       "    .dataframe tbody tr th:only-of-type {\n",
       "        vertical-align: middle;\n",
       "    }\n",
       "\n",
       "    .dataframe tbody tr th {\n",
       "        vertical-align: top;\n",
       "    }\n",
       "\n",
       "    .dataframe thead th {\n",
       "        text-align: right;\n",
       "    }\n",
       "</style>\n",
       "<table border=\"1\" class=\"dataframe\">\n",
       "  <thead>\n",
       "    <tr style=\"text-align: right;\">\n",
       "      <th></th>\n",
       "      <th>job</th>\n",
       "      <th>company</th>\n",
       "      <th>city</th>\n",
       "      <th>salary_min</th>\n",
       "      <th>salary_max</th>\n",
       "    </tr>\n",
       "  </thead>\n",
       "  <tbody>\n",
       "    <tr>\n",
       "      <th>0</th>\n",
       "      <td>金融数据分析师/助理</td>\n",
       "      <td>华壹信融投资管理（北京）有限责任...</td>\n",
       "      <td>北京</td>\n",
       "      <td>8333.33</td>\n",
       "      <td>12500.0</td>\n",
       "    </tr>\n",
       "    <tr>\n",
       "      <th>1</th>\n",
       "      <td>a（0经验可培养）金融数据分析师/助理</td>\n",
       "      <td>深圳市中创荣投资有限公司</td>\n",
       "      <td>深圳</td>\n",
       "      <td>8000.00</td>\n",
       "      <td>10000.0</td>\n",
       "    </tr>\n",
       "    <tr>\n",
       "      <th>2</th>\n",
       "      <td>初级运营数据分析专员 助理</td>\n",
       "      <td>知才（上海）信息技术有限公司</td>\n",
       "      <td>上海</td>\n",
       "      <td>6000.00</td>\n",
       "      <td>8000.0</td>\n",
       "    </tr>\n",
       "    <tr>\n",
       "      <th>3</th>\n",
       "      <td>销售数据分析</td>\n",
       "      <td>上海品星互联网信息技术有限公司</td>\n",
       "      <td>北京</td>\n",
       "      <td>5000.00</td>\n",
       "      <td>9000.0</td>\n",
       "    </tr>\n",
       "    <tr>\n",
       "      <th>4</th>\n",
       "      <td>数据分析经理</td>\n",
       "      <td>美菜网</td>\n",
       "      <td>上海</td>\n",
       "      <td>13000.00</td>\n",
       "      <td>17000.0</td>\n",
       "    </tr>\n",
       "  </tbody>\n",
       "</table>\n",
       "</div>"
      ],
      "text/plain": [
       "                   job              company city  salary_min  salary_max\n",
       "0           金融数据分析师/助理  华壹信融投资管理（北京）有限责任...   北京     8333.33     12500.0\n",
       "1  a（0经验可培养）金融数据分析师/助理         深圳市中创荣投资有限公司   深圳     8000.00     10000.0\n",
       "2        初级运营数据分析专员 助理       知才（上海）信息技术有限公司   上海     6000.00      8000.0\n",
       "3               销售数据分析      上海品星互联网信息技术有限公司   北京     5000.00      9000.0\n",
       "4               数据分析经理                  美菜网   上海    13000.00     17000.0"
      ]
     },
     "execution_count": 99,
     "metadata": {},
     "output_type": "execute_result"
    }
   ],
   "source": [
    "file = r\"C:\\Users\\16526\\Desktop\\电网项目\\dataset\\chapter 3\\3-6 jobs_51_info.csv\"\n",
    "jobs = pd.read_csv(file, header=0)\n",
    "jobs.head()"
   ]
  },
  {
   "cell_type": "code",
   "execution_count": 103,
   "metadata": {},
   "outputs": [
    {
     "name": "stdout",
     "output_type": "stream",
     "text": [
      "<class 'pandas.core.frame.DataFrame'>\n",
      "RangeIndex: 66766 entries, 0 to 66765\n",
      "Data columns (total 5 columns):\n",
      " #   Column      Non-Null Count  Dtype  \n",
      "---  ------      --------------  -----  \n",
      " 0   job         66766 non-null  object \n",
      " 1   company     66766 non-null  object \n",
      " 2   city        64290 non-null  object \n",
      " 3   salary_min  65457 non-null  float64\n",
      " 4   salary_max  65462 non-null  float64\n",
      "dtypes: float64(2), object(3)\n",
      "memory usage: 2.5+ MB\n"
     ]
    }
   ],
   "source": [
    "# 字段信息总览\n",
    "jobs.info()"
   ]
  },
  {
   "cell_type": "code",
   "execution_count": 104,
   "metadata": {},
   "outputs": [
    {
     "data": {
      "text/plain": [
       "array(['北京', '深圳', '上海', '武汉', '广州', '南京', '西安', '杭州', '成都', '苏州', nan],\n",
       "      dtype=object)"
      ]
     },
     "execution_count": 104,
     "metadata": {},
     "output_type": "execute_result"
    }
   ],
   "source": [
    "# 查看数据包含哪些城市\n",
    "jobs[\"city\"].unique()"
   ]
  },
  {
   "cell_type": "markdown",
   "metadata": {},
   "source": [
    "### 筛选与过滤"
   ]
  },
  {
   "cell_type": "raw",
   "metadata": {},
   "source": [
    "数据分析中的筛选逻辑都是利用布尔索引完成的，也就是根据筛选目标的要求，通过Series创建一个布尔类型的数组，进而完成目标筛选。创建布尔类型Series的方法有大小比较、isin()、isnull()、notnull()，以及它们之间的位运算。具体可以参考前文3.3节的逻辑运算部分。"
   ]
  },
  {
   "cell_type": "markdown",
   "metadata": {},
   "source": [
    "**isin()、isnull()、notnull()**"
   ]
  },
  {
   "cell_type": "code",
   "execution_count": 107,
   "metadata": {},
   "outputs": [
    {
     "data": {
      "text/plain": [
       "10329.230455194938"
      ]
     },
     "execution_count": 107,
     "metadata": {},
     "output_type": "execute_result"
    }
   ],
   "source": [
    "# skipna : 布尔值,默认为True.表示跳过NaN值.如果整行/列都是NaN,那么结果也就是NaN\n",
    "jobs[jobs[\"city\"] == \"北京\"][\"salary_min\"].mean(skipna=True)"
   ]
  },
  {
   "cell_type": "markdown",
   "metadata": {},
   "source": [
    "### 计算唯一值"
   ]
  },
  {
   "cell_type": "raw",
   "metadata": {},
   "source": [
    "数据分析中的筛选逻辑都是利用布尔索引完成的，也就是根据筛选目标的要求，通过Series创建一个布尔类型的数组，进而完成目标筛选。创建布尔类型Series的方法有大小比较、isin()、isnull()、notnull()，以及它们之间的位运算。具体可以参考前文3.3节的逻辑运算部分。"
   ]
  },
  {
   "cell_type": "raw",
   "metadata": {},
   "source": [
    "对于表示类目的字段，我们通常希望看到每个类目是如何分布的，这里给大家推荐一个非常实用的函数value_counts()， value_counts()是用来查看某一列表格中具体有多少种不同的类目，并计算每个类目的频次。 value_counts()是Series类型自带的方法"
   ]
  },
  {
   "cell_type": "markdown",
   "metadata": {},
   "source": [
    "**value_counts()**"
   ]
  },
  {
   "cell_type": "code",
   "execution_count": 111,
   "metadata": {},
   "outputs": [
    {
     "data": {
      "text/plain": [
       "广州    15634\n",
       "深圳    14448\n",
       "上海    13027\n",
       "北京     5093\n",
       "杭州     4615\n",
       "武汉     3682\n",
       "成都     2811\n",
       "南京     2165\n",
       "苏州     1486\n",
       "西安     1329\n",
       "Name: city, dtype: int64"
      ]
     },
     "execution_count": 111,
     "metadata": {},
     "output_type": "execute_result"
    }
   ],
   "source": [
    "jobs[\"city\"].value_counts()"
   ]
  },
  {
   "cell_type": "markdown",
   "metadata": {},
   "source": [
    "### 空值处理"
   ]
  },
  {
   "cell_type": "raw",
   "metadata": {},
   "source": [
    "在实际的生产环境中，空值处理是非常常见且需要掌握的一种能力。那空值如何处理？我们需要针对数据集具体情况具体分析。"
   ]
  },
  {
   "cell_type": "markdown",
   "metadata": {},
   "source": [
    "#### 丢弃空值"
   ]
  },
  {
   "cell_type": "raw",
   "metadata": {},
   "source": [
    "如果数据集很大，并且存在空值的样本很少，如果丢弃并不会对整个样本集造成很大影响的情况下，我们可以做丢弃处理。一种是我们基于刚刚学到的筛选方法，剔除掉含有空值的行或列。或者直接利用dropna函数。"
   ]
  },
  {
   "cell_type": "code",
   "execution_count": 114,
   "metadata": {},
   "outputs": [
    {
     "data": {
      "text/plain": [
       "(66766, 5)"
      ]
     },
     "execution_count": 114,
     "metadata": {},
     "output_type": "execute_result"
    }
   ],
   "source": [
    "jobs.shape"
   ]
  },
  {
   "cell_type": "markdown",
   "metadata": {},
   "source": [
    "**dropna函数**"
   ]
  },
  {
   "cell_type": "code",
   "execution_count": 118,
   "metadata": {},
   "outputs": [
    {
     "data": {
      "text/plain": [
       "(63017, 5)"
      ]
     },
     "execution_count": 118,
     "metadata": {},
     "output_type": "execute_result"
    }
   ],
   "source": [
    "# 只要这一行存在空值，则删除改行；axis=0用来表征是删除行（运算方向为列方向）\n",
    "# 同步计算删除结果的维度，为63017行5列。\n",
    "jobs.dropna(axis=0).shape"
   ]
  },
  {
   "cell_type": "code",
   "execution_count": 120,
   "metadata": {},
   "outputs": [
    {
     "data": {
      "text/plain": [
       "(66766, 5)"
      ]
     },
     "execution_count": 120,
     "metadata": {},
     "output_type": "execute_result"
    }
   ],
   "source": [
    "# 整行均为空值，删除；否则保留\n",
    "jobs.dropna(how=\"all\", axis=0).shape"
   ]
  },
  {
   "cell_type": "code",
   "execution_count": 122,
   "metadata": {},
   "outputs": [
    {
     "data": {
      "text/plain": [
       "(64290, 5)"
      ]
     },
     "execution_count": 122,
     "metadata": {},
     "output_type": "execute_result"
    }
   ],
   "source": [
    "# 删除指定列(\"city\",\"salary_min\")中包含缺失值的行\n",
    "jobs.dropna(subset=[\"city\"]).shape"
   ]
  },
  {
   "cell_type": "raw",
   "metadata": {},
   "source": [
    "对于dropna函数，除了上面介绍的参数外，还有一个inplace参数，该参数默认为False，也就是函数返回值为处理的结果，该结果并不会自动存储（如果你需要保存该结果，需要用一个变量来进行赋值。数据集本身不会发生改变）。如果设置inplace=True，则函数会对数据集进行操作（就像做手术一样），但是函数返回值为None。"
   ]
  },
  {
   "cell_type": "markdown",
   "metadata": {},
   "source": [
    "#### 空值填充"
   ]
  },
  {
   "cell_type": "code",
   "execution_count": null,
   "metadata": {},
   "outputs": [],
   "source": []
  }
 ],
 "metadata": {
  "kernelspec": {
   "display_name": "Python 3",
   "language": "python",
   "name": "python3"
  },
  "language_info": {
   "codemirror_mode": {
    "name": "ipython",
    "version": 3
   },
   "file_extension": ".py",
   "mimetype": "text/x-python",
   "name": "python",
   "nbconvert_exporter": "python",
   "pygments_lexer": "ipython3",
   "version": "3.7.6"
  },
  "toc": {
   "base_numbering": 1,
   "nav_menu": {},
   "number_sections": true,
   "sideBar": true,
   "skip_h1_title": false,
   "title_cell": "Table of Contents",
   "title_sidebar": "Contents",
   "toc_cell": false,
   "toc_position": {
    "height": "calc(100% - 180px)",
    "left": "10px",
    "top": "150px",
    "width": "259px"
   },
   "toc_section_display": true,
   "toc_window_display": true
  }
 },
 "nbformat": 4,
 "nbformat_minor": 1
}
