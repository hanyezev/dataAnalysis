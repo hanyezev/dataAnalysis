{
 "cells": [
  {
   "cell_type": "markdown",
   "metadata": {
    "collapsed": true
   },
   "source": [
    "## 1.Series数据结构与索引"
   ]
  },
  {
   "cell_type": "code",
   "execution_count": 18,
   "metadata": {},
   "outputs": [],
   "source": [
    "import pandas as pd\n",
    "import numpy as np"
   ]
  },
  {
   "cell_type": "raw",
   "metadata": {},
   "source": [
    "Numpy是基于数组格式构建的一个数组运算工具，而Pandas是基于Numpy构建的结构化数据处理工具。\n",
    "Pandas 常用的数据结构有两种：Series和 DataFrame。\n",
    "其中 Series 是一个带有名称和索引的一维数组，而 DataFrame则是用来表示多维的数组结构。"
   ]
  },
  {
   "cell_type": "markdown",
   "metadata": {},
   "source": [
    "### Series数据结构"
   ]
  },
  {
   "cell_type": "code",
   "execution_count": 4,
   "metadata": {},
   "outputs": [
    {
     "data": {
      "text/plain": [
       "300773     3.5\n",
       "600751     7.2\n",
       "300405    12.6\n",
       "002937     4.7\n",
       "601615     8.2\n",
       "Name: Stock, dtype: float64"
      ]
     },
     "execution_count": 4,
     "metadata": {},
     "output_type": "execute_result"
    }
   ],
   "source": [
    "stock_seri = pd.Series([3.5, 7.2, 12.6, 4.7, 8.2],\n",
    "                       index=[\"300773\", \"600751\", \"300405\", \"002937\", \"601615\"],\n",
    "                       name=\"Stock\")\n",
    "stock_seri"
   ]
  },
  {
   "cell_type": "code",
   "execution_count": 5,
   "metadata": {},
   "outputs": [
    {
     "data": {
      "text/plain": [
       "'Stock'"
      ]
     },
     "execution_count": 5,
     "metadata": {},
     "output_type": "execute_result"
    }
   ],
   "source": [
    "stock_seri.name"
   ]
  },
  {
   "cell_type": "markdown",
   "metadata": {},
   "source": [
    "### Series的常用操作"
   ]
  },
  {
   "cell_type": "markdown",
   "metadata": {},
   "source": [
    "**Series的索引**"
   ]
  },
  {
   "cell_type": "code",
   "execution_count": 12,
   "metadata": {},
   "outputs": [
    {
     "data": {
      "text/plain": [
       "3.5"
      ]
     },
     "execution_count": 12,
     "metadata": {},
     "output_type": "execute_result"
    }
   ],
   "source": [
    "stock_seri[\"300773\"]"
   ]
  },
  {
   "cell_type": "code",
   "execution_count": 13,
   "metadata": {},
   "outputs": [
    {
     "data": {
      "text/plain": [
       "300773     3.5\n",
       "600751     7.2\n",
       "300405    12.6\n",
       "Name: Stock, dtype: float64"
      ]
     },
     "execution_count": 13,
     "metadata": {},
     "output_type": "execute_result"
    }
   ],
   "source": [
    "stock_seri[[\"300773\", \"600751\",\"300405\"]]"
   ]
  },
  {
   "cell_type": "code",
   "execution_count": 14,
   "metadata": {},
   "outputs": [
    {
     "data": {
      "text/plain": [
       "300773    3.5\n",
       "601615    8.2\n",
       "Name: Stock, dtype: float64"
      ]
     },
     "execution_count": 14,
     "metadata": {},
     "output_type": "execute_result"
    }
   ],
   "source": [
    "stock_seri[[True, False, False, False, True]]"
   ]
  },
  {
   "cell_type": "code",
   "execution_count": 15,
   "metadata": {},
   "outputs": [
    {
     "data": {
      "text/plain": [
       "300773     3.5\n",
       "600751     7.2\n",
       "300405    12.6\n",
       "Name: Stock, dtype: float64"
      ]
     },
     "execution_count": 15,
     "metadata": {},
     "output_type": "execute_result"
    }
   ],
   "source": [
    "stock_seri[\"300773\":\"300405\"]       # 注意:pandas是左闭右闭的区间"
   ]
  },
  {
   "cell_type": "markdown",
   "metadata": {},
   "source": [
    "**Numpy常用的运算，在Series里也是适用的**"
   ]
  },
  {
   "cell_type": "code",
   "execution_count": 16,
   "metadata": {},
   "outputs": [
    {
     "data": {
      "text/plain": [
       "300405    12.6\n",
       "601615     8.2\n",
       "Name: Stock, dtype: float64"
      ]
     },
     "execution_count": 16,
     "metadata": {},
     "output_type": "execute_result"
    }
   ],
   "source": [
    "stock_seri[stock_seri > 8]"
   ]
  },
  {
   "cell_type": "code",
   "execution_count": 17,
   "metadata": {},
   "outputs": [
    {
     "data": {
      "text/plain": [
       "300773     7.0\n",
       "600751    14.4\n",
       "300405    25.2\n",
       "002937     9.4\n",
       "601615    16.4\n",
       "Name: Stock, dtype: float64"
      ]
     },
     "execution_count": 17,
     "metadata": {},
     "output_type": "execute_result"
    }
   ],
   "source": [
    "stock_seri*2"
   ]
  },
  {
   "cell_type": "code",
   "execution_count": 19,
   "metadata": {},
   "outputs": [
    {
     "data": {
      "text/plain": [
       "7.239999999999999"
      ]
     },
     "execution_count": 19,
     "metadata": {},
     "output_type": "execute_result"
    }
   ],
   "source": [
    "np.average(stock_seri)"
   ]
  },
  {
   "cell_type": "markdown",
   "metadata": {},
   "source": [
    "**查看Series数据集中是否有空值**"
   ]
  },
  {
   "cell_type": "code",
   "execution_count": 20,
   "metadata": {},
   "outputs": [
    {
     "data": {
      "text/plain": [
       "300773    False\n",
       "600751    False\n",
       "300405    False\n",
       "002937    False\n",
       "601615    False\n",
       "Name: Stock, dtype: bool"
      ]
     },
     "execution_count": 20,
     "metadata": {},
     "output_type": "execute_result"
    }
   ],
   "source": [
    "stock_seri.isnull()"
   ]
  },
  {
   "cell_type": "markdown",
   "metadata": {},
   "source": [
    "**修改index**"
   ]
  },
  {
   "cell_type": "code",
   "execution_count": 21,
   "metadata": {},
   "outputs": [],
   "source": [
    "stock_seri.index = [\"拉卡拉\", \"海航科技\", \"科隆股份\", \"兴瑞科技\", \"明阳智能\"]"
   ]
  },
  {
   "cell_type": "code",
   "execution_count": 23,
   "metadata": {},
   "outputs": [],
   "source": [
    "stock_seri[\"兴瑞科技\"] = 6.8"
   ]
  },
  {
   "cell_type": "code",
   "execution_count": 24,
   "metadata": {},
   "outputs": [
    {
     "data": {
      "text/plain": [
       "拉卡拉      3.5\n",
       "海航科技     7.2\n",
       "科隆股份    12.6\n",
       "兴瑞科技     6.8\n",
       "明阳智能     8.2\n",
       "Name: Stock, dtype: float64"
      ]
     },
     "execution_count": 24,
     "metadata": {},
     "output_type": "execute_result"
    }
   ],
   "source": [
    "stock_seri"
   ]
  },
  {
   "cell_type": "markdown",
   "metadata": {},
   "source": [
    "**字典来创建Series**"
   ]
  },
  {
   "cell_type": "code",
   "execution_count": 25,
   "metadata": {},
   "outputs": [
    {
     "data": {
      "text/plain": [
       "2012    1\n",
       "2013    3\n",
       "dtype: int64"
      ]
     },
     "execution_count": 25,
     "metadata": {},
     "output_type": "execute_result"
    }
   ],
   "source": [
    "stock_price_dict = {\n",
    "    \"2012\": 1,\n",
    "    \"2013\": 3\n",
    "}\n",
    "pd.Series(stock_price_dict)"
   ]
  },
  {
   "cell_type": "markdown",
   "metadata": {},
   "source": [
    "## DataFrame数据结构与索引"
   ]
  },
  {
   "cell_type": "raw",
   "metadata": {},
   "source": [
    "DataFrame是Series在水平方向的扩展，是一个多列表格型的数据结构"
   ]
  },
  {
   "cell_type": "markdown",
   "metadata": {},
   "source": [
    "### DataFrame数据结构"
   ]
  },
  {
   "cell_type": "code",
   "execution_count": 27,
   "metadata": {},
   "outputs": [
    {
     "data": {
      "text/html": [
       "<div>\n",
       "<style scoped>\n",
       "    .dataframe tbody tr th:only-of-type {\n",
       "        vertical-align: middle;\n",
       "    }\n",
       "\n",
       "    .dataframe tbody tr th {\n",
       "        vertical-align: top;\n",
       "    }\n",
       "\n",
       "    .dataframe thead th {\n",
       "        text-align: right;\n",
       "    }\n",
       "</style>\n",
       "<table border=\"1\" class=\"dataframe\">\n",
       "  <thead>\n",
       "    <tr style=\"text-align: right;\">\n",
       "      <th></th>\n",
       "      <th>A</th>\n",
       "      <th>B</th>\n",
       "      <th>C</th>\n",
       "    </tr>\n",
       "  </thead>\n",
       "  <tbody>\n",
       "    <tr>\n",
       "      <th>2000</th>\n",
       "      <td>0</td>\n",
       "      <td>1</td>\n",
       "      <td>2</td>\n",
       "    </tr>\n",
       "    <tr>\n",
       "      <th>2001</th>\n",
       "      <td>3</td>\n",
       "      <td>4</td>\n",
       "      <td>5</td>\n",
       "    </tr>\n",
       "  </tbody>\n",
       "</table>\n",
       "</div>"
      ],
      "text/plain": [
       "      A  B  C\n",
       "2000  0  1  2\n",
       "2001  3  4  5"
      ]
     },
     "execution_count": 27,
     "metadata": {},
     "output_type": "execute_result"
    }
   ],
   "source": [
    "frame0 = pd.DataFrame(np.arange(6).reshape(2, 3),\n",
    "                      index=[2000, 2001], columns=[\"A\", \"B\", \"C\"])\n",
    "frame0"
   ]
  },
  {
   "cell_type": "code",
   "execution_count": 34,
   "metadata": {},
   "outputs": [
    {
     "data": {
      "text/html": [
       "<div>\n",
       "<style scoped>\n",
       "    .dataframe tbody tr th:only-of-type {\n",
       "        vertical-align: middle;\n",
       "    }\n",
       "\n",
       "    .dataframe tbody tr th {\n",
       "        vertical-align: top;\n",
       "    }\n",
       "\n",
       "    .dataframe thead th {\n",
       "        text-align: right;\n",
       "    }\n",
       "</style>\n",
       "<table border=\"1\" class=\"dataframe\">\n",
       "  <thead>\n",
       "    <tr style=\"text-align: right;\">\n",
       "      <th></th>\n",
       "      <th>A</th>\n",
       "      <th>B</th>\n",
       "      <th>C</th>\n",
       "    </tr>\n",
       "  </thead>\n",
       "  <tbody>\n",
       "    <tr>\n",
       "      <th>4</th>\n",
       "      <td>0</td>\n",
       "      <td>1</td>\n",
       "      <td>2</td>\n",
       "    </tr>\n",
       "    <tr>\n",
       "      <th>5</th>\n",
       "      <td>3</td>\n",
       "      <td>4</td>\n",
       "      <td>5</td>\n",
       "    </tr>\n",
       "  </tbody>\n",
       "</table>\n",
       "</div>"
      ],
      "text/plain": [
       "   A  B  C\n",
       "4  0  1  2\n",
       "5  3  4  5"
      ]
     },
     "execution_count": 34,
     "metadata": {},
     "output_type": "execute_result"
    }
   ],
   "source": [
    "# 利用字典格式，生成DataFrame数据结构\n",
    "data = {\"A\": [0, 3], \"B\": [1, 4], \"C\": [2, 5]}\n",
    "temp = pd.DataFrame(data, index= [4, 5])\n",
    "temp"
   ]
  },
  {
   "cell_type": "code",
   "execution_count": 35,
   "metadata": {},
   "outputs": [
    {
     "data": {
      "text/plain": [
       "4    0\n",
       "5    3\n",
       "Name: A, dtype: int64"
      ]
     },
     "execution_count": 35,
     "metadata": {},
     "output_type": "execute_result"
    }
   ],
   "source": [
    "temp[\"A\"]"
   ]
  },
  {
   "cell_type": "markdown",
   "metadata": {},
   "source": [
    "**对多列索引，需要以列表的形式传入序列**"
   ]
  },
  {
   "cell_type": "code",
   "execution_count": 36,
   "metadata": {},
   "outputs": [
    {
     "data": {
      "text/html": [
       "<div>\n",
       "<style scoped>\n",
       "    .dataframe tbody tr th:only-of-type {\n",
       "        vertical-align: middle;\n",
       "    }\n",
       "\n",
       "    .dataframe tbody tr th {\n",
       "        vertical-align: top;\n",
       "    }\n",
       "\n",
       "    .dataframe thead th {\n",
       "        text-align: right;\n",
       "    }\n",
       "</style>\n",
       "<table border=\"1\" class=\"dataframe\">\n",
       "  <thead>\n",
       "    <tr style=\"text-align: right;\">\n",
       "      <th></th>\n",
       "      <th>A</th>\n",
       "      <th>B</th>\n",
       "      <th>C</th>\n",
       "    </tr>\n",
       "  </thead>\n",
       "  <tbody>\n",
       "    <tr>\n",
       "      <th>4</th>\n",
       "      <td>0</td>\n",
       "      <td>1</td>\n",
       "      <td>2</td>\n",
       "    </tr>\n",
       "    <tr>\n",
       "      <th>5</th>\n",
       "      <td>3</td>\n",
       "      <td>4</td>\n",
       "      <td>5</td>\n",
       "    </tr>\n",
       "  </tbody>\n",
       "</table>\n",
       "</div>"
      ],
      "text/plain": [
       "   A  B  C\n",
       "4  0  1  2\n",
       "5  3  4  5"
      ]
     },
     "execution_count": 36,
     "metadata": {},
     "output_type": "execute_result"
    }
   ],
   "source": [
    "temp[[\"A\", \"B\", \"C\"]]"
   ]
  },
  {
   "cell_type": "markdown",
   "metadata": {},
   "source": [
    "**筛选A值为0的行**"
   ]
  },
  {
   "cell_type": "code",
   "execution_count": 38,
   "metadata": {},
   "outputs": [
    {
     "data": {
      "text/html": [
       "<div>\n",
       "<style scoped>\n",
       "    .dataframe tbody tr th:only-of-type {\n",
       "        vertical-align: middle;\n",
       "    }\n",
       "\n",
       "    .dataframe tbody tr th {\n",
       "        vertical-align: top;\n",
       "    }\n",
       "\n",
       "    .dataframe thead th {\n",
       "        text-align: right;\n",
       "    }\n",
       "</style>\n",
       "<table border=\"1\" class=\"dataframe\">\n",
       "  <thead>\n",
       "    <tr style=\"text-align: right;\">\n",
       "      <th></th>\n",
       "      <th>A</th>\n",
       "      <th>B</th>\n",
       "      <th>C</th>\n",
       "    </tr>\n",
       "  </thead>\n",
       "  <tbody>\n",
       "    <tr>\n",
       "      <th>4</th>\n",
       "      <td>0</td>\n",
       "      <td>1</td>\n",
       "      <td>2</td>\n",
       "    </tr>\n",
       "  </tbody>\n",
       "</table>\n",
       "</div>"
      ],
      "text/plain": [
       "   A  B  C\n",
       "4  0  1  2"
      ]
     },
     "execution_count": 38,
     "metadata": {},
     "output_type": "execute_result"
    }
   ],
   "source": [
    "temp[temp[\"A\"] == 0]"
   ]
  },
  {
   "cell_type": "code",
   "execution_count": 39,
   "metadata": {},
   "outputs": [
    {
     "data": {
      "text/html": [
       "<div>\n",
       "<style scoped>\n",
       "    .dataframe tbody tr th:only-of-type {\n",
       "        vertical-align: middle;\n",
       "    }\n",
       "\n",
       "    .dataframe tbody tr th {\n",
       "        vertical-align: top;\n",
       "    }\n",
       "\n",
       "    .dataframe thead th {\n",
       "        text-align: right;\n",
       "    }\n",
       "</style>\n",
       "<table border=\"1\" class=\"dataframe\">\n",
       "  <thead>\n",
       "    <tr style=\"text-align: right;\">\n",
       "      <th></th>\n",
       "      <th>A</th>\n",
       "      <th>B</th>\n",
       "      <th>C</th>\n",
       "    </tr>\n",
       "  </thead>\n",
       "  <tbody>\n",
       "    <tr>\n",
       "      <th>4</th>\n",
       "      <td>0</td>\n",
       "      <td>2</td>\n",
       "      <td>4</td>\n",
       "    </tr>\n",
       "    <tr>\n",
       "      <th>5</th>\n",
       "      <td>6</td>\n",
       "      <td>8</td>\n",
       "      <td>10</td>\n",
       "    </tr>\n",
       "  </tbody>\n",
       "</table>\n",
       "</div>"
      ],
      "text/plain": [
       "   A  B   C\n",
       "4  0  2   4\n",
       "5  6  8  10"
      ]
     },
     "execution_count": 39,
     "metadata": {},
     "output_type": "execute_result"
    }
   ],
   "source": [
    "# 乘法运算\n",
    "temp*2"
   ]
  },
  {
   "cell_type": "markdown",
   "metadata": {},
   "source": [
    "### DataFrame索引"
   ]
  },
  {
   "cell_type": "raw",
   "metadata": {},
   "source": [
    "通过两种方式进行索引，分别是标签索引和位置索引"
   ]
  },
  {
   "cell_type": "markdown",
   "metadata": {},
   "source": [
    "#### loc 标签索引"
   ]
  },
  {
   "cell_type": "raw",
   "metadata": {},
   "source": [
    "Pandas自带的loc方法，通过具体的标签名字来索引行或者列。"
   ]
  },
  {
   "cell_type": "code",
   "execution_count": 41,
   "metadata": {},
   "outputs": [
    {
     "data": {
      "text/html": [
       "<div>\n",
       "<style scoped>\n",
       "    .dataframe tbody tr th:only-of-type {\n",
       "        vertical-align: middle;\n",
       "    }\n",
       "\n",
       "    .dataframe tbody tr th {\n",
       "        vertical-align: top;\n",
       "    }\n",
       "\n",
       "    .dataframe thead th {\n",
       "        text-align: right;\n",
       "    }\n",
       "</style>\n",
       "<table border=\"1\" class=\"dataframe\">\n",
       "  <thead>\n",
       "    <tr style=\"text-align: right;\">\n",
       "      <th></th>\n",
       "      <th>A</th>\n",
       "      <th>B</th>\n",
       "      <th>C</th>\n",
       "    </tr>\n",
       "  </thead>\n",
       "  <tbody>\n",
       "    <tr>\n",
       "      <th>2000</th>\n",
       "      <td>0</td>\n",
       "      <td>1</td>\n",
       "      <td>2</td>\n",
       "    </tr>\n",
       "    <tr>\n",
       "      <th>2001</th>\n",
       "      <td>3</td>\n",
       "      <td>4</td>\n",
       "      <td>5</td>\n",
       "    </tr>\n",
       "  </tbody>\n",
       "</table>\n",
       "</div>"
      ],
      "text/plain": [
       "      A  B  C\n",
       "2000  0  1  2\n",
       "2001  3  4  5"
      ]
     },
     "execution_count": 41,
     "metadata": {},
     "output_type": "execute_result"
    }
   ],
   "source": [
    "frame0 = pd.DataFrame(np.arange(6).reshape(2, 3),\n",
    "                      index=[2000, 2001], columns=[\"A\", \"B\", \"C\"])\n",
    "frame0"
   ]
  },
  {
   "cell_type": "code",
   "execution_count": 43,
   "metadata": {},
   "outputs": [
    {
     "data": {
      "text/plain": [
       "A    0\n",
       "B    1\n",
       "C    2\n",
       "Name: 2000, dtype: int32"
      ]
     },
     "execution_count": 43,
     "metadata": {},
     "output_type": "execute_result"
    }
   ],
   "source": [
    "# 选择索引为2000的行\n",
    "frame0.loc[2000]"
   ]
  },
  {
   "cell_type": "code",
   "execution_count": 44,
   "metadata": {},
   "outputs": [
    {
     "data": {
      "text/plain": [
       "2000    0\n",
       "2001    3\n",
       "Name: A, dtype: int32"
      ]
     },
     "execution_count": 44,
     "metadata": {},
     "output_type": "execute_result"
    }
   ],
   "source": [
    "# 选择“A”列\n",
    "frame0.loc[:,\"A\"]"
   ]
  },
  {
   "cell_type": "code",
   "execution_count": 47,
   "metadata": {},
   "outputs": [
    {
     "data": {
      "text/plain": [
       "B    4\n",
       "C    5\n",
       "Name: 2001, dtype: int32"
      ]
     },
     "execution_count": 47,
     "metadata": {},
     "output_type": "execute_result"
    }
   ],
   "source": [
    "# 选择索引为2001，BC列的元素\n",
    "frame0.loc[2001,\"B\":\"C\"]"
   ]
  },
  {
   "cell_type": "markdown",
   "metadata": {},
   "source": [
    "#### iloc函数"
   ]
  },
  {
   "cell_type": "code",
   "execution_count": 48,
   "metadata": {},
   "outputs": [
    {
     "data": {
      "text/plain": [
       "A    0\n",
       "B    1\n",
       "C    2\n",
       "Name: 2000, dtype: int32"
      ]
     },
     "execution_count": 48,
     "metadata": {},
     "output_type": "execute_result"
    }
   ],
   "source": [
    "# 通过位置，选择索引为2000的行\n",
    "frame0.iloc[0]"
   ]
  },
  {
   "cell_type": "code",
   "execution_count": 50,
   "metadata": {},
   "outputs": [
    {
     "data": {
      "text/plain": [
       "2000    0\n",
       "2001    3\n",
       "Name: A, dtype: int32"
      ]
     },
     "execution_count": 50,
     "metadata": {},
     "output_type": "execute_result"
    }
   ],
   "source": [
    "# 通过位置，选择“A”列\n",
    "frame0.iloc[:,0]"
   ]
  },
  {
   "cell_type": "markdown",
   "metadata": {},
   "source": [
    "#### 索引对象初窥"
   ]
  },
  {
   "cell_type": "raw",
   "metadata": {},
   "source": [
    "index对象可以像列表一样被灵活切片"
   ]
  },
  {
   "cell_type": "code",
   "execution_count": 51,
   "metadata": {},
   "outputs": [
    {
     "data": {
      "text/plain": [
       "Int64Index([2000], dtype='int64')"
      ]
     },
     "execution_count": 51,
     "metadata": {},
     "output_type": "execute_result"
    }
   ],
   "source": [
    "frame0.index[:1]"
   ]
  },
  {
   "cell_type": "markdown",
   "metadata": {},
   "source": [
    "**用reindex的方式，为数据集构造一个新的index对象**"
   ]
  },
  {
   "cell_type": "code",
   "execution_count": 53,
   "metadata": {},
   "outputs": [
    {
     "data": {
      "text/html": [
       "<div>\n",
       "<style scoped>\n",
       "    .dataframe tbody tr th:only-of-type {\n",
       "        vertical-align: middle;\n",
       "    }\n",
       "\n",
       "    .dataframe tbody tr th {\n",
       "        vertical-align: top;\n",
       "    }\n",
       "\n",
       "    .dataframe thead th {\n",
       "        text-align: right;\n",
       "    }\n",
       "</style>\n",
       "<table border=\"1\" class=\"dataframe\">\n",
       "  <thead>\n",
       "    <tr style=\"text-align: right;\">\n",
       "      <th></th>\n",
       "      <th>A</th>\n",
       "      <th>B</th>\n",
       "      <th>C</th>\n",
       "    </tr>\n",
       "  </thead>\n",
       "  <tbody>\n",
       "    <tr>\n",
       "      <th>2000</th>\n",
       "      <td>0.0</td>\n",
       "      <td>1.0</td>\n",
       "      <td>2.0</td>\n",
       "    </tr>\n",
       "    <tr>\n",
       "      <th>2001</th>\n",
       "      <td>3.0</td>\n",
       "      <td>4.0</td>\n",
       "      <td>5.0</td>\n",
       "    </tr>\n",
       "    <tr>\n",
       "      <th>2002</th>\n",
       "      <td>NaN</td>\n",
       "      <td>NaN</td>\n",
       "      <td>NaN</td>\n",
       "    </tr>\n",
       "  </tbody>\n",
       "</table>\n",
       "</div>"
      ],
      "text/plain": [
       "        A    B    C\n",
       "2000  0.0  1.0  2.0\n",
       "2001  3.0  4.0  5.0\n",
       "2002  NaN  NaN  NaN"
      ]
     },
     "execution_count": 53,
     "metadata": {},
     "output_type": "execute_result"
    }
   ],
   "source": [
    "# reindex的方式，会继承原先的索引，如果有新增的索引项，那么会自动填充空值\n",
    "frame0.reindex([2000,2001,2002])"
   ]
  },
  {
   "cell_type": "markdown",
   "metadata": {},
   "source": [
    "**增加fill_value属性，自动填充其他值**"
   ]
  },
  {
   "cell_type": "code",
   "execution_count": 54,
   "metadata": {},
   "outputs": [
    {
     "data": {
      "text/html": [
       "<div>\n",
       "<style scoped>\n",
       "    .dataframe tbody tr th:only-of-type {\n",
       "        vertical-align: middle;\n",
       "    }\n",
       "\n",
       "    .dataframe tbody tr th {\n",
       "        vertical-align: top;\n",
       "    }\n",
       "\n",
       "    .dataframe thead th {\n",
       "        text-align: right;\n",
       "    }\n",
       "</style>\n",
       "<table border=\"1\" class=\"dataframe\">\n",
       "  <thead>\n",
       "    <tr style=\"text-align: right;\">\n",
       "      <th></th>\n",
       "      <th>A</th>\n",
       "      <th>B</th>\n",
       "      <th>C</th>\n",
       "    </tr>\n",
       "  </thead>\n",
       "  <tbody>\n",
       "    <tr>\n",
       "      <th>2000</th>\n",
       "      <td>0</td>\n",
       "      <td>1</td>\n",
       "      <td>2</td>\n",
       "    </tr>\n",
       "    <tr>\n",
       "      <th>2001</th>\n",
       "      <td>3</td>\n",
       "      <td>4</td>\n",
       "      <td>5</td>\n",
       "    </tr>\n",
       "    <tr>\n",
       "      <th>2002</th>\n",
       "      <td>20</td>\n",
       "      <td>20</td>\n",
       "      <td>20</td>\n",
       "    </tr>\n",
       "  </tbody>\n",
       "</table>\n",
       "</div>"
      ],
      "text/plain": [
       "       A   B   C\n",
       "2000   0   1   2\n",
       "2001   3   4   5\n",
       "2002  20  20  20"
      ]
     },
     "execution_count": 54,
     "metadata": {},
     "output_type": "execute_result"
    }
   ],
   "source": [
    "frame0.reindex([2000,2001,2002], fill_value = 20)"
   ]
  },
  {
   "cell_type": "code",
   "execution_count": 55,
   "metadata": {},
   "outputs": [
    {
     "data": {
      "text/plain": [
       "Index(['A', 'B', 'C'], dtype='object')"
      ]
     },
     "execution_count": 55,
     "metadata": {},
     "output_type": "execute_result"
    }
   ],
   "source": [
    "frame0.columns"
   ]
  },
  {
   "cell_type": "markdown",
   "metadata": {},
   "source": [
    "#### 修改列名，有2种方法"
   ]
  },
  {
   "cell_type": "markdown",
   "metadata": {},
   "source": [
    "**方法一：利用rename函数**"
   ]
  },
  {
   "cell_type": "code",
   "execution_count": 59,
   "metadata": {},
   "outputs": [
    {
     "data": {
      "text/html": [
       "<div>\n",
       "<style scoped>\n",
       "    .dataframe tbody tr th:only-of-type {\n",
       "        vertical-align: middle;\n",
       "    }\n",
       "\n",
       "    .dataframe tbody tr th {\n",
       "        vertical-align: top;\n",
       "    }\n",
       "\n",
       "    .dataframe thead th {\n",
       "        text-align: right;\n",
       "    }\n",
       "</style>\n",
       "<table border=\"1\" class=\"dataframe\">\n",
       "  <thead>\n",
       "    <tr style=\"text-align: right;\">\n",
       "      <th></th>\n",
       "      <th>a</th>\n",
       "      <th>b</th>\n",
       "      <th>c</th>\n",
       "    </tr>\n",
       "  </thead>\n",
       "  <tbody>\n",
       "    <tr>\n",
       "      <th>2000</th>\n",
       "      <td>0</td>\n",
       "      <td>1</td>\n",
       "      <td>2</td>\n",
       "    </tr>\n",
       "    <tr>\n",
       "      <th>2001</th>\n",
       "      <td>3</td>\n",
       "      <td>4</td>\n",
       "      <td>5</td>\n",
       "    </tr>\n",
       "  </tbody>\n",
       "</table>\n",
       "</div>"
      ],
      "text/plain": [
       "      a  b  c\n",
       "2000  0  1  2\n",
       "2001  3  4  5"
      ]
     },
     "execution_count": 59,
     "metadata": {},
     "output_type": "execute_result"
    }
   ],
   "source": [
    "frame0.rename(columns={\"A\": \"a\",\"B\":\"b\",\"C\":\"c\"})"
   ]
  },
  {
   "cell_type": "markdown",
   "metadata": {},
   "source": [
    "**方法二：重新指定**"
   ]
  },
  {
   "cell_type": "code",
   "execution_count": 61,
   "metadata": {},
   "outputs": [
    {
     "data": {
      "text/html": [
       "<div>\n",
       "<style scoped>\n",
       "    .dataframe tbody tr th:only-of-type {\n",
       "        vertical-align: middle;\n",
       "    }\n",
       "\n",
       "    .dataframe tbody tr th {\n",
       "        vertical-align: top;\n",
       "    }\n",
       "\n",
       "    .dataframe thead th {\n",
       "        text-align: right;\n",
       "    }\n",
       "</style>\n",
       "<table border=\"1\" class=\"dataframe\">\n",
       "  <thead>\n",
       "    <tr style=\"text-align: right;\">\n",
       "      <th></th>\n",
       "      <th>d</th>\n",
       "      <th>e</th>\n",
       "      <th>f</th>\n",
       "    </tr>\n",
       "  </thead>\n",
       "  <tbody>\n",
       "    <tr>\n",
       "      <th>2000</th>\n",
       "      <td>0</td>\n",
       "      <td>1</td>\n",
       "      <td>2</td>\n",
       "    </tr>\n",
       "    <tr>\n",
       "      <th>2001</th>\n",
       "      <td>3</td>\n",
       "      <td>4</td>\n",
       "      <td>5</td>\n",
       "    </tr>\n",
       "  </tbody>\n",
       "</table>\n",
       "</div>"
      ],
      "text/plain": [
       "      d  e  f\n",
       "2000  0  1  2\n",
       "2001  3  4  5"
      ]
     },
     "execution_count": 61,
     "metadata": {},
     "output_type": "execute_result"
    }
   ],
   "source": [
    "frame0.columns = [\"d\", \"e\", \"f\"]\n",
    "frame0"
   ]
  },
  {
   "cell_type": "markdown",
   "metadata": {},
   "source": [
    "## 读取文件"
   ]
  },
  {
   "cell_type": "markdown",
   "metadata": {},
   "source": [
    "### Python读取文件"
   ]
  },
  {
   "cell_type": "code",
   "execution_count": 68,
   "metadata": {},
   "outputs": [
    {
     "data": {
      "text/plain": [
       "'岗位,公司,地点,最低工资(万/月),最高工资(万/月)\\nphp开发工程师,重庆赶海科技有限公司,重庆,0.6,0.8\\njava开发工程师,上海赛可出行科技服务有限公司,南京,1.5,2.5\\n测试工程师,朗新科技股份有限公司,无锡,0.6,1\\nweb开发工程师,快助（天津）科技有限公司,天津,0.8,1\\n销售顾问,上海钢联电子商务股份有限公司,深圳,1,1.5'"
      ]
     },
     "execution_count": 68,
     "metadata": {},
     "output_type": "execute_result"
    }
   ],
   "source": [
    "file01 = r\"C:\\Users\\16526\\Desktop\\电网项目\\dataset\\chapter 3\\3-2 job_chance.csv\"\n",
    "with open(file01, \"r\", encoding=\"utf-8\") as f:\n",
    "    lines = f.read()\n",
    "lines"
   ]
  },
  {
   "cell_type": "code",
   "execution_count": 70,
   "metadata": {},
   "outputs": [
    {
     "data": {
      "text/plain": [
       "[['岗位', '公司', '地点', '最低工资(万/月)', '最高工资(万/月)'],\n",
       " ['php开发工程师', '重庆赶海科技有限公司', '重庆', '0.6', '0.8'],\n",
       " ['java开发工程师', '上海赛可出行科技服务有限公司', '南京', '1.5', '2.5'],\n",
       " ['测试工程师', '朗新科技股份有限公司', '无锡', '0.6', '1'],\n",
       " ['web开发工程师', '快助（天津）科技有限公司', '天津', '0.8', '1'],\n",
       " ['销售顾问', '上海钢联电子商务股份有限公司', '深圳', '1', '1.5']]"
      ]
     },
     "execution_count": 70,
     "metadata": {},
     "output_type": "execute_result"
    }
   ],
   "source": [
    "with open(file01, \"r\", encoding=\"utf-8\") as f:\n",
    "    lines = f.readlines()\n",
    "content = [line.strip().split(\",\") for line in lines]\n",
    "content"
   ]
  },
  {
   "cell_type": "markdown",
   "metadata": {},
   "source": [
    "**columns代表列名**"
   ]
  },
  {
   "cell_type": "code",
   "execution_count": 71,
   "metadata": {},
   "outputs": [
    {
     "data": {
      "text/html": [
       "<div>\n",
       "<style scoped>\n",
       "    .dataframe tbody tr th:only-of-type {\n",
       "        vertical-align: middle;\n",
       "    }\n",
       "\n",
       "    .dataframe tbody tr th {\n",
       "        vertical-align: top;\n",
       "    }\n",
       "\n",
       "    .dataframe thead th {\n",
       "        text-align: right;\n",
       "    }\n",
       "</style>\n",
       "<table border=\"1\" class=\"dataframe\">\n",
       "  <thead>\n",
       "    <tr style=\"text-align: right;\">\n",
       "      <th></th>\n",
       "      <th>岗位</th>\n",
       "      <th>公司</th>\n",
       "      <th>地点</th>\n",
       "      <th>最低工资(万/月)</th>\n",
       "      <th>最高工资(万/月)</th>\n",
       "    </tr>\n",
       "  </thead>\n",
       "  <tbody>\n",
       "    <tr>\n",
       "      <th>0</th>\n",
       "      <td>php开发工程师</td>\n",
       "      <td>重庆赶海科技有限公司</td>\n",
       "      <td>重庆</td>\n",
       "      <td>0.6</td>\n",
       "      <td>0.8</td>\n",
       "    </tr>\n",
       "    <tr>\n",
       "      <th>1</th>\n",
       "      <td>java开发工程师</td>\n",
       "      <td>上海赛可出行科技服务有限公司</td>\n",
       "      <td>南京</td>\n",
       "      <td>1.5</td>\n",
       "      <td>2.5</td>\n",
       "    </tr>\n",
       "    <tr>\n",
       "      <th>2</th>\n",
       "      <td>测试工程师</td>\n",
       "      <td>朗新科技股份有限公司</td>\n",
       "      <td>无锡</td>\n",
       "      <td>0.6</td>\n",
       "      <td>1</td>\n",
       "    </tr>\n",
       "    <tr>\n",
       "      <th>3</th>\n",
       "      <td>web开发工程师</td>\n",
       "      <td>快助（天津）科技有限公司</td>\n",
       "      <td>天津</td>\n",
       "      <td>0.8</td>\n",
       "      <td>1</td>\n",
       "    </tr>\n",
       "    <tr>\n",
       "      <th>4</th>\n",
       "      <td>销售顾问</td>\n",
       "      <td>上海钢联电子商务股份有限公司</td>\n",
       "      <td>深圳</td>\n",
       "      <td>1</td>\n",
       "      <td>1.5</td>\n",
       "    </tr>\n",
       "  </tbody>\n",
       "</table>\n",
       "</div>"
      ],
      "text/plain": [
       "          岗位              公司  地点 最低工资(万/月) 最高工资(万/月)\n",
       "0   php开发工程师      重庆赶海科技有限公司  重庆       0.6       0.8\n",
       "1  java开发工程师  上海赛可出行科技服务有限公司  南京       1.5       2.5\n",
       "2      测试工程师      朗新科技股份有限公司  无锡       0.6         1\n",
       "3   web开发工程师    快助（天津）科技有限公司  天津       0.8         1\n",
       "4       销售顾问  上海钢联电子商务股份有限公司  深圳         1       1.5"
      ]
     },
     "execution_count": 71,
     "metadata": {},
     "output_type": "execute_result"
    }
   ],
   "source": [
    "df_job01 = pd.DataFrame(content[1:], columns=content[0])\n",
    "df_job01"
   ]
  },
  {
   "cell_type": "markdown",
   "metadata": {},
   "source": [
    "### Pandas读取文件"
   ]
  },
  {
   "cell_type": "markdown",
   "metadata": {},
   "source": [
    "Pandas提供了多个读取表格型的文本文件，并转化为DataFrame对象的函数，\n",
    "其中用的最多的2个函数应该是read_csv和read_table。\n",
    "二者均提供了一个标准的方法，从文件型对象中记载带分隔符的数据，\n",
    "其中<font color=red>read_csv</font>的默认分隔符为逗号，\n",
    "<font color=red>read_table</font>的默认分隔符为制表符\\t。"
   ]
  },
  {
   "cell_type": "markdown",
   "metadata": {},
   "source": [
    "#### 常规读取"
   ]
  },
  {
   "cell_type": "markdown",
   "metadata": {},
   "source": [
    "**read_csv 会自动默认第一行为列名，并根据第一列的特别，默认是否设置为索引**"
   ]
  },
  {
   "cell_type": "code",
   "execution_count": 72,
   "metadata": {},
   "outputs": [
    {
     "data": {
      "text/html": [
       "<div>\n",
       "<style scoped>\n",
       "    .dataframe tbody tr th:only-of-type {\n",
       "        vertical-align: middle;\n",
       "    }\n",
       "\n",
       "    .dataframe tbody tr th {\n",
       "        vertical-align: top;\n",
       "    }\n",
       "\n",
       "    .dataframe thead th {\n",
       "        text-align: right;\n",
       "    }\n",
       "</style>\n",
       "<table border=\"1\" class=\"dataframe\">\n",
       "  <thead>\n",
       "    <tr style=\"text-align: right;\">\n",
       "      <th></th>\n",
       "      <th>岗位</th>\n",
       "      <th>公司</th>\n",
       "      <th>地点</th>\n",
       "      <th>最低工资(万/月)</th>\n",
       "      <th>最高工资(万/月)</th>\n",
       "    </tr>\n",
       "  </thead>\n",
       "  <tbody>\n",
       "    <tr>\n",
       "      <th>0</th>\n",
       "      <td>php开发工程师</td>\n",
       "      <td>重庆赶海科技有限公司</td>\n",
       "      <td>重庆</td>\n",
       "      <td>0.6</td>\n",
       "      <td>0.8</td>\n",
       "    </tr>\n",
       "    <tr>\n",
       "      <th>1</th>\n",
       "      <td>java开发工程师</td>\n",
       "      <td>上海赛可出行科技服务有限公司</td>\n",
       "      <td>南京</td>\n",
       "      <td>1.5</td>\n",
       "      <td>2.5</td>\n",
       "    </tr>\n",
       "    <tr>\n",
       "      <th>2</th>\n",
       "      <td>测试工程师</td>\n",
       "      <td>朗新科技股份有限公司</td>\n",
       "      <td>无锡</td>\n",
       "      <td>0.6</td>\n",
       "      <td>1.0</td>\n",
       "    </tr>\n",
       "    <tr>\n",
       "      <th>3</th>\n",
       "      <td>web开发工程师</td>\n",
       "      <td>快助（天津）科技有限公司</td>\n",
       "      <td>天津</td>\n",
       "      <td>0.8</td>\n",
       "      <td>1.0</td>\n",
       "    </tr>\n",
       "    <tr>\n",
       "      <th>4</th>\n",
       "      <td>销售顾问</td>\n",
       "      <td>上海钢联电子商务股份有限公司</td>\n",
       "      <td>深圳</td>\n",
       "      <td>1.0</td>\n",
       "      <td>1.5</td>\n",
       "    </tr>\n",
       "  </tbody>\n",
       "</table>\n",
       "</div>"
      ],
      "text/plain": [
       "          岗位              公司  地点  最低工资(万/月)  最高工资(万/月)\n",
       "0   php开发工程师      重庆赶海科技有限公司  重庆        0.6        0.8\n",
       "1  java开发工程师  上海赛可出行科技服务有限公司  南京        1.5        2.5\n",
       "2      测试工程师      朗新科技股份有限公司  无锡        0.6        1.0\n",
       "3   web开发工程师    快助（天津）科技有限公司  天津        0.8        1.0\n",
       "4       销售顾问  上海钢联电子商务股份有限公司  深圳        1.0        1.5"
      ]
     },
     "execution_count": 72,
     "metadata": {},
     "output_type": "execute_result"
    }
   ],
   "source": [
    "df_job02 = pd.read_csv(file01, encoding=\"utf-8\")\n",
    "df_job02"
   ]
  },
  {
   "cell_type": "code",
   "execution_count": 76,
   "metadata": {},
   "outputs": [
    {
     "data": {
      "text/html": [
       "<div>\n",
       "<style scoped>\n",
       "    .dataframe tbody tr th:only-of-type {\n",
       "        vertical-align: middle;\n",
       "    }\n",
       "\n",
       "    .dataframe tbody tr th {\n",
       "        vertical-align: top;\n",
       "    }\n",
       "\n",
       "    .dataframe thead th {\n",
       "        text-align: right;\n",
       "    }\n",
       "</style>\n",
       "<table border=\"1\" class=\"dataframe\">\n",
       "  <thead>\n",
       "    <tr style=\"text-align: right;\">\n",
       "      <th></th>\n",
       "      <th>岗位</th>\n",
       "      <th>公司</th>\n",
       "      <th>地点</th>\n",
       "      <th>最低工资(万/月)</th>\n",
       "      <th>最高工资(万/月)</th>\n",
       "    </tr>\n",
       "  </thead>\n",
       "  <tbody>\n",
       "    <tr>\n",
       "      <th>0</th>\n",
       "      <td>php开发工程师</td>\n",
       "      <td>重庆赶海科技有限公司</td>\n",
       "      <td>重庆</td>\n",
       "      <td>0.6</td>\n",
       "      <td>0.8</td>\n",
       "    </tr>\n",
       "    <tr>\n",
       "      <th>1</th>\n",
       "      <td>java开发工程师</td>\n",
       "      <td>上海赛可出行科技服务有限公司</td>\n",
       "      <td>南京</td>\n",
       "      <td>1.5</td>\n",
       "      <td>2.5</td>\n",
       "    </tr>\n",
       "    <tr>\n",
       "      <th>2</th>\n",
       "      <td>测试工程师</td>\n",
       "      <td>朗新科技股份有限公司</td>\n",
       "      <td>无锡</td>\n",
       "      <td>0.6</td>\n",
       "      <td>1.0</td>\n",
       "    </tr>\n",
       "    <tr>\n",
       "      <th>3</th>\n",
       "      <td>web开发工程师</td>\n",
       "      <td>快助（天津）科技有限公司</td>\n",
       "      <td>天津</td>\n",
       "      <td>0.8</td>\n",
       "      <td>1.0</td>\n",
       "    </tr>\n",
       "    <tr>\n",
       "      <th>4</th>\n",
       "      <td>销售顾问</td>\n",
       "      <td>上海钢联电子商务股份有限公司</td>\n",
       "      <td>深圳</td>\n",
       "      <td>1.0</td>\n",
       "      <td>1.5</td>\n",
       "    </tr>\n",
       "  </tbody>\n",
       "</table>\n",
       "</div>"
      ],
      "text/plain": [
       "          岗位              公司  地点  最低工资(万/月)  最高工资(万/月)\n",
       "0   php开发工程师      重庆赶海科技有限公司  重庆        0.6        0.8\n",
       "1  java开发工程师  上海赛可出行科技服务有限公司  南京        1.5        2.5\n",
       "2      测试工程师      朗新科技股份有限公司  无锡        0.6        1.0\n",
       "3   web开发工程师    快助（天津）科技有限公司  天津        0.8        1.0\n",
       "4       销售顾问  上海钢联电子商务股份有限公司  深圳        1.0        1.5"
      ]
     },
     "execution_count": 76,
     "metadata": {},
     "output_type": "execute_result"
    }
   ],
   "source": [
    "# index_col 用来指定用作索引的列编号，0表示第一列；\n",
    "# header用来指定用作列名的编号，默认为0，表示取第一行，若不希望设置任何列名，\n",
    "# 则取None，程序默认配置以0开始序列作为列名；\n",
    "df_job03 = pd.read_csv(file01, encoding=\"utf-8\", index_col=None, header=0)\n",
    "df_job03"
   ]
  },
  {
   "cell_type": "markdown",
   "metadata": {},
   "source": [
    "**read_table的用法和read_csv基本一致，如果你希望读取上述文件，只需要额外指定一下文件分隔符：**"
   ]
  },
  {
   "cell_type": "code",
   "execution_count": 79,
   "metadata": {},
   "outputs": [
    {
     "data": {
      "text/html": [
       "<div>\n",
       "<style scoped>\n",
       "    .dataframe tbody tr th:only-of-type {\n",
       "        vertical-align: middle;\n",
       "    }\n",
       "\n",
       "    .dataframe tbody tr th {\n",
       "        vertical-align: top;\n",
       "    }\n",
       "\n",
       "    .dataframe thead th {\n",
       "        text-align: right;\n",
       "    }\n",
       "</style>\n",
       "<table border=\"1\" class=\"dataframe\">\n",
       "  <thead>\n",
       "    <tr style=\"text-align: right;\">\n",
       "      <th></th>\n",
       "      <th>岗位</th>\n",
       "      <th>公司</th>\n",
       "      <th>地点</th>\n",
       "      <th>最低工资(万/月)</th>\n",
       "      <th>最高工资(万/月)</th>\n",
       "    </tr>\n",
       "  </thead>\n",
       "  <tbody>\n",
       "    <tr>\n",
       "      <th>0</th>\n",
       "      <td>php开发工程师</td>\n",
       "      <td>重庆赶海科技有限公司</td>\n",
       "      <td>重庆</td>\n",
       "      <td>0.6</td>\n",
       "      <td>0.8</td>\n",
       "    </tr>\n",
       "    <tr>\n",
       "      <th>1</th>\n",
       "      <td>java开发工程师</td>\n",
       "      <td>上海赛可出行科技服务有限公司</td>\n",
       "      <td>南京</td>\n",
       "      <td>1.5</td>\n",
       "      <td>2.5</td>\n",
       "    </tr>\n",
       "    <tr>\n",
       "      <th>2</th>\n",
       "      <td>测试工程师</td>\n",
       "      <td>朗新科技股份有限公司</td>\n",
       "      <td>无锡</td>\n",
       "      <td>0.6</td>\n",
       "      <td>1.0</td>\n",
       "    </tr>\n",
       "    <tr>\n",
       "      <th>3</th>\n",
       "      <td>web开发工程师</td>\n",
       "      <td>快助（天津）科技有限公司</td>\n",
       "      <td>天津</td>\n",
       "      <td>0.8</td>\n",
       "      <td>1.0</td>\n",
       "    </tr>\n",
       "    <tr>\n",
       "      <th>4</th>\n",
       "      <td>销售顾问</td>\n",
       "      <td>上海钢联电子商务股份有限公司</td>\n",
       "      <td>深圳</td>\n",
       "      <td>1.0</td>\n",
       "      <td>1.5</td>\n",
       "    </tr>\n",
       "  </tbody>\n",
       "</table>\n",
       "</div>"
      ],
      "text/plain": [
       "          岗位              公司  地点  最低工资(万/月)  最高工资(万/月)\n",
       "0   php开发工程师      重庆赶海科技有限公司  重庆        0.6        0.8\n",
       "1  java开发工程师  上海赛可出行科技服务有限公司  南京        1.5        2.5\n",
       "2      测试工程师      朗新科技股份有限公司  无锡        0.6        1.0\n",
       "3   web开发工程师    快助（天津）科技有限公司  天津        0.8        1.0\n",
       "4       销售顾问  上海钢联电子商务股份有限公司  深圳        1.0        1.5"
      ]
     },
     "execution_count": 79,
     "metadata": {},
     "output_type": "execute_result"
    }
   ],
   "source": [
    "df_job04 = pd.read_table(file01, encoding=\"utf-8\", index_col=None, header=0, sep=\",\")\n",
    "df_job04"
   ]
  },
  {
   "cell_type": "markdown",
   "metadata": {},
   "source": [
    "#### <font color=red>函数语法分析</font>"
   ]
  },
  {
   "cell_type": "markdown",
   "metadata": {},
   "source": [
    "<font color =red>read_csv</font>和<font color =red>read_table</font>对文件读取的设置非常灵活"
   ]
  },
  {
   "cell_type": "raw",
   "metadata": {},
   "source": [
    "参数              说明\n",
    "sep或delimiter       文件分隔符\n",
    "header            用作列名的行号，默认为0，如果没有列名则设置为None\n",
    "index_col          用作行索引的列编号\n",
    "names              自定义的列名列表，结合header=None\n",
    "skiprows           需要跳过读取的行数（从文件开始计算），或需要跳过的行号列表（从0开始）\n",
    "nrows              仅读取开始的若干行\n",
    "chunksize          指定文件块的大小（行数），逐块读取\n",
    "encoding           指定unicode的文本编码格式\n",
    "thousands          指定千分位分隔符，例如“，”"
   ]
  },
  {
   "cell_type": "markdown",
   "metadata": {},
   "source": [
    "#### 分块读取"
   ]
  },
  {
   "cell_type": "raw",
   "metadata": {},
   "source": [
    "处理这类超大文件的思路其实非常简单，我们按照一定的顺序分块读取，分批处理进而迭代即可，而这一功能在pandas里非常容易实现"
   ]
  },
  {
   "cell_type": "code",
   "execution_count": 83,
   "metadata": {},
   "outputs": [
    {
     "data": {
      "text/html": [
       "<div>\n",
       "<style scoped>\n",
       "    .dataframe tbody tr th:only-of-type {\n",
       "        vertical-align: middle;\n",
       "    }\n",
       "\n",
       "    .dataframe tbody tr th {\n",
       "        vertical-align: top;\n",
       "    }\n",
       "\n",
       "    .dataframe thead th {\n",
       "        text-align: right;\n",
       "    }\n",
       "</style>\n",
       "<table border=\"1\" class=\"dataframe\">\n",
       "  <thead>\n",
       "    <tr style=\"text-align: right;\">\n",
       "      <th></th>\n",
       "      <th>岗位</th>\n",
       "      <th>公司</th>\n",
       "      <th>地点</th>\n",
       "      <th>最低工资(万/月)</th>\n",
       "      <th>最高工资(万/月)</th>\n",
       "    </tr>\n",
       "  </thead>\n",
       "  <tbody>\n",
       "    <tr>\n",
       "      <th>0</th>\n",
       "      <td>php开发工程师</td>\n",
       "      <td>重庆赶海科技有限公司</td>\n",
       "      <td>重庆</td>\n",
       "      <td>0.6</td>\n",
       "      <td>0.8</td>\n",
       "    </tr>\n",
       "    <tr>\n",
       "      <th>1</th>\n",
       "      <td>java开发工程师</td>\n",
       "      <td>上海赛可出行科技服务有限公司</td>\n",
       "      <td>南京</td>\n",
       "      <td>1.5</td>\n",
       "      <td>2.5</td>\n",
       "    </tr>\n",
       "  </tbody>\n",
       "</table>\n",
       "</div>"
      ],
      "text/plain": [
       "          岗位              公司  地点  最低工资(万/月)  最高工资(万/月)\n",
       "0   php开发工程师      重庆赶海科技有限公司  重庆        0.6        0.8\n",
       "1  java开发工程师  上海赛可出行科技服务有限公司  南京        1.5        2.5"
      ]
     },
     "execution_count": 83,
     "metadata": {},
     "output_type": "execute_result"
    }
   ],
   "source": [
    "# 设置norw参数\n",
    "df_job05 = pd.read_csv(file01, encoding=\"utf-8\", nrows=2)\n",
    "df_job05"
   ]
  },
  {
   "cell_type": "markdown",
   "metadata": {},
   "source": [
    "如果需要逐块读取，需要设置<font color = red>chunksize</font>（行数）参数："
   ]
  },
  {
   "cell_type": "code",
   "execution_count": 85,
   "metadata": {},
   "outputs": [
    {
     "data": {
      "text/plain": [
       "<pandas.io.parsers.TextFileReader at 0x188d4f8ecc8>"
      ]
     },
     "execution_count": 85,
     "metadata": {},
     "output_type": "execute_result"
    }
   ],
   "source": [
    "# 通过制定chunksize，函数返回一个可以迭代的文件读取器\n",
    "chunker = pd.read_csv(file01, encoding=\"utf-8\", chunksize=2)\n",
    "chunker"
   ]
  },
  {
   "cell_type": "code",
   "execution_count": 86,
   "metadata": {},
   "outputs": [
    {
     "name": "stdout",
     "output_type": "stream",
     "text": [
      "          岗位              公司  地点  最低工资(万/月)  最高工资(万/月)\n",
      "0   php开发工程师      重庆赶海科技有限公司  重庆        0.6        0.8\n",
      "1  java开发工程师  上海赛可出行科技服务有限公司  南京        1.5        2.5\n",
      "         岗位            公司  地点  最低工资(万/月)  最高工资(万/月)\n",
      "2     测试工程师    朗新科技股份有限公司  无锡        0.6          1\n",
      "3  web开发工程师  快助（天津）科技有限公司  天津        0.8          1\n",
      "     岗位              公司  地点  最低工资(万/月)  最高工资(万/月)\n",
      "4  销售顾问  上海钢联电子商务股份有限公司  深圳          1        1.5\n"
     ]
    }
   ],
   "source": [
    "# 可以通过循环进行迭代读取。这种方法对读取大文件很有优势。\n",
    "for piece in chunker:\n",
    "    print(piece)"
   ]
  },
  {
   "cell_type": "markdown",
   "metadata": {},
   "source": [
    "#### 读取在线网页中的表格"
   ]
  },
  {
   "cell_type": "raw",
   "metadata": {},
   "source": [
    "Pandas正是利用这样的规则，通过解析网页中的、等标签，来进行网页中表格内容\n",
    "的采集，并直接解析成DataFrame格式。Pandas提供了一个强大的接口函数read_html\n",
    "来提供这样的能力。"
   ]
  },
  {
   "cell_type": "markdown",
   "metadata": {},
   "source": [
    "<font color = red>read_html</font>函数会对发起请求的url进行全局解析"
   ]
  },
  {
   "cell_type": "code",
   "execution_count": 105,
   "metadata": {},
   "outputs": [
    {
     "data": {
      "text/plain": [
       "3"
      ]
     },
     "execution_count": 105,
     "metadata": {},
     "output_type": "execute_result"
    }
   ],
   "source": [
    "tables = pd.read_html(\n",
    "    \"http://eid.csrc.gov.cn/ipo/infoBlock.action?pageNo=1&temp=&temp1=&blockId=1&block=1&blockType=byBlock\",\n",
    "    encoding=\"utf-8\", header=0)\n",
    "len(tables)"
   ]
  },
  {
   "cell_type": "code",
   "execution_count": 106,
   "metadata": {},
   "outputs": [
    {
     "data": {
      "text/html": [
       "<div>\n",
       "<style scoped>\n",
       "    .dataframe tbody tr th:only-of-type {\n",
       "        vertical-align: middle;\n",
       "    }\n",
       "\n",
       "    .dataframe tbody tr th {\n",
       "        vertical-align: top;\n",
       "    }\n",
       "\n",
       "    .dataframe thead th {\n",
       "        text-align: right;\n",
       "    }\n",
       "</style>\n",
       "<table border=\"1\" class=\"dataframe\">\n",
       "  <thead>\n",
       "    <tr style=\"text-align: right;\">\n",
       "      <th></th>\n",
       "      <th>公司名称</th>\n",
       "      <th>披露日期</th>\n",
       "      <th>上市地和板块</th>\n",
       "      <th>保荐机构</th>\n",
       "      <th>披露类型</th>\n",
       "      <th>PDF资料</th>\n",
       "    </tr>\n",
       "  </thead>\n",
       "  <tbody>\n",
       "    <tr>\n",
       "      <th>0</th>\n",
       "      <td>天津鼎维固模架工程股份有限公司</td>\n",
       "      <td>2020-06-24</td>\n",
       "      <td>上交所</td>\n",
       "      <td>国泰君安证券股份有限公司</td>\n",
       "      <td>预先披露</td>\n",
       "      <td>招股说明书</td>\n",
       "    </tr>\n",
       "    <tr>\n",
       "      <th>1</th>\n",
       "      <td>新疆派特罗尔能源服务股份有限公司</td>\n",
       "      <td>2020-06-24</td>\n",
       "      <td>上交所</td>\n",
       "      <td>国泰君安证券股份有限公司</td>\n",
       "      <td>预先披露</td>\n",
       "      <td>招股说明书</td>\n",
       "    </tr>\n",
       "    <tr>\n",
       "      <th>2</th>\n",
       "      <td>爱慕股份有限公司</td>\n",
       "      <td>2020-06-24</td>\n",
       "      <td>上交所</td>\n",
       "      <td>中信建投证券股份有限公司,中原证券股份有限公司</td>\n",
       "      <td>预先披露</td>\n",
       "      <td>招股说明书</td>\n",
       "    </tr>\n",
       "    <tr>\n",
       "      <th>3</th>\n",
       "      <td>绿田机械股份有限公司</td>\n",
       "      <td>2020-06-24</td>\n",
       "      <td>上交所</td>\n",
       "      <td>长江证券承销保荐有限公司</td>\n",
       "      <td>预先披露</td>\n",
       "      <td>招股说明书</td>\n",
       "    </tr>\n",
       "    <tr>\n",
       "      <th>4</th>\n",
       "      <td>中际联合（北京）科技股份有限公司</td>\n",
       "      <td>2020-06-19</td>\n",
       "      <td>上交所</td>\n",
       "      <td>中信建投证券股份有限公司</td>\n",
       "      <td>预先披露更新</td>\n",
       "      <td>招股说明书</td>\n",
       "    </tr>\n",
       "    <tr>\n",
       "      <th>5</th>\n",
       "      <td>德才装饰股份有限公司</td>\n",
       "      <td>2020-06-19</td>\n",
       "      <td>上交所</td>\n",
       "      <td>光大证券股份有限公司</td>\n",
       "      <td>预先披露更新</td>\n",
       "      <td>招股说明书</td>\n",
       "    </tr>\n",
       "    <tr>\n",
       "      <th>6</th>\n",
       "      <td>江苏利柏特股份有限公司</td>\n",
       "      <td>2020-06-19</td>\n",
       "      <td>上交所</td>\n",
       "      <td>海通证券股份有限公司</td>\n",
       "      <td>预先披露</td>\n",
       "      <td>招股说明书</td>\n",
       "    </tr>\n",
       "    <tr>\n",
       "      <th>7</th>\n",
       "      <td>江阴标榜汽车部件股份有限公司</td>\n",
       "      <td>2020-06-19</td>\n",
       "      <td>上交所</td>\n",
       "      <td>广发证券股份有限公司</td>\n",
       "      <td>预先披露</td>\n",
       "      <td>招股说明书</td>\n",
       "    </tr>\n",
       "    <tr>\n",
       "      <th>8</th>\n",
       "      <td>浙江出版传媒股份有限公司</td>\n",
       "      <td>2020-06-19</td>\n",
       "      <td>上交所</td>\n",
       "      <td>财通证券股份有限公司</td>\n",
       "      <td>预先披露</td>\n",
       "      <td>招股说明书</td>\n",
       "    </tr>\n",
       "    <tr>\n",
       "      <th>9</th>\n",
       "      <td>浙江博泰家具股份有限公司</td>\n",
       "      <td>2020-06-19</td>\n",
       "      <td>上交所</td>\n",
       "      <td>中信证券股份有限公司</td>\n",
       "      <td>预先披露</td>\n",
       "      <td>招股说明书</td>\n",
       "    </tr>\n",
       "    <tr>\n",
       "      <th>10</th>\n",
       "      <td>浙江福莱新材料股份有限公司</td>\n",
       "      <td>2020-06-19</td>\n",
       "      <td>上交所</td>\n",
       "      <td>中信证券股份有限公司</td>\n",
       "      <td>预先披露</td>\n",
       "      <td>招股说明书</td>\n",
       "    </tr>\n",
       "    <tr>\n",
       "      <th>11</th>\n",
       "      <td>海天水务集团股份公司</td>\n",
       "      <td>2020-06-19</td>\n",
       "      <td>上交所</td>\n",
       "      <td>华西证券股份有限公司</td>\n",
       "      <td>预先披露更新</td>\n",
       "      <td>招股说明书</td>\n",
       "    </tr>\n",
       "    <tr>\n",
       "      <th>12</th>\n",
       "      <td>湖北犇星新材料股份有限公司</td>\n",
       "      <td>2020-06-19</td>\n",
       "      <td>上交所</td>\n",
       "      <td>国泰君安证券股份有限公司</td>\n",
       "      <td>预先披露</td>\n",
       "      <td>招股说明书</td>\n",
       "    </tr>\n",
       "    <tr>\n",
       "      <th>13</th>\n",
       "      <td>盐城海普润科技股份有限公司</td>\n",
       "      <td>2020-06-19</td>\n",
       "      <td>上交所</td>\n",
       "      <td>中信建投证券股份有限公司</td>\n",
       "      <td>预先披露</td>\n",
       "      <td>招股说明书</td>\n",
       "    </tr>\n",
       "    <tr>\n",
       "      <th>14</th>\n",
       "      <td>立达信物联科技股份有限公司</td>\n",
       "      <td>2020-06-19</td>\n",
       "      <td>上交所</td>\n",
       "      <td>国金证券股份有限公司</td>\n",
       "      <td>预先披露</td>\n",
       "      <td>招股说明书</td>\n",
       "    </tr>\n",
       "    <tr>\n",
       "      <th>15</th>\n",
       "      <td>苏州林华医疗器械股份有限公司</td>\n",
       "      <td>2020-06-19</td>\n",
       "      <td>上交所</td>\n",
       "      <td>国泰君安证券股份有限公司</td>\n",
       "      <td>预先披露更新</td>\n",
       "      <td>招股说明书</td>\n",
       "    </tr>\n",
       "    <tr>\n",
       "      <th>16</th>\n",
       "      <td>威海百合生物技术股份有限公司</td>\n",
       "      <td>2020-06-12</td>\n",
       "      <td>上交所</td>\n",
       "      <td>广发证券股份有限公司</td>\n",
       "      <td>预先披露</td>\n",
       "      <td>招股说明书</td>\n",
       "    </tr>\n",
       "    <tr>\n",
       "      <th>17</th>\n",
       "      <td>山东中农联合生物科技股份有限公司</td>\n",
       "      <td>2020-06-12</td>\n",
       "      <td>上交所</td>\n",
       "      <td>光大证券股份有限公司</td>\n",
       "      <td>预先披露</td>\n",
       "      <td>招股说明书</td>\n",
       "    </tr>\n",
       "    <tr>\n",
       "      <th>18</th>\n",
       "      <td>杭州福莱蒽特股份有限公司</td>\n",
       "      <td>2020-06-12</td>\n",
       "      <td>上交所</td>\n",
       "      <td>中信证券股份有限公司</td>\n",
       "      <td>预先披露</td>\n",
       "      <td>招股说明书</td>\n",
       "    </tr>\n",
       "    <tr>\n",
       "      <th>19</th>\n",
       "      <td>梦天家居集团股份有限公司</td>\n",
       "      <td>2020-06-12</td>\n",
       "      <td>上交所</td>\n",
       "      <td>民生证券股份有限公司</td>\n",
       "      <td>预先披露</td>\n",
       "      <td>招股说明书</td>\n",
       "    </tr>\n",
       "    <tr>\n",
       "      <th>20</th>\n",
       "      <td>共  92  页  1823  条记录 每页  20  条 第  1  页  首页 上一页 ...</td>\n",
       "      <td>共  92  页  1823  条记录 每页  20  条 第  1  页  首页 上一页 ...</td>\n",
       "      <td>共  92  页  1823  条记录 每页  20  条 第  1  页  首页 上一页 ...</td>\n",
       "      <td>共  92  页  1823  条记录 每页  20  条 第  1  页  首页 上一页 ...</td>\n",
       "      <td>共  92  页  1823  条记录 每页  20  条 第  1  页  首页 上一页 ...</td>\n",
       "      <td>共  92  页  1823  条记录 每页  20  条 第  1  页  首页 上一页 ...</td>\n",
       "    </tr>\n",
       "  </tbody>\n",
       "</table>\n",
       "</div>"
      ],
      "text/plain": [
       "                                                 公司名称  \\\n",
       "0                                     天津鼎维固模架工程股份有限公司   \n",
       "1                                    新疆派特罗尔能源服务股份有限公司   \n",
       "2                                            爱慕股份有限公司   \n",
       "3                                          绿田机械股份有限公司   \n",
       "4                                    中际联合（北京）科技股份有限公司   \n",
       "5                                          德才装饰股份有限公司   \n",
       "6                                         江苏利柏特股份有限公司   \n",
       "7                                      江阴标榜汽车部件股份有限公司   \n",
       "8                                        浙江出版传媒股份有限公司   \n",
       "9                                        浙江博泰家具股份有限公司   \n",
       "10                                      浙江福莱新材料股份有限公司   \n",
       "11                                         海天水务集团股份公司   \n",
       "12                                      湖北犇星新材料股份有限公司   \n",
       "13                                      盐城海普润科技股份有限公司   \n",
       "14                                      立达信物联科技股份有限公司   \n",
       "15                                     苏州林华医疗器械股份有限公司   \n",
       "16                                     威海百合生物技术股份有限公司   \n",
       "17                                   山东中农联合生物科技股份有限公司   \n",
       "18                                       杭州福莱蒽特股份有限公司   \n",
       "19                                       梦天家居集团股份有限公司   \n",
       "20  共  92  页  1823  条记录 每页  20  条 第  1  页  首页 上一页 ...   \n",
       "\n",
       "                                                 披露日期  \\\n",
       "0                                          2020-06-24   \n",
       "1                                          2020-06-24   \n",
       "2                                          2020-06-24   \n",
       "3                                          2020-06-24   \n",
       "4                                          2020-06-19   \n",
       "5                                          2020-06-19   \n",
       "6                                          2020-06-19   \n",
       "7                                          2020-06-19   \n",
       "8                                          2020-06-19   \n",
       "9                                          2020-06-19   \n",
       "10                                         2020-06-19   \n",
       "11                                         2020-06-19   \n",
       "12                                         2020-06-19   \n",
       "13                                         2020-06-19   \n",
       "14                                         2020-06-19   \n",
       "15                                         2020-06-19   \n",
       "16                                         2020-06-12   \n",
       "17                                         2020-06-12   \n",
       "18                                         2020-06-12   \n",
       "19                                         2020-06-12   \n",
       "20  共  92  页  1823  条记录 每页  20  条 第  1  页  首页 上一页 ...   \n",
       "\n",
       "                                               上市地和板块  \\\n",
       "0                                                 上交所   \n",
       "1                                                 上交所   \n",
       "2                                                 上交所   \n",
       "3                                                 上交所   \n",
       "4                                                 上交所   \n",
       "5                                                 上交所   \n",
       "6                                                 上交所   \n",
       "7                                                 上交所   \n",
       "8                                                 上交所   \n",
       "9                                                 上交所   \n",
       "10                                                上交所   \n",
       "11                                                上交所   \n",
       "12                                                上交所   \n",
       "13                                                上交所   \n",
       "14                                                上交所   \n",
       "15                                                上交所   \n",
       "16                                                上交所   \n",
       "17                                                上交所   \n",
       "18                                                上交所   \n",
       "19                                                上交所   \n",
       "20  共  92  页  1823  条记录 每页  20  条 第  1  页  首页 上一页 ...   \n",
       "\n",
       "                                                 保荐机构  \\\n",
       "0                                        国泰君安证券股份有限公司   \n",
       "1                                        国泰君安证券股份有限公司   \n",
       "2                             中信建投证券股份有限公司,中原证券股份有限公司   \n",
       "3                                        长江证券承销保荐有限公司   \n",
       "4                                        中信建投证券股份有限公司   \n",
       "5                                          光大证券股份有限公司   \n",
       "6                                          海通证券股份有限公司   \n",
       "7                                          广发证券股份有限公司   \n",
       "8                                          财通证券股份有限公司   \n",
       "9                                          中信证券股份有限公司   \n",
       "10                                         中信证券股份有限公司   \n",
       "11                                         华西证券股份有限公司   \n",
       "12                                       国泰君安证券股份有限公司   \n",
       "13                                       中信建投证券股份有限公司   \n",
       "14                                         国金证券股份有限公司   \n",
       "15                                       国泰君安证券股份有限公司   \n",
       "16                                         广发证券股份有限公司   \n",
       "17                                         光大证券股份有限公司   \n",
       "18                                         中信证券股份有限公司   \n",
       "19                                         民生证券股份有限公司   \n",
       "20  共  92  页  1823  条记录 每页  20  条 第  1  页  首页 上一页 ...   \n",
       "\n",
       "                                                 披露类型  \\\n",
       "0                                                预先披露   \n",
       "1                                                预先披露   \n",
       "2                                                预先披露   \n",
       "3                                                预先披露   \n",
       "4                                              预先披露更新   \n",
       "5                                              预先披露更新   \n",
       "6                                                预先披露   \n",
       "7                                                预先披露   \n",
       "8                                                预先披露   \n",
       "9                                                预先披露   \n",
       "10                                               预先披露   \n",
       "11                                             预先披露更新   \n",
       "12                                               预先披露   \n",
       "13                                               预先披露   \n",
       "14                                               预先披露   \n",
       "15                                             预先披露更新   \n",
       "16                                               预先披露   \n",
       "17                                               预先披露   \n",
       "18                                               预先披露   \n",
       "19                                               预先披露   \n",
       "20  共  92  页  1823  条记录 每页  20  条 第  1  页  首页 上一页 ...   \n",
       "\n",
       "                                                PDF资料  \n",
       "0                                               招股说明书  \n",
       "1                                               招股说明书  \n",
       "2                                               招股说明书  \n",
       "3                                               招股说明书  \n",
       "4                                               招股说明书  \n",
       "5                                               招股说明书  \n",
       "6                                               招股说明书  \n",
       "7                                               招股说明书  \n",
       "8                                               招股说明书  \n",
       "9                                               招股说明书  \n",
       "10                                              招股说明书  \n",
       "11                                              招股说明书  \n",
       "12                                              招股说明书  \n",
       "13                                              招股说明书  \n",
       "14                                              招股说明书  \n",
       "15                                              招股说明书  \n",
       "16                                              招股说明书  \n",
       "17                                              招股说明书  \n",
       "18                                              招股说明书  \n",
       "19                                              招股说明书  \n",
       "20  共  92  页  1823  条记录 每页  20  条 第  1  页  首页 上一页 ...  "
      ]
     },
     "execution_count": 106,
     "metadata": {},
     "output_type": "execute_result"
    }
   ],
   "source": [
    "tables[2]"
   ]
  },
  {
   "cell_type": "markdown",
   "metadata": {},
   "source": [
    "### Pandas数据保存"
   ]
  },
  {
   "cell_type": "raw",
   "metadata": {},
   "source": [
    "数据保存是数据读取的逆过程，可以利用DataFrame提供的to_csv方法，将数据保存到指定路径以及指定格式。"
   ]
  },
  {
   "cell_type": "markdown",
   "metadata": {},
   "source": [
    "**在路径前面加<font color=red>r</font>，即保持字符原始值的意思。**"
   ]
  },
  {
   "cell_type": "code",
   "execution_count": 115,
   "metadata": {},
   "outputs": [],
   "source": [
    "# 把tables[2]保存为txt文本，保存的部分包括正文、列名、索引等全部内容\"\n",
    "tables[2][:-1].to_csv(r\"C:\\Users\\16526\\Desktop\\电网项目\\dataset\\1.txt\", sep=\"\\t\",index=False)"
   ]
  },
  {
   "cell_type": "code",
   "execution_count": 114,
   "metadata": {},
   "outputs": [],
   "source": [
    "# 利用iloc索引，选择我们需要保存的区域；\n",
    "# 设置index=False，不保存索引\n",
    "tables[2].iloc[:-1, :].to_csv(r\"C:\\Users\\16526\\Desktop\\电网项目\\dataset\\2.txt\", sep=\"\\t\", index=False)"
   ]
  },
  {
   "cell_type": "markdown",
   "metadata": {},
   "source": [
    "#### 拓展：如何翻页采集数据"
   ]
  },
  {
   "cell_type": "raw",
   "metadata": {},
   "source": [
    "上面提供的证监会的查询页面，一共有1716条记录，共86页。大家尝试在页面上进行翻页操作、并观察地址栏的url变化情况的话，会发现变化的仅仅是pageNo部分，通过更改pageNo的值达到翻页效果。"
   ]
  },
  {
   "cell_type": "code",
   "execution_count": 119,
   "metadata": {},
   "outputs": [],
   "source": [
    "# 利用循环，更改pageNo的值，达到翻页效果；\n",
    "# 完成数据采集后，通过设置写入模式mode，进行覆盖写入或者追加写入\n",
    "# 这里以采集前5页为例\n",
    "import time\n",
    "\n",
    "for page in [1,2,3,4,5]:\n",
    "    url = \"http://eid.csrc.gov.cn/ipo/infoBlock.action?pageNo={}&temp=&temp1=&blockId=1&block=1&blockType=byBlock\".format(page)\n",
    "    # 控制数据采集的频率\n",
    "    time.sleep(1)\n",
    "    tables = pd.read_html(url, encoding=\"utf-8\", header=0)\n",
    "    # 对首页进行判断，如果是首页，则把列名写入，否则，只写入正文内容\n",
    "    if page == 1:\n",
    "        tables[2].iloc[:-1, :].to_csv(r\"C:\\Users\\16526\\Desktop\\电网项目\\dataset\\3.txt\", sep=\"\\t\", index=False, mode=\"w\")\n",
    "    else:\n",
    "        tables[2].iloc[:-1, :].to_csv(r\"C:\\Users\\16526\\Desktop\\电网项目\\dataset\\3.txt\", sep=\"\\t\", header=None, index=False, mode=\"a\")"
   ]
  },
  {
   "cell_type": "code",
   "execution_count": null,
   "metadata": {},
   "outputs": [],
   "source": []
  }
 ],
 "metadata": {
  "kernelspec": {
   "display_name": "Python 3",
   "language": "python",
   "name": "python3"
  },
  "language_info": {
   "codemirror_mode": {
    "name": "ipython",
    "version": 3
   },
   "file_extension": ".py",
   "mimetype": "text/x-python",
   "name": "python",
   "nbconvert_exporter": "python",
   "pygments_lexer": "ipython3",
   "version": "3.7.6"
  },
  "toc": {
   "base_numbering": 1,
   "nav_menu": {},
   "number_sections": true,
   "sideBar": true,
   "skip_h1_title": false,
   "title_cell": "Table of Contents",
   "title_sidebar": "Contents",
   "toc_cell": false,
   "toc_position": {
    "height": "calc(100% - 180px)",
    "left": "10px",
    "top": "150px",
    "width": "240px"
   },
   "toc_section_display": true,
   "toc_window_display": true
  }
 },
 "nbformat": 4,
 "nbformat_minor": 1
}
